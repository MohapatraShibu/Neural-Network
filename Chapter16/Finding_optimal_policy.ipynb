{
  "nbformat": 4,
  "nbformat_minor": 0,
  "metadata": {
    "colab": {
      "name": "Finding optimal policy.ipynb",
      "provenance": [],
      "collapsed_sections": []
    },
    "kernelspec": {
      "name": "python3",
      "display_name": "Python 3"
    }
  },
  "cells": [
    {
      "cell_type": "markdown",
      "metadata": {
        "id": "_QNO4jB53HN3",
        "colab_type": "text"
      },
      "source": [
        "https://colab.research.google.com/drive/1B34e1TdPsId5VeHuuFXYuuHz0dcoEml6"
      ]
    },
    {
      "cell_type": "code",
      "metadata": {
        "id": "bWBa0yFm19TZ",
        "colab_type": "code",
        "colab": {}
      },
      "source": [
        "empty_board = [0,0,0]"
      ],
      "execution_count": 0,
      "outputs": []
    },
    {
      "cell_type": "code",
      "metadata": {
        "id": "JAm-4qmb6Qdi",
        "colab_type": "code",
        "colab": {}
      },
      "source": [
        "import random"
      ],
      "execution_count": 0,
      "outputs": []
    },
    {
      "cell_type": "code",
      "metadata": {
        "id": "3yAORNpy6R8g",
        "colab_type": "code",
        "outputId": "67dee2df-7e46-4788-c817-83bdb91458b9",
        "colab": {
          "base_uri": "https://localhost:8080/",
          "height": 34
        }
      },
      "source": [
        "samp = random.sample(range(3), 1)[0]\n",
        "samp"
      ],
      "execution_count": 0,
      "outputs": [
        {
          "output_type": "execute_result",
          "data": {
            "text/plain": [
              "0"
            ]
          },
          "metadata": {
            "tags": []
          },
          "execution_count": 6
        }
      ]
    },
    {
      "cell_type": "code",
      "metadata": {
        "id": "X7VNFGM_6arp",
        "colab_type": "code",
        "colab": {}
      },
      "source": [
        "empty_board[samp]=1"
      ],
      "execution_count": 0,
      "outputs": []
    },
    {
      "cell_type": "code",
      "metadata": {
        "id": "59MRZZNo6lWw",
        "colab_type": "code",
        "outputId": "067b3155-c024-4887-bd10-c00bcf357a3e",
        "colab": {
          "base_uri": "https://localhost:8080/",
          "height": 34
        }
      },
      "source": [
        "empty_board==0"
      ],
      "execution_count": 0,
      "outputs": [
        {
          "output_type": "execute_result",
          "data": {
            "text/plain": [
              "False"
            ]
          },
          "metadata": {
            "tags": []
          },
          "execution_count": 8
        }
      ]
    },
    {
      "cell_type": "code",
      "metadata": {
        "id": "j8G8_RoN6o23",
        "colab_type": "code",
        "outputId": "96e23929-a1d3-48ce-9a2c-fb0ce35dcc13",
        "colab": {
          "base_uri": "https://localhost:8080/",
          "height": 34
        }
      },
      "source": [
        "[i for i in empty_board if i==0]"
      ],
      "execution_count": 0,
      "outputs": [
        {
          "output_type": "execute_result",
          "data": {
            "text/plain": [
              "[0, 0]"
            ]
          },
          "metadata": {
            "tags": []
          },
          "execution_count": 10
        }
      ]
    },
    {
      "cell_type": "code",
      "metadata": {
        "id": "aOu4anrH7EwK",
        "colab_type": "code",
        "colab": {}
      },
      "source": [
        "index_to_choose = [i for i,j in enumerate(empty_board) if j==0]"
      ],
      "execution_count": 0,
      "outputs": []
    },
    {
      "cell_type": "code",
      "metadata": {
        "id": "M_YN1Qlg7YlJ",
        "colab_type": "code",
        "outputId": "6758ce69-dc44-4e71-8e4a-79d1aa3bed1f",
        "colab": {
          "base_uri": "https://localhost:8080/",
          "height": 34
        }
      },
      "source": [
        "samp2 = random.sample(range(len(index_to_choose)), 1)[0]\n",
        "samp2"
      ],
      "execution_count": 0,
      "outputs": [
        {
          "output_type": "execute_result",
          "data": {
            "text/plain": [
              "1"
            ]
          },
          "metadata": {
            "tags": []
          },
          "execution_count": 18
        }
      ]
    },
    {
      "cell_type": "code",
      "metadata": {
        "id": "nQLKN_S68QUP",
        "colab_type": "code",
        "colab": {}
      },
      "source": [
        "empty_board[samp2]=2"
      ],
      "execution_count": 0,
      "outputs": []
    },
    {
      "cell_type": "code",
      "metadata": {
        "id": "lRmwzJPZ8Th7",
        "colab_type": "code",
        "outputId": "584eb936-c337-42c7-a79e-1e7d6f5b991c",
        "colab": {
          "base_uri": "https://localhost:8080/",
          "height": 119
        }
      },
      "source": [
        "empty_board = [0,0,0]\n",
        "for step in range(3):\n",
        "  index_to_choose = [i for i,j in enumerate(empty_board) if j==0]\n",
        "  samp = random.sample(range(len(index_to_choose)), 1)[0]\n",
        "  print(samp, index_to_choose)\n",
        "  if(step%2==0):\n",
        "    empty_board[index_to_choose[samp]]=1\n",
        "  else:\n",
        "    empty_board[index_to_choose[samp]]=2\n",
        "  print(empty_board)"
      ],
      "execution_count": 0,
      "outputs": [
        {
          "output_type": "stream",
          "text": [
            "0 [0, 1, 2]\n",
            "[1, 0, 0]\n",
            "1 [1, 2]\n",
            "[1, 0, 2]\n",
            "0 [1]\n",
            "[1, 1, 2]\n"
          ],
          "name": "stdout"
        }
      ]
    },
    {
      "cell_type": "code",
      "metadata": {
        "id": "5FsF0WCl8nio",
        "colab_type": "code",
        "colab": {}
      },
      "source": [
        "reward = 0\n",
        "if((empty_board[0]==1 & empty_board[1]==1) | (empty_board[1]==1 & empty_board[2]==1)):\n",
        "  reward = 1\n",
        "else:\n",
        "  reward = 0"
      ],
      "execution_count": 0,
      "outputs": []
    },
    {
      "cell_type": "code",
      "metadata": {
        "id": "9UkWLvW08oQR",
        "colab_type": "code",
        "colab": {}
      },
      "source": [
        "def play_game():\n",
        "  empty_board = [0,0,0]\n",
        "  #print(empty_board)\n",
        "  move = []\n",
        "  for step in range(3):\n",
        "    index_to_choose = [i for i,j in enumerate(empty_board) if j==0]\n",
        "    samp = random.sample(range(len(index_to_choose)), 1)[0]    \n",
        "    if(step%2==0):\n",
        "      empty_board[index_to_choose[samp]]=1\n",
        "      move.append(index_to_choose[samp])\n",
        "      #print('player1:',reward(empty_board))\n",
        "      \n",
        "    else:\n",
        "      empty_board[index_to_choose[samp]]=2\n",
        "      #print('player2:',reward(empty_board))\n",
        "      \n",
        "  #print(empty_board, move)\n",
        "  return(reward(empty_board), move[0])"
      ],
      "execution_count": 0,
      "outputs": []
    },
    {
      "cell_type": "code",
      "metadata": {
        "id": "3i-SwZGD92bc",
        "colab_type": "code",
        "colab": {}
      },
      "source": [
        "def reward(empty_board):\n",
        "  reward = 0\n",
        "  if((empty_board[0]==1 & empty_board[1]==1) | (empty_board[1]==1 & empty_board[2]==1)):\n",
        "    reward = 1\n",
        "  else:\n",
        "    reward = 0\n",
        "  return reward"
      ],
      "execution_count": 0,
      "outputs": []
    },
    {
      "cell_type": "code",
      "metadata": {
        "id": "-61Woa3Q9z-X",
        "colab_type": "code",
        "outputId": "3ea0a9c7-2553-4299-ef47-3ef68acedab9",
        "colab": {
          "base_uri": "https://localhost:8080/",
          "height": 34
        }
      },
      "source": [
        "play_game()"
      ],
      "execution_count": 0,
      "outputs": [
        {
          "output_type": "execute_result",
          "data": {
            "text/plain": [
              "(0, 2)"
            ]
          },
          "metadata": {
            "tags": []
          },
          "execution_count": 81
        }
      ]
    },
    {
      "cell_type": "code",
      "metadata": {
        "id": "5N4frLX_-NIZ",
        "colab_type": "code",
        "colab": {}
      },
      "source": [
        "rew = []\n",
        "step = []\n",
        "for i in range(100):\n",
        "  r, move = play_game()\n",
        "  rew.append(r)\n",
        "  step.append(move)  "
      ],
      "execution_count": 0,
      "outputs": []
    },
    {
      "cell_type": "code",
      "metadata": {
        "id": "o65Eya4AAhT2",
        "colab_type": "code",
        "colab": {}
      },
      "source": [
        "sub_list = [i for i,j in enumerate(step) if j==1]"
      ],
      "execution_count": 0,
      "outputs": []
    },
    {
      "cell_type": "code",
      "metadata": {
        "id": "RQWtrCx2A96h",
        "colab_type": "code",
        "outputId": "a8fef8ec-00a8-4cfc-908b-f3c4eae5f1da",
        "colab": {
          "base_uri": "https://localhost:8080/",
          "height": 34
        }
      },
      "source": [
        "sub_list = [i for i,j in enumerate(step) if j==2]\n",
        "final_reward = 0\n",
        "count = 0\n",
        "for i in sub_list:\n",
        "  final_reward += rew[i]\n",
        "  count+=1\n",
        "final_reward/count"
      ],
      "execution_count": 0,
      "outputs": [
        {
          "output_type": "execute_result",
          "data": {
            "text/plain": [
              "0.7"
            ]
          },
          "metadata": {
            "tags": []
          },
          "execution_count": 106
        }
      ]
    },
    {
      "cell_type": "code",
      "metadata": {
        "id": "aPuYkXiRBlO7",
        "colab_type": "code",
        "colab": {}
      },
      "source": [
        ""
      ],
      "execution_count": 0,
      "outputs": []
    },
    {
      "cell_type": "code",
      "metadata": {
        "id": "SYYXOgK0C-Zt",
        "colab_type": "code",
        "colab": {}
      },
      "source": [
        ""
      ],
      "execution_count": 0,
      "outputs": []
    },
    {
      "cell_type": "code",
      "metadata": {
        "id": "zI1CgpelC-c9",
        "colab_type": "code",
        "colab": {}
      },
      "source": [
        ""
      ],
      "execution_count": 0,
      "outputs": []
    },
    {
      "cell_type": "code",
      "metadata": {
        "id": "ANua1He8C-fY",
        "colab_type": "code",
        "colab": {}
      },
      "source": [
        "empty_board = [[0,0,0]\n",
        "               ,[0,0,1]]"
      ],
      "execution_count": 0,
      "outputs": []
    },
    {
      "cell_type": "code",
      "metadata": {
        "id": "hzpc3J_GC-ii",
        "colab_type": "code",
        "colab": {}
      },
      "source": [
        "state_actions = {(0,0):('D','R')\n",
        "                 ,(0,1):('D','R','L')\n",
        "                 ,(0,2):('D','L')\n",
        "                 ,(1,0):('U','R')\n",
        "                 ,(1,1):('L','U','R')\n",
        "                \n",
        "                }"
      ],
      "execution_count": 0,
      "outputs": []
    },
    {
      "cell_type": "code",
      "metadata": {
        "id": "sMMYi8quQTyR",
        "colab_type": "code",
        "colab": {}
      },
      "source": [
        "state_actions = {(0,0):('D','R')\n",
        "                 ,(0,1):('D','R')\n",
        "                 ,(0,2):('D')\n",
        "                 ,(1,0):('R')\n",
        "                 ,(1,1):('R')                \n",
        "                \n",
        "                }"
      ],
      "execution_count": 0,
      "outputs": []
    },
    {
      "cell_type": "code",
      "metadata": {
        "id": "oBpWFaT7G-Bh",
        "colab_type": "code",
        "colab": {}
      },
      "source": [
        "def get_next_state(curr_state, action):\n",
        "  i,j = curr_state\n",
        "  if action=='D':\n",
        "    i = i+1\n",
        "  elif action=='U':\n",
        "    i = i-1\n",
        "  elif action=='R':\n",
        "    j = j+1\n",
        "  elif action=='L':\n",
        "    j = j-1\n",
        "  else:\n",
        "    print('unk')\n",
        "  return((i,j))"
      ],
      "execution_count": 0,
      "outputs": []
    },
    {
      "cell_type": "code",
      "metadata": {
        "id": "yvGvNvftGn9Z",
        "colab_type": "code",
        "colab": {}
      },
      "source": [
        "curr_state = (0,0)"
      ],
      "execution_count": 0,
      "outputs": []
    },
    {
      "cell_type": "code",
      "metadata": {
        "id": "DavjPb1sM7om",
        "colab_type": "code",
        "colab": {}
      },
      "source": [
        "def print_values():\n",
        "  print(empty_board[:][0])\n",
        "  print(empty_board[:][1])\n",
        "  "
      ],
      "execution_count": 0,
      "outputs": []
    },
    {
      "cell_type": "code",
      "metadata": {
        "id": "E5NFXOiWIKds",
        "colab_type": "code",
        "outputId": "3481e84f-ab9b-45ec-c41a-5eeaec18a80d",
        "colab": {
          "base_uri": "https://localhost:8080/",
          "height": 527
        }
      },
      "source": [
        "state_action_reward = []\n",
        "state = []\n",
        "state_action = []\n",
        "for m in range(100):\n",
        "  curr_state = (0,0)\n",
        "  for k in range(100):\n",
        "    reward = 0\n",
        "    action = state_actions[curr_state][random.sample(range(len(state_actions[curr_state])),1)[0]]\n",
        "    #print('action:', action)\n",
        "    next_state = get_next_state(curr_state, action)\n",
        "    #print('next state:', next_state)\n",
        "    state.append(curr_state)\n",
        "    \n",
        "    #print('next state value:', empty_board[next_state[0]][next_state[1]])\n",
        "    \n",
        "    empty_board[curr_state[0]][curr_state[1]] = reward + empty_board[next_state[0]][next_state[1]]*0.9 \n",
        "    \n",
        "    #print('reward:', reward, 'updated current state value:', empty_board[curr_state[0]][curr_state[1]])\n",
        "\n",
        "    curr_state = next_state\n",
        "    state_action.append(action)\n",
        "\n",
        "    if(next_state==(1,2)):\n",
        "      reward+=1\n",
        "      break\n",
        "  if(m%10==0):\n",
        "    print('==========')\n",
        "    print_values()\n",
        "  "
      ],
      "execution_count": 0,
      "outputs": [
        {
          "output_type": "stream",
          "text": [
            "==========\n",
            "[0.7290000000000001, 0.81, 0.9]\n",
            "[0.81, 0.9, 1]\n",
            "==========\n",
            "[0.7290000000000001, 0.81, 0.9]\n",
            "[0.81, 0.9, 1]\n",
            "==========\n",
            "[0.7290000000000001, 0.81, 0.9]\n",
            "[0.81, 0.9, 1]\n",
            "==========\n",
            "[0.7290000000000001, 0.81, 0.9]\n",
            "[0.81, 0.9, 1]\n",
            "==========\n",
            "[0.7290000000000001, 0.81, 0.9]\n",
            "[0.81, 0.9, 1]\n",
            "==========\n",
            "[0.7290000000000001, 0.81, 0.9]\n",
            "[0.81, 0.9, 1]\n",
            "==========\n",
            "[0.7290000000000001, 0.81, 0.9]\n",
            "[0.81, 0.9, 1]\n",
            "==========\n",
            "[0.7290000000000001, 0.81, 0.9]\n",
            "[0.81, 0.9, 1]\n",
            "==========\n",
            "[0.7290000000000001, 0.81, 0.9]\n",
            "[0.81, 0.9, 1]\n",
            "==========\n",
            "[0.7290000000000001, 0.81, 0.9]\n",
            "[0.81, 0.9, 1]\n"
          ],
          "name": "stdout"
        }
      ]
    },
    {
      "cell_type": "code",
      "metadata": {
        "id": "5f0o7YOEQaig",
        "colab_type": "code",
        "colab": {}
      },
      "source": [
        ""
      ],
      "execution_count": 0,
      "outputs": []
    },
    {
      "cell_type": "code",
      "metadata": {
        "id": "XtDhdvjhQalI",
        "colab_type": "code",
        "colab": {}
      },
      "source": [
        ""
      ],
      "execution_count": 0,
      "outputs": []
    },
    {
      "cell_type": "markdown",
      "metadata": {
        "id": "zP8RMmSixs3B",
        "colab_type": "text"
      },
      "source": [
        "# Optimal policy with negative reward"
      ]
    },
    {
      "cell_type": "code",
      "metadata": {
        "id": "2dwx40ruQaoT",
        "colab_type": "code",
        "colab": {}
      },
      "source": [
        "empty_board = [[0,0,-1]\n",
        "               ,[0,0,1]]"
      ],
      "execution_count": 0,
      "outputs": []
    },
    {
      "cell_type": "code",
      "metadata": {
        "id": "gYauc2UjQhPf",
        "colab_type": "code",
        "colab": {}
      },
      "source": [
        "state_actions = {(0,0):('D','R')\n",
        "                 ,(0,1):('D','R')\n",
        "                 ,(1,0):('R')\n",
        "                 ,(1,1):('R')                \n",
        "                \n",
        "                }"
      ],
      "execution_count": 0,
      "outputs": []
    },
    {
      "cell_type": "code",
      "metadata": {
        "id": "mjdAJEqJQkDd",
        "colab_type": "code",
        "colab": {}
      },
      "source": [
        "def get_next_state(curr_state, action):\n",
        "  i,j = curr_state\n",
        "  if action=='D':\n",
        "    i = i+1\n",
        "  elif action=='U':\n",
        "    i = i-1\n",
        "  elif action=='R':\n",
        "    j = j+1\n",
        "  elif action=='L':\n",
        "    j = j-1\n",
        "  else:\n",
        "    print('unk')\n",
        "  return((i,j))"
      ],
      "execution_count": 0,
      "outputs": []
    },
    {
      "cell_type": "code",
      "metadata": {
        "id": "8cMIyu3eQm0u",
        "colab_type": "code",
        "colab": {}
      },
      "source": [
        "curr_state = (0,0)"
      ],
      "execution_count": 0,
      "outputs": []
    },
    {
      "cell_type": "code",
      "metadata": {
        "id": "vy1SYVQfQpbR",
        "colab_type": "code",
        "outputId": "62143b84-5ca7-4d34-8770-94828672bc5c",
        "colab": {
          "base_uri": "https://localhost:8080/",
          "height": 527
        }
      },
      "source": [
        "state_action_reward = []\n",
        "state = []\n",
        "state_action = []\n",
        "for m in range(100):\n",
        "  curr_state = (0,0)\n",
        "  for k in range(100):\n",
        "    reward = 0\n",
        "    action = state_actions[curr_state][random.sample(range(len(state_actions[curr_state])),1)[0]]\n",
        "    #print('action:', action)\n",
        "    next_state = get_next_state(curr_state, action)\n",
        "    #print('next state:', next_state)\n",
        "    state.append(curr_state)\n",
        "    \n",
        "    #print('next state value:', empty_board[next_state[0]][next_state[1]])\n",
        "    \n",
        "    empty_board[curr_state[0]][curr_state[1]] = reward + empty_board[next_state[0]][next_state[1]]*0.9 \n",
        "    \n",
        "    #print('reward:', reward, 'updated current state value:', empty_board[curr_state[0]][curr_state[1]])\n",
        "\n",
        "    curr_state = next_state\n",
        "    state_action.append(action)\n",
        "    \n",
        "    if(next_state==(0,2)):\n",
        "      break\n",
        "    if(next_state==(1,2)):\n",
        "      break\n",
        "  if(m%10==0):\n",
        "    print('==========')\n",
        "    print_values()\n",
        "  "
      ],
      "execution_count": 0,
      "outputs": [
        {
          "output_type": "stream",
          "text": [
            "==========\n",
            "[0.0, 0.0, -1]\n",
            "[0, 0.9, 1]\n",
            "==========\n",
            "[0.7290000000000001, 0.81, -1]\n",
            "[0.81, 0.9, 1]\n",
            "==========\n",
            "[0.7290000000000001, 0.81, -1]\n",
            "[0.81, 0.9, 1]\n",
            "==========\n",
            "[0.7290000000000001, 0.81, -1]\n",
            "[0.81, 0.9, 1]\n",
            "==========\n",
            "[0.7290000000000001, 0.81, -1]\n",
            "[0.81, 0.9, 1]\n",
            "==========\n",
            "[0.7290000000000001, -0.9, -1]\n",
            "[0.81, 0.9, 1]\n",
            "==========\n",
            "[0.7290000000000001, -0.9, -1]\n",
            "[0.81, 0.9, 1]\n",
            "==========\n",
            "[-0.81, -0.9, -1]\n",
            "[0.81, 0.9, 1]\n",
            "==========\n",
            "[-0.81, -0.9, -1]\n",
            "[0.81, 0.9, 1]\n",
            "==========\n",
            "[0.7290000000000001, -0.9, -1]\n",
            "[0.81, 0.9, 1]\n"
          ],
          "name": "stdout"
        }
      ]
    },
    {
      "cell_type": "code",
      "metadata": {
        "id": "W-sOKZjVQtWq",
        "colab_type": "code",
        "colab": {}
      },
      "source": [
        ""
      ],
      "execution_count": 0,
      "outputs": []
    },
    {
      "cell_type": "code",
      "metadata": {
        "id": "QSQruAysdfec",
        "colab_type": "code",
        "colab": {}
      },
      "source": [
        ""
      ],
      "execution_count": 0,
      "outputs": []
    },
    {
      "cell_type": "code",
      "metadata": {
        "id": "ugC3ltiydfhp",
        "colab_type": "code",
        "colab": {}
      },
      "source": [
        ""
      ],
      "execution_count": 0,
      "outputs": []
    }
  ]
}