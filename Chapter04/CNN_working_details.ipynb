{
  "nbformat": 4,
  "nbformat_minor": 0,
  "metadata": {
    "colab": {
      "name": "CNN_working_details.ipynb",
      "provenance": [],
      "collapsed_sections": []
    },
    "kernelspec": {
      "name": "python3",
      "display_name": "Python 3"
    }
  },
  "cells": [
    {
      "cell_type": "markdown",
      "metadata": {
        "id": "HwAIMHsYDC-W",
        "colab_type": "text"
      },
      "source": [
        "https://colab.research.google.com/drive/1QehP6u9S494MeKZ4msD77OypupcXo5Oi"
      ]
    },
    {
      "cell_type": "code",
      "metadata": {
        "id": "puIsEWkkpuMK",
        "colab_type": "code",
        "outputId": "be577f62-6701-4d06-b830-a542e7a8bfb3",
        "colab": {
          "base_uri": "https://localhost:8080/",
          "height": 34
        }
      },
      "source": [
        "from keras.models import Sequential\n",
        "from keras.layers import Dense\n",
        "from keras.layers import Dropout\n",
        "from keras.utils import np_utils\n",
        "from keras.layers import Conv2D, MaxPooling2D, Flatten\n",
        "from keras.utils import to_categorical"
      ],
      "execution_count": 0,
      "outputs": [
        {
          "output_type": "stream",
          "text": [
            "Using TensorFlow backend.\n"
          ],
          "name": "stderr"
        }
      ]
    },
    {
      "cell_type": "code",
      "metadata": {
        "id": "pcpyCqxkrknA",
        "colab_type": "code",
        "colab": {}
      },
      "source": [
        "import numpy as np\n",
        "X_train=np.array([[[1,2,3,4],[2,3,4,5],[5,6,7,8],[1,3,4,5]],[[-1,2,3,-4],[2,-3,4,5],[-5,6,-7,8],[-1,-3,-4,-5]]])\n",
        "y_train=np.array([0,1])"
      ],
      "execution_count": 0,
      "outputs": []
    },
    {
      "cell_type": "code",
      "metadata": {
        "id": "7hZUsu5Us16k",
        "colab_type": "code",
        "colab": {}
      },
      "source": [
        "X_train = X_train / 8\n",
        "#y_train = to_categorical(y_train)"
      ],
      "execution_count": 0,
      "outputs": []
    },
    {
      "cell_type": "code",
      "metadata": {
        "id": "W-miAKq2s19j",
        "colab_type": "code",
        "colab": {}
      },
      "source": [
        "X_train = X_train.reshape(X_train.shape[0],X_train.shape[1],X_train.shape[1],1 ).astype('float32')"
      ],
      "execution_count": 0,
      "outputs": []
    },
    {
      "cell_type": "code",
      "metadata": {
        "id": "IWTZbfHYr-ql",
        "colab_type": "code",
        "outputId": "c616f78d-97fc-4430-e419-b4dd5b1de3d0",
        "colab": {
          "base_uri": "https://localhost:8080/",
          "height": 564
        }
      },
      "source": [
        "model = Sequential()\n",
        "model.add(Conv2D(1, (3,3), input_shape=(4,4,1),activation='relu', name='Convolution_layer'))\n",
        "model.add(MaxPooling2D(pool_size=(2, 2), name='Pooling_layer'))\n",
        "model.add(Flatten(name='Flatten_layer'))\n",
        "model.add(Dense(1, activation='sigmoid', name = 'Output_layer'))\n",
        "model.compile(loss='binary_crossentropy', optimizer='adam',metrics=['accuracy'])\n",
        "model.summary()"
      ],
      "execution_count": 0,
      "outputs": [
        {
          "output_type": "stream",
          "text": [
            "WARNING:tensorflow:From /usr/local/lib/python3.6/dist-packages/keras/backend/tensorflow_backend.py:66: The name tf.get_default_graph is deprecated. Please use tf.compat.v1.get_default_graph instead.\n",
            "\n",
            "WARNING:tensorflow:From /usr/local/lib/python3.6/dist-packages/keras/backend/tensorflow_backend.py:541: The name tf.placeholder is deprecated. Please use tf.compat.v1.placeholder instead.\n",
            "\n",
            "WARNING:tensorflow:From /usr/local/lib/python3.6/dist-packages/keras/backend/tensorflow_backend.py:4432: The name tf.random_uniform is deprecated. Please use tf.random.uniform instead.\n",
            "\n",
            "WARNING:tensorflow:From /usr/local/lib/python3.6/dist-packages/keras/backend/tensorflow_backend.py:4267: The name tf.nn.max_pool is deprecated. Please use tf.nn.max_pool2d instead.\n",
            "\n",
            "WARNING:tensorflow:From /usr/local/lib/python3.6/dist-packages/keras/optimizers.py:793: The name tf.train.Optimizer is deprecated. Please use tf.compat.v1.train.Optimizer instead.\n",
            "\n",
            "WARNING:tensorflow:From /usr/local/lib/python3.6/dist-packages/keras/backend/tensorflow_backend.py:3657: The name tf.log is deprecated. Please use tf.math.log instead.\n",
            "\n",
            "WARNING:tensorflow:From /usr/local/lib/python3.6/dist-packages/tensorflow/python/ops/nn_impl.py:180: add_dispatch_support.<locals>.wrapper (from tensorflow.python.ops.array_ops) is deprecated and will be removed in a future version.\n",
            "Instructions for updating:\n",
            "Use tf.where in 2.0, which has the same broadcast rule as np.where\n",
            "Model: \"sequential_1\"\n",
            "_________________________________________________________________\n",
            "Layer (type)                 Output Shape              Param #   \n",
            "=================================================================\n",
            "Convolution_layer (Conv2D)   (None, 2, 2, 1)           10        \n",
            "_________________________________________________________________\n",
            "Pooling_layer (MaxPooling2D) (None, 1, 1, 1)           0         \n",
            "_________________________________________________________________\n",
            "Flatten_layer (Flatten)      (None, 1)                 0         \n",
            "_________________________________________________________________\n",
            "Output_layer (Dense)         (None, 1)                 2         \n",
            "=================================================================\n",
            "Total params: 12\n",
            "Trainable params: 12\n",
            "Non-trainable params: 0\n",
            "_________________________________________________________________\n"
          ],
          "name": "stdout"
        }
      ]
    },
    {
      "cell_type": "code",
      "metadata": {
        "id": "P-o-bamUwQ4c",
        "colab_type": "code",
        "colab": {}
      },
      "source": [
        "history = model.fit(X_train, y_train, epochs = 1000)"
      ],
      "execution_count": 0,
      "outputs": []
    },
    {
      "cell_type": "code",
      "metadata": {
        "id": "dfvSDarzP0Cp",
        "colab_type": "code",
        "outputId": "45179755-bc7c-4b39-f7c7-e7b9a12c360a",
        "colab": {
          "base_uri": "https://localhost:8080/",
          "height": 388
        }
      },
      "source": [
        "history_dict = history.history\n",
        "loss_values = history_dict['loss']\n",
        "acc_values = history_dict['acc']\n",
        "epochs = range(1, len(loss_values) + 1)\n",
        "\n",
        "import matplotlib.ticker as mtick\n",
        "import matplotlib.pyplot as plt\n",
        "%matplotlib inline\n",
        "plt.subplot(211)\n",
        "plt.plot(epochs, history.history['loss'], 'bo', label='Training loss')\n",
        "plt.title('Training loss')\n",
        "plt.xlabel('Epochs')\n",
        "plt.ylabel('Loss')\n",
        "plt.legend()\n",
        "plt.grid('off')\n",
        "plt.show()\n",
        "plt.subplot(212)\n",
        "plt.plot(epochs, history.history['acc'], 'bo', label='Training accuracy')\n",
        "plt.title('Training accuracy')\n",
        "plt.xlabel('Epochs')\n",
        "plt.ylabel('Accuracy')\n",
        "plt.gca().set_yticklabels(['{:.0f}%'.format(x*100) for x in plt.gca().get_yticks()]) \n",
        "plt.legend()\n",
        "plt.grid('off')\n",
        "plt.show()"
      ],
      "execution_count": 0,
      "outputs": [
        {
          "output_type": "stream",
          "text": [
            "/usr/local/lib/python3.6/dist-packages/matplotlib/cbook/__init__.py:424: MatplotlibDeprecationWarning: \n",
            "Passing one of 'on', 'true', 'off', 'false' as a boolean is deprecated; use an actual boolean (True/False) instead.\n",
            "  warn_deprecated(\"2.2\", \"Passing one of 'on', 'true', 'off', 'false' as a \"\n"
          ],
          "name": "stderr"
        },
        {
          "output_type": "display_data",
          "data": {
            "image/png": "[encoded data removed]",
            "text/plain": [
              "<Figure size 432x288 with 1 Axes>"
            ]
          },
          "metadata": {
            "tags": []
          }
        },
        {
          "output_type": "display_data",
          "data": {
            "image/png": "[encoded data removed]",
            "text/plain": [
              "<Figure size 432x288 with 1 Axes>"
            ]
          },
          "metadata": {
            "tags": []
          }
        }
      ]
    },
    {
      "cell_type": "code",
      "metadata": {
        "id": "3-i_U0GEsImy",
        "colab_type": "code",
        "outputId": "f7a38ed4-5cda-40fe-d50b-44141f32be73",
        "colab": {
          "base_uri": "https://localhost:8080/",
          "height": 85
        }
      },
      "source": [
        "model.weights"
      ],
      "execution_count": 0,
      "outputs": [
        {
          "output_type": "execute_result",
          "data": {
            "text/plain": [
              "[<tf.Variable 'Convolution_layer/kernel:0' shape=(3, 3, 1, 1) dtype=float32_ref>,\n",
              " <tf.Variable 'Convolution_layer/bias:0' shape=(1,) dtype=float32_ref>,\n",
              " <tf.Variable 'Output_layer/kernel:0' shape=(1, 1) dtype=float32_ref>,\n",
              " <tf.Variable 'Output_layer/bias:0' shape=(1,) dtype=float32_ref>]"
            ]
          },
          "metadata": {
            "tags": []
          },
          "execution_count": 8
        }
      ]
    },
    {
      "cell_type": "code",
      "metadata": {
        "id": "i449dMQgsa4P",
        "colab_type": "code",
        "outputId": "12a783c0-25a8-45af-9313-f8420645eb67",
        "colab": {
          "base_uri": "https://localhost:8080/",
          "height": 34
        }
      },
      "source": [
        "model.get_weights()[0].shape"
      ],
      "execution_count": 0,
      "outputs": [
        {
          "output_type": "execute_result",
          "data": {
            "text/plain": [
              "(3, 3, 1, 1)"
            ]
          },
          "metadata": {
            "tags": []
          },
          "execution_count": 9
        }
      ]
    },
    {
      "cell_type": "code",
      "metadata": {
        "id": "dCah6JlHsk2N",
        "colab_type": "code",
        "outputId": "d1f202c9-b1ac-437f-92f9-dde971e0bb7e",
        "colab": {
          "base_uri": "https://localhost:8080/",
          "height": 34
        }
      },
      "source": [
        "model.predict(X_train[0].reshape(1,4,4,1))"
      ],
      "execution_count": 0,
      "outputs": [
        {
          "output_type": "execute_result",
          "data": {
            "text/plain": [
              "array([[0.2594264]], dtype=float32)"
            ]
          },
          "metadata": {
            "tags": []
          },
          "execution_count": 10
        }
      ]
    },
    {
      "cell_type": "code",
      "metadata": {
        "id": "k0oZqVp_5_cH",
        "colab_type": "code",
        "outputId": "9a408b96-bb37-4599-b852-58920f79d6ff",
        "colab": {
          "base_uri": "https://localhost:8080/",
          "height": 391
        }
      },
      "source": [
        "model.get_weights()"
      ],
      "execution_count": 0,
      "outputs": [
        {
          "output_type": "execute_result",
          "data": {
            "text/plain": [
              "[array([[[[ 0.6814055 ]],\n",
              " \n",
              "         [[ 0.10788856]],\n",
              " \n",
              "         [[-1.1003789 ]]],\n",
              " \n",
              " \n",
              "        [[[-0.89227337]],\n",
              " \n",
              "         [[ 0.3559073 ]],\n",
              " \n",
              "         [[ 0.59061545]]],\n",
              " \n",
              " \n",
              "        [[[ 0.1328827 ]],\n",
              " \n",
              "         [[-0.59389687]],\n",
              " \n",
              "         [[ 0.36998487]]]], dtype=float32),\n",
              " array([0.13318129], dtype=float32),\n",
              " array([[1.6743613]], dtype=float32),\n",
              " array([-1.0489521], dtype=float32)]"
            ]
          },
          "metadata": {
            "tags": []
          },
          "execution_count": 14
        }
      ]
    },
    {
      "cell_type": "code",
      "metadata": {
        "id": "BHEOsUS60kKT",
        "colab_type": "code",
        "outputId": "5a83e9d2-45bb-4780-967f-82994078522d",
        "colab": {
          "base_uri": "https://localhost:8080/",
          "height": 34
        }
      },
      "source": [
        "X_train[0].shape[0]-model.get_weights()[0].shape[0]"
      ],
      "execution_count": 0,
      "outputs": [
        {
          "output_type": "execute_result",
          "data": {
            "text/plain": [
              "1"
            ]
          },
          "metadata": {
            "tags": []
          },
          "execution_count": 15
        }
      ]
    },
    {
      "cell_type": "code",
      "metadata": {
        "id": "OSIcSjFM4GuM",
        "colab_type": "code",
        "colab": {}
      },
      "source": [
        "sumprod = []\n",
        "for i in range(X_train[0].shape[0]-model.get_weights()[0].shape[0]+1):\n",
        "  for j in range(X_train[0].shape[0]-model.get_weights()[0].shape[0]+1):\n",
        "    img_subset = np.array(X_train[0,i:(i+3),j:(j+3),0])\n",
        "    model_filter = model.get_weights()[0].reshape(3,3)\n",
        "    val = np.sum(img_subset*model_filter) + model.get_weights()[1]\n",
        "    sumprod.append(val)\n",
        "  "
      ],
      "execution_count": 0,
      "outputs": []
    },
    {
      "cell_type": "code",
      "metadata": {
        "id": "iDpn6dEg7gmC",
        "colab_type": "code",
        "colab": {}
      },
      "source": [
        "sumprod= np.array(sumprod).reshape(2,2,1)"
      ],
      "execution_count": 0,
      "outputs": []
    },
    {
      "cell_type": "code",
      "metadata": {
        "id": "Bb1HVimK-04e",
        "colab_type": "code",
        "colab": {}
      },
      "source": [
        "sumprod = np.where(sumprod>0,sumprod,0)"
      ],
      "execution_count": 0,
      "outputs": []
    },
    {
      "cell_type": "code",
      "metadata": {
        "id": "8Msdnsy88-v9",
        "colab_type": "code",
        "colab": {}
      },
      "source": [
        "pooling_layer_output = np.max(sumprod)"
      ],
      "execution_count": 0,
      "outputs": []
    },
    {
      "cell_type": "code",
      "metadata": {
        "id": "9tQHpazq-nl-",
        "colab_type": "code",
        "colab": {}
      },
      "source": [
        "intermediate_output_value = pooling_layer_output*model.get_weights()[2]+model.get_weights()[3]"
      ],
      "execution_count": 0,
      "outputs": []
    },
    {
      "cell_type": "code",
      "metadata": {
        "id": "eQam1Kof_XvN",
        "colab_type": "code",
        "outputId": "dff6c873-b6d2-4665-ca2d-2a5aa3a925d3",
        "colab": {
          "base_uri": "https://localhost:8080/",
          "height": 34
        }
      },
      "source": [
        "1/(1+np.exp(-intermediate_output_value))"
      ],
      "execution_count": 0,
      "outputs": [
        {
          "output_type": "execute_result",
          "data": {
            "text/plain": [
              "array([[0.2594264]], dtype=float32)"
            ]
          },
          "metadata": {
            "tags": []
          },
          "execution_count": 21
        }
      ]
    },
    {
      "cell_type": "code",
      "metadata": {
        "id": "pfcg6wEP7nsi",
        "colab_type": "code",
        "colab": {}
      },
      "source": [
        ""
      ],
      "execution_count": 0,
      "outputs": []
    }
  ]
}