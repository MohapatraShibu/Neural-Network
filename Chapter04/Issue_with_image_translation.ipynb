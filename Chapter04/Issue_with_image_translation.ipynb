{
  "nbformat": 4,
  "nbformat_minor": 0,
  "metadata": {
    "colab": {
      "name": "Issue_with_image_translation.ipynb",
      "provenance": [],
      "collapsed_sections": []
    },
    "kernelspec": {
      "name": "python3",
      "display_name": "Python 3"
    },
    "accelerator": "GPU"
  },
  "cells": [
    {
      "cell_type": "markdown",
      "metadata": {
        "id": "RoBChXOGD7r_",
        "colab_type": "text"
      },
      "source": [
        "https://colab.research.google.com/drive/1OmAdxU_Lw7r-tMXiTOeSI7NWgB3AF9QF"
      ]
    },
    {
      "cell_type": "markdown",
      "metadata": {
        "id": "CmLeAE7jRrUu",
        "colab_type": "text"
      },
      "source": [
        "# Issue with image translation"
      ]
    },
    {
      "cell_type": "code",
      "metadata": {
        "id": "WTGTqLKxRpRS",
        "colab_type": "code",
        "outputId": "59de6ddb-108d-42e3-9058-83b5b4ce6a12",
        "colab": {
          "base_uri": "https://localhost:8080/",
          "height": 34
        }
      },
      "source": [
        "from keras.datasets import mnist\n",
        "import numpy\n",
        "from keras.datasets import mnist\n",
        "from keras.models import Sequential\n",
        "from keras.layers import Dense\n",
        "from keras.layers import Dropout\n",
        "from keras.utils import np_utils"
      ],
      "execution_count": 0,
      "outputs": [
        {
          "output_type": "stream",
          "text": [
            "Using TensorFlow backend.\n"
          ],
          "name": "stderr"
        }
      ]
    },
    {
      "cell_type": "code",
      "metadata": {
        "id": "KttaL7-VSBNs",
        "colab_type": "code",
        "outputId": "650dfb81-0308-43b5-b5ec-6a83d89a880d",
        "colab": {
          "base_uri": "https://localhost:8080/",
          "height": 51
        }
      },
      "source": [
        "import matplotlib.pyplot as plt\n",
        "%matplotlib inline\n",
        "(X_train, y_train), (X_test, y_test) = mnist.load_data()"
      ],
      "execution_count": 0,
      "outputs": [
        {
          "output_type": "stream",
          "text": [
            "Downloading data from https://s3.amazonaws.com/img-datasets/mnist.npz\n",
            "11493376/11490434 [==============================] - 1s 0us/step\n"
          ],
          "name": "stdout"
        }
      ]
    },
    {
      "cell_type": "code",
      "metadata": {
        "id": "h2qudJUgSDmn",
        "colab_type": "code",
        "colab": {}
      },
      "source": [
        "X_train1 = X_train[y_train==1]"
      ],
      "execution_count": 0,
      "outputs": []
    },
    {
      "cell_type": "code",
      "metadata": {
        "id": "FQeQXn0bSFAC",
        "colab_type": "code",
        "colab": {}
      },
      "source": [
        "num_pixels = X_train.shape[1] * X_train.shape[2]\n",
        "X_train = X_train.reshape(X_train.shape[0],num_pixels).astype('float32')\n",
        "X_test = X_test.reshape(X_test.shape[0],num_pixels).astype('float32')\n",
        "X_train = X_train / 255\n",
        "X_test = X_test / 255"
      ],
      "execution_count": 0,
      "outputs": []
    },
    {
      "cell_type": "code",
      "metadata": {
        "id": "v3L-4XgRSGNY",
        "colab_type": "code",
        "colab": {}
      },
      "source": [
        "y_train = np_utils.to_categorical(y_train)\n",
        "y_test = np_utils.to_categorical(y_test)\n",
        "num_classes = y_train.shape[1]"
      ],
      "execution_count": 0,
      "outputs": []
    },
    {
      "cell_type": "code",
      "metadata": {
        "id": "mA06Oi-uSHcq",
        "colab_type": "code",
        "outputId": "1e213b7b-9ecb-453e-e2c3-82dfd311e8f1",
        "colab": {
          "base_uri": "https://localhost:8080/",
          "height": 479
        }
      },
      "source": [
        "model = Sequential()\n",
        "model.add(Dense(1000, input_dim=num_pixels, activation='relu'))\n",
        "model.add(Dense(num_classes, activation='softmax'))\n",
        "model.compile(loss='categorical_crossentropy', optimizer='adam',metrics=['accuracy'])\n",
        "history = model.fit(X_train, y_train, validation_data=(X_test, y_test),epochs=5, batch_size=1024, verbose=1)"
      ],
      "execution_count": 0,
      "outputs": [
        {
          "output_type": "stream",
          "text": [
            "WARNING:tensorflow:From /usr/local/lib/python3.6/dist-packages/keras/backend/tensorflow_backend.py:66: The name tf.get_default_graph is deprecated. Please use tf.compat.v1.get_default_graph instead.\n",
            "\n",
            "WARNING:tensorflow:From /usr/local/lib/python3.6/dist-packages/keras/backend/tensorflow_backend.py:541: The name tf.placeholder is deprecated. Please use tf.compat.v1.placeholder instead.\n",
            "\n",
            "WARNING:tensorflow:From /usr/local/lib/python3.6/dist-packages/keras/backend/tensorflow_backend.py:4432: The name tf.random_uniform is deprecated. Please use tf.random.uniform instead.\n",
            "\n",
            "WARNING:tensorflow:From /usr/local/lib/python3.6/dist-packages/keras/optimizers.py:793: The name tf.train.Optimizer is deprecated. Please use tf.compat.v1.train.Optimizer instead.\n",
            "\n",
            "WARNING:tensorflow:From /usr/local/lib/python3.6/dist-packages/keras/backend/tensorflow_backend.py:3576: The name tf.log is deprecated. Please use tf.math.log instead.\n",
            "\n",
            "WARNING:tensorflow:From /usr/local/lib/python3.6/dist-packages/tensorflow/python/ops/math_grad.py:1250: add_dispatch_support.<locals>.wrapper (from tensorflow.python.ops.array_ops) is deprecated and will be removed in a future version.\n",
            "Instructions for updating:\n",
            "Use tf.where in 2.0, which has the same broadcast rule as np.where\n",
            "WARNING:tensorflow:From /usr/local/lib/python3.6/dist-packages/keras/backend/tensorflow_backend.py:1033: The name tf.assign_add is deprecated. Please use tf.compat.v1.assign_add instead.\n",
            "\n",
            "Train on 60000 samples, validate on 10000 samples\n",
            "Epoch 1/5\n",
            "60000/60000 [==============================] - 5s 78us/step - loss: 0.4730 - acc: 0.8733 - val_loss: 0.2302 - val_acc: 0.9334\n",
            "Epoch 2/5\n",
            "60000/60000 [==============================] - 1s 10us/step - loss: 0.1954 - acc: 0.9451 - val_loss: 0.1620 - val_acc: 0.9531\n",
            "Epoch 3/5\n",
            "60000/60000 [==============================] - 1s 10us/step - loss: 0.1387 - acc: 0.9614 - val_loss: 0.1261 - val_acc: 0.9635\n",
            "Epoch 4/5\n",
            "60000/60000 [==============================] - 1s 10us/step - loss: 0.1056 - acc: 0.9706 - val_loss: 0.1057 - val_acc: 0.9685\n",
            "Epoch 5/5\n",
            "60000/60000 [==============================] - 1s 10us/step - loss: 0.0838 - acc: 0.9770 - val_loss: 0.0971 - val_acc: 0.9711\n"
          ],
          "name": "stdout"
        }
      ]
    },
    {
      "cell_type": "code",
      "metadata": {
        "id": "Zr4afnIkSIre",
        "colab_type": "code",
        "outputId": "474862b6-8b31-46e6-b7f0-533c2d5f4e8c",
        "colab": {
          "base_uri": "https://localhost:8080/",
          "height": 286
        }
      },
      "source": [
        "import numpy as np\n",
        "pic=np.zeros((28,28))\n",
        "pic2=np.copy(pic)\n",
        "for i in range(X_train1.shape[0]):\n",
        "    pic2=X_train1[i,:,:]\n",
        "    pic=pic+pic2\n",
        "pic=(pic/X_train1.shape[0])\n",
        "plt.imshow(pic)"
      ],
      "execution_count": 0,
      "outputs": [
        {
          "output_type": "execute_result",
          "data": {
            "text/plain": [
              "<matplotlib.image.AxesImage at 0x7fb54003a128>"
            ]
          },
          "metadata": {
            "tags": []
          },
          "execution_count": 7
        },
        {
          "output_type": "display_data",
          "data": {
            "image/png": "[encoded data removed]",
            "text/plain": [
              "<Figure size 432x288 with 1 Axes>"
            ]
          },
          "metadata": {
            "tags": []
          }
        }
      ]
    },
    {
      "cell_type": "code",
      "metadata": {
        "id": "wrIicP5lSQwi",
        "colab_type": "code",
        "outputId": "f4b3e2a9-3ea6-40c3-8337-73e71d5cde16",
        "colab": {
          "base_uri": "https://localhost:8080/",
          "height": 269
        }
      },
      "source": [
        "for i in range(pic.shape[0]):\n",
        "    if i<20:\n",
        "        pic[:,i]=pic[:,i+1]\n",
        "    plt.imshow(pic)"
      ],
      "execution_count": 0,
      "outputs": [
        {
          "output_type": "display_data",
          "data": {
            "image/png": "[encoded data removed]",
            "text/plain": [
              "<Figure size 432x288 with 1 Axes>"
            ]
          },
          "metadata": {
            "tags": []
          }
        }
      ]
    },
    {
      "cell_type": "code",
      "metadata": {
        "id": "OWL1KnhjSim2",
        "colab_type": "code",
        "outputId": "99d86b79-afeb-49c5-b692-d38ce618646c",
        "colab": {
          "base_uri": "https://localhost:8080/",
          "height": 68
        }
      },
      "source": [
        "model.predict(pic.reshape(1,784)/255)"
      ],
      "execution_count": 0,
      "outputs": [
        {
          "output_type": "execute_result",
          "data": {
            "text/plain": [
              "array([[0.0029657 , 0.5275598 , 0.02109724, 0.00667586, 0.00159584,\n",
              "        0.02306611, 0.07256491, 0.00125961, 0.34260005, 0.00061482]],\n",
              "      dtype=float32)"
            ]
          },
          "metadata": {
            "tags": []
          },
          "execution_count": 9
        }
      ]
    },
    {
      "cell_type": "code",
      "metadata": {
        "id": "9DfPo_aISmQ8",
        "colab_type": "code",
        "colab": {}
      },
      "source": [
        ""
      ],
      "execution_count": 0,
      "outputs": []
    }
  ]
}