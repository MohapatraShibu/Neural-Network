{
  "nbformat": 4,
  "nbformat_minor": 0,
  "metadata": {
    "colab": {
      "name": "CNN_image_translation.ipynb",
      "provenance": [],
      "collapsed_sections": []
    },
    "kernelspec": {
      "name": "python3",
      "display_name": "Python 3"
    },
    "accelerator": "GPU"
  },
  "cells": [
    {
      "cell_type": "markdown",
      "metadata": {
        "id": "mb3v5XxdCqQO",
        "colab_type": "text"
      },
      "source": [
        "https://colab.research.google.com/drive/19rymVB11AYtNPOZjK8dcVPrHpyh5tvYX"
      ]
    },
    {
      "cell_type": "markdown",
      "metadata": {
        "id": "ymoW5CujNtfG",
        "colab_type": "text"
      },
      "source": [
        "# CNN to improve accuracy in case of image translation"
      ]
    },
    {
      "cell_type": "code",
      "metadata": {
        "id": "UtxwfB-3Cia2",
        "colab_type": "code",
        "colab": {}
      },
      "source": [
        "from keras.models import Sequential\n",
        "from keras.layers import Dense\n",
        "from keras.layers import Dropout\n",
        "from keras.utils import np_utils\n",
        "from keras.layers import Conv2D, MaxPooling2D, Flatten\n",
        "from keras.utils import to_categorical"
      ],
      "execution_count": 0,
      "outputs": []
    },
    {
      "cell_type": "code",
      "metadata": {
        "id": "Lllq5wRpCyNh",
        "colab_type": "code",
        "colab": {}
      },
      "source": [
        "from keras.datasets import mnist"
      ],
      "execution_count": 0,
      "outputs": []
    },
    {
      "cell_type": "code",
      "metadata": {
        "id": "ANH4FiAmComq",
        "colab_type": "code",
        "colab": {}
      },
      "source": [
        "(X_train, y_train), (X_test, y_test) = mnist.load_data()\n",
        "X_train = X_train.reshape(X_train.shape[0],X_train.shape[1],X_train.shape[1],1 ).astype('float32')\n",
        "X_test = X_test.reshape(X_test.shape[0],X_test.shape[1],X_test.shape[1],1).astype('float32')\n",
        "X_train = X_train / 255\n",
        "X_test = X_test / 255\n",
        "y_train = np_utils.to_categorical(y_train)\n",
        "y_test = np_utils.to_categorical(y_test)\n",
        "num_classes = y_test.shape[1]"
      ],
      "execution_count": 0,
      "outputs": []
    },
    {
      "cell_type": "code",
      "metadata": {
        "id": "fupja9WUCs2h",
        "colab_type": "code",
        "outputId": "b6e65b1d-8bfa-4482-f0cb-2bd095f1ab94",
        "colab": {
          "base_uri": "https://localhost:8080/",
          "height": 323
        }
      },
      "source": [
        "model = Sequential()\n",
        "model.add(Conv2D(10, (3,3), input_shape=(28, 28,1),\n",
        "activation='relu'))\n",
        "model.add(MaxPooling2D(pool_size=(2, 2)))\n",
        "model.add(Flatten())\n",
        "model.add(Dense(1000, activation='relu'))\n",
        "model.add(Dense(num_classes, activation='softmax'))\n",
        "model.compile(loss='categorical_crossentropy', optimizer='adam',\n",
        "metrics=['accuracy'])\n",
        "model.summary()"
      ],
      "execution_count": 0,
      "outputs": [
        {
          "output_type": "stream",
          "text": [
            "Model: \"sequential_2\"\n",
            "_________________________________________________________________\n",
            "Layer (type)                 Output Shape              Param #   \n",
            "=================================================================\n",
            "conv2d_2 (Conv2D)            (None, 26, 26, 10)        100       \n",
            "_________________________________________________________________\n",
            "max_pooling2d_2 (MaxPooling2 (None, 13, 13, 10)        0         \n",
            "_________________________________________________________________\n",
            "flatten_2 (Flatten)          (None, 1690)              0         \n",
            "_________________________________________________________________\n",
            "dense_3 (Dense)              (None, 1000)              1691000   \n",
            "_________________________________________________________________\n",
            "dense_4 (Dense)              (None, 10)                10010     \n",
            "=================================================================\n",
            "Total params: 1,701,110\n",
            "Trainable params: 1,701,110\n",
            "Non-trainable params: 0\n",
            "_________________________________________________________________\n"
          ],
          "name": "stdout"
        }
      ]
    },
    {
      "cell_type": "code",
      "metadata": {
        "id": "_CPX8FNrC2Qq",
        "colab_type": "code",
        "outputId": "8a9200e7-1ed6-4f51-ea25-65dcfd0657f1",
        "colab": {
          "base_uri": "https://localhost:8080/",
          "height": 714
        }
      },
      "source": [
        "history = model.fit(X_train, y_train, validation_data=(X_test, y_test),epochs=20, batch_size=1024, verbose=1)"
      ],
      "execution_count": 0,
      "outputs": [
        {
          "output_type": "stream",
          "text": [
            "Train on 60000 samples, validate on 10000 samples\n",
            "Epoch 1/20\n",
            "60000/60000 [==============================] - 2s 28us/step - loss: 0.4631 - acc: 0.8708 - val_loss: 0.2108 - val_acc: 0.9378\n",
            "Epoch 2/20\n",
            "60000/60000 [==============================] - 1s 21us/step - loss: 0.1788 - acc: 0.9478 - val_loss: 0.1359 - val_acc: 0.9614\n",
            "Epoch 3/20\n",
            "60000/60000 [==============================] - 1s 21us/step - loss: 0.1202 - acc: 0.9653 - val_loss: 0.0987 - val_acc: 0.9716\n",
            "Epoch 4/20\n",
            "60000/60000 [==============================] - 1s 21us/step - loss: 0.0873 - acc: 0.9745 - val_loss: 0.0870 - val_acc: 0.9740\n",
            "Epoch 5/20\n",
            "60000/60000 [==============================] - 1s 21us/step - loss: 0.0687 - acc: 0.9798 - val_loss: 0.0702 - val_acc: 0.9782\n",
            "Epoch 6/20\n",
            "60000/60000 [==============================] - 1s 21us/step - loss: 0.0536 - acc: 0.9843 - val_loss: 0.0575 - val_acc: 0.9807\n",
            "Epoch 7/20\n",
            "60000/60000 [==============================] - 1s 21us/step - loss: 0.0452 - acc: 0.9868 - val_loss: 0.0543 - val_acc: 0.9825\n",
            "Epoch 8/20\n",
            "60000/60000 [==============================] - 1s 21us/step - loss: 0.0395 - acc: 0.9884 - val_loss: 0.0583 - val_acc: 0.9811\n",
            "Epoch 9/20\n",
            "60000/60000 [==============================] - 1s 21us/step - loss: 0.0325 - acc: 0.9907 - val_loss: 0.0565 - val_acc: 0.9825\n",
            "Epoch 10/20\n",
            "60000/60000 [==============================] - 1s 21us/step - loss: 0.0271 - acc: 0.9921 - val_loss: 0.0480 - val_acc: 0.9830\n",
            "Epoch 11/20\n",
            "60000/60000 [==============================] - 1s 21us/step - loss: 0.0239 - acc: 0.9934 - val_loss: 0.0466 - val_acc: 0.9841\n",
            "Epoch 12/20\n",
            "60000/60000 [==============================] - 1s 21us/step - loss: 0.0209 - acc: 0.9942 - val_loss: 0.0434 - val_acc: 0.9843\n",
            "Epoch 13/20\n",
            "60000/60000 [==============================] - 1s 21us/step - loss: 0.0190 - acc: 0.9949 - val_loss: 0.0459 - val_acc: 0.9840\n",
            "Epoch 14/20\n",
            "60000/60000 [==============================] - 1s 21us/step - loss: 0.0150 - acc: 0.9960 - val_loss: 0.0426 - val_acc: 0.9850\n",
            "Epoch 15/20\n",
            "60000/60000 [==============================] - 1s 21us/step - loss: 0.0136 - acc: 0.9968 - val_loss: 0.0429 - val_acc: 0.9853\n",
            "Epoch 16/20\n",
            "60000/60000 [==============================] - 1s 21us/step - loss: 0.0114 - acc: 0.9975 - val_loss: 0.0417 - val_acc: 0.9858\n",
            "Epoch 17/20\n",
            "60000/60000 [==============================] - 1s 21us/step - loss: 0.0083 - acc: 0.9985 - val_loss: 0.0463 - val_acc: 0.9842\n",
            "Epoch 18/20\n",
            "60000/60000 [==============================] - 1s 21us/step - loss: 0.0082 - acc: 0.9984 - val_loss: 0.0414 - val_acc: 0.9857\n",
            "Epoch 19/20\n",
            "60000/60000 [==============================] - 1s 21us/step - loss: 0.0067 - acc: 0.9988 - val_loss: 0.0417 - val_acc: 0.9864\n",
            "Epoch 20/20\n",
            "60000/60000 [==============================] - 1s 21us/step - loss: 0.0072 - acc: 0.9985 - val_loss: 0.0475 - val_acc: 0.9857\n"
          ],
          "name": "stdout"
        }
      ]
    },
    {
      "cell_type": "code",
      "metadata": {
        "id": "WgWFTNnkOTeF",
        "colab_type": "code",
        "colab": {}
      },
      "source": [
        "history_dict = history.history\n",
        "loss_values = history_dict['loss']\n",
        "val_loss_values = history_dict['val_loss']\n",
        "acc_values = history_dict['acc']\n",
        "val_acc_values = history_dict['val_acc']\n",
        "epochs = range(1, len(val_loss_values) + 1)"
      ],
      "execution_count": 0,
      "outputs": []
    },
    {
      "cell_type": "code",
      "metadata": {
        "id": "JeNQDfCnOMo_",
        "colab_type": "code",
        "outputId": "03337eed-8686-457b-b9ca-2fcf3b5f1ef8",
        "colab": {
          "base_uri": "https://localhost:8080/",
          "height": 388
        }
      },
      "source": [
        "import matplotlib.ticker as mtick\n",
        "import matplotlib.pyplot as plt\n",
        "%matplotlib inline\n",
        "plt.subplot(211)\n",
        "plt.plot(epochs, history.history['loss'], 'bo', label='Training loss')\n",
        "plt.plot(epochs, val_loss_values, 'r', label='Test loss')\n",
        "plt.title('Training and test loss')\n",
        "plt.xlabel('Epochs')\n",
        "plt.ylabel('Loss')\n",
        "plt.legend()\n",
        "plt.grid('off')\n",
        "plt.show()\n",
        "plt.subplot(212)\n",
        "plt.plot(epochs, history.history['acc'], 'bo', label='Training accuracy')\n",
        "plt.plot(epochs, val_acc_values, 'r', label='Test accuracy')\n",
        "plt.title('Training and test accuracy')\n",
        "plt.xlabel('Epochs')\n",
        "plt.ylabel('Accuracy')\n",
        "plt.gca().set_yticklabels(['{:.0f}%'.format(x*100) for x in plt.gca().get_yticks()]) \n",
        "plt.legend()\n",
        "plt.grid('off')\n",
        "plt.show()"
      ],
      "execution_count": 0,
      "outputs": [
        {
          "output_type": "stream",
          "text": [
            "/usr/local/lib/python3.6/dist-packages/matplotlib/cbook/__init__.py:424: MatplotlibDeprecationWarning: \n",
            "Passing one of 'on', 'true', 'off', 'false' as a boolean is deprecated; use an actual boolean (True/False) instead.\n",
            "  warn_deprecated(\"2.2\", \"Passing one of 'on', 'true', 'off', 'false' as a \"\n"
          ],
          "name": "stderr"
        },
        {
          "output_type": "display_data",
          "data": {
            "image/png": "[encoded data removed]",
            "text/plain": [
              "<Figure size 432x288 with 1 Axes>"
            ]
          },
          "metadata": {
            "tags": []
          }
        },
        {
          "output_type": "display_data",
          "data": {
            "image/png": "[encoded data removed]",
            "text/plain": [
              "<Figure size 432x288 with 1 Axes>"
            ]
          },
          "metadata": {
            "tags": []
          }
        }
      ]
    },
    {
      "cell_type": "code",
      "metadata": {
        "id": "670kPX9-Dq-E",
        "colab_type": "code",
        "outputId": "4d8953ce-b596-40c3-9969-99314337bfa4",
        "colab": {
          "base_uri": "https://localhost:8080/",
          "height": 34
        }
      },
      "source": [
        "X_test1 = X_test[y_test[:,1]==1]\n",
        "X_test1.shape"
      ],
      "execution_count": 0,
      "outputs": [
        {
          "output_type": "execute_result",
          "data": {
            "text/plain": [
              "(1135, 28, 28, 1)"
            ]
          },
          "metadata": {
            "tags": []
          },
          "execution_count": 28
        }
      ]
    },
    {
      "cell_type": "code",
      "metadata": {
        "id": "54p3_3gCEbEl",
        "colab_type": "code",
        "outputId": "b2411c36-8001-4961-e893-4756a1db377a",
        "colab": {
          "base_uri": "https://localhost:8080/",
          "height": 34
        }
      },
      "source": [
        "import numpy as np\n",
        "np.max(X_test1)"
      ],
      "execution_count": 0,
      "outputs": [
        {
          "output_type": "execute_result",
          "data": {
            "text/plain": [
              "1.0"
            ]
          },
          "metadata": {
            "tags": []
          },
          "execution_count": 29
        }
      ]
    },
    {
      "cell_type": "code",
      "metadata": {
        "id": "YnLXi2-HC6NS",
        "colab_type": "code",
        "colab": {}
      },
      "source": [
        "import numpy as np\n",
        "pic=np.zeros((28,28))\n",
        "pic2=np.copy(pic)\n",
        "for i in range(X_test1.shape[0]):\n",
        "    pic2=X_test1[i,:,:,0]\n",
        "    pic=pic+pic2\n",
        "pic=(pic/X_test1.shape[0])\n",
        "for i in range(pic.shape[0]):\n",
        "    if i<20:\n",
        "        pic[:,i]=pic[:,i+1]"
      ],
      "execution_count": 0,
      "outputs": []
    },
    {
      "cell_type": "code",
      "metadata": {
        "id": "4K9SOwgQD43O",
        "colab_type": "code",
        "outputId": "54cfd755-9b9d-42f3-ed3a-a4d0cfdb3bd1",
        "colab": {
          "base_uri": "https://localhost:8080/",
          "height": 34
        }
      },
      "source": [
        "np.argmax(model.predict(pic.reshape(1,28,28,1)))"
      ],
      "execution_count": 0,
      "outputs": [
        {
          "output_type": "execute_result",
          "data": {
            "text/plain": [
              "1"
            ]
          },
          "metadata": {
            "tags": []
          },
          "execution_count": 31
        }
      ]
    },
    {
      "cell_type": "code",
      "metadata": {
        "id": "3KUMR5s5Eqrj",
        "colab_type": "code",
        "outputId": "cd38fd15-963d-4984-eabf-b33e3e1ee3b8",
        "colab": {
          "base_uri": "https://localhost:8080/",
          "height": 286
        }
      },
      "source": [
        "plt.imshow(pic)"
      ],
      "execution_count": 0,
      "outputs": [
        {
          "output_type": "execute_result",
          "data": {
            "text/plain": [
              "<matplotlib.image.AxesImage at 0x7f3beee14c50>"
            ]
          },
          "metadata": {
            "tags": []
          },
          "execution_count": 32
        },
        {
          "output_type": "display_data",
          "data": {
            "image/png": "[encoded data removed]",
            "text/plain": [
              "<Figure size 432x288 with 1 Axes>"
            ]
          },
          "metadata": {
            "tags": []
          }
        }
      ]
    },
    {
      "cell_type": "code",
      "metadata": {
        "id": "oq680eA7Fqim",
        "colab_type": "code",
        "outputId": "d4d8959d-20d6-450d-f241-5a90dd8a84e6",
        "colab": {
          "base_uri": "https://localhost:8080/",
          "height": 34
        }
      },
      "source": [
        "np.max(pic)"
      ],
      "execution_count": 0,
      "outputs": [
        {
          "output_type": "execute_result",
          "data": {
            "text/plain": [
              "0.9707350794045411"
            ]
          },
          "metadata": {
            "tags": []
          },
          "execution_count": 33
        }
      ]
    },
    {
      "cell_type": "code",
      "metadata": {
        "id": "1eJAUsHGFqlJ",
        "colab_type": "code",
        "colab": {}
      },
      "source": [
        "import numpy as np\n",
        "pic=np.zeros((28,28))\n",
        "pic2=np.copy(pic)\n",
        "for i in range(X_test1.shape[0]):\n",
        "    pic2=X_test1[i,:,:,0]\n",
        "    pic=pic+pic2\n",
        "pic=(pic/X_test1.shape[0])\n",
        "for i in range(pic.shape[0]):\n",
        "    if i<20:\n",
        "        pic[:,i]=pic[:,i+2]"
      ],
      "execution_count": 0,
      "outputs": []
    },
    {
      "cell_type": "code",
      "metadata": {
        "id": "1pOvHbm3Fqno",
        "colab_type": "code",
        "outputId": "b2e97021-88a2-4f00-d7fa-a2da28472690",
        "colab": {
          "base_uri": "https://localhost:8080/",
          "height": 34
        }
      },
      "source": [
        "np.argmax(model.predict(pic.reshape(1,28,28,1)))"
      ],
      "execution_count": 0,
      "outputs": [
        {
          "output_type": "execute_result",
          "data": {
            "text/plain": [
              "1"
            ]
          },
          "metadata": {
            "tags": []
          },
          "execution_count": 35
        }
      ]
    },
    {
      "cell_type": "code",
      "metadata": {
        "id": "0X0hmBiJOSVV",
        "colab_type": "code",
        "colab": {}
      },
      "source": [
        ""
      ],
      "execution_count": 0,
      "outputs": []
    }
  ]
}