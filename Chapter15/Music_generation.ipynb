{
  "nbformat": 4,
  "nbformat_minor": 0,
  "metadata": {
    "colab": {
      "name": "Music generation.ipynb",
      "provenance": [],
      "collapsed_sections": []
    },
    "kernelspec": {
      "name": "python3",
      "display_name": "Python 3"
    },
    "accelerator": "GPU"
  },
  "cells": [
    {
      "cell_type": "markdown",
      "metadata": {
        "id": "voefcLMMhnHN",
        "colab_type": "text"
      },
      "source": [
        "https://colab.research.google.com/drive/1pDYeniIB4wOrIsfHX_Kx_Z0FkUTbdrTq"
      ]
    },
    {
      "cell_type": "code",
      "metadata": {
        "id": "p3udsq6L5aId",
        "colab_type": "code",
        "outputId": "12b7bb3d-ea6a-440d-f6b3-b7c903317c97",
        "colab": {
          "base_uri": "https://localhost:8080/",
          "height": 445
        }
      },
      "source": [
        "!wget https://www.dropbox.com/s/ioqogaipt9i2hzo/Music_files.zip"
      ],
      "execution_count": 0,
      "outputs": [
        {
          "output_type": "stream",
          "text": [
            "--2019-10-02 19:28:30--  https://www.dropbox.com/s/ioqogaipt9i2hzo/Music_files.zip\n",
            "Resolving www.dropbox.com (www.dropbox.com)... 162.125.8.1, 2620:100:6018:1::a27d:301\n",
            "Connecting to www.dropbox.com (www.dropbox.com)|162.125.8.1|:443... connected.\n",
            "HTTP request sent, awaiting response... 301 Moved Permanently\n",
            "Location: /s/raw/ioqogaipt9i2hzo/Music_files.zip [following]\n",
            "--2019-10-02 19:28:30--  https://www.dropbox.com/s/raw/ioqogaipt9i2hzo/Music_files.zip\n",
            "Reusing existing connection to www.dropbox.com:443.\n",
            "HTTP request sent, awaiting response... 302 Found\n",
            "Location: https://uc1649d86a45c4c054824d1d0844.dl.dropboxusercontent.com/cd/0/inline/Apr0u9AWY8rAg2ns5hIjm-FGUCVqk-mlUw9dTvLItKsfftuOVxgGDhsKgU13Y9JFN-nt8UADnpA_Crfdl9ttKVj1E9qzhPGvddY1AcXx9FZOvqCr1vpxsRW7hxxzGoN_ddk/file# [following]\n",
            "--2019-10-02 19:28:31--  https://uc1649d86a45c4c054824d1d0844.dl.dropboxusercontent.com/cd/0/inline/Apr0u9AWY8rAg2ns5hIjm-FGUCVqk-mlUw9dTvLItKsfftuOVxgGDhsKgU13Y9JFN-nt8UADnpA_Crfdl9ttKVj1E9qzhPGvddY1AcXx9FZOvqCr1vpxsRW7hxxzGoN_ddk/file\n",
            "Resolving uc1649d86a45c4c054824d1d0844.dl.dropboxusercontent.com (uc1649d86a45c4c054824d1d0844.dl.dropboxusercontent.com)... 162.125.8.6, 2620:100:601b:6::a27d:806\n",
            "Connecting to uc1649d86a45c4c054824d1d0844.dl.dropboxusercontent.com (uc1649d86a45c4c054824d1d0844.dl.dropboxusercontent.com)|162.125.8.6|:443... connected.\n",
            "HTTP request sent, awaiting response... 302 FOUND\n",
            "Location: /cd/0/inline2/Apq50nWuaVUdR9moQcieSGE8GdweJK0oMd1yQQzthtKF49ZhxXDLE3IQ3PdilOAc_f569_dyXJwNfFZzsX8hV4XaJ3ylLCSkn4n1lEIIxZPY0rkZ0iPPkPlIhuec45BedG6Jd-CHqnn-T_gWyqf6gGoaa2CCJ-mhoQfuMmsDPdh4-Ql7JEFw8fkT8pX74R-C6PycswGIzpZ0p6QN-Y8UNkv2tDEOsWKTX6qkDFmSChe857MId3FhqbgQQVhKHBhmwJxYExsUGtip4LKzAHpiyXCZKPs_4l8Ln4gPaTiCOr25YCdavy1eDiafejVCqvKHtkWwAeWVaINNSVZcPPbptUU1_VQNb0ZtatmP2OkpeZViJA/file [following]\n",
            "--2019-10-02 19:28:31--  https://uc1649d86a45c4c054824d1d0844.dl.dropboxusercontent.com/cd/0/inline2/Apq50nWuaVUdR9moQcieSGE8GdweJK0oMd1yQQzthtKF49ZhxXDLE3IQ3PdilOAc_f569_dyXJwNfFZzsX8hV4XaJ3ylLCSkn4n1lEIIxZPY0rkZ0iPPkPlIhuec45BedG6Jd-CHqnn-T_gWyqf6gGoaa2CCJ-mhoQfuMmsDPdh4-Ql7JEFw8fkT8pX74R-C6PycswGIzpZ0p6QN-Y8UNkv2tDEOsWKTX6qkDFmSChe857MId3FhqbgQQVhKHBhmwJxYExsUGtip4LKzAHpiyXCZKPs_4l8Ln4gPaTiCOr25YCdavy1eDiafejVCqvKHtkWwAeWVaINNSVZcPPbptUU1_VQNb0ZtatmP2OkpeZViJA/file\n",
            "Reusing existing connection to uc1649d86a45c4c054824d1d0844.dl.dropboxusercontent.com:443.\n",
            "HTTP request sent, awaiting response... 200 OK\n",
            "Length: 111099 (108K) [application/zip]\n",
            "Saving to: ‘Music_files.zip’\n",
            "\n",
            "Music_files.zip     100%[===================>] 108.50K  --.-KB/s    in 0.04s   \n",
            "\n",
            "2019-10-02 19:28:31 (2.78 MB/s) - ‘Music_files.zip’ saved [111099/111099]\n",
            "\n"
          ],
          "name": "stdout"
        }
      ]
    },
    {
      "cell_type": "code",
      "metadata": {
        "id": "qjPxdnNK8go7",
        "colab_type": "code",
        "outputId": "e768a210-8410-4c88-82a9-a750a8e1758c",
        "colab": {
          "base_uri": "https://localhost:8080/",
          "height": 459
        }
      },
      "source": [
        "!unzip Music_files.zip"
      ],
      "execution_count": 0,
      "outputs": [
        {
          "output_type": "stream",
          "text": [
            "Archive:  Music_files.zip\n",
            "  inflating: Music_files/Nintendo_-_Kirby_and_The_Amazing_Mirror_Area_1_Rainbow_Route_Piano_Cover_Play_2_Times.mid  \n",
            "  inflating: Music_files/Nintendo_-_Kirby_and_The_Amazing_Mirror_Area_1_RainBow_Route_Piano_Cover_Play_50_Times.mid  \n",
            "  inflating: Music_files/Nintendo_-_Kirby_and_The_Amazing_Mirror_Area_9_Candy_Constellation_Play_2_Times.mid  \n",
            "  inflating: Music_files/Nintendo_-_Kirby_and_The_Amazing_Mirror_Area_9_Candy_Constellation_Play_50_Times.mid  \n",
            "  inflating: Music_files/Nintendo_-_Kirby_Gourmet_Race_Round_1_and_3_(20Times).mid  \n",
            "  inflating: Music_files/Nintendo_-_Kirby_Gourmet_Race_Round_1_and_3_(5_Times).mid  \n",
            "  inflating: Music_files/Nintendo_-_Kirby_Gourmet_Race_Round_2_(20Times).mid  \n",
            "  inflating: Music_files/Nintendo_-_Kirby_Nightmare_In_Dreamland_Kirby_Air_Grind_Play_3_Times.mid  \n",
            "  inflating: Music_files/Nintendo_-_Kirby_Nightmare_Kirby_Air_Grind_Piano_Cover.mid  \n",
            "  inflating: Music_files/Nintendo_-_Pokemon_Crystal_Gym_Play_3_Times.mid  \n",
            "  inflating: Music_files/Nintendo_-_Pokemon_Fire_Red_Pallet_Town_Theme_(2_Times).mid  \n",
            "  inflating: Music_files/Nintendo_-_Pokemon_Fire_Red_Route_1_Piano_Cover_Hard_Version (1).mid  \n",
            "  inflating: Music_files/Nintendo_-_Pokemon_Fire_Red_Version_Gym_Theme_(Piano_Ver.).mid  \n",
            "  inflating: Music_files/Nintendo_-_Pokemon_Fire_Red_Version_Route_1_(Piano_Ver.).mid  \n",
            "  inflating: Music_files/Nintendo_-_Pokemon_FRLG_Battle_Gym_Leader_Play_2_Times.mid  \n",
            "  inflating: Music_files/Nintendo_-_Pokemon_FRLG_Battle_Gym_Leader_Play_50_Times.mid  \n",
            "  inflating: Music_files/Nintendo_-_Pokemon_Fure_Red_Route_1_Play_3_Times.mid  \n",
            "  inflating: Music_files/Nintendo_-_Pokemon_G_S_C_Bike_Ride_Theme_(3_Times).mid  \n",
            "  inflating: Music_files/Nintendo_-_Pokemon_G_S_C_Bike_Ride_Theme_(50_Times).mid  \n",
            "  inflating: Music_files/Nintendo_-_Pokemon_G_S_C_Goldenrod_City_Piano_Cover_50_Times.mid  \n",
            "  inflating: Music_files/Nintendo_-_Pokemon_G_S_C_Goldenrod_City_Piano_Cover_Play_2_Times.mid  \n",
            "  inflating: Music_files/Nintendo_-_Pokemon_Liquid_Crystal_Gym_Piano_Cover.mid  \n",
            "  inflating: Music_files/Nintendo_-_Pokemon_Liquid_Crystal_Violet_City_Piano_Cover.mid  \n",
            "  inflating: Music_files/Nintendo_-_Pokemon_Liquid_Crystal_Violet_City_Play_3_Times.mid  \n",
            "  inflating: Music_files/Nintendo_-_Pokemon_Poke_Center_(Piano_Ver.).mid  \n"
          ],
          "name": "stdout"
        }
      ]
    },
    {
      "cell_type": "code",
      "metadata": {
        "id": "RKfHPaSN8XWN",
        "colab_type": "code",
        "outputId": "870ab8ef-022a-48e6-ee8a-14c0ae464feb",
        "colab": {
          "base_uri": "https://localhost:8080/",
          "height": 68
        }
      },
      "source": [
        "!ls"
      ],
      "execution_count": 0,
      "outputs": [
        {
          "output_type": "stream",
          "text": [
            "4570\t\t\t     Music_files      sample_data\n",
            "AABjLZ0vSQsBDRv8KZrKwb4Ia    Music_files.zip\n",
            "AABjLZ0vSQsBDRv8KZrKwb4Ia.1  music.mid\n"
          ],
          "name": "stdout"
        }
      ]
    },
    {
      "cell_type": "code",
      "metadata": {
        "id": "41PGki722j_W",
        "colab_type": "code",
        "outputId": "2a5ce286-28a7-41f6-9adb-c415ff2c2be4",
        "colab": {
          "base_uri": "https://localhost:8080/",
          "height": 34
        }
      },
      "source": [
        "!pip install mido\n",
        "import mido\n",
        "from mido import MidiFile, MidiTrack, Message\n",
        "from keras.layers import LSTM, Dense, Activation, Dropout, Flatten\n",
        "from keras.preprocessing import sequence\n",
        "from keras.models import Sequential\n",
        "from keras.optimizers import Adam\n",
        "from keras.callbacks import ModelCheckpoint\n",
        "import numpy as np"
      ],
      "execution_count": 0,
      "outputs": [
        {
          "output_type": "stream",
          "text": [
            "Requirement already satisfied: mido in /usr/local/lib/python3.6/dist-packages (1.2.6)\n"
          ],
          "name": "stdout"
        }
      ]
    },
    {
      "cell_type": "code",
      "metadata": {
        "id": "xeiySJun2pB3",
        "colab_type": "code",
        "colab": {}
      },
      "source": [
        "from music21 import converter, instrument, note, chord\n",
        "#mid = MidiFile('/content/music.mid') \n",
        "notes = []\n",
        "velocities = []"
      ],
      "execution_count": 0,
      "outputs": []
    },
    {
      "cell_type": "code",
      "metadata": {
        "id": "c7fxrFt73MWo",
        "colab_type": "code",
        "colab": {}
      },
      "source": [
        "from glob import glob"
      ],
      "execution_count": 0,
      "outputs": []
    },
    {
      "cell_type": "code",
      "metadata": {
        "id": "MJUvlFFZ2kjm",
        "colab_type": "code",
        "outputId": "d0fd047b-2860-4a6c-fda4-af3e21d3ae53",
        "colab": {
          "base_uri": "https://localhost:8080/",
          "height": 442
        }
      },
      "source": [
        "for file in glob(\"/content/Music_files/*.mid\"):\n",
        "  print(file)\n",
        "  midi = converter.parse(file)\n",
        "  notes_to_parse = None\n",
        "  parts = instrument.partitionByInstrument(midi)\n",
        "  if parts: # file has instrument parts\n",
        "      notes_to_parse = parts.parts[0].recurse()\n",
        "  else: # file has notes in a flat structure\n",
        "      notes_to_parse = midi.flat.notes\n",
        "  for element in notes_to_parse:\n",
        "      if isinstance(element, note.Note):\n",
        "          notes.append(str(element.pitch))\n",
        "      elif isinstance(element, chord.Chord):\n",
        "          notes.append('.'.join(str(n) for n in element.normalOrder))"
      ],
      "execution_count": 0,
      "outputs": [
        {
          "output_type": "stream",
          "text": [
            "/content/Music_files/Nintendo_-_Kirby_and_The_Amazing_Mirror_Area_9_Candy_Constellation_Play_50_Times.mid\n",
            "/content/Music_files/Nintendo_-_Pokemon_G_S_C_Goldenrod_City_Piano_Cover_Play_2_Times.mid\n",
            "/content/Music_files/Nintendo_-_Pokemon_Fire_Red_Version_Gym_Theme_(Piano_Ver.).mid\n",
            "/content/Music_files/Nintendo_-_Pokemon_FRLG_Battle_Gym_Leader_Play_2_Times.mid\n",
            "/content/Music_files/Nintendo_-_Pokemon_Liquid_Crystal_Gym_Piano_Cover.mid\n",
            "/content/Music_files/Nintendo_-_Kirby_Gourmet_Race_Round_1_and_3_(5_Times).mid\n",
            "/content/Music_files/Nintendo_-_Kirby_and_The_Amazing_Mirror_Area_9_Candy_Constellation_Play_2_Times.mid\n",
            "/content/Music_files/Nintendo_-_Pokemon_Fure_Red_Route_1_Play_3_Times.mid\n",
            "/content/Music_files/Nintendo_-_Pokemon_Fire_Red_Pallet_Town_Theme_(2_Times).mid\n",
            "/content/Music_files/Nintendo_-_Kirby_Gourmet_Race_Round_2_(20Times).mid\n",
            "/content/Music_files/Nintendo_-_Pokemon_G_S_C_Bike_Ride_Theme_(3_Times).mid\n",
            "/content/Music_files/Nintendo_-_Kirby_and_The_Amazing_Mirror_Area_1_Rainbow_Route_Piano_Cover_Play_2_Times.mid\n",
            "/content/Music_files/Nintendo_-_Pokemon_Crystal_Gym_Play_3_Times.mid\n",
            "/content/Music_files/Nintendo_-_Pokemon_G_S_C_Bike_Ride_Theme_(50_Times).mid\n",
            "/content/Music_files/Nintendo_-_Kirby_Nightmare_In_Dreamland_Kirby_Air_Grind_Play_3_Times.mid\n",
            "/content/Music_files/Nintendo_-_Pokemon_Liquid_Crystal_Violet_City_Play_3_Times.mid\n",
            "/content/Music_files/Nintendo_-_Pokemon_Fire_Red_Version_Route_1_(Piano_Ver.).mid\n",
            "/content/Music_files/Nintendo_-_Kirby_and_The_Amazing_Mirror_Area_1_RainBow_Route_Piano_Cover_Play_50_Times.mid\n",
            "/content/Music_files/Nintendo_-_Kirby_Gourmet_Race_Round_1_and_3_(20Times).mid\n",
            "/content/Music_files/Nintendo_-_Pokemon_Liquid_Crystal_Violet_City_Piano_Cover.mid\n",
            "/content/Music_files/Nintendo_-_Pokemon_G_S_C_Goldenrod_City_Piano_Cover_50_Times.mid\n",
            "/content/Music_files/Nintendo_-_Pokemon_Poke_Center_(Piano_Ver.).mid\n",
            "/content/Music_files/Nintendo_-_Pokemon_FRLG_Battle_Gym_Leader_Play_50_Times.mid\n",
            "/content/Music_files/Nintendo_-_Kirby_Nightmare_Kirby_Air_Grind_Piano_Cover.mid\n",
            "/content/Music_files/Nintendo_-_Pokemon_Fire_Red_Route_1_Piano_Cover_Hard_Version (1).mid\n"
          ],
          "name": "stdout"
        }
      ]
    },
    {
      "cell_type": "code",
      "metadata": {
        "id": "5Cuz0Aqu4d6I",
        "colab_type": "code",
        "colab": {}
      },
      "source": [
        "from keras.utils import np_utils"
      ],
      "execution_count": 0,
      "outputs": []
    },
    {
      "cell_type": "code",
      "metadata": {
        "id": "FeknAybm6m5T",
        "colab_type": "code",
        "outputId": "62f189b6-ee4f-4b66-c013-845fea8723a1",
        "colab": {
          "base_uri": "https://localhost:8080/",
          "height": 34
        }
      },
      "source": [
        "len(notes)"
      ],
      "execution_count": 0,
      "outputs": [
        {
          "output_type": "execute_result",
          "data": {
            "text/plain": [
              "218174"
            ]
          },
          "metadata": {
            "tags": []
          },
          "execution_count": 41
        }
      ]
    },
    {
      "cell_type": "code",
      "metadata": {
        "id": "R8A1AJ8E2441",
        "colab_type": "code",
        "colab": {}
      },
      "source": [
        "sequence_length = 100\n",
        "# get all pitch names\n",
        "pitchnames = sorted(set(item for item in notes))\n",
        "# create a dictionary to map pitches to integers\n",
        "note_to_int = dict((note, number) for number, note in enumerate(pitchnames))\n",
        "network_input = []\n",
        "network_output = []\n",
        "# create input sequences and the corresponding outputs\n",
        "for i in range(0, len(notes) - sequence_length, 1):\n",
        "    sequence_in = notes[i:i + sequence_length]\n",
        "    sequence_out = notes[i + sequence_length]\n",
        "    network_input.append([note_to_int[char] for char in sequence_in])\n",
        "    network_output.append(note_to_int[sequence_out])\n",
        "n_patterns = len(network_input)\n",
        "# reshape the input into a format compatible with LSTM layers\n",
        "network_input = np.reshape(network_input, (n_patterns, sequence_length, 1))\n",
        "# normalize input\n",
        "network_input = network_input / np.max(network_input)\n",
        "network_output = np_utils.to_categorical(network_output)"
      ],
      "execution_count": 0,
      "outputs": []
    },
    {
      "cell_type": "code",
      "metadata": {
        "id": "75qfV5n-5B2v",
        "colab_type": "code",
        "outputId": "505fbc76-1d80-4665-975b-024de1ff50df",
        "colab": {
          "base_uri": "https://localhost:8080/",
          "height": 34
        }
      },
      "source": [
        "network_output.shape"
      ],
      "execution_count": 0,
      "outputs": [
        {
          "output_type": "execute_result",
          "data": {
            "text/plain": [
              "(218074, 162)"
            ]
          },
          "metadata": {
            "tags": []
          },
          "execution_count": 43
        }
      ]
    },
    {
      "cell_type": "code",
      "metadata": {
        "id": "g4EsmPKP4M8H",
        "colab_type": "code",
        "outputId": "fd102002-cffb-4970-bb3f-11cfd3f18e0d",
        "colab": {
          "base_uri": "https://localhost:8080/",
          "height": 34
        }
      },
      "source": [
        "np.max(network_input)"
      ],
      "execution_count": 0,
      "outputs": [
        {
          "output_type": "execute_result",
          "data": {
            "text/plain": [
              "1.0"
            ]
          },
          "metadata": {
            "tags": []
          },
          "execution_count": 44
        }
      ]
    },
    {
      "cell_type": "code",
      "metadata": {
        "id": "hF7TUx0j4ifs",
        "colab_type": "code",
        "outputId": "c9882c6b-d613-4821-9f79-eb7afaf2bf9f",
        "colab": {
          "base_uri": "https://localhost:8080/",
          "height": 292
        }
      },
      "source": [
        "model = Sequential()\n",
        "model.add(LSTM(\n",
        "    256,\n",
        "    input_shape=(network_input.shape[1], network_input.shape[2]),\n",
        "    return_sequences=True\n",
        "))\n",
        "model.add(Dropout(0.3))\n",
        "model.add(LSTM(512, return_sequences=True))\n",
        "model.add(Dropout(0.3))\n",
        "model.add(LSTM(256))\n",
        "model.add(Dense(256))\n",
        "model.add(Dropout(0.3))\n",
        "model.add(Dense(network_output.shape[1]))\n",
        "model.add(Activation('softmax'))\n",
        "model.compile(loss='categorical_crossentropy', optimizer='adam')"
      ],
      "execution_count": 0,
      "outputs": [
        {
          "output_type": "stream",
          "text": [
            "WARNING:tensorflow:From /usr/local/lib/python3.6/dist-packages/keras/backend/tensorflow_backend.py:66: The name tf.get_default_graph is deprecated. Please use tf.compat.v1.get_default_graph instead.\n",
            "\n",
            "WARNING:tensorflow:From /usr/local/lib/python3.6/dist-packages/keras/backend/tensorflow_backend.py:541: The name tf.placeholder is deprecated. Please use tf.compat.v1.placeholder instead.\n",
            "\n",
            "WARNING:tensorflow:From /usr/local/lib/python3.6/dist-packages/keras/backend/tensorflow_backend.py:4432: The name tf.random_uniform is deprecated. Please use tf.random.uniform instead.\n",
            "\n",
            "WARNING:tensorflow:From /usr/local/lib/python3.6/dist-packages/keras/backend/tensorflow_backend.py:148: The name tf.placeholder_with_default is deprecated. Please use tf.compat.v1.placeholder_with_default instead.\n",
            "\n",
            "WARNING:tensorflow:From /usr/local/lib/python3.6/dist-packages/keras/backend/tensorflow_backend.py:3733: calling dropout (from tensorflow.python.ops.nn_ops) with keep_prob is deprecated and will be removed in a future version.\n",
            "Instructions for updating:\n",
            "Please use `rate` instead of `keep_prob`. Rate should be set to `rate = 1 - keep_prob`.\n",
            "WARNING:tensorflow:From /usr/local/lib/python3.6/dist-packages/keras/optimizers.py:793: The name tf.train.Optimizer is deprecated. Please use tf.compat.v1.train.Optimizer instead.\n",
            "\n",
            "WARNING:tensorflow:From /usr/local/lib/python3.6/dist-packages/keras/backend/tensorflow_backend.py:3576: The name tf.log is deprecated. Please use tf.math.log instead.\n",
            "\n"
          ],
          "name": "stdout"
        }
      ]
    },
    {
      "cell_type": "code",
      "metadata": {
        "id": "jdYl0cMC46xa",
        "colab_type": "code",
        "outputId": "0ab96e5e-0fc2-4ec3-8528-83eec5b7a1d6",
        "colab": {
          "base_uri": "https://localhost:8080/",
          "height": 136
        }
      },
      "source": [
        "model.fit(network_input, network_output, epochs=3, batch_size=256, verbose = 1)"
      ],
      "execution_count": 0,
      "outputs": [
        {
          "output_type": "stream",
          "text": [
            "Epoch 1/3\n",
            "218074/218074 [==============================] - 728s 3ms/step - loss: 2.8474\n",
            "Epoch 2/3\n",
            "218074/218074 [==============================] - 726s 3ms/step - loss: 0.5272\n",
            "Epoch 3/3\n",
            "218074/218074 [==============================] - 724s 3ms/step - loss: 0.2177\n"
          ],
          "name": "stdout"
        },
        {
          "output_type": "execute_result",
          "data": {
            "text/plain": [
              "<keras.callbacks.History at 0x7fa4c022def0>"
            ]
          },
          "metadata": {
            "tags": []
          },
          "execution_count": 47
        }
      ]
    },
    {
      "cell_type": "code",
      "metadata": {
        "id": "bRHzyTHlAB6g",
        "colab_type": "code",
        "colab": {}
      },
      "source": [
        "start = np.random.randint(0, len(network_input)-1)\n",
        "int_to_note = dict((number, note) for number, note in enumerate(pitchnames))\n",
        "pattern = network_input[start].tolist()\n",
        "prediction_output = []\n",
        "# generate 500 notes\n",
        "for note_index in range(500):\n",
        "    prediction_input = np.reshape(pattern, (1, len(pattern), 1))\n",
        "    prediction_input = prediction_input \n",
        "    prediction = model.predict(prediction_input, verbose=0)\n",
        "    index = np.argmax(prediction)\n",
        "    result = int_to_note[index]\n",
        "    prediction_output.append(result)\n",
        "    pattern.append([index/48])\n",
        "    pattern = pattern[1:len(pattern)]"
      ],
      "execution_count": 0,
      "outputs": []
    },
    {
      "cell_type": "code",
      "metadata": {
        "id": "EfT5y2d85Io1",
        "colab_type": "code",
        "colab": {}
      },
      "source": [
        "offset = 0\n",
        "output_notes = []\n",
        "# create note and chord objects based on the values generated by the model\n",
        "for pattern in prediction_output:\n",
        "    # pattern is a chord\n",
        "    if ('.' in pattern) or pattern.isdigit():\n",
        "        notes_in_chord = pattern.split('.')\n",
        "        notes = []\n",
        "        for current_note in notes_in_chord:\n",
        "            new_note = note.Note(int(current_note))\n",
        "            new_note.storedInstrument = instrument.Piano()\n",
        "            notes.append(new_note)\n",
        "        new_chord = chord.Chord(notes)\n",
        "        new_chord.offset = offset\n",
        "        output_notes.append(new_chord)\n",
        "    # pattern is a note\n",
        "    else:\n",
        "        new_note = note.Note(pattern)\n",
        "        new_note.offset = offset\n",
        "        new_note.storedInstrument = instrument.Piano()\n",
        "        output_notes.append(new_note)\n",
        "    # increase offset each iteration so that notes do not stack\n",
        "    offset += 0.5"
      ],
      "execution_count": 0,
      "outputs": []
    },
    {
      "cell_type": "code",
      "metadata": {
        "id": "4xu3alQbBQZY",
        "colab_type": "code",
        "colab": {}
      },
      "source": [
        "from music21 import stream"
      ],
      "execution_count": 0,
      "outputs": []
    },
    {
      "cell_type": "code",
      "metadata": {
        "id": "vr5EeOG9Ae1d",
        "colab_type": "code",
        "outputId": "c2bf8459-189c-4788-e4af-7f3f8a85fff7",
        "colab": {
          "base_uri": "https://localhost:8080/",
          "height": 34
        }
      },
      "source": [
        "midi_stream = stream.Stream(output_notes)\n",
        "midi_stream.write('midi', fp='/content/test_output.mid')"
      ],
      "execution_count": 0,
      "outputs": [
        {
          "output_type": "execute_result",
          "data": {
            "text/plain": [
              "'/content/test_output.mid'"
            ]
          },
          "metadata": {
            "tags": []
          },
          "execution_count": 51
        }
      ]
    },
    {
      "cell_type": "code",
      "metadata": {
        "id": "MZtM46WkBJa-",
        "colab_type": "code",
        "colab": {}
      },
      "source": [
        "from google.colab import files\n",
        "files.download('/content/test_output.mid') "
      ],
      "execution_count": 0,
      "outputs": []
    },
    {
      "cell_type": "code",
      "metadata": {
        "id": "aaGCZ-4gBkQk",
        "colab_type": "code",
        "colab": {}
      },
      "source": [
        ""
      ],
      "execution_count": 0,
      "outputs": []
    }
  ]
}