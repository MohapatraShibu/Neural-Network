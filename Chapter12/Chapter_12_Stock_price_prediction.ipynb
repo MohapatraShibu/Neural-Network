{
  "nbformat": 4,
  "nbformat_minor": 0,
  "metadata": {
    "colab": {
      "name": "Chapter_12_Stock_price_prediction.ipynb",
      "provenance": [],
      "collapsed_sections": []
    },
    "kernelspec": {
      "name": "python3",
      "display_name": "Python 3"
    },
    "accelerator": "GPU"
  },
  "cells": [
    {
      "cell_type": "markdown",
      "metadata": {
        "id": "b8Dna2xZH-MD",
        "colab_type": "text"
      },
      "source": [
        "https://colab.research.google.com/drive/1A_0aylFzmGWBX6HSdlubip0TJ7L04sUn"
      ]
    },
    {
      "cell_type": "code",
      "metadata": {
        "id": "8j6OCu0MM_Sj",
        "colab_type": "code",
        "colab": {}
      },
      "source": [
        "from bs4 import BeautifulSoup\n",
        "from bs4 import BeautifulSoup\n",
        "import urllib, json"
      ],
      "execution_count": 0,
      "outputs": []
    },
    {
      "cell_type": "code",
      "metadata": {
        "id": "LETNp4F8NyeH",
        "colab_type": "code",
        "outputId": "8ea64d91-9ee4-4a85-fb10-ed381bc2ba09",
        "colab": {
          "base_uri": "https://localhost:8080/",
          "height": 136
        }
      },
      "source": [
        "dates = []\n",
        "titles = []\n",
        "for i in range(100):\n",
        "  try:\n",
        "    url = 'https://content.guardianapis.com/search?from-date=2010-01-01&section=business&page-size=200&order-by=newest&page='+str(i+1)+'&q=amazon&api-key=207b6047-a2a6-4dd2-813b-5cd006b780d7'\n",
        "    response = urllib.request.urlopen(url)\n",
        "    encoding = response.info().get_content_charset('utf8')\n",
        "    data = json.loads(response.read().decode(encoding))\n",
        "    print(i)\n",
        "    for j in range(len(data['response']['results'])):\n",
        "      dates.append(data['response']['results'][j]['webPublicationDate'])\n",
        "      titles.append(data['response']['results'][j]['webTitle'])  \n",
        "  except:\n",
        "    break"
      ],
      "execution_count": 0,
      "outputs": [
        {
          "output_type": "stream",
          "text": [
            "0\n",
            "1\n",
            "2\n",
            "3\n",
            "4\n",
            "5\n",
            "6\n"
          ],
          "name": "stdout"
        }
      ]
    },
    {
      "cell_type": "code",
      "metadata": {
        "id": "9w_GPHj7QB8h",
        "colab_type": "code",
        "outputId": "82453b3d-2eaa-46f2-d258-0a6b9ec48617",
        "colab": {
          "base_uri": "https://localhost:8080/",
          "height": 34
        }
      },
      "source": [
        "len(set(dates))"
      ],
      "execution_count": 0,
      "outputs": [
        {
          "output_type": "execute_result",
          "data": {
            "text/plain": [
              "1269"
            ]
          },
          "metadata": {
            "tags": []
          },
          "execution_count": 3
        }
      ]
    },
    {
      "cell_type": "code",
      "metadata": {
        "id": "24EE_UpvQXOG",
        "colab_type": "code",
        "outputId": "412c50cc-58da-45fd-e8a1-a33728e050c7",
        "colab": {
          "base_uri": "https://localhost:8080/",
          "height": 34
        }
      },
      "source": [
        "dates[-1]"
      ],
      "execution_count": 0,
      "outputs": [
        {
          "output_type": "execute_result",
          "data": {
            "text/plain": [
              "'2010-01-01T16:27:51Z'"
            ]
          },
          "metadata": {
            "tags": []
          },
          "execution_count": 4
        }
      ]
    },
    {
      "cell_type": "code",
      "metadata": {
        "id": "aHJR0N7GQkDY",
        "colab_type": "code",
        "colab": {}
      },
      "source": [
        "import pandas as pd\n",
        "data = pd.DataFrame(dates, titles)"
      ],
      "execution_count": 0,
      "outputs": []
    },
    {
      "cell_type": "code",
      "metadata": {
        "id": "vZ0-BDZNOUVS",
        "colab_type": "code",
        "outputId": "88069ea3-32c9-4302-f5b6-eb786d082d6b",
        "colab": {
          "base_uri": "https://localhost:8080/",
          "height": 204
        }
      },
      "source": [
        "data.head()"
      ],
      "execution_count": 0,
      "outputs": [
        {
          "output_type": "execute_result",
          "data": {
            "text/html": [
              "<div>\n",
              "<style scoped>\n",
              "    .dataframe tbody tr th:only-of-type {\n",
              "        vertical-align: middle;\n",
              "    }\n",
              "\n",
              "    .dataframe tbody tr th {\n",
              "        vertical-align: top;\n",
              "    }\n",
              "\n",
              "    .dataframe thead th {\n",
              "        text-align: right;\n",
              "    }\n",
              "</style>\n",
              "<table border=\"1\" class=\"dataframe\">\n",
              "  <thead>\n",
              "    <tr style=\"text-align: right;\">\n",
              "      <th></th>\n",
              "      <th>0</th>\n",
              "    </tr>\n",
              "  </thead>\n",
              "  <tbody>\n",
              "    <tr>\n",
              "      <th>English councils send bailiffs to 310 firms a day, study reveals</th>\n",
              "      <td>2019-09-22T17:23:58Z</td>\n",
              "    </tr>\n",
              "    <tr>\n",
              "      <th>Labour has a plan for industry – and bosses are listening</th>\n",
              "      <td>2019-09-22T06:00:06Z</td>\n",
              "    </tr>\n",
              "    <tr>\n",
              "      <th>Federal Reserve cuts interest rates, and earns another blast from Trump - as it happened</th>\n",
              "      <td>2019-09-18T20:35:08Z</td>\n",
              "    </tr>\n",
              "    <tr>\n",
              "      <th>WeWork's IPO delay a blow to Japanese investment giant Softbank</th>\n",
              "      <td>2019-09-17T21:54:17Z</td>\n",
              "    </tr>\n",
              "    <tr>\n",
              "      <th>Trump hits out as ECB launches new stimulus programme to fight recession - as it happened</th>\n",
              "      <td>2019-09-12T16:27:50Z</td>\n",
              "    </tr>\n",
              "  </tbody>\n",
              "</table>\n",
              "</div>"
            ],
            "text/plain": [
              "                                                                       0\n",
              "English councils send bailiffs to 310 firms a d...  2019-09-22T17:23:58Z\n",
              "Labour has a plan for industry – and bosses are...  2019-09-22T06:00:06Z\n",
              "Federal Reserve cuts interest rates, and earns ...  2019-09-18T20:35:08Z\n",
              "WeWork's IPO delay a blow to Japanese investmen...  2019-09-17T21:54:17Z\n",
              "Trump hits out as ECB launches new stimulus pro...  2019-09-12T16:27:50Z"
            ]
          },
          "metadata": {
            "tags": []
          },
          "execution_count": 6
        }
      ]
    },
    {
      "cell_type": "code",
      "metadata": {
        "id": "3sN2TmXmOXs7",
        "colab_type": "code",
        "outputId": "3608cd9e-d447-40b9-f60e-19e0c79cfec9",
        "colab": {
          "base_uri": "https://localhost:8080/",
          "height": 204
        }
      },
      "source": [
        "data = data.reset_index()\n",
        "data.columns = ['title','date']\n",
        "data.head()"
      ],
      "execution_count": 0,
      "outputs": [
        {
          "output_type": "execute_result",
          "data": {
            "text/html": [
              "<div>\n",
              "<style scoped>\n",
              "    .dataframe tbody tr th:only-of-type {\n",
              "        vertical-align: middle;\n",
              "    }\n",
              "\n",
              "    .dataframe tbody tr th {\n",
              "        vertical-align: top;\n",
              "    }\n",
              "\n",
              "    .dataframe thead th {\n",
              "        text-align: right;\n",
              "    }\n",
              "</style>\n",
              "<table border=\"1\" class=\"dataframe\">\n",
              "  <thead>\n",
              "    <tr style=\"text-align: right;\">\n",
              "      <th></th>\n",
              "      <th>title</th>\n",
              "      <th>date</th>\n",
              "    </tr>\n",
              "  </thead>\n",
              "  <tbody>\n",
              "    <tr>\n",
              "      <th>0</th>\n",
              "      <td>English councils send bailiffs to 310 firms a ...</td>\n",
              "      <td>2019-09-22T17:23:58Z</td>\n",
              "    </tr>\n",
              "    <tr>\n",
              "      <th>1</th>\n",
              "      <td>Labour has a plan for industry – and bosses ar...</td>\n",
              "      <td>2019-09-22T06:00:06Z</td>\n",
              "    </tr>\n",
              "    <tr>\n",
              "      <th>2</th>\n",
              "      <td>Federal Reserve cuts interest rates, and earns...</td>\n",
              "      <td>2019-09-18T20:35:08Z</td>\n",
              "    </tr>\n",
              "    <tr>\n",
              "      <th>3</th>\n",
              "      <td>WeWork's IPO delay a blow to Japanese investme...</td>\n",
              "      <td>2019-09-17T21:54:17Z</td>\n",
              "    </tr>\n",
              "    <tr>\n",
              "      <th>4</th>\n",
              "      <td>Trump hits out as ECB launches new stimulus pr...</td>\n",
              "      <td>2019-09-12T16:27:50Z</td>\n",
              "    </tr>\n",
              "  </tbody>\n",
              "</table>\n",
              "</div>"
            ],
            "text/plain": [
              "                                               title                  date\n",
              "0  English councils send bailiffs to 310 firms a ...  2019-09-22T17:23:58Z\n",
              "1  Labour has a plan for industry – and bosses ar...  2019-09-22T06:00:06Z\n",
              "2  Federal Reserve cuts interest rates, and earns...  2019-09-18T20:35:08Z\n",
              "3  WeWork's IPO delay a blow to Japanese investme...  2019-09-17T21:54:17Z\n",
              "4  Trump hits out as ECB launches new stimulus pr...  2019-09-12T16:27:50Z"
            ]
          },
          "metadata": {
            "tags": []
          },
          "execution_count": 7
        }
      ]
    },
    {
      "cell_type": "code",
      "metadata": {
        "id": "c3FpI9iHOfwR",
        "colab_type": "code",
        "colab": {}
      },
      "source": [
        "data['date']=data['date'].str[:10]"
      ],
      "execution_count": 0,
      "outputs": []
    },
    {
      "cell_type": "code",
      "metadata": {
        "id": "XxCrkBheOrEz",
        "colab_type": "code",
        "outputId": "9b1d9662-d29c-4423-b966-5ae3139d64a4",
        "colab": {
          "base_uri": "https://localhost:8080/",
          "height": 204
        }
      },
      "source": [
        "data.head()"
      ],
      "execution_count": 0,
      "outputs": [
        {
          "output_type": "execute_result",
          "data": {
            "text/html": [
              "<div>\n",
              "<style scoped>\n",
              "    .dataframe tbody tr th:only-of-type {\n",
              "        vertical-align: middle;\n",
              "    }\n",
              "\n",
              "    .dataframe tbody tr th {\n",
              "        vertical-align: top;\n",
              "    }\n",
              "\n",
              "    .dataframe thead th {\n",
              "        text-align: right;\n",
              "    }\n",
              "</style>\n",
              "<table border=\"1\" class=\"dataframe\">\n",
              "  <thead>\n",
              "    <tr style=\"text-align: right;\">\n",
              "      <th></th>\n",
              "      <th>title</th>\n",
              "      <th>date</th>\n",
              "    </tr>\n",
              "  </thead>\n",
              "  <tbody>\n",
              "    <tr>\n",
              "      <th>0</th>\n",
              "      <td>English councils send bailiffs to 310 firms a ...</td>\n",
              "      <td>2019-09-22</td>\n",
              "    </tr>\n",
              "    <tr>\n",
              "      <th>1</th>\n",
              "      <td>Labour has a plan for industry – and bosses ar...</td>\n",
              "      <td>2019-09-22</td>\n",
              "    </tr>\n",
              "    <tr>\n",
              "      <th>2</th>\n",
              "      <td>Federal Reserve cuts interest rates, and earns...</td>\n",
              "      <td>2019-09-18</td>\n",
              "    </tr>\n",
              "    <tr>\n",
              "      <th>3</th>\n",
              "      <td>WeWork's IPO delay a blow to Japanese investme...</td>\n",
              "      <td>2019-09-17</td>\n",
              "    </tr>\n",
              "    <tr>\n",
              "      <th>4</th>\n",
              "      <td>Trump hits out as ECB launches new stimulus pr...</td>\n",
              "      <td>2019-09-12</td>\n",
              "    </tr>\n",
              "  </tbody>\n",
              "</table>\n",
              "</div>"
            ],
            "text/plain": [
              "                                               title        date\n",
              "0  English councils send bailiffs to 310 firms a ...  2019-09-22\n",
              "1  Labour has a plan for industry – and bosses ar...  2019-09-22\n",
              "2  Federal Reserve cuts interest rates, and earns...  2019-09-18\n",
              "3  WeWork's IPO delay a blow to Japanese investme...  2019-09-17\n",
              "4  Trump hits out as ECB launches new stimulus pr...  2019-09-12"
            ]
          },
          "metadata": {
            "tags": []
          },
          "execution_count": 9
        }
      ]
    },
    {
      "cell_type": "code",
      "metadata": {
        "id": "oRBu1GEuXWTA",
        "colab_type": "code",
        "outputId": "4aad9e68-24a2-4682-b7c2-dc41ace1b0ff",
        "colab": {
          "base_uri": "https://localhost:8080/",
          "height": 204
        }
      },
      "source": [
        "data['date']=pd.to_datetime(data['date'], format = '%Y-%m-%d')\n",
        "data.head()"
      ],
      "execution_count": 0,
      "outputs": [
        {
          "output_type": "execute_result",
          "data": {
            "text/html": [
              "<div>\n",
              "<style scoped>\n",
              "    .dataframe tbody tr th:only-of-type {\n",
              "        vertical-align: middle;\n",
              "    }\n",
              "\n",
              "    .dataframe tbody tr th {\n",
              "        vertical-align: top;\n",
              "    }\n",
              "\n",
              "    .dataframe thead th {\n",
              "        text-align: right;\n",
              "    }\n",
              "</style>\n",
              "<table border=\"1\" class=\"dataframe\">\n",
              "  <thead>\n",
              "    <tr style=\"text-align: right;\">\n",
              "      <th></th>\n",
              "      <th>title</th>\n",
              "      <th>date</th>\n",
              "    </tr>\n",
              "  </thead>\n",
              "  <tbody>\n",
              "    <tr>\n",
              "      <th>0</th>\n",
              "      <td>English councils send bailiffs to 310 firms a ...</td>\n",
              "      <td>2019-09-22</td>\n",
              "    </tr>\n",
              "    <tr>\n",
              "      <th>1</th>\n",
              "      <td>Labour has a plan for industry – and bosses ar...</td>\n",
              "      <td>2019-09-22</td>\n",
              "    </tr>\n",
              "    <tr>\n",
              "      <th>2</th>\n",
              "      <td>Federal Reserve cuts interest rates, and earns...</td>\n",
              "      <td>2019-09-18</td>\n",
              "    </tr>\n",
              "    <tr>\n",
              "      <th>3</th>\n",
              "      <td>WeWork's IPO delay a blow to Japanese investme...</td>\n",
              "      <td>2019-09-17</td>\n",
              "    </tr>\n",
              "    <tr>\n",
              "      <th>4</th>\n",
              "      <td>Trump hits out as ECB launches new stimulus pr...</td>\n",
              "      <td>2019-09-12</td>\n",
              "    </tr>\n",
              "  </tbody>\n",
              "</table>\n",
              "</div>"
            ],
            "text/plain": [
              "                                               title       date\n",
              "0  English councils send bailiffs to 310 firms a ... 2019-09-22\n",
              "1  Labour has a plan for industry – and bosses ar... 2019-09-22\n",
              "2  Federal Reserve cuts interest rates, and earns... 2019-09-18\n",
              "3  WeWork's IPO delay a blow to Japanese investme... 2019-09-17\n",
              "4  Trump hits out as ECB launches new stimulus pr... 2019-09-12"
            ]
          },
          "metadata": {
            "tags": []
          },
          "execution_count": 10
        }
      ]
    },
    {
      "cell_type": "code",
      "metadata": {
        "id": "Cap49TEZXSvr",
        "colab_type": "code",
        "outputId": "4d46142e-c079-4880-9e10-7752932c560d",
        "colab": {
          "base_uri": "https://localhost:8080/",
          "height": 204
        }
      },
      "source": [
        "data = data.sort_values(by='date')\n",
        "data.head()"
      ],
      "execution_count": 0,
      "outputs": [
        {
          "output_type": "execute_result",
          "data": {
            "text/html": [
              "<div>\n",
              "<style scoped>\n",
              "    .dataframe tbody tr th:only-of-type {\n",
              "        vertical-align: middle;\n",
              "    }\n",
              "\n",
              "    .dataframe tbody tr th {\n",
              "        vertical-align: top;\n",
              "    }\n",
              "\n",
              "    .dataframe thead th {\n",
              "        text-align: right;\n",
              "    }\n",
              "</style>\n",
              "<table border=\"1\" class=\"dataframe\">\n",
              "  <thead>\n",
              "    <tr style=\"text-align: right;\">\n",
              "      <th></th>\n",
              "      <th>title</th>\n",
              "      <th>date</th>\n",
              "    </tr>\n",
              "  </thead>\n",
              "  <tbody>\n",
              "    <tr>\n",
              "      <th>1269</th>\n",
              "      <td>Private post operators clean up as customers s...</td>\n",
              "      <td>2010-01-01</td>\n",
              "    </tr>\n",
              "    <tr>\n",
              "      <th>1268</th>\n",
              "      <td>Waterstone's chief pays the price for poor Chr...</td>\n",
              "      <td>2010-01-14</td>\n",
              "    </tr>\n",
              "    <tr>\n",
              "      <th>1267</th>\n",
              "      <td>TalentPuzzle can work out recruitment answers</td>\n",
              "      <td>2010-01-14</td>\n",
              "    </tr>\n",
              "    <tr>\n",
              "      <th>1266</th>\n",
              "      <td>Apple looks for iSlate mobile partner</td>\n",
              "      <td>2010-01-19</td>\n",
              "    </tr>\n",
              "    <tr>\n",
              "      <th>1265</th>\n",
              "      <td>Amazon shelves Macmillan titles in ebook row</td>\n",
              "      <td>2010-01-31</td>\n",
              "    </tr>\n",
              "  </tbody>\n",
              "</table>\n",
              "</div>"
            ],
            "text/plain": [
              "                                                  title       date\n",
              "1269  Private post operators clean up as customers s... 2010-01-01\n",
              "1268  Waterstone's chief pays the price for poor Chr... 2010-01-14\n",
              "1267      TalentPuzzle can work out recruitment answers 2010-01-14\n",
              "1266              Apple looks for iSlate mobile partner 2010-01-19\n",
              "1265       Amazon shelves Macmillan titles in ebook row 2010-01-31"
            ]
          },
          "metadata": {
            "tags": []
          },
          "execution_count": 11
        }
      ]
    },
    {
      "cell_type": "code",
      "metadata": {
        "id": "eURXkTCBXq7x",
        "colab_type": "code",
        "colab": {}
      },
      "source": [
        "data_final = data.groupby('date').first().reset_index()"
      ],
      "execution_count": 0,
      "outputs": []
    },
    {
      "cell_type": "code",
      "metadata": {
        "id": "NP__K4TXOu7i",
        "colab_type": "code",
        "outputId": "9ac33190-f63c-47f9-9ca3-b5acf8aa6298",
        "colab": {
          "base_uri": "https://localhost:8080/",
          "height": 357
        }
      },
      "source": [
        "!wget https://www.dropbox.com/s/6fab2uqje8e5bf5/stock_data.csv"
      ],
      "execution_count": 0,
      "outputs": [
        {
          "output_type": "stream",
          "text": [
            "--2019-10-02 08:58:37--  https://www.dropbox.com/s/6fab2uqje8e5bf5/stock_data.csv\n",
            "Resolving www.dropbox.com (www.dropbox.com)... 162.125.81.1, 2620:100:6031:1::a27d:5101\n",
            "Connecting to www.dropbox.com (www.dropbox.com)|162.125.81.1|:443... connected.\n",
            "HTTP request sent, awaiting response... 301 Moved Permanently\n",
            "Location: /s/raw/6fab2uqje8e5bf5/stock_data.csv [following]\n",
            "--2019-10-02 08:58:37--  https://www.dropbox.com/s/raw/6fab2uqje8e5bf5/stock_data.csv\n",
            "Reusing existing connection to www.dropbox.com:443.\n",
            "HTTP request sent, awaiting response... 302 Found\n",
            "Location: https://ucb53dd9d7f668c6507326a9d92c.dl.dropboxusercontent.com/cd/0/inline/AposrEXMqRWxlBS6Bz---UuPOPgbVoZqm3o4_WrAnVP3snKj7OVhSHLD2CKP5s2yTRuFd25FG2HQuKltzLqjjiwb-Rru4JBfTtuFB2QGFlD8_A/file# [following]\n",
            "--2019-10-02 08:58:37--  https://ucb53dd9d7f668c6507326a9d92c.dl.dropboxusercontent.com/cd/0/inline/AposrEXMqRWxlBS6Bz---UuPOPgbVoZqm3o4_WrAnVP3snKj7OVhSHLD2CKP5s2yTRuFd25FG2HQuKltzLqjjiwb-Rru4JBfTtuFB2QGFlD8_A/file\n",
            "Resolving ucb53dd9d7f668c6507326a9d92c.dl.dropboxusercontent.com (ucb53dd9d7f668c6507326a9d92c.dl.dropboxusercontent.com)... 162.125.81.6, 2620:100:6031:6::a27d:5106\n",
            "Connecting to ucb53dd9d7f668c6507326a9d92c.dl.dropboxusercontent.com (ucb53dd9d7f668c6507326a9d92c.dl.dropboxusercontent.com)|162.125.81.6|:443... connected.\n",
            "HTTP request sent, awaiting response... 200 OK\n",
            "Length: 169042 (165K) [text/plain]\n",
            "Saving to: ‘stock_data.csv’\n",
            "\n",
            "\rstock_data.csv        0%[                    ]       0  --.-KB/s               \rstock_data.csv      100%[===================>] 165.08K  --.-KB/s    in 0.02s   \n",
            "\n",
            "2019-10-02 08:58:38 (6.85 MB/s) - ‘stock_data.csv’ saved [169042/169042]\n",
            "\n"
          ],
          "name": "stdout"
        }
      ]
    },
    {
      "cell_type": "code",
      "metadata": {
        "id": "m73fPMh8QKU1",
        "colab_type": "code",
        "outputId": "a784586f-5e82-4d56-cb43-8e95cd6721ce",
        "colab": {
          "base_uri": "https://localhost:8080/",
          "height": 34
        }
      },
      "source": [
        "!ls"
      ],
      "execution_count": 0,
      "outputs": [
        {
          "output_type": "stream",
          "text": [
            "sample_data  stock_data.csv\n"
          ],
          "name": "stdout"
        }
      ]
    },
    {
      "cell_type": "markdown",
      "metadata": {
        "id": "6qblFjagOP0D",
        "colab_type": "text"
      },
      "source": [
        "# The last 5 days' stock price only"
      ]
    },
    {
      "cell_type": "code",
      "metadata": {
        "id": "RZcfo_YsQ3rI",
        "colab_type": "code",
        "outputId": "2a22f680-bbfa-4bc0-c6d6-c855c12ca263",
        "colab": {
          "base_uri": "https://localhost:8080/",
          "height": 204
        }
      },
      "source": [
        "import pandas as pd\n",
        "data2 = pd.read_csv('/content/stock_data.csv')\n",
        "data2.head()"
      ],
      "execution_count": 0,
      "outputs": [
        {
          "output_type": "execute_result",
          "data": {
            "text/html": [
              "<div>\n",
              "<style scoped>\n",
              "    .dataframe tbody tr th:only-of-type {\n",
              "        vertical-align: middle;\n",
              "    }\n",
              "\n",
              "    .dataframe tbody tr th {\n",
              "        vertical-align: top;\n",
              "    }\n",
              "\n",
              "    .dataframe thead th {\n",
              "        text-align: right;\n",
              "    }\n",
              "</style>\n",
              "<table border=\"1\" class=\"dataframe\">\n",
              "  <thead>\n",
              "    <tr style=\"text-align: right;\">\n",
              "      <th></th>\n",
              "      <th>Date</th>\n",
              "      <th>Open</th>\n",
              "      <th>High</th>\n",
              "      <th>Low</th>\n",
              "      <th>Close</th>\n",
              "      <th>Adj Close</th>\n",
              "      <th>Volume</th>\n",
              "    </tr>\n",
              "  </thead>\n",
              "  <tbody>\n",
              "    <tr>\n",
              "      <th>0</th>\n",
              "      <td>2009-12-31</td>\n",
              "      <td>137.089996</td>\n",
              "      <td>137.279999</td>\n",
              "      <td>134.520004</td>\n",
              "      <td>134.520004</td>\n",
              "      <td>134.520004</td>\n",
              "      <td>4523000</td>\n",
              "    </tr>\n",
              "    <tr>\n",
              "      <th>1</th>\n",
              "      <td>2010-01-04</td>\n",
              "      <td>136.250000</td>\n",
              "      <td>136.610001</td>\n",
              "      <td>133.139999</td>\n",
              "      <td>133.899994</td>\n",
              "      <td>133.899994</td>\n",
              "      <td>7599900</td>\n",
              "    </tr>\n",
              "    <tr>\n",
              "      <th>2</th>\n",
              "      <td>2010-01-05</td>\n",
              "      <td>133.429993</td>\n",
              "      <td>135.479996</td>\n",
              "      <td>131.809998</td>\n",
              "      <td>134.690002</td>\n",
              "      <td>134.690002</td>\n",
              "      <td>8851900</td>\n",
              "    </tr>\n",
              "    <tr>\n",
              "      <th>3</th>\n",
              "      <td>2010-01-06</td>\n",
              "      <td>134.600006</td>\n",
              "      <td>134.729996</td>\n",
              "      <td>131.649994</td>\n",
              "      <td>132.250000</td>\n",
              "      <td>132.250000</td>\n",
              "      <td>7178800</td>\n",
              "    </tr>\n",
              "    <tr>\n",
              "      <th>4</th>\n",
              "      <td>2010-01-07</td>\n",
              "      <td>132.009995</td>\n",
              "      <td>132.320007</td>\n",
              "      <td>128.800003</td>\n",
              "      <td>130.000000</td>\n",
              "      <td>130.000000</td>\n",
              "      <td>11030200</td>\n",
              "    </tr>\n",
              "  </tbody>\n",
              "</table>\n",
              "</div>"
            ],
            "text/plain": [
              "         Date        Open        High  ...       Close   Adj Close    Volume\n",
              "0  2009-12-31  137.089996  137.279999  ...  134.520004  134.520004   4523000\n",
              "1  2010-01-04  136.250000  136.610001  ...  133.899994  133.899994   7599900\n",
              "2  2010-01-05  133.429993  135.479996  ...  134.690002  134.690002   8851900\n",
              "3  2010-01-06  134.600006  134.729996  ...  132.250000  132.250000   7178800\n",
              "4  2010-01-07  132.009995  132.320007  ...  130.000000  130.000000  11030200\n",
              "\n",
              "[5 rows x 7 columns]"
            ]
          },
          "metadata": {
            "tags": []
          },
          "execution_count": 15
        }
      ]
    },
    {
      "cell_type": "code",
      "metadata": {
        "id": "ivM4_Ue2RKhK",
        "colab_type": "code",
        "outputId": "23b5e9e4-e980-4c0a-fdca-9859be2e8411",
        "colab": {
          "base_uri": "https://localhost:8080/",
          "height": 51
        }
      },
      "source": [
        "data2.loc[0:5]['Close'].values"
      ],
      "execution_count": 0,
      "outputs": [
        {
          "output_type": "execute_result",
          "data": {
            "text/plain": [
              "array([134.520004, 133.899994, 134.690002, 132.25    , 130.      ,\n",
              "       133.520004])"
            ]
          },
          "metadata": {
            "tags": []
          },
          "execution_count": 16
        }
      ]
    },
    {
      "cell_type": "code",
      "metadata": {
        "id": "wuWVQEYNQ8IH",
        "colab_type": "code",
        "colab": {}
      },
      "source": [
        "x= []\n",
        "y = []\n",
        "for i in range(data2.shape[0]-5):\n",
        "  x.append(data2.loc[i:(i+4)]['Close'].values)\n",
        "  y.append(data2.loc[i+5]['Close'])"
      ],
      "execution_count": 0,
      "outputs": []
    },
    {
      "cell_type": "code",
      "metadata": {
        "id": "OuTREeWtRewC",
        "colab_type": "code",
        "colab": {}
      },
      "source": [
        "import numpy as np\n",
        "x = np.array(x)\n",
        "y = np.array(y)"
      ],
      "execution_count": 0,
      "outputs": []
    },
    {
      "cell_type": "code",
      "metadata": {
        "id": "pB2o1jGORioJ",
        "colab_type": "code",
        "outputId": "b52c3c73-9c04-4b5e-d14c-876606c23a48",
        "colab": {
          "base_uri": "https://localhost:8080/",
          "height": 34
        }
      },
      "source": [
        "print(x.shape, y.shape)"
      ],
      "execution_count": 0,
      "outputs": [
        {
          "output_type": "stream",
          "text": [
            "(2256, 5) (2256,)\n"
          ],
          "name": "stdout"
        }
      ]
    },
    {
      "cell_type": "code",
      "metadata": {
        "id": "VsplUVAlUdfc",
        "colab_type": "code",
        "colab": {}
      },
      "source": [
        "x = x.reshape(x.shape[0],x.shape[1],1)"
      ],
      "execution_count": 0,
      "outputs": []
    },
    {
      "cell_type": "code",
      "metadata": {
        "id": "Ef0unG81VcmD",
        "colab_type": "code",
        "colab": {}
      },
      "source": [
        "from sklearn.model_selection import train_test_split\n",
        "X_train, X_test, y_train, y_test = train_test_split(x, y, test_size=0.30,random_state=10)"
      ],
      "execution_count": 0,
      "outputs": []
    },
    {
      "cell_type": "code",
      "metadata": {
        "id": "pmRui0IuRrCH",
        "colab_type": "code",
        "outputId": "f0df7682-0cda-4ad5-f7e1-565a8a873acb",
        "colab": {
          "base_uri": "https://localhost:8080/",
          "height": 34
        }
      },
      "source": [
        "import os\n",
        "import keras.backend as K\n",
        "from keras.models import Sequential, Model\n",
        "from keras.layers import Conv2D, ZeroPadding2D, BatchNormalization, Input, Dropout\n",
        "from keras.layers import Conv2DTranspose, Reshape, Activation, Cropping2D, Flatten\n",
        "from keras.layers import Concatenate\n",
        "from keras.layers.advanced_activations import LeakyReLU\n",
        "from keras.activations import relu\n",
        "from keras.initializers import RandomNormal\n",
        "from keras.layers import Embedding\n",
        "from keras.layers import LSTM, RepeatVector, TimeDistributed, Dense, Bidirectional"
      ],
      "execution_count": 0,
      "outputs": [
        {
          "output_type": "stream",
          "text": [
            "Using TensorFlow backend.\n"
          ],
          "name": "stderr"
        }
      ]
    },
    {
      "cell_type": "code",
      "metadata": {
        "id": "2K-BbBJzqXD5",
        "colab_type": "code",
        "outputId": "821271ab-3ebf-4aec-e110-d4e0f07f7659",
        "colab": {
          "base_uri": "https://localhost:8080/",
          "height": 391
        }
      },
      "source": [
        "model = Sequential()\n",
        "model.add(Dense(100, input_shape = (5,1), activation = 'relu'))\n",
        "model.add((LSTM(100)))\n",
        "model.add(Dense(1000,activation='relu'))\n",
        "model.add(Dense(1,activation='linear'))\n",
        "model.summary()"
      ],
      "execution_count": 0,
      "outputs": [
        {
          "output_type": "stream",
          "text": [
            "WARNING:tensorflow:From /usr/local/lib/python3.6/dist-packages/keras/backend/tensorflow_backend.py:66: The name tf.get_default_graph is deprecated. Please use tf.compat.v1.get_default_graph instead.\n",
            "\n",
            "WARNING:tensorflow:From /usr/local/lib/python3.6/dist-packages/keras/backend/tensorflow_backend.py:541: The name tf.placeholder is deprecated. Please use tf.compat.v1.placeholder instead.\n",
            "\n",
            "WARNING:tensorflow:From /usr/local/lib/python3.6/dist-packages/keras/backend/tensorflow_backend.py:4432: The name tf.random_uniform is deprecated. Please use tf.random.uniform instead.\n",
            "\n",
            "Model: \"sequential_1\"\n",
            "_________________________________________________________________\n",
            "Layer (type)                 Output Shape              Param #   \n",
            "=================================================================\n",
            "dense_1 (Dense)              (None, 5, 100)            200       \n",
            "_________________________________________________________________\n",
            "lstm_1 (LSTM)                (None, 100)               80400     \n",
            "_________________________________________________________________\n",
            "dense_2 (Dense)              (None, 1000)              101000    \n",
            "_________________________________________________________________\n",
            "dense_3 (Dense)              (None, 1)                 1001      \n",
            "=================================================================\n",
            "Total params: 182,601\n",
            "Trainable params: 182,601\n",
            "Non-trainable params: 0\n",
            "_________________________________________________________________\n"
          ],
          "name": "stdout"
        }
      ]
    },
    {
      "cell_type": "code",
      "metadata": {
        "id": "hjcRCWVJANMv",
        "colab_type": "code",
        "outputId": "e75baeef-8175-4b81-8e50-e3301f05531d",
        "colab": {
          "base_uri": "https://localhost:8080/",
          "height": 51
        }
      },
      "source": [
        "from keras.optimizers import Adam\n",
        "adam = Adam(lr=0.0001)\n",
        "model.compile(optimizer=adam, loss='mean_squared_error')"
      ],
      "execution_count": 0,
      "outputs": [
        {
          "output_type": "stream",
          "text": [
            "WARNING:tensorflow:From /usr/local/lib/python3.6/dist-packages/keras/optimizers.py:793: The name tf.train.Optimizer is deprecated. Please use tf.compat.v1.train.Optimizer instead.\n",
            "\n"
          ],
          "name": "stdout"
        }
      ]
    },
    {
      "cell_type": "code",
      "metadata": {
        "id": "1DdFW8FaqdTh",
        "colab_type": "code",
        "outputId": "6f59ab31-5c3c-4309-c90b-7de902d58737",
        "colab": {
          "base_uri": "https://localhost:8080/",
          "height": 1000
        }
      },
      "source": [
        "model.fit(X_train, y_train, epochs=300, batch_size=64, validation_data=(X_test, y_test), verbose = 1)"
      ],
      "execution_count": 0,
      "outputs": [
        {
          "output_type": "stream",
          "text": [
            "WARNING:tensorflow:From /usr/local/lib/python3.6/dist-packages/tensorflow/python/ops/math_grad.py:1250: add_dispatch_support.<locals>.wrapper (from tensorflow.python.ops.array_ops) is deprecated and will be removed in a future version.\n",
            "Instructions for updating:\n",
            "Use tf.where in 2.0, which has the same broadcast rule as np.where\n",
            "WARNING:tensorflow:From /usr/local/lib/python3.6/dist-packages/keras/backend/tensorflow_backend.py:1033: The name tf.assign_add is deprecated. Please use tf.compat.v1.assign_add instead.\n",
            "\n",
            "WARNING:tensorflow:From /usr/local/lib/python3.6/dist-packages/keras/backend/tensorflow_backend.py:1020: The name tf.assign is deprecated. Please use tf.compat.v1.assign instead.\n",
            "\n",
            "Train on 1579 samples, validate on 677 samples\n",
            "Epoch 1/300\n",
            "1579/1579 [==============================] - 6s 4ms/step - loss: 519877.8543 - val_loss: 527303.2729\n",
            "Epoch 2/300\n",
            "1579/1579 [==============================] - 0s 224us/step - loss: 518285.0947 - val_loss: 525441.1390\n",
            "Epoch 3/300\n",
            "1579/1579 [==============================] - 0s 216us/step - loss: 516374.6256 - val_loss: 523459.2001\n",
            "Epoch 4/300\n",
            "1579/1579 [==============================] - 0s 213us/step - loss: 514293.8078 - val_loss: 521278.2536\n",
            "Epoch 5/300\n",
            "1579/1579 [==============================] - 0s 218us/step - loss: 512042.3027 - val_loss: 518937.3504\n",
            "Epoch 6/300\n",
            "1579/1579 [==============================] - 0s 233us/step - loss: 509638.7537 - val_loss: 516425.4099\n",
            "Epoch 7/300\n",
            "1579/1579 [==============================] - 0s 220us/step - loss: 506998.7356 - val_loss: 513591.6920\n",
            "Epoch 8/300\n",
            "1579/1579 [==============================] - 0s 212us/step - loss: 503920.4536 - val_loss: 510323.1899\n",
            "Epoch 9/300\n",
            "1579/1579 [==============================] - 0s 221us/step - loss: 500546.4038 - val_loss: 506833.2918\n",
            "Epoch 10/300\n",
            "1579/1579 [==============================] - 0s 220us/step - loss: 496930.3853 - val_loss: 503069.6638\n",
            "Epoch 11/300\n",
            "1579/1579 [==============================] - 0s 234us/step - loss: 493047.0997 - val_loss: 499035.5338\n",
            "Epoch 12/300\n",
            "1579/1579 [==============================] - 0s 218us/step - loss: 488899.4773 - val_loss: 494754.0949\n",
            "Epoch 13/300\n",
            "1579/1579 [==============================] - 0s 214us/step - loss: 484489.5140 - val_loss: 490255.4766\n",
            "Epoch 14/300\n",
            "1579/1579 [==============================] - 0s 220us/step - loss: 479889.5466 - val_loss: 485442.8988\n",
            "Epoch 15/300\n",
            "1579/1579 [==============================] - 0s 220us/step - loss: 475005.2913 - val_loss: 480468.3362\n",
            "Epoch 16/300\n",
            "1579/1579 [==============================] - 0s 210us/step - loss: 469925.2983 - val_loss: 475243.2788\n",
            "Epoch 17/300\n",
            "1579/1579 [==============================] - 0s 213us/step - loss: 464637.4575 - val_loss: 469826.6968\n",
            "Epoch 18/300\n",
            "1579/1579 [==============================] - 0s 232us/step - loss: 459123.3495 - val_loss: 464287.1156\n",
            "Epoch 19/300\n",
            "1579/1579 [==============================] - 0s 216us/step - loss: 453466.5112 - val_loss: 458528.6622\n",
            "Epoch 20/300\n",
            "1579/1579 [==============================] - 0s 214us/step - loss: 447620.2036 - val_loss: 452635.5208\n",
            "Epoch 21/300\n",
            "1579/1579 [==============================] - 0s 226us/step - loss: 441667.6444 - val_loss: 446573.0488\n",
            "Epoch 22/300\n",
            "1579/1579 [==============================] - 0s 222us/step - loss: 435559.4779 - val_loss: 440418.5950\n",
            "Epoch 23/300\n",
            "1579/1579 [==============================] - 0s 212us/step - loss: 429368.7618 - val_loss: 434123.7946\n",
            "Epoch 24/300\n",
            "1579/1579 [==============================] - 0s 221us/step - loss: 423041.3854 - val_loss: 427786.8413\n",
            "Epoch 25/300\n",
            "1579/1579 [==============================] - 0s 214us/step - loss: 416647.1624 - val_loss: 421396.8945\n",
            "Epoch 26/300\n",
            "1579/1579 [==============================] - 0s 217us/step - loss: 410221.9995 - val_loss: 414893.5400\n",
            "Epoch 27/300\n",
            "1579/1579 [==============================] - 0s 223us/step - loss: 403709.2642 - val_loss: 408417.3694\n",
            "Epoch 28/300\n",
            "1579/1579 [==============================] - 0s 215us/step - loss: 397244.6469 - val_loss: 401775.3277\n",
            "Epoch 29/300\n",
            "1579/1579 [==============================] - 0s 221us/step - loss: 390642.7456 - val_loss: 395273.3493\n",
            "Epoch 30/300\n",
            "1579/1579 [==============================] - 0s 225us/step - loss: 384091.8788 - val_loss: 388762.8110\n",
            "Epoch 31/300\n",
            "1579/1579 [==============================] - 0s 218us/step - loss: 377561.5400 - val_loss: 382236.5373\n",
            "Epoch 32/300\n",
            "1579/1579 [==============================] - 0s 217us/step - loss: 371104.7879 - val_loss: 375611.0922\n",
            "Epoch 33/300\n",
            "1579/1579 [==============================] - 0s 220us/step - loss: 364548.4206 - val_loss: 369258.9128\n",
            "Epoch 34/300\n",
            "1579/1579 [==============================] - 0s 214us/step - loss: 358166.7434 - val_loss: 362862.1956\n",
            "Epoch 35/300\n",
            "1579/1579 [==============================] - 0s 241us/step - loss: 351843.6377 - val_loss: 356511.4240\n",
            "Epoch 36/300\n",
            "1579/1579 [==============================] - 0s 221us/step - loss: 345485.9160 - val_loss: 350234.7892\n",
            "Epoch 37/300\n",
            "1579/1579 [==============================] - 0s 219us/step - loss: 339256.9787 - val_loss: 343810.2568\n",
            "Epoch 38/300\n",
            "1579/1579 [==============================] - 0s 230us/step - loss: 332955.9609 - val_loss: 337493.9956\n",
            "Epoch 39/300\n",
            "1579/1579 [==============================] - 0s 217us/step - loss: 326642.2203 - val_loss: 331259.0792\n",
            "Epoch 40/300\n",
            "1579/1579 [==============================] - 0s 218us/step - loss: 320405.5220 - val_loss: 325146.7518\n",
            "Epoch 41/300\n",
            "1579/1579 [==============================] - 0s 241us/step - loss: 314263.8239 - val_loss: 318816.8089\n",
            "Epoch 42/300\n",
            "1579/1579 [==============================] - 0s 220us/step - loss: 308004.3552 - val_loss: 312725.4685\n",
            "Epoch 43/300\n",
            "1579/1579 [==============================] - 0s 218us/step - loss: 301907.9885 - val_loss: 306485.8185\n",
            "Epoch 44/300\n",
            "1579/1579 [==============================] - 0s 240us/step - loss: 295803.3284 - val_loss: 300319.6174\n",
            "Epoch 45/300\n",
            "1579/1579 [==============================] - 0s 217us/step - loss: 289763.0597 - val_loss: 294312.8022\n",
            "Epoch 46/300\n",
            "1579/1579 [==============================] - 0s 225us/step - loss: 283874.4019 - val_loss: 288308.1118\n",
            "Epoch 47/300\n",
            "1579/1579 [==============================] - 0s 231us/step - loss: 277991.5083 - val_loss: 282392.5694\n",
            "Epoch 48/300\n",
            "1579/1579 [==============================] - 0s 220us/step - loss: 272178.2273 - val_loss: 276605.9903\n",
            "Epoch 49/300\n",
            "1579/1579 [==============================] - 0s 216us/step - loss: 266433.6821 - val_loss: 270920.8052\n",
            "Epoch 50/300\n",
            "1579/1579 [==============================] - 0s 235us/step - loss: 260804.7435 - val_loss: 265174.6794\n",
            "Epoch 51/300\n",
            "1579/1579 [==============================] - 0s 221us/step - loss: 255185.5755 - val_loss: 259608.5184\n",
            "Epoch 52/300\n",
            "1579/1579 [==============================] - 0s 212us/step - loss: 249674.8583 - val_loss: 254068.3477\n",
            "Epoch 53/300\n",
            "1579/1579 [==============================] - 0s 227us/step - loss: 244270.9852 - val_loss: 248574.1010\n",
            "Epoch 54/300\n",
            "1579/1579 [==============================] - 0s 237us/step - loss: 238893.6207 - val_loss: 243191.3224\n",
            "Epoch 55/300\n",
            "1579/1579 [==============================] - 0s 226us/step - loss: 233533.2066 - val_loss: 237779.9793\n",
            "Epoch 56/300\n",
            "1579/1579 [==============================] - 0s 230us/step - loss: 228291.7262 - val_loss: 232514.8001\n",
            "Epoch 57/300\n",
            "1579/1579 [==============================] - 0s 241us/step - loss: 223116.3221 - val_loss: 227278.7085\n",
            "Epoch 58/300\n",
            "1579/1579 [==============================] - 0s 228us/step - loss: 217954.7727 - val_loss: 222138.3406\n",
            "Epoch 59/300\n",
            "1579/1579 [==============================] - 0s 217us/step - loss: 212946.2820 - val_loss: 216964.5891\n",
            "Epoch 60/300\n",
            "1579/1579 [==============================] - 0s 215us/step - loss: 208008.9337 - val_loss: 211877.4707\n",
            "Epoch 61/300\n",
            "1579/1579 [==============================] - 0s 223us/step - loss: 202986.0142 - val_loss: 207037.7097\n",
            "Epoch 62/300\n",
            "1579/1579 [==============================] - 0s 220us/step - loss: 198203.7210 - val_loss: 202234.0794\n",
            "Epoch 63/300\n",
            "1579/1579 [==============================] - 0s 217us/step - loss: 193403.5409 - val_loss: 197392.5360\n",
            "Epoch 64/300\n",
            "1579/1579 [==============================] - 0s 220us/step - loss: 188711.6727 - val_loss: 192664.6863\n",
            "Epoch 65/300\n",
            "1579/1579 [==============================] - 0s 223us/step - loss: 184123.8570 - val_loss: 187987.1674\n",
            "Epoch 66/300\n",
            "1579/1579 [==============================] - 0s 213us/step - loss: 179634.1365 - val_loss: 183289.3635\n",
            "Epoch 67/300\n",
            "1579/1579 [==============================] - 0s 228us/step - loss: 175156.8962 - val_loss: 178843.8584\n",
            "Epoch 68/300\n",
            "1579/1579 [==============================] - 0s 224us/step - loss: 170810.9544 - val_loss: 174465.1998\n",
            "Epoch 69/300\n",
            "1579/1579 [==============================] - 0s 216us/step - loss: 166564.0594 - val_loss: 170144.4406\n",
            "Epoch 70/300\n",
            "1579/1579 [==============================] - 0s 229us/step - loss: 162309.4925 - val_loss: 165949.4695\n",
            "Epoch 71/300\n",
            "1579/1579 [==============================] - 0s 219us/step - loss: 158163.9094 - val_loss: 161837.8266\n",
            "Epoch 72/300\n",
            "1579/1579 [==============================] - 0s 214us/step - loss: 154181.4432 - val_loss: 157687.4087\n",
            "Epoch 73/300\n",
            "1579/1579 [==============================] - 0s 216us/step - loss: 150194.0075 - val_loss: 153702.5370\n",
            "Epoch 74/300\n",
            "1579/1579 [==============================] - 0s 212us/step - loss: 146268.3831 - val_loss: 149807.8967\n",
            "Epoch 75/300\n",
            "1579/1579 [==============================] - 0s 218us/step - loss: 142518.8906 - val_loss: 145997.7914\n",
            "Epoch 76/300\n",
            "1579/1579 [==============================] - 0s 219us/step - loss: 138881.8294 - val_loss: 142239.4462\n",
            "Epoch 77/300\n",
            "1579/1579 [==============================] - 0s 218us/step - loss: 135277.1041 - val_loss: 138662.7867\n",
            "Epoch 78/300\n",
            "1579/1579 [==============================] - 0s 214us/step - loss: 131734.0507 - val_loss: 135156.3403\n",
            "Epoch 79/300\n",
            "1579/1579 [==============================] - 0s 221us/step - loss: 128423.4496 - val_loss: 132003.4654\n",
            "Epoch 80/300\n",
            "1579/1579 [==============================] - 0s 222us/step - loss: 125143.6786 - val_loss: 128165.3161\n",
            "Epoch 81/300\n",
            "1579/1579 [==============================] - 0s 216us/step - loss: 121726.4013 - val_loss: 124825.8759\n",
            "Epoch 82/300\n",
            "1579/1579 [==============================] - 0s 216us/step - loss: 118511.3464 - val_loss: 122098.3178\n",
            "Epoch 83/300\n",
            "1579/1579 [==============================] - 0s 212us/step - loss: 115639.9584 - val_loss: 118682.8455\n",
            "Epoch 84/300\n",
            "1579/1579 [==============================] - 0s 221us/step - loss: 112455.6308 - val_loss: 115499.6672\n",
            "Epoch 85/300\n",
            "1579/1579 [==============================] - 0s 216us/step - loss: 109444.5598 - val_loss: 112629.6322\n",
            "Epoch 86/300\n",
            "1579/1579 [==============================] - 0s 218us/step - loss: 106770.8282 - val_loss: 109721.2974\n",
            "Epoch 87/300\n",
            "1579/1579 [==============================] - 0s 214us/step - loss: 103820.8199 - val_loss: 107141.8151\n",
            "Epoch 88/300\n",
            "1579/1579 [==============================] - 0s 224us/step - loss: 101149.4372 - val_loss: 104112.8611\n",
            "Epoch 89/300\n",
            "1579/1579 [==============================] - 0s 217us/step - loss: 98376.3246 - val_loss: 101488.2883\n",
            "Epoch 90/300\n",
            "1579/1579 [==============================] - 0s 217us/step - loss: 95719.6433 - val_loss: 98617.3755\n",
            "Epoch 91/300\n",
            "1579/1579 [==============================] - 0s 218us/step - loss: 93087.1850 - val_loss: 96120.6112\n",
            "Epoch 92/300\n",
            "1579/1579 [==============================] - 0s 213us/step - loss: 90623.9264 - val_loss: 93507.9809\n",
            "Epoch 93/300\n",
            "1579/1579 [==============================] - 0s 219us/step - loss: 88259.5003 - val_loss: 91360.2483\n",
            "Epoch 94/300\n",
            "1579/1579 [==============================] - 0s 222us/step - loss: 86006.4462 - val_loss: 88736.2888\n",
            "Epoch 95/300\n",
            "1579/1579 [==============================] - 0s 218us/step - loss: 83640.6293 - val_loss: 86309.9282\n",
            "Epoch 96/300\n",
            "1579/1579 [==============================] - 0s 225us/step - loss: 81406.1984 - val_loss: 84573.6747\n",
            "Epoch 97/300\n",
            "1579/1579 [==============================] - 0s 218us/step - loss: 79378.5064 - val_loss: 82116.8163\n",
            "Epoch 98/300\n",
            "1579/1579 [==============================] - 0s 217us/step - loss: 77315.1884 - val_loss: 79858.5881\n",
            "Epoch 99/300\n",
            "1579/1579 [==============================] - 0s 216us/step - loss: 75033.8292 - val_loss: 77669.3721\n",
            "Epoch 100/300\n",
            "1579/1579 [==============================] - 0s 223us/step - loss: 73152.6267 - val_loss: 77047.0084\n",
            "Epoch 101/300\n",
            "1579/1579 [==============================] - 0s 214us/step - loss: 71450.9916 - val_loss: 74663.0055\n",
            "Epoch 102/300\n",
            "1579/1579 [==============================] - 0s 218us/step - loss: 69486.7260 - val_loss: 71805.9261\n",
            "Epoch 103/300\n",
            "1579/1579 [==============================] - 0s 218us/step - loss: 67476.2539 - val_loss: 69882.3398\n",
            "Epoch 104/300\n",
            "1579/1579 [==============================] - 0s 216us/step - loss: 65427.1281 - val_loss: 68085.0856\n",
            "Epoch 105/300\n",
            "1579/1579 [==============================] - 0s 213us/step - loss: 63564.7755 - val_loss: 65961.8647\n",
            "Epoch 106/300\n",
            "1579/1579 [==============================] - 0s 224us/step - loss: 61775.9205 - val_loss: 64198.5238\n",
            "Epoch 107/300\n",
            "1579/1579 [==============================] - 0s 215us/step - loss: 60132.3429 - val_loss: 62503.8045\n",
            "Epoch 108/300\n",
            "1579/1579 [==============================] - 0s 214us/step - loss: 58365.5727 - val_loss: 60957.6746\n",
            "Epoch 109/300\n",
            "1579/1579 [==============================] - 0s 219us/step - loss: 56796.6277 - val_loss: 59076.6878\n",
            "Epoch 110/300\n",
            "1579/1579 [==============================] - 0s 212us/step - loss: 55285.5911 - val_loss: 57451.7537\n",
            "Epoch 111/300\n",
            "1579/1579 [==============================] - 0s 220us/step - loss: 53550.3969 - val_loss: 55851.1879\n",
            "Epoch 112/300\n",
            "1579/1579 [==============================] - 0s 217us/step - loss: 52098.2895 - val_loss: 54591.7751\n",
            "Epoch 113/300\n",
            "1579/1579 [==============================] - 0s 215us/step - loss: 50622.7862 - val_loss: 52716.2569\n",
            "Epoch 114/300\n",
            "1579/1579 [==============================] - 0s 219us/step - loss: 49070.6726 - val_loss: 51225.5769\n",
            "Epoch 115/300\n",
            "1579/1579 [==============================] - 0s 219us/step - loss: 47661.2600 - val_loss: 49811.4548\n",
            "Epoch 116/300\n",
            "1579/1579 [==============================] - 0s 216us/step - loss: 46326.3781 - val_loss: 48328.5940\n",
            "Epoch 117/300\n",
            "1579/1579 [==============================] - 0s 224us/step - loss: 45005.5806 - val_loss: 47134.3293\n",
            "Epoch 118/300\n",
            "1579/1579 [==============================] - 0s 214us/step - loss: 43756.8800 - val_loss: 45682.3329\n",
            "Epoch 119/300\n",
            "1579/1579 [==============================] - 0s 214us/step - loss: 42307.5075 - val_loss: 44304.1074\n",
            "Epoch 120/300\n",
            "1579/1579 [==============================] - 0s 222us/step - loss: 41021.3279 - val_loss: 43022.2465\n",
            "Epoch 121/300\n",
            "1579/1579 [==============================] - 0s 214us/step - loss: 39795.2808 - val_loss: 41729.7030\n",
            "Epoch 122/300\n",
            "1579/1579 [==============================] - 0s 217us/step - loss: 38584.5308 - val_loss: 40419.6527\n",
            "Epoch 123/300\n",
            "1579/1579 [==============================] - 0s 219us/step - loss: 37351.8297 - val_loss: 39241.7432\n",
            "Epoch 124/300\n",
            "1579/1579 [==============================] - 0s 213us/step - loss: 36495.1716 - val_loss: 46398.5549\n",
            "Epoch 125/300\n",
            "1579/1579 [==============================] - 0s 225us/step - loss: 36689.0181 - val_loss: 37619.5862\n",
            "Epoch 126/300\n",
            "1579/1579 [==============================] - 0s 239us/step - loss: 34774.3346 - val_loss: 36186.5184\n",
            "Epoch 127/300\n",
            "1579/1579 [==============================] - 0s 220us/step - loss: 33340.2736 - val_loss: 34895.7284\n",
            "Epoch 128/300\n",
            "1579/1579 [==============================] - 0s 219us/step - loss: 32449.5059 - val_loss: 34214.1388\n",
            "Epoch 129/300\n",
            "1579/1579 [==============================] - 0s 231us/step - loss: 31561.7132 - val_loss: 32850.3984\n",
            "Epoch 130/300\n",
            "1579/1579 [==============================] - 0s 225us/step - loss: 30393.1512 - val_loss: 32094.3790\n",
            "Epoch 131/300\n",
            "1579/1579 [==============================] - 0s 231us/step - loss: 29244.4162 - val_loss: 31212.3372\n",
            "Epoch 132/300\n",
            "1579/1579 [==============================] - 0s 227us/step - loss: 28437.0033 - val_loss: 29766.2112\n",
            "Epoch 133/300\n",
            "1579/1579 [==============================] - 0s 222us/step - loss: 27505.7225 - val_loss: 29440.5628\n",
            "Epoch 134/300\n",
            "1579/1579 [==============================] - 0s 223us/step - loss: 26546.9435 - val_loss: 27916.4174\n",
            "Epoch 135/300\n",
            "1579/1579 [==============================] - 0s 229us/step - loss: 25463.5951 - val_loss: 27044.6463\n",
            "Epoch 136/300\n",
            "1579/1579 [==============================] - 0s 220us/step - loss: 24692.3441 - val_loss: 25976.5889\n",
            "Epoch 137/300\n",
            "1579/1579 [==============================] - 0s 221us/step - loss: 23797.8413 - val_loss: 25150.9505\n",
            "Epoch 138/300\n",
            "1579/1579 [==============================] - 0s 229us/step - loss: 23016.0689 - val_loss: 24305.4753\n",
            "Epoch 139/300\n",
            "1579/1579 [==============================] - 0s 229us/step - loss: 22229.6556 - val_loss: 23444.9369\n",
            "Epoch 140/300\n",
            "1579/1579 [==============================] - 0s 236us/step - loss: 21388.1336 - val_loss: 22838.4450\n",
            "Epoch 141/300\n",
            "1579/1579 [==============================] - 0s 215us/step - loss: 20656.0856 - val_loss: 21871.6824\n",
            "Epoch 142/300\n",
            "1579/1579 [==============================] - 0s 211us/step - loss: 19892.1524 - val_loss: 21104.5943\n",
            "Epoch 143/300\n",
            "1579/1579 [==============================] - 0s 221us/step - loss: 19228.5981 - val_loss: 20386.2406\n",
            "Epoch 144/300\n",
            "1579/1579 [==============================] - 0s 229us/step - loss: 18518.2574 - val_loss: 19718.8156\n",
            "Epoch 145/300\n",
            "1579/1579 [==============================] - 0s 225us/step - loss: 17844.9034 - val_loss: 18982.4795\n",
            "Epoch 146/300\n",
            "1579/1579 [==============================] - 0s 219us/step - loss: 17486.1203 - val_loss: 18413.0472\n",
            "Epoch 147/300\n",
            "1579/1579 [==============================] - 0s 217us/step - loss: 16876.9009 - val_loss: 17800.5808\n",
            "Epoch 148/300\n",
            "1579/1579 [==============================] - 0s 210us/step - loss: 16029.2923 - val_loss: 17081.3853\n",
            "Epoch 149/300\n",
            "1579/1579 [==============================] - 0s 221us/step - loss: 15450.9471 - val_loss: 16522.8430\n",
            "Epoch 150/300\n",
            "1579/1579 [==============================] - 0s 214us/step - loss: 15391.6343 - val_loss: 16154.2207\n",
            "Epoch 151/300\n",
            "1579/1579 [==============================] - 0s 215us/step - loss: 14565.5146 - val_loss: 15368.2354\n",
            "Epoch 152/300\n",
            "1579/1579 [==============================] - 0s 223us/step - loss: 13800.9402 - val_loss: 14760.0255\n",
            "Epoch 153/300\n",
            "1579/1579 [==============================] - 0s 220us/step - loss: 13304.7038 - val_loss: 14387.5356\n",
            "Epoch 154/300\n",
            "1579/1579 [==============================] - 0s 215us/step - loss: 12810.2954 - val_loss: 13724.5945\n",
            "Epoch 155/300\n",
            "1579/1579 [==============================] - 0s 245us/step - loss: 12310.0285 - val_loss: 13216.6712\n",
            "Epoch 156/300\n",
            "1579/1579 [==============================] - 0s 215us/step - loss: 11916.6334 - val_loss: 12846.5304\n",
            "Epoch 157/300\n",
            "1579/1579 [==============================] - 0s 211us/step - loss: 11665.7643 - val_loss: 12332.7303\n",
            "Epoch 158/300\n",
            "1579/1579 [==============================] - 0s 220us/step - loss: 11049.6435 - val_loss: 11883.1926\n",
            "Epoch 159/300\n",
            "1579/1579 [==============================] - 0s 224us/step - loss: 10532.4337 - val_loss: 11462.6813\n",
            "Epoch 160/300\n",
            "1579/1579 [==============================] - 0s 215us/step - loss: 10200.0091 - val_loss: 18067.1246\n",
            "Epoch 161/300\n",
            "1579/1579 [==============================] - 0s 219us/step - loss: 10107.4276 - val_loss: 10585.3270\n",
            "Epoch 162/300\n",
            "1579/1579 [==============================] - 0s 213us/step - loss: 9366.7626 - val_loss: 10234.9042\n",
            "Epoch 163/300\n",
            "1579/1579 [==============================] - 0s 217us/step - loss: 9082.7728 - val_loss: 11090.0060\n",
            "Epoch 164/300\n",
            "1579/1579 [==============================] - 0s 222us/step - loss: 9253.8538 - val_loss: 9704.6493\n",
            "Epoch 165/300\n",
            "1579/1579 [==============================] - 0s 212us/step - loss: 8411.3502 - val_loss: 9094.2505\n",
            "Epoch 166/300\n",
            "1579/1579 [==============================] - 0s 215us/step - loss: 8071.6172 - val_loss: 8834.9440\n",
            "Epoch 167/300\n",
            "1579/1579 [==============================] - 0s 220us/step - loss: 7929.3643 - val_loss: 8457.8681\n",
            "Epoch 168/300\n",
            "1579/1579 [==============================] - 0s 217us/step - loss: 7527.5888 - val_loss: 8194.7339\n",
            "Epoch 169/300\n",
            "1579/1579 [==============================] - 0s 220us/step - loss: 7204.4788 - val_loss: 7994.5852\n",
            "Epoch 170/300\n",
            "1579/1579 [==============================] - 0s 228us/step - loss: 6954.4145 - val_loss: 7569.2775\n",
            "Epoch 171/300\n",
            "1579/1579 [==============================] - 0s 212us/step - loss: 6647.8484 - val_loss: 7263.1199\n",
            "Epoch 172/300\n",
            "1579/1579 [==============================] - 0s 217us/step - loss: 6562.0011 - val_loss: 7460.5674\n",
            "Epoch 173/300\n",
            "1579/1579 [==============================] - 0s 230us/step - loss: 6878.6505 - val_loss: 7192.4612\n",
            "Epoch 174/300\n",
            "1579/1579 [==============================] - 0s 216us/step - loss: 6300.7367 - val_loss: 6810.1289\n",
            "Epoch 175/300\n",
            "1579/1579 [==============================] - 0s 214us/step - loss: 6099.0718 - val_loss: 6952.2441\n",
            "Epoch 176/300\n",
            "1579/1579 [==============================] - 0s 226us/step - loss: 5603.5314 - val_loss: 6878.1218\n",
            "Epoch 177/300\n",
            "1579/1579 [==============================] - 0s 226us/step - loss: 6613.6979 - val_loss: 6940.7878\n",
            "Epoch 178/300\n",
            "1579/1579 [==============================] - 0s 223us/step - loss: 5504.8435 - val_loss: 5801.4918\n",
            "Epoch 179/300\n",
            "1579/1579 [==============================] - 0s 227us/step - loss: 5272.7104 - val_loss: 6154.3266\n",
            "Epoch 180/300\n",
            "1579/1579 [==============================] - 0s 212us/step - loss: 4943.2701 - val_loss: 5244.1553\n",
            "Epoch 181/300\n",
            "1579/1579 [==============================] - 0s 214us/step - loss: 4667.5991 - val_loss: 5067.8582\n",
            "Epoch 182/300\n",
            "1579/1579 [==============================] - 0s 228us/step - loss: 4611.7816 - val_loss: 4975.0194\n",
            "Epoch 183/300\n",
            "1579/1579 [==============================] - 0s 218us/step - loss: 5493.9988 - val_loss: 5503.1597\n",
            "Epoch 184/300\n",
            "1579/1579 [==============================] - 0s 214us/step - loss: 5460.4706 - val_loss: 5695.0628\n",
            "Epoch 185/300\n",
            "1579/1579 [==============================] - 0s 221us/step - loss: 4294.1203 - val_loss: 4535.4774\n",
            "Epoch 186/300\n",
            "1579/1579 [==============================] - 0s 215us/step - loss: 4037.1422 - val_loss: 4491.6849\n",
            "Epoch 187/300\n",
            "1579/1579 [==============================] - 0s 217us/step - loss: 3880.4307 - val_loss: 4431.3855\n",
            "Epoch 188/300\n",
            "1579/1579 [==============================] - 0s 237us/step - loss: 3935.6135 - val_loss: 4184.6415\n",
            "Epoch 189/300\n",
            "1579/1579 [==============================] - 0s 214us/step - loss: 3589.9103 - val_loss: 3923.2624\n",
            "Epoch 190/300\n",
            "1579/1579 [==============================] - 0s 232us/step - loss: 3481.4768 - val_loss: 3880.8792\n",
            "Epoch 191/300\n",
            "1579/1579 [==============================] - 0s 223us/step - loss: 3620.1040 - val_loss: 3841.8282\n",
            "Epoch 192/300\n",
            "1579/1579 [==============================] - 0s 217us/step - loss: 3480.5544 - val_loss: 3808.9243\n",
            "Epoch 193/300\n",
            "1579/1579 [==============================] - 0s 227us/step - loss: 3383.2502 - val_loss: 3610.8364\n",
            "Epoch 194/300\n",
            "1579/1579 [==============================] - 0s 212us/step - loss: 3313.7979 - val_loss: 3634.7467\n",
            "Epoch 195/300\n",
            "1579/1579 [==============================] - 0s 212us/step - loss: 3059.2994 - val_loss: 3181.5091\n",
            "Epoch 196/300\n",
            "1579/1579 [==============================] - 0s 224us/step - loss: 3481.8968 - val_loss: 3992.0049\n",
            "Epoch 197/300\n",
            "1579/1579 [==============================] - 0s 218us/step - loss: 3287.4415 - val_loss: 3132.4460\n",
            "Epoch 198/300\n",
            "1579/1579 [==============================] - 0s 212us/step - loss: 2978.2157 - val_loss: 3160.8465\n",
            "Epoch 199/300\n",
            "1579/1579 [==============================] - 0s 230us/step - loss: 3045.1682 - val_loss: 3083.6047\n",
            "Epoch 200/300\n",
            "1579/1579 [==============================] - 0s 220us/step - loss: 4581.9971 - val_loss: 8017.7491\n",
            "Epoch 201/300\n",
            "1579/1579 [==============================] - 0s 216us/step - loss: 3912.8957 - val_loss: 3208.6657\n",
            "Epoch 202/300\n",
            "1579/1579 [==============================] - 0s 221us/step - loss: 2663.0579 - val_loss: 3256.6194\n",
            "Epoch 203/300\n",
            "1579/1579 [==============================] - 0s 215us/step - loss: 2976.0158 - val_loss: 3222.4082\n",
            "Epoch 204/300\n",
            "1579/1579 [==============================] - 0s 218us/step - loss: 2672.7083 - val_loss: 2694.0062\n",
            "Epoch 205/300\n",
            "1579/1579 [==============================] - 0s 222us/step - loss: 2427.1075 - val_loss: 2908.0867\n",
            "Epoch 206/300\n",
            "1579/1579 [==============================] - 0s 218us/step - loss: 2710.9684 - val_loss: 2663.2453\n",
            "Epoch 207/300\n",
            "1579/1579 [==============================] - 0s 212us/step - loss: 2337.0112 - val_loss: 3303.2280\n",
            "Epoch 208/300\n",
            "1579/1579 [==============================] - 0s 214us/step - loss: 2193.3054 - val_loss: 2211.3076\n",
            "Epoch 209/300\n",
            "1579/1579 [==============================] - 0s 214us/step - loss: 2148.3080 - val_loss: 2125.5094\n",
            "Epoch 210/300\n",
            "1579/1579 [==============================] - 0s 220us/step - loss: 1970.2325 - val_loss: 2436.9505\n",
            "Epoch 211/300\n",
            "1579/1579 [==============================] - 0s 220us/step - loss: 2266.1530 - val_loss: 2229.5706\n",
            "Epoch 212/300\n",
            "1579/1579 [==============================] - 0s 208us/step - loss: 2417.2518 - val_loss: 2128.3210\n",
            "Epoch 213/300\n",
            "1579/1579 [==============================] - 0s 208us/step - loss: 1865.5197 - val_loss: 2322.4816\n",
            "Epoch 214/300\n",
            "1579/1579 [==============================] - 0s 217us/step - loss: 1984.8347 - val_loss: 1934.8025\n",
            "Epoch 215/300\n",
            "1579/1579 [==============================] - 0s 208us/step - loss: 1769.2575 - val_loss: 1860.9590\n",
            "Epoch 216/300\n",
            "1579/1579 [==============================] - 0s 217us/step - loss: 2000.2826 - val_loss: 2255.3337\n",
            "Epoch 217/300\n",
            "1579/1579 [==============================] - 0s 215us/step - loss: 2326.8718 - val_loss: 2077.7276\n",
            "Epoch 218/300\n",
            "1579/1579 [==============================] - 0s 206us/step - loss: 1924.5877 - val_loss: 2271.5194\n",
            "Epoch 219/300\n",
            "1579/1579 [==============================] - 0s 212us/step - loss: 1790.0076 - val_loss: 1709.6896\n",
            "Epoch 220/300\n",
            "1579/1579 [==============================] - 0s 218us/step - loss: 2043.2553 - val_loss: 1950.7463\n",
            "Epoch 221/300\n",
            "1579/1579 [==============================] - 0s 212us/step - loss: 3080.3012 - val_loss: 2499.4601\n",
            "Epoch 222/300\n",
            "1579/1579 [==============================] - 0s 214us/step - loss: 2160.6713 - val_loss: 1700.5831\n",
            "Epoch 223/300\n",
            "1579/1579 [==============================] - 0s 226us/step - loss: 1593.3608 - val_loss: 1631.4595\n",
            "Epoch 224/300\n",
            "1579/1579 [==============================] - 0s 218us/step - loss: 1494.4492 - val_loss: 1481.3880\n",
            "Epoch 225/300\n",
            "1579/1579 [==============================] - 0s 219us/step - loss: 1402.5737 - val_loss: 1813.9217\n",
            "Epoch 226/300\n",
            "1579/1579 [==============================] - 0s 218us/step - loss: 1521.8845 - val_loss: 1520.9244\n",
            "Epoch 227/300\n",
            "1579/1579 [==============================] - 0s 212us/step - loss: 1869.4264 - val_loss: 2091.1823\n",
            "Epoch 228/300\n",
            "1579/1579 [==============================] - 0s 232us/step - loss: 1870.3077 - val_loss: 1663.2444\n",
            "Epoch 229/300\n",
            "1579/1579 [==============================] - 0s 226us/step - loss: 2037.5227 - val_loss: 2861.8345\n",
            "Epoch 230/300\n",
            "1579/1579 [==============================] - 0s 213us/step - loss: 1574.5648 - val_loss: 1824.2301\n",
            "Epoch 231/300\n",
            "1579/1579 [==============================] - 0s 212us/step - loss: 1530.9534 - val_loss: 1365.8963\n",
            "Epoch 232/300\n",
            "1579/1579 [==============================] - 0s 219us/step - loss: 1298.0048 - val_loss: 1354.3003\n",
            "Epoch 233/300\n",
            "1579/1579 [==============================] - 0s 227us/step - loss: 1283.3266 - val_loss: 3137.7897\n",
            "Epoch 234/300\n",
            "1579/1579 [==============================] - 0s 217us/step - loss: 5933.7741 - val_loss: 4135.5047\n",
            "Epoch 235/300\n",
            "1579/1579 [==============================] - 0s 219us/step - loss: 3082.8098 - val_loss: 3457.3329\n",
            "Epoch 236/300\n",
            "1579/1579 [==============================] - 0s 216us/step - loss: 2644.1569 - val_loss: 2809.0898\n",
            "Epoch 237/300\n",
            "1579/1579 [==============================] - 0s 210us/step - loss: 2565.2312 - val_loss: 2692.1079\n",
            "Epoch 238/300\n",
            "1579/1579 [==============================] - 0s 222us/step - loss: 2480.6931 - val_loss: 3666.5647\n",
            "Epoch 239/300\n",
            "1579/1579 [==============================] - 0s 209us/step - loss: 2581.6392 - val_loss: 2461.9307\n",
            "Epoch 240/300\n",
            "1579/1579 [==============================] - 0s 210us/step - loss: 2486.9932 - val_loss: 2393.9984\n",
            "Epoch 241/300\n",
            "1579/1579 [==============================] - 0s 215us/step - loss: 2075.3543 - val_loss: 2126.0506\n",
            "Epoch 242/300\n",
            "1579/1579 [==============================] - 0s 214us/step - loss: 1911.6768 - val_loss: 2146.8783\n",
            "Epoch 243/300\n",
            "1579/1579 [==============================] - 0s 219us/step - loss: 1913.9524 - val_loss: 2092.1477\n",
            "Epoch 244/300\n",
            "1579/1579 [==============================] - 0s 221us/step - loss: 1877.0879 - val_loss: 2092.8154\n",
            "Epoch 245/300\n",
            "1579/1579 [==============================] - 0s 209us/step - loss: 1769.8351 - val_loss: 1984.0009\n",
            "Epoch 246/300\n",
            "1579/1579 [==============================] - 0s 208us/step - loss: 1687.5973 - val_loss: 1752.8731\n",
            "Epoch 247/300\n",
            "1579/1579 [==============================] - 0s 215us/step - loss: 1703.8343 - val_loss: 1807.5372\n",
            "Epoch 248/300\n",
            "1579/1579 [==============================] - 0s 208us/step - loss: 1733.1521 - val_loss: 1757.9260\n",
            "Epoch 249/300\n",
            "1579/1579 [==============================] - 0s 214us/step - loss: 1828.8448 - val_loss: 1677.6088\n",
            "Epoch 250/300\n",
            "1579/1579 [==============================] - 0s 214us/step - loss: 1438.7479 - val_loss: 1498.2271\n",
            "Epoch 251/300\n",
            "1579/1579 [==============================] - 0s 211us/step - loss: 1398.2831 - val_loss: 1640.6684\n",
            "Epoch 252/300\n",
            "1579/1579 [==============================] - 0s 213us/step - loss: 1502.6765 - val_loss: 1534.6308\n",
            "Epoch 253/300\n",
            "1579/1579 [==============================] - 0s 218us/step - loss: 1371.3954 - val_loss: 1330.9762\n",
            "Epoch 254/300\n",
            "1579/1579 [==============================] - 0s 211us/step - loss: 1580.9454 - val_loss: 1740.1468\n",
            "Epoch 255/300\n",
            "1579/1579 [==============================] - 0s 209us/step - loss: 2190.5268 - val_loss: 3428.8555\n",
            "Epoch 256/300\n",
            "1579/1579 [==============================] - 0s 214us/step - loss: 2005.3677 - val_loss: 2005.7258\n",
            "Epoch 257/300\n",
            "1579/1579 [==============================] - 0s 219us/step - loss: 1405.9945 - val_loss: 2155.4266\n",
            "Epoch 258/300\n",
            "1579/1579 [==============================] - 0s 215us/step - loss: 1679.1960 - val_loss: 1490.0544\n",
            "Epoch 259/300\n",
            "1579/1579 [==============================] - 0s 214us/step - loss: 1277.2792 - val_loss: 1201.3581\n",
            "Epoch 260/300\n",
            "1579/1579 [==============================] - 0s 211us/step - loss: 1109.1466 - val_loss: 1764.3615\n",
            "Epoch 261/300\n",
            "1579/1579 [==============================] - 0s 214us/step - loss: 1328.1080 - val_loss: 1501.6195\n",
            "Epoch 262/300\n",
            "1579/1579 [==============================] - 0s 223us/step - loss: 1139.1481 - val_loss: 1252.7098\n",
            "Epoch 263/300\n",
            "1579/1579 [==============================] - 0s 211us/step - loss: 1024.7773 - val_loss: 1240.5738\n",
            "Epoch 264/300\n",
            "1579/1579 [==============================] - 0s 215us/step - loss: 1173.8290 - val_loss: 1033.2370\n",
            "Epoch 265/300\n",
            "1579/1579 [==============================] - 0s 220us/step - loss: 1146.1943 - val_loss: 2749.6201\n",
            "Epoch 266/300\n",
            "1579/1579 [==============================] - 0s 214us/step - loss: 1962.7444 - val_loss: 1252.3678\n",
            "Epoch 267/300\n",
            "1579/1579 [==============================] - 0s 217us/step - loss: 1840.8225 - val_loss: 1461.0624\n",
            "Epoch 268/300\n",
            "1579/1579 [==============================] - 0s 219us/step - loss: 1421.4489 - val_loss: 1096.6865\n",
            "Epoch 269/300\n",
            "1579/1579 [==============================] - 0s 211us/step - loss: 903.2762 - val_loss: 1062.3225\n",
            "Epoch 270/300\n",
            "1579/1579 [==============================] - 0s 210us/step - loss: 979.8396 - val_loss: 1532.2542\n",
            "Epoch 271/300\n",
            "1579/1579 [==============================] - 0s 226us/step - loss: 972.9780 - val_loss: 851.3001\n",
            "Epoch 272/300\n",
            "1579/1579 [==============================] - 0s 209us/step - loss: 879.8768 - val_loss: 844.2190\n",
            "Epoch 273/300\n",
            "1579/1579 [==============================] - 0s 214us/step - loss: 874.7227 - val_loss: 1022.1130\n",
            "Epoch 274/300\n",
            "1579/1579 [==============================] - 0s 218us/step - loss: 1096.0631 - val_loss: 1092.8769\n",
            "Epoch 275/300\n",
            "1579/1579 [==============================] - 0s 212us/step - loss: 1009.6949 - val_loss: 879.3659\n",
            "Epoch 276/300\n",
            "1579/1579 [==============================] - 0s 212us/step - loss: 851.8165 - val_loss: 1029.8067\n",
            "Epoch 277/300\n",
            "1579/1579 [==============================] - 0s 220us/step - loss: 1172.7626 - val_loss: 1380.1686\n",
            "Epoch 278/300\n",
            "1579/1579 [==============================] - 0s 213us/step - loss: 843.0541 - val_loss: 841.4210\n",
            "Epoch 279/300\n",
            "1579/1579 [==============================] - 0s 210us/step - loss: 765.4551 - val_loss: 946.3441\n",
            "Epoch 280/300\n",
            "1579/1579 [==============================] - 0s 221us/step - loss: 1205.8337 - val_loss: 759.6141\n",
            "Epoch 281/300\n",
            "1579/1579 [==============================] - 0s 216us/step - loss: 918.8920 - val_loss: 657.5956\n",
            "Epoch 282/300\n",
            "1579/1579 [==============================] - 0s 211us/step - loss: 1082.4080 - val_loss: 2451.5320\n",
            "Epoch 283/300\n",
            "1579/1579 [==============================] - 0s 219us/step - loss: 1506.8216 - val_loss: 1839.6369\n",
            "Epoch 284/300\n",
            "1579/1579 [==============================] - 0s 210us/step - loss: 1340.4627 - val_loss: 665.3265\n",
            "Epoch 285/300\n",
            "1579/1579 [==============================] - 0s 212us/step - loss: 692.8157 - val_loss: 695.9783\n",
            "Epoch 286/300\n",
            "1579/1579 [==============================] - 0s 217us/step - loss: 1055.7341 - val_loss: 1182.2461\n",
            "Epoch 287/300\n",
            "1579/1579 [==============================] - 0s 215us/step - loss: 1170.0466 - val_loss: 702.9454\n",
            "Epoch 288/300\n",
            "1579/1579 [==============================] - 0s 211us/step - loss: 900.4859 - val_loss: 1019.1076\n",
            "Epoch 289/300\n",
            "1579/1579 [==============================] - 0s 214us/step - loss: 641.7866 - val_loss: 698.7630\n",
            "Epoch 290/300\n",
            "1579/1579 [==============================] - 0s 212us/step - loss: 687.6834 - val_loss: 735.1662\n",
            "Epoch 291/300\n",
            "1579/1579 [==============================] - 0s 207us/step - loss: 1382.0982 - val_loss: 1023.8412\n",
            "Epoch 292/300\n",
            "1579/1579 [==============================] - 0s 217us/step - loss: 1002.0241 - val_loss: 751.1382\n",
            "Epoch 293/300\n",
            "1579/1579 [==============================] - 0s 214us/step - loss: 894.7820 - val_loss: 1210.7660\n",
            "Epoch 294/300\n",
            "1579/1579 [==============================] - 0s 211us/step - loss: 753.3588 - val_loss: 876.0429\n",
            "Epoch 295/300\n",
            "1579/1579 [==============================] - 0s 214us/step - loss: 792.2559 - val_loss: 954.4876\n",
            "Epoch 296/300\n",
            "1579/1579 [==============================] - 0s 210us/step - loss: 963.7537 - val_loss: 612.9564\n",
            "Epoch 297/300\n",
            "1579/1579 [==============================] - 0s 210us/step - loss: 1017.0301 - val_loss: 1370.3648\n",
            "Epoch 298/300\n",
            "1579/1579 [==============================] - 0s 212us/step - loss: 749.1097 - val_loss: 539.4453\n",
            "Epoch 299/300\n",
            "1579/1579 [==============================] - 0s 211us/step - loss: 1036.6715 - val_loss: 672.8138\n",
            "Epoch 300/300\n",
            "1579/1579 [==============================] - 0s 217us/step - loss: 1420.9681 - val_loss: 1128.1189\n"
          ],
          "name": "stdout"
        },
        {
          "output_type": "execute_result",
          "data": {
            "text/plain": [
              "<keras.callbacks.History at 0x7f24d8305cc0>"
            ]
          },
          "metadata": {
            "tags": []
          },
          "execution_count": 25
        }
      ]
    },
    {
      "cell_type": "code",
      "metadata": {
        "id": "ySv4my64qnZ7",
        "colab_type": "code",
        "colab": {}
      },
      "source": [
        "pred = model.predict(X_test)"
      ],
      "execution_count": 0,
      "outputs": []
    },
    {
      "cell_type": "code",
      "metadata": {
        "id": "AVzYD8Skqnyg",
        "colab_type": "code",
        "outputId": "75a6438f-609b-43c0-cbb4-6737340f70da",
        "colab": {
          "base_uri": "https://localhost:8080/",
          "height": 624
        }
      },
      "source": [
        "import matplotlib.pyplot as plt\n",
        "%matplotlib inline\n",
        "plt.figure(figsize=(10,10))\n",
        "plt.plot(y_test,'r',label='actual')\n",
        "plt.plot(pred,'--', label = 'predicted')\n",
        "\n",
        "plt.title('Variation of actual and predicted stock price')\n",
        "plt.ylabel('Stock price')\n",
        "plt.legend()"
      ],
      "execution_count": 0,
      "outputs": [
        {
          "output_type": "execute_result",
          "data": {
            "text/plain": [
              "<matplotlib.legend.Legend at 0x7f249113e668>"
            ]
          },
          "metadata": {
            "tags": []
          },
          "execution_count": 27
        },
        {
          "output_type": "display_data",
          "data": {
            "image/png": "[encoded data removed]",
            "text/plain": [
              "<Figure size 720x720 with 1 Axes>"
            ]
          },
          "metadata": {
            "tags": []
          }
        }
      ]
    },
    {
      "cell_type": "markdown",
      "metadata": {
        "id": "B90we8N9OVBH",
        "colab_type": "text"
      },
      "source": [
        "# The pitfall"
      ]
    },
    {
      "cell_type": "code",
      "metadata": {
        "id": "K4XUjZ7CAGIH",
        "colab_type": "code",
        "colab": {}
      },
      "source": [
        "X_train = x[:2100,:,:]\n",
        "y_train = y[:2100]\n",
        "\n",
        "X_test = x[2100:,:,:]\n",
        "y_test = y[2100:]"
      ],
      "execution_count": 0,
      "outputs": []
    },
    {
      "cell_type": "code",
      "metadata": {
        "id": "i0BROOjZTYjD",
        "colab_type": "code",
        "outputId": "9c8a121d-706e-433b-bce9-1617459ce9a0",
        "colab": {
          "base_uri": "https://localhost:8080/",
          "height": 289
        }
      },
      "source": [
        "model = Sequential()\n",
        "model.add(Dense(100, input_shape = (5,1), activation = 'relu'))\n",
        "model.add((LSTM(100)))\n",
        "model.add(Dense(1000,activation='relu'))\n",
        "model.add(Dense(1,activation='linear'))\n",
        "model.summary()"
      ],
      "execution_count": 0,
      "outputs": [
        {
          "output_type": "stream",
          "text": [
            "Model: \"sequential_2\"\n",
            "_________________________________________________________________\n",
            "Layer (type)                 Output Shape              Param #   \n",
            "=================================================================\n",
            "dense_4 (Dense)              (None, 5, 100)            200       \n",
            "_________________________________________________________________\n",
            "lstm_2 (LSTM)                (None, 100)               80400     \n",
            "_________________________________________________________________\n",
            "dense_5 (Dense)              (None, 1000)              101000    \n",
            "_________________________________________________________________\n",
            "dense_6 (Dense)              (None, 1)                 1001      \n",
            "=================================================================\n",
            "Total params: 182,601\n",
            "Trainable params: 182,601\n",
            "Non-trainable params: 0\n",
            "_________________________________________________________________\n"
          ],
          "name": "stdout"
        }
      ]
    },
    {
      "cell_type": "code",
      "metadata": {
        "id": "kuFvLEMcUFqC",
        "colab_type": "code",
        "colab": {}
      },
      "source": [
        "from keras.optimizers import Adam\n",
        "adam = Adam(lr=0.0001)\n",
        "model.compile(optimizer=adam, loss='mean_squared_error')"
      ],
      "execution_count": 0,
      "outputs": []
    },
    {
      "cell_type": "code",
      "metadata": {
        "id": "zBr8vpxSUSVy",
        "colab_type": "code",
        "outputId": "7d112752-3297-49eb-ad71-01f2c48ff93b",
        "colab": {
          "base_uri": "https://localhost:8080/",
          "height": 1000
        }
      },
      "source": [
        "model.fit(X_train, y_train, epochs=300, batch_size=64, validation_data=(X_test, y_test), verbose = 1)"
      ],
      "execution_count": 0,
      "outputs": [
        {
          "output_type": "stream",
          "text": [
            "Train on 2100 samples, validate on 156 samples\n",
            "Epoch 1/300\n",
            "2100/2100 [==============================] - 1s 565us/step - loss: 330769.3182 - val_loss: 3095112.5064\n",
            "Epoch 2/300\n",
            "2100/2100 [==============================] - 0s 194us/step - loss: 328383.5346 - val_loss: 3084658.4423\n",
            "Epoch 3/300\n",
            "2100/2100 [==============================] - 0s 186us/step - loss: 325589.5119 - val_loss: 3073355.6923\n",
            "Epoch 4/300\n",
            "2100/2100 [==============================] - 0s 189us/step - loss: 322513.8929 - val_loss: 3060521.2756\n",
            "Epoch 5/300\n",
            "2100/2100 [==============================] - 0s 199us/step - loss: 318938.8044 - val_loss: 3045822.7885\n",
            "Epoch 6/300\n",
            "2100/2100 [==============================] - 0s 186us/step - loss: 314932.6975 - val_loss: 3029338.6026\n",
            "Epoch 7/300\n",
            "2100/2100 [==============================] - 0s 192us/step - loss: 310403.4670 - val_loss: 3010229.0256\n",
            "Epoch 8/300\n",
            "2100/2100 [==============================] - 0s 186us/step - loss: 305293.3396 - val_loss: 2988830.3141\n",
            "Epoch 9/300\n",
            "2100/2100 [==============================] - 0s 192us/step - loss: 299759.0108 - val_loss: 2965706.0513\n",
            "Epoch 10/300\n",
            "2100/2100 [==============================] - 0s 192us/step - loss: 293869.0922 - val_loss: 2940663.9038\n",
            "Epoch 11/300\n",
            "2100/2100 [==============================] - 0s 184us/step - loss: 287585.1938 - val_loss: 2914201.6090\n",
            "Epoch 12/300\n",
            "2100/2100 [==============================] - 0s 192us/step - loss: 281017.6676 - val_loss: 2885832.1795\n",
            "Epoch 13/300\n",
            "2100/2100 [==============================] - 0s 196us/step - loss: 274141.1724 - val_loss: 2856162.9295\n",
            "Epoch 14/300\n",
            "2100/2100 [==============================] - 0s 186us/step - loss: 267023.5999 - val_loss: 2823619.9103\n",
            "Epoch 15/300\n",
            "2100/2100 [==============================] - 0s 194us/step - loss: 259345.2081 - val_loss: 2789234.9744\n",
            "Epoch 16/300\n",
            "2100/2100 [==============================] - 0s 187us/step - loss: 251577.7513 - val_loss: 2753826.2692\n",
            "Epoch 17/300\n",
            "2100/2100 [==============================] - 0s 199us/step - loss: 243772.8076 - val_loss: 2717631.5962\n",
            "Epoch 18/300\n",
            "2100/2100 [==============================] - 0s 191us/step - loss: 235968.5261 - val_loss: 2680512.6346\n",
            "Epoch 19/300\n",
            "2100/2100 [==============================] - 0s 190us/step - loss: 228210.6673 - val_loss: 2642590.9615\n",
            "Epoch 20/300\n",
            "2100/2100 [==============================] - 0s 199us/step - loss: 220531.0221 - val_loss: 2603973.8269\n",
            "Epoch 21/300\n",
            "2100/2100 [==============================] - 0s 186us/step - loss: 212919.7601 - val_loss: 2565560.8269\n",
            "Epoch 22/300\n",
            "2100/2100 [==============================] - 0s 186us/step - loss: 205532.3018 - val_loss: 2526087.9968\n",
            "Epoch 23/300\n",
            "2100/2100 [==============================] - 0s 195us/step - loss: 198283.1844 - val_loss: 2486904.8526\n",
            "Epoch 24/300\n",
            "2100/2100 [==============================] - 0s 187us/step - loss: 191327.6380 - val_loss: 2446997.9135\n",
            "Epoch 25/300\n",
            "2100/2100 [==============================] - 0s 193us/step - loss: 184523.0594 - val_loss: 2407515.1859\n",
            "Epoch 26/300\n",
            "2100/2100 [==============================] - 0s 186us/step - loss: 177663.1323 - val_loss: 2367254.7596\n",
            "Epoch 27/300\n",
            "2100/2100 [==============================] - 0s 185us/step - loss: 170901.4130 - val_loss: 2326264.5160\n",
            "Epoch 28/300\n",
            "2100/2100 [==============================] - 0s 193us/step - loss: 164565.3851 - val_loss: 2285397.2532\n",
            "Epoch 29/300\n",
            "2100/2100 [==============================] - 0s 188us/step - loss: 157929.5229 - val_loss: 2244221.1699\n",
            "Epoch 30/300\n",
            "2100/2100 [==============================] - 0s 192us/step - loss: 151645.7994 - val_loss: 2203537.5449\n",
            "Epoch 31/300\n",
            "2100/2100 [==============================] - 0s 191us/step - loss: 145535.5721 - val_loss: 2162559.9487\n",
            "Epoch 32/300\n",
            "2100/2100 [==============================] - 0s 190us/step - loss: 139595.5244 - val_loss: 2121660.5224\n",
            "Epoch 33/300\n",
            "2100/2100 [==============================] - 0s 193us/step - loss: 133842.9381 - val_loss: 2080701.5801\n",
            "Epoch 34/300\n",
            "2100/2100 [==============================] - 0s 194us/step - loss: 128298.3557 - val_loss: 2039999.9006\n",
            "Epoch 35/300\n",
            "2100/2100 [==============================] - 0s 194us/step - loss: 122905.5912 - val_loss: 1999523.9551\n",
            "Epoch 36/300\n",
            "2100/2100 [==============================] - 0s 191us/step - loss: 117700.4626 - val_loss: 1959181.5897\n",
            "Epoch 37/300\n",
            "2100/2100 [==============================] - 0s 194us/step - loss: 112693.2970 - val_loss: 1918048.8141\n",
            "Epoch 38/300\n",
            "2100/2100 [==============================] - 0s 198us/step - loss: 107726.1950 - val_loss: 1879496.9712\n",
            "Epoch 39/300\n",
            "2100/2100 [==============================] - 0s 192us/step - loss: 103013.1018 - val_loss: 1840289.6955\n",
            "Epoch 40/300\n",
            "2100/2100 [==============================] - 0s 201us/step - loss: 98394.7738 - val_loss: 1800450.1090\n",
            "Epoch 41/300\n",
            "2100/2100 [==============================] - 0s 193us/step - loss: 93880.1310 - val_loss: 1761589.0256\n",
            "Epoch 42/300\n",
            "2100/2100 [==============================] - 0s 197us/step - loss: 89546.4974 - val_loss: 1722831.9071\n",
            "Epoch 43/300\n",
            "2100/2100 [==============================] - 0s 208us/step - loss: 85319.4972 - val_loss: 1685160.6218\n",
            "Epoch 44/300\n",
            "2100/2100 [==============================] - 0s 197us/step - loss: 81312.9945 - val_loss: 1647113.1378\n",
            "Epoch 45/300\n",
            "2100/2100 [==============================] - 0s 199us/step - loss: 77415.4361 - val_loss: 1609379.2532\n",
            "Epoch 46/300\n",
            "2100/2100 [==============================] - 0s 193us/step - loss: 73660.2891 - val_loss: 1573119.5224\n",
            "Epoch 47/300\n",
            "2100/2100 [==============================] - 0s 192us/step - loss: 70085.5239 - val_loss: 1537061.8269\n",
            "Epoch 48/300\n",
            "2100/2100 [==============================] - 0s 197us/step - loss: 66666.2702 - val_loss: 1501470.0737\n",
            "Epoch 49/300\n",
            "2100/2100 [==============================] - 0s 196us/step - loss: 63394.5914 - val_loss: 1466532.6859\n",
            "Epoch 50/300\n",
            "2100/2100 [==============================] - 0s 224us/step - loss: 60262.0418 - val_loss: 1432700.0545\n",
            "Epoch 51/300\n",
            "2100/2100 [==============================] - 0s 220us/step - loss: 57282.1505 - val_loss: 1399445.3638\n",
            "Epoch 52/300\n",
            "2100/2100 [==============================] - 0s 210us/step - loss: 54495.5796 - val_loss: 1366458.8718\n",
            "Epoch 53/300\n",
            "2100/2100 [==============================] - 0s 199us/step - loss: 51752.3126 - val_loss: 1334904.3349\n",
            "Epoch 54/300\n",
            "2100/2100 [==============================] - 0s 203us/step - loss: 49191.7163 - val_loss: 1303131.4103\n",
            "Epoch 55/300\n",
            "2100/2100 [==============================] - 0s 217us/step - loss: 46769.4947 - val_loss: 1272385.1971\n",
            "Epoch 56/300\n",
            "2100/2100 [==============================] - 0s 208us/step - loss: 44445.6838 - val_loss: 1242609.2388\n",
            "Epoch 57/300\n",
            "2100/2100 [==============================] - 0s 205us/step - loss: 42304.5711 - val_loss: 1213113.3365\n",
            "Epoch 58/300\n",
            "2100/2100 [==============================] - 0s 203us/step - loss: 40231.1335 - val_loss: 1185111.4071\n",
            "Epoch 59/300\n",
            "2100/2100 [==============================] - 0s 205us/step - loss: 38230.2038 - val_loss: 1157535.7452\n",
            "Epoch 60/300\n",
            "2100/2100 [==============================] - 0s 204us/step - loss: 36461.2600 - val_loss: 1130103.5016\n",
            "Epoch 61/300\n",
            "2100/2100 [==============================] - 0s 201us/step - loss: 34705.7821 - val_loss: 1103431.3125\n",
            "Epoch 62/300\n",
            "2100/2100 [==============================] - 0s 215us/step - loss: 33072.6794 - val_loss: 1078186.0433\n",
            "Epoch 63/300\n",
            "2100/2100 [==============================] - 0s 211us/step - loss: 31501.1260 - val_loss: 1053357.2644\n",
            "Epoch 64/300\n",
            "2100/2100 [==============================] - 0s 206us/step - loss: 30042.1480 - val_loss: 1028463.0208\n",
            "Epoch 65/300\n",
            "2100/2100 [==============================] - 0s 203us/step - loss: 28575.7997 - val_loss: 1005139.3253\n",
            "Epoch 66/300\n",
            "2100/2100 [==============================] - 0s 202us/step - loss: 27283.4772 - val_loss: 982488.0112\n",
            "Epoch 67/300\n",
            "2100/2100 [==============================] - 0s 206us/step - loss: 26011.8519 - val_loss: 959429.7436\n",
            "Epoch 68/300\n",
            "2100/2100 [==============================] - 0s 199us/step - loss: 25025.4948 - val_loss: 938121.3542\n",
            "Epoch 69/300\n",
            "2100/2100 [==============================] - 0s 205us/step - loss: 23808.9205 - val_loss: 916725.1314\n",
            "Epoch 70/300\n",
            "2100/2100 [==============================] - 0s 210us/step - loss: 22756.0106 - val_loss: 895632.2997\n",
            "Epoch 71/300\n",
            "2100/2100 [==============================] - 0s 204us/step - loss: 21807.6878 - val_loss: 875234.1907\n",
            "Epoch 72/300\n",
            "2100/2100 [==============================] - 0s 202us/step - loss: 20740.7511 - val_loss: 854695.0705\n",
            "Epoch 73/300\n",
            "2100/2100 [==============================] - 0s 203us/step - loss: 19854.2583 - val_loss: 836471.7292\n",
            "Epoch 74/300\n",
            "2100/2100 [==============================] - 0s 212us/step - loss: 18980.2911 - val_loss: 817164.8077\n",
            "Epoch 75/300\n",
            "2100/2100 [==============================] - 0s 194us/step - loss: 18145.6225 - val_loss: 798747.2804\n",
            "Epoch 76/300\n",
            "2100/2100 [==============================] - 0s 203us/step - loss: 17338.5400 - val_loss: 780112.2949\n",
            "Epoch 77/300\n",
            "2100/2100 [==============================] - 0s 198us/step - loss: 16579.7603 - val_loss: 762862.3245\n",
            "Epoch 78/300\n",
            "2100/2100 [==============================] - 0s 199us/step - loss: 15917.4874 - val_loss: 745520.8189\n",
            "Epoch 79/300\n",
            "2100/2100 [==============================] - 0s 192us/step - loss: 15748.8663 - val_loss: 728704.7821\n",
            "Epoch 80/300\n",
            "2100/2100 [==============================] - 0s 200us/step - loss: 14664.7706 - val_loss: 712202.9631\n",
            "Epoch 81/300\n",
            "2100/2100 [==============================] - 0s 200us/step - loss: 14037.6934 - val_loss: 696140.5657\n",
            "Epoch 82/300\n",
            "2100/2100 [==============================] - 0s 195us/step - loss: 13439.0003 - val_loss: 681104.8205\n",
            "Epoch 83/300\n",
            "2100/2100 [==============================] - 0s 199us/step - loss: 13034.9129 - val_loss: 665111.5409\n",
            "Epoch 84/300\n",
            "2100/2100 [==============================] - 0s 200us/step - loss: 12335.2308 - val_loss: 650367.4271\n",
            "Epoch 85/300\n",
            "2100/2100 [==============================] - 0s 198us/step - loss: 11795.9426 - val_loss: 635807.8654\n",
            "Epoch 86/300\n",
            "2100/2100 [==============================] - 0s 209us/step - loss: 11391.4499 - val_loss: 621463.3502\n",
            "Epoch 87/300\n",
            "2100/2100 [==============================] - 0s 200us/step - loss: 10937.6656 - val_loss: 607594.2700\n",
            "Epoch 88/300\n",
            "2100/2100 [==============================] - 0s 200us/step - loss: 10550.9741 - val_loss: 594374.9928\n",
            "Epoch 89/300\n",
            "2100/2100 [==============================] - 0s 204us/step - loss: 10009.2402 - val_loss: 580873.1018\n",
            "Epoch 90/300\n",
            "2100/2100 [==============================] - 0s 199us/step - loss: 9640.2798 - val_loss: 567413.9599\n",
            "Epoch 91/300\n",
            "2100/2100 [==============================] - 0s 201us/step - loss: 9251.9731 - val_loss: 554978.1026\n",
            "Epoch 92/300\n",
            "2100/2100 [==============================] - 0s 205us/step - loss: 8895.3936 - val_loss: 541740.4295\n",
            "Epoch 93/300\n",
            "2100/2100 [==============================] - 0s 195us/step - loss: 8665.6045 - val_loss: 530043.9223\n",
            "Epoch 94/300\n",
            "2100/2100 [==============================] - 0s 192us/step - loss: 8401.0361 - val_loss: 518132.6851\n",
            "Epoch 95/300\n",
            "2100/2100 [==============================] - 0s 191us/step - loss: 8179.6471 - val_loss: 506723.3494\n",
            "Epoch 96/300\n",
            "2100/2100 [==============================] - 0s 195us/step - loss: 7735.3533 - val_loss: 494948.9792\n",
            "Epoch 97/300\n",
            "2100/2100 [==============================] - 0s 199us/step - loss: 7259.7062 - val_loss: 484334.3878\n",
            "Epoch 98/300\n",
            "2100/2100 [==============================] - 0s 199us/step - loss: 6931.0624 - val_loss: 472811.3213\n",
            "Epoch 99/300\n",
            "2100/2100 [==============================] - 0s 193us/step - loss: 6683.6198 - val_loss: 461345.8466\n",
            "Epoch 100/300\n",
            "2100/2100 [==============================] - 0s 191us/step - loss: 6417.3730 - val_loss: 450819.9948\n",
            "Epoch 101/300\n",
            "2100/2100 [==============================] - 0s 203us/step - loss: 6189.4183 - val_loss: 440408.1090\n",
            "Epoch 102/300\n",
            "2100/2100 [==============================] - 0s 195us/step - loss: 5884.2447 - val_loss: 430289.3442\n",
            "Epoch 103/300\n",
            "2100/2100 [==============================] - 0s 201us/step - loss: 5658.8632 - val_loss: 419681.9796\n",
            "Epoch 104/300\n",
            "2100/2100 [==============================] - 0s 195us/step - loss: 5430.0791 - val_loss: 410240.3922\n",
            "Epoch 105/300\n",
            "2100/2100 [==============================] - 0s 200us/step - loss: 5319.3908 - val_loss: 401035.7188\n",
            "Epoch 106/300\n",
            "2100/2100 [==============================] - 0s 196us/step - loss: 5152.2780 - val_loss: 391768.6166\n",
            "Epoch 107/300\n",
            "2100/2100 [==============================] - 0s 191us/step - loss: 4958.5254 - val_loss: 382564.4928\n",
            "Epoch 108/300\n",
            "2100/2100 [==============================] - 0s 207us/step - loss: 4582.2865 - val_loss: 373424.3698\n",
            "Epoch 109/300\n",
            "2100/2100 [==============================] - 0s 195us/step - loss: 4456.6413 - val_loss: 364689.8393\n",
            "Epoch 110/300\n",
            "2100/2100 [==============================] - 0s 204us/step - loss: 4171.0181 - val_loss: 356002.1883\n",
            "Epoch 111/300\n",
            "2100/2100 [==============================] - 0s 192us/step - loss: 4007.1100 - val_loss: 346872.2240\n",
            "Epoch 112/300\n",
            "2100/2100 [==============================] - 0s 193us/step - loss: 3769.5133 - val_loss: 338317.6342\n",
            "Epoch 113/300\n",
            "2100/2100 [==============================] - 0s 198us/step - loss: 3837.8903 - val_loss: 330388.4764\n",
            "Epoch 114/300\n",
            "2100/2100 [==============================] - 0s 193us/step - loss: 3473.0570 - val_loss: 321981.4808\n",
            "Epoch 115/300\n",
            "2100/2100 [==============================] - 0s 194us/step - loss: 3542.7327 - val_loss: 314243.3858\n",
            "Epoch 116/300\n",
            "2100/2100 [==============================] - 0s 191us/step - loss: 3297.2023 - val_loss: 306732.5877\n",
            "Epoch 117/300\n",
            "2100/2100 [==============================] - 0s 193us/step - loss: 3200.4278 - val_loss: 299818.0060\n",
            "Epoch 118/300\n",
            "2100/2100 [==============================] - 0s 201us/step - loss: 2948.3495 - val_loss: 291949.0088\n",
            "Epoch 119/300\n",
            "2100/2100 [==============================] - 0s 201us/step - loss: 2688.1778 - val_loss: 285036.5845\n",
            "Epoch 120/300\n",
            "2100/2100 [==============================] - 0s 200us/step - loss: 2547.5230 - val_loss: 277143.2248\n",
            "Epoch 121/300\n",
            "2100/2100 [==============================] - 0s 192us/step - loss: 2495.3028 - val_loss: 270664.5292\n",
            "Epoch 122/300\n",
            "2100/2100 [==============================] - 0s 195us/step - loss: 2536.5393 - val_loss: 263943.0090\n",
            "Epoch 123/300\n",
            "2100/2100 [==============================] - 0s 194us/step - loss: 2387.0871 - val_loss: 257802.5671\n",
            "Epoch 124/300\n",
            "2100/2100 [==============================] - 0s 194us/step - loss: 2181.0903 - val_loss: 251100.1677\n",
            "Epoch 125/300\n",
            "2100/2100 [==============================] - 0s 198us/step - loss: 2071.6300 - val_loss: 245427.0421\n",
            "Epoch 126/300\n",
            "2100/2100 [==============================] - 0s 191us/step - loss: 1974.5749 - val_loss: 239216.7244\n",
            "Epoch 127/300\n",
            "2100/2100 [==============================] - 0s 192us/step - loss: 1926.6086 - val_loss: 233591.4641\n",
            "Epoch 128/300\n",
            "2100/2100 [==============================] - 0s 200us/step - loss: 1788.7182 - val_loss: 227377.2949\n",
            "Epoch 129/300\n",
            "2100/2100 [==============================] - 0s 199us/step - loss: 1745.0032 - val_loss: 221681.8872\n",
            "Epoch 130/300\n",
            "2100/2100 [==============================] - 0s 195us/step - loss: 1683.9290 - val_loss: 216766.8766\n",
            "Epoch 131/300\n",
            "2100/2100 [==============================] - 0s 192us/step - loss: 1539.3637 - val_loss: 211831.6414\n",
            "Epoch 132/300\n",
            "2100/2100 [==============================] - 0s 191us/step - loss: 1453.9414 - val_loss: 206427.4345\n",
            "Epoch 133/300\n",
            "2100/2100 [==============================] - 0s 197us/step - loss: 1437.8860 - val_loss: 201571.1663\n",
            "Epoch 134/300\n",
            "2100/2100 [==============================] - 0s 195us/step - loss: 1585.9749 - val_loss: 206666.0972\n",
            "Epoch 135/300\n",
            "2100/2100 [==============================] - 0s 196us/step - loss: 1812.7001 - val_loss: 192982.9948\n",
            "Epoch 136/300\n",
            "2100/2100 [==============================] - 0s 193us/step - loss: 1439.8511 - val_loss: 188924.7165\n",
            "Epoch 137/300\n",
            "2100/2100 [==============================] - 0s 198us/step - loss: 1141.5846 - val_loss: 183522.1668\n",
            "Epoch 138/300\n",
            "2100/2100 [==============================] - 0s 196us/step - loss: 1133.3806 - val_loss: 179659.1218\n",
            "Epoch 139/300\n",
            "2100/2100 [==============================] - 0s 190us/step - loss: 1211.1858 - val_loss: 176239.1348\n",
            "Epoch 140/300\n",
            "2100/2100 [==============================] - 0s 196us/step - loss: 1094.2300 - val_loss: 171150.0291\n",
            "Epoch 141/300\n",
            "2100/2100 [==============================] - 0s 192us/step - loss: 1078.7119 - val_loss: 168029.4011\n",
            "Epoch 142/300\n",
            "2100/2100 [==============================] - 0s 201us/step - loss: 889.8950 - val_loss: 165024.7742\n",
            "Epoch 143/300\n",
            "2100/2100 [==============================] - 0s 198us/step - loss: 904.5980 - val_loss: 162008.3284\n",
            "Epoch 144/300\n",
            "2100/2100 [==============================] - 0s 200us/step - loss: 1324.7148 - val_loss: 157905.3780\n",
            "Epoch 145/300\n",
            "2100/2100 [==============================] - 0s 199us/step - loss: 1148.2792 - val_loss: 154765.4965\n",
            "Epoch 146/300\n",
            "2100/2100 [==============================] - 0s 193us/step - loss: 1175.3453 - val_loss: 152984.3847\n",
            "Epoch 147/300\n",
            "2100/2100 [==============================] - 0s 204us/step - loss: 1106.6819 - val_loss: 149273.3138\n",
            "Epoch 148/300\n",
            "2100/2100 [==============================] - 0s 197us/step - loss: 905.6642 - val_loss: 145431.8194\n",
            "Epoch 149/300\n",
            "2100/2100 [==============================] - 0s 194us/step - loss: 829.9683 - val_loss: 144653.7178\n",
            "Epoch 150/300\n",
            "2100/2100 [==============================] - 0s 194us/step - loss: 693.5133 - val_loss: 139303.7650\n",
            "Epoch 151/300\n",
            "2100/2100 [==============================] - 0s 192us/step - loss: 589.6697 - val_loss: 136169.1513\n",
            "Epoch 152/300\n",
            "2100/2100 [==============================] - 0s 189us/step - loss: 608.0613 - val_loss: 133564.0793\n",
            "Epoch 153/300\n",
            "2100/2100 [==============================] - 0s 205us/step - loss: 546.7336 - val_loss: 130940.5443\n",
            "Epoch 154/300\n",
            "2100/2100 [==============================] - 0s 192us/step - loss: 487.5843 - val_loss: 128281.9694\n",
            "Epoch 155/300\n",
            "2100/2100 [==============================] - 0s 195us/step - loss: 497.9341 - val_loss: 126158.2976\n",
            "Epoch 156/300\n",
            "2100/2100 [==============================] - 0s 203us/step - loss: 511.2985 - val_loss: 123186.0185\n",
            "Epoch 157/300\n",
            "2100/2100 [==============================] - 0s 194us/step - loss: 522.3830 - val_loss: 120861.9400\n",
            "Epoch 158/300\n",
            "2100/2100 [==============================] - 0s 197us/step - loss: 537.9263 - val_loss: 119105.5810\n",
            "Epoch 159/300\n",
            "2100/2100 [==============================] - 0s 199us/step - loss: 408.7867 - val_loss: 116661.0629\n",
            "Epoch 160/300\n",
            "2100/2100 [==============================] - 0s 208us/step - loss: 640.7361 - val_loss: 115314.0083\n",
            "Epoch 161/300\n",
            "2100/2100 [==============================] - 0s 195us/step - loss: 615.0788 - val_loss: 114396.9988\n",
            "Epoch 162/300\n",
            "2100/2100 [==============================] - 0s 194us/step - loss: 571.0216 - val_loss: 113117.0856\n",
            "Epoch 163/300\n",
            "2100/2100 [==============================] - 0s 195us/step - loss: 488.7840 - val_loss: 109427.2185\n",
            "Epoch 164/300\n",
            "2100/2100 [==============================] - 0s 193us/step - loss: 454.2911 - val_loss: 108513.4210\n",
            "Epoch 165/300\n",
            "2100/2100 [==============================] - 0s 205us/step - loss: 433.7161 - val_loss: 106327.6539\n",
            "Epoch 166/300\n",
            "2100/2100 [==============================] - 0s 197us/step - loss: 366.2373 - val_loss: 104897.2424\n",
            "Epoch 167/300\n",
            "2100/2100 [==============================] - 0s 205us/step - loss: 415.2592 - val_loss: 103477.1462\n",
            "Epoch 168/300\n",
            "2100/2100 [==============================] - 0s 201us/step - loss: 874.7453 - val_loss: 148257.8992\n",
            "Epoch 169/300\n",
            "2100/2100 [==============================] - 0s 194us/step - loss: 891.2917 - val_loss: 143453.5938\n",
            "Epoch 170/300\n",
            "2100/2100 [==============================] - 0s 199us/step - loss: 649.9476 - val_loss: 140214.4538\n",
            "Epoch 171/300\n",
            "2100/2100 [==============================] - 0s 196us/step - loss: 755.3870 - val_loss: 134063.6739\n",
            "Epoch 172/300\n",
            "2100/2100 [==============================] - 0s 202us/step - loss: 712.4567 - val_loss: 131440.1796\n",
            "Epoch 173/300\n",
            "2100/2100 [==============================] - 0s 194us/step - loss: 625.3539 - val_loss: 127866.9086\n",
            "Epoch 174/300\n",
            "2100/2100 [==============================] - 0s 192us/step - loss: 516.0152 - val_loss: 126288.1508\n",
            "Epoch 175/300\n",
            "2100/2100 [==============================] - 0s 197us/step - loss: 686.8069 - val_loss: 121910.4154\n",
            "Epoch 176/300\n",
            "2100/2100 [==============================] - 0s 200us/step - loss: 651.1436 - val_loss: 117917.0619\n",
            "Epoch 177/300\n",
            "2100/2100 [==============================] - 0s 198us/step - loss: 446.6112 - val_loss: 114870.8875\n",
            "Epoch 178/300\n",
            "2100/2100 [==============================] - 0s 212us/step - loss: 379.2013 - val_loss: 111936.2763\n",
            "Epoch 179/300\n",
            "2100/2100 [==============================] - 0s 196us/step - loss: 450.5055 - val_loss: 110216.0460\n",
            "Epoch 180/300\n",
            "2100/2100 [==============================] - 0s 194us/step - loss: 493.5287 - val_loss: 107688.4586\n",
            "Epoch 181/300\n",
            "2100/2100 [==============================] - 0s 190us/step - loss: 412.5340 - val_loss: 105632.2898\n",
            "Epoch 182/300\n",
            "2100/2100 [==============================] - 0s 201us/step - loss: 417.5349 - val_loss: 104215.8035\n",
            "Epoch 183/300\n",
            "2100/2100 [==============================] - 0s 194us/step - loss: 387.3883 - val_loss: 101706.0097\n",
            "Epoch 184/300\n",
            "2100/2100 [==============================] - 0s 194us/step - loss: 396.0908 - val_loss: 99129.6549\n",
            "Epoch 185/300\n",
            "2100/2100 [==============================] - 0s 197us/step - loss: 355.2193 - val_loss: 99071.5405\n",
            "Epoch 186/300\n",
            "2100/2100 [==============================] - 0s 191us/step - loss: 531.6376 - val_loss: 95764.6623\n",
            "Epoch 187/300\n",
            "2100/2100 [==============================] - 0s 211us/step - loss: 715.3143 - val_loss: 94215.2014\n",
            "Epoch 188/300\n",
            "2100/2100 [==============================] - 0s 195us/step - loss: 611.7648 - val_loss: 93255.2288\n",
            "Epoch 189/300\n",
            "2100/2100 [==============================] - 0s 194us/step - loss: 355.7829 - val_loss: 92532.3018\n",
            "Epoch 190/300\n",
            "2100/2100 [==============================] - 0s 191us/step - loss: 779.3295 - val_loss: 89023.7194\n",
            "Epoch 191/300\n",
            "2100/2100 [==============================] - 0s 190us/step - loss: 317.5687 - val_loss: 88379.3002\n",
            "Epoch 192/300\n",
            "2100/2100 [==============================] - 0s 199us/step - loss: 294.8220 - val_loss: 87217.6952\n",
            "Epoch 193/300\n",
            "2100/2100 [==============================] - 0s 194us/step - loss: 286.4529 - val_loss: 87266.1405\n",
            "Epoch 194/300\n",
            "2100/2100 [==============================] - 0s 196us/step - loss: 407.7232 - val_loss: 92280.0924\n",
            "Epoch 195/300\n",
            "2100/2100 [==============================] - 0s 192us/step - loss: 496.6562 - val_loss: 84798.5839\n",
            "Epoch 196/300\n",
            "2100/2100 [==============================] - 0s 189us/step - loss: 302.9474 - val_loss: 81387.8937\n",
            "Epoch 197/300\n",
            "2100/2100 [==============================] - 0s 198us/step - loss: 417.0119 - val_loss: 81160.0362\n",
            "Epoch 198/300\n",
            "2100/2100 [==============================] - 0s 195us/step - loss: 292.6118 - val_loss: 80674.0397\n",
            "Epoch 199/300\n",
            "2100/2100 [==============================] - 0s 210us/step - loss: 286.6883 - val_loss: 80731.8496\n",
            "Epoch 200/300\n",
            "2100/2100 [==============================] - 0s 209us/step - loss: 314.3574 - val_loss: 78007.9199\n",
            "Epoch 201/300\n",
            "2100/2100 [==============================] - 0s 191us/step - loss: 326.3183 - val_loss: 88470.1931\n",
            "Epoch 202/300\n",
            "2100/2100 [==============================] - 0s 192us/step - loss: 489.0229 - val_loss: 76542.4803\n",
            "Epoch 203/300\n",
            "2100/2100 [==============================] - 0s 195us/step - loss: 320.8921 - val_loss: 75388.7338\n",
            "Epoch 204/300\n",
            "2100/2100 [==============================] - 0s 199us/step - loss: 270.6758 - val_loss: 74620.0850\n",
            "Epoch 205/300\n",
            "2100/2100 [==============================] - 0s 189us/step - loss: 225.8358 - val_loss: 73958.5532\n",
            "Epoch 206/300\n",
            "2100/2100 [==============================] - 0s 189us/step - loss: 214.9714 - val_loss: 72842.9191\n",
            "Epoch 207/300\n",
            "2100/2100 [==============================] - 0s 198us/step - loss: 251.4053 - val_loss: 72366.8205\n",
            "Epoch 208/300\n",
            "2100/2100 [==============================] - 0s 192us/step - loss: 444.6688 - val_loss: 118199.8217\n",
            "Epoch 209/300\n",
            "2100/2100 [==============================] - 0s 194us/step - loss: 395.1821 - val_loss: 110230.3229\n",
            "Epoch 210/300\n",
            "2100/2100 [==============================] - 0s 190us/step - loss: 342.6184 - val_loss: 106441.6826\n",
            "Epoch 211/300\n",
            "2100/2100 [==============================] - 0s 195us/step - loss: 357.4089 - val_loss: 103006.0423\n",
            "Epoch 212/300\n",
            "2100/2100 [==============================] - 0s 195us/step - loss: 423.7605 - val_loss: 102598.2518\n",
            "Epoch 213/300\n",
            "2100/2100 [==============================] - 0s 190us/step - loss: 361.3543 - val_loss: 97639.5240\n",
            "Epoch 214/300\n",
            "2100/2100 [==============================] - 0s 199us/step - loss: 518.7511 - val_loss: 94243.4712\n",
            "Epoch 215/300\n",
            "2100/2100 [==============================] - 0s 188us/step - loss: 628.5639 - val_loss: 146622.7048\n",
            "Epoch 216/300\n",
            "2100/2100 [==============================] - 0s 195us/step - loss: 818.5752 - val_loss: 88248.2256\n",
            "Epoch 217/300\n",
            "2100/2100 [==============================] - 0s 201us/step - loss: 525.6267 - val_loss: 83623.3339\n",
            "Epoch 218/300\n",
            "2100/2100 [==============================] - 0s 193us/step - loss: 1783.9135 - val_loss: 194866.0909\n",
            "Epoch 219/300\n",
            "2100/2100 [==============================] - 0s 207us/step - loss: 1222.6624 - val_loss: 179258.3171\n",
            "Epoch 220/300\n",
            "2100/2100 [==============================] - 0s 192us/step - loss: 1035.7312 - val_loss: 165517.5834\n",
            "Epoch 221/300\n",
            "2100/2100 [==============================] - 0s 190us/step - loss: 828.1658 - val_loss: 154566.3505\n",
            "Epoch 222/300\n",
            "2100/2100 [==============================] - 0s 196us/step - loss: 714.4008 - val_loss: 145469.7146\n",
            "Epoch 223/300\n",
            "2100/2100 [==============================] - 0s 192us/step - loss: 755.8737 - val_loss: 137212.1079\n",
            "Epoch 224/300\n",
            "2100/2100 [==============================] - 0s 201us/step - loss: 627.7263 - val_loss: 130266.3826\n",
            "Epoch 225/300\n",
            "2100/2100 [==============================] - 0s 189us/step - loss: 494.8198 - val_loss: 123995.4685\n",
            "Epoch 226/300\n",
            "2100/2100 [==============================] - 0s 199us/step - loss: 428.3583 - val_loss: 118047.7259\n",
            "Epoch 227/300\n",
            "2100/2100 [==============================] - 0s 191us/step - loss: 460.6459 - val_loss: 113851.7053\n",
            "Epoch 228/300\n",
            "2100/2100 [==============================] - 0s 203us/step - loss: 455.9056 - val_loss: 109667.8961\n",
            "Epoch 229/300\n",
            "2100/2100 [==============================] - 0s 194us/step - loss: 454.8882 - val_loss: 105515.3189\n",
            "Epoch 230/300\n",
            "2100/2100 [==============================] - 0s 190us/step - loss: 338.7655 - val_loss: 102283.4127\n",
            "Epoch 231/300\n",
            "2100/2100 [==============================] - 0s 202us/step - loss: 336.1745 - val_loss: 98461.3702\n",
            "Epoch 232/300\n",
            "2100/2100 [==============================] - 0s 197us/step - loss: 455.9216 - val_loss: 95872.5466\n",
            "Epoch 233/300\n",
            "2100/2100 [==============================] - 0s 197us/step - loss: 355.1347 - val_loss: 94201.2833\n",
            "Epoch 234/300\n",
            "2100/2100 [==============================] - 0s 207us/step - loss: 370.8179 - val_loss: 92003.4430\n",
            "Epoch 235/300\n",
            "2100/2100 [==============================] - 0s 199us/step - loss: 433.2143 - val_loss: 88646.5145\n",
            "Epoch 236/300\n",
            "2100/2100 [==============================] - 0s 207us/step - loss: 253.4531 - val_loss: 86403.3647\n",
            "Epoch 237/300\n",
            "2100/2100 [==============================] - 0s 202us/step - loss: 484.5273 - val_loss: 84806.0284\n",
            "Epoch 238/300\n",
            "2100/2100 [==============================] - 0s 195us/step - loss: 271.0053 - val_loss: 82494.1658\n",
            "Epoch 239/300\n",
            "2100/2100 [==============================] - 0s 195us/step - loss: 293.0643 - val_loss: 79862.0449\n",
            "Epoch 240/300\n",
            "2100/2100 [==============================] - 0s 200us/step - loss: 337.5892 - val_loss: 78880.8768\n",
            "Epoch 241/300\n",
            "2100/2100 [==============================] - 0s 205us/step - loss: 309.3320 - val_loss: 79686.0439\n",
            "Epoch 242/300\n",
            "2100/2100 [==============================] - 0s 189us/step - loss: 254.3482 - val_loss: 76575.0905\n",
            "Epoch 243/300\n",
            "2100/2100 [==============================] - 0s 191us/step - loss: 216.8797 - val_loss: 75810.1979\n",
            "Epoch 244/300\n",
            "2100/2100 [==============================] - 0s 193us/step - loss: 248.7707 - val_loss: 73779.8947\n",
            "Epoch 245/300\n",
            "2100/2100 [==============================] - 0s 191us/step - loss: 337.1977 - val_loss: 74141.4835\n",
            "Epoch 246/300\n",
            "2100/2100 [==============================] - 0s 193us/step - loss: 223.1977 - val_loss: 74573.7333\n",
            "Epoch 247/300\n",
            "2100/2100 [==============================] - 0s 189us/step - loss: 461.8182 - val_loss: 70230.2986\n",
            "Epoch 248/300\n",
            "2100/2100 [==============================] - 0s 200us/step - loss: 529.3635 - val_loss: 70414.9163\n",
            "Epoch 249/300\n",
            "2100/2100 [==============================] - 0s 197us/step - loss: 343.1153 - val_loss: 69032.0244\n",
            "Epoch 250/300\n",
            "2100/2100 [==============================] - 0s 190us/step - loss: 388.1126 - val_loss: 68726.7121\n",
            "Epoch 251/300\n",
            "2100/2100 [==============================] - 0s 193us/step - loss: 219.6163 - val_loss: 68871.7922\n",
            "Epoch 252/300\n",
            "2100/2100 [==============================] - 0s 191us/step - loss: 237.1038 - val_loss: 66003.8836\n",
            "Epoch 253/300\n",
            "2100/2100 [==============================] - 0s 199us/step - loss: 1197.2787 - val_loss: 77934.7849\n",
            "Epoch 254/300\n",
            "2100/2100 [==============================] - 0s 197us/step - loss: 464.5241 - val_loss: 75811.8059\n",
            "Epoch 255/300\n",
            "2100/2100 [==============================] - 0s 199us/step - loss: 312.2740 - val_loss: 75784.4380\n",
            "Epoch 256/300\n",
            "2100/2100 [==============================] - 0s 199us/step - loss: 279.5557 - val_loss: 73784.6462\n",
            "Epoch 257/300\n",
            "2100/2100 [==============================] - 0s 191us/step - loss: 258.6999 - val_loss: 73424.5854\n",
            "Epoch 258/300\n",
            "2100/2100 [==============================] - 0s 194us/step - loss: 341.3509 - val_loss: 71289.7708\n",
            "Epoch 259/300\n",
            "2100/2100 [==============================] - 0s 195us/step - loss: 219.3279 - val_loss: 72227.8348\n",
            "Epoch 260/300\n",
            "2100/2100 [==============================] - 0s 203us/step - loss: 272.3453 - val_loss: 70704.2864\n",
            "Epoch 261/300\n",
            "2100/2100 [==============================] - 0s 198us/step - loss: 232.4031 - val_loss: 68059.8565\n",
            "Epoch 262/300\n",
            "2100/2100 [==============================] - 0s 199us/step - loss: 237.6201 - val_loss: 69208.5431\n",
            "Epoch 263/300\n",
            "2100/2100 [==============================] - 0s 193us/step - loss: 224.2541 - val_loss: 68721.3751\n",
            "Epoch 264/300\n",
            "2100/2100 [==============================] - 0s 201us/step - loss: 283.6814 - val_loss: 67913.5354\n",
            "Epoch 265/300\n",
            "2100/2100 [==============================] - 0s 208us/step - loss: 247.6388 - val_loss: 64498.0459\n",
            "Epoch 266/300\n",
            "2100/2100 [==============================] - 0s 193us/step - loss: 317.3326 - val_loss: 64892.3007\n",
            "Epoch 267/300\n",
            "2100/2100 [==============================] - 0s 189us/step - loss: 340.8567 - val_loss: 64761.8482\n",
            "Epoch 268/300\n",
            "2100/2100 [==============================] - 0s 193us/step - loss: 430.6822 - val_loss: 64528.9119\n",
            "Epoch 269/300\n",
            "2100/2100 [==============================] - 0s 202us/step - loss: 372.5218 - val_loss: 68111.2492\n",
            "Epoch 270/300\n",
            "2100/2100 [==============================] - 0s 192us/step - loss: 270.4584 - val_loss: 63428.6233\n",
            "Epoch 271/300\n",
            "2100/2100 [==============================] - 0s 195us/step - loss: 184.5995 - val_loss: 62279.8503\n",
            "Epoch 272/300\n",
            "2100/2100 [==============================] - 0s 193us/step - loss: 206.0181 - val_loss: 64367.1555\n",
            "Epoch 273/300\n",
            "2100/2100 [==============================] - 0s 191us/step - loss: 271.1474 - val_loss: 60540.0536\n",
            "Epoch 274/300\n",
            "2100/2100 [==============================] - 0s 201us/step - loss: 313.1966 - val_loss: 63385.2050\n",
            "Epoch 275/300\n",
            "2100/2100 [==============================] - 0s 191us/step - loss: 189.9923 - val_loss: 61243.5003\n",
            "Epoch 276/300\n",
            "2100/2100 [==============================] - 0s 192us/step - loss: 505.7593 - val_loss: 70250.9925\n",
            "Epoch 277/300\n",
            "2100/2100 [==============================] - 0s 192us/step - loss: 614.7688 - val_loss: 62441.1514\n",
            "Epoch 278/300\n",
            "2100/2100 [==============================] - 0s 189us/step - loss: 190.0416 - val_loss: 60001.7626\n",
            "Epoch 279/300\n",
            "2100/2100 [==============================] - 0s 193us/step - loss: 212.1126 - val_loss: 59266.9593\n",
            "Epoch 280/300\n",
            "2100/2100 [==============================] - 0s 187us/step - loss: 266.5432 - val_loss: 61134.5428\n",
            "Epoch 281/300\n",
            "2100/2100 [==============================] - 0s 191us/step - loss: 245.2629 - val_loss: 57994.2406\n",
            "Epoch 282/300\n",
            "2100/2100 [==============================] - 0s 188us/step - loss: 187.2323 - val_loss: 57576.8571\n",
            "Epoch 283/300\n",
            "2100/2100 [==============================] - 0s 191us/step - loss: 195.2058 - val_loss: 57305.5433\n",
            "Epoch 284/300\n",
            "2100/2100 [==============================] - 0s 192us/step - loss: 186.8211 - val_loss: 58391.8419\n",
            "Epoch 285/300\n",
            "2100/2100 [==============================] - 0s 189us/step - loss: 242.2557 - val_loss: 57464.1312\n",
            "Epoch 286/300\n",
            "2100/2100 [==============================] - 0s 195us/step - loss: 269.0564 - val_loss: 59074.3060\n",
            "Epoch 287/300\n",
            "2100/2100 [==============================] - 0s 191us/step - loss: 203.5152 - val_loss: 56168.5090\n",
            "Epoch 288/300\n",
            "2100/2100 [==============================] - 0s 188us/step - loss: 323.4169 - val_loss: 60882.7256\n",
            "Epoch 289/300\n",
            "2100/2100 [==============================] - 0s 189us/step - loss: 265.0431 - val_loss: 57974.6620\n",
            "Epoch 290/300\n",
            "2100/2100 [==============================] - 0s 191us/step - loss: 161.9308 - val_loss: 61028.8004\n",
            "Epoch 291/300\n",
            "2100/2100 [==============================] - 0s 189us/step - loss: 319.8269 - val_loss: 57676.5215\n",
            "Epoch 292/300\n",
            "2100/2100 [==============================] - 0s 195us/step - loss: 285.1907 - val_loss: 54514.4876\n",
            "Epoch 293/300\n",
            "2100/2100 [==============================] - 0s 186us/step - loss: 207.3999 - val_loss: 54599.0540\n",
            "Epoch 294/300\n",
            "2100/2100 [==============================] - 0s 201us/step - loss: 197.3131 - val_loss: 54051.2299\n",
            "Epoch 295/300\n",
            "2100/2100 [==============================] - 0s 193us/step - loss: 241.6388 - val_loss: 55827.6561\n",
            "Epoch 296/300\n",
            "2100/2100 [==============================] - 0s 188us/step - loss: 167.7941 - val_loss: 53432.9249\n",
            "Epoch 297/300\n",
            "2100/2100 [==============================] - 0s 197us/step - loss: 194.4209 - val_loss: 55094.4563\n",
            "Epoch 298/300\n",
            "2100/2100 [==============================] - 0s 190us/step - loss: 289.0730 - val_loss: 54955.4738\n",
            "Epoch 299/300\n",
            "2100/2100 [==============================] - 0s 204us/step - loss: 193.2617 - val_loss: 51479.9264\n",
            "Epoch 300/300\n",
            "2100/2100 [==============================] - 0s 196us/step - loss: 240.3870 - val_loss: 54127.0339\n"
          ],
          "name": "stdout"
        },
        {
          "output_type": "execute_result",
          "data": {
            "text/plain": [
              "<keras.callbacks.History at 0x7f24910e5c50>"
            ]
          },
          "metadata": {
            "tags": []
          },
          "execution_count": 31
        }
      ]
    },
    {
      "cell_type": "code",
      "metadata": {
        "id": "4P64RrIZ4_jB",
        "colab_type": "code",
        "colab": {}
      },
      "source": [
        "pred = model.predict(X_test)"
      ],
      "execution_count": 0,
      "outputs": []
    },
    {
      "cell_type": "code",
      "metadata": {
        "id": "H7U0m-ey4_0-",
        "colab_type": "code",
        "outputId": "03989008-00cc-48fe-8360-b2ef322844ec",
        "colab": {
          "base_uri": "https://localhost:8080/",
          "height": 407
        }
      },
      "source": [
        "import matplotlib.pyplot as plt\n",
        "%matplotlib inline\n",
        "plt.figure(figsize=(6,6))\n",
        "plt.plot(y_test,'r',label='actual')\n",
        "plt.plot(pred,'--', label = 'predicted')\n",
        "\n",
        "plt.title('Variation of actual and predicted stock price')\n",
        "plt.ylabel('Stock price')\n",
        "plt.legend()"
      ],
      "execution_count": 0,
      "outputs": [
        {
          "output_type": "execute_result",
          "data": {
            "text/plain": [
              "<matplotlib.legend.Legend at 0x7f2478b3d198>"
            ]
          },
          "metadata": {
            "tags": []
          },
          "execution_count": 33
        },
        {
          "output_type": "display_data",
          "data": {
            "image/png": "[encoded data removed]",
            "text/plain": [
              "<Figure size 432x432 with 1 Axes>"
            ]
          },
          "metadata": {
            "tags": []
          }
        }
      ]
    },
    {
      "cell_type": "code",
      "metadata": {
        "id": "RA3Fp9Wp93R-",
        "colab_type": "code",
        "colab": {}
      },
      "source": [
        "t = []\n",
        "for i in range(pred.shape[0]):\n",
        "  t.append(pred[i][0])"
      ],
      "execution_count": 0,
      "outputs": []
    },
    {
      "cell_type": "code",
      "metadata": {
        "id": "7-Sl1gMx5D4c",
        "colab_type": "code",
        "outputId": "f0423803-6dc8-45e5-e7b2-3d5d6fee733b",
        "colab": {
          "base_uri": "https://localhost:8080/",
          "height": 204
        }
      },
      "source": [
        "df = pd.DataFrame([y_test, t]).T\n",
        "df.columns = ['actual','predicted']\n",
        "df.head()"
      ],
      "execution_count": 0,
      "outputs": [
        {
          "output_type": "execute_result",
          "data": {
            "text/html": [
              "<div>\n",
              "<style scoped>\n",
              "    .dataframe tbody tr th:only-of-type {\n",
              "        vertical-align: middle;\n",
              "    }\n",
              "\n",
              "    .dataframe tbody tr th {\n",
              "        vertical-align: top;\n",
              "    }\n",
              "\n",
              "    .dataframe thead th {\n",
              "        text-align: right;\n",
              "    }\n",
              "</style>\n",
              "<table border=\"1\" class=\"dataframe\">\n",
              "  <thead>\n",
              "    <tr style=\"text-align: right;\">\n",
              "      <th></th>\n",
              "      <th>actual</th>\n",
              "      <th>predicted</th>\n",
              "    </tr>\n",
              "  </thead>\n",
              "  <tbody>\n",
              "    <tr>\n",
              "      <th>0</th>\n",
              "      <td>1601.540039</td>\n",
              "      <td>1537.042969</td>\n",
              "    </tr>\n",
              "    <tr>\n",
              "      <th>1</th>\n",
              "      <td>1576.119995</td>\n",
              "      <td>1536.310425</td>\n",
              "    </tr>\n",
              "    <tr>\n",
              "      <th>2</th>\n",
              "      <td>1587.280029</td>\n",
              "      <td>1527.932007</td>\n",
              "    </tr>\n",
              "    <tr>\n",
              "      <th>3</th>\n",
              "      <td>1581.760010</td>\n",
              "      <td>1530.062134</td>\n",
              "    </tr>\n",
              "    <tr>\n",
              "      <th>4</th>\n",
              "      <td>1574.369995</td>\n",
              "      <td>1528.711548</td>\n",
              "    </tr>\n",
              "  </tbody>\n",
              "</table>\n",
              "</div>"
            ],
            "text/plain": [
              "        actual    predicted\n",
              "0  1601.540039  1537.042969\n",
              "1  1576.119995  1536.310425\n",
              "2  1587.280029  1527.932007\n",
              "3  1581.760010  1530.062134\n",
              "4  1574.369995  1528.711548"
            ]
          },
          "metadata": {
            "tags": []
          },
          "execution_count": 35
        }
      ]
    },
    {
      "cell_type": "code",
      "metadata": {
        "id": "r0ZMchkh-CPm",
        "colab_type": "code",
        "outputId": "9a036091-b848-48e1-a95b-bbe70b2248f3",
        "colab": {
          "base_uri": "https://localhost:8080/",
          "height": 359
        }
      },
      "source": [
        "df['error'] = np.square(df['actual']-df['predicted'])\n",
        "df = df.sort_values(by='error',ascending=False)\n",
        "df.head(10)"
      ],
      "execution_count": 0,
      "outputs": [
        {
          "output_type": "execute_result",
          "data": {
            "text/html": [
              "<div>\n",
              "<style scoped>\n",
              "    .dataframe tbody tr th:only-of-type {\n",
              "        vertical-align: middle;\n",
              "    }\n",
              "\n",
              "    .dataframe tbody tr th {\n",
              "        vertical-align: top;\n",
              "    }\n",
              "\n",
              "    .dataframe thead th {\n",
              "        text-align: right;\n",
              "    }\n",
              "</style>\n",
              "<table border=\"1\" class=\"dataframe\">\n",
              "  <thead>\n",
              "    <tr style=\"text-align: right;\">\n",
              "      <th></th>\n",
              "      <th>actual</th>\n",
              "      <th>predicted</th>\n",
              "      <th>error</th>\n",
              "    </tr>\n",
              "  </thead>\n",
              "  <tbody>\n",
              "    <tr>\n",
              "      <th>78</th>\n",
              "      <td>2039.510010</td>\n",
              "      <td>1582.908203</td>\n",
              "      <td>208485.210042</td>\n",
              "    </tr>\n",
              "    <tr>\n",
              "      <th>95</th>\n",
              "      <td>2012.979980</td>\n",
              "      <td>1581.889404</td>\n",
              "      <td>185839.084460</td>\n",
              "    </tr>\n",
              "    <tr>\n",
              "      <th>77</th>\n",
              "      <td>2012.709961</td>\n",
              "      <td>1582.647583</td>\n",
              "      <td>184953.648964</td>\n",
              "    </tr>\n",
              "    <tr>\n",
              "      <th>97</th>\n",
              "      <td>2004.359985</td>\n",
              "      <td>1582.677612</td>\n",
              "      <td>177816.023442</td>\n",
              "    </tr>\n",
              "    <tr>\n",
              "      <th>96</th>\n",
              "      <td>2003.000000</td>\n",
              "      <td>1582.900513</td>\n",
              "      <td>176483.579234</td>\n",
              "    </tr>\n",
              "    <tr>\n",
              "      <th>76</th>\n",
              "      <td>2002.380005</td>\n",
              "      <td>1582.501465</td>\n",
              "      <td>176297.988484</td>\n",
              "    </tr>\n",
              "    <tr>\n",
              "      <th>75</th>\n",
              "      <td>1998.099976</td>\n",
              "      <td>1580.454346</td>\n",
              "      <td>174427.872506</td>\n",
              "    </tr>\n",
              "    <tr>\n",
              "      <th>79</th>\n",
              "      <td>1994.819946</td>\n",
              "      <td>1583.511353</td>\n",
              "      <td>169174.759055</td>\n",
              "    </tr>\n",
              "    <tr>\n",
              "      <th>84</th>\n",
              "      <td>1990.000000</td>\n",
              "      <td>1582.227539</td>\n",
              "      <td>166278.379899</td>\n",
              "    </tr>\n",
              "    <tr>\n",
              "      <th>85</th>\n",
              "      <td>1989.869995</td>\n",
              "      <td>1582.327271</td>\n",
              "      <td>166091.072287</td>\n",
              "    </tr>\n",
              "  </tbody>\n",
              "</table>\n",
              "</div>"
            ],
            "text/plain": [
              "         actual    predicted          error\n",
              "78  2039.510010  1582.908203  208485.210042\n",
              "95  2012.979980  1581.889404  185839.084460\n",
              "77  2012.709961  1582.647583  184953.648964\n",
              "97  2004.359985  1582.677612  177816.023442\n",
              "96  2003.000000  1582.900513  176483.579234\n",
              "76  2002.380005  1582.501465  176297.988484\n",
              "75  1998.099976  1580.454346  174427.872506\n",
              "79  1994.819946  1583.511353  169174.759055\n",
              "84  1990.000000  1582.227539  166278.379899\n",
              "85  1989.869995  1582.327271  166091.072287"
            ]
          },
          "metadata": {
            "tags": []
          },
          "execution_count": 36
        }
      ]
    },
    {
      "cell_type": "code",
      "metadata": {
        "id": "QbtD66Ic-bA3",
        "colab_type": "code",
        "outputId": "ddbb7eda-6b1d-42f2-ec63-4559af96806e",
        "colab": {
          "base_uri": "https://localhost:8080/",
          "height": 286
        }
      },
      "source": [
        "plt.plot(data2['Close'])"
      ],
      "execution_count": 0,
      "outputs": [
        {
          "output_type": "execute_result",
          "data": {
            "text/plain": [
              "[<matplotlib.lines.Line2D at 0x7f2478834b38>]"
            ]
          },
          "metadata": {
            "tags": []
          },
          "execution_count": 37
        },
        {
          "output_type": "display_data",
          "data": {
            "image/png": "[encoded data removed]",
            "text/plain": [
              "<Figure size 432x288 with 1 Axes>"
            ]
          },
          "metadata": {
            "tags": []
          }
        }
      ]
    },
    {
      "cell_type": "markdown",
      "metadata": {
        "id": "wIhe31KwOaAK",
        "colab_type": "text"
      },
      "source": [
        "# Assigning different weights for different time periods"
      ]
    },
    {
      "cell_type": "code",
      "metadata": {
        "id": "8u7y2NcgMKDo",
        "colab_type": "code",
        "colab": {}
      },
      "source": [
        "import numpy as np\n",
        "from keras.layers import Dense, Input\n",
        "from keras import Model\n",
        "import keras.backend as K\n",
        "from functools import partial\n",
        "\n",
        "\n",
        "def custom_loss_4(y_true, y_pred, weights):\n",
        "    return K.square(K.abs(y_true - y_pred) * weights)"
      ],
      "execution_count": 0,
      "outputs": []
    },
    {
      "cell_type": "code",
      "metadata": {
        "id": "6YWhQgBLMKNx",
        "colab_type": "code",
        "colab": {}
      },
      "source": [
        "input_layer = Input(shape=(5,1))\n",
        "weights_tensor = Input(shape=(1,))"
      ],
      "execution_count": 0,
      "outputs": []
    },
    {
      "cell_type": "code",
      "metadata": {
        "id": "tkf4m7MQMKSG",
        "colab_type": "code",
        "colab": {}
      },
      "source": [
        "i1 = Dense(100, activation='relu')(input_layer)\n",
        "i2 = LSTM(100)(i1)\n",
        "i3 = Dense(1000, activation='relu')(i2)\n",
        "out = Dense(1, activation='linear')(i3)\n",
        "model = Model([input_layer, weights_tensor], out)"
      ],
      "execution_count": 0,
      "outputs": []
    },
    {
      "cell_type": "code",
      "metadata": {
        "id": "362vCuHUOWAQ",
        "colab_type": "code",
        "outputId": "b38a70d3-d447-448c-f25b-355e4fcba5cd",
        "colab": {
          "base_uri": "https://localhost:8080/",
          "height": 323
        }
      },
      "source": [
        "model.summary()"
      ],
      "execution_count": 0,
      "outputs": [
        {
          "output_type": "stream",
          "text": [
            "Model: \"model_1\"\n",
            "_________________________________________________________________\n",
            "Layer (type)                 Output Shape              Param #   \n",
            "=================================================================\n",
            "input_1 (InputLayer)         (None, 5, 1)              0         \n",
            "_________________________________________________________________\n",
            "dense_7 (Dense)              (None, 5, 100)            200       \n",
            "_________________________________________________________________\n",
            "lstm_3 (LSTM)                (None, 100)               80400     \n",
            "_________________________________________________________________\n",
            "dense_8 (Dense)              (None, 1000)              101000    \n",
            "_________________________________________________________________\n",
            "dense_9 (Dense)              (None, 1)                 1001      \n",
            "=================================================================\n",
            "Total params: 182,601\n",
            "Trainable params: 182,601\n",
            "Non-trainable params: 0\n",
            "_________________________________________________________________\n"
          ],
          "name": "stdout"
        }
      ]
    },
    {
      "cell_type": "code",
      "metadata": {
        "id": "KLPma0TGNHVP",
        "colab_type": "code",
        "colab": {}
      },
      "source": [
        "cl4 = partial(custom_loss_4, weights=weights_tensor)"
      ],
      "execution_count": 0,
      "outputs": []
    },
    {
      "cell_type": "code",
      "metadata": {
        "id": "Y75QRpjGNOPH",
        "colab_type": "code",
        "colab": {}
      },
      "source": [
        "weights = np.arange(X_train.shape[0]).reshape((X_train.shape[0]),1)/2100"
      ],
      "execution_count": 0,
      "outputs": []
    },
    {
      "cell_type": "code",
      "metadata": {
        "id": "6MsVuYrVTN-9",
        "colab_type": "code",
        "outputId": "7188cee0-7309-45ca-dec3-df0041505faa",
        "colab": {
          "base_uri": "https://localhost:8080/",
          "height": 34
        }
      },
      "source": [
        "weights.shape"
      ],
      "execution_count": 0,
      "outputs": [
        {
          "output_type": "execute_result",
          "data": {
            "text/plain": [
              "(2100, 1)"
            ]
          },
          "metadata": {
            "tags": []
          },
          "execution_count": 44
        }
      ]
    },
    {
      "cell_type": "code",
      "metadata": {
        "id": "bNo8ixLMPe7L",
        "colab_type": "code",
        "colab": {}
      },
      "source": [
        "from keras.optimizers import Adam\n",
        "adam = Adam(lr=0.0001)"
      ],
      "execution_count": 0,
      "outputs": []
    },
    {
      "cell_type": "code",
      "metadata": {
        "id": "mwn4qaNgQEcb",
        "colab_type": "code",
        "outputId": "dbacc16e-e911-4e57-af29-e2d59d79ce3a",
        "colab": {
          "base_uri": "https://localhost:8080/",
          "height": 34
        }
      },
      "source": [
        "y_test.shape"
      ],
      "execution_count": 0,
      "outputs": [
        {
          "output_type": "execute_result",
          "data": {
            "text/plain": [
              "(156,)"
            ]
          },
          "metadata": {
            "tags": []
          },
          "execution_count": 46
        }
      ]
    },
    {
      "cell_type": "code",
      "metadata": {
        "id": "2y2WkT4eQQ07",
        "colab_type": "code",
        "outputId": "8ea2203c-a202-47b9-b0fe-8a0d53c74b45",
        "colab": {
          "base_uri": "https://localhost:8080/",
          "height": 34
        }
      },
      "source": [
        "test_weights = np.ones((156,1))\n",
        "test_weights.shape"
      ],
      "execution_count": 0,
      "outputs": [
        {
          "output_type": "execute_result",
          "data": {
            "text/plain": [
              "(156, 1)"
            ]
          },
          "metadata": {
            "tags": []
          },
          "execution_count": 47
        }
      ]
    },
    {
      "cell_type": "code",
      "metadata": {
        "id": "o_O7PycSMKKz",
        "colab_type": "code",
        "outputId": "6867dd3c-91c7-4a46-8f31-533bd1b2dd0e",
        "colab": {
          "base_uri": "https://localhost:8080/",
          "height": 1000
        }
      },
      "source": [
        "model = Model([input_layer, weights_tensor], out)\n",
        "model.compile(adam, cl4)\n",
        "model.fit(x=[X_train, weights], y=y_train, epochs=300,batch_size = 32, validation_data = ([X_test, test_weights], y_test))"
      ],
      "execution_count": 0,
      "outputs": [
        {
          "output_type": "stream",
          "text": [
            "Train on 2100 samples, validate on 156 samples\n",
            "Epoch 1/300\n",
            "2100/2100 [==============================] - 2s 917us/step - loss: 236729.0491 - val_loss: 3085988.7179\n",
            "Epoch 2/300\n",
            "2100/2100 [==============================] - 1s 385us/step - loss: 233889.7718 - val_loss: 3063647.1218\n",
            "Epoch 3/300\n",
            "2100/2100 [==============================] - 1s 393us/step - loss: 230234.2940 - val_loss: 3034076.7756\n",
            "Epoch 4/300\n",
            "2100/2100 [==============================] - 1s 388us/step - loss: 225542.0315 - val_loss: 2996149.9103\n",
            "Epoch 5/300\n",
            "2100/2100 [==============================] - 1s 389us/step - loss: 219667.6675 - val_loss: 2950892.2115\n",
            "Epoch 6/300\n",
            "2100/2100 [==============================] - 1s 393us/step - loss: 212894.0927 - val_loss: 2898277.8718\n",
            "Epoch 7/300\n",
            "2100/2100 [==============================] - 1s 389us/step - loss: 205297.3945 - val_loss: 2838676.8397\n",
            "Epoch 8/300\n",
            "2100/2100 [==============================] - 1s 381us/step - loss: 196538.6689 - val_loss: 2770910.0577\n",
            "Epoch 9/300\n",
            "2100/2100 [==============================] - 1s 378us/step - loss: 187193.1122 - val_loss: 2697187.9167\n",
            "Epoch 10/300\n",
            "2100/2100 [==============================] - 1s 388us/step - loss: 177426.1247 - val_loss: 2619890.8237\n",
            "Epoch 11/300\n",
            "2100/2100 [==============================] - 1s 396us/step - loss: 167411.4866 - val_loss: 2539255.0160\n",
            "Epoch 12/300\n",
            "2100/2100 [==============================] - 1s 389us/step - loss: 157302.0250 - val_loss: 2455738.8301\n",
            "Epoch 13/300\n",
            "2100/2100 [==============================] - 1s 384us/step - loss: 147187.4440 - val_loss: 2370804.3333\n",
            "Epoch 14/300\n",
            "2100/2100 [==============================] - 1s 388us/step - loss: 137207.0368 - val_loss: 2283239.1987\n",
            "Epoch 15/300\n",
            "2100/2100 [==============================] - 1s 398us/step - loss: 127413.5102 - val_loss: 2197349.4968\n",
            "Epoch 16/300\n",
            "2100/2100 [==============================] - 1s 387us/step - loss: 117988.0331 - val_loss: 2109166.3942\n",
            "Epoch 17/300\n",
            "2100/2100 [==============================] - 1s 388us/step - loss: 108869.2712 - val_loss: 2023081.3910\n",
            "Epoch 18/300\n",
            "2100/2100 [==============================] - 1s 377us/step - loss: 100191.6262 - val_loss: 1936432.3365\n",
            "Epoch 19/300\n",
            "2100/2100 [==============================] - 1s 395us/step - loss: 91877.8292 - val_loss: 1853147.2340\n",
            "Epoch 20/300\n",
            "2100/2100 [==============================] - 1s 386us/step - loss: 84015.3350 - val_loss: 1769906.2212\n",
            "Epoch 21/300\n",
            "2100/2100 [==============================] - 1s 388us/step - loss: 76587.4860 - val_loss: 1687374.6731\n",
            "Epoch 22/300\n",
            "2100/2100 [==============================] - 1s 393us/step - loss: 69631.4041 - val_loss: 1606165.7853\n",
            "Epoch 23/300\n",
            "2100/2100 [==============================] - 1s 406us/step - loss: 63119.1260 - val_loss: 1528403.3974\n",
            "Epoch 24/300\n",
            "2100/2100 [==============================] - 1s 380us/step - loss: 57103.8002 - val_loss: 1453395.6090\n",
            "Epoch 25/300\n",
            "2100/2100 [==============================] - 1s 394us/step - loss: 51605.2538 - val_loss: 1380939.2452\n",
            "Epoch 26/300\n",
            "2100/2100 [==============================] - 1s 393us/step - loss: 46634.3068 - val_loss: 1313101.0593\n",
            "Epoch 27/300\n",
            "2100/2100 [==============================] - 1s 396us/step - loss: 42078.9127 - val_loss: 1247066.9054\n",
            "Epoch 28/300\n",
            "2100/2100 [==============================] - 1s 386us/step - loss: 37927.0430 - val_loss: 1184196.9728\n",
            "Epoch 29/300\n",
            "2100/2100 [==============================] - 1s 398us/step - loss: 34198.3441 - val_loss: 1124527.9696\n",
            "Epoch 30/300\n",
            "2100/2100 [==============================] - 1s 391us/step - loss: 30921.7912 - val_loss: 1067094.7356\n",
            "Epoch 31/300\n",
            "2100/2100 [==============================] - 1s 400us/step - loss: 27910.6448 - val_loss: 1015092.7740\n",
            "Epoch 32/300\n",
            "2100/2100 [==============================] - 1s 400us/step - loss: 25287.1730 - val_loss: 964449.0000\n",
            "Epoch 33/300\n",
            "2100/2100 [==============================] - 1s 403us/step - loss: 22952.6916 - val_loss: 916470.7228\n",
            "Epoch 34/300\n",
            "2100/2100 [==============================] - 1s 380us/step - loss: 20837.1376 - val_loss: 871720.0192\n",
            "Epoch 35/300\n",
            "2100/2100 [==============================] - 1s 394us/step - loss: 18991.4659 - val_loss: 829004.8381\n",
            "Epoch 36/300\n",
            "2100/2100 [==============================] - 1s 395us/step - loss: 17231.9175 - val_loss: 787620.3421\n",
            "Epoch 37/300\n",
            "2100/2100 [==============================] - 1s 401us/step - loss: 15696.3040 - val_loss: 750534.9503\n",
            "Epoch 38/300\n",
            "2100/2100 [==============================] - 1s 399us/step - loss: 14356.3781 - val_loss: 715008.5024\n",
            "Epoch 39/300\n",
            "2100/2100 [==============================] - 1s 395us/step - loss: 13059.1349 - val_loss: 679278.7933\n",
            "Epoch 40/300\n",
            "2100/2100 [==============================] - 1s 398us/step - loss: 11938.5534 - val_loss: 646998.7075\n",
            "Epoch 41/300\n",
            "2100/2100 [==============================] - 1s 390us/step - loss: 10938.3085 - val_loss: 615963.4736\n",
            "Epoch 42/300\n",
            "2100/2100 [==============================] - 1s 382us/step - loss: 10040.7405 - val_loss: 587016.6651\n",
            "Epoch 43/300\n",
            "2100/2100 [==============================] - 1s 388us/step - loss: 9229.9945 - val_loss: 558797.7163\n",
            "Epoch 44/300\n",
            "2100/2100 [==============================] - 1s 383us/step - loss: 8425.3765 - val_loss: 532418.8934\n",
            "Epoch 45/300\n",
            "2100/2100 [==============================] - 1s 388us/step - loss: 7845.5287 - val_loss: 506970.2796\n",
            "Epoch 46/300\n",
            "2100/2100 [==============================] - 1s 379us/step - loss: 7182.2968 - val_loss: 483724.6795\n",
            "Epoch 47/300\n",
            "2100/2100 [==============================] - 1s 388us/step - loss: 7315.8730 - val_loss: 511809.5577\n",
            "Epoch 48/300\n",
            "2100/2100 [==============================] - 1s 389us/step - loss: 6734.8546 - val_loss: 426978.6398\n",
            "Epoch 49/300\n",
            "2100/2100 [==============================] - 1s 387us/step - loss: 5194.0374 - val_loss: 405097.2885\n",
            "Epoch 50/300\n",
            "2100/2100 [==============================] - 1s 380us/step - loss: 4814.8351 - val_loss: 384932.9103\n",
            "Epoch 51/300\n",
            "2100/2100 [==============================] - 1s 384us/step - loss: 4491.9381 - val_loss: 365910.0104\n",
            "Epoch 52/300\n",
            "2100/2100 [==============================] - 1s 380us/step - loss: 3937.4633 - val_loss: 347405.5901\n",
            "Epoch 53/300\n",
            "2100/2100 [==============================] - 1s 391us/step - loss: 3550.5136 - val_loss: 329580.2520\n",
            "Epoch 54/300\n",
            "2100/2100 [==============================] - 1s 374us/step - loss: 3508.7455 - val_loss: 313579.3970\n",
            "Epoch 55/300\n",
            "2100/2100 [==============================] - 1s 389us/step - loss: 3064.0355 - val_loss: 297969.1314\n",
            "Epoch 56/300\n",
            "2100/2100 [==============================] - 1s 388us/step - loss: 2715.5544 - val_loss: 283077.8878\n",
            "Epoch 57/300\n",
            "2100/2100 [==============================] - 1s 386us/step - loss: 2366.3648 - val_loss: 268391.3327\n",
            "Epoch 58/300\n",
            "2100/2100 [==============================] - 1s 381us/step - loss: 2202.3296 - val_loss: 255131.1639\n",
            "Epoch 59/300\n",
            "2100/2100 [==============================] - 1s 385us/step - loss: 2350.6865 - val_loss: 242769.8049\n",
            "Epoch 60/300\n",
            "2100/2100 [==============================] - 1s 382us/step - loss: 1781.3504 - val_loss: 232960.7103\n",
            "Epoch 61/300\n",
            "2100/2100 [==============================] - 1s 385us/step - loss: 1696.4878 - val_loss: 219395.1524\n",
            "Epoch 62/300\n",
            "2100/2100 [==============================] - 1s 388us/step - loss: 1475.6559 - val_loss: 208874.1993\n",
            "Epoch 63/300\n",
            "2100/2100 [==============================] - 1s 380us/step - loss: 1382.4793 - val_loss: 198565.3658\n",
            "Epoch 64/300\n",
            "2100/2100 [==============================] - 1s 389us/step - loss: 1211.1509 - val_loss: 189381.0665\n",
            "Epoch 65/300\n",
            "2100/2100 [==============================] - 1s 388us/step - loss: 1013.8202 - val_loss: 180141.6283\n",
            "Epoch 66/300\n",
            "2100/2100 [==============================] - 1s 382us/step - loss: 1392.3340 - val_loss: 173437.1546\n",
            "Epoch 67/300\n",
            "2100/2100 [==============================] - 1s 393us/step - loss: 1181.8068 - val_loss: 165520.5391\n",
            "Epoch 68/300\n",
            "2100/2100 [==============================] - 1s 373us/step - loss: 1146.8030 - val_loss: 216563.0483\n",
            "Epoch 69/300\n",
            "2100/2100 [==============================] - 1s 389us/step - loss: 2537.4102 - val_loss: 192079.7923\n",
            "Epoch 70/300\n",
            "2100/2100 [==============================] - 1s 380us/step - loss: 1062.4234 - val_loss: 180238.4674\n",
            "Epoch 71/300\n",
            "2100/2100 [==============================] - 1s 383us/step - loss: 949.4135 - val_loss: 171785.0167\n",
            "Epoch 72/300\n",
            "2100/2100 [==============================] - 1s 381us/step - loss: 1062.7729 - val_loss: 162863.7995\n",
            "Epoch 73/300\n",
            "2100/2100 [==============================] - 1s 384us/step - loss: 777.3888 - val_loss: 154523.5526\n",
            "Epoch 74/300\n",
            "2100/2100 [==============================] - 1s 386us/step - loss: 682.3776 - val_loss: 147138.2069\n",
            "Epoch 75/300\n",
            "2100/2100 [==============================] - 1s 392us/step - loss: 615.2101 - val_loss: 139412.3088\n",
            "Epoch 76/300\n",
            "2100/2100 [==============================] - 1s 394us/step - loss: 565.8422 - val_loss: 134097.3549\n",
            "Epoch 77/300\n",
            "2100/2100 [==============================] - 1s 387us/step - loss: 1208.6839 - val_loss: 136829.1716\n",
            "Epoch 78/300\n",
            "2100/2100 [==============================] - 1s 401us/step - loss: 737.3259 - val_loss: 123499.0572\n",
            "Epoch 79/300\n",
            "2100/2100 [==============================] - 1s 384us/step - loss: 484.5419 - val_loss: 117170.5821\n",
            "Epoch 80/300\n",
            "2100/2100 [==============================] - 1s 383us/step - loss: 589.3764 - val_loss: 112307.6531\n",
            "Epoch 81/300\n",
            "2100/2100 [==============================] - 1s 387us/step - loss: 1151.5985 - val_loss: 158995.3497\n",
            "Epoch 82/300\n",
            "2100/2100 [==============================] - 1s 387us/step - loss: 721.5135 - val_loss: 149465.2418\n",
            "Epoch 83/300\n",
            "2100/2100 [==============================] - 1s 380us/step - loss: 644.0308 - val_loss: 139561.5464\n",
            "Epoch 84/300\n",
            "2100/2100 [==============================] - 1s 389us/step - loss: 604.7163 - val_loss: 131594.6218\n",
            "Epoch 85/300\n",
            "2100/2100 [==============================] - 1s 383us/step - loss: 508.1781 - val_loss: 124564.6336\n",
            "Epoch 86/300\n",
            "2100/2100 [==============================] - 1s 392us/step - loss: 486.2105 - val_loss: 118168.9448\n",
            "Epoch 87/300\n",
            "2100/2100 [==============================] - 1s 390us/step - loss: 376.8208 - val_loss: 114619.8803\n",
            "Epoch 88/300\n",
            "2100/2100 [==============================] - 1s 385us/step - loss: 391.1877 - val_loss: 109147.0259\n",
            "Epoch 89/300\n",
            "2100/2100 [==============================] - 1s 387us/step - loss: 344.3787 - val_loss: 103029.2535\n",
            "Epoch 90/300\n",
            "2100/2100 [==============================] - 1s 386us/step - loss: 322.9602 - val_loss: 99790.6199\n",
            "Epoch 91/300\n",
            "2100/2100 [==============================] - 1s 382us/step - loss: 263.0568 - val_loss: 94767.0632\n",
            "Epoch 92/300\n",
            "2100/2100 [==============================] - 1s 384us/step - loss: 383.0835 - val_loss: 91124.4922\n",
            "Epoch 93/300\n",
            "2100/2100 [==============================] - 1s 390us/step - loss: 353.3864 - val_loss: 88398.1549\n",
            "Epoch 94/300\n",
            "2100/2100 [==============================] - 1s 390us/step - loss: 226.8903 - val_loss: 86268.9573\n",
            "Epoch 95/300\n",
            "2100/2100 [==============================] - 1s 386us/step - loss: 469.2743 - val_loss: 96829.6786\n",
            "Epoch 96/300\n",
            "2100/2100 [==============================] - 1s 381us/step - loss: 358.7953 - val_loss: 83021.8534\n",
            "Epoch 97/300\n",
            "2100/2100 [==============================] - 1s 390us/step - loss: 282.3318 - val_loss: 88914.3191\n",
            "Epoch 98/300\n",
            "2100/2100 [==============================] - 1s 387us/step - loss: 503.1919 - val_loss: 110674.5462\n",
            "Epoch 99/300\n",
            "2100/2100 [==============================] - 1s 386us/step - loss: 453.8567 - val_loss: 103355.6308\n",
            "Epoch 100/300\n",
            "2100/2100 [==============================] - 1s 385us/step - loss: 362.3843 - val_loss: 98153.0793\n",
            "Epoch 101/300\n",
            "2100/2100 [==============================] - 1s 387us/step - loss: 286.5769 - val_loss: 94200.4104\n",
            "Epoch 102/300\n",
            "2100/2100 [==============================] - 1s 383us/step - loss: 301.6775 - val_loss: 91671.2946\n",
            "Epoch 103/300\n",
            "2100/2100 [==============================] - 1s 388us/step - loss: 250.9807 - val_loss: 87098.1777\n",
            "Epoch 104/300\n",
            "2100/2100 [==============================] - 1s 385us/step - loss: 293.9131 - val_loss: 82743.2411\n",
            "Epoch 105/300\n",
            "2100/2100 [==============================] - 1s 383us/step - loss: 272.3463 - val_loss: 80044.4090\n",
            "Epoch 106/300\n",
            "2100/2100 [==============================] - 1s 378us/step - loss: 278.1881 - val_loss: 79859.1139\n",
            "Epoch 107/300\n",
            "2100/2100 [==============================] - 1s 381us/step - loss: 515.2623 - val_loss: 75681.9373\n",
            "Epoch 108/300\n",
            "2100/2100 [==============================] - 1s 381us/step - loss: 189.3914 - val_loss: 73058.0847\n",
            "Epoch 109/300\n",
            "2100/2100 [==============================] - 1s 386us/step - loss: 194.7066 - val_loss: 71408.1115\n",
            "Epoch 110/300\n",
            "2100/2100 [==============================] - 1s 381us/step - loss: 220.9721 - val_loss: 69394.3895\n",
            "Epoch 111/300\n",
            "2100/2100 [==============================] - 1s 403us/step - loss: 389.2003 - val_loss: 69216.9649\n",
            "Epoch 112/300\n",
            "2100/2100 [==============================] - 1s 376us/step - loss: 175.0488 - val_loss: 70228.5793\n",
            "Epoch 113/300\n",
            "2100/2100 [==============================] - 1s 403us/step - loss: 210.1808 - val_loss: 65306.6702\n",
            "Epoch 114/300\n",
            "2100/2100 [==============================] - 1s 385us/step - loss: 449.6222 - val_loss: 63806.9585\n",
            "Epoch 115/300\n",
            "2100/2100 [==============================] - 1s 386us/step - loss: 1073.1682 - val_loss: 97533.7363\n",
            "Epoch 116/300\n",
            "2100/2100 [==============================] - 1s 391us/step - loss: 298.5361 - val_loss: 90350.4165\n",
            "Epoch 117/300\n",
            "2100/2100 [==============================] - 1s 382us/step - loss: 243.1957 - val_loss: 84727.2601\n",
            "Epoch 118/300\n",
            "2100/2100 [==============================] - 1s 386us/step - loss: 223.7147 - val_loss: 81142.9916\n",
            "Epoch 119/300\n",
            "2100/2100 [==============================] - 1s 383us/step - loss: 193.7908 - val_loss: 77812.4347\n",
            "Epoch 120/300\n",
            "2100/2100 [==============================] - 1s 389us/step - loss: 190.2067 - val_loss: 74427.4669\n",
            "Epoch 121/300\n",
            "2100/2100 [==============================] - 1s 389us/step - loss: 184.0354 - val_loss: 71767.2532\n",
            "Epoch 122/300\n",
            "2100/2100 [==============================] - 1s 402us/step - loss: 300.1514 - val_loss: 70791.7575\n",
            "Epoch 123/300\n",
            "2100/2100 [==============================] - 1s 390us/step - loss: 270.8921 - val_loss: 67677.1158\n",
            "Epoch 124/300\n",
            "2100/2100 [==============================] - 1s 391us/step - loss: 332.5855 - val_loss: 66630.3508\n",
            "Epoch 125/300\n",
            "2100/2100 [==============================] - 1s 399us/step - loss: 195.9853 - val_loss: 70569.3653\n",
            "Epoch 126/300\n",
            "2100/2100 [==============================] - 1s 401us/step - loss: 235.0236 - val_loss: 68714.7463\n",
            "Epoch 127/300\n",
            "2100/2100 [==============================] - 1s 384us/step - loss: 287.0990 - val_loss: 64906.9627\n",
            "Epoch 128/300\n",
            "2100/2100 [==============================] - 1s 393us/step - loss: 232.7612 - val_loss: 65125.7303\n",
            "Epoch 129/300\n",
            "2100/2100 [==============================] - 1s 393us/step - loss: 215.5971 - val_loss: 62559.3469\n",
            "Epoch 130/300\n",
            "2100/2100 [==============================] - 1s 389us/step - loss: 235.5631 - val_loss: 61721.9522\n",
            "Epoch 131/300\n",
            "2100/2100 [==============================] - 1s 385us/step - loss: 134.7908 - val_loss: 60773.9181\n",
            "Epoch 132/300\n",
            "2100/2100 [==============================] - 1s 381us/step - loss: 231.2364 - val_loss: 58538.5870\n",
            "Epoch 133/300\n",
            "2100/2100 [==============================] - 1s 396us/step - loss: 277.8634 - val_loss: 58957.8224\n",
            "Epoch 134/300\n",
            "2100/2100 [==============================] - 1s 388us/step - loss: 371.7425 - val_loss: 60325.3121\n",
            "Epoch 135/300\n",
            "2100/2100 [==============================] - 1s 403us/step - loss: 289.8167 - val_loss: 57452.8719\n",
            "Epoch 136/300\n",
            "2100/2100 [==============================] - 1s 390us/step - loss: 771.3885 - val_loss: 64269.5718\n",
            "Epoch 137/300\n",
            "2100/2100 [==============================] - 1s 396us/step - loss: 181.9724 - val_loss: 65615.1246\n",
            "Epoch 138/300\n",
            "2100/2100 [==============================] - 1s 397us/step - loss: 136.9400 - val_loss: 62016.3198\n",
            "Epoch 139/300\n",
            "2100/2100 [==============================] - 1s 383us/step - loss: 254.2879 - val_loss: 73281.4247\n",
            "Epoch 140/300\n",
            "2100/2100 [==============================] - 1s 393us/step - loss: 259.0636 - val_loss: 59503.4789\n",
            "Epoch 141/300\n",
            "2100/2100 [==============================] - 1s 393us/step - loss: 158.7120 - val_loss: 57868.8805\n",
            "Epoch 142/300\n",
            "2100/2100 [==============================] - 1s 402us/step - loss: 429.6084 - val_loss: 58717.8838\n",
            "Epoch 143/300\n",
            "2100/2100 [==============================] - 1s 394us/step - loss: 450.2846 - val_loss: 58103.7003\n",
            "Epoch 144/300\n",
            "2100/2100 [==============================] - 1s 400us/step - loss: 246.5747 - val_loss: 60257.0204\n",
            "Epoch 145/300\n",
            "2100/2100 [==============================] - 1s 397us/step - loss: 208.4819 - val_loss: 58525.1332\n",
            "Epoch 146/300\n",
            "2100/2100 [==============================] - 1s 393us/step - loss: 230.4472 - val_loss: 57451.6956\n",
            "Epoch 147/300\n",
            "2100/2100 [==============================] - 1s 397us/step - loss: 194.4021 - val_loss: 59097.4800\n",
            "Epoch 148/300\n",
            "2100/2100 [==============================] - 1s 405us/step - loss: 991.2582 - val_loss: 58997.8297\n",
            "Epoch 149/300\n",
            "2100/2100 [==============================] - 1s 385us/step - loss: 235.5508 - val_loss: 58567.6496\n",
            "Epoch 150/300\n",
            "2100/2100 [==============================] - 1s 395us/step - loss: 140.2978 - val_loss: 55085.3622\n",
            "Epoch 151/300\n",
            "2100/2100 [==============================] - 1s 393us/step - loss: 165.1997 - val_loss: 60832.1514\n",
            "Epoch 152/300\n",
            "2100/2100 [==============================] - 1s 397us/step - loss: 278.4980 - val_loss: 56497.3840\n",
            "Epoch 153/300\n",
            "2100/2100 [==============================] - 1s 390us/step - loss: 239.8867 - val_loss: 57562.0499\n",
            "Epoch 154/300\n",
            "2100/2100 [==============================] - 1s 390us/step - loss: 244.3577 - val_loss: 52987.5993\n",
            "Epoch 155/300\n",
            "2100/2100 [==============================] - 1s 385us/step - loss: 136.2242 - val_loss: 53426.6382\n",
            "Epoch 156/300\n",
            "2100/2100 [==============================] - 1s 392us/step - loss: 317.2185 - val_loss: 51323.8060\n",
            "Epoch 157/300\n",
            "2100/2100 [==============================] - 1s 408us/step - loss: 271.8902 - val_loss: 52077.5835\n",
            "Epoch 158/300\n",
            "2100/2100 [==============================] - 1s 390us/step - loss: 316.7258 - val_loss: 53431.9249\n",
            "Epoch 159/300\n",
            "2100/2100 [==============================] - 1s 385us/step - loss: 162.6587 - val_loss: 51996.7921\n",
            "Epoch 160/300\n",
            "2100/2100 [==============================] - 1s 386us/step - loss: 160.6570 - val_loss: 53195.8183\n",
            "Epoch 161/300\n",
            "2100/2100 [==============================] - 1s 380us/step - loss: 193.0797 - val_loss: 81658.1446\n",
            "Epoch 162/300\n",
            "2100/2100 [==============================] - 1s 381us/step - loss: 215.8996 - val_loss: 49372.0889\n",
            "Epoch 163/300\n",
            "2100/2100 [==============================] - 1s 385us/step - loss: 293.7564 - val_loss: 54921.3573\n",
            "Epoch 164/300\n",
            "2100/2100 [==============================] - 1s 396us/step - loss: 376.9602 - val_loss: 55900.0006\n",
            "Epoch 165/300\n",
            "2100/2100 [==============================] - 1s 389us/step - loss: 236.5870 - val_loss: 53810.1268\n",
            "Epoch 166/300\n",
            "2100/2100 [==============================] - 1s 384us/step - loss: 193.3155 - val_loss: 54487.1166\n",
            "Epoch 167/300\n",
            "2100/2100 [==============================] - 1s 382us/step - loss: 301.6716 - val_loss: 50130.2442\n",
            "Epoch 168/300\n",
            "2100/2100 [==============================] - 1s 378us/step - loss: 158.6184 - val_loss: 51134.6114\n",
            "Epoch 169/300\n",
            "2100/2100 [==============================] - 1s 379us/step - loss: 187.8508 - val_loss: 51066.6628\n",
            "Epoch 170/300\n",
            "2100/2100 [==============================] - 1s 386us/step - loss: 163.4852 - val_loss: 50196.5324\n",
            "Epoch 171/300\n",
            "2100/2100 [==============================] - 1s 389us/step - loss: 194.8328 - val_loss: 49342.5804\n",
            "Epoch 172/300\n",
            "2100/2100 [==============================] - 1s 383us/step - loss: 172.8235 - val_loss: 49094.3353\n",
            "Epoch 173/300\n",
            "2100/2100 [==============================] - 1s 391us/step - loss: 140.9632 - val_loss: 49382.2558\n",
            "Epoch 174/300\n",
            "2100/2100 [==============================] - 1s 382us/step - loss: 162.0978 - val_loss: 48542.0429\n",
            "Epoch 175/300\n",
            "2100/2100 [==============================] - 1s 384us/step - loss: 206.4271 - val_loss: 48745.7631\n",
            "Epoch 176/300\n",
            "2100/2100 [==============================] - 1s 384us/step - loss: 359.3193 - val_loss: 52122.7272\n",
            "Epoch 177/300\n",
            "2100/2100 [==============================] - 1s 393us/step - loss: 242.2713 - val_loss: 54789.5405\n",
            "Epoch 178/300\n",
            "2100/2100 [==============================] - 1s 386us/step - loss: 179.5743 - val_loss: 48282.9147\n",
            "Epoch 179/300\n",
            "2100/2100 [==============================] - 1s 378us/step - loss: 171.7205 - val_loss: 47700.3398\n",
            "Epoch 180/300\n",
            "2100/2100 [==============================] - 1s 379us/step - loss: 232.1294 - val_loss: 47703.6693\n",
            "Epoch 181/300\n",
            "2100/2100 [==============================] - 1s 387us/step - loss: 142.9714 - val_loss: 47545.6741\n",
            "Epoch 182/300\n",
            "2100/2100 [==============================] - 1s 380us/step - loss: 292.0261 - val_loss: 46666.7321\n",
            "Epoch 183/300\n",
            "2100/2100 [==============================] - 1s 388us/step - loss: 453.8536 - val_loss: 89965.2701\n",
            "Epoch 184/300\n",
            "2100/2100 [==============================] - 1s 397us/step - loss: 372.8840 - val_loss: 83747.2735\n",
            "Epoch 185/300\n",
            "2100/2100 [==============================] - 1s 390us/step - loss: 220.5900 - val_loss: 77332.1294\n",
            "Epoch 186/300\n",
            "2100/2100 [==============================] - 1s 387us/step - loss: 177.2354 - val_loss: 73826.9908\n",
            "Epoch 187/300\n",
            "2100/2100 [==============================] - 1s 388us/step - loss: 227.1811 - val_loss: 68371.6658\n",
            "Epoch 188/300\n",
            "2100/2100 [==============================] - 1s 412us/step - loss: 180.1258 - val_loss: 67528.4263\n",
            "Epoch 189/300\n",
            "2100/2100 [==============================] - 1s 386us/step - loss: 354.5589 - val_loss: 65447.8512\n",
            "Epoch 190/300\n",
            "2100/2100 [==============================] - 1s 393us/step - loss: 255.3001 - val_loss: 65079.0216\n",
            "Epoch 191/300\n",
            "2100/2100 [==============================] - 1s 384us/step - loss: 258.8755 - val_loss: 61621.2513\n",
            "Epoch 192/300\n",
            "2100/2100 [==============================] - 1s 391us/step - loss: 161.6987 - val_loss: 60368.1204\n",
            "Epoch 193/300\n",
            "2100/2100 [==============================] - 1s 382us/step - loss: 272.1127 - val_loss: 60589.5062\n",
            "Epoch 194/300\n",
            "2100/2100 [==============================] - 1s 397us/step - loss: 231.1431 - val_loss: 58330.0045\n",
            "Epoch 195/300\n",
            "2100/2100 [==============================] - 1s 384us/step - loss: 133.0945 - val_loss: 57271.2649\n",
            "Epoch 196/300\n",
            "2100/2100 [==============================] - 1s 385us/step - loss: 168.5664 - val_loss: 54475.1134\n",
            "Epoch 197/300\n",
            "2100/2100 [==============================] - 1s 372us/step - loss: 183.5979 - val_loss: 57014.6572\n",
            "Epoch 198/300\n",
            "2100/2100 [==============================] - 1s 384us/step - loss: 361.6038 - val_loss: 56240.7505\n",
            "Epoch 199/300\n",
            "2100/2100 [==============================] - 1s 387us/step - loss: 219.7677 - val_loss: 51992.2426\n",
            "Epoch 200/300\n",
            "2100/2100 [==============================] - 1s 393us/step - loss: 216.8524 - val_loss: 51847.9790\n",
            "Epoch 201/300\n",
            "2100/2100 [==============================] - 1s 384us/step - loss: 170.6667 - val_loss: 50431.6226\n",
            "Epoch 202/300\n",
            "2100/2100 [==============================] - 1s 391us/step - loss: 253.4201 - val_loss: 49240.0107\n",
            "Epoch 203/300\n",
            "2100/2100 [==============================] - 1s 385us/step - loss: 256.1749 - val_loss: 51703.9824\n",
            "Epoch 204/300\n",
            "2100/2100 [==============================] - 1s 382us/step - loss: 128.3742 - val_loss: 48487.1215\n",
            "Epoch 205/300\n",
            "2100/2100 [==============================] - 1s 373us/step - loss: 624.6152 - val_loss: 82202.3006\n",
            "Epoch 206/300\n",
            "2100/2100 [==============================] - 1s 374us/step - loss: 616.5885 - val_loss: 87099.9887\n",
            "Epoch 207/300\n",
            "2100/2100 [==============================] - 1s 393us/step - loss: 228.2759 - val_loss: 80502.5378\n",
            "Epoch 208/300\n",
            "2100/2100 [==============================] - 1s 374us/step - loss: 221.3099 - val_loss: 75573.1854\n",
            "Epoch 209/300\n",
            "2100/2100 [==============================] - 1s 395us/step - loss: 200.1358 - val_loss: 70415.4573\n",
            "Epoch 210/300\n",
            "2100/2100 [==============================] - 1s 384us/step - loss: 207.2101 - val_loss: 68303.6711\n",
            "Epoch 211/300\n",
            "2100/2100 [==============================] - 1s 368us/step - loss: 188.5237 - val_loss: 68559.1274\n",
            "Epoch 212/300\n",
            "2100/2100 [==============================] - 1s 375us/step - loss: 140.6550 - val_loss: 63682.7606\n",
            "Epoch 213/300\n",
            "2100/2100 [==============================] - 1s 384us/step - loss: 159.4244 - val_loss: 61880.5386\n",
            "Epoch 214/300\n",
            "2100/2100 [==============================] - 1s 381us/step - loss: 156.0410 - val_loss: 60855.2687\n",
            "Epoch 215/300\n",
            "2100/2100 [==============================] - 1s 372us/step - loss: 171.9252 - val_loss: 58140.0454\n",
            "Epoch 216/300\n",
            "2100/2100 [==============================] - 1s 388us/step - loss: 388.1823 - val_loss: 60821.9347\n",
            "Epoch 217/300\n",
            "2100/2100 [==============================] - 1s 389us/step - loss: 362.3299 - val_loss: 59831.6416\n",
            "Epoch 218/300\n",
            "2100/2100 [==============================] - 1s 381us/step - loss: 197.0090 - val_loss: 57990.3157\n",
            "Epoch 219/300\n",
            "2100/2100 [==============================] - 1s 384us/step - loss: 128.1726 - val_loss: 57593.1419\n",
            "Epoch 220/300\n",
            "2100/2100 [==============================] - 1s 385us/step - loss: 199.7613 - val_loss: 59982.1415\n",
            "Epoch 221/300\n",
            "2100/2100 [==============================] - 1s 386us/step - loss: 461.4001 - val_loss: 53582.9477\n",
            "Epoch 222/300\n",
            "2100/2100 [==============================] - 1s 386us/step - loss: 184.9403 - val_loss: 54989.3478\n",
            "Epoch 223/300\n",
            "2100/2100 [==============================] - 1s 387us/step - loss: 199.6812 - val_loss: 52007.0884\n",
            "Epoch 224/300\n",
            "2100/2100 [==============================] - 1s 397us/step - loss: 193.8353 - val_loss: 52031.6300\n",
            "Epoch 225/300\n",
            "2100/2100 [==============================] - 1s 389us/step - loss: 197.2364 - val_loss: 50701.7262\n",
            "Epoch 226/300\n",
            "2100/2100 [==============================] - 1s 402us/step - loss: 232.4246 - val_loss: 67221.9390\n",
            "Epoch 227/300\n",
            "2100/2100 [==============================] - 1s 393us/step - loss: 574.4580 - val_loss: 86928.1882\n",
            "Epoch 228/300\n",
            "2100/2100 [==============================] - 1s 395us/step - loss: 453.8893 - val_loss: 81141.4608\n",
            "Epoch 229/300\n",
            "2100/2100 [==============================] - 1s 393us/step - loss: 263.5182 - val_loss: 77171.6906\n",
            "Epoch 230/300\n",
            "2100/2100 [==============================] - 1s 388us/step - loss: 381.7684 - val_loss: 75307.8985\n",
            "Epoch 231/300\n",
            "2100/2100 [==============================] - 1s 391us/step - loss: 171.2430 - val_loss: 72929.7007\n",
            "Epoch 232/300\n",
            "2100/2100 [==============================] - 1s 396us/step - loss: 223.3914 - val_loss: 69346.5869\n",
            "Epoch 233/300\n",
            "2100/2100 [==============================] - 1s 385us/step - loss: 264.6293 - val_loss: 65907.6649\n",
            "Epoch 234/300\n",
            "2100/2100 [==============================] - 1s 386us/step - loss: 186.1339 - val_loss: 65033.8140\n",
            "Epoch 235/300\n",
            "2100/2100 [==============================] - 1s 372us/step - loss: 247.9690 - val_loss: 61730.9169\n",
            "Epoch 236/300\n",
            "2100/2100 [==============================] - 1s 382us/step - loss: 152.0273 - val_loss: 61732.9908\n",
            "Epoch 237/300\n",
            "2100/2100 [==============================] - 1s 378us/step - loss: 138.5789 - val_loss: 61346.4861\n",
            "Epoch 238/300\n",
            "2100/2100 [==============================] - 1s 387us/step - loss: 207.2269 - val_loss: 56877.8358\n",
            "Epoch 239/300\n",
            "2100/2100 [==============================] - 1s 388us/step - loss: 221.4098 - val_loss: 57038.4978\n",
            "Epoch 240/300\n",
            "2100/2100 [==============================] - 1s 385us/step - loss: 163.5168 - val_loss: 60563.1213\n",
            "Epoch 241/300\n",
            "2100/2100 [==============================] - 1s 391us/step - loss: 317.1167 - val_loss: 53146.6184\n",
            "Epoch 242/300\n",
            "2100/2100 [==============================] - 1s 390us/step - loss: 197.3838 - val_loss: 54103.9991\n",
            "Epoch 243/300\n",
            "2100/2100 [==============================] - 1s 381us/step - loss: 191.7626 - val_loss: 53002.5575\n",
            "Epoch 244/300\n",
            "2100/2100 [==============================] - 1s 387us/step - loss: 134.8846 - val_loss: 51981.7656\n",
            "Epoch 245/300\n",
            "2100/2100 [==============================] - 1s 379us/step - loss: 188.6128 - val_loss: 52651.1824\n",
            "Epoch 246/300\n",
            "2100/2100 [==============================] - 1s 398us/step - loss: 274.0976 - val_loss: 50921.3615\n",
            "Epoch 247/300\n",
            "2100/2100 [==============================] - 1s 382us/step - loss: 353.3989 - val_loss: 49449.1188\n",
            "Epoch 248/300\n",
            "2100/2100 [==============================] - 1s 385us/step - loss: 242.8719 - val_loss: 47514.1328\n",
            "Epoch 249/300\n",
            "2100/2100 [==============================] - 1s 379us/step - loss: 291.6021 - val_loss: 47409.6779\n",
            "Epoch 250/300\n",
            "2100/2100 [==============================] - 1s 409us/step - loss: 257.2391 - val_loss: 46378.1059\n",
            "Epoch 251/300\n",
            "2100/2100 [==============================] - 1s 410us/step - loss: 173.9897 - val_loss: 47808.2097\n",
            "Epoch 252/300\n",
            "2100/2100 [==============================] - 1s 400us/step - loss: 293.9162 - val_loss: 56027.4731\n",
            "Epoch 253/300\n",
            "2100/2100 [==============================] - 1s 392us/step - loss: 241.6434 - val_loss: 49194.2635\n",
            "Epoch 254/300\n",
            "2100/2100 [==============================] - 1s 443us/step - loss: 705.3215 - val_loss: 87590.2716\n",
            "Epoch 255/300\n",
            "2100/2100 [==============================] - 1s 396us/step - loss: 216.8178 - val_loss: 80823.7330\n",
            "Epoch 256/300\n",
            "2100/2100 [==============================] - 1s 406us/step - loss: 189.8536 - val_loss: 75607.2856\n",
            "Epoch 257/300\n",
            "2100/2100 [==============================] - 1s 401us/step - loss: 185.3939 - val_loss: 71979.1400\n",
            "Epoch 258/300\n",
            "2100/2100 [==============================] - 1s 407us/step - loss: 171.0510 - val_loss: 68749.9465\n",
            "Epoch 259/300\n",
            "2100/2100 [==============================] - 1s 393us/step - loss: 580.1445 - val_loss: 88107.8311\n",
            "Epoch 260/300\n",
            "2100/2100 [==============================] - 1s 401us/step - loss: 714.2677 - val_loss: 124839.2637\n",
            "Epoch 261/300\n",
            "2100/2100 [==============================] - 1s 414us/step - loss: 394.9723 - val_loss: 108557.6461\n",
            "Epoch 262/300\n",
            "2100/2100 [==============================] - 1s 400us/step - loss: 305.4435 - val_loss: 96204.8150\n",
            "Epoch 263/300\n",
            "2100/2100 [==============================] - 1s 408us/step - loss: 270.1105 - val_loss: 88135.6503\n",
            "Epoch 264/300\n",
            "2100/2100 [==============================] - 1s 387us/step - loss: 224.9181 - val_loss: 83312.2367\n",
            "Epoch 265/300\n",
            "2100/2100 [==============================] - 1s 385us/step - loss: 214.5213 - val_loss: 77459.8739\n",
            "Epoch 266/300\n",
            "2100/2100 [==============================] - 1s 383us/step - loss: 293.6522 - val_loss: 72265.0783\n",
            "Epoch 267/300\n",
            "2100/2100 [==============================] - 1s 381us/step - loss: 208.7713 - val_loss: 69858.0545\n",
            "Epoch 268/300\n",
            "2100/2100 [==============================] - 1s 380us/step - loss: 214.4189 - val_loss: 72766.4981\n",
            "Epoch 269/300\n",
            "2100/2100 [==============================] - 1s 396us/step - loss: 460.6431 - val_loss: 65355.8601\n",
            "Epoch 270/300\n",
            "2100/2100 [==============================] - 1s 381us/step - loss: 264.5123 - val_loss: 64545.0990\n",
            "Epoch 271/300\n",
            "2100/2100 [==============================] - 1s 387us/step - loss: 129.1174 - val_loss: 62482.6242\n",
            "Epoch 272/300\n",
            "2100/2100 [==============================] - 1s 380us/step - loss: 158.3118 - val_loss: 62015.4948\n",
            "Epoch 273/300\n",
            "2100/2100 [==============================] - 1s 412us/step - loss: 237.3979 - val_loss: 58523.9252\n",
            "Epoch 274/300\n",
            "2100/2100 [==============================] - 1s 379us/step - loss: 266.9536 - val_loss: 58556.8020\n",
            "Epoch 275/300\n",
            "2100/2100 [==============================] - 1s 382us/step - loss: 259.9691 - val_loss: 56482.1257\n",
            "Epoch 276/300\n",
            "2100/2100 [==============================] - 1s 372us/step - loss: 154.3371 - val_loss: 56547.1169\n",
            "Epoch 277/300\n",
            "2100/2100 [==============================] - 1s 377us/step - loss: 175.5984 - val_loss: 54375.2852\n",
            "Epoch 278/300\n",
            "2100/2100 [==============================] - 1s 389us/step - loss: 424.1437 - val_loss: 54934.4293\n",
            "Epoch 279/300\n",
            "2100/2100 [==============================] - 1s 385us/step - loss: 246.0822 - val_loss: 55680.0915\n",
            "Epoch 280/300\n",
            "2100/2100 [==============================] - 1s 394us/step - loss: 164.5145 - val_loss: 53014.5862\n",
            "Epoch 281/300\n",
            "2100/2100 [==============================] - 1s 374us/step - loss: 208.3458 - val_loss: 52076.6112\n",
            "Epoch 282/300\n",
            "2100/2100 [==============================] - 1s 388us/step - loss: 231.0897 - val_loss: 53373.2229\n",
            "Epoch 283/300\n",
            "2100/2100 [==============================] - 1s 384us/step - loss: 144.6150 - val_loss: 50617.7423\n",
            "Epoch 284/300\n",
            "2100/2100 [==============================] - 1s 384us/step - loss: 343.4179 - val_loss: 52934.0849\n",
            "Epoch 285/300\n",
            "2100/2100 [==============================] - 1s 383us/step - loss: 362.7706 - val_loss: 50903.8455\n",
            "Epoch 286/300\n",
            "2100/2100 [==============================] - 1s 380us/step - loss: 345.7880 - val_loss: 51283.1560\n",
            "Epoch 287/300\n",
            "2100/2100 [==============================] - 1s 395us/step - loss: 138.1203 - val_loss: 51521.1765\n",
            "Epoch 288/300\n",
            "2100/2100 [==============================] - 1s 380us/step - loss: 155.8131 - val_loss: 49233.6625\n",
            "Epoch 289/300\n",
            "2100/2100 [==============================] - 1s 383us/step - loss: 274.2568 - val_loss: 49201.3273\n",
            "Epoch 290/300\n",
            "2100/2100 [==============================] - 1s 383us/step - loss: 453.7571 - val_loss: 51000.4576\n",
            "Epoch 291/300\n",
            "2100/2100 [==============================] - 1s 382us/step - loss: 187.4769 - val_loss: 51395.4053\n",
            "Epoch 292/300\n",
            "2100/2100 [==============================] - 1s 386us/step - loss: 101.7064 - val_loss: 55857.3158\n",
            "Epoch 293/300\n",
            "2100/2100 [==============================] - 1s 382us/step - loss: 251.5132 - val_loss: 48592.6040\n",
            "Epoch 294/300\n",
            "2100/2100 [==============================] - 1s 390us/step - loss: 179.4640 - val_loss: 49130.5260\n",
            "Epoch 295/300\n",
            "2100/2100 [==============================] - 1s 378us/step - loss: 170.0979 - val_loss: 54706.3209\n",
            "Epoch 296/300\n",
            "2100/2100 [==============================] - 1s 385us/step - loss: 217.5571 - val_loss: 48830.7555\n",
            "Epoch 297/300\n",
            "2100/2100 [==============================] - 1s 379us/step - loss: 171.2198 - val_loss: 50140.4985\n",
            "Epoch 298/300\n",
            "2100/2100 [==============================] - 1s 383us/step - loss: 333.3548 - val_loss: 48739.3558\n",
            "Epoch 299/300\n",
            "2100/2100 [==============================] - 1s 379us/step - loss: 447.6639 - val_loss: 45992.8190\n",
            "Epoch 300/300\n",
            "2100/2100 [==============================] - 1s 382us/step - loss: 308.1221 - val_loss: 48869.4084\n"
          ],
          "name": "stdout"
        },
        {
          "output_type": "execute_result",
          "data": {
            "text/plain": [
              "<keras.callbacks.History at 0x7f24785187b8>"
            ]
          },
          "metadata": {
            "tags": []
          },
          "execution_count": 48
        }
      ]
    },
    {
      "cell_type": "code",
      "metadata": {
        "id": "3r7zkvxDVnvh",
        "colab_type": "code",
        "colab": {}
      },
      "source": [
        "pred = model.predict([X_test, test_weights])"
      ],
      "execution_count": 0,
      "outputs": []
    },
    {
      "cell_type": "code",
      "metadata": {
        "id": "TsQdRUj9MKIo",
        "colab_type": "code",
        "outputId": "a88b283e-b1b0-49ae-83fb-3e5cc83be034",
        "colab": {
          "base_uri": "https://localhost:8080/",
          "height": 624
        }
      },
      "source": [
        "import matplotlib.pyplot as plt\n",
        "%matplotlib inline\n",
        "plt.figure(figsize=(20,10))\n",
        "plt.plot(y_test,'r',label='actual')\n",
        "plt.plot(pred,'--', label = 'predicted')\n",
        "\n",
        "plt.title('Variation of actual and predicted stock price')\n",
        "plt.ylabel('Stock price')\n",
        "plt.legend()"
      ],
      "execution_count": 0,
      "outputs": [
        {
          "output_type": "execute_result",
          "data": {
            "text/plain": [
              "<matplotlib.legend.Legend at 0x7f2444490f28>"
            ]
          },
          "metadata": {
            "tags": []
          },
          "execution_count": 50
        },
        {
          "output_type": "display_data",
          "data": {
            "image/png": "[encoded data removed]",
            "text/plain": [
              "<Figure size 1440x720 with 1 Axes>"
            ]
          },
          "metadata": {
            "tags": []
          }
        }
      ]
    },
    {
      "cell_type": "code",
      "metadata": {
        "id": "c7n8WpbC-bEu",
        "colab_type": "code",
        "colab": {}
      },
      "source": [
        ""
      ],
      "execution_count": 0,
      "outputs": []
    },
    {
      "cell_type": "code",
      "metadata": {
        "id": "knqiUTRF5D71",
        "colab_type": "code",
        "colab": {}
      },
      "source": [
        ""
      ],
      "execution_count": 0,
      "outputs": []
    },
    {
      "cell_type": "markdown",
      "metadata": {
        "id": "KLhDj8P3Ofxn",
        "colab_type": "text"
      },
      "source": [
        "# The last 5 days' stock prices plus news title data"
      ]
    },
    {
      "cell_type": "code",
      "metadata": {
        "id": "IFR8f99CUUIK",
        "colab_type": "code",
        "colab": {}
      },
      "source": [
        "data2['Date'] = pd.to_datetime(data2['Date'],format='%Y-%m-%d')"
      ],
      "execution_count": 0,
      "outputs": []
    },
    {
      "cell_type": "code",
      "metadata": {
        "id": "JNeqxnf9XB0s",
        "colab_type": "code",
        "outputId": "08e7e797-3f96-44b1-e4dc-26d376550f56",
        "colab": {
          "base_uri": "https://localhost:8080/",
          "height": 204
        }
      },
      "source": [
        "data3 = pd.merge(data2,data_final, left_on = 'Date', right_on = 'date', how='left')\n",
        "data3.head()"
      ],
      "execution_count": 0,
      "outputs": [
        {
          "output_type": "execute_result",
          "data": {
            "text/html": [
              "<div>\n",
              "<style scoped>\n",
              "    .dataframe tbody tr th:only-of-type {\n",
              "        vertical-align: middle;\n",
              "    }\n",
              "\n",
              "    .dataframe tbody tr th {\n",
              "        vertical-align: top;\n",
              "    }\n",
              "\n",
              "    .dataframe thead th {\n",
              "        text-align: right;\n",
              "    }\n",
              "</style>\n",
              "<table border=\"1\" class=\"dataframe\">\n",
              "  <thead>\n",
              "    <tr style=\"text-align: right;\">\n",
              "      <th></th>\n",
              "      <th>Date</th>\n",
              "      <th>Open</th>\n",
              "      <th>High</th>\n",
              "      <th>Low</th>\n",
              "      <th>Close</th>\n",
              "      <th>Adj Close</th>\n",
              "      <th>Volume</th>\n",
              "      <th>date</th>\n",
              "      <th>title</th>\n",
              "    </tr>\n",
              "  </thead>\n",
              "  <tbody>\n",
              "    <tr>\n",
              "      <th>0</th>\n",
              "      <td>2009-12-31</td>\n",
              "      <td>137.089996</td>\n",
              "      <td>137.279999</td>\n",
              "      <td>134.520004</td>\n",
              "      <td>134.520004</td>\n",
              "      <td>134.520004</td>\n",
              "      <td>4523000</td>\n",
              "      <td>NaT</td>\n",
              "      <td>NaN</td>\n",
              "    </tr>\n",
              "    <tr>\n",
              "      <th>1</th>\n",
              "      <td>2010-01-04</td>\n",
              "      <td>136.250000</td>\n",
              "      <td>136.610001</td>\n",
              "      <td>133.139999</td>\n",
              "      <td>133.899994</td>\n",
              "      <td>133.899994</td>\n",
              "      <td>7599900</td>\n",
              "      <td>NaT</td>\n",
              "      <td>NaN</td>\n",
              "    </tr>\n",
              "    <tr>\n",
              "      <th>2</th>\n",
              "      <td>2010-01-05</td>\n",
              "      <td>133.429993</td>\n",
              "      <td>135.479996</td>\n",
              "      <td>131.809998</td>\n",
              "      <td>134.690002</td>\n",
              "      <td>134.690002</td>\n",
              "      <td>8851900</td>\n",
              "      <td>NaT</td>\n",
              "      <td>NaN</td>\n",
              "    </tr>\n",
              "    <tr>\n",
              "      <th>3</th>\n",
              "      <td>2010-01-06</td>\n",
              "      <td>134.600006</td>\n",
              "      <td>134.729996</td>\n",
              "      <td>131.649994</td>\n",
              "      <td>132.250000</td>\n",
              "      <td>132.250000</td>\n",
              "      <td>7178800</td>\n",
              "      <td>NaT</td>\n",
              "      <td>NaN</td>\n",
              "    </tr>\n",
              "    <tr>\n",
              "      <th>4</th>\n",
              "      <td>2010-01-07</td>\n",
              "      <td>132.009995</td>\n",
              "      <td>132.320007</td>\n",
              "      <td>128.800003</td>\n",
              "      <td>130.000000</td>\n",
              "      <td>130.000000</td>\n",
              "      <td>11030200</td>\n",
              "      <td>NaT</td>\n",
              "      <td>NaN</td>\n",
              "    </tr>\n",
              "  </tbody>\n",
              "</table>\n",
              "</div>"
            ],
            "text/plain": [
              "        Date        Open        High  ...    Volume  date  title\n",
              "0 2009-12-31  137.089996  137.279999  ...   4523000   NaT    NaN\n",
              "1 2010-01-04  136.250000  136.610001  ...   7599900   NaT    NaN\n",
              "2 2010-01-05  133.429993  135.479996  ...   8851900   NaT    NaN\n",
              "3 2010-01-06  134.600006  134.729996  ...   7178800   NaT    NaN\n",
              "4 2010-01-07  132.009995  132.320007  ...  11030200   NaT    NaN\n",
              "\n",
              "[5 rows x 9 columns]"
            ]
          },
          "metadata": {
            "tags": []
          },
          "execution_count": 52
        }
      ]
    },
    {
      "cell_type": "code",
      "metadata": {
        "id": "GmEgI_G3YP4r",
        "colab_type": "code",
        "outputId": "d77ed6ef-90ef-4a56-a075-1030223ce101",
        "colab": {
          "base_uri": "https://localhost:8080/",
          "height": 34
        }
      },
      "source": [
        "data3['title'].nunique()"
      ],
      "execution_count": 0,
      "outputs": [
        {
          "output_type": "execute_result",
          "data": {
            "text/plain": [
              "644"
            ]
          },
          "metadata": {
            "tags": []
          },
          "execution_count": 53
        }
      ]
    },
    {
      "cell_type": "code",
      "metadata": {
        "id": "QZWFaBfDa0Iz",
        "colab_type": "code",
        "outputId": "98e6ac59-78fd-410a-aa45-c534632ae441",
        "colab": {
          "base_uri": "https://localhost:8080/",
          "height": 51
        }
      },
      "source": [
        "import nltk\n",
        "import re\n",
        "nltk.download('stopwords')\n",
        "stop = nltk.corpus.stopwords.words('english')\n",
        "def preprocess(text):\n",
        "    text = str(text)\n",
        "    text=text.lower()\n",
        "    text=re.sub('[^0-9a-zA-Z]+',' ',text)\n",
        "    words = text.split()\n",
        "    words2=[w for w in words if (w not in stop)]\n",
        "    #words3=[ps.stem(w) for w in words]\n",
        "    words4=' '.join(words2)\n",
        "    return(words4)\n",
        "data3['title'] = data3['title'].apply(preprocess)"
      ],
      "execution_count": 0,
      "outputs": [
        {
          "output_type": "stream",
          "text": [
            "[nltk_data] Downloading package stopwords to /root/nltk_data...\n",
            "[nltk_data]   Unzipping corpora/stopwords.zip.\n"
          ],
          "name": "stdout"
        }
      ]
    },
    {
      "cell_type": "code",
      "metadata": {
        "id": "82v920YGaj4t",
        "colab_type": "code",
        "colab": {}
      },
      "source": [
        "data3['title']=np.where(data3['title'].isnull(),'-','-'+data3['title'])"
      ],
      "execution_count": 0,
      "outputs": []
    },
    {
      "cell_type": "code",
      "metadata": {
        "id": "nxMcBAFUau04",
        "colab_type": "code",
        "colab": {}
      },
      "source": [
        "docs = data3['title'].values"
      ],
      "execution_count": 0,
      "outputs": []
    },
    {
      "cell_type": "code",
      "metadata": {
        "id": "Yn3pnFHkZENl",
        "colab_type": "code",
        "colab": {}
      },
      "source": [
        "from collections import Counter\n",
        "counts = Counter()\n",
        "for i,review in enumerate(docs):\n",
        "  counts.update(review.split())\n",
        "words = sorted(counts, key=counts.get, reverse=True)\n",
        "vocab_size=len(words)\n",
        "word_to_int = {word: i for i, word in enumerate(words, 1)}\n",
        "encoded_docs = []\n",
        "for doc in docs:\n",
        "  encoded_docs.append([word_to_int[word] for word in doc.split()])"
      ],
      "execution_count": 0,
      "outputs": []
    },
    {
      "cell_type": "code",
      "metadata": {
        "id": "YgQKA1qrbLeR",
        "colab_type": "code",
        "outputId": "4e535e19-b8e0-47c3-dae1-7c3d1e712518",
        "colab": {
          "base_uri": "https://localhost:8080/",
          "height": 34
        }
      },
      "source": [
        "vocab_size"
      ],
      "execution_count": 0,
      "outputs": [
        {
          "output_type": "execute_result",
          "data": {
            "text/plain": [
              "2309"
            ]
          },
          "metadata": {
            "tags": []
          },
          "execution_count": 58
        }
      ]
    },
    {
      "cell_type": "code",
      "metadata": {
        "id": "earEjhdObYc8",
        "colab_type": "code",
        "colab": {}
      },
      "source": [
        "max_length = 20\n",
        "from keras.preprocessing.sequence import pad_sequences\n",
        "padded_docs = pad_sequences(encoded_docs, maxlen=max_length,padding='pre')"
      ],
      "execution_count": 0,
      "outputs": []
    },
    {
      "cell_type": "code",
      "metadata": {
        "id": "7Y6dRZlxcIPu",
        "colab_type": "code",
        "outputId": "5349848b-f7bc-4a36-d73f-3b6b3c6c6c34",
        "colab": {
          "base_uri": "https://localhost:8080/",
          "height": 34
        }
      },
      "source": [
        "len(padded_docs)"
      ],
      "execution_count": 0,
      "outputs": [
        {
          "output_type": "execute_result",
          "data": {
            "text/plain": [
              "2261"
            ]
          },
          "metadata": {
            "tags": []
          },
          "execution_count": 60
        }
      ]
    },
    {
      "cell_type": "code",
      "metadata": {
        "id": "Pnn_oJT2bi8M",
        "colab_type": "code",
        "colab": {}
      },
      "source": [
        "x1 = []\n",
        "x2 = []\n",
        "y = []\n",
        "for i in range(data3.shape[0]-5):\n",
        "  x1.append(data3.loc[i:(i+4)]['Close'].values)\n",
        "  x2.append(padded_docs[i+5])\n",
        "  y.append(data3.loc[i+5]['Close'])"
      ],
      "execution_count": 0,
      "outputs": []
    },
    {
      "cell_type": "code",
      "metadata": {
        "id": "ad0eN0ylfaEq",
        "colab_type": "code",
        "outputId": "ce857d8a-337b-4595-9d50-b74acaca612c",
        "colab": {
          "base_uri": "https://localhost:8080/",
          "height": 34
        }
      },
      "source": [
        "x2[0].shape"
      ],
      "execution_count": 0,
      "outputs": [
        {
          "output_type": "execute_result",
          "data": {
            "text/plain": [
              "(20,)"
            ]
          },
          "metadata": {
            "tags": []
          },
          "execution_count": 62
        }
      ]
    },
    {
      "cell_type": "code",
      "metadata": {
        "id": "hvfIaObLcQ8i",
        "colab_type": "code",
        "colab": {}
      },
      "source": [
        "input1 = Input(shape=(20,))\n",
        "model = Embedding(input_dim=vocab_size+1, output_dim=32, input_length=20)(input1)\n",
        "model = (LSTM(units=100))(model)\n",
        "model = (Dense(1, activation='tanh'))(model)"
      ],
      "execution_count": 0,
      "outputs": []
    },
    {
      "cell_type": "code",
      "metadata": {
        "id": "z92FF1bmfjpW",
        "colab_type": "code",
        "colab": {}
      },
      "source": [
        "input2 = Input(shape=(5,1))\n",
        "model2 = Dense(100, activation='relu')(input2)\n",
        "model2 = LSTM(units=100)(model2)\n",
        "model2 = (Dense(1000, activation=\"relu\"))(model2)\n",
        "model2 = (Dense(1, activation=\"linear\"))(model2)"
      ],
      "execution_count": 0,
      "outputs": []
    },
    {
      "cell_type": "code",
      "metadata": {
        "id": "s_8W-UYj3IRe",
        "colab_type": "code",
        "colab": {}
      },
      "source": [
        "from keras.layers import multiply\n",
        "conc = multiply([model, model2])"
      ],
      "execution_count": 0,
      "outputs": []
    },
    {
      "cell_type": "code",
      "metadata": {
        "id": "ykcUj8I6flc1",
        "colab_type": "code",
        "colab": {}
      },
      "source": [
        "from keras.layers import concatenate\n",
        "conc = concatenate([model, model2])"
      ],
      "execution_count": 0,
      "outputs": []
    },
    {
      "cell_type": "code",
      "metadata": {
        "id": "QpJtd1SrgeMz",
        "colab_type": "code",
        "colab": {}
      },
      "source": [
        "conc2 = (Dense(1000, activation=\"relu\"))(conc)\n",
        "out = (Dense(1, activation=\"linear\"))(conc2)"
      ],
      "execution_count": 0,
      "outputs": []
    },
    {
      "cell_type": "code",
      "metadata": {
        "id": "EGx8CRUCgt6L",
        "colab_type": "code",
        "outputId": "b2738ba9-253c-465f-e4b3-393b961b867b",
        "colab": {
          "base_uri": "https://localhost:8080/",
          "height": 578
        }
      },
      "source": [
        "model = Model([input1, input2, weights_tensor], out)\n",
        "model.summary()"
      ],
      "execution_count": 0,
      "outputs": [
        {
          "output_type": "stream",
          "text": [
            "Model: \"model_3\"\n",
            "__________________________________________________________________________________________________\n",
            "Layer (type)                    Output Shape         Param #     Connected to                     \n",
            "==================================================================================================\n",
            "input_4 (InputLayer)            (None, 5, 1)         0                                            \n",
            "__________________________________________________________________________________________________\n",
            "input_3 (InputLayer)            (None, 20)           0                                            \n",
            "__________________________________________________________________________________________________\n",
            "dense_11 (Dense)                (None, 5, 100)       200         input_4[0][0]                    \n",
            "__________________________________________________________________________________________________\n",
            "embedding_1 (Embedding)         (None, 20, 32)       73920       input_3[0][0]                    \n",
            "__________________________________________________________________________________________________\n",
            "lstm_5 (LSTM)                   (None, 100)          80400       dense_11[0][0]                   \n",
            "__________________________________________________________________________________________________\n",
            "lstm_4 (LSTM)                   (None, 100)          53200       embedding_1[0][0]                \n",
            "__________________________________________________________________________________________________\n",
            "dense_12 (Dense)                (None, 1000)         101000      lstm_5[0][0]                     \n",
            "__________________________________________________________________________________________________\n",
            "dense_10 (Dense)                (None, 1)            101         lstm_4[0][0]                     \n",
            "__________________________________________________________________________________________________\n",
            "dense_13 (Dense)                (None, 1)            1001        dense_12[0][0]                   \n",
            "__________________________________________________________________________________________________\n",
            "concatenate_1 (Concatenate)     (None, 2)            0           dense_10[0][0]                   \n",
            "                                                                 dense_13[0][0]                   \n",
            "__________________________________________________________________________________________________\n",
            "dense_14 (Dense)                (None, 1000)         3000        concatenate_1[0][0]              \n",
            "__________________________________________________________________________________________________\n",
            "dense_15 (Dense)                (None, 1)            1001        dense_14[0][0]                   \n",
            "==================================================================================================\n",
            "Total params: 313,823\n",
            "Trainable params: 313,823\n",
            "Non-trainable params: 0\n",
            "__________________________________________________________________________________________________\n"
          ],
          "name": "stdout"
        }
      ]
    },
    {
      "cell_type": "code",
      "metadata": {
        "id": "R4Ubz7dRupYe",
        "colab_type": "code",
        "outputId": "41b55fa8-b32a-43de-f224-d7e3cbc6f8cb",
        "colab": {
          "base_uri": "https://localhost:8080/",
          "height": 153
        }
      },
      "source": [
        "!apt install graphviz\n",
        "!pip install pydot pydot-ng"
      ],
      "execution_count": 0,
      "outputs": [
        {
          "output_type": "stream",
          "text": [
            "\rReading package lists... 0%\r\rReading package lists... 0%\r\rReading package lists... 0%\r\rReading package lists... 7%\r\rReading package lists... 7%\r\rReading package lists... 7%\r\rReading package lists... 7%\r\rReading package lists... 68%\r\rReading package lists... 68%\r\rReading package lists... 68%\r\rReading package lists... 68%\r\rReading package lists... 74%\r\rReading package lists... 74%\r\rReading package lists... 74%\r\rReading package lists... 74%\r\rReading package lists... 84%\r\rReading package lists... 84%\r\rReading package lists... 84%\r\rReading package lists... 84%\r\rReading package lists... 84%\r\rReading package lists... 84%\r\rReading package lists... 84%\r\rReading package lists... 84%\r\rReading package lists... 88%\r\rReading package lists... 88%\r\rReading package lists... 88%\r\rReading package lists... 88%\r\rReading package lists... 90%\r\rReading package lists... 93%\r\rReading package lists... 93%\r\rReading package lists... 93%\r\rReading package lists... 93%\r\rReading package lists... 94%\r\rReading package lists... 94%\r\rReading package lists... 94%\r\rReading package lists... 94%\r\rReading package lists... 95%\r\rReading package lists... 95%\r\rReading package lists... 98%\r\rReading package lists... 98%\r\rReading package lists... 98%\r\rReading package lists... 98%\r\rReading package lists... Done\r\n",
            "\rBuilding dependency tree... 0%\r\rBuilding dependency tree... 0%\r\rBuilding dependency tree... 50%\r\rBuilding dependency tree... 50%\r\rBuilding dependency tree       \r\n",
            "\rReading state information... 0%\r\rReading state information... 0%\r\rReading state information... Done\r\n",
            "graphviz is already the newest version (2.40.1-2).\n",
            "0 upgraded, 0 newly installed, 0 to remove and 8 not upgraded.\n",
            "Requirement already satisfied: pydot in /usr/local/lib/python3.6/dist-packages (1.3.0)\n",
            "Requirement already satisfied: pydot-ng in /usr/local/lib/python3.6/dist-packages (2.0.0)\n",
            "Requirement already satisfied: pyparsing>=2.1.4 in /usr/local/lib/python3.6/dist-packages (from pydot) (2.4.2)\n"
          ],
          "name": "stdout"
        }
      ]
    },
    {
      "cell_type": "code",
      "metadata": {
        "id": "l0-cYTPguqL6",
        "colab_type": "code",
        "outputId": "37615964-72e7-4f92-bcec-fccd6f163886",
        "colab": {
          "base_uri": "https://localhost:8080/",
          "height": 441
        }
      },
      "source": [
        "from keras.utils import plot_model\n",
        "\n",
        "plot_model(model, show_shapes=True, show_layer_names=True, to_file='model.png')\n",
        "from IPython.display import Image\n",
        "Image(retina=True, filename='model.png')"
      ],
      "execution_count": 0,
      "outputs": [
        {
          "output_type": "execute_result",
          "data": {
            "image/png": "[encoded data removed]",
            "text/plain": [
              "<IPython.core.display.Image object>"
            ]
          },
          "metadata": {
            "tags": [],
            "image/png": {
              "width": 418,
              "height": 424
            }
          },
          "execution_count": 70
        }
      ]
    },
    {
      "cell_type": "code",
      "metadata": {
        "colab_type": "code",
        "id": "a88357R5XN3w",
        "colab": {}
      },
      "source": [
        "x1 = np.array(x1)\n",
        "x2 = np.array(x2)\n",
        "y = np.array(y)"
      ],
      "execution_count": 0,
      "outputs": []
    },
    {
      "cell_type": "code",
      "metadata": {
        "id": "UrFxvjaciC9Q",
        "colab_type": "code",
        "colab": {}
      },
      "source": [
        "x1 = x1.reshape(x1.shape[0],x1.shape[1],1)"
      ],
      "execution_count": 0,
      "outputs": []
    },
    {
      "cell_type": "code",
      "metadata": {
        "id": "_M5heYc2DF78",
        "colab_type": "code",
        "outputId": "c52ff8b4-8e7b-4797-d329-3bfd6dadbd49",
        "colab": {
          "base_uri": "https://localhost:8080/",
          "height": 34
        }
      },
      "source": [
        "x2.shape"
      ],
      "execution_count": 0,
      "outputs": [
        {
          "output_type": "execute_result",
          "data": {
            "text/plain": [
              "(2256, 20)"
            ]
          },
          "metadata": {
            "tags": []
          },
          "execution_count": 73
        }
      ]
    },
    {
      "cell_type": "code",
      "metadata": {
        "id": "e7_5JiUdC_2n",
        "colab_type": "code",
        "colab": {}
      },
      "source": [
        "X1_train = x1[:2100,:,:]\n",
        "X2_train = x2[:2100,:]\n",
        "y_train = y[:2100]\n",
        "\n",
        "X1_test = x1[2100:,:,:]\n",
        "X2_test = x2[2100:,:]\n",
        "y_test = y[2100:]"
      ],
      "execution_count": 0,
      "outputs": []
    },
    {
      "cell_type": "code",
      "metadata": {
        "id": "zGQKy8dMh2wC",
        "colab_type": "code",
        "outputId": "7c6a3dd5-af62-4256-df9f-f29c2d04bfc5",
        "colab": {
          "base_uri": "https://localhost:8080/",
          "height": 34
        }
      },
      "source": [
        "print(X1_train.shape, X2_train.shape, y_train.shape)"
      ],
      "execution_count": 0,
      "outputs": [
        {
          "output_type": "stream",
          "text": [
            "(2100, 5, 1) (2100, 20) (2100,)\n"
          ],
          "name": "stdout"
        }
      ]
    },
    {
      "cell_type": "code",
      "metadata": {
        "id": "xCzkFqxtXdVF",
        "colab_type": "code",
        "outputId": "1f3b0dad-b00e-485c-89f1-a6e33ea5cde0",
        "colab": {
          "base_uri": "https://localhost:8080/",
          "height": 578
        }
      },
      "source": [
        "model = Model([input1, input2, weights_tensor], out)\n",
        "model.compile(adam, cl4)\n",
        "model.summary()"
      ],
      "execution_count": 0,
      "outputs": [
        {
          "output_type": "stream",
          "text": [
            "Model: \"model_4\"\n",
            "__________________________________________________________________________________________________\n",
            "Layer (type)                    Output Shape         Param #     Connected to                     \n",
            "==================================================================================================\n",
            "input_4 (InputLayer)            (None, 5, 1)         0                                            \n",
            "__________________________________________________________________________________________________\n",
            "input_3 (InputLayer)            (None, 20)           0                                            \n",
            "__________________________________________________________________________________________________\n",
            "dense_11 (Dense)                (None, 5, 100)       200         input_4[0][0]                    \n",
            "__________________________________________________________________________________________________\n",
            "embedding_1 (Embedding)         (None, 20, 32)       73920       input_3[0][0]                    \n",
            "__________________________________________________________________________________________________\n",
            "lstm_5 (LSTM)                   (None, 100)          80400       dense_11[0][0]                   \n",
            "__________________________________________________________________________________________________\n",
            "lstm_4 (LSTM)                   (None, 100)          53200       embedding_1[0][0]                \n",
            "__________________________________________________________________________________________________\n",
            "dense_12 (Dense)                (None, 1000)         101000      lstm_5[0][0]                     \n",
            "__________________________________________________________________________________________________\n",
            "dense_10 (Dense)                (None, 1)            101         lstm_4[0][0]                     \n",
            "__________________________________________________________________________________________________\n",
            "dense_13 (Dense)                (None, 1)            1001        dense_12[0][0]                   \n",
            "__________________________________________________________________________________________________\n",
            "concatenate_1 (Concatenate)     (None, 2)            0           dense_10[0][0]                   \n",
            "                                                                 dense_13[0][0]                   \n",
            "__________________________________________________________________________________________________\n",
            "dense_14 (Dense)                (None, 1000)         3000        concatenate_1[0][0]              \n",
            "__________________________________________________________________________________________________\n",
            "dense_15 (Dense)                (None, 1)            1001        dense_14[0][0]                   \n",
            "==================================================================================================\n",
            "Total params: 313,823\n",
            "Trainable params: 313,823\n",
            "Non-trainable params: 0\n",
            "__________________________________________________________________________________________________\n"
          ],
          "name": "stdout"
        }
      ]
    },
    {
      "cell_type": "code",
      "metadata": {
        "id": "cniOtrdEYEQl",
        "colab_type": "code",
        "outputId": "c6bd1d0c-2653-4959-85b5-660d1238f600",
        "colab": {
          "base_uri": "https://localhost:8080/",
          "height": 1000
        }
      },
      "source": [
        "model.fit(x=[X2_train, X1_train, weights], y=y_train, epochs=300,batch_size = 32, validation_data = ([X2_test, X1_test, test_weights], y_test))"
      ],
      "execution_count": 0,
      "outputs": [
        {
          "output_type": "stream",
          "text": [
            "Train on 2100 samples, validate on 156 samples\n",
            "Epoch 1/300\n",
            "2100/2100 [==============================] - 5s 3ms/step - loss: 228979.5901 - val_loss: 2889441.2692\n",
            "Epoch 2/300\n",
            "2100/2100 [==============================] - 3s 2ms/step - loss: 159313.2912 - val_loss: 1994607.2244\n",
            "Epoch 3/300\n",
            "2100/2100 [==============================] - 3s 2ms/step - loss: 74602.5522 - val_loss: 1222741.3285\n",
            "Epoch 4/300\n",
            "2100/2100 [==============================] - 3s 2ms/step - loss: 43162.2199 - val_loss: 988519.3205\n",
            "Epoch 5/300\n",
            "2100/2100 [==============================] - 3s 2ms/step - loss: 35795.4582 - val_loss: 957701.3590\n",
            "Epoch 6/300\n",
            "2100/2100 [==============================] - 3s 2ms/step - loss: 35002.7385 - val_loss: 914787.2404\n",
            "Epoch 7/300\n",
            "2100/2100 [==============================] - 3s 2ms/step - loss: 28572.4497 - val_loss: 845821.9199\n",
            "Epoch 8/300\n",
            "2100/2100 [==============================] - 3s 2ms/step - loss: 22345.5701 - val_loss: 662774.7564\n",
            "Epoch 9/300\n",
            "2100/2100 [==============================] - 3s 2ms/step - loss: 17742.1630 - val_loss: 587378.3454\n",
            "Epoch 10/300\n",
            "2100/2100 [==============================] - 3s 2ms/step - loss: 13061.3929 - val_loss: 483209.8069\n",
            "Epoch 11/300\n",
            "2100/2100 [==============================] - 3s 2ms/step - loss: 10334.6148 - val_loss: 654041.3454\n",
            "Epoch 12/300\n",
            "2100/2100 [==============================] - 3s 2ms/step - loss: 10695.2916 - val_loss: 449600.4287\n",
            "Epoch 13/300\n",
            "2100/2100 [==============================] - 3s 2ms/step - loss: 9825.4860 - val_loss: 380666.9776\n",
            "Epoch 14/300\n",
            "2100/2100 [==============================] - 3s 2ms/step - loss: 5090.7304 - val_loss: 302418.1999\n",
            "Epoch 15/300\n",
            "2100/2100 [==============================] - 3s 2ms/step - loss: 2954.0801 - val_loss: 215101.3986\n",
            "Epoch 16/300\n",
            "2100/2100 [==============================] - 3s 2ms/step - loss: 2610.9302 - val_loss: 176690.8187\n",
            "Epoch 17/300\n",
            "2100/2100 [==============================] - 3s 2ms/step - loss: 2571.7688 - val_loss: 181923.9002\n",
            "Epoch 18/300\n",
            "2100/2100 [==============================] - 3s 2ms/step - loss: 3643.8161 - val_loss: 143497.6572\n",
            "Epoch 19/300\n",
            "2100/2100 [==============================] - 3s 2ms/step - loss: 1937.8207 - val_loss: 129160.1987\n",
            "Epoch 20/300\n",
            "2100/2100 [==============================] - 3s 2ms/step - loss: 1317.3329 - val_loss: 113589.6243\n",
            "Epoch 21/300\n",
            "2100/2100 [==============================] - 3s 2ms/step - loss: 1341.8716 - val_loss: 109401.1807\n",
            "Epoch 22/300\n",
            "2100/2100 [==============================] - 3s 2ms/step - loss: 855.8885 - val_loss: 109646.2217\n",
            "Epoch 23/300\n",
            "2100/2100 [==============================] - 3s 2ms/step - loss: 1477.1396 - val_loss: 92933.5048\n",
            "Epoch 24/300\n",
            "2100/2100 [==============================] - 3s 2ms/step - loss: 767.8683 - val_loss: 84798.6277\n",
            "Epoch 25/300\n",
            "2100/2100 [==============================] - 3s 2ms/step - loss: 750.6314 - val_loss: 88608.2395\n",
            "Epoch 26/300\n",
            "2100/2100 [==============================] - 3s 2ms/step - loss: 597.8301 - val_loss: 82426.2529\n",
            "Epoch 27/300\n",
            "2100/2100 [==============================] - 3s 2ms/step - loss: 472.0328 - val_loss: 73178.2515\n",
            "Epoch 28/300\n",
            "2100/2100 [==============================] - 3s 2ms/step - loss: 421.8999 - val_loss: 66173.7075\n",
            "Epoch 29/300\n",
            "2100/2100 [==============================] - 3s 1ms/step - loss: 538.8833 - val_loss: 58504.1435\n",
            "Epoch 30/300\n",
            "2100/2100 [==============================] - 3s 1ms/step - loss: 2108.9025 - val_loss: 280207.7075\n",
            "Epoch 31/300\n",
            "2100/2100 [==============================] - 3s 2ms/step - loss: 4063.1429 - val_loss: 219295.8429\n",
            "Epoch 32/300\n",
            "2100/2100 [==============================] - 3s 2ms/step - loss: 1914.5900 - val_loss: 174488.2243\n",
            "Epoch 33/300\n",
            "2100/2100 [==============================] - 3s 2ms/step - loss: 1287.0411 - val_loss: 145540.1140\n",
            "Epoch 34/300\n",
            "2100/2100 [==============================] - 3s 2ms/step - loss: 931.2312 - val_loss: 123726.6682\n",
            "Epoch 35/300\n",
            "2100/2100 [==============================] - 3s 2ms/step - loss: 829.3006 - val_loss: 111931.6574\n",
            "Epoch 36/300\n",
            "2100/2100 [==============================] - 3s 2ms/step - loss: 626.7943 - val_loss: 98691.3655\n",
            "Epoch 37/300\n",
            "2100/2100 [==============================] - 3s 2ms/step - loss: 503.0448 - val_loss: 89204.0881\n",
            "Epoch 38/300\n",
            "2100/2100 [==============================] - 3s 2ms/step - loss: 504.3212 - val_loss: 81169.6814\n",
            "Epoch 39/300\n",
            "2100/2100 [==============================] - 3s 2ms/step - loss: 478.8257 - val_loss: 73209.8157\n",
            "Epoch 40/300\n",
            "2100/2100 [==============================] - 3s 2ms/step - loss: 854.5116 - val_loss: 71139.0824\n",
            "Epoch 41/300\n",
            "2100/2100 [==============================] - 3s 2ms/step - loss: 371.1800 - val_loss: 68050.2348\n",
            "Epoch 42/300\n",
            "2100/2100 [==============================] - 3s 2ms/step - loss: 487.4535 - val_loss: 78855.8902\n",
            "Epoch 43/300\n",
            "2100/2100 [==============================] - 3s 2ms/step - loss: 1006.1867 - val_loss: 58383.2963\n",
            "Epoch 44/300\n",
            "2100/2100 [==============================] - 3s 2ms/step - loss: 483.4209 - val_loss: 59310.3282\n",
            "Epoch 45/300\n",
            "2100/2100 [==============================] - 3s 2ms/step - loss: 712.1163 - val_loss: 55266.4779\n",
            "Epoch 46/300\n",
            "2100/2100 [==============================] - 3s 2ms/step - loss: 618.2189 - val_loss: 60093.9223\n",
            "Epoch 47/300\n",
            "2100/2100 [==============================] - 3s 2ms/step - loss: 215.3899 - val_loss: 51380.6248\n",
            "Epoch 48/300\n",
            "2100/2100 [==============================] - 3s 2ms/step - loss: 205.7985 - val_loss: 52103.0048\n",
            "Epoch 49/300\n",
            "2100/2100 [==============================] - 3s 2ms/step - loss: 243.7100 - val_loss: 47461.5409\n",
            "Epoch 50/300\n",
            "2100/2100 [==============================] - 3s 2ms/step - loss: 139.2358 - val_loss: 45180.4528\n",
            "Epoch 51/300\n",
            "2100/2100 [==============================] - 3s 2ms/step - loss: 266.8044 - val_loss: 47945.7554\n",
            "Epoch 52/300\n",
            "2100/2100 [==============================] - 3s 2ms/step - loss: 215.9724 - val_loss: 47672.7212\n",
            "Epoch 53/300\n",
            "2100/2100 [==============================] - 3s 2ms/step - loss: 161.4920 - val_loss: 50315.3367\n",
            "Epoch 54/300\n",
            "2100/2100 [==============================] - 3s 2ms/step - loss: 230.2029 - val_loss: 45235.6022\n",
            "Epoch 55/300\n",
            "2100/2100 [==============================] - 3s 2ms/step - loss: 249.7916 - val_loss: 40961.7055\n",
            "Epoch 56/300\n",
            "2100/2100 [==============================] - 3s 1ms/step - loss: 275.5137 - val_loss: 49581.1983\n",
            "Epoch 57/300\n",
            "2100/2100 [==============================] - 3s 1ms/step - loss: 383.9796 - val_loss: 47090.6624\n",
            "Epoch 58/300\n",
            "2100/2100 [==============================] - 3s 2ms/step - loss: 295.4919 - val_loss: 50677.1452\n",
            "Epoch 59/300\n",
            "2100/2100 [==============================] - 3s 2ms/step - loss: 226.8520 - val_loss: 51329.8867\n",
            "Epoch 60/300\n",
            "2100/2100 [==============================] - 3s 2ms/step - loss: 218.3093 - val_loss: 47776.5051\n",
            "Epoch 61/300\n",
            "2100/2100 [==============================] - 3s 2ms/step - loss: 304.3486 - val_loss: 48914.0265\n",
            "Epoch 62/300\n",
            "2100/2100 [==============================] - 3s 2ms/step - loss: 403.6874 - val_loss: 47386.2663\n",
            "Epoch 63/300\n",
            "2100/2100 [==============================] - 3s 2ms/step - loss: 414.2981 - val_loss: 51062.0108\n",
            "Epoch 64/300\n",
            "2100/2100 [==============================] - 3s 2ms/step - loss: 353.0670 - val_loss: 51121.0586\n",
            "Epoch 65/300\n",
            "2100/2100 [==============================] - 3s 2ms/step - loss: 216.4227 - val_loss: 49573.6050\n",
            "Epoch 66/300\n",
            "2100/2100 [==============================] - 3s 2ms/step - loss: 773.3415 - val_loss: 54453.2079\n",
            "Epoch 67/300\n",
            "2100/2100 [==============================] - 3s 2ms/step - loss: 300.4373 - val_loss: 59563.9919\n",
            "Epoch 68/300\n",
            "2100/2100 [==============================] - 3s 1ms/step - loss: 261.9426 - val_loss: 61690.9900\n",
            "Epoch 69/300\n",
            "2100/2100 [==============================] - 3s 1ms/step - loss: 402.0510 - val_loss: 51220.2222\n",
            "Epoch 70/300\n",
            "2100/2100 [==============================] - 3s 2ms/step - loss: 870.5717 - val_loss: 59683.5324\n",
            "Epoch 71/300\n",
            "2100/2100 [==============================] - 3s 2ms/step - loss: 240.1724 - val_loss: 62476.5333\n",
            "Epoch 72/300\n",
            "2100/2100 [==============================] - 3s 2ms/step - loss: 1314.1909 - val_loss: 73778.3373\n",
            "Epoch 73/300\n",
            "2100/2100 [==============================] - 3s 1ms/step - loss: 827.3113 - val_loss: 65720.4868\n",
            "Epoch 74/300\n",
            "2100/2100 [==============================] - 3s 2ms/step - loss: 673.7358 - val_loss: 62898.1475\n",
            "Epoch 75/300\n",
            "2100/2100 [==============================] - 3s 2ms/step - loss: 217.0771 - val_loss: 54526.8015\n",
            "Epoch 76/300\n",
            "2100/2100 [==============================] - 3s 1ms/step - loss: 201.1889 - val_loss: 51818.6121\n",
            "Epoch 77/300\n",
            "2100/2100 [==============================] - 3s 2ms/step - loss: 154.4107 - val_loss: 49432.1340\n",
            "Epoch 78/300\n",
            "2100/2100 [==============================] - 3s 2ms/step - loss: 277.9061 - val_loss: 47529.5433\n",
            "Epoch 79/300\n",
            "2100/2100 [==============================] - 3s 2ms/step - loss: 263.4538 - val_loss: 46245.4728\n",
            "Epoch 80/300\n",
            "2100/2100 [==============================] - 3s 2ms/step - loss: 171.0491 - val_loss: 48626.3666\n",
            "Epoch 81/300\n",
            "2100/2100 [==============================] - 3s 2ms/step - loss: 191.6592 - val_loss: 47520.9171\n",
            "Epoch 82/300\n",
            "2100/2100 [==============================] - 3s 2ms/step - loss: 486.1971 - val_loss: 49895.8310\n",
            "Epoch 83/300\n",
            "2100/2100 [==============================] - 3s 1ms/step - loss: 260.2950 - val_loss: 50871.6402\n",
            "Epoch 84/300\n",
            "2100/2100 [==============================] - 3s 2ms/step - loss: 250.5978 - val_loss: 47729.2875\n",
            "Epoch 85/300\n",
            "2100/2100 [==============================] - 3s 1ms/step - loss: 1067.6039 - val_loss: 69760.5521\n",
            "Epoch 86/300\n",
            "2100/2100 [==============================] - 3s 1ms/step - loss: 545.7270 - val_loss: 61896.8645\n",
            "Epoch 87/300\n",
            "2100/2100 [==============================] - 3s 1ms/step - loss: 157.1720 - val_loss: 52457.7707\n",
            "Epoch 88/300\n",
            "2100/2100 [==============================] - 3s 1ms/step - loss: 188.3961 - val_loss: 50195.4627\n",
            "Epoch 89/300\n",
            "2100/2100 [==============================] - 3s 2ms/step - loss: 261.0143 - val_loss: 46293.5683\n",
            "Epoch 90/300\n",
            "2100/2100 [==============================] - 3s 2ms/step - loss: 272.1939 - val_loss: 46939.2467\n",
            "Epoch 91/300\n",
            "2100/2100 [==============================] - 3s 1ms/step - loss: 220.2789 - val_loss: 47985.6701\n",
            "Epoch 92/300\n",
            "2100/2100 [==============================] - 3s 1ms/step - loss: 161.8446 - val_loss: 45360.3660\n",
            "Epoch 93/300\n",
            "2100/2100 [==============================] - 3s 2ms/step - loss: 181.1544 - val_loss: 41670.0911\n",
            "Epoch 94/300\n",
            "2100/2100 [==============================] - 3s 1ms/step - loss: 371.8331 - val_loss: 44275.2438\n",
            "Epoch 95/300\n",
            "2100/2100 [==============================] - 3s 1ms/step - loss: 269.7456 - val_loss: 46892.0216\n",
            "Epoch 96/300\n",
            "2100/2100 [==============================] - 3s 2ms/step - loss: 213.9904 - val_loss: 46506.1348\n",
            "Epoch 97/300\n",
            "2100/2100 [==============================] - 3s 2ms/step - loss: 185.6150 - val_loss: 45035.7725\n",
            "Epoch 98/300\n",
            "2100/2100 [==============================] - 3s 1ms/step - loss: 128.0201 - val_loss: 43489.3355\n",
            "Epoch 99/300\n",
            "2100/2100 [==============================] - 3s 2ms/step - loss: 215.0676 - val_loss: 40933.6975\n",
            "Epoch 100/300\n",
            "2100/2100 [==============================] - 3s 2ms/step - loss: 216.9011 - val_loss: 47677.6953\n",
            "Epoch 101/300\n",
            "2100/2100 [==============================] - 3s 1ms/step - loss: 327.1683 - val_loss: 49467.3113\n",
            "Epoch 102/300\n",
            "2100/2100 [==============================] - 3s 2ms/step - loss: 383.2175 - val_loss: 51657.2274\n",
            "Epoch 103/300\n",
            "2100/2100 [==============================] - 3s 1ms/step - loss: 185.1177 - val_loss: 53876.5694\n",
            "Epoch 104/300\n",
            "2100/2100 [==============================] - 3s 1ms/step - loss: 560.1074 - val_loss: 51945.7646\n",
            "Epoch 105/300\n",
            "2100/2100 [==============================] - 3s 1ms/step - loss: 300.0958 - val_loss: 54343.0781\n",
            "Epoch 106/300\n",
            "2100/2100 [==============================] - 3s 2ms/step - loss: 198.9188 - val_loss: 48268.5209\n",
            "Epoch 107/300\n",
            "2100/2100 [==============================] - 3s 2ms/step - loss: 197.7845 - val_loss: 45523.6768\n",
            "Epoch 108/300\n",
            "2100/2100 [==============================] - 3s 2ms/step - loss: 241.1285 - val_loss: 52365.9870\n",
            "Epoch 109/300\n",
            "2100/2100 [==============================] - 3s 2ms/step - loss: 189.8773 - val_loss: 45905.7614\n",
            "Epoch 110/300\n",
            "2100/2100 [==============================] - 3s 2ms/step - loss: 160.3917 - val_loss: 44608.3527\n",
            "Epoch 111/300\n",
            "2100/2100 [==============================] - 3s 2ms/step - loss: 263.2376 - val_loss: 47067.4702\n",
            "Epoch 112/300\n",
            "2100/2100 [==============================] - 3s 2ms/step - loss: 240.2956 - val_loss: 45534.4063\n",
            "Epoch 113/300\n",
            "2100/2100 [==============================] - 3s 2ms/step - loss: 165.5188 - val_loss: 46281.7936\n",
            "Epoch 114/300\n",
            "2100/2100 [==============================] - 3s 2ms/step - loss: 169.8241 - val_loss: 44201.1216\n",
            "Epoch 115/300\n",
            "2100/2100 [==============================] - 3s 2ms/step - loss: 225.3430 - val_loss: 40516.4196\n",
            "Epoch 116/300\n",
            "2100/2100 [==============================] - 3s 2ms/step - loss: 1059.0122 - val_loss: 51013.1806\n",
            "Epoch 117/300\n",
            "2100/2100 [==============================] - 3s 2ms/step - loss: 416.6776 - val_loss: 51938.9477\n",
            "Epoch 118/300\n",
            "2100/2100 [==============================] - 3s 2ms/step - loss: 559.0216 - val_loss: 61116.2861\n",
            "Epoch 119/300\n",
            "2100/2100 [==============================] - 3s 2ms/step - loss: 396.3131 - val_loss: 51174.3043\n",
            "Epoch 120/300\n",
            "2100/2100 [==============================] - 3s 2ms/step - loss: 361.8723 - val_loss: 53011.6455\n",
            "Epoch 121/300\n",
            "2100/2100 [==============================] - 3s 2ms/step - loss: 214.5871 - val_loss: 54104.8135\n",
            "Epoch 122/300\n",
            "2100/2100 [==============================] - 3s 2ms/step - loss: 206.0971 - val_loss: 50682.1802\n",
            "Epoch 123/300\n",
            "2100/2100 [==============================] - 3s 2ms/step - loss: 202.5038 - val_loss: 50897.0885\n",
            "Epoch 124/300\n",
            "2100/2100 [==============================] - 3s 2ms/step - loss: 178.8147 - val_loss: 47170.2424\n",
            "Epoch 125/300\n",
            "2100/2100 [==============================] - 3s 2ms/step - loss: 366.0081 - val_loss: 51822.5324\n",
            "Epoch 126/300\n",
            "2100/2100 [==============================] - 3s 2ms/step - loss: 358.0057 - val_loss: 47686.7632\n",
            "Epoch 127/300\n",
            "2100/2100 [==============================] - 3s 2ms/step - loss: 1167.6467 - val_loss: 59906.7100\n",
            "Epoch 128/300\n",
            "2100/2100 [==============================] - 3s 2ms/step - loss: 506.0534 - val_loss: 60946.0476\n",
            "Epoch 129/300\n",
            "2100/2100 [==============================] - 3s 2ms/step - loss: 163.0748 - val_loss: 54963.0906\n",
            "Epoch 130/300\n",
            "2100/2100 [==============================] - 3s 2ms/step - loss: 166.1512 - val_loss: 52450.6000\n",
            "Epoch 131/300\n",
            "2100/2100 [==============================] - 3s 2ms/step - loss: 238.9956 - val_loss: 44277.7416\n",
            "Epoch 132/300\n",
            "2100/2100 [==============================] - 3s 2ms/step - loss: 234.8990 - val_loss: 53995.0143\n",
            "Epoch 133/300\n",
            "2100/2100 [==============================] - 3s 2ms/step - loss: 142.7352 - val_loss: 43424.0527\n",
            "Epoch 134/300\n",
            "2100/2100 [==============================] - 3s 2ms/step - loss: 401.9341 - val_loss: 48638.7664\n",
            "Epoch 135/300\n",
            "2100/2100 [==============================] - 3s 2ms/step - loss: 947.0487 - val_loss: 60050.9718\n",
            "Epoch 136/300\n",
            "2100/2100 [==============================] - 3s 2ms/step - loss: 253.0926 - val_loss: 51813.1344\n",
            "Epoch 137/300\n",
            "2100/2100 [==============================] - 3s 2ms/step - loss: 238.4937 - val_loss: 51670.6714\n",
            "Epoch 138/300\n",
            "2100/2100 [==============================] - 3s 2ms/step - loss: 181.0595 - val_loss: 46311.2572\n",
            "Epoch 139/300\n",
            "2100/2100 [==============================] - 3s 2ms/step - loss: 144.6217 - val_loss: 47254.1172\n",
            "Epoch 140/300\n",
            "2100/2100 [==============================] - 3s 2ms/step - loss: 432.1937 - val_loss: 49562.6601\n",
            "Epoch 141/300\n",
            "2100/2100 [==============================] - 3s 2ms/step - loss: 179.0807 - val_loss: 50003.4816\n",
            "Epoch 142/300\n",
            "2100/2100 [==============================] - 3s 2ms/step - loss: 150.3967 - val_loss: 46597.4890\n",
            "Epoch 143/300\n",
            "2100/2100 [==============================] - 3s 2ms/step - loss: 142.0507 - val_loss: 42592.4188\n",
            "Epoch 144/300\n",
            "2100/2100 [==============================] - 3s 2ms/step - loss: 344.7358 - val_loss: 45859.5997\n",
            "Epoch 145/300\n",
            "2100/2100 [==============================] - 3s 2ms/step - loss: 243.6165 - val_loss: 43249.9096\n",
            "Epoch 146/300\n",
            "2100/2100 [==============================] - 3s 2ms/step - loss: 322.1685 - val_loss: 48466.8221\n",
            "Epoch 147/300\n",
            "2100/2100 [==============================] - 3s 2ms/step - loss: 535.5020 - val_loss: 54959.2812\n",
            "Epoch 148/300\n",
            "2100/2100 [==============================] - 3s 2ms/step - loss: 516.7504 - val_loss: 55505.2657\n",
            "Epoch 149/300\n",
            "2100/2100 [==============================] - 3s 2ms/step - loss: 194.7152 - val_loss: 49531.3964\n",
            "Epoch 150/300\n",
            "2100/2100 [==============================] - 3s 2ms/step - loss: 170.0146 - val_loss: 46630.4102\n",
            "Epoch 151/300\n",
            "2100/2100 [==============================] - 3s 2ms/step - loss: 575.4672 - val_loss: 50823.0152\n",
            "Epoch 152/300\n",
            "2100/2100 [==============================] - 3s 2ms/step - loss: 231.3578 - val_loss: 50311.7432\n",
            "Epoch 153/300\n",
            "2100/2100 [==============================] - 3s 2ms/step - loss: 195.7765 - val_loss: 47253.3337\n",
            "Epoch 154/300\n",
            "2100/2100 [==============================] - 3s 2ms/step - loss: 272.2067 - val_loss: 46404.4762\n",
            "Epoch 155/300\n",
            "2100/2100 [==============================] - 3s 2ms/step - loss: 332.8154 - val_loss: 49085.4940\n",
            "Epoch 156/300\n",
            "2100/2100 [==============================] - 3s 2ms/step - loss: 127.0718 - val_loss: 46794.8626\n",
            "Epoch 157/300\n",
            "2100/2100 [==============================] - 3s 2ms/step - loss: 296.7708 - val_loss: 45619.6118\n",
            "Epoch 158/300\n",
            "2100/2100 [==============================] - 3s 2ms/step - loss: 191.2455 - val_loss: 44976.2845\n",
            "Epoch 159/300\n",
            "2100/2100 [==============================] - 3s 2ms/step - loss: 211.8610 - val_loss: 42548.5674\n",
            "Epoch 160/300\n",
            "2100/2100 [==============================] - 3s 2ms/step - loss: 215.6410 - val_loss: 44529.1454\n",
            "Epoch 161/300\n",
            "2100/2100 [==============================] - 3s 2ms/step - loss: 201.5439 - val_loss: 50181.6090\n",
            "Epoch 162/300\n",
            "2100/2100 [==============================] - 3s 2ms/step - loss: 312.2774 - val_loss: 53191.5402\n",
            "Epoch 163/300\n",
            "2100/2100 [==============================] - 3s 2ms/step - loss: 256.8833 - val_loss: 46828.6728\n",
            "Epoch 164/300\n",
            "2100/2100 [==============================] - 3s 2ms/step - loss: 463.3376 - val_loss: 48150.1082\n",
            "Epoch 165/300\n",
            "2100/2100 [==============================] - 3s 2ms/step - loss: 927.0479 - val_loss: 59171.9840\n",
            "Epoch 166/300\n",
            "2100/2100 [==============================] - 3s 2ms/step - loss: 568.2243 - val_loss: 57987.7235\n",
            "Epoch 167/300\n",
            "2100/2100 [==============================] - 3s 2ms/step - loss: 200.4292 - val_loss: 51110.8726\n",
            "Epoch 168/300\n",
            "2100/2100 [==============================] - 3s 2ms/step - loss: 444.8278 - val_loss: 50770.7827\n",
            "Epoch 169/300\n",
            "2100/2100 [==============================] - 3s 2ms/step - loss: 419.5914 - val_loss: 54576.3746\n",
            "Epoch 170/300\n",
            "2100/2100 [==============================] - 3s 2ms/step - loss: 773.8887 - val_loss: 57965.0271\n",
            "Epoch 171/300\n",
            "2100/2100 [==============================] - 3s 2ms/step - loss: 156.6060 - val_loss: 53623.3741\n",
            "Epoch 172/300\n",
            "2100/2100 [==============================] - 3s 2ms/step - loss: 212.7805 - val_loss: 50289.3568\n",
            "Epoch 173/300\n",
            "2100/2100 [==============================] - 3s 2ms/step - loss: 228.8323 - val_loss: 48071.6546\n",
            "Epoch 174/300\n",
            "2100/2100 [==============================] - 3s 2ms/step - loss: 397.9184 - val_loss: 48898.1372\n",
            "Epoch 175/300\n",
            "2100/2100 [==============================] - 3s 2ms/step - loss: 158.4167 - val_loss: 46943.2486\n",
            "Epoch 176/300\n",
            "2100/2100 [==============================] - 3s 2ms/step - loss: 172.9947 - val_loss: 46080.9181\n",
            "Epoch 177/300\n",
            "2100/2100 [==============================] - 3s 2ms/step - loss: 991.9199 - val_loss: 155233.8299\n",
            "Epoch 178/300\n",
            "2100/2100 [==============================] - 3s 2ms/step - loss: 773.4298 - val_loss: 70087.9912\n",
            "Epoch 179/300\n",
            "2100/2100 [==============================] - 3s 1ms/step - loss: 427.3382 - val_loss: 62369.4220\n",
            "Epoch 180/300\n",
            "2100/2100 [==============================] - 3s 2ms/step - loss: 298.6832 - val_loss: 57478.4481\n",
            "Epoch 181/300\n",
            "2100/2100 [==============================] - 3s 2ms/step - loss: 310.8094 - val_loss: 55825.7023\n",
            "Epoch 182/300\n",
            "2100/2100 [==============================] - 3s 2ms/step - loss: 261.3123 - val_loss: 51694.9009\n",
            "Epoch 183/300\n",
            "2100/2100 [==============================] - 3s 2ms/step - loss: 225.8410 - val_loss: 50079.2476\n",
            "Epoch 184/300\n",
            "2100/2100 [==============================] - 3s 2ms/step - loss: 250.4555 - val_loss: 48337.8355\n",
            "Epoch 185/300\n",
            "2100/2100 [==============================] - 3s 2ms/step - loss: 309.7764 - val_loss: 48364.0481\n",
            "Epoch 186/300\n",
            "2100/2100 [==============================] - 3s 2ms/step - loss: 169.3222 - val_loss: 48572.6736\n",
            "Epoch 187/300\n",
            "2100/2100 [==============================] - 3s 2ms/step - loss: 160.0147 - val_loss: 45597.2497\n",
            "Epoch 188/300\n",
            "2100/2100 [==============================] - 3s 2ms/step - loss: 343.2525 - val_loss: 49635.0118\n",
            "Epoch 189/300\n",
            "2100/2100 [==============================] - 3s 2ms/step - loss: 769.3026 - val_loss: 55684.4958\n",
            "Epoch 190/300\n",
            "2100/2100 [==============================] - 3s 1ms/step - loss: 164.8691 - val_loss: 51562.9080\n",
            "Epoch 191/300\n",
            "2100/2100 [==============================] - 3s 1ms/step - loss: 146.4785 - val_loss: 48517.2355\n",
            "Epoch 192/300\n",
            "2100/2100 [==============================] - 3s 1ms/step - loss: 124.6055 - val_loss: 46196.3235\n",
            "Epoch 193/300\n",
            "2100/2100 [==============================] - 3s 2ms/step - loss: 230.0253 - val_loss: 45876.4141\n",
            "Epoch 194/300\n",
            "2100/2100 [==============================] - 3s 2ms/step - loss: 235.2686 - val_loss: 47542.4051\n",
            "Epoch 195/300\n",
            "2100/2100 [==============================] - 3s 2ms/step - loss: 407.1346 - val_loss: 52044.6999\n",
            "Epoch 196/300\n",
            "2100/2100 [==============================] - 3s 2ms/step - loss: 190.9519 - val_loss: 48011.2493\n",
            "Epoch 197/300\n",
            "2100/2100 [==============================] - 3s 2ms/step - loss: 152.5103 - val_loss: 45838.9034\n",
            "Epoch 198/300\n",
            "2100/2100 [==============================] - 3s 2ms/step - loss: 182.5781 - val_loss: 45303.9544\n",
            "Epoch 199/300\n",
            "2100/2100 [==============================] - 3s 2ms/step - loss: 140.4092 - val_loss: 43634.7385\n",
            "Epoch 200/300\n",
            "2100/2100 [==============================] - 3s 2ms/step - loss: 487.5320 - val_loss: 50036.7703\n",
            "Epoch 201/300\n",
            "2100/2100 [==============================] - 3s 2ms/step - loss: 534.1515 - val_loss: 57029.9246\n",
            "Epoch 202/300\n",
            "2100/2100 [==============================] - 3s 2ms/step - loss: 288.8574 - val_loss: 51592.3027\n",
            "Epoch 203/300\n",
            "2100/2100 [==============================] - 3s 2ms/step - loss: 170.5960 - val_loss: 51187.7198\n",
            "Epoch 204/300\n",
            "2100/2100 [==============================] - 3s 2ms/step - loss: 249.8087 - val_loss: 46803.0763\n",
            "Epoch 205/300\n",
            "2100/2100 [==============================] - 3s 2ms/step - loss: 198.7453 - val_loss: 55995.3802\n",
            "Epoch 206/300\n",
            "2100/2100 [==============================] - 3s 2ms/step - loss: 281.9437 - val_loss: 45776.1876\n",
            "Epoch 207/300\n",
            "2100/2100 [==============================] - 3s 2ms/step - loss: 263.2474 - val_loss: 48414.4731\n",
            "Epoch 208/300\n",
            "2100/2100 [==============================] - 3s 2ms/step - loss: 463.6947 - val_loss: 51483.7267\n",
            "Epoch 209/300\n",
            "2100/2100 [==============================] - 3s 2ms/step - loss: 232.1576 - val_loss: 48524.8425\n",
            "Epoch 210/300\n",
            "2100/2100 [==============================] - 3s 2ms/step - loss: 177.3936 - val_loss: 47620.4880\n",
            "Epoch 211/300\n",
            "2100/2100 [==============================] - 3s 2ms/step - loss: 120.4408 - val_loss: 44905.3734\n",
            "Epoch 212/300\n",
            "2100/2100 [==============================] - 3s 2ms/step - loss: 152.8278 - val_loss: 41398.0157\n",
            "Epoch 213/300\n",
            "2100/2100 [==============================] - 3s 2ms/step - loss: 368.8393 - val_loss: 47432.7562\n",
            "Epoch 214/300\n",
            "2100/2100 [==============================] - 3s 2ms/step - loss: 169.6083 - val_loss: 47510.6565\n",
            "Epoch 215/300\n",
            "2100/2100 [==============================] - 3s 2ms/step - loss: 266.7402 - val_loss: 47542.0557\n",
            "Epoch 216/300\n",
            "2100/2100 [==============================] - 3s 2ms/step - loss: 137.4319 - val_loss: 47060.6521\n",
            "Epoch 217/300\n",
            "2100/2100 [==============================] - 3s 2ms/step - loss: 444.4650 - val_loss: 51294.2106\n",
            "Epoch 218/300\n",
            "2100/2100 [==============================] - 3s 2ms/step - loss: 155.4780 - val_loss: 47908.2381\n",
            "Epoch 219/300\n",
            "2100/2100 [==============================] - 3s 2ms/step - loss: 170.1927 - val_loss: 44682.6490\n",
            "Epoch 220/300\n",
            "2100/2100 [==============================] - 3s 2ms/step - loss: 156.4396 - val_loss: 44590.5468\n",
            "Epoch 221/300\n",
            "2100/2100 [==============================] - 3s 2ms/step - loss: 202.8535 - val_loss: 45768.8375\n",
            "Epoch 222/300\n",
            "2100/2100 [==============================] - 3s 2ms/step - loss: 261.1776 - val_loss: 49228.2122\n",
            "Epoch 223/300\n",
            "2100/2100 [==============================] - 3s 2ms/step - loss: 188.0099 - val_loss: 44326.2012\n",
            "Epoch 224/300\n",
            "2100/2100 [==============================] - 3s 2ms/step - loss: 196.7691 - val_loss: 42565.8756\n",
            "Epoch 225/300\n",
            "2100/2100 [==============================] - 3s 2ms/step - loss: 358.5740 - val_loss: 47415.4690\n",
            "Epoch 226/300\n",
            "2100/2100 [==============================] - 3s 2ms/step - loss: 252.8852 - val_loss: 48773.1873\n",
            "Epoch 227/300\n",
            "2100/2100 [==============================] - 3s 1ms/step - loss: 159.6398 - val_loss: 45972.7807\n",
            "Epoch 228/300\n",
            "2100/2100 [==============================] - 3s 2ms/step - loss: 125.7323 - val_loss: 49496.7961\n",
            "Epoch 229/300\n",
            "2100/2100 [==============================] - 3s 2ms/step - loss: 187.9248 - val_loss: 44995.7586\n",
            "Epoch 230/300\n",
            "2100/2100 [==============================] - 3s 2ms/step - loss: 926.7281 - val_loss: 54634.9453\n",
            "Epoch 231/300\n",
            "2100/2100 [==============================] - 3s 2ms/step - loss: 261.4398 - val_loss: 56863.6548\n",
            "Epoch 232/300\n",
            "2100/2100 [==============================] - 3s 2ms/step - loss: 235.6152 - val_loss: 51534.2356\n",
            "Epoch 233/300\n",
            "2100/2100 [==============================] - 3s 2ms/step - loss: 289.9567 - val_loss: 53534.1140\n",
            "Epoch 234/300\n",
            "2100/2100 [==============================] - 3s 2ms/step - loss: 122.2363 - val_loss: 49055.4407\n",
            "Epoch 235/300\n",
            "2100/2100 [==============================] - 3s 2ms/step - loss: 135.1185 - val_loss: 46264.8123\n",
            "Epoch 236/300\n",
            "2100/2100 [==============================] - 3s 2ms/step - loss: 533.6043 - val_loss: 52561.4912\n",
            "Epoch 237/300\n",
            "2100/2100 [==============================] - 3s 2ms/step - loss: 241.0578 - val_loss: 51546.8270\n",
            "Epoch 238/300\n",
            "2100/2100 [==============================] - 3s 2ms/step - loss: 302.0756 - val_loss: 49950.5578\n",
            "Epoch 239/300\n",
            "2100/2100 [==============================] - 3s 2ms/step - loss: 196.3392 - val_loss: 49477.5048\n",
            "Epoch 240/300\n",
            "2100/2100 [==============================] - 3s 2ms/step - loss: 204.9351 - val_loss: 46419.6610\n",
            "Epoch 241/300\n",
            "2100/2100 [==============================] - 3s 2ms/step - loss: 276.6744 - val_loss: 49243.6980\n",
            "Epoch 242/300\n",
            "2100/2100 [==============================] - 3s 2ms/step - loss: 278.8882 - val_loss: 48275.5571\n",
            "Epoch 243/300\n",
            "2100/2100 [==============================] - 3s 2ms/step - loss: 205.6113 - val_loss: 47752.8489\n",
            "Epoch 244/300\n",
            "2100/2100 [==============================] - 3s 2ms/step - loss: 275.1587 - val_loss: 47975.3318\n",
            "Epoch 245/300\n",
            "2100/2100 [==============================] - 3s 2ms/step - loss: 159.6548 - val_loss: 49699.4051\n",
            "Epoch 246/300\n",
            "2100/2100 [==============================] - 3s 2ms/step - loss: 120.6968 - val_loss: 56005.3930\n",
            "Epoch 247/300\n",
            "2100/2100 [==============================] - 3s 1ms/step - loss: 356.8742 - val_loss: 47495.2200\n",
            "Epoch 248/300\n",
            "2100/2100 [==============================] - 3s 1ms/step - loss: 314.4651 - val_loss: 52580.1202\n",
            "Epoch 249/300\n",
            "2100/2100 [==============================] - 3s 2ms/step - loss: 212.1241 - val_loss: 47354.2524\n",
            "Epoch 250/300\n",
            "2100/2100 [==============================] - 3s 2ms/step - loss: 144.5986 - val_loss: 49889.2606\n",
            "Epoch 251/300\n",
            "2100/2100 [==============================] - 3s 2ms/step - loss: 176.9428 - val_loss: 46090.4418\n",
            "Epoch 252/300\n",
            "2100/2100 [==============================] - 3s 2ms/step - loss: 195.0687 - val_loss: 48733.5292\n",
            "Epoch 253/300\n",
            "2100/2100 [==============================] - 3s 2ms/step - loss: 217.0481 - val_loss: 45468.2798\n",
            "Epoch 254/300\n",
            "2100/2100 [==============================] - 3s 2ms/step - loss: 266.5111 - val_loss: 48474.3417\n",
            "Epoch 255/300\n",
            "2100/2100 [==============================] - 3s 2ms/step - loss: 147.2851 - val_loss: 48267.4375\n",
            "Epoch 256/300\n",
            "2100/2100 [==============================] - 3s 2ms/step - loss: 231.4779 - val_loss: 43672.5495\n",
            "Epoch 257/300\n",
            "2100/2100 [==============================] - 3s 2ms/step - loss: 228.0204 - val_loss: 52231.6731\n",
            "Epoch 258/300\n",
            "2100/2100 [==============================] - 3s 2ms/step - loss: 398.7839 - val_loss: 49780.9785\n",
            "Epoch 259/300\n",
            "2100/2100 [==============================] - 3s 2ms/step - loss: 185.0406 - val_loss: 46182.7329\n",
            "Epoch 260/300\n",
            "2100/2100 [==============================] - 3s 2ms/step - loss: 345.8882 - val_loss: 48787.4335\n",
            "Epoch 261/300\n",
            "2100/2100 [==============================] - 3s 2ms/step - loss: 922.4937 - val_loss: 61503.8327\n",
            "Epoch 262/300\n",
            "2100/2100 [==============================] - 3s 2ms/step - loss: 526.1962 - val_loss: 57449.3412\n",
            "Epoch 263/300\n",
            "2100/2100 [==============================] - 3s 2ms/step - loss: 220.8379 - val_loss: 53703.5402\n",
            "Epoch 264/300\n",
            "2100/2100 [==============================] - 3s 2ms/step - loss: 304.4672 - val_loss: 55148.4306\n",
            "Epoch 265/300\n",
            "2100/2100 [==============================] - 3s 2ms/step - loss: 163.8626 - val_loss: 53227.4444\n",
            "Epoch 266/300\n",
            "2100/2100 [==============================] - 3s 2ms/step - loss: 163.4410 - val_loss: 50778.1722\n",
            "Epoch 267/300\n",
            "2100/2100 [==============================] - 3s 2ms/step - loss: 161.6755 - val_loss: 48355.1194\n",
            "Epoch 268/300\n",
            "2100/2100 [==============================] - 3s 2ms/step - loss: 302.6478 - val_loss: 50539.5779\n",
            "Epoch 269/300\n",
            "2100/2100 [==============================] - 3s 2ms/step - loss: 218.3931 - val_loss: 51558.4604\n",
            "Epoch 270/300\n",
            "2100/2100 [==============================] - 3s 2ms/step - loss: 232.4216 - val_loss: 51794.9011\n",
            "Epoch 271/300\n",
            "2100/2100 [==============================] - 3s 2ms/step - loss: 198.1894 - val_loss: 50277.0009\n",
            "Epoch 272/300\n",
            "2100/2100 [==============================] - 3s 2ms/step - loss: 99.9585 - val_loss: 46096.8462\n",
            "Epoch 273/300\n",
            "2100/2100 [==============================] - 3s 2ms/step - loss: 167.9458 - val_loss: 46429.5358\n",
            "Epoch 274/300\n",
            "2100/2100 [==============================] - 3s 2ms/step - loss: 186.6035 - val_loss: 47059.7608\n",
            "Epoch 275/300\n",
            "2100/2100 [==============================] - 3s 2ms/step - loss: 117.3442 - val_loss: 43724.0404\n",
            "Epoch 276/300\n",
            "2100/2100 [==============================] - 3s 2ms/step - loss: 115.5513 - val_loss: 46901.2847\n",
            "Epoch 277/300\n",
            "2100/2100 [==============================] - 3s 2ms/step - loss: 242.7859 - val_loss: 43941.5954\n",
            "Epoch 278/300\n",
            "2100/2100 [==============================] - 3s 2ms/step - loss: 128.1659 - val_loss: 44309.9804\n",
            "Epoch 279/300\n",
            "2100/2100 [==============================] - 3s 2ms/step - loss: 131.2192 - val_loss: 42696.9698\n",
            "Epoch 280/300\n",
            "2100/2100 [==============================] - 3s 2ms/step - loss: 135.6856 - val_loss: 43641.1522\n",
            "Epoch 281/300\n",
            "2100/2100 [==============================] - 3s 2ms/step - loss: 203.4953 - val_loss: 48162.8520\n",
            "Epoch 282/300\n",
            "2100/2100 [==============================] - 3s 2ms/step - loss: 391.9465 - val_loss: 47477.2019\n",
            "Epoch 283/300\n",
            "2100/2100 [==============================] - 3s 2ms/step - loss: 1121.2689 - val_loss: 65657.6700\n",
            "Epoch 284/300\n",
            "2100/2100 [==============================] - 3s 2ms/step - loss: 375.4011 - val_loss: 62726.0798\n",
            "Epoch 285/300\n",
            "2100/2100 [==============================] - 3s 2ms/step - loss: 170.2691 - val_loss: 54768.3056\n",
            "Epoch 286/300\n",
            "2100/2100 [==============================] - 3s 2ms/step - loss: 119.4798 - val_loss: 50300.2561\n",
            "Epoch 287/300\n",
            "2100/2100 [==============================] - 3s 2ms/step - loss: 138.3781 - val_loss: 48060.2115\n",
            "Epoch 288/300\n",
            "2100/2100 [==============================] - 3s 2ms/step - loss: 224.3521 - val_loss: 45909.5100\n",
            "Epoch 289/300\n",
            "2100/2100 [==============================] - 3s 2ms/step - loss: 230.4627 - val_loss: 45668.6757\n",
            "Epoch 290/300\n",
            "2100/2100 [==============================] - 3s 2ms/step - loss: 124.3427 - val_loss: 44868.0594\n",
            "Epoch 291/300\n",
            "2100/2100 [==============================] - 3s 2ms/step - loss: 197.3805 - val_loss: 47416.6601\n",
            "Epoch 292/300\n",
            "2100/2100 [==============================] - 3s 2ms/step - loss: 308.2811 - val_loss: 48673.2461\n",
            "Epoch 293/300\n",
            "2100/2100 [==============================] - 3s 2ms/step - loss: 167.8837 - val_loss: 49591.9341\n",
            "Epoch 294/300\n",
            "2100/2100 [==============================] - 3s 2ms/step - loss: 148.7676 - val_loss: 45138.0971\n",
            "Epoch 295/300\n",
            "2100/2100 [==============================] - 3s 2ms/step - loss: 128.0120 - val_loss: 45688.0403\n",
            "Epoch 296/300\n",
            "2100/2100 [==============================] - 3s 2ms/step - loss: 127.3750 - val_loss: 44459.1656\n",
            "Epoch 297/300\n",
            "2100/2100 [==============================] - 3s 2ms/step - loss: 202.8584 - val_loss: 46084.8839\n",
            "Epoch 298/300\n",
            "2100/2100 [==============================] - 3s 2ms/step - loss: 163.0727 - val_loss: 44975.3735\n",
            "Epoch 299/300\n",
            "2100/2100 [==============================] - 3s 2ms/step - loss: 120.5835 - val_loss: 46014.1937\n",
            "Epoch 300/300\n",
            "2100/2100 [==============================] - 3s 2ms/step - loss: 144.9307 - val_loss: 46222.6234\n"
          ],
          "name": "stdout"
        },
        {
          "output_type": "execute_result",
          "data": {
            "text/plain": [
              "<keras.callbacks.History at 0x7f243166a4e0>"
            ]
          },
          "metadata": {
            "tags": []
          },
          "execution_count": 77
        }
      ]
    },
    {
      "cell_type": "code",
      "metadata": {
        "id": "YeYYVQ1hXdZB",
        "colab_type": "code",
        "colab": {}
      },
      "source": [
        "pred = model.predict([X2_test, X1_test, test_weights])"
      ],
      "execution_count": 0,
      "outputs": []
    },
    {
      "cell_type": "code",
      "metadata": {
        "id": "DDUbas_Ch0a-",
        "colab_type": "code",
        "outputId": "3bf0d814-f9ad-49f9-dcfb-1fe861bc2f0e",
        "colab": {
          "base_uri": "https://localhost:8080/",
          "height": 624
        }
      },
      "source": [
        "import matplotlib.pyplot as plt\n",
        "%matplotlib inline\n",
        "plt.figure(figsize=(20,10))\n",
        "plt.plot(y_test,'r',label='actual')\n",
        "plt.plot(pred,'--', label = 'predicted')\n",
        "\n",
        "plt.title('Variation of actual and predicted stock price')\n",
        "plt.ylabel('Stock price')\n",
        "plt.legend()"
      ],
      "execution_count": 0,
      "outputs": [
        {
          "output_type": "execute_result",
          "data": {
            "text/plain": [
              "<matplotlib.legend.Legend at 0x7f242fd62ac8>"
            ]
          },
          "metadata": {
            "tags": []
          },
          "execution_count": 79
        },
        {
          "output_type": "display_data",
          "data": {
            "image/png": "[encoded data removed]",
            "text/plain": [
              "<Figure size 1440x720 with 1 Axes>"
            ]
          },
          "metadata": {
            "tags": []
          }
        }
      ]
    },
    {
      "cell_type": "code",
      "metadata": {
        "id": "IKmpfS52awj3",
        "colab_type": "code",
        "colab": {}
      },
      "source": [
        ""
      ],
      "execution_count": 0,
      "outputs": []
    }
  ]
}