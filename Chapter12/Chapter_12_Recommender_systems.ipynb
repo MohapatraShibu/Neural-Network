{
  "nbformat": 4,
  "nbformat_minor": 0,
  "metadata": {
    "colab": {
      "name": "Chapter_12_Recommender_systems.ipynb",
      "provenance": [],
      "collapsed_sections": []
    },
    "kernelspec": {
      "name": "python3",
      "display_name": "Python 3"
    },
    "accelerator": "GPU"
  },
  "cells": [
    {
      "cell_type": "markdown",
      "metadata": {
        "id": "7WK19kvhMrCy",
        "colab_type": "text"
      },
      "source": [
        "https://colab.research.google.com/drive/1gAuEaOMxxavIZDbA4BcmL0dbTHS3CtVz"
      ]
    },
    {
      "cell_type": "code",
      "metadata": {
        "id": "TavGyfkYqXnr",
        "colab_type": "code",
        "outputId": "0152e5df-8816-4b20-db84-9f09ad66228d",
        "colab": {
          "base_uri": "https://localhost:8080/",
          "height": 204
        }
      },
      "source": [
        "!wget http://files.grouplens.org/datasets/movielens/ml-100k.zip"
      ],
      "execution_count": 1,
      "outputs": [
        {
          "output_type": "stream",
          "text": [
            "--2019-10-02 13:15:24--  http://files.grouplens.org/datasets/movielens/ml-100k.zip\n",
            "Resolving files.grouplens.org (files.grouplens.org)... 128.101.65.152\n",
            "Connecting to files.grouplens.org (files.grouplens.org)|128.101.65.152|:80... connected.\n",
            "HTTP request sent, awaiting response... 200 OK\n",
            "Length: 4924029 (4.7M) [application/zip]\n",
            "Saving to: ‘ml-100k.zip’\n",
            "\n",
            "\rml-100k.zip           0%[                    ]       0  --.-KB/s               \rml-100k.zip          18%[==>                 ] 871.67K  3.99MB/s               \rml-100k.zip         100%[===================>]   4.70M  15.9MB/s    in 0.3s    \n",
            "\n",
            "2019-10-02 13:15:24 (15.9 MB/s) - ‘ml-100k.zip’ saved [4924029/4924029]\n",
            "\n"
          ],
          "name": "stdout"
        }
      ]
    },
    {
      "cell_type": "code",
      "metadata": {
        "id": "Wdejromaqe3_",
        "colab_type": "code",
        "outputId": "581b8691-bbd5-4726-a913-5aa78859cbde",
        "colab": {
          "base_uri": "https://localhost:8080/",
          "height": 442
        }
      },
      "source": [
        "!unzip ml-100k.zip"
      ],
      "execution_count": 2,
      "outputs": [
        {
          "output_type": "stream",
          "text": [
            "Archive:  ml-100k.zip\n",
            "   creating: ml-100k/\n",
            "  inflating: ml-100k/allbut.pl       \n",
            "  inflating: ml-100k/mku.sh          \n",
            "  inflating: ml-100k/README          \n",
            "  inflating: ml-100k/u.data          \n",
            "  inflating: ml-100k/u.genre         \n",
            "  inflating: ml-100k/u.info          \n",
            "  inflating: ml-100k/u.item          \n",
            "  inflating: ml-100k/u.occupation    \n",
            "  inflating: ml-100k/u.user          \n",
            "  inflating: ml-100k/u1.base         \n",
            "  inflating: ml-100k/u1.test         \n",
            "  inflating: ml-100k/u2.base         \n",
            "  inflating: ml-100k/u2.test         \n",
            "  inflating: ml-100k/u3.base         \n",
            "  inflating: ml-100k/u3.test         \n",
            "  inflating: ml-100k/u4.base         \n",
            "  inflating: ml-100k/u4.test         \n",
            "  inflating: ml-100k/u5.base         \n",
            "  inflating: ml-100k/u5.test         \n",
            "  inflating: ml-100k/ua.base         \n",
            "  inflating: ml-100k/ua.test         \n",
            "  inflating: ml-100k/ub.base         \n",
            "  inflating: ml-100k/ub.test         \n"
          ],
          "name": "stdout"
        }
      ]
    },
    {
      "cell_type": "code",
      "metadata": {
        "id": "Hx0tPAI0cefn",
        "colab_type": "code",
        "colab": {}
      },
      "source": [
        "import numpy as np\n",
        "import pandas as pd"
      ],
      "execution_count": 0,
      "outputs": []
    },
    {
      "cell_type": "code",
      "metadata": {
        "id": "yHX_GvMXchIS",
        "colab_type": "code",
        "colab": {}
      },
      "source": [
        "column_names = ['User', 'Movies', 'rating', 'timestamp']\n",
        "ratings = pd.read_csv('/content/ml-100k/u.data', sep='\\t', names=column_names)   # Path to downloaded file"
      ],
      "execution_count": 0,
      "outputs": []
    },
    {
      "cell_type": "code",
      "metadata": {
        "id": "Bkj1vnL1Bsep",
        "colab_type": "code",
        "outputId": "9ab6dead-fbc9-48e3-9918-7fa0578a0a5d",
        "colab": {
          "base_uri": "https://localhost:8080/",
          "height": 204
        }
      },
      "source": [
        "ratings = ratings[ratings['rating']>3]\n",
        "ratings = ratings.sort_values(by='timestamp')\n",
        "ratings.reset_index(inplace=True)\n",
        "ratings = ratings.drop(['index'],axis=1)\n",
        "ratings.head()"
      ],
      "execution_count": 5,
      "outputs": [
        {
          "output_type": "execute_result",
          "data": {
            "text/html": [
              "<div>\n",
              "<style scoped>\n",
              "    .dataframe tbody tr th:only-of-type {\n",
              "        vertical-align: middle;\n",
              "    }\n",
              "\n",
              "    .dataframe tbody tr th {\n",
              "        vertical-align: top;\n",
              "    }\n",
              "\n",
              "    .dataframe thead th {\n",
              "        text-align: right;\n",
              "    }\n",
              "</style>\n",
              "<table border=\"1\" class=\"dataframe\">\n",
              "  <thead>\n",
              "    <tr style=\"text-align: right;\">\n",
              "      <th></th>\n",
              "      <th>User</th>\n",
              "      <th>Movies</th>\n",
              "      <th>rating</th>\n",
              "      <th>timestamp</th>\n",
              "    </tr>\n",
              "  </thead>\n",
              "  <tbody>\n",
              "    <tr>\n",
              "      <th>0</th>\n",
              "      <td>259</td>\n",
              "      <td>255</td>\n",
              "      <td>4</td>\n",
              "      <td>874724710</td>\n",
              "    </tr>\n",
              "    <tr>\n",
              "      <th>1</th>\n",
              "      <td>259</td>\n",
              "      <td>286</td>\n",
              "      <td>4</td>\n",
              "      <td>874724727</td>\n",
              "    </tr>\n",
              "    <tr>\n",
              "      <th>2</th>\n",
              "      <td>259</td>\n",
              "      <td>298</td>\n",
              "      <td>4</td>\n",
              "      <td>874724754</td>\n",
              "    </tr>\n",
              "    <tr>\n",
              "      <th>3</th>\n",
              "      <td>259</td>\n",
              "      <td>185</td>\n",
              "      <td>4</td>\n",
              "      <td>874724781</td>\n",
              "    </tr>\n",
              "    <tr>\n",
              "      <th>4</th>\n",
              "      <td>259</td>\n",
              "      <td>173</td>\n",
              "      <td>4</td>\n",
              "      <td>874724843</td>\n",
              "    </tr>\n",
              "  </tbody>\n",
              "</table>\n",
              "</div>"
            ],
            "text/plain": [
              "   User  Movies  rating  timestamp\n",
              "0   259     255       4  874724710\n",
              "1   259     286       4  874724727\n",
              "2   259     298       4  874724754\n",
              "3   259     185       4  874724781\n",
              "4   259     173       4  874724843"
            ]
          },
          "metadata": {
            "tags": []
          },
          "execution_count": 5
        }
      ]
    },
    {
      "cell_type": "code",
      "metadata": {
        "id": "BpBRW1tCB0iv",
        "colab_type": "code",
        "outputId": "17fa1a03-eef4-4054-fcab-ee0d8e296adc",
        "colab": {
          "base_uri": "https://localhost:8080/",
          "height": 204
        }
      },
      "source": [
        "user_movie_count = ratings.groupby('User').agg({'Movies':'nunique'}).reset_index()\n",
        "user_movie_count.head()"
      ],
      "execution_count": 6,
      "outputs": [
        {
          "output_type": "execute_result",
          "data": {
            "text/html": [
              "<div>\n",
              "<style scoped>\n",
              "    .dataframe tbody tr th:only-of-type {\n",
              "        vertical-align: middle;\n",
              "    }\n",
              "\n",
              "    .dataframe tbody tr th {\n",
              "        vertical-align: top;\n",
              "    }\n",
              "\n",
              "    .dataframe thead th {\n",
              "        text-align: right;\n",
              "    }\n",
              "</style>\n",
              "<table border=\"1\" class=\"dataframe\">\n",
              "  <thead>\n",
              "    <tr style=\"text-align: right;\">\n",
              "      <th></th>\n",
              "      <th>User</th>\n",
              "      <th>Movies</th>\n",
              "    </tr>\n",
              "  </thead>\n",
              "  <tbody>\n",
              "    <tr>\n",
              "      <th>0</th>\n",
              "      <td>1</td>\n",
              "      <td>163</td>\n",
              "    </tr>\n",
              "    <tr>\n",
              "      <th>1</th>\n",
              "      <td>2</td>\n",
              "      <td>40</td>\n",
              "    </tr>\n",
              "    <tr>\n",
              "      <th>2</th>\n",
              "      <td>3</td>\n",
              "      <td>15</td>\n",
              "    </tr>\n",
              "    <tr>\n",
              "      <th>3</th>\n",
              "      <td>4</td>\n",
              "      <td>19</td>\n",
              "    </tr>\n",
              "    <tr>\n",
              "      <th>4</th>\n",
              "      <td>5</td>\n",
              "      <td>58</td>\n",
              "    </tr>\n",
              "  </tbody>\n",
              "</table>\n",
              "</div>"
            ],
            "text/plain": [
              "   User  Movies\n",
              "0     1     163\n",
              "1     2      40\n",
              "2     3      15\n",
              "3     4      19\n",
              "4     5      58"
            ]
          },
          "metadata": {
            "tags": []
          },
          "execution_count": 6
        }
      ]
    },
    {
      "cell_type": "code",
      "metadata": {
        "id": "Dqd78epZCEZQ",
        "colab_type": "code",
        "colab": {}
      },
      "source": [
        "user_movie_count.columns = ['User','User_Movie_count']"
      ],
      "execution_count": 0,
      "outputs": []
    },
    {
      "cell_type": "code",
      "metadata": {
        "id": "6NT8GbCsCAj8",
        "colab_type": "code",
        "outputId": "b727df06-38e0-418d-ffed-0418861b5f8f",
        "colab": {
          "base_uri": "https://localhost:8080/",
          "height": 204
        }
      },
      "source": [
        "ratings2 = ratings.merge(user_movie_count,on='User',how='inner')\n",
        "ratings2.head()"
      ],
      "execution_count": 8,
      "outputs": [
        {
          "output_type": "execute_result",
          "data": {
            "text/html": [
              "<div>\n",
              "<style scoped>\n",
              "    .dataframe tbody tr th:only-of-type {\n",
              "        vertical-align: middle;\n",
              "    }\n",
              "\n",
              "    .dataframe tbody tr th {\n",
              "        vertical-align: top;\n",
              "    }\n",
              "\n",
              "    .dataframe thead th {\n",
              "        text-align: right;\n",
              "    }\n",
              "</style>\n",
              "<table border=\"1\" class=\"dataframe\">\n",
              "  <thead>\n",
              "    <tr style=\"text-align: right;\">\n",
              "      <th></th>\n",
              "      <th>User</th>\n",
              "      <th>Movies</th>\n",
              "      <th>rating</th>\n",
              "      <th>timestamp</th>\n",
              "      <th>User_Movie_count</th>\n",
              "    </tr>\n",
              "  </thead>\n",
              "  <tbody>\n",
              "    <tr>\n",
              "      <th>0</th>\n",
              "      <td>259</td>\n",
              "      <td>255</td>\n",
              "      <td>4</td>\n",
              "      <td>874724710</td>\n",
              "      <td>33</td>\n",
              "    </tr>\n",
              "    <tr>\n",
              "      <th>1</th>\n",
              "      <td>259</td>\n",
              "      <td>286</td>\n",
              "      <td>4</td>\n",
              "      <td>874724727</td>\n",
              "      <td>33</td>\n",
              "    </tr>\n",
              "    <tr>\n",
              "      <th>2</th>\n",
              "      <td>259</td>\n",
              "      <td>298</td>\n",
              "      <td>4</td>\n",
              "      <td>874724754</td>\n",
              "      <td>33</td>\n",
              "    </tr>\n",
              "    <tr>\n",
              "      <th>3</th>\n",
              "      <td>259</td>\n",
              "      <td>185</td>\n",
              "      <td>4</td>\n",
              "      <td>874724781</td>\n",
              "      <td>33</td>\n",
              "    </tr>\n",
              "    <tr>\n",
              "      <th>4</th>\n",
              "      <td>259</td>\n",
              "      <td>173</td>\n",
              "      <td>4</td>\n",
              "      <td>874724843</td>\n",
              "      <td>33</td>\n",
              "    </tr>\n",
              "  </tbody>\n",
              "</table>\n",
              "</div>"
            ],
            "text/plain": [
              "   User  Movies  rating  timestamp  User_Movie_count\n",
              "0   259     255       4  874724710                33\n",
              "1   259     286       4  874724727                33\n",
              "2   259     298       4  874724754                33\n",
              "3   259     185       4  874724781                33\n",
              "4   259     173       4  874724843                33"
            ]
          },
          "metadata": {
            "tags": []
          },
          "execution_count": 8
        }
      ]
    },
    {
      "cell_type": "code",
      "metadata": {
        "id": "YqYrswayCPg5",
        "colab_type": "code",
        "outputId": "ab63bfa6-e57f-4d87-9fe7-ab994ed39cbd",
        "colab": {
          "base_uri": "https://localhost:8080/",
          "height": 204
        }
      },
      "source": [
        "movie_count = ratings2[ratings2['User_Movie_count']>5]\n",
        "movie_count = movie_count.sort_values('timestamp')\n",
        "movie_count.reset_index(inplace=True)\n",
        "movie_count = movie_count.drop(['index'],axis=1)\n",
        "movie_count.head()"
      ],
      "execution_count": 9,
      "outputs": [
        {
          "output_type": "execute_result",
          "data": {
            "text/html": [
              "<div>\n",
              "<style scoped>\n",
              "    .dataframe tbody tr th:only-of-type {\n",
              "        vertical-align: middle;\n",
              "    }\n",
              "\n",
              "    .dataframe tbody tr th {\n",
              "        vertical-align: top;\n",
              "    }\n",
              "\n",
              "    .dataframe thead th {\n",
              "        text-align: right;\n",
              "    }\n",
              "</style>\n",
              "<table border=\"1\" class=\"dataframe\">\n",
              "  <thead>\n",
              "    <tr style=\"text-align: right;\">\n",
              "      <th></th>\n",
              "      <th>User</th>\n",
              "      <th>Movies</th>\n",
              "      <th>rating</th>\n",
              "      <th>timestamp</th>\n",
              "      <th>User_Movie_count</th>\n",
              "    </tr>\n",
              "  </thead>\n",
              "  <tbody>\n",
              "    <tr>\n",
              "      <th>0</th>\n",
              "      <td>259</td>\n",
              "      <td>255</td>\n",
              "      <td>4</td>\n",
              "      <td>874724710</td>\n",
              "      <td>33</td>\n",
              "    </tr>\n",
              "    <tr>\n",
              "      <th>1</th>\n",
              "      <td>259</td>\n",
              "      <td>286</td>\n",
              "      <td>4</td>\n",
              "      <td>874724727</td>\n",
              "      <td>33</td>\n",
              "    </tr>\n",
              "    <tr>\n",
              "      <th>2</th>\n",
              "      <td>259</td>\n",
              "      <td>298</td>\n",
              "      <td>4</td>\n",
              "      <td>874724754</td>\n",
              "      <td>33</td>\n",
              "    </tr>\n",
              "    <tr>\n",
              "      <th>3</th>\n",
              "      <td>259</td>\n",
              "      <td>185</td>\n",
              "      <td>4</td>\n",
              "      <td>874724781</td>\n",
              "      <td>33</td>\n",
              "    </tr>\n",
              "    <tr>\n",
              "      <th>4</th>\n",
              "      <td>259</td>\n",
              "      <td>173</td>\n",
              "      <td>4</td>\n",
              "      <td>874724843</td>\n",
              "      <td>33</td>\n",
              "    </tr>\n",
              "  </tbody>\n",
              "</table>\n",
              "</div>"
            ],
            "text/plain": [
              "   User  Movies  rating  timestamp  User_Movie_count\n",
              "0   259     255       4  874724710                33\n",
              "1   259     286       4  874724727                33\n",
              "2   259     298       4  874724754                33\n",
              "3   259     185       4  874724781                33\n",
              "4   259     173       4  874724843                33"
            ]
          },
          "metadata": {
            "tags": []
          },
          "execution_count": 9
        }
      ]
    },
    {
      "cell_type": "code",
      "metadata": {
        "id": "8CpnxvrxSsP2",
        "colab_type": "code",
        "colab": {}
      },
      "source": [
        "ratings = movie_count\n",
        "users = ratings.User.unique()\n",
        "movies = ratings.Movies.unique()\n",
        "userid2idx = {o:i for i,o in enumerate(users)}\n",
        "moviesid2idx = {o:i for i,o in enumerate(movies)}\n",
        "idx2userid = {i:o for i,o in enumerate(users)}\n",
        "idx2moviesid = {i:o for i,o in enumerate(movies)}"
      ],
      "execution_count": 0,
      "outputs": []
    },
    {
      "cell_type": "code",
      "metadata": {
        "id": "_6stsuR7Qzmk",
        "colab_type": "code",
        "outputId": "cbb1ffb9-36df-4e8b-9abd-2618f1fea363",
        "colab": {
          "base_uri": "https://localhost:8080/",
          "height": 51
        }
      },
      "source": [
        "l = list(moviesid2idx.keys())\n",
        "print(len(l))\n",
        "set([x for x in l if l.count(x) > 1])"
      ],
      "execution_count": 11,
      "outputs": [
        {
          "output_type": "stream",
          "text": [
            "1447\n"
          ],
          "name": "stdout"
        },
        {
          "output_type": "execute_result",
          "data": {
            "text/plain": [
              "set()"
            ]
          },
          "metadata": {
            "tags": []
          },
          "execution_count": 11
        }
      ]
    },
    {
      "cell_type": "code",
      "metadata": {
        "id": "q_-rmgF7SzZ8",
        "colab_type": "code",
        "outputId": "c1cd6964-d99b-4838-8234-6829737fc78d",
        "colab": {
          "base_uri": "https://localhost:8080/",
          "height": 297
        }
      },
      "source": [
        "ratings['Movies2'] = ratings.Movies.apply(lambda x: moviesid2idx[x])\n",
        "ratings['User2'] = ratings.User.apply(lambda x: userid2idx[x])\n",
        "ratings.describe()"
      ],
      "execution_count": 12,
      "outputs": [
        {
          "output_type": "execute_result",
          "data": {
            "text/html": [
              "<div>\n",
              "<style scoped>\n",
              "    .dataframe tbody tr th:only-of-type {\n",
              "        vertical-align: middle;\n",
              "    }\n",
              "\n",
              "    .dataframe tbody tr th {\n",
              "        vertical-align: top;\n",
              "    }\n",
              "\n",
              "    .dataframe thead th {\n",
              "        text-align: right;\n",
              "    }\n",
              "</style>\n",
              "<table border=\"1\" class=\"dataframe\">\n",
              "  <thead>\n",
              "    <tr style=\"text-align: right;\">\n",
              "      <th></th>\n",
              "      <th>User</th>\n",
              "      <th>Movies</th>\n",
              "      <th>rating</th>\n",
              "      <th>timestamp</th>\n",
              "      <th>User_Movie_count</th>\n",
              "      <th>Movies2</th>\n",
              "      <th>User2</th>\n",
              "    </tr>\n",
              "  </thead>\n",
              "  <tbody>\n",
              "    <tr>\n",
              "      <th>count</th>\n",
              "      <td>55341.000000</td>\n",
              "      <td>55341.000000</td>\n",
              "      <td>55341.000000</td>\n",
              "      <td>5.534100e+04</td>\n",
              "      <td>55341.000000</td>\n",
              "      <td>55341.000000</td>\n",
              "      <td>55341.000000</td>\n",
              "    </tr>\n",
              "    <tr>\n",
              "      <th>mean</th>\n",
              "      <td>458.344988</td>\n",
              "      <td>377.229035</td>\n",
              "      <td>4.382935</td>\n",
              "      <td>8.834536e+08</td>\n",
              "      <td>109.688206</td>\n",
              "      <td>365.887588</td>\n",
              "      <td>439.858116</td>\n",
              "    </tr>\n",
              "    <tr>\n",
              "      <th>std</th>\n",
              "      <td>268.035118</td>\n",
              "      <td>300.338391</td>\n",
              "      <td>0.486107</td>\n",
              "      <td>5.378800e+06</td>\n",
              "      <td>71.814662</td>\n",
              "      <td>318.413168</td>\n",
              "      <td>272.023599</td>\n",
              "    </tr>\n",
              "    <tr>\n",
              "      <th>min</th>\n",
              "      <td>1.000000</td>\n",
              "      <td>1.000000</td>\n",
              "      <td>4.000000</td>\n",
              "      <td>8.747247e+08</td>\n",
              "      <td>6.000000</td>\n",
              "      <td>0.000000</td>\n",
              "      <td>0.000000</td>\n",
              "    </tr>\n",
              "    <tr>\n",
              "      <th>25%</th>\n",
              "      <td>250.000000</td>\n",
              "      <td>159.000000</td>\n",
              "      <td>4.000000</td>\n",
              "      <td>8.794456e+08</td>\n",
              "      <td>49.000000</td>\n",
              "      <td>131.000000</td>\n",
              "      <td>200.000000</td>\n",
              "    </tr>\n",
              "    <tr>\n",
              "      <th>50%</th>\n",
              "      <td>439.000000</td>\n",
              "      <td>286.000000</td>\n",
              "      <td>4.000000</td>\n",
              "      <td>8.825669e+08</td>\n",
              "      <td>100.000000</td>\n",
              "      <td>262.000000</td>\n",
              "      <td>428.000000</td>\n",
              "    </tr>\n",
              "    <tr>\n",
              "      <th>75%</th>\n",
              "      <td>680.000000</td>\n",
              "      <td>527.000000</td>\n",
              "      <td>5.000000</td>\n",
              "      <td>8.882052e+08</td>\n",
              "      <td>150.000000</td>\n",
              "      <td>510.000000</td>\n",
              "      <td>672.000000</td>\n",
              "    </tr>\n",
              "    <tr>\n",
              "      <th>max</th>\n",
              "      <td>943.000000</td>\n",
              "      <td>1674.000000</td>\n",
              "      <td>5.000000</td>\n",
              "      <td>8.932866e+08</td>\n",
              "      <td>378.000000</td>\n",
              "      <td>1446.000000</td>\n",
              "      <td>933.000000</td>\n",
              "    </tr>\n",
              "  </tbody>\n",
              "</table>\n",
              "</div>"
            ],
            "text/plain": [
              "               User        Movies  ...       Movies2         User2\n",
              "count  55341.000000  55341.000000  ...  55341.000000  55341.000000\n",
              "mean     458.344988    377.229035  ...    365.887588    439.858116\n",
              "std      268.035118    300.338391  ...    318.413168    272.023599\n",
              "min        1.000000      1.000000  ...      0.000000      0.000000\n",
              "25%      250.000000    159.000000  ...    131.000000    200.000000\n",
              "50%      439.000000    286.000000  ...    262.000000    428.000000\n",
              "75%      680.000000    527.000000  ...    510.000000    672.000000\n",
              "max      943.000000   1674.000000  ...   1446.000000    933.000000\n",
              "\n",
              "[8 rows x 7 columns]"
            ]
          },
          "metadata": {
            "tags": []
          },
          "execution_count": 12
        }
      ]
    },
    {
      "cell_type": "code",
      "metadata": {
        "id": "CU9F5JULCm59",
        "colab_type": "code",
        "colab": {}
      },
      "source": [
        "user_list = movie_count['User2'].unique()"
      ],
      "execution_count": 0,
      "outputs": []
    },
    {
      "cell_type": "code",
      "metadata": {
        "id": "twJMIZsqCm9y",
        "colab_type": "code",
        "outputId": "a6d81a73-6ed3-46ff-8e22-ef4c6db1a383",
        "colab": {
          "base_uri": "https://localhost:8080/",
          "height": 187
        }
      },
      "source": [
        "x = []\n",
        "y = []\n",
        "for i in range(len(user_list)):\n",
        "  if(i%100 == 0):\n",
        "    print(i)\n",
        "  total_user_movies = movie_count[movie_count['User2']==user_list[i]].copy()\n",
        "  total_user_movies.reset_index(inplace=True)\n",
        "  total_user_movies = total_user_movies.drop(['index'],axis=1)\n",
        "  #print(total_user_movies.shape[0])\n",
        "  for j in range(total_user_movies.shape[0]-6):\n",
        "    x.append(total_user_movies.loc[j:(j+4),'Movies2'].tolist())\n",
        "    y.append(total_user_movies.loc[(j+5),'Movies2'].tolist())"
      ],
      "execution_count": 14,
      "outputs": [
        {
          "output_type": "stream",
          "text": [
            "0\n",
            "100\n",
            "200\n",
            "300\n",
            "400\n",
            "500\n",
            "600\n",
            "700\n",
            "800\n",
            "900\n"
          ],
          "name": "stdout"
        }
      ]
    },
    {
      "cell_type": "code",
      "metadata": {
        "id": "ebBII6PuTTiv",
        "colab_type": "code",
        "outputId": "4acd112e-ba86-4d1e-fe17-67233f8954cf",
        "colab": {
          "base_uri": "https://localhost:8080/",
          "height": 34
        }
      },
      "source": [
        "max(x)"
      ],
      "execution_count": 15,
      "outputs": [
        {
          "output_type": "execute_result",
          "data": {
            "text/plain": [
              "[1446, 476, 427, 29, 1010]"
            ]
          },
          "metadata": {
            "tags": []
          },
          "execution_count": 15
        }
      ]
    },
    {
      "cell_type": "code",
      "metadata": {
        "id": "RHnHT3OsHoIQ",
        "colab_type": "code",
        "colab": {}
      },
      "source": [
        "src_vocab = ratings['Movies2'].nunique()\n",
        "n_units = 32\n",
        "src_timesteps = 5\n",
        "tar_vocab = len(set(y))"
      ],
      "execution_count": 0,
      "outputs": []
    },
    {
      "cell_type": "code",
      "metadata": {
        "id": "qWLu18dcJH76",
        "colab_type": "code",
        "outputId": "365b9374-56a0-4334-8e0d-d1e7534cd93c",
        "colab": {
          "base_uri": "https://localhost:8080/",
          "height": 34
        }
      },
      "source": [
        "from keras.models import Sequential, Model\n",
        "from keras.layers import Embedding\n",
        "from keras.layers import LSTM, RepeatVector, TimeDistributed, Dense, Bidirectional"
      ],
      "execution_count": 17,
      "outputs": [
        {
          "output_type": "stream",
          "text": [
            "Using TensorFlow backend.\n"
          ],
          "name": "stderr"
        }
      ]
    },
    {
      "cell_type": "code",
      "metadata": {
        "id": "7Bt7V2MXFp9Y",
        "colab_type": "code",
        "outputId": "6896c133-5897-46be-e983-626d3d7c2260",
        "colab": {
          "base_uri": "https://localhost:8080/",
          "height": 411
        }
      },
      "source": [
        "model = Sequential()\n",
        "model.add(Embedding(src_vocab, n_units, input_length=src_timesteps))\n",
        "model.add((LSTM(100)))\n",
        "model.add(Dense(1000,activation='relu'))\n",
        "model.add(Dense(max(y)+1,activation='softmax'))\n",
        "model.summary()"
      ],
      "execution_count": 18,
      "outputs": [
        {
          "output_type": "stream",
          "text": [
            "WARNING:tensorflow:From /usr/local/lib/python3.6/dist-packages/keras/backend/tensorflow_backend.py:66: The name tf.get_default_graph is deprecated. Please use tf.compat.v1.get_default_graph instead.\n",
            "\n",
            "WARNING:tensorflow:From /usr/local/lib/python3.6/dist-packages/keras/backend/tensorflow_backend.py:541: The name tf.placeholder is deprecated. Please use tf.compat.v1.placeholder instead.\n",
            "\n",
            "WARNING:tensorflow:From /usr/local/lib/python3.6/dist-packages/keras/backend/tensorflow_backend.py:4432: The name tf.random_uniform is deprecated. Please use tf.random.uniform instead.\n",
            "\n",
            "Model: \"sequential_1\"\n",
            "_________________________________________________________________\n",
            "Layer (type)                 Output Shape              Param #   \n",
            "=================================================================\n",
            "embedding_1 (Embedding)      (None, 5, 32)             46304     \n",
            "_________________________________________________________________\n",
            "lstm_1 (LSTM)                (None, 100)               53200     \n",
            "_________________________________________________________________\n",
            "dense_1 (Dense)              (None, 1000)              101000    \n",
            "_________________________________________________________________\n",
            "dense_2 (Dense)              (None, 1447)              1448447   \n",
            "=================================================================\n",
            "Total params: 1,648,951\n",
            "Trainable params: 1,648,951\n",
            "Non-trainable params: 0\n",
            "_________________________________________________________________\n"
          ],
          "name": "stdout"
        }
      ]
    },
    {
      "cell_type": "code",
      "metadata": {
        "id": "fZYOu9gPJ_Rq",
        "colab_type": "code",
        "colab": {}
      },
      "source": [
        "from keras.utils import to_categorical"
      ],
      "execution_count": 0,
      "outputs": []
    },
    {
      "cell_type": "code",
      "metadata": {
        "id": "iYUt6nLWKZyU",
        "colab_type": "code",
        "outputId": "960c9e07-3a11-412e-e728-8c633e63251a",
        "colab": {
          "base_uri": "https://localhost:8080/",
          "height": 34
        }
      },
      "source": [
        "max(y)"
      ],
      "execution_count": 20,
      "outputs": [
        {
          "output_type": "execute_result",
          "data": {
            "text/plain": [
              "1446"
            ]
          },
          "metadata": {
            "tags": []
          },
          "execution_count": 20
        }
      ]
    },
    {
      "cell_type": "code",
      "metadata": {
        "id": "Q-R8r79oKJ7K",
        "colab_type": "code",
        "colab": {}
      },
      "source": [
        "y2 = to_categorical(y, num_classes = max(y)+1)"
      ],
      "execution_count": 0,
      "outputs": []
    },
    {
      "cell_type": "code",
      "metadata": {
        "id": "hLG1NYznKdSj",
        "colab_type": "code",
        "outputId": "d67b7e6a-0cda-4dd4-befd-012adced1296",
        "colab": {
          "base_uri": "https://localhost:8080/",
          "height": 34
        }
      },
      "source": [
        "y2.shape"
      ],
      "execution_count": 22,
      "outputs": [
        {
          "output_type": "execute_result",
          "data": {
            "text/plain": [
              "(49737, 1447)"
            ]
          },
          "metadata": {
            "tags": []
          },
          "execution_count": 22
        }
      ]
    },
    {
      "cell_type": "code",
      "metadata": {
        "id": "vzXCooHoXPTl",
        "colab_type": "code",
        "colab": {}
      },
      "source": [
        "from keras.optimizers import Adam\n",
        "adam = Adam(lr=0.0001)"
      ],
      "execution_count": 0,
      "outputs": []
    },
    {
      "cell_type": "code",
      "metadata": {
        "id": "Z9tCzUC3FqAd",
        "colab_type": "code",
        "outputId": "fb25a459-d542-46f8-b7f7-5c81ab8e304e",
        "colab": {
          "base_uri": "https://localhost:8080/",
          "height": 105
        }
      },
      "source": [
        "model.compile(optimizer=adam, loss='categorical_crossentropy', metrics = ['acc'])"
      ],
      "execution_count": 24,
      "outputs": [
        {
          "output_type": "stream",
          "text": [
            "WARNING:tensorflow:From /usr/local/lib/python3.6/dist-packages/keras/optimizers.py:793: The name tf.train.Optimizer is deprecated. Please use tf.compat.v1.train.Optimizer instead.\n",
            "\n",
            "WARNING:tensorflow:From /usr/local/lib/python3.6/dist-packages/keras/backend/tensorflow_backend.py:3576: The name tf.log is deprecated. Please use tf.math.log instead.\n",
            "\n"
          ],
          "name": "stdout"
        }
      ]
    },
    {
      "cell_type": "code",
      "metadata": {
        "id": "Z55mKOFiC93T",
        "colab_type": "code",
        "colab": {}
      },
      "source": [
        "trainX = np.array(x[:40000])\n",
        "testX = np.array(x[40000:])\n",
        "trainY = np.array(y2[:40000])\n",
        "testY = np.array(y2[40000:])"
      ],
      "execution_count": 0,
      "outputs": []
    },
    {
      "cell_type": "code",
      "metadata": {
        "id": "BKK-4NOYNjTM",
        "colab_type": "code",
        "outputId": "2c48eba7-f260-4f80-8a6a-9fb74142895e",
        "colab": {
          "base_uri": "https://localhost:8080/",
          "height": 34
        }
      },
      "source": [
        "print(trainX.shape,trainY.shape,testX.shape,testY.shape)"
      ],
      "execution_count": 26,
      "outputs": [
        {
          "output_type": "stream",
          "text": [
            "(40000, 5) (40000, 1447) (9737, 5) (9737, 1447)\n"
          ],
          "name": "stdout"
        }
      ]
    },
    {
      "cell_type": "code",
      "metadata": {
        "id": "ebw5Wmr-JRGw",
        "colab_type": "code",
        "outputId": "de261da5-a15d-4cf1-c795-37dc050876f4",
        "colab": {
          "base_uri": "https://localhost:8080/",
          "height": 326
        }
      },
      "source": [
        "model.fit(trainX, trainY, epochs=5, batch_size=32, validation_data=(testX, testY), verbose = 1)"
      ],
      "execution_count": 27,
      "outputs": [
        {
          "output_type": "stream",
          "text": [
            "WARNING:tensorflow:From /usr/local/lib/python3.6/dist-packages/tensorflow/python/ops/math_grad.py:1250: add_dispatch_support.<locals>.wrapper (from tensorflow.python.ops.array_ops) is deprecated and will be removed in a future version.\n",
            "Instructions for updating:\n",
            "Use tf.where in 2.0, which has the same broadcast rule as np.where\n",
            "WARNING:tensorflow:From /usr/local/lib/python3.6/dist-packages/keras/backend/tensorflow_backend.py:1033: The name tf.assign_add is deprecated. Please use tf.compat.v1.assign_add instead.\n",
            "\n",
            "Train on 40000 samples, validate on 9737 samples\n",
            "Epoch 1/5\n",
            "40000/40000 [==============================] - 32s 795us/step - loss: 6.5860 - acc: 0.0069 - val_loss: 6.5376 - val_acc: 0.0085\n",
            "Epoch 2/5\n",
            "40000/40000 [==============================] - 26s 652us/step - loss: 6.4023 - acc: 0.0075 - val_loss: 6.5259 - val_acc: 0.0086\n",
            "Epoch 3/5\n",
            "40000/40000 [==============================] - 26s 655us/step - loss: 6.3730 - acc: 0.0079 - val_loss: 6.4608 - val_acc: 0.0092\n",
            "Epoch 4/5\n",
            "40000/40000 [==============================] - 26s 654us/step - loss: 6.2533 - acc: 0.0099 - val_loss: 6.2915 - val_acc: 0.0120\n",
            "Epoch 5/5\n",
            "40000/40000 [==============================] - 26s 659us/step - loss: 6.1191 - acc: 0.0107 - val_loss: 6.2000 - val_acc: 0.0118\n"
          ],
          "name": "stdout"
        },
        {
          "output_type": "execute_result",
          "data": {
            "text/plain": [
              "<keras.callbacks.History at 0x7ff38cbdc550>"
            ]
          },
          "metadata": {
            "tags": []
          },
          "execution_count": 27
        }
      ]
    },
    {
      "cell_type": "code",
      "metadata": {
        "id": "y_a-HIpAJRME",
        "colab_type": "code",
        "outputId": "909494af-86b8-45da-eab3-3d5c44348296",
        "colab": {
          "base_uri": "https://localhost:8080/",
          "height": 34
        }
      },
      "source": [
        "np.argmax(reversed(np.argsort(model.predict(testX[0].reshape(1,5)),axis=1)==213))"
      ],
      "execution_count": 28,
      "outputs": [
        {
          "output_type": "execute_result",
          "data": {
            "text/plain": [
              "0"
            ]
          },
          "metadata": {
            "tags": []
          },
          "execution_count": 28
        }
      ]
    },
    {
      "cell_type": "code",
      "metadata": {
        "id": "eRN7sVlxar_E",
        "colab_type": "code",
        "colab": {}
      },
      "source": [
        "pred = model.predict(testX)"
      ],
      "execution_count": 0,
      "outputs": []
    },
    {
      "cell_type": "code",
      "metadata": {
        "id": "BmWIcUWccbsU",
        "colab_type": "code",
        "outputId": "6f9999f7-e15a-4a9f-910d-ee3e7e5ee03e",
        "colab": {
          "base_uri": "https://localhost:8080/",
          "height": 34
        }
      },
      "source": [
        "np.argmax(np.argsort(pred[i])[::-1]==np.argmax(testY[i]))"
      ],
      "execution_count": 30,
      "outputs": [
        {
          "output_type": "execute_result",
          "data": {
            "text/plain": [
              "99"
            ]
          },
          "metadata": {
            "tags": []
          },
          "execution_count": 30
        }
      ]
    },
    {
      "cell_type": "code",
      "metadata": {
        "id": "6n0L0cLZawFz",
        "colab_type": "code",
        "colab": {}
      },
      "source": [
        "count = 0\n",
        "for i in range(testX.shape[0]):\n",
        "  rank = np.argmax(np.argsort(pred[i])[::-1]==np.argmax(testY[i]))\n",
        "  if rank<12:\n",
        "    count+=1"
      ],
      "execution_count": 0,
      "outputs": []
    },
    {
      "cell_type": "code",
      "metadata": {
        "id": "yr5B-iBpbJW6",
        "colab_type": "code",
        "outputId": "edb4ae17-6e60-431a-ec85-ae83c75887aa",
        "colab": {
          "base_uri": "https://localhost:8080/",
          "height": 34
        }
      },
      "source": [
        "count/testX.shape[0]"
      ],
      "execution_count": 32,
      "outputs": [
        {
          "output_type": "execute_result",
          "data": {
            "text/plain": [
              "0.10311184142959844"
            ]
          },
          "metadata": {
            "tags": []
          },
          "execution_count": 32
        }
      ]
    },
    {
      "cell_type": "code",
      "metadata": {
        "id": "m_mroObxvjMk",
        "colab_type": "code",
        "outputId": "4de77def-248e-40c5-a2df-52f00db12db0",
        "colab": {
          "base_uri": "https://localhost:8080/",
          "height": 187
        }
      },
      "source": [
        "historically_watched = []\n",
        "x = []\n",
        "y = []\n",
        "for i in range(len(user_list)):\n",
        "  if(i%100 == 0):\n",
        "    print(i)\n",
        "  total_user_movies = movie_count[movie_count['User2']==user_list[i]].copy()\n",
        "  total_user_movies.reset_index(inplace=True)\n",
        "  total_user_movies = total_user_movies.drop(['index'],axis=1)\n",
        "  for j in range(total_user_movies.shape[0]-6):\n",
        "    historically_watched.append(total_user_movies.loc[0:(j+4),'Movies2'].tolist())\n",
        "    x.append(total_user_movies.loc[j:(j+4),'Movies2'].tolist())\n",
        "    y.append(total_user_movies.loc[(j+5),'Movies2'].tolist())"
      ],
      "execution_count": 33,
      "outputs": [
        {
          "output_type": "stream",
          "text": [
            "0\n",
            "100\n",
            "200\n",
            "300\n",
            "400\n",
            "500\n",
            "600\n",
            "700\n",
            "800\n",
            "900\n"
          ],
          "name": "stdout"
        }
      ]
    },
    {
      "cell_type": "code",
      "metadata": {
        "id": "mZvUidfFvjKA",
        "colab_type": "code",
        "colab": {}
      },
      "source": [
        "test_hist = x[40000:]\n",
        "test_historically_watched = historically_watched[40000:]"
      ],
      "execution_count": 0,
      "outputs": []
    },
    {
      "cell_type": "code",
      "metadata": {
        "id": "eCQukHTSwgVg",
        "colab_type": "code",
        "outputId": "7640f9dd-188d-498e-d3fd-457308986b70",
        "colab": {
          "base_uri": "https://localhost:8080/",
          "height": 34
        }
      },
      "source": [
        "testX.shape"
      ],
      "execution_count": 35,
      "outputs": [
        {
          "output_type": "execute_result",
          "data": {
            "text/plain": [
              "(9737, 5)"
            ]
          },
          "metadata": {
            "tags": []
          },
          "execution_count": 35
        }
      ]
    },
    {
      "cell_type": "code",
      "metadata": {
        "id": "1gQVQT7Xx-2d",
        "colab_type": "code",
        "outputId": "d974c075-2d91-45ac-b05e-f1a33efbd92b",
        "colab": {
          "base_uri": "https://localhost:8080/",
          "height": 34
        }
      },
      "source": [
        "pred.shape"
      ],
      "execution_count": 36,
      "outputs": [
        {
          "output_type": "execute_result",
          "data": {
            "text/plain": [
              "(9737, 1447)"
            ]
          },
          "metadata": {
            "tags": []
          },
          "execution_count": 36
        }
      ]
    },
    {
      "cell_type": "code",
      "metadata": {
        "id": "6WlLivf1y36M",
        "colab_type": "code",
        "outputId": "e24854c8-f34d-45d6-a9c7-131f3ae98420",
        "colab": {
          "base_uri": "https://localhost:8080/",
          "height": 34
        }
      },
      "source": [
        "len(test_hist)"
      ],
      "execution_count": 37,
      "outputs": [
        {
          "output_type": "execute_result",
          "data": {
            "text/plain": [
              "9737"
            ]
          },
          "metadata": {
            "tags": []
          },
          "execution_count": 37
        }
      ]
    },
    {
      "cell_type": "code",
      "metadata": {
        "id": "621wgkzExIxz",
        "colab_type": "code",
        "outputId": "8133cd9c-e9a6-429a-fb86-58ddfcd03475",
        "colab": {
          "base_uri": "https://localhost:8080/",
          "height": 1000
        }
      },
      "source": [
        "for j in range(pred.shape[0]):\n",
        "  if(j%100==0):\n",
        "    print(j)\n",
        "  for i in range(pred.shape[1]):\n",
        "    pred[j][i]= np.where(i in test_historically_watched[j], 0 , pred[j][i])"
      ],
      "execution_count": 38,
      "outputs": [
        {
          "output_type": "stream",
          "text": [
            "0\n",
            "100\n",
            "200\n",
            "300\n",
            "400\n",
            "500\n",
            "600\n",
            "700\n",
            "800\n",
            "900\n",
            "1000\n",
            "1100\n",
            "1200\n",
            "1300\n",
            "1400\n",
            "1500\n",
            "1600\n",
            "1700\n",
            "1800\n",
            "1900\n",
            "2000\n",
            "2100\n",
            "2200\n",
            "2300\n",
            "2400\n",
            "2500\n",
            "2600\n",
            "2700\n",
            "2800\n",
            "2900\n",
            "3000\n",
            "3100\n",
            "3200\n",
            "3300\n",
            "3400\n",
            "3500\n",
            "3600\n",
            "3700\n",
            "3800\n",
            "3900\n",
            "4000\n",
            "4100\n",
            "4200\n",
            "4300\n",
            "4400\n",
            "4500\n",
            "4600\n",
            "4700\n",
            "4800\n",
            "4900\n",
            "5000\n",
            "5100\n",
            "5200\n",
            "5300\n",
            "5400\n",
            "5500\n",
            "5600\n",
            "5700\n",
            "5800\n",
            "5900\n",
            "6000\n",
            "6100\n",
            "6200\n",
            "6300\n",
            "6400\n",
            "6500\n",
            "6600\n",
            "6700\n",
            "6800\n",
            "6900\n",
            "7000\n",
            "7100\n",
            "7200\n",
            "7300\n",
            "7400\n",
            "7500\n",
            "7600\n",
            "7700\n",
            "7800\n",
            "7900\n",
            "8000\n",
            "8100\n",
            "8200\n",
            "8300\n",
            "8400\n",
            "8500\n",
            "8600\n",
            "8700\n",
            "8800\n",
            "8900\n",
            "9000\n",
            "9100\n",
            "9200\n",
            "9300\n",
            "9400\n",
            "9500\n",
            "9600\n",
            "9700\n"
          ],
          "name": "stdout"
        }
      ]
    },
    {
      "cell_type": "code",
      "metadata": {
        "id": "EGMR8f1yxuB-",
        "colab_type": "code",
        "colab": {}
      },
      "source": [
        "count = 0\n",
        "for i in range(testX.shape[0]):\n",
        "  rank = np.argmax(np.argsort(pred[i])[::-1]==np.argmax(testY[i]))\n",
        "  if rank<12:\n",
        "    count+=1"
      ],
      "execution_count": 0,
      "outputs": []
    },
    {
      "cell_type": "code",
      "metadata": {
        "id": "zkHxbB4EyWsR",
        "colab_type": "code",
        "outputId": "53e0d8f4-b18b-499a-efd4-502c1f79cf32",
        "colab": {
          "base_uri": "https://localhost:8080/",
          "height": 34
        }
      },
      "source": [
        "count/testX.shape[0]"
      ],
      "execution_count": 40,
      "outputs": [
        {
          "output_type": "execute_result",
          "data": {
            "text/plain": [
              "0.13453835883742427"
            ]
          },
          "metadata": {
            "tags": []
          },
          "execution_count": 40
        }
      ]
    },
    {
      "cell_type": "code",
      "metadata": {
        "id": "6MicCtjpw0ME",
        "colab_type": "code",
        "outputId": "bede6f06-c0a3-4abd-b5fc-1453d03dd1ed",
        "colab": {
          "base_uri": "https://localhost:8080/",
          "height": 34
        }
      },
      "source": [
        "np.mean(pred[:,0])"
      ],
      "execution_count": 41,
      "outputs": [
        {
          "output_type": "execute_result",
          "data": {
            "text/plain": [
              "0.0013303476"
            ]
          },
          "metadata": {
            "tags": []
          },
          "execution_count": 41
        }
      ]
    },
    {
      "cell_type": "code",
      "metadata": {
        "id": "Gjcge6sCvjD6",
        "colab_type": "code",
        "colab": {}
      },
      "source": [
        ""
      ],
      "execution_count": 0,
      "outputs": []
    },
    {
      "cell_type": "code",
      "metadata": {
        "id": "r8p9hTZUg5LH",
        "colab_type": "code",
        "outputId": "107f7531-e3e9-4f2b-8143-a9da6db995a1",
        "colab": {
          "base_uri": "https://localhost:8080/",
          "height": 326
        }
      },
      "source": [
        "!pip install gensim"
      ],
      "execution_count": 42,
      "outputs": [
        {
          "output_type": "stream",
          "text": [
            "Requirement already satisfied: gensim in /usr/local/lib/python3.6/dist-packages (3.6.0)\n",
            "Requirement already satisfied: smart-open>=1.2.1 in /usr/local/lib/python3.6/dist-packages (from gensim) (1.8.4)\n",
            "Requirement already satisfied: scipy>=0.18.1 in /usr/local/lib/python3.6/dist-packages (from gensim) (1.3.1)\n",
            "Requirement already satisfied: numpy>=1.11.3 in /usr/local/lib/python3.6/dist-packages (from gensim) (1.16.5)\n",
            "Requirement already satisfied: six>=1.5.0 in /usr/local/lib/python3.6/dist-packages (from gensim) (1.12.0)\n",
            "Requirement already satisfied: requests in /usr/local/lib/python3.6/dist-packages (from smart-open>=1.2.1->gensim) (2.21.0)\n",
            "Requirement already satisfied: boto3 in /usr/local/lib/python3.6/dist-packages (from smart-open>=1.2.1->gensim) (1.9.236)\n",
            "Requirement already satisfied: boto>=2.32 in /usr/local/lib/python3.6/dist-packages (from smart-open>=1.2.1->gensim) (2.49.0)\n",
            "Requirement already satisfied: urllib3<1.25,>=1.21.1 in /usr/local/lib/python3.6/dist-packages (from requests->smart-open>=1.2.1->gensim) (1.24.3)\n",
            "Requirement already satisfied: idna<2.9,>=2.5 in /usr/local/lib/python3.6/dist-packages (from requests->smart-open>=1.2.1->gensim) (2.8)\n",
            "Requirement already satisfied: chardet<3.1.0,>=3.0.2 in /usr/local/lib/python3.6/dist-packages (from requests->smart-open>=1.2.1->gensim) (3.0.4)\n",
            "Requirement already satisfied: certifi>=2017.4.17 in /usr/local/lib/python3.6/dist-packages (from requests->smart-open>=1.2.1->gensim) (2019.9.11)\n",
            "Requirement already satisfied: jmespath<1.0.0,>=0.7.1 in /usr/local/lib/python3.6/dist-packages (from boto3->smart-open>=1.2.1->gensim) (0.9.4)\n",
            "Requirement already satisfied: botocore<1.13.0,>=1.12.236 in /usr/local/lib/python3.6/dist-packages (from boto3->smart-open>=1.2.1->gensim) (1.12.236)\n",
            "Requirement already satisfied: s3transfer<0.3.0,>=0.2.0 in /usr/local/lib/python3.6/dist-packages (from boto3->smart-open>=1.2.1->gensim) (0.2.1)\n",
            "Requirement already satisfied: docutils<0.16,>=0.10 in /usr/local/lib/python3.6/dist-packages (from botocore<1.13.0,>=1.12.236->boto3->smart-open>=1.2.1->gensim) (0.15.2)\n",
            "Requirement already satisfied: python-dateutil<3.0.0,>=2.1; python_version >= \"2.7\" in /usr/local/lib/python3.6/dist-packages (from botocore<1.13.0,>=1.12.236->boto3->smart-open>=1.2.1->gensim) (2.5.3)\n"
          ],
          "name": "stdout"
        }
      ]
    },
    {
      "cell_type": "code",
      "metadata": {
        "id": "dfTgTYgKNuIG",
        "colab_type": "code",
        "colab": {}
      },
      "source": [
        "import gensim"
      ],
      "execution_count": 0,
      "outputs": []
    },
    {
      "cell_type": "code",
      "metadata": {
        "id": "at4loFEePSWw",
        "colab_type": "code",
        "colab": {}
      },
      "source": [
        "movie_list = movie_count['Movies2'].unique()"
      ],
      "execution_count": 0,
      "outputs": []
    },
    {
      "cell_type": "code",
      "metadata": {
        "id": "-iHQvpH3eXf1",
        "colab_type": "code",
        "colab": {}
      },
      "source": [
        "user_list = movie_count['User2'].unique()"
      ],
      "execution_count": 0,
      "outputs": []
    },
    {
      "cell_type": "code",
      "metadata": {
        "id": "jSBzwbSbOzv6",
        "colab_type": "code",
        "outputId": "1bcbd23c-9d45-474f-ea19-905d6a74ffa6",
        "colab": {
          "base_uri": "https://localhost:8080/",
          "height": 272
        }
      },
      "source": [
        "user_movies = []\n",
        "for i in range(len(movie_list)):\n",
        "  if(i%100 == 0):\n",
        "    print(i)\n",
        "  total_user_movies = movie_count[movie_count['Movies2']==movie_list[i]].copy()\n",
        "  total_user_movies.reset_index(inplace=True)\n",
        "  total_user_movies = total_user_movies.drop(['index'],axis=1)\n",
        "  total_user_movies['User3'] = total_user_movies['User2'].astype(str)\n",
        "  user_movies.append(total_user_movies['User3'].tolist())"
      ],
      "execution_count": 46,
      "outputs": [
        {
          "output_type": "stream",
          "text": [
            "0\n",
            "100\n",
            "200\n",
            "300\n",
            "400\n",
            "500\n",
            "600\n",
            "700\n",
            "800\n",
            "900\n",
            "1000\n",
            "1100\n",
            "1200\n",
            "1300\n",
            "1400\n"
          ],
          "name": "stdout"
        }
      ]
    },
    {
      "cell_type": "code",
      "metadata": {
        "id": "0TZ5iwHCOEDR",
        "colab_type": "code",
        "colab": {}
      },
      "source": [
        "user_movies = []\n",
        "for i in range(len(user_list)):\n",
        "  total_user_movies = movie_count[movie_count['User2']==user_list[i]].copy()\n",
        "  total_user_movies.reset_index(inplace=True)\n",
        "  total_user_movies = total_user_movies.drop(['index'],axis=1)\n",
        "  total_user_movies['Movies3'] = total_user_movies['Movies2'].astype(str)\n",
        "  user_movies.append(total_user_movies['Movies3'].tolist())"
      ],
      "execution_count": 0,
      "outputs": []
    },
    {
      "cell_type": "code",
      "metadata": {
        "id": "fQt2oCQQQI0Y",
        "colab_type": "code",
        "outputId": "4ab42538-6a14-409c-967d-ce2450d8e2c5",
        "colab": {
          "base_uri": "https://localhost:8080/",
          "height": 34
        }
      },
      "source": [
        "len(user_movies)"
      ],
      "execution_count": 48,
      "outputs": [
        {
          "output_type": "execute_result",
          "data": {
            "text/plain": [
              "934"
            ]
          },
          "metadata": {
            "tags": []
          },
          "execution_count": 48
        }
      ]
    },
    {
      "cell_type": "code",
      "metadata": {
        "id": "DtE8cCYcN8Wp",
        "colab_type": "code",
        "colab": {}
      },
      "source": [
        "from gensim.models import Word2Vec\n",
        "w2v_model = Word2Vec(user_movies,size=100,window=5,min_count=5, iter = 500)"
      ],
      "execution_count": 0,
      "outputs": []
    },
    {
      "cell_type": "code",
      "metadata": {
        "id": "JNVWhvu-N8Tp",
        "colab_type": "code",
        "outputId": "b0cb2b69-5ec3-4a63-a405-cb4fa0dc2903",
        "colab": {
          "base_uri": "https://localhost:8080/",
          "height": 88
        }
      },
      "source": [
        "w2v_model.wv.syn0.shape"
      ],
      "execution_count": 50,
      "outputs": [
        {
          "output_type": "stream",
          "text": [
            "/usr/local/lib/python3.6/dist-packages/ipykernel_launcher.py:1: DeprecationWarning: Call to deprecated `syn0` (Attribute will be removed in 4.0.0, use self.wv.vectors instead).\n",
            "  \"\"\"Entry point for launching an IPython kernel.\n"
          ],
          "name": "stderr"
        },
        {
          "output_type": "execute_result",
          "data": {
            "text/plain": [
              "(1008, 100)"
            ]
          },
          "metadata": {
            "tags": []
          },
          "execution_count": 50
        }
      ]
    },
    {
      "cell_type": "code",
      "metadata": {
        "id": "bLgy18FxN8Qr",
        "colab_type": "code",
        "outputId": "2fb2ec3d-259d-4a67-a869-7853c1597272",
        "colab": {
          "base_uri": "https://localhost:8080/",
          "height": 207
        }
      },
      "source": [
        "from sklearn.manifold import TSNE\n",
        "tsne_model = TSNE(n_components=2, verbose=1, random_state=0)\n",
        "tsne_img_label = tsne_model.fit_transform(w2v_model.wv.syn0)\n",
        "tsne_df = pd.DataFrame(tsne_img_label, columns=['x', 'y'])\n"
      ],
      "execution_count": 51,
      "outputs": [
        {
          "output_type": "stream",
          "text": [
            "/usr/local/lib/python3.6/dist-packages/ipykernel_launcher.py:3: DeprecationWarning: Call to deprecated `syn0` (Attribute will be removed in 4.0.0, use self.wv.vectors instead).\n",
            "  This is separate from the ipykernel package so we can avoid doing imports until\n"
          ],
          "name": "stderr"
        },
        {
          "output_type": "stream",
          "text": [
            "[t-SNE] Computing 91 nearest neighbors...\n",
            "[t-SNE] Indexed 1008 samples in 0.004s...\n",
            "[t-SNE] Computed neighbors for 1008 samples in 0.236s...\n",
            "[t-SNE] Computed conditional probabilities for sample 1000 / 1008\n",
            "[t-SNE] Computed conditional probabilities for sample 1008 / 1008\n",
            "[t-SNE] Mean sigma: 6.455657\n",
            "[t-SNE] KL divergence after 250 iterations with early exaggeration: 126.498222\n",
            "[t-SNE] KL divergence after 1000 iterations: 2.229942\n"
          ],
          "name": "stdout"
        }
      ]
    },
    {
      "cell_type": "code",
      "metadata": {
        "id": "Z_PKxOjwS5ND",
        "colab_type": "code",
        "colab": {}
      },
      "source": [
        "tsne_df['image_label'] = list(w2v_model.wv.vocab.keys())"
      ],
      "execution_count": 0,
      "outputs": []
    },
    {
      "cell_type": "code",
      "metadata": {
        "id": "c0VY4_X_rtHS",
        "colab_type": "code",
        "colab": {
          "base_uri": "https://localhost:8080/",
          "height": 204
        },
        "outputId": "a4000a25-c20e-432f-a70c-3226e2be1e1a"
      },
      "source": [
        "tsne_df.head()"
      ],
      "execution_count": 54,
      "outputs": [
        {
          "output_type": "execute_result",
          "data": {
            "text/html": [
              "<div>\n",
              "<style scoped>\n",
              "    .dataframe tbody tr th:only-of-type {\n",
              "        vertical-align: middle;\n",
              "    }\n",
              "\n",
              "    .dataframe tbody tr th {\n",
              "        vertical-align: top;\n",
              "    }\n",
              "\n",
              "    .dataframe thead th {\n",
              "        text-align: right;\n",
              "    }\n",
              "</style>\n",
              "<table border=\"1\" class=\"dataframe\">\n",
              "  <thead>\n",
              "    <tr style=\"text-align: right;\">\n",
              "      <th></th>\n",
              "      <th>x</th>\n",
              "      <th>y</th>\n",
              "      <th>image_label</th>\n",
              "    </tr>\n",
              "  </thead>\n",
              "  <tbody>\n",
              "    <tr>\n",
              "      <th>0</th>\n",
              "      <td>3.626514</td>\n",
              "      <td>-1.835943</td>\n",
              "      <td>0</td>\n",
              "    </tr>\n",
              "    <tr>\n",
              "      <th>1</th>\n",
              "      <td>3.221222</td>\n",
              "      <td>-1.979085</td>\n",
              "      <td>1</td>\n",
              "    </tr>\n",
              "    <tr>\n",
              "      <th>2</th>\n",
              "      <td>3.836137</td>\n",
              "      <td>-1.852223</td>\n",
              "      <td>2</td>\n",
              "    </tr>\n",
              "    <tr>\n",
              "      <th>3</th>\n",
              "      <td>3.169300</td>\n",
              "      <td>-2.095436</td>\n",
              "      <td>3</td>\n",
              "    </tr>\n",
              "    <tr>\n",
              "      <th>4</th>\n",
              "      <td>-4.438925</td>\n",
              "      <td>-4.112025</td>\n",
              "      <td>4</td>\n",
              "    </tr>\n",
              "  </tbody>\n",
              "</table>\n",
              "</div>"
            ],
            "text/plain": [
              "          x         y image_label\n",
              "0  3.626514 -1.835943           0\n",
              "1  3.221222 -1.979085           1\n",
              "2  3.836137 -1.852223           2\n",
              "3  3.169300 -2.095436           3\n",
              "4 -4.438925 -4.112025           4"
            ]
          },
          "metadata": {
            "tags": []
          },
          "execution_count": 54
        }
      ]
    },
    {
      "cell_type": "code",
      "metadata": {
        "id": "-GJHIaJcjnV3",
        "colab_type": "code",
        "outputId": "f1666582-bf57-4c15-88c8-2ec0b2839f07",
        "colab": {
          "base_uri": "https://localhost:8080/",
          "height": 204
        }
      },
      "source": [
        "idx2movie = pd.DataFrame([idx2moviesid.keys(), idx2moviesid.values()]).T\n",
        "idx2movie.columns = ['image_label','movieId']\n",
        "idx2movie.head()"
      ],
      "execution_count": 57,
      "outputs": [
        {
          "output_type": "execute_result",
          "data": {
            "text/html": [
              "<div>\n",
              "<style scoped>\n",
              "    .dataframe tbody tr th:only-of-type {\n",
              "        vertical-align: middle;\n",
              "    }\n",
              "\n",
              "    .dataframe tbody tr th {\n",
              "        vertical-align: top;\n",
              "    }\n",
              "\n",
              "    .dataframe thead th {\n",
              "        text-align: right;\n",
              "    }\n",
              "</style>\n",
              "<table border=\"1\" class=\"dataframe\">\n",
              "  <thead>\n",
              "    <tr style=\"text-align: right;\">\n",
              "      <th></th>\n",
              "      <th>image_label</th>\n",
              "      <th>movieId</th>\n",
              "    </tr>\n",
              "  </thead>\n",
              "  <tbody>\n",
              "    <tr>\n",
              "      <th>0</th>\n",
              "      <td>0</td>\n",
              "      <td>255</td>\n",
              "    </tr>\n",
              "    <tr>\n",
              "      <th>1</th>\n",
              "      <td>1</td>\n",
              "      <td>286</td>\n",
              "    </tr>\n",
              "    <tr>\n",
              "      <th>2</th>\n",
              "      <td>2</td>\n",
              "      <td>298</td>\n",
              "    </tr>\n",
              "    <tr>\n",
              "      <th>3</th>\n",
              "      <td>3</td>\n",
              "      <td>185</td>\n",
              "    </tr>\n",
              "    <tr>\n",
              "      <th>4</th>\n",
              "      <td>4</td>\n",
              "      <td>173</td>\n",
              "    </tr>\n",
              "  </tbody>\n",
              "</table>\n",
              "</div>"
            ],
            "text/plain": [
              "   image_label  movieId\n",
              "0            0      255\n",
              "1            1      286\n",
              "2            2      298\n",
              "3            3      185\n",
              "4            4      173"
            ]
          },
          "metadata": {
            "tags": []
          },
          "execution_count": 57
        }
      ]
    },
    {
      "cell_type": "code",
      "metadata": {
        "id": "nInbIz-dXsG3",
        "colab_type": "code",
        "colab": {}
      },
      "source": [
        "tsne_df['image_label'] = tsne_df['image_label'].astype(int)"
      ],
      "execution_count": 0,
      "outputs": []
    },
    {
      "cell_type": "code",
      "metadata": {
        "id": "9qYu2IjfXl0Q",
        "colab_type": "code",
        "outputId": "4b3432f9-d904-4101-bf42-93a8f6e51cca",
        "colab": {
          "base_uri": "https://localhost:8080/",
          "height": 204
        }
      },
      "source": [
        "tsne_df.head()"
      ],
      "execution_count": 59,
      "outputs": [
        {
          "output_type": "execute_result",
          "data": {
            "text/html": [
              "<div>\n",
              "<style scoped>\n",
              "    .dataframe tbody tr th:only-of-type {\n",
              "        vertical-align: middle;\n",
              "    }\n",
              "\n",
              "    .dataframe tbody tr th {\n",
              "        vertical-align: top;\n",
              "    }\n",
              "\n",
              "    .dataframe thead th {\n",
              "        text-align: right;\n",
              "    }\n",
              "</style>\n",
              "<table border=\"1\" class=\"dataframe\">\n",
              "  <thead>\n",
              "    <tr style=\"text-align: right;\">\n",
              "      <th></th>\n",
              "      <th>x</th>\n",
              "      <th>y</th>\n",
              "      <th>image_label</th>\n",
              "    </tr>\n",
              "  </thead>\n",
              "  <tbody>\n",
              "    <tr>\n",
              "      <th>0</th>\n",
              "      <td>3.626514</td>\n",
              "      <td>-1.835943</td>\n",
              "      <td>0</td>\n",
              "    </tr>\n",
              "    <tr>\n",
              "      <th>1</th>\n",
              "      <td>3.221222</td>\n",
              "      <td>-1.979085</td>\n",
              "      <td>1</td>\n",
              "    </tr>\n",
              "    <tr>\n",
              "      <th>2</th>\n",
              "      <td>3.836137</td>\n",
              "      <td>-1.852223</td>\n",
              "      <td>2</td>\n",
              "    </tr>\n",
              "    <tr>\n",
              "      <th>3</th>\n",
              "      <td>3.169300</td>\n",
              "      <td>-2.095436</td>\n",
              "      <td>3</td>\n",
              "    </tr>\n",
              "    <tr>\n",
              "      <th>4</th>\n",
              "      <td>-4.438925</td>\n",
              "      <td>-4.112025</td>\n",
              "      <td>4</td>\n",
              "    </tr>\n",
              "  </tbody>\n",
              "</table>\n",
              "</div>"
            ],
            "text/plain": [
              "          x         y  image_label\n",
              "0  3.626514 -1.835943            0\n",
              "1  3.221222 -1.979085            1\n",
              "2  3.836137 -1.852223            2\n",
              "3  3.169300 -2.095436            3\n",
              "4 -4.438925 -4.112025            4"
            ]
          },
          "metadata": {
            "tags": []
          },
          "execution_count": 59
        }
      ]
    },
    {
      "cell_type": "code",
      "metadata": {
        "id": "_-UZiQSBk9Qi",
        "colab_type": "code",
        "outputId": "7c1dc2b4-4ca6-4223-da8f-b25a3b121823",
        "colab": {
          "base_uri": "https://localhost:8080/",
          "height": 204
        }
      },
      "source": [
        "tsne_df2 = pd.merge(tsne_df, idx2movie, on='image_label', how='right')\n",
        "tsne_df2.head()"
      ],
      "execution_count": 60,
      "outputs": [
        {
          "output_type": "execute_result",
          "data": {
            "text/html": [
              "<div>\n",
              "<style scoped>\n",
              "    .dataframe tbody tr th:only-of-type {\n",
              "        vertical-align: middle;\n",
              "    }\n",
              "\n",
              "    .dataframe tbody tr th {\n",
              "        vertical-align: top;\n",
              "    }\n",
              "\n",
              "    .dataframe thead th {\n",
              "        text-align: right;\n",
              "    }\n",
              "</style>\n",
              "<table border=\"1\" class=\"dataframe\">\n",
              "  <thead>\n",
              "    <tr style=\"text-align: right;\">\n",
              "      <th></th>\n",
              "      <th>x</th>\n",
              "      <th>y</th>\n",
              "      <th>image_label</th>\n",
              "      <th>movieId</th>\n",
              "    </tr>\n",
              "  </thead>\n",
              "  <tbody>\n",
              "    <tr>\n",
              "      <th>0</th>\n",
              "      <td>3.626514</td>\n",
              "      <td>-1.835943</td>\n",
              "      <td>0</td>\n",
              "      <td>255</td>\n",
              "    </tr>\n",
              "    <tr>\n",
              "      <th>1</th>\n",
              "      <td>3.221222</td>\n",
              "      <td>-1.979085</td>\n",
              "      <td>1</td>\n",
              "      <td>286</td>\n",
              "    </tr>\n",
              "    <tr>\n",
              "      <th>2</th>\n",
              "      <td>3.836137</td>\n",
              "      <td>-1.852223</td>\n",
              "      <td>2</td>\n",
              "      <td>298</td>\n",
              "    </tr>\n",
              "    <tr>\n",
              "      <th>3</th>\n",
              "      <td>3.169300</td>\n",
              "      <td>-2.095436</td>\n",
              "      <td>3</td>\n",
              "      <td>185</td>\n",
              "    </tr>\n",
              "    <tr>\n",
              "      <th>4</th>\n",
              "      <td>-4.438925</td>\n",
              "      <td>-4.112025</td>\n",
              "      <td>4</td>\n",
              "      <td>173</td>\n",
              "    </tr>\n",
              "  </tbody>\n",
              "</table>\n",
              "</div>"
            ],
            "text/plain": [
              "          x         y  image_label  movieId\n",
              "0  3.626514 -1.835943            0      255\n",
              "1  3.221222 -1.979085            1      286\n",
              "2  3.836137 -1.852223            2      298\n",
              "3  3.169300 -2.095436            3      185\n",
              "4 -4.438925 -4.112025            4      173"
            ]
          },
          "metadata": {
            "tags": []
          },
          "execution_count": 60
        }
      ]
    },
    {
      "cell_type": "code",
      "metadata": {
        "id": "YFVyprWrsRHV",
        "colab_type": "code",
        "colab": {
          "base_uri": "https://localhost:8080/",
          "height": 34
        },
        "outputId": "54f5451a-a002-4fa9-909e-fd711c83feb0"
      },
      "source": [
        "cd ml-100k"
      ],
      "execution_count": 65,
      "outputs": [
        {
          "output_type": "stream",
          "text": [
            "/content/ml-100k\n"
          ],
          "name": "stdout"
        }
      ]
    },
    {
      "cell_type": "code",
      "metadata": {
        "id": "4gegQ3AisXXI",
        "colab_type": "code",
        "colab": {
          "base_uri": "https://localhost:8080/",
          "height": 68
        },
        "outputId": "a1ee728a-6b17-4fa1-9aad-ad83731f4ce1"
      },
      "source": [
        "!ls"
      ],
      "execution_count": 66,
      "outputs": [
        {
          "output_type": "stream",
          "text": [
            "allbut.pl  u1.base  u2.test  u4.base  u5.test  ub.base\tu.genre  u.occupation\n",
            "mku.sh\t   u1.test  u3.base  u4.test  ua.base  ub.test\tu.info\t u.user\n",
            "README\t   u2.base  u3.test  u5.base  ua.test  u.data\tu.item\n"
          ],
          "name": "stdout"
        }
      ]
    },
    {
      "cell_type": "code",
      "metadata": {
        "id": "GjAKK4MzlPX6",
        "colab_type": "code",
        "colab": {}
      },
      "source": [
        "movies = pd.read_csv('/content/ml-100k/u.item', sep='|',encoding='latin1',header=None, engine='python')  # Path to movies file. May need to specify the filename here"
      ],
      "execution_count": 0,
      "outputs": []
    },
    {
      "cell_type": "code",
      "metadata": {
        "id": "26XUZzCunIRN",
        "colab_type": "code",
        "colab": {}
      },
      "source": [
        "tsne_df3 = pd.merge(tsne_df2, movies, left_on='movieId', right_on = 0, how='inner')"
      ],
      "execution_count": 0,
      "outputs": []
    },
    {
      "cell_type": "code",
      "metadata": {
        "id": "8zzRwuLVlPhf",
        "colab_type": "code",
        "colab": {
          "base_uri": "https://localhost:8080/",
          "height": 445
        },
        "outputId": "7807f42f-b97e-4f37-cd3b-5aad81653ed1"
      },
      "source": [
        "tsne_df3.head()"
      ],
      "execution_count": 69,
      "outputs": [
        {
          "output_type": "execute_result",
          "data": {
            "text/html": [
              "<div>\n",
              "<style scoped>\n",
              "    .dataframe tbody tr th:only-of-type {\n",
              "        vertical-align: middle;\n",
              "    }\n",
              "\n",
              "    .dataframe tbody tr th {\n",
              "        vertical-align: top;\n",
              "    }\n",
              "\n",
              "    .dataframe thead th {\n",
              "        text-align: right;\n",
              "    }\n",
              "</style>\n",
              "<table border=\"1\" class=\"dataframe\">\n",
              "  <thead>\n",
              "    <tr style=\"text-align: right;\">\n",
              "      <th></th>\n",
              "      <th>x</th>\n",
              "      <th>y</th>\n",
              "      <th>image_label</th>\n",
              "      <th>movieId</th>\n",
              "      <th>0</th>\n",
              "      <th>1</th>\n",
              "      <th>2</th>\n",
              "      <th>3</th>\n",
              "      <th>4</th>\n",
              "      <th>5</th>\n",
              "      <th>6</th>\n",
              "      <th>7</th>\n",
              "      <th>8</th>\n",
              "      <th>9</th>\n",
              "      <th>10</th>\n",
              "      <th>11</th>\n",
              "      <th>12</th>\n",
              "      <th>13</th>\n",
              "      <th>14</th>\n",
              "      <th>15</th>\n",
              "      <th>16</th>\n",
              "      <th>17</th>\n",
              "      <th>18</th>\n",
              "      <th>19</th>\n",
              "      <th>20</th>\n",
              "      <th>21</th>\n",
              "      <th>22</th>\n",
              "      <th>23</th>\n",
              "    </tr>\n",
              "  </thead>\n",
              "  <tbody>\n",
              "    <tr>\n",
              "      <th>0</th>\n",
              "      <td>3.626514</td>\n",
              "      <td>-1.835943</td>\n",
              "      <td>0</td>\n",
              "      <td>255</td>\n",
              "      <td>255</td>\n",
              "      <td>My Best Friend's Wedding (1997)</td>\n",
              "      <td>20-Jun-1997</td>\n",
              "      <td>NaN</td>\n",
              "      <td>http://us.imdb.com/M/title-exact?My+Best+Frien...</td>\n",
              "      <td>0</td>\n",
              "      <td>0</td>\n",
              "      <td>0</td>\n",
              "      <td>0</td>\n",
              "      <td>0</td>\n",
              "      <td>1</td>\n",
              "      <td>0</td>\n",
              "      <td>0</td>\n",
              "      <td>0</td>\n",
              "      <td>0</td>\n",
              "      <td>0</td>\n",
              "      <td>0</td>\n",
              "      <td>0</td>\n",
              "      <td>0</td>\n",
              "      <td>1</td>\n",
              "      <td>0</td>\n",
              "      <td>0</td>\n",
              "      <td>0</td>\n",
              "      <td>0</td>\n",
              "    </tr>\n",
              "    <tr>\n",
              "      <th>1</th>\n",
              "      <td>3.221222</td>\n",
              "      <td>-1.979085</td>\n",
              "      <td>1</td>\n",
              "      <td>286</td>\n",
              "      <td>286</td>\n",
              "      <td>English Patient, The (1996)</td>\n",
              "      <td>15-Nov-1996</td>\n",
              "      <td>NaN</td>\n",
              "      <td>http://us.imdb.com/M/title-exact?English%20Pat...</td>\n",
              "      <td>0</td>\n",
              "      <td>0</td>\n",
              "      <td>0</td>\n",
              "      <td>0</td>\n",
              "      <td>0</td>\n",
              "      <td>0</td>\n",
              "      <td>0</td>\n",
              "      <td>0</td>\n",
              "      <td>1</td>\n",
              "      <td>0</td>\n",
              "      <td>0</td>\n",
              "      <td>0</td>\n",
              "      <td>0</td>\n",
              "      <td>0</td>\n",
              "      <td>1</td>\n",
              "      <td>0</td>\n",
              "      <td>0</td>\n",
              "      <td>1</td>\n",
              "      <td>0</td>\n",
              "    </tr>\n",
              "    <tr>\n",
              "      <th>2</th>\n",
              "      <td>3.836137</td>\n",
              "      <td>-1.852223</td>\n",
              "      <td>2</td>\n",
              "      <td>298</td>\n",
              "      <td>298</td>\n",
              "      <td>Face/Off (1997)</td>\n",
              "      <td>27-Jun-1997</td>\n",
              "      <td>NaN</td>\n",
              "      <td>http://us.imdb.com/M/title-exact?Face/Off+(1997)</td>\n",
              "      <td>0</td>\n",
              "      <td>1</td>\n",
              "      <td>0</td>\n",
              "      <td>0</td>\n",
              "      <td>0</td>\n",
              "      <td>0</td>\n",
              "      <td>0</td>\n",
              "      <td>0</td>\n",
              "      <td>0</td>\n",
              "      <td>0</td>\n",
              "      <td>0</td>\n",
              "      <td>0</td>\n",
              "      <td>0</td>\n",
              "      <td>0</td>\n",
              "      <td>0</td>\n",
              "      <td>1</td>\n",
              "      <td>1</td>\n",
              "      <td>0</td>\n",
              "      <td>0</td>\n",
              "    </tr>\n",
              "    <tr>\n",
              "      <th>3</th>\n",
              "      <td>3.169300</td>\n",
              "      <td>-2.095436</td>\n",
              "      <td>3</td>\n",
              "      <td>185</td>\n",
              "      <td>185</td>\n",
              "      <td>Psycho (1960)</td>\n",
              "      <td>01-Jan-1960</td>\n",
              "      <td>NaN</td>\n",
              "      <td>http://us.imdb.com/M/title-exact?Psycho%20(1960)</td>\n",
              "      <td>0</td>\n",
              "      <td>0</td>\n",
              "      <td>0</td>\n",
              "      <td>0</td>\n",
              "      <td>0</td>\n",
              "      <td>0</td>\n",
              "      <td>0</td>\n",
              "      <td>0</td>\n",
              "      <td>0</td>\n",
              "      <td>0</td>\n",
              "      <td>0</td>\n",
              "      <td>1</td>\n",
              "      <td>0</td>\n",
              "      <td>0</td>\n",
              "      <td>1</td>\n",
              "      <td>0</td>\n",
              "      <td>1</td>\n",
              "      <td>0</td>\n",
              "      <td>0</td>\n",
              "    </tr>\n",
              "    <tr>\n",
              "      <th>4</th>\n",
              "      <td>-4.438925</td>\n",
              "      <td>-4.112025</td>\n",
              "      <td>4</td>\n",
              "      <td>173</td>\n",
              "      <td>173</td>\n",
              "      <td>Princess Bride, The (1987)</td>\n",
              "      <td>01-Jan-1987</td>\n",
              "      <td>NaN</td>\n",
              "      <td>http://us.imdb.com/M/title-exact?Princess%20Br...</td>\n",
              "      <td>0</td>\n",
              "      <td>1</td>\n",
              "      <td>1</td>\n",
              "      <td>0</td>\n",
              "      <td>0</td>\n",
              "      <td>1</td>\n",
              "      <td>0</td>\n",
              "      <td>0</td>\n",
              "      <td>0</td>\n",
              "      <td>0</td>\n",
              "      <td>0</td>\n",
              "      <td>0</td>\n",
              "      <td>0</td>\n",
              "      <td>0</td>\n",
              "      <td>1</td>\n",
              "      <td>0</td>\n",
              "      <td>0</td>\n",
              "      <td>0</td>\n",
              "      <td>0</td>\n",
              "    </tr>\n",
              "  </tbody>\n",
              "</table>\n",
              "</div>"
            ],
            "text/plain": [
              "          x         y  image_label  movieId    0  ... 19 20  21 22  23\n",
              "0  3.626514 -1.835943            0      255  255  ...  1  0   0  0   0\n",
              "1  3.221222 -1.979085            1      286  286  ...  1  0   0  1   0\n",
              "2  3.836137 -1.852223            2      298  298  ...  0  1   1  0   0\n",
              "3  3.169300 -2.095436            3      185  185  ...  1  0   1  0   0\n",
              "4 -4.438925 -4.112025            4      173  173  ...  1  0   0  0   0\n",
              "\n",
              "[5 rows x 28 columns]"
            ]
          },
          "metadata": {
            "tags": []
          },
          "execution_count": 69
        }
      ]
    },
    {
      "cell_type": "code",
      "metadata": {
        "id": "C9MpSl3_o_YL",
        "colab_type": "code",
        "colab": {
          "base_uri": "https://localhost:8080/",
          "height": 34
        },
        "outputId": "62ef9f4d-08a2-4f9a-d92b-fdd5b6ce7ff5"
      },
      "source": [
        "tsne_df3.shape"
      ],
      "execution_count": 71,
      "outputs": [
        {
          "output_type": "execute_result",
          "data": {
            "text/plain": [
              "(1447, 28)"
            ]
          },
          "metadata": {
            "tags": []
          },
          "execution_count": 71
        }
      ]
    },
    {
      "cell_type": "code",
      "metadata": {
        "id": "YkG6BBHAn5gS",
        "colab_type": "code",
        "colab": {}
      },
      "source": [
        "tsne_df4 = tsne_df3.drop([2,3,4],axis=1)"
      ],
      "execution_count": 0,
      "outputs": []
    },
    {
      "cell_type": "code",
      "metadata": {
        "id": "CQyruOgRpl-6",
        "colab_type": "code",
        "colab": {}
      },
      "source": [
        "tsne_df4.rename(columns={1:'movie_name'}, inplace=True)"
      ],
      "execution_count": 0,
      "outputs": []
    },
    {
      "cell_type": "code",
      "metadata": {
        "id": "G5rYp9wcYJWn",
        "colab_type": "code",
        "colab": {
          "base_uri": "https://localhost:8080/",
          "height": 317
        },
        "outputId": "cfa0ff1c-4f9d-41d0-9c32-3f55c9b3cd7f"
      },
      "source": [
        "tsne_df4.describe()"
      ],
      "execution_count": 74,
      "outputs": [
        {
          "output_type": "execute_result",
          "data": {
            "text/html": [
              "<div>\n",
              "<style scoped>\n",
              "    .dataframe tbody tr th:only-of-type {\n",
              "        vertical-align: middle;\n",
              "    }\n",
              "\n",
              "    .dataframe tbody tr th {\n",
              "        vertical-align: top;\n",
              "    }\n",
              "\n",
              "    .dataframe thead th {\n",
              "        text-align: right;\n",
              "    }\n",
              "</style>\n",
              "<table border=\"1\" class=\"dataframe\">\n",
              "  <thead>\n",
              "    <tr style=\"text-align: right;\">\n",
              "      <th></th>\n",
              "      <th>x</th>\n",
              "      <th>y</th>\n",
              "      <th>image_label</th>\n",
              "      <th>movieId</th>\n",
              "      <th>0</th>\n",
              "      <th>5</th>\n",
              "      <th>6</th>\n",
              "      <th>7</th>\n",
              "      <th>8</th>\n",
              "      <th>9</th>\n",
              "      <th>10</th>\n",
              "      <th>11</th>\n",
              "      <th>12</th>\n",
              "      <th>13</th>\n",
              "      <th>14</th>\n",
              "      <th>15</th>\n",
              "      <th>16</th>\n",
              "      <th>17</th>\n",
              "      <th>18</th>\n",
              "      <th>19</th>\n",
              "      <th>20</th>\n",
              "      <th>21</th>\n",
              "      <th>22</th>\n",
              "      <th>23</th>\n",
              "    </tr>\n",
              "  </thead>\n",
              "  <tbody>\n",
              "    <tr>\n",
              "      <th>count</th>\n",
              "      <td>1008.000000</td>\n",
              "      <td>1008.000000</td>\n",
              "      <td>1447.000000</td>\n",
              "      <td>1447.000000</td>\n",
              "      <td>1447.000000</td>\n",
              "      <td>1447.000000</td>\n",
              "      <td>1447.000000</td>\n",
              "      <td>1447.000000</td>\n",
              "      <td>1447.000000</td>\n",
              "      <td>1447.000000</td>\n",
              "      <td>1447.000000</td>\n",
              "      <td>1447.000000</td>\n",
              "      <td>1447.000000</td>\n",
              "      <td>1447.000000</td>\n",
              "      <td>1447.000000</td>\n",
              "      <td>1447.000000</td>\n",
              "      <td>1447.000000</td>\n",
              "      <td>1447.000000</td>\n",
              "      <td>1447.000000</td>\n",
              "      <td>1447.000000</td>\n",
              "      <td>1447.000000</td>\n",
              "      <td>1447.000000</td>\n",
              "      <td>1447.000000</td>\n",
              "      <td>1447.000000</td>\n",
              "    </tr>\n",
              "    <tr>\n",
              "      <th>mean</th>\n",
              "      <td>-0.502731</td>\n",
              "      <td>0.447677</td>\n",
              "      <td>723.000000</td>\n",
              "      <td>755.094679</td>\n",
              "      <td>755.094679</td>\n",
              "      <td>0.000691</td>\n",
              "      <td>0.154803</td>\n",
              "      <td>0.090532</td>\n",
              "      <td>0.026952</td>\n",
              "      <td>0.078784</td>\n",
              "      <td>0.304768</td>\n",
              "      <td>0.064962</td>\n",
              "      <td>0.026952</td>\n",
              "      <td>0.422944</td>\n",
              "      <td>0.012440</td>\n",
              "      <td>0.014513</td>\n",
              "      <td>0.054596</td>\n",
              "      <td>0.038010</td>\n",
              "      <td>0.040083</td>\n",
              "      <td>0.155494</td>\n",
              "      <td>0.067035</td>\n",
              "      <td>0.155494</td>\n",
              "      <td>0.045612</td>\n",
              "      <td>0.016586</td>\n",
              "    </tr>\n",
              "    <tr>\n",
              "      <th>std</th>\n",
              "      <td>3.322841</td>\n",
              "      <td>3.812505</td>\n",
              "      <td>417.857232</td>\n",
              "      <td>452.835833</td>\n",
              "      <td>452.835833</td>\n",
              "      <td>0.026288</td>\n",
              "      <td>0.361842</td>\n",
              "      <td>0.287042</td>\n",
              "      <td>0.162000</td>\n",
              "      <td>0.269494</td>\n",
              "      <td>0.460468</td>\n",
              "      <td>0.246544</td>\n",
              "      <td>0.162000</td>\n",
              "      <td>0.494197</td>\n",
              "      <td>0.110875</td>\n",
              "      <td>0.119633</td>\n",
              "      <td>0.227268</td>\n",
              "      <td>0.191286</td>\n",
              "      <td>0.196222</td>\n",
              "      <td>0.362500</td>\n",
              "      <td>0.250169</td>\n",
              "      <td>0.362500</td>\n",
              "      <td>0.208713</td>\n",
              "      <td>0.127758</td>\n",
              "    </tr>\n",
              "    <tr>\n",
              "      <th>min</th>\n",
              "      <td>-7.975515</td>\n",
              "      <td>-7.783763</td>\n",
              "      <td>0.000000</td>\n",
              "      <td>1.000000</td>\n",
              "      <td>1.000000</td>\n",
              "      <td>0.000000</td>\n",
              "      <td>0.000000</td>\n",
              "      <td>0.000000</td>\n",
              "      <td>0.000000</td>\n",
              "      <td>0.000000</td>\n",
              "      <td>0.000000</td>\n",
              "      <td>0.000000</td>\n",
              "      <td>0.000000</td>\n",
              "      <td>0.000000</td>\n",
              "      <td>0.000000</td>\n",
              "      <td>0.000000</td>\n",
              "      <td>0.000000</td>\n",
              "      <td>0.000000</td>\n",
              "      <td>0.000000</td>\n",
              "      <td>0.000000</td>\n",
              "      <td>0.000000</td>\n",
              "      <td>0.000000</td>\n",
              "      <td>0.000000</td>\n",
              "      <td>0.000000</td>\n",
              "    </tr>\n",
              "    <tr>\n",
              "      <th>25%</th>\n",
              "      <td>-3.306313</td>\n",
              "      <td>-2.781320</td>\n",
              "      <td>361.500000</td>\n",
              "      <td>365.500000</td>\n",
              "      <td>365.500000</td>\n",
              "      <td>0.000000</td>\n",
              "      <td>0.000000</td>\n",
              "      <td>0.000000</td>\n",
              "      <td>0.000000</td>\n",
              "      <td>0.000000</td>\n",
              "      <td>0.000000</td>\n",
              "      <td>0.000000</td>\n",
              "      <td>0.000000</td>\n",
              "      <td>0.000000</td>\n",
              "      <td>0.000000</td>\n",
              "      <td>0.000000</td>\n",
              "      <td>0.000000</td>\n",
              "      <td>0.000000</td>\n",
              "      <td>0.000000</td>\n",
              "      <td>0.000000</td>\n",
              "      <td>0.000000</td>\n",
              "      <td>0.000000</td>\n",
              "      <td>0.000000</td>\n",
              "      <td>0.000000</td>\n",
              "    </tr>\n",
              "    <tr>\n",
              "      <th>50%</th>\n",
              "      <td>-0.426186</td>\n",
              "      <td>0.746419</td>\n",
              "      <td>723.000000</td>\n",
              "      <td>737.000000</td>\n",
              "      <td>737.000000</td>\n",
              "      <td>0.000000</td>\n",
              "      <td>0.000000</td>\n",
              "      <td>0.000000</td>\n",
              "      <td>0.000000</td>\n",
              "      <td>0.000000</td>\n",
              "      <td>0.000000</td>\n",
              "      <td>0.000000</td>\n",
              "      <td>0.000000</td>\n",
              "      <td>0.000000</td>\n",
              "      <td>0.000000</td>\n",
              "      <td>0.000000</td>\n",
              "      <td>0.000000</td>\n",
              "      <td>0.000000</td>\n",
              "      <td>0.000000</td>\n",
              "      <td>0.000000</td>\n",
              "      <td>0.000000</td>\n",
              "      <td>0.000000</td>\n",
              "      <td>0.000000</td>\n",
              "      <td>0.000000</td>\n",
              "    </tr>\n",
              "    <tr>\n",
              "      <th>75%</th>\n",
              "      <td>2.270691</td>\n",
              "      <td>3.635440</td>\n",
              "      <td>1084.500000</td>\n",
              "      <td>1119.500000</td>\n",
              "      <td>1119.500000</td>\n",
              "      <td>0.000000</td>\n",
              "      <td>0.000000</td>\n",
              "      <td>0.000000</td>\n",
              "      <td>0.000000</td>\n",
              "      <td>0.000000</td>\n",
              "      <td>1.000000</td>\n",
              "      <td>0.000000</td>\n",
              "      <td>0.000000</td>\n",
              "      <td>1.000000</td>\n",
              "      <td>0.000000</td>\n",
              "      <td>0.000000</td>\n",
              "      <td>0.000000</td>\n",
              "      <td>0.000000</td>\n",
              "      <td>0.000000</td>\n",
              "      <td>0.000000</td>\n",
              "      <td>0.000000</td>\n",
              "      <td>0.000000</td>\n",
              "      <td>0.000000</td>\n",
              "      <td>0.000000</td>\n",
              "    </tr>\n",
              "    <tr>\n",
              "      <th>max</th>\n",
              "      <td>7.417630</td>\n",
              "      <td>8.579293</td>\n",
              "      <td>1446.000000</td>\n",
              "      <td>1674.000000</td>\n",
              "      <td>1674.000000</td>\n",
              "      <td>1.000000</td>\n",
              "      <td>1.000000</td>\n",
              "      <td>1.000000</td>\n",
              "      <td>1.000000</td>\n",
              "      <td>1.000000</td>\n",
              "      <td>1.000000</td>\n",
              "      <td>1.000000</td>\n",
              "      <td>1.000000</td>\n",
              "      <td>1.000000</td>\n",
              "      <td>1.000000</td>\n",
              "      <td>1.000000</td>\n",
              "      <td>1.000000</td>\n",
              "      <td>1.000000</td>\n",
              "      <td>1.000000</td>\n",
              "      <td>1.000000</td>\n",
              "      <td>1.000000</td>\n",
              "      <td>1.000000</td>\n",
              "      <td>1.000000</td>\n",
              "      <td>1.000000</td>\n",
              "    </tr>\n",
              "  </tbody>\n",
              "</table>\n",
              "</div>"
            ],
            "text/plain": [
              "                 x            y  ...           22           23\n",
              "count  1008.000000  1008.000000  ...  1447.000000  1447.000000\n",
              "mean     -0.502731     0.447677  ...     0.045612     0.016586\n",
              "std       3.322841     3.812505  ...     0.208713     0.127758\n",
              "min      -7.975515    -7.783763  ...     0.000000     0.000000\n",
              "25%      -3.306313    -2.781320  ...     0.000000     0.000000\n",
              "50%      -0.426186     0.746419  ...     0.000000     0.000000\n",
              "75%       2.270691     3.635440  ...     0.000000     0.000000\n",
              "max       7.417630     8.579293  ...     1.000000     1.000000\n",
              "\n",
              "[8 rows x 24 columns]"
            ]
          },
          "metadata": {
            "tags": []
          },
          "execution_count": 74
        }
      ]
    },
    {
      "cell_type": "code",
      "metadata": {
        "id": "d_amdYZCogQY",
        "colab_type": "code",
        "outputId": "def390db-06f3-4594-e7f2-9fd0b1644ce5",
        "colab": {
          "base_uri": "https://localhost:8080/",
          "height": 34
        }
      },
      "source": [
        "tsne_df4.shape"
      ],
      "execution_count": 75,
      "outputs": [
        {
          "output_type": "execute_result",
          "data": {
            "text/plain": [
              "(1447, 25)"
            ]
          },
          "metadata": {
            "tags": []
          },
          "execution_count": 75
        }
      ]
    },
    {
      "cell_type": "code",
      "metadata": {
        "id": "37LonHh0qagv",
        "colab_type": "code",
        "colab": {}
      },
      "source": [
        "from sklearn.cluster import KMeans"
      ],
      "execution_count": 0,
      "outputs": []
    },
    {
      "cell_type": "code",
      "metadata": {
        "id": "uIW3-FaTYzEE",
        "colab_type": "code",
        "colab": {}
      },
      "source": [
        "tsne_df5 = tsne_df4.loc[~np.isnan(tsne_df4['x']),]"
      ],
      "execution_count": 0,
      "outputs": []
    },
    {
      "cell_type": "code",
      "metadata": {
        "id": "5WQJj048qaqq",
        "colab_type": "code",
        "colab": {}
      },
      "source": [
        "X = tsne_df5.loc[:,['x','y']]"
      ],
      "execution_count": 0,
      "outputs": []
    },
    {
      "cell_type": "code",
      "metadata": {
        "id": "0T0ZLOfViTLc",
        "colab_type": "code",
        "colab": {
          "base_uri": "https://localhost:8080/",
          "height": 187
        },
        "outputId": "7a3a93aa-c3b4-4944-c68e-7b4e12b065b6"
      },
      "source": [
        "inertia = []\n",
        "for i in range(10):\n",
        "  km = KMeans((i+1)*10)\n",
        "  km.fit(X)\n",
        "  inertia.append(km.inertia_)\n",
        "  print(i)"
      ],
      "execution_count": 79,
      "outputs": [
        {
          "output_type": "stream",
          "text": [
            "0\n",
            "1\n",
            "2\n",
            "3\n",
            "4\n",
            "5\n",
            "6\n",
            "7\n",
            "8\n",
            "9\n"
          ],
          "name": "stdout"
        }
      ]
    },
    {
      "cell_type": "code",
      "metadata": {
        "id": "FxiT-LPulM1G",
        "colab_type": "code",
        "colab": {
          "base_uri": "https://localhost:8080/",
          "height": 312
        },
        "outputId": "5632ab43-c6aa-495c-ef2a-b05f617e4ce0"
      },
      "source": [
        "import matplotlib.pyplot as plt\n",
        "%matplotlib inline\n",
        "plt.plot((np.arange(10)+1)*10,inertia)\n",
        "plt.title('Variation of inertia over different number of clusters')\n",
        "plt.xlabel('Number of clusters')\n",
        "plt.ylabel('Inertia')"
      ],
      "execution_count": 80,
      "outputs": [
        {
          "output_type": "execute_result",
          "data": {
            "text/plain": [
              "Text(0, 0.5, 'Inertia')"
            ]
          },
          "metadata": {
            "tags": []
          },
          "execution_count": 80
        },
        {
          "output_type": "display_data",
          "data": {
            "image/png": "[encoded data removed]",
            "text/plain": [
              "<Figure size 432x288 with 1 Axes>"
            ]
          },
          "metadata": {
            "tags": []
          }
        }
      ]
    },
    {
      "cell_type": "code",
      "metadata": {
        "id": "J_5MQeqrZZF8",
        "colab_type": "code",
        "colab": {
          "base_uri": "https://localhost:8080/",
          "height": 68
        },
        "outputId": "c45373d9-f67a-46b7-dfa7-3fdc0c4a9893"
      },
      "source": [
        "km = KMeans(40)\n",
        "km.fit(X)"
      ],
      "execution_count": 81,
      "outputs": [
        {
          "output_type": "execute_result",
          "data": {
            "text/plain": [
              "KMeans(algorithm='auto', copy_x=True, init='k-means++', max_iter=300,\n",
              "       n_clusters=40, n_init=10, n_jobs=None, precompute_distances='auto',\n",
              "       random_state=None, tol=0.0001, verbose=0)"
            ]
          },
          "metadata": {
            "tags": []
          },
          "execution_count": 81
        }
      ]
    },
    {
      "cell_type": "code",
      "metadata": {
        "id": "u5jWHkQWrMyD",
        "colab_type": "code",
        "colab": {
          "base_uri": "https://localhost:8080/",
          "height": 119
        },
        "outputId": "947ca6c5-cb15-412b-e3d2-4265436561bb"
      },
      "source": [
        "tsne_df5['cluster_label'] = km.labels_"
      ],
      "execution_count": 82,
      "outputs": [
        {
          "output_type": "stream",
          "text": [
            "/usr/local/lib/python3.6/dist-packages/ipykernel_launcher.py:1: SettingWithCopyWarning: \n",
            "A value is trying to be set on a copy of a slice from a DataFrame.\n",
            "Try using .loc[row_indexer,col_indexer] = value instead\n",
            "\n",
            "See the caveats in the documentation: http://pandas.pydata.org/pandas-docs/stable/indexing.html#indexing-view-versus-copy\n",
            "  \"\"\"Entry point for launching an IPython kernel.\n"
          ],
          "name": "stderr"
        }
      ]
    },
    {
      "cell_type": "code",
      "metadata": {
        "id": "dUyUM5MNlPcq",
        "colab_type": "code",
        "colab": {
          "base_uri": "https://localhost:8080/",
          "height": 221
        },
        "outputId": "7f746e1f-d50c-44dd-a5c0-293d866bed40"
      },
      "source": [
        "tsne_df5[tsne_df5['cluster_label']==0].head()"
      ],
      "execution_count": 83,
      "outputs": [
        {
          "output_type": "execute_result",
          "data": {
            "text/html": [
              "<div>\n",
              "<style scoped>\n",
              "    .dataframe tbody tr th:only-of-type {\n",
              "        vertical-align: middle;\n",
              "    }\n",
              "\n",
              "    .dataframe tbody tr th {\n",
              "        vertical-align: top;\n",
              "    }\n",
              "\n",
              "    .dataframe thead th {\n",
              "        text-align: right;\n",
              "    }\n",
              "</style>\n",
              "<table border=\"1\" class=\"dataframe\">\n",
              "  <thead>\n",
              "    <tr style=\"text-align: right;\">\n",
              "      <th></th>\n",
              "      <th>x</th>\n",
              "      <th>y</th>\n",
              "      <th>image_label</th>\n",
              "      <th>movieId</th>\n",
              "      <th>0</th>\n",
              "      <th>movie_name</th>\n",
              "      <th>5</th>\n",
              "      <th>6</th>\n",
              "      <th>7</th>\n",
              "      <th>8</th>\n",
              "      <th>9</th>\n",
              "      <th>10</th>\n",
              "      <th>11</th>\n",
              "      <th>12</th>\n",
              "      <th>13</th>\n",
              "      <th>14</th>\n",
              "      <th>15</th>\n",
              "      <th>16</th>\n",
              "      <th>17</th>\n",
              "      <th>18</th>\n",
              "      <th>19</th>\n",
              "      <th>20</th>\n",
              "      <th>21</th>\n",
              "      <th>22</th>\n",
              "      <th>23</th>\n",
              "      <th>cluster_label</th>\n",
              "    </tr>\n",
              "  </thead>\n",
              "  <tbody>\n",
              "    <tr>\n",
              "      <th>37</th>\n",
              "      <td>-2.791745</td>\n",
              "      <td>-4.363646</td>\n",
              "      <td>18</td>\n",
              "      <td>121</td>\n",
              "      <td>121</td>\n",
              "      <td>Independence Day (ID4) (1996)</td>\n",
              "      <td>0</td>\n",
              "      <td>1</td>\n",
              "      <td>0</td>\n",
              "      <td>0</td>\n",
              "      <td>0</td>\n",
              "      <td>0</td>\n",
              "      <td>0</td>\n",
              "      <td>0</td>\n",
              "      <td>0</td>\n",
              "      <td>0</td>\n",
              "      <td>0</td>\n",
              "      <td>0</td>\n",
              "      <td>0</td>\n",
              "      <td>0</td>\n",
              "      <td>0</td>\n",
              "      <td>1</td>\n",
              "      <td>0</td>\n",
              "      <td>1</td>\n",
              "      <td>0</td>\n",
              "      <td>0</td>\n",
              "    </tr>\n",
              "    <tr>\n",
              "      <th>45</th>\n",
              "      <td>-2.901590</td>\n",
              "      <td>-4.715369</td>\n",
              "      <td>366</td>\n",
              "      <td>9</td>\n",
              "      <td>9</td>\n",
              "      <td>Dead Man Walking (1995)</td>\n",
              "      <td>0</td>\n",
              "      <td>0</td>\n",
              "      <td>0</td>\n",
              "      <td>0</td>\n",
              "      <td>0</td>\n",
              "      <td>0</td>\n",
              "      <td>0</td>\n",
              "      <td>0</td>\n",
              "      <td>1</td>\n",
              "      <td>0</td>\n",
              "      <td>0</td>\n",
              "      <td>0</td>\n",
              "      <td>0</td>\n",
              "      <td>0</td>\n",
              "      <td>0</td>\n",
              "      <td>0</td>\n",
              "      <td>0</td>\n",
              "      <td>0</td>\n",
              "      <td>0</td>\n",
              "      <td>0</td>\n",
              "    </tr>\n",
              "    <tr>\n",
              "      <th>50</th>\n",
              "      <td>-3.133323</td>\n",
              "      <td>-3.932948</td>\n",
              "      <td>245</td>\n",
              "      <td>410</td>\n",
              "      <td>410</td>\n",
              "      <td>Kingpin (1996)</td>\n",
              "      <td>0</td>\n",
              "      <td>0</td>\n",
              "      <td>0</td>\n",
              "      <td>0</td>\n",
              "      <td>0</td>\n",
              "      <td>1</td>\n",
              "      <td>0</td>\n",
              "      <td>0</td>\n",
              "      <td>0</td>\n",
              "      <td>0</td>\n",
              "      <td>0</td>\n",
              "      <td>0</td>\n",
              "      <td>0</td>\n",
              "      <td>0</td>\n",
              "      <td>0</td>\n",
              "      <td>0</td>\n",
              "      <td>0</td>\n",
              "      <td>0</td>\n",
              "      <td>0</td>\n",
              "      <td>0</td>\n",
              "    </tr>\n",
              "    <tr>\n",
              "      <th>54</th>\n",
              "      <td>-2.267932</td>\n",
              "      <td>-4.536309</td>\n",
              "      <td>757</td>\n",
              "      <td>619</td>\n",
              "      <td>619</td>\n",
              "      <td>Extreme Measures (1996)</td>\n",
              "      <td>0</td>\n",
              "      <td>0</td>\n",
              "      <td>0</td>\n",
              "      <td>0</td>\n",
              "      <td>0</td>\n",
              "      <td>0</td>\n",
              "      <td>0</td>\n",
              "      <td>0</td>\n",
              "      <td>1</td>\n",
              "      <td>0</td>\n",
              "      <td>0</td>\n",
              "      <td>0</td>\n",
              "      <td>0</td>\n",
              "      <td>0</td>\n",
              "      <td>0</td>\n",
              "      <td>0</td>\n",
              "      <td>1</td>\n",
              "      <td>0</td>\n",
              "      <td>0</td>\n",
              "      <td>0</td>\n",
              "    </tr>\n",
              "    <tr>\n",
              "      <th>57</th>\n",
              "      <td>-3.083512</td>\n",
              "      <td>-3.925447</td>\n",
              "      <td>110</td>\n",
              "      <td>826</td>\n",
              "      <td>826</td>\n",
              "      <td>Phantom, The (1996)</td>\n",
              "      <td>0</td>\n",
              "      <td>0</td>\n",
              "      <td>1</td>\n",
              "      <td>0</td>\n",
              "      <td>0</td>\n",
              "      <td>0</td>\n",
              "      <td>0</td>\n",
              "      <td>0</td>\n",
              "      <td>0</td>\n",
              "      <td>0</td>\n",
              "      <td>0</td>\n",
              "      <td>0</td>\n",
              "      <td>0</td>\n",
              "      <td>0</td>\n",
              "      <td>0</td>\n",
              "      <td>0</td>\n",
              "      <td>0</td>\n",
              "      <td>0</td>\n",
              "      <td>0</td>\n",
              "      <td>0</td>\n",
              "    </tr>\n",
              "  </tbody>\n",
              "</table>\n",
              "</div>"
            ],
            "text/plain": [
              "           x         y  image_label  movieId  ...  21 22  23  cluster_label\n",
              "37 -2.791745 -4.363646           18      121  ...   0  1   0              0\n",
              "45 -2.901590 -4.715369          366        9  ...   0  0   0              0\n",
              "50 -3.133323 -3.932948          245      410  ...   0  0   0              0\n",
              "54 -2.267932 -4.536309          757      619  ...   1  0   0              0\n",
              "57 -3.083512 -3.925447          110      826  ...   0  0   0              0\n",
              "\n",
              "[5 rows x 26 columns]"
            ]
          },
          "metadata": {
            "tags": []
          },
          "execution_count": 83
        }
      ]
    },
    {
      "cell_type": "code",
      "metadata": {
        "id": "wccWd8W13TFG",
        "colab_type": "code",
        "colab": {}
      },
      "source": [
        "movie_cluster_id = tsne_df5[['image_label','cluster_label']]"
      ],
      "execution_count": 0,
      "outputs": []
    },
    {
      "cell_type": "code",
      "metadata": {
        "id": "nJgntB1A3tt-",
        "colab_type": "code",
        "colab": {}
      },
      "source": [
        "pred = model.predict(testX)"
      ],
      "execution_count": 0,
      "outputs": []
    },
    {
      "cell_type": "code",
      "metadata": {
        "id": "h0V73N596R0d",
        "colab_type": "code",
        "colab": {
          "base_uri": "https://localhost:8080/",
          "height": 34
        },
        "outputId": "ed8c548b-ad0b-4fe3-8f1b-38f634ceaf2e"
      },
      "source": [
        "pred.shape"
      ],
      "execution_count": 86,
      "outputs": [
        {
          "output_type": "execute_result",
          "data": {
            "text/plain": [
              "(9737, 1447)"
            ]
          },
          "metadata": {
            "tags": []
          },
          "execution_count": 86
        }
      ]
    },
    {
      "cell_type": "code",
      "metadata": {
        "id": "6Z3qfVKD3tzs",
        "colab_type": "code",
        "colab": {
          "base_uri": "https://localhost:8080/",
          "height": 187
        },
        "outputId": "0db8cd39-2262-4833-98f3-eb7006717b3a"
      },
      "source": [
        "for j in range(pred.shape[0]):\n",
        "  if(j%1000==0):\n",
        "    print(j)\n",
        "  for i in range(pred.shape[1]):\n",
        "    pred[j][i]= np.where(i in test_historically_watched[j], 0 , pred[j][i])"
      ],
      "execution_count": 87,
      "outputs": [
        {
          "output_type": "stream",
          "text": [
            "0\n",
            "1000\n",
            "2000\n",
            "3000\n",
            "4000\n",
            "5000\n",
            "6000\n",
            "7000\n",
            "8000\n",
            "9000\n"
          ],
          "name": "stdout"
        }
      ]
    },
    {
      "cell_type": "code",
      "metadata": {
        "id": "-0_UoIpea4t1",
        "colab_type": "code",
        "colab": {
          "base_uri": "https://localhost:8080/",
          "height": 34
        },
        "outputId": "63598b13-3d50-4fba-83b4-a1a9a16d2f88"
      },
      "source": [
        "pred.shape"
      ],
      "execution_count": 88,
      "outputs": [
        {
          "output_type": "execute_result",
          "data": {
            "text/plain": [
              "(9737, 1447)"
            ]
          },
          "metadata": {
            "tags": []
          },
          "execution_count": 88
        }
      ]
    },
    {
      "cell_type": "code",
      "metadata": {
        "id": "O87FW0gza7fK",
        "colab_type": "code",
        "colab": {
          "base_uri": "https://localhost:8080/",
          "height": 204
        },
        "outputId": "ad979186-a4aa-4313-deca-3b3f754eab8a"
      },
      "source": [
        "movie_cluster_id.head()"
      ],
      "execution_count": 89,
      "outputs": [
        {
          "output_type": "execute_result",
          "data": {
            "text/html": [
              "<div>\n",
              "<style scoped>\n",
              "    .dataframe tbody tr th:only-of-type {\n",
              "        vertical-align: middle;\n",
              "    }\n",
              "\n",
              "    .dataframe tbody tr th {\n",
              "        vertical-align: top;\n",
              "    }\n",
              "\n",
              "    .dataframe thead th {\n",
              "        text-align: right;\n",
              "    }\n",
              "</style>\n",
              "<table border=\"1\" class=\"dataframe\">\n",
              "  <thead>\n",
              "    <tr style=\"text-align: right;\">\n",
              "      <th></th>\n",
              "      <th>image_label</th>\n",
              "      <th>cluster_label</th>\n",
              "    </tr>\n",
              "  </thead>\n",
              "  <tbody>\n",
              "    <tr>\n",
              "      <th>0</th>\n",
              "      <td>0</td>\n",
              "      <td>4</td>\n",
              "    </tr>\n",
              "    <tr>\n",
              "      <th>1</th>\n",
              "      <td>1</td>\n",
              "      <td>27</td>\n",
              "    </tr>\n",
              "    <tr>\n",
              "      <th>2</th>\n",
              "      <td>2</td>\n",
              "      <td>4</td>\n",
              "    </tr>\n",
              "    <tr>\n",
              "      <th>3</th>\n",
              "      <td>3</td>\n",
              "      <td>27</td>\n",
              "    </tr>\n",
              "    <tr>\n",
              "      <th>4</th>\n",
              "      <td>4</td>\n",
              "      <td>37</td>\n",
              "    </tr>\n",
              "  </tbody>\n",
              "</table>\n",
              "</div>"
            ],
            "text/plain": [
              "   image_label  cluster_label\n",
              "0            0              4\n",
              "1            1             27\n",
              "2            2              4\n",
              "3            3             27\n",
              "4            4             37"
            ]
          },
          "metadata": {
            "tags": []
          },
          "execution_count": 89
        }
      ]
    },
    {
      "cell_type": "code",
      "metadata": {
        "id": "B6mumpn7bRsZ",
        "colab_type": "code",
        "colab": {
          "base_uri": "https://localhost:8080/",
          "height": 1000
        },
        "outputId": "f7386952-805a-4473-e997-9612e27ec79f"
      },
      "source": [
        "list(movie_cluster_id['image_label'])"
      ],
      "execution_count": 90,
      "outputs": [
        {
          "output_type": "execute_result",
          "data": {
            "text/plain": [
              "[0,\n",
              " 1,\n",
              " 2,\n",
              " 3,\n",
              " 4,\n",
              " 5,\n",
              " 6,\n",
              " 7,\n",
              " 8,\n",
              " 9,\n",
              " 10,\n",
              " 11,\n",
              " 12,\n",
              " 33,\n",
              " 299,\n",
              " 224,\n",
              " 120,\n",
              " 27,\n",
              " 175,\n",
              " 187,\n",
              " 292,\n",
              " 123,\n",
              " 112,\n",
              " 303,\n",
              " 1229,\n",
              " 375,\n",
              " 248,\n",
              " 32,\n",
              " 1227,\n",
              " 17,\n",
              " 353,\n",
              " 305,\n",
              " 570,\n",
              " 13,\n",
              " 14,\n",
              " 15,\n",
              " 16,\n",
              " 18,\n",
              " 78,\n",
              " 79,\n",
              " 80,\n",
              " 109,\n",
              " 730,\n",
              " 401,\n",
              " 113,\n",
              " 366,\n",
              " 195,\n",
              " 365,\n",
              " 242,\n",
              " 540,\n",
              " 245,\n",
              " 806,\n",
              " 398,\n",
              " 642,\n",
              " 757,\n",
              " 249,\n",
              " 106,\n",
              " 110,\n",
              " 101,\n",
              " 640,\n",
              " 251,\n",
              " 807,\n",
              " 349,\n",
              " 264,\n",
              " 28,\n",
              " 351,\n",
              " 76,\n",
              " 157,\n",
              " 211,\n",
              " 322,\n",
              " 266,\n",
              " 192,\n",
              " 614,\n",
              " 135,\n",
              " 261,\n",
              " 118,\n",
              " 50,\n",
              " 121,\n",
              " 443,\n",
              " 341,\n",
              " 281,\n",
              " 57,\n",
              " 137,\n",
              " 282,\n",
              " 128,\n",
              " 183,\n",
              " 30,\n",
              " 209,\n",
              " 213,\n",
              " 39,\n",
              " 144,\n",
              " 348,\n",
              " 267,\n",
              " 625,\n",
              " 158,\n",
              " 318,\n",
              " 153,\n",
              " 181,\n",
              " 308,\n",
              " 1001,\n",
              " 1225,\n",
              " 1057,\n",
              " 228,\n",
              " 1050,\n",
              " 484,\n",
              " 1268,\n",
              " 580,\n",
              " 725,\n",
              " 1145,\n",
              " 1349,\n",
              " 393,\n",
              " 1002,\n",
              " 779,\n",
              " 373,\n",
              " 1035,\n",
              " 728,\n",
              " 1260,\n",
              " 830,\n",
              " 23,\n",
              " 1271,\n",
              " 236,\n",
              " 1234,\n",
              " 222,\n",
              " 390,\n",
              " 1075,\n",
              " 136,\n",
              " 167,\n",
              " 99,\n",
              " 1007,\n",
              " 1415,\n",
              " 19,\n",
              " 21,\n",
              " 22,\n",
              " 24,\n",
              " 25,\n",
              " 26,\n",
              " 29,\n",
              " 31,\n",
              " 34,\n",
              " 35,\n",
              " 36,\n",
              " 37,\n",
              " 38,\n",
              " 40,\n",
              " 41,\n",
              " 42,\n",
              " 43,\n",
              " 44,\n",
              " 45,\n",
              " 46,\n",
              " 47,\n",
              " 49,\n",
              " 51,\n",
              " 52,\n",
              " 53,\n",
              " 54,\n",
              " 56,\n",
              " 58,\n",
              " 59,\n",
              " 60,\n",
              " 61,\n",
              " 62,\n",
              " 63,\n",
              " 64,\n",
              " 65,\n",
              " 66,\n",
              " 67,\n",
              " 68,\n",
              " 69,\n",
              " 70,\n",
              " 71,\n",
              " 72,\n",
              " 73,\n",
              " 74,\n",
              " 75,\n",
              " 77,\n",
              " 505,\n",
              " 108,\n",
              " 506,\n",
              " 507,\n",
              " 430,\n",
              " 508,\n",
              " 509,\n",
              " 510,\n",
              " 275,\n",
              " 511,\n",
              " 512,\n",
              " 223,\n",
              " 513,\n",
              " 462,\n",
              " 279,\n",
              " 460,\n",
              " 117,\n",
              " 515,\n",
              " 516,\n",
              " 517,\n",
              " 518,\n",
              " 520,\n",
              " 521,\n",
              " 468,\n",
              " 477,\n",
              " 524,\n",
              " 525,\n",
              " 528,\n",
              " 529,\n",
              " 530,\n",
              " 383,\n",
              " 274,\n",
              " 229,\n",
              " 878,\n",
              " 81,\n",
              " 82,\n",
              " 83,\n",
              " 84,\n",
              " 85,\n",
              " 86,\n",
              " 87,\n",
              " 88,\n",
              " 89,\n",
              " 90,\n",
              " 91,\n",
              " 92,\n",
              " 93,\n",
              " 94,\n",
              " 95,\n",
              " 96,\n",
              " 97,\n",
              " 98,\n",
              " 100,\n",
              " 102,\n",
              " 103,\n",
              " 104,\n",
              " 105,\n",
              " 107,\n",
              " 111,\n",
              " 114,\n",
              " 115,\n",
              " 116,\n",
              " 170,\n",
              " 171,\n",
              " 173,\n",
              " 174,\n",
              " 176,\n",
              " 177,\n",
              " 122,\n",
              " 179,\n",
              " 180,\n",
              " 182,\n",
              " 184,\n",
              " 185,\n",
              " 186,\n",
              " 188,\n",
              " 189,\n",
              " 190,\n",
              " 191,\n",
              " 230,\n",
              " 727,\n",
              " 231,\n",
              " 732,\n",
              " 1054,\n",
              " 1276,\n",
              " 564,\n",
              " 502,\n",
              " 635,\n",
              " 1168,\n",
              " 486,\n",
              " 346,\n",
              " 686,\n",
              " 415,\n",
              " 658,\n",
              " 252,\n",
              " 339,\n",
              " 247,\n",
              " 317,\n",
              " 968,\n",
              " 220,\n",
              " 422,\n",
              " 161,\n",
              " 243,\n",
              " 142,\n",
              " 165,\n",
              " 915,\n",
              " 764,\n",
              " 1090,\n",
              " 336,\n",
              " 1341,\n",
              " 1344,\n",
              " 961,\n",
              " 119,\n",
              " 124,\n",
              " 125,\n",
              " 126,\n",
              " 127,\n",
              " 129,\n",
              " 130,\n",
              " 131,\n",
              " 132,\n",
              " 133,\n",
              " 134,\n",
              " 138,\n",
              " 139,\n",
              " 140,\n",
              " 141,\n",
              " 143,\n",
              " 145,\n",
              " 146,\n",
              " 147,\n",
              " 148,\n",
              " 149,\n",
              " 150,\n",
              " 151,\n",
              " 152,\n",
              " 154,\n",
              " 155,\n",
              " 156,\n",
              " 159,\n",
              " 160,\n",
              " 162,\n",
              " 163,\n",
              " 164,\n",
              " 829,\n",
              " 368,\n",
              " 1187,\n",
              " 1053,\n",
              " 820,\n",
              " 196,\n",
              " 168,\n",
              " 255,\n",
              " 241,\n",
              " 237,\n",
              " 715,\n",
              " 327,\n",
              " 814,\n",
              " 311,\n",
              " 325,\n",
              " 631,\n",
              " 1330,\n",
              " 166,\n",
              " 172,\n",
              " 193,\n",
              " 244,\n",
              " 636,\n",
              " 194,\n",
              " 197,\n",
              " 198,\n",
              " 199,\n",
              " 200,\n",
              " 201,\n",
              " 202,\n",
              " 203,\n",
              " 204,\n",
              " 205,\n",
              " 206,\n",
              " 207,\n",
              " 208,\n",
              " 210,\n",
              " 212,\n",
              " 214,\n",
              " 215,\n",
              " 216,\n",
              " 217,\n",
              " 218,\n",
              " 219,\n",
              " 221,\n",
              " 225,\n",
              " 226,\n",
              " 227,\n",
              " 233,\n",
              " 235,\n",
              " 250,\n",
              " 256,\n",
              " 257,\n",
              " 258,\n",
              " 259,\n",
              " 260,\n",
              " 271,\n",
              " 272,\n",
              " 276,\n",
              " 277,\n",
              " 278,\n",
              " 535,\n",
              " 426,\n",
              " 563,\n",
              " 427,\n",
              " 232,\n",
              " 234,\n",
              " 238,\n",
              " 239,\n",
              " 240,\n",
              " 246,\n",
              " 253,\n",
              " 254,\n",
              " 262,\n",
              " 263,\n",
              " 265,\n",
              " 268,\n",
              " 269,\n",
              " 270,\n",
              " 283,\n",
              " 285,\n",
              " 286,\n",
              " 287,\n",
              " 288,\n",
              " 290,\n",
              " 291,\n",
              " 293,\n",
              " 294,\n",
              " 295,\n",
              " 296,\n",
              " 297,\n",
              " 298,\n",
              " 302,\n",
              " 306,\n",
              " 307,\n",
              " 309,\n",
              " 310,\n",
              " 312,\n",
              " 313,\n",
              " 314,\n",
              " 319,\n",
              " 320,\n",
              " 323,\n",
              " 324,\n",
              " 328,\n",
              " 329,\n",
              " 330,\n",
              " 331,\n",
              " 332,\n",
              " 333,\n",
              " 334,\n",
              " 335,\n",
              " 337,\n",
              " 338,\n",
              " 340,\n",
              " 342,\n",
              " 343,\n",
              " 345,\n",
              " 354,\n",
              " 355,\n",
              " 356,\n",
              " 357,\n",
              " 358,\n",
              " 359,\n",
              " 360,\n",
              " 361,\n",
              " 363,\n",
              " 542,\n",
              " 385,\n",
              " 999,\n",
              " 367,\n",
              " 885,\n",
              " 1003,\n",
              " 583,\n",
              " 273,\n",
              " 1178,\n",
              " 742,\n",
              " 558,\n",
              " 406,\n",
              " 901,\n",
              " 411,\n",
              " 965,\n",
              " 421,\n",
              " 418,\n",
              " 489,\n",
              " 601,\n",
              " 765,\n",
              " 941,\n",
              " 315,\n",
              " 801,\n",
              " 1373,\n",
              " 596,\n",
              " 1426,\n",
              " 382,\n",
              " 615,\n",
              " 452,\n",
              " 423,\n",
              " 428,\n",
              " 653,\n",
              " 459,\n",
              " 1018,\n",
              " 280,\n",
              " 284,\n",
              " 289,\n",
              " 301,\n",
              " 304,\n",
              " 729,\n",
              " 768,\n",
              " 737,\n",
              " 1095,\n",
              " 1267,\n",
              " 1259,\n",
              " 894,\n",
              " 887,\n",
              " 374,\n",
              " 1250,\n",
              " 669,\n",
              " 469,\n",
              " 562,\n",
              " 679,\n",
              " 571,\n",
              " 777,\n",
              " 911,\n",
              " 673,\n",
              " 608,\n",
              " 386,\n",
              " 1048,\n",
              " 624,\n",
              " 492,\n",
              " 384,\n",
              " 450,\n",
              " 784,\n",
              " 388,\n",
              " 821,\n",
              " 667,\n",
              " 1149,\n",
              " 592,\n",
              " 1023,\n",
              " 485,\n",
              " 567,\n",
              " 594,\n",
              " 471,\n",
              " 819,\n",
              " 483,\n",
              " 578,\n",
              " 912,\n",
              " 1418,\n",
              " 387,\n",
              " 600,\n",
              " 639,\n",
              " 481,\n",
              " 657,\n",
              " 1069,\n",
              " 473,\n",
              " 425,\n",
              " 632,\n",
              " 395,\n",
              " 866,\n",
              " 1013,\n",
              " 420,\n",
              " 617,\n",
              " 626,\n",
              " 756,\n",
              " 574,\n",
              " 621,\n",
              " 316,\n",
              " 321,\n",
              " 326,\n",
              " 344,\n",
              " 347,\n",
              " 350,\n",
              " 352,\n",
              " 364,\n",
              " 369,\n",
              " 370,\n",
              " 394,\n",
              " 396,\n",
              " 399,\n",
              " 400,\n",
              " 402,\n",
              " 403,\n",
              " 404,\n",
              " 405,\n",
              " 407,\n",
              " 408,\n",
              " 409,\n",
              " 410,\n",
              " 412,\n",
              " 413,\n",
              " 414,\n",
              " 417,\n",
              " 419,\n",
              " 440,\n",
              " 441,\n",
              " 442,\n",
              " 444,\n",
              " 445,\n",
              " 447,\n",
              " 449,\n",
              " 581,\n",
              " 582,\n",
              " 532,\n",
              " 584,\n",
              " 585,\n",
              " 533,\n",
              " 531,\n",
              " 586,\n",
              " 587,\n",
              " 588,\n",
              " 589,\n",
              " 590,\n",
              " 389,\n",
              " 593,\n",
              " 487,\n",
              " 841,\n",
              " 675,\n",
              " 372,\n",
              " 376,\n",
              " 377,\n",
              " 378,\n",
              " 379,\n",
              " 380,\n",
              " 381,\n",
              " 391,\n",
              " 392,\n",
              " 424,\n",
              " 429,\n",
              " 431,\n",
              " 432,\n",
              " 433,\n",
              " 434,\n",
              " 435,\n",
              " 436,\n",
              " 437,\n",
              " 438,\n",
              " 439,\n",
              " 659,\n",
              " 550,\n",
              " 767,\n",
              " 561,\n",
              " 470,\n",
              " 612,\n",
              " 780,\n",
              " 569,\n",
              " 493,\n",
              " 770,\n",
              " 734,\n",
              " 846,\n",
              " 451,\n",
              " 453,\n",
              " 454,\n",
              " 455,\n",
              " 456,\n",
              " 457,\n",
              " 458,\n",
              " 461,\n",
              " 463,\n",
              " 464,\n",
              " 465,\n",
              " 466,\n",
              " 467,\n",
              " 472,\n",
              " 474,\n",
              " 475,\n",
              " 476,\n",
              " 478,\n",
              " 479,\n",
              " 929,\n",
              " 1293,\n",
              " 630,\n",
              " 1172,\n",
              " 713,\n",
              " 781,\n",
              " 480,\n",
              " 629,\n",
              " 482,\n",
              " 488,\n",
              " 490,\n",
              " 491,\n",
              " 494,\n",
              " 495,\n",
              " 496,\n",
              " 497,\n",
              " 498,\n",
              " 499,\n",
              " 500,\n",
              " 501,\n",
              " 555,\n",
              " 760,\n",
              " 746,\n",
              " 815,\n",
              " 538,\n",
              " 816,\n",
              " 817,\n",
              " 721,\n",
              " 645,\n",
              " 722,\n",
              " 641,\n",
              " 595,\n",
              " 873,\n",
              " 869,\n",
              " 661,\n",
              " 847,\n",
              " 671,\n",
              " 749,\n",
              " 877,\n",
              " 712,\n",
              " 850,\n",
              " 534,\n",
              " 879,\n",
              " 881,\n",
              " 882,\n",
              " 572,\n",
              " 989,\n",
              " 772,\n",
              " 1138,\n",
              " 858,\n",
              " 949,\n",
              " 1232,\n",
              " 945,\n",
              " 1244,\n",
              " 1350,\n",
              " 503,\n",
              " 504,\n",
              " 544,\n",
              " 616,\n",
              " 726,\n",
              " 633,\n",
              " 536,\n",
              " 537,\n",
              " 677,\n",
              " 755,\n",
              " 1104,\n",
              " 539,\n",
              " 541,\n",
              " 605,\n",
              " 1015,\n",
              " 573,\n",
              " 546,\n",
              " 1016,\n",
              " 852,\n",
              " 660,\n",
              " 551,\n",
              " 1072,\n",
              " 1058,\n",
              " 711,\n",
              " 1230,\n",
              " 543,\n",
              " 545,\n",
              " 548,\n",
              " 704,\n",
              " 706,\n",
              " 599,\n",
              " 707,\n",
              " 708,\n",
              " 663,\n",
              " 709,\n",
              " 607,\n",
              " 710,\n",
              " 559,\n",
              " 943,\n",
              " 655,\n",
              " 554,\n",
              " 556,\n",
              " 557,\n",
              " 560,\n",
              " 597,\n",
              " 598,\n",
              " 603,\n",
              " 576,\n",
              " 1303,\n",
              " 654,\n",
              " 787,\n",
              " 788,\n",
              " 668,\n",
              " 620,\n",
              " 974,\n",
              " 1258,\n",
              " 566,\n",
              " 568,\n",
              " 575,\n",
              " 577,\n",
              " 579,\n",
              " 714,\n",
              " 833,\n",
              " 836,\n",
              " 837,\n",
              " 802,\n",
              " 918,\n",
              " 604,\n",
              " 606,\n",
              " 613,\n",
              " 733,\n",
              " 618,\n",
              " 619,\n",
              " 897,\n",
              " 684,\n",
              " 670,\n",
              " 672,\n",
              " 674,\n",
              " 681,\n",
              " 682,\n",
              " 683,\n",
              " 685,\n",
              " 688,\n",
              " 689,\n",
              " 691,\n",
              " 695,\n",
              " 700,\n",
              " 811,\n",
              " 665,\n",
              " 1025,\n",
              " 1031,\n",
              " 1202,\n",
              " 627,\n",
              " 650,\n",
              " 744,\n",
              " 736,\n",
              " 745,\n",
              " 1179,\n",
              " 638,\n",
              " 646,\n",
              " 647,\n",
              " 648,\n",
              " 649,\n",
              " 948,\n",
              " 822,\n",
              " 1246,\n",
              " 651,\n",
              " 652,\n",
              " 662,\n",
              " 664,\n",
              " 666,\n",
              " 743,\n",
              " 717,\n",
              " 752,\n",
              " 753,\n",
              " 824,\n",
              " 826,\n",
              " 828,\n",
              " 870,\n",
              " 656,\n",
              " 687,\n",
              " 893,\n",
              " 735,\n",
              " 886,\n",
              " 1151,\n",
              " 716,\n",
              " 718,\n",
              " 719,\n",
              " 720,\n",
              " 724,\n",
              " 797,\n",
              " 1004,\n",
              " 861,\n",
              " 769,\n",
              " 1125,\n",
              " 1198,\n",
              " 890,\n",
              " 731,\n",
              " 738,\n",
              " 741,\n",
              " 930,\n",
              " 740,\n",
              " 1056,\n",
              " 839,\n",
              " 792,\n",
              " 775,\n",
              " 957,\n",
              " 908,\n",
              " 1211,\n",
              " 1134,\n",
              " 748,\n",
              " 766,\n",
              " 851,\n",
              " 932,\n",
              " 1036,\n",
              " 940,\n",
              " 758,\n",
              " 759,\n",
              " 761,\n",
              " 763,\n",
              " 776,\n",
              " 790,\n",
              " 793,\n",
              " 795,\n",
              " 805,\n",
              " 778,\n",
              " 785,\n",
              " 782,\n",
              " 962,\n",
              " 796,\n",
              " 798,\n",
              " 799,\n",
              " 800,\n",
              " 803,\n",
              " 804,\n",
              " 928,\n",
              " 871,\n",
              " 812,\n",
              " 813,\n",
              " 956,\n",
              " 853,\n",
              " 1093,\n",
              " 1034,\n",
              " 1210,\n",
              " 1237,\n",
              " 1266,\n",
              " 1105,\n",
              " 1096,\n",
              " 1042,\n",
              " 946,\n",
              " 831,\n",
              " 832,\n",
              " 838,\n",
              " 842,\n",
              " 1012,\n",
              " 848,\n",
              " 854,\n",
              " 855,\n",
              " 857,\n",
              " 1339,\n",
              " 1061,\n",
              " 859,\n",
              " 860,\n",
              " 862,\n",
              " 863,\n",
              " 864,\n",
              " 1021,\n",
              " 868,\n",
              " 952,\n",
              " 1103,\n",
              " 1094,\n",
              " 1051,\n",
              " 1254,\n",
              " 872,\n",
              " 903,\n",
              " 884,\n",
              " 888,\n",
              " 889,\n",
              " 892,\n",
              " 1302,\n",
              " 895,\n",
              " 896,\n",
              " 904,\n",
              " 905,\n",
              " 906,\n",
              " 907,\n",
              " 910,\n",
              " 913,\n",
              " 1027,\n",
              " 1115,\n",
              " 916,\n",
              " 950,\n",
              " 922,\n",
              " 923,\n",
              " 927,\n",
              " 931,\n",
              " 933,\n",
              " 935,\n",
              " 954,\n",
              " 1247,\n",
              " 951,\n",
              " 960,\n",
              " 996,\n",
              " 973,\n",
              " 1009,\n",
              " 1010,\n",
              " 1084,\n",
              " 967,\n",
              " 970,\n",
              " 975,\n",
              " 983,\n",
              " 984,\n",
              " 985,\n",
              " 977,\n",
              " 979,\n",
              " 994,\n",
              " 1029,\n",
              " 1026,\n",
              " 1062,\n",
              " 1041,\n",
              " 1032,\n",
              " 1033,\n",
              " 1038,\n",
              " 1167,\n",
              " 1044,\n",
              " 1046,\n",
              " 1047,\n",
              " 1049,\n",
              " 1059,\n",
              " 1064,\n",
              " 1066,\n",
              " 1071,\n",
              " 1074,\n",
              " 1076,\n",
              " 1079,\n",
              " 1080,\n",
              " 1085,\n",
              " 1086,\n",
              " 1174,\n",
              " 1231,\n",
              " 1070,\n",
              " 1141,\n",
              " 1107,\n",
              " 1077,\n",
              " 1083,\n",
              " 1089,\n",
              " 1092,\n",
              " 1097,\n",
              " 1102,\n",
              " 1111,\n",
              " 1119,\n",
              " 1154,\n",
              " 1124,\n",
              " 1126,\n",
              " 1309,\n",
              " 1239,\n",
              " 1307,\n",
              " 1139,\n",
              " 1158,\n",
              " ...]"
            ]
          },
          "metadata": {
            "tags": []
          },
          "execution_count": 90
        }
      ]
    },
    {
      "cell_type": "code",
      "metadata": {
        "id": "wwB7chy-bKA7",
        "colab_type": "code",
        "colab": {
          "base_uri": "https://localhost:8080/",
          "height": 51
        },
        "outputId": "92681b3f-b858-45b0-ce23-cceda7943728"
      },
      "source": [
        "pred[0,list(movie_cluster_id['image_label'])]"
      ],
      "execution_count": 91,
      "outputs": [
        {
          "output_type": "execute_result",
          "data": {
            "text/plain": [
              "array([2.1201055e-03, 1.6457058e-03, 0.0000000e+00, ..., 3.4450190e-05,\n",
              "       2.1154237e-05, 6.7987385e-05], dtype=float32)"
            ]
          },
          "metadata": {
            "tags": []
          },
          "execution_count": 91
        }
      ]
    },
    {
      "cell_type": "code",
      "metadata": {
        "id": "d38bO90E3t76",
        "colab_type": "code",
        "colab": {
          "base_uri": "https://localhost:8080/",
          "height": 357
        },
        "outputId": "10bc509c-b8e4-4cb2-d3de-7880cca83639"
      },
      "source": [
        "count = 0\n",
        "for j in range(pred.shape[0]):\n",
        "  if(j%500==0):\n",
        "    print(j)\n",
        "  t = movie_cluster_id.copy()\n",
        "  t['pred']=pred[j,list(movie_cluster_id['image_label'])]\n",
        "  t2= t.sort_values(by='pred',ascending=False).groupby('cluster_label').first().reset_index()\n",
        "  #xx2 = t2.groupby('cluster_label').head(1).reset_index()\n",
        "  t3 = t2.sort_values(by='pred',ascending=False).reset_index()\n",
        "  final_top_preds = t3.loc[:11]['image_label'].values\n",
        "  if (np.argmax(testY[j]) in final_top_preds):\n",
        "    count+=1\n",
        "    "
      ],
      "execution_count": 92,
      "outputs": [
        {
          "output_type": "stream",
          "text": [
            "0\n",
            "500\n",
            "1000\n",
            "1500\n",
            "2000\n",
            "2500\n",
            "3000\n",
            "3500\n",
            "4000\n",
            "4500\n",
            "5000\n",
            "5500\n",
            "6000\n",
            "6500\n",
            "7000\n",
            "7500\n",
            "8000\n",
            "8500\n",
            "9000\n",
            "9500\n"
          ],
          "name": "stdout"
        }
      ]
    },
    {
      "cell_type": "code",
      "metadata": {
        "id": "B80D1yZL8gbP",
        "colab_type": "code",
        "colab": {
          "base_uri": "https://localhost:8080/",
          "height": 34
        },
        "outputId": "cbd95023-0f86-41f9-8929-d2fa14f2f60d"
      },
      "source": [
        "count/testX.shape[0]"
      ],
      "execution_count": 93,
      "outputs": [
        {
          "output_type": "execute_result",
          "data": {
            "text/plain": [
              "0.13104652356988805"
            ]
          },
          "metadata": {
            "tags": []
          },
          "execution_count": 93
        }
      ]
    },
    {
      "cell_type": "code",
      "metadata": {
        "id": "aTgn4_HftvoU",
        "colab_type": "code",
        "colab": {}
      },
      "source": [
        ""
      ],
      "execution_count": 0,
      "outputs": []
    }
  ]
}