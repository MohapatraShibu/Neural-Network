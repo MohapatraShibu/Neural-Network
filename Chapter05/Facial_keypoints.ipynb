{
  "nbformat": 4,
  "nbformat_minor": 0,
  "metadata": {
    "colab": {
      "name": "Facial_keypoints.ipynb",
      "provenance": [],
      "collapsed_sections": []
    },
    "kernelspec": {
      "name": "python3",
      "display_name": "Python 3"
    },
    "accelerator": "GPU"
  },
  "cells": [
    {
      "cell_type": "markdown",
      "metadata": {
        "id": "HlpzeWcOGN3Z",
        "colab_type": "text"
      },
      "source": [
        "https://colab.research.google.com/drive/1QwGKUfIetj-clGX9WURJ4PqeIw48zWr0"
      ]
    },
    {
      "cell_type": "code",
      "metadata": {
        "id": "YQWVFN_Fz_m4",
        "colab_type": "code",
        "outputId": "43617c6c-90ec-456c-ba01-53806b98dee0",
        "colab": {
          "base_uri": "https://localhost:8080/",
          "height": 119
        }
      },
      "source": [
        "!git clone https://github.com/udacity/P1_Facial_Keypoints.git\n",
        "!cd P1_Facial_Keypoints"
      ],
      "execution_count": 0,
      "outputs": [
        {
          "output_type": "stream",
          "text": [
            "Cloning into 'P1_Facial_Keypoints'...\n",
            "remote: Enumerating objects: 5981, done.\u001b[K\n",
            "remote: Total 5981 (delta 0), reused 0 (delta 0), pack-reused 5981\u001b[K\n",
            "Receiving objects: 100% (5981/5981), 329.49 MiB | 14.28 MiB/s, done.\n",
            "Resolving deltas: 100% (124/124), done.\n",
            "Checking out files: 100% (5803/5803), done.\n"
          ],
          "name": "stdout"
        }
      ]
    },
    {
      "cell_type": "code",
      "metadata": {
        "id": "gIRWp84I0Q0I",
        "colab_type": "code",
        "outputId": "a205fc14-71fd-4ef2-bf7e-1592bd4e6adf",
        "colab": {
          "base_uri": "https://localhost:8080/",
          "height": 34
        }
      },
      "source": [
        "!ls"
      ],
      "execution_count": 0,
      "outputs": [
        {
          "output_type": "stream",
          "text": [
            "P1_Facial_Keypoints  sample_data\n"
          ],
          "name": "stdout"
        }
      ]
    },
    {
      "cell_type": "code",
      "metadata": {
        "id": "Qb74-stJ3xH0",
        "colab_type": "code",
        "colab": {}
      },
      "source": [
        "import os\n",
        "import glob\n",
        "root_dir = 'P1_Facial_Keypoints/data/training/'\n",
        "all_img_paths = glob.glob(os.path.join(root_dir, '*.jpg'))"
      ],
      "execution_count": 0,
      "outputs": []
    },
    {
      "cell_type": "code",
      "metadata": {
        "id": "vNarY9Qb4AY9",
        "colab_type": "code",
        "outputId": "552814e3-5a90-4f08-ab8d-22cfb3952136",
        "colab": {
          "base_uri": "https://localhost:8080/",
          "height": 102
        }
      },
      "source": [
        "all_img_paths[:5]"
      ],
      "execution_count": 0,
      "outputs": [
        {
          "output_type": "execute_result",
          "data": {
            "text/plain": [
              "['P1_Facial_Keypoints/data/training/Picabo_Street_40.jpg',\n",
              " 'P1_Facial_Keypoints/data/training/Marc_Anthony_10.jpg',\n",
              " 'P1_Facial_Keypoints/data/training/Jake_Gyllenhaal_51.jpg',\n",
              " 'P1_Facial_Keypoints/data/training/Maggie_Smith_41.jpg',\n",
              " 'P1_Facial_Keypoints/data/training/Matt_LeBlanc_21.jpg']"
            ]
          },
          "metadata": {
            "tags": []
          },
          "execution_count": 4
        }
      ]
    },
    {
      "cell_type": "code",
      "metadata": {
        "id": "VK9bLXIT4E4U",
        "colab_type": "code",
        "colab": {}
      },
      "source": [
        "import pandas as pd"
      ],
      "execution_count": 0,
      "outputs": []
    },
    {
      "cell_type": "code",
      "metadata": {
        "id": "sslnU8ri4Imq",
        "colab_type": "code",
        "outputId": "6dfd35b2-1d5f-4326-d0fe-6bd563c5c028",
        "colab": {
          "base_uri": "https://localhost:8080/",
          "height": 253
        }
      },
      "source": [
        "data = pd.read_csv('/content/P1_Facial_Keypoints/data/training_frames_keypoints.csv')\n",
        "data.head()"
      ],
      "execution_count": 0,
      "outputs": [
        {
          "output_type": "execute_result",
          "data": {
            "text/html": [
              "<div>\n",
              "<style scoped>\n",
              "    .dataframe tbody tr th:only-of-type {\n",
              "        vertical-align: middle;\n",
              "    }\n",
              "\n",
              "    .dataframe tbody tr th {\n",
              "        vertical-align: top;\n",
              "    }\n",
              "\n",
              "    .dataframe thead th {\n",
              "        text-align: right;\n",
              "    }\n",
              "</style>\n",
              "<table border=\"1\" class=\"dataframe\">\n",
              "  <thead>\n",
              "    <tr style=\"text-align: right;\">\n",
              "      <th></th>\n",
              "      <th>Unnamed: 0</th>\n",
              "      <th>0</th>\n",
              "      <th>1</th>\n",
              "      <th>2</th>\n",
              "      <th>3</th>\n",
              "      <th>4</th>\n",
              "      <th>5</th>\n",
              "      <th>6</th>\n",
              "      <th>7</th>\n",
              "      <th>8</th>\n",
              "      <th>9</th>\n",
              "      <th>10</th>\n",
              "      <th>11</th>\n",
              "      <th>12</th>\n",
              "      <th>13</th>\n",
              "      <th>14</th>\n",
              "      <th>15</th>\n",
              "      <th>16</th>\n",
              "      <th>17</th>\n",
              "      <th>18</th>\n",
              "      <th>19</th>\n",
              "      <th>20</th>\n",
              "      <th>21</th>\n",
              "      <th>22</th>\n",
              "      <th>23</th>\n",
              "      <th>24</th>\n",
              "      <th>25</th>\n",
              "      <th>26</th>\n",
              "      <th>27</th>\n",
              "      <th>28</th>\n",
              "      <th>29</th>\n",
              "      <th>30</th>\n",
              "      <th>31</th>\n",
              "      <th>32</th>\n",
              "      <th>33</th>\n",
              "      <th>34</th>\n",
              "      <th>35</th>\n",
              "      <th>36</th>\n",
              "      <th>37</th>\n",
              "      <th>38</th>\n",
              "      <th>...</th>\n",
              "      <th>96</th>\n",
              "      <th>97</th>\n",
              "      <th>98</th>\n",
              "      <th>99</th>\n",
              "      <th>100</th>\n",
              "      <th>101</th>\n",
              "      <th>102</th>\n",
              "      <th>103</th>\n",
              "      <th>104</th>\n",
              "      <th>105</th>\n",
              "      <th>106</th>\n",
              "      <th>107</th>\n",
              "      <th>108</th>\n",
              "      <th>109</th>\n",
              "      <th>110</th>\n",
              "      <th>111</th>\n",
              "      <th>112</th>\n",
              "      <th>113</th>\n",
              "      <th>114</th>\n",
              "      <th>115</th>\n",
              "      <th>116</th>\n",
              "      <th>117</th>\n",
              "      <th>118</th>\n",
              "      <th>119</th>\n",
              "      <th>120</th>\n",
              "      <th>121</th>\n",
              "      <th>122</th>\n",
              "      <th>123</th>\n",
              "      <th>124</th>\n",
              "      <th>125</th>\n",
              "      <th>126</th>\n",
              "      <th>127</th>\n",
              "      <th>128</th>\n",
              "      <th>129</th>\n",
              "      <th>130</th>\n",
              "      <th>131</th>\n",
              "      <th>132</th>\n",
              "      <th>133</th>\n",
              "      <th>134</th>\n",
              "      <th>135</th>\n",
              "    </tr>\n",
              "  </thead>\n",
              "  <tbody>\n",
              "    <tr>\n",
              "      <th>0</th>\n",
              "      <td>Luis_Fonsi_21.jpg</td>\n",
              "      <td>45.0</td>\n",
              "      <td>98.0</td>\n",
              "      <td>47.0</td>\n",
              "      <td>106.0</td>\n",
              "      <td>49.0</td>\n",
              "      <td>110.0</td>\n",
              "      <td>53.0</td>\n",
              "      <td>119.0</td>\n",
              "      <td>56.0</td>\n",
              "      <td>125.0</td>\n",
              "      <td>62.0</td>\n",
              "      <td>130.0</td>\n",
              "      <td>66.0</td>\n",
              "      <td>134.0</td>\n",
              "      <td>73.0</td>\n",
              "      <td>136.0</td>\n",
              "      <td>81.0</td>\n",
              "      <td>139.0</td>\n",
              "      <td>92.0</td>\n",
              "      <td>134.0</td>\n",
              "      <td>96.0</td>\n",
              "      <td>130.0</td>\n",
              "      <td>98.0</td>\n",
              "      <td>126.0</td>\n",
              "      <td>102.0</td>\n",
              "      <td>120.0</td>\n",
              "      <td>102.0</td>\n",
              "      <td>111.0</td>\n",
              "      <td>104.0</td>\n",
              "      <td>105.0</td>\n",
              "      <td>104.0</td>\n",
              "      <td>99.0</td>\n",
              "      <td>102.0</td>\n",
              "      <td>90.0</td>\n",
              "      <td>51.0</td>\n",
              "      <td>89.0</td>\n",
              "      <td>56.0</td>\n",
              "      <td>87.0</td>\n",
              "      <td>60.0</td>\n",
              "      <td>...</td>\n",
              "      <td>68.0</td>\n",
              "      <td>119.0</td>\n",
              "      <td>73.0</td>\n",
              "      <td>117.0</td>\n",
              "      <td>77.0</td>\n",
              "      <td>115.0</td>\n",
              "      <td>79.0</td>\n",
              "      <td>117.0</td>\n",
              "      <td>81.0</td>\n",
              "      <td>115.0</td>\n",
              "      <td>85.0</td>\n",
              "      <td>117.0</td>\n",
              "      <td>90.0</td>\n",
              "      <td>117.0</td>\n",
              "      <td>87.0</td>\n",
              "      <td>122.0</td>\n",
              "      <td>85.0</td>\n",
              "      <td>124.0</td>\n",
              "      <td>81.0</td>\n",
              "      <td>124.0</td>\n",
              "      <td>77.0</td>\n",
              "      <td>124.0</td>\n",
              "      <td>73.0</td>\n",
              "      <td>121.0</td>\n",
              "      <td>70.0</td>\n",
              "      <td>119.0</td>\n",
              "      <td>77.0</td>\n",
              "      <td>119.0</td>\n",
              "      <td>79.0</td>\n",
              "      <td>119.0</td>\n",
              "      <td>83.0</td>\n",
              "      <td>119.0</td>\n",
              "      <td>90.0</td>\n",
              "      <td>117.0</td>\n",
              "      <td>83.0</td>\n",
              "      <td>119.0</td>\n",
              "      <td>81.0</td>\n",
              "      <td>122.0</td>\n",
              "      <td>77.0</td>\n",
              "      <td>122.0</td>\n",
              "    </tr>\n",
              "    <tr>\n",
              "      <th>1</th>\n",
              "      <td>Lincoln_Chafee_52.jpg</td>\n",
              "      <td>41.0</td>\n",
              "      <td>83.0</td>\n",
              "      <td>43.0</td>\n",
              "      <td>91.0</td>\n",
              "      <td>45.0</td>\n",
              "      <td>100.0</td>\n",
              "      <td>47.0</td>\n",
              "      <td>108.0</td>\n",
              "      <td>51.0</td>\n",
              "      <td>119.0</td>\n",
              "      <td>58.0</td>\n",
              "      <td>130.0</td>\n",
              "      <td>64.0</td>\n",
              "      <td>136.0</td>\n",
              "      <td>73.0</td>\n",
              "      <td>141.0</td>\n",
              "      <td>85.0</td>\n",
              "      <td>143.0</td>\n",
              "      <td>96.0</td>\n",
              "      <td>137.0</td>\n",
              "      <td>102.0</td>\n",
              "      <td>131.0</td>\n",
              "      <td>107.0</td>\n",
              "      <td>124.0</td>\n",
              "      <td>109.0</td>\n",
              "      <td>114.0</td>\n",
              "      <td>111.0</td>\n",
              "      <td>105.0</td>\n",
              "      <td>111.0</td>\n",
              "      <td>97.0</td>\n",
              "      <td>111.0</td>\n",
              "      <td>88.0</td>\n",
              "      <td>111.0</td>\n",
              "      <td>78.0</td>\n",
              "      <td>51.0</td>\n",
              "      <td>83.0</td>\n",
              "      <td>56.0</td>\n",
              "      <td>81.0</td>\n",
              "      <td>62.0</td>\n",
              "      <td>...</td>\n",
              "      <td>70.0</td>\n",
              "      <td>122.0</td>\n",
              "      <td>75.0</td>\n",
              "      <td>122.0</td>\n",
              "      <td>81.0</td>\n",
              "      <td>120.0</td>\n",
              "      <td>83.0</td>\n",
              "      <td>120.0</td>\n",
              "      <td>85.0</td>\n",
              "      <td>120.0</td>\n",
              "      <td>90.0</td>\n",
              "      <td>120.0</td>\n",
              "      <td>94.0</td>\n",
              "      <td>120.0</td>\n",
              "      <td>90.0</td>\n",
              "      <td>124.0</td>\n",
              "      <td>87.0</td>\n",
              "      <td>126.0</td>\n",
              "      <td>83.0</td>\n",
              "      <td>126.0</td>\n",
              "      <td>79.0</td>\n",
              "      <td>126.0</td>\n",
              "      <td>75.0</td>\n",
              "      <td>124.0</td>\n",
              "      <td>70.0</td>\n",
              "      <td>122.0</td>\n",
              "      <td>79.0</td>\n",
              "      <td>122.0</td>\n",
              "      <td>83.0</td>\n",
              "      <td>122.0</td>\n",
              "      <td>85.0</td>\n",
              "      <td>122.0</td>\n",
              "      <td>94.0</td>\n",
              "      <td>120.0</td>\n",
              "      <td>85.0</td>\n",
              "      <td>122.0</td>\n",
              "      <td>83.0</td>\n",
              "      <td>122.0</td>\n",
              "      <td>79.0</td>\n",
              "      <td>122.0</td>\n",
              "    </tr>\n",
              "    <tr>\n",
              "      <th>2</th>\n",
              "      <td>Valerie_Harper_30.jpg</td>\n",
              "      <td>56.0</td>\n",
              "      <td>69.0</td>\n",
              "      <td>56.0</td>\n",
              "      <td>77.0</td>\n",
              "      <td>56.0</td>\n",
              "      <td>86.0</td>\n",
              "      <td>56.0</td>\n",
              "      <td>94.0</td>\n",
              "      <td>58.0</td>\n",
              "      <td>103.0</td>\n",
              "      <td>60.0</td>\n",
              "      <td>111.0</td>\n",
              "      <td>62.0</td>\n",
              "      <td>116.0</td>\n",
              "      <td>67.0</td>\n",
              "      <td>122.0</td>\n",
              "      <td>75.0</td>\n",
              "      <td>127.0</td>\n",
              "      <td>86.0</td>\n",
              "      <td>127.0</td>\n",
              "      <td>96.0</td>\n",
              "      <td>123.0</td>\n",
              "      <td>105.0</td>\n",
              "      <td>121.0</td>\n",
              "      <td>113.0</td>\n",
              "      <td>114.0</td>\n",
              "      <td>118.0</td>\n",
              "      <td>106.0</td>\n",
              "      <td>122.0</td>\n",
              "      <td>100.0</td>\n",
              "      <td>124.0</td>\n",
              "      <td>91.0</td>\n",
              "      <td>128.0</td>\n",
              "      <td>81.0</td>\n",
              "      <td>58.0</td>\n",
              "      <td>56.0</td>\n",
              "      <td>62.0</td>\n",
              "      <td>54.0</td>\n",
              "      <td>67.0</td>\n",
              "      <td>...</td>\n",
              "      <td>67.0</td>\n",
              "      <td>103.0</td>\n",
              "      <td>69.0</td>\n",
              "      <td>101.0</td>\n",
              "      <td>73.0</td>\n",
              "      <td>101.0</td>\n",
              "      <td>75.0</td>\n",
              "      <td>101.0</td>\n",
              "      <td>77.0</td>\n",
              "      <td>101.0</td>\n",
              "      <td>84.0</td>\n",
              "      <td>103.0</td>\n",
              "      <td>88.0</td>\n",
              "      <td>108.0</td>\n",
              "      <td>82.0</td>\n",
              "      <td>110.0</td>\n",
              "      <td>77.0</td>\n",
              "      <td>110.0</td>\n",
              "      <td>75.0</td>\n",
              "      <td>110.0</td>\n",
              "      <td>71.0</td>\n",
              "      <td>110.0</td>\n",
              "      <td>69.0</td>\n",
              "      <td>107.0</td>\n",
              "      <td>67.0</td>\n",
              "      <td>103.0</td>\n",
              "      <td>73.0</td>\n",
              "      <td>103.0</td>\n",
              "      <td>75.0</td>\n",
              "      <td>105.0</td>\n",
              "      <td>79.0</td>\n",
              "      <td>105.0</td>\n",
              "      <td>86.0</td>\n",
              "      <td>108.0</td>\n",
              "      <td>77.0</td>\n",
              "      <td>105.0</td>\n",
              "      <td>75.0</td>\n",
              "      <td>105.0</td>\n",
              "      <td>73.0</td>\n",
              "      <td>105.0</td>\n",
              "    </tr>\n",
              "    <tr>\n",
              "      <th>3</th>\n",
              "      <td>Angelo_Reyes_22.jpg</td>\n",
              "      <td>61.0</td>\n",
              "      <td>80.0</td>\n",
              "      <td>58.0</td>\n",
              "      <td>95.0</td>\n",
              "      <td>58.0</td>\n",
              "      <td>108.0</td>\n",
              "      <td>58.0</td>\n",
              "      <td>120.0</td>\n",
              "      <td>58.0</td>\n",
              "      <td>132.0</td>\n",
              "      <td>61.0</td>\n",
              "      <td>141.0</td>\n",
              "      <td>64.0</td>\n",
              "      <td>148.0</td>\n",
              "      <td>73.0</td>\n",
              "      <td>157.0</td>\n",
              "      <td>85.0</td>\n",
              "      <td>163.0</td>\n",
              "      <td>101.0</td>\n",
              "      <td>163.0</td>\n",
              "      <td>116.0</td>\n",
              "      <td>164.0</td>\n",
              "      <td>128.0</td>\n",
              "      <td>161.0</td>\n",
              "      <td>137.0</td>\n",
              "      <td>155.0</td>\n",
              "      <td>144.0</td>\n",
              "      <td>143.0</td>\n",
              "      <td>150.0</td>\n",
              "      <td>134.0</td>\n",
              "      <td>156.0</td>\n",
              "      <td>121.0</td>\n",
              "      <td>162.0</td>\n",
              "      <td>109.0</td>\n",
              "      <td>70.0</td>\n",
              "      <td>68.0</td>\n",
              "      <td>76.0</td>\n",
              "      <td>65.0</td>\n",
              "      <td>85.0</td>\n",
              "      <td>...</td>\n",
              "      <td>76.0</td>\n",
              "      <td>129.0</td>\n",
              "      <td>82.0</td>\n",
              "      <td>130.0</td>\n",
              "      <td>88.0</td>\n",
              "      <td>127.0</td>\n",
              "      <td>91.0</td>\n",
              "      <td>130.0</td>\n",
              "      <td>98.0</td>\n",
              "      <td>130.0</td>\n",
              "      <td>104.0</td>\n",
              "      <td>133.0</td>\n",
              "      <td>110.0</td>\n",
              "      <td>139.0</td>\n",
              "      <td>101.0</td>\n",
              "      <td>142.0</td>\n",
              "      <td>95.0</td>\n",
              "      <td>145.0</td>\n",
              "      <td>88.0</td>\n",
              "      <td>142.0</td>\n",
              "      <td>82.0</td>\n",
              "      <td>142.0</td>\n",
              "      <td>79.0</td>\n",
              "      <td>139.0</td>\n",
              "      <td>76.0</td>\n",
              "      <td>129.0</td>\n",
              "      <td>85.0</td>\n",
              "      <td>133.0</td>\n",
              "      <td>91.0</td>\n",
              "      <td>133.0</td>\n",
              "      <td>98.0</td>\n",
              "      <td>136.0</td>\n",
              "      <td>107.0</td>\n",
              "      <td>139.0</td>\n",
              "      <td>95.0</td>\n",
              "      <td>139.0</td>\n",
              "      <td>91.0</td>\n",
              "      <td>139.0</td>\n",
              "      <td>85.0</td>\n",
              "      <td>136.0</td>\n",
              "    </tr>\n",
              "    <tr>\n",
              "      <th>4</th>\n",
              "      <td>Kristen_Breitweiser_11.jpg</td>\n",
              "      <td>58.0</td>\n",
              "      <td>94.0</td>\n",
              "      <td>58.0</td>\n",
              "      <td>104.0</td>\n",
              "      <td>60.0</td>\n",
              "      <td>113.0</td>\n",
              "      <td>62.0</td>\n",
              "      <td>121.0</td>\n",
              "      <td>67.0</td>\n",
              "      <td>130.0</td>\n",
              "      <td>71.0</td>\n",
              "      <td>136.0</td>\n",
              "      <td>75.0</td>\n",
              "      <td>138.0</td>\n",
              "      <td>81.0</td>\n",
              "      <td>141.0</td>\n",
              "      <td>92.0</td>\n",
              "      <td>143.0</td>\n",
              "      <td>105.0</td>\n",
              "      <td>139.0</td>\n",
              "      <td>113.0</td>\n",
              "      <td>135.0</td>\n",
              "      <td>122.0</td>\n",
              "      <td>129.0</td>\n",
              "      <td>126.0</td>\n",
              "      <td>122.0</td>\n",
              "      <td>128.0</td>\n",
              "      <td>112.0</td>\n",
              "      <td>130.0</td>\n",
              "      <td>103.0</td>\n",
              "      <td>130.0</td>\n",
              "      <td>95.0</td>\n",
              "      <td>130.0</td>\n",
              "      <td>86.0</td>\n",
              "      <td>58.0</td>\n",
              "      <td>81.0</td>\n",
              "      <td>60.0</td>\n",
              "      <td>74.0</td>\n",
              "      <td>64.0</td>\n",
              "      <td>...</td>\n",
              "      <td>75.0</td>\n",
              "      <td>121.0</td>\n",
              "      <td>79.0</td>\n",
              "      <td>117.0</td>\n",
              "      <td>84.0</td>\n",
              "      <td>115.0</td>\n",
              "      <td>86.0</td>\n",
              "      <td>115.0</td>\n",
              "      <td>90.0</td>\n",
              "      <td>113.0</td>\n",
              "      <td>96.0</td>\n",
              "      <td>115.0</td>\n",
              "      <td>103.0</td>\n",
              "      <td>118.0</td>\n",
              "      <td>98.0</td>\n",
              "      <td>122.0</td>\n",
              "      <td>92.0</td>\n",
              "      <td>124.0</td>\n",
              "      <td>88.0</td>\n",
              "      <td>124.0</td>\n",
              "      <td>84.0</td>\n",
              "      <td>126.0</td>\n",
              "      <td>79.0</td>\n",
              "      <td>124.0</td>\n",
              "      <td>77.0</td>\n",
              "      <td>121.0</td>\n",
              "      <td>84.0</td>\n",
              "      <td>117.0</td>\n",
              "      <td>88.0</td>\n",
              "      <td>117.0</td>\n",
              "      <td>92.0</td>\n",
              "      <td>117.0</td>\n",
              "      <td>103.0</td>\n",
              "      <td>118.0</td>\n",
              "      <td>92.0</td>\n",
              "      <td>120.0</td>\n",
              "      <td>88.0</td>\n",
              "      <td>122.0</td>\n",
              "      <td>84.0</td>\n",
              "      <td>122.0</td>\n",
              "    </tr>\n",
              "  </tbody>\n",
              "</table>\n",
              "<p>5 rows × 137 columns</p>\n",
              "</div>"
            ],
            "text/plain": [
              "                   Unnamed: 0     0     1     2  ...   132    133   134    135\n",
              "0           Luis_Fonsi_21.jpg  45.0  98.0  47.0  ...  81.0  122.0  77.0  122.0\n",
              "1       Lincoln_Chafee_52.jpg  41.0  83.0  43.0  ...  83.0  122.0  79.0  122.0\n",
              "2       Valerie_Harper_30.jpg  56.0  69.0  56.0  ...  75.0  105.0  73.0  105.0\n",
              "3         Angelo_Reyes_22.jpg  61.0  80.0  58.0  ...  91.0  139.0  85.0  136.0\n",
              "4  Kristen_Breitweiser_11.jpg  58.0  94.0  58.0  ...  88.0  122.0  84.0  122.0\n",
              "\n",
              "[5 rows x 137 columns]"
            ]
          },
          "metadata": {
            "tags": []
          },
          "execution_count": 6
        }
      ]
    },
    {
      "cell_type": "code",
      "metadata": {
        "id": "WxRf-vLU43v8",
        "colab_type": "code",
        "outputId": "8686d0e2-a706-43c5-ae3c-ac195c30dd51",
        "colab": {
          "base_uri": "https://localhost:8080/",
          "height": 34
        }
      },
      "source": [
        "data.shape, len(all_img_paths)"
      ],
      "execution_count": 0,
      "outputs": [
        {
          "output_type": "execute_result",
          "data": {
            "text/plain": [
              "((3462, 137), 3462)"
            ]
          },
          "metadata": {
            "tags": []
          },
          "execution_count": 7
        }
      ]
    },
    {
      "cell_type": "code",
      "metadata": {
        "id": "eV4a_pv7A6aJ",
        "colab_type": "code",
        "outputId": "08c45c7f-7db7-4732-8d4d-dfde185e0c8e",
        "colab": {
          "base_uri": "https://localhost:8080/",
          "height": 292
        }
      },
      "source": [
        "from keras.applications import vgg16\n",
        "from keras.utils.vis_utils import plot_model\n",
        "from keras.applications.vgg16 import preprocess_input\n",
        "vgg16_model = vgg16.VGG16(include_top=False, weights='imagenet',input_shape=(224,224,3))"
      ],
      "execution_count": 0,
      "outputs": [
        {
          "output_type": "stream",
          "text": [
            "Using TensorFlow backend.\n"
          ],
          "name": "stderr"
        },
        {
          "output_type": "stream",
          "text": [
            "WARNING:tensorflow:From /usr/local/lib/python3.6/dist-packages/keras/backend/tensorflow_backend.py:66: The name tf.get_default_graph is deprecated. Please use tf.compat.v1.get_default_graph instead.\n",
            "\n",
            "WARNING:tensorflow:From /usr/local/lib/python3.6/dist-packages/keras/backend/tensorflow_backend.py:541: The name tf.placeholder is deprecated. Please use tf.compat.v1.placeholder instead.\n",
            "\n",
            "WARNING:tensorflow:From /usr/local/lib/python3.6/dist-packages/keras/backend/tensorflow_backend.py:4432: The name tf.random_uniform is deprecated. Please use tf.random.uniform instead.\n",
            "\n",
            "WARNING:tensorflow:From /usr/local/lib/python3.6/dist-packages/keras/backend/tensorflow_backend.py:4267: The name tf.nn.max_pool is deprecated. Please use tf.nn.max_pool2d instead.\n",
            "\n",
            "Downloading data from https://github.com/fchollet/deep-learning-models/releases/download/v0.1/vgg16_weights_tf_dim_ordering_tf_kernels_notop.h5\n",
            "58892288/58889256 [==============================] - 5s 0us/step\n",
            "WARNING:tensorflow:From /usr/local/lib/python3.6/dist-packages/keras/backend/tensorflow_backend.py:190: The name tf.get_default_session is deprecated. Please use tf.compat.v1.get_default_session instead.\n",
            "\n",
            "WARNING:tensorflow:From /usr/local/lib/python3.6/dist-packages/keras/backend/tensorflow_backend.py:197: The name tf.ConfigProto is deprecated. Please use tf.compat.v1.ConfigProto instead.\n",
            "\n"
          ],
          "name": "stdout"
        }
      ]
    },
    {
      "cell_type": "code",
      "metadata": {
        "id": "MACjKYJkuvBi",
        "colab_type": "code",
        "outputId": "2c458f8d-8e0b-4347-a295-f02c010c5b2a",
        "colab": {
          "base_uri": "https://localhost:8080/",
          "height": 799
        }
      },
      "source": [
        "vgg16_model.summary()"
      ],
      "execution_count": 0,
      "outputs": [
        {
          "output_type": "stream",
          "text": [
            "Model: \"vgg16\"\n",
            "_________________________________________________________________\n",
            "Layer (type)                 Output Shape              Param #   \n",
            "=================================================================\n",
            "input_1 (InputLayer)         (None, 224, 224, 3)       0         \n",
            "_________________________________________________________________\n",
            "block1_conv1 (Conv2D)        (None, 224, 224, 64)      1792      \n",
            "_________________________________________________________________\n",
            "block1_conv2 (Conv2D)        (None, 224, 224, 64)      36928     \n",
            "_________________________________________________________________\n",
            "block1_pool (MaxPooling2D)   (None, 112, 112, 64)      0         \n",
            "_________________________________________________________________\n",
            "block2_conv1 (Conv2D)        (None, 112, 112, 128)     73856     \n",
            "_________________________________________________________________\n",
            "block2_conv2 (Conv2D)        (None, 112, 112, 128)     147584    \n",
            "_________________________________________________________________\n",
            "block2_pool (MaxPooling2D)   (None, 56, 56, 128)       0         \n",
            "_________________________________________________________________\n",
            "block3_conv1 (Conv2D)        (None, 56, 56, 256)       295168    \n",
            "_________________________________________________________________\n",
            "block3_conv2 (Conv2D)        (None, 56, 56, 256)       590080    \n",
            "_________________________________________________________________\n",
            "block3_conv3 (Conv2D)        (None, 56, 56, 256)       590080    \n",
            "_________________________________________________________________\n",
            "block3_pool (MaxPooling2D)   (None, 28, 28, 256)       0         \n",
            "_________________________________________________________________\n",
            "block4_conv1 (Conv2D)        (None, 28, 28, 512)       1180160   \n",
            "_________________________________________________________________\n",
            "block4_conv2 (Conv2D)        (None, 28, 28, 512)       2359808   \n",
            "_________________________________________________________________\n",
            "block4_conv3 (Conv2D)        (None, 28, 28, 512)       2359808   \n",
            "_________________________________________________________________\n",
            "block4_pool (MaxPooling2D)   (None, 14, 14, 512)       0         \n",
            "_________________________________________________________________\n",
            "block5_conv1 (Conv2D)        (None, 14, 14, 512)       2359808   \n",
            "_________________________________________________________________\n",
            "block5_conv2 (Conv2D)        (None, 14, 14, 512)       2359808   \n",
            "_________________________________________________________________\n",
            "block5_conv3 (Conv2D)        (None, 14, 14, 512)       2359808   \n",
            "_________________________________________________________________\n",
            "block5_pool (MaxPooling2D)   (None, 7, 7, 512)         0         \n",
            "=================================================================\n",
            "Total params: 14,714,688\n",
            "Trainable params: 14,714,688\n",
            "Non-trainable params: 0\n",
            "_________________________________________________________________\n"
          ],
          "name": "stdout"
        }
      ]
    },
    {
      "cell_type": "code",
      "metadata": {
        "id": "EJGxxt8k4ikO",
        "colab_type": "code",
        "colab": {}
      },
      "source": [
        "import cv2\n",
        "import numpy as np\n",
        "from copy import deepcopy\n",
        "x=[]\n",
        "x_img = []\n",
        "y=[]\n",
        "for i in range(data.shape[0]):\n",
        "  if(i%100==0):\n",
        "    print(i)\n",
        "  img_path = '/content/P1_Facial_Keypoints/data/training/' + data.iloc[i,0]\n",
        "  img = cv2.imread(img_path)\n",
        "  #print(img.shape)\n",
        "  kp = deepcopy(data.iloc[i,1:].tolist())\n",
        "  kp_x = (np.array(kp[0::2])/img.shape[1]).tolist()\n",
        "  kp_y = (np.array(kp[1::2])/img.shape[0]).tolist()\n",
        "  kp2 = kp_x + kp_y\n",
        "  img = cv2.resize(img,(224,224))\n",
        "  preprocess_img = preprocess_input(img.reshape(1,224,224,3))\n",
        "  vgg16_img = vgg16_model.predict(preprocess_img)\n",
        "  x_img.append(img)\n",
        "  x.append(vgg16_img)\n",
        "  y.append(kp2)"
      ],
      "execution_count": 0,
      "outputs": []
    },
    {
      "cell_type": "code",
      "metadata": {
        "id": "jtccUlOZvqM6",
        "colab_type": "code",
        "colab": {}
      },
      "source": [
        "import matplotlib.pyplot as plt # Added this line "
      ],
      "execution_count": 0,
      "outputs": []
    },
    {
      "cell_type": "code",
      "metadata": {
        "id": "YMNhuvMvI57t",
        "colab_type": "code",
        "outputId": "cadc1fd6-8b3c-447b-8ee1-2f28ca792a95",
        "colab": {
          "base_uri": "https://localhost:8080/",
          "height": 349
        }
      },
      "source": [
        "plt.subplot(222)\n",
        "plt.title('Image with facial key points')\n",
        "img_path = '/content/P1_Facial_Keypoints/data/training/' + data.iloc[0,0]\n",
        "img = cv2.imread(img_path)\n",
        "kp = deepcopy(data.iloc[0,1:].tolist())\n",
        "plt.scatter(kp[0::2], kp[1::2])\n",
        "plt.grid('off')\n",
        "plt.imshow(img)\n",
        "plt.subplot(224)\n",
        "img_path = '/content/P1_Facial_Keypoints/data/training/' + data.iloc[3,0]\n",
        "img = cv2.imread(img_path)\n",
        "kp = deepcopy(data.iloc[3,1:].tolist())\n",
        "plt.scatter(kp[0::2], kp[1::2])\n",
        "plt.grid('off')\n",
        "plt.imshow(img)\n",
        "plt.subplot(221)\n",
        "plt.title('Original image')\n",
        "img_path = '/content/P1_Facial_Keypoints/data/training/' + data.iloc[0,0]\n",
        "img = cv2.imread(img_path)\n",
        "kp = deepcopy(data.iloc[0,1:].tolist())\n",
        "plt.grid('off')\n",
        "plt.imshow(img)\n",
        "plt.subplot(223)\n",
        "img_path = '/content/P1_Facial_Keypoints/data/training/' + data.iloc[3,0]\n",
        "img = cv2.imread(img_path)\n",
        "kp = deepcopy(data.iloc[3,1:].tolist())\n",
        "plt.grid('off')\n",
        "plt.imshow(img)"
      ],
      "execution_count": 0,
      "outputs": [
        {
          "output_type": "stream",
          "text": [
            "/usr/local/lib/python3.6/dist-packages/matplotlib/cbook/__init__.py:424: MatplotlibDeprecationWarning: \n",
            "Passing one of 'on', 'true', 'off', 'false' as a boolean is deprecated; use an actual boolean (True/False) instead.\n",
            "  warn_deprecated(\"2.2\", \"Passing one of 'on', 'true', 'off', 'false' as a \"\n"
          ],
          "name": "stderr"
        },
        {
          "output_type": "execute_result",
          "data": {
            "text/plain": [
              "<matplotlib.image.AxesImage at 0x7f07203b4e10>"
            ]
          },
          "metadata": {
            "tags": []
          },
          "execution_count": 16
        },
        {
          "output_type": "display_data",
          "data": {
            "image/png": "[encoded data removed]",
            "text/plain": [
              "<Figure size 432x288 with 4 Axes>"
            ]
          },
          "metadata": {
            "tags": []
          }
        }
      ]
    },
    {
      "cell_type": "code",
      "metadata": {
        "id": "ZmOquBXODYPi",
        "colab_type": "code",
        "outputId": "a22213f2-f078-4421-fd0e-b1f53159c13b",
        "colab": {
          "base_uri": "https://localhost:8080/",
          "height": 34
        }
      },
      "source": [
        "np.max(x)"
      ],
      "execution_count": 0,
      "outputs": [
        {
          "output_type": "execute_result",
          "data": {
            "text/plain": [
              "451.559"
            ]
          },
          "metadata": {
            "tags": []
          },
          "execution_count": 17
        }
      ]
    },
    {
      "cell_type": "code",
      "metadata": {
        "id": "KWrTdeQjBV4u",
        "colab_type": "code",
        "colab": {}
      },
      "source": [
        "x = np.array(x)\n",
        "vgg16_x = vgg16_model.predict(x.reshape(-1,224,224,3))"
      ],
      "execution_count": 0,
      "outputs": []
    },
    {
      "cell_type": "code",
      "metadata": {
        "id": "gHRDd15VEFsK",
        "colab_type": "code",
        "colab": {}
      },
      "source": [
        "x = x.reshape(x.shape[0],7,7,512)"
      ],
      "execution_count": 0,
      "outputs": []
    },
    {
      "cell_type": "code",
      "metadata": {
        "id": "iNW5fPMpB6iW",
        "colab_type": "code",
        "outputId": "b406fc80-835a-448e-9100-5e63e7fdabc1",
        "colab": {
          "base_uri": "https://localhost:8080/",
          "height": 34
        }
      },
      "source": [
        "y = np.array(y)\n",
        "y.shape"
      ],
      "execution_count": 0,
      "outputs": [
        {
          "output_type": "execute_result",
          "data": {
            "text/plain": [
              "(3462, 136)"
            ]
          },
          "metadata": {
            "tags": []
          },
          "execution_count": 21
        }
      ]
    },
    {
      "cell_type": "code",
      "metadata": {
        "id": "ZtQvOmWsBpp6",
        "colab_type": "code",
        "colab": {}
      },
      "source": [
        "from keras.models import Sequential\n",
        "from keras.layers import Conv2D, MaxPooling2D, Flatten, Dense, Dropout"
      ],
      "execution_count": 0,
      "outputs": []
    },
    {
      "cell_type": "code",
      "metadata": {
        "id": "IXLQgwRwBgZI",
        "colab_type": "code",
        "outputId": "24938dbb-7c88-44ec-ee16-d6367d3bae2c",
        "colab": {
          "base_uri": "https://localhost:8080/",
          "height": 428
        }
      },
      "source": [
        "model_vgg16 = Sequential()\n",
        "model_vgg16.add(Conv2D(512, kernel_size=(3, 3), activation='relu',input_shape=(vgg16_x.shape[1],vgg16_x.shape[2],vgg16_x.shape[3])))\n",
        "model_vgg16.add(MaxPooling2D(pool_size=(2, 2)))\n",
        "model_vgg16.add(Flatten())\n",
        "model_vgg16.add(Dense(512, activation='relu'))\n",
        "model_vgg16.add(Dropout(0.5))\n",
        "model_vgg16.add(Dense(y.shape[1], activation='sigmoid'))\n",
        "model_vgg16.summary()"
      ],
      "execution_count": 0,
      "outputs": [
        {
          "output_type": "stream",
          "text": [
            "WARNING:tensorflow:From /usr/local/lib/python3.6/dist-packages/keras/backend/tensorflow_backend.py:3733: calling dropout (from tensorflow.python.ops.nn_ops) with keep_prob is deprecated and will be removed in a future version.\n",
            "Instructions for updating:\n",
            "Please use `rate` instead of `keep_prob`. Rate should be set to `rate = 1 - keep_prob`.\n",
            "Model: \"sequential_2\"\n",
            "_________________________________________________________________\n",
            "Layer (type)                 Output Shape              Param #   \n",
            "=================================================================\n",
            "conv2d_1 (Conv2D)            (None, 5, 5, 512)         2359808   \n",
            "_________________________________________________________________\n",
            "max_pooling2d_1 (MaxPooling2 (None, 2, 2, 512)         0         \n",
            "_________________________________________________________________\n",
            "flatten_1 (Flatten)          (None, 2048)              0         \n",
            "_________________________________________________________________\n",
            "dense_1 (Dense)              (None, 512)               1049088   \n",
            "_________________________________________________________________\n",
            "dropout_1 (Dropout)          (None, 512)               0         \n",
            "_________________________________________________________________\n",
            "dense_2 (Dense)              (None, 136)               69768     \n",
            "=================================================================\n",
            "Total params: 3,478,664\n",
            "Trainable params: 3,478,664\n",
            "Non-trainable params: 0\n",
            "_________________________________________________________________\n"
          ],
          "name": "stdout"
        }
      ]
    },
    {
      "cell_type": "code",
      "metadata": {
        "id": "m-oLq5vjB4ej",
        "colab_type": "code",
        "outputId": "154110bb-c302-4885-a81f-ed4677447257",
        "colab": {
          "base_uri": "https://localhost:8080/",
          "height": 408
        }
      },
      "source": [
        "model_vgg16.compile(loss='mean_absolute_error',optimizer='adam')\n",
        "history = model_vgg16.fit(x/np.max(x), y, epochs=10, batch_size=32, verbose=1, validation_split = 0.1)"
      ],
      "execution_count": 0,
      "outputs": [
        {
          "output_type": "stream",
          "text": [
            "WARNING:tensorflow:From /usr/local/lib/python3.6/dist-packages/keras/optimizers.py:793: The name tf.train.Optimizer is deprecated. Please use tf.compat.v1.train.Optimizer instead.\n",
            "\n",
            "Train on 3115 samples, validate on 347 samples\n",
            "Epoch 1/10\n",
            "3115/3115 [==============================] - 3s 946us/step - loss: 0.0467 - val_loss: 0.0284\n",
            "Epoch 2/10\n",
            "3115/3115 [==============================] - 2s 515us/step - loss: 0.0286 - val_loss: 0.0219\n",
            "Epoch 3/10\n",
            "3115/3115 [==============================] - 2s 518us/step - loss: 0.0233 - val_loss: 0.0197\n",
            "Epoch 4/10\n",
            "3115/3115 [==============================] - 2s 518us/step - loss: 0.0204 - val_loss: 0.0182\n",
            "Epoch 5/10\n",
            "3115/3115 [==============================] - 2s 516us/step - loss: 0.0185 - val_loss: 0.0177\n",
            "Epoch 6/10\n",
            "3115/3115 [==============================] - 2s 512us/step - loss: 0.0173 - val_loss: 0.0176\n",
            "Epoch 7/10\n",
            "3115/3115 [==============================] - 2s 522us/step - loss: 0.0163 - val_loss: 0.0176\n",
            "Epoch 8/10\n",
            "3115/3115 [==============================] - 2s 516us/step - loss: 0.0158 - val_loss: 0.0171\n",
            "Epoch 9/10\n",
            "3115/3115 [==============================] - 2s 525us/step - loss: 0.0152 - val_loss: 0.0164\n",
            "Epoch 10/10\n",
            "3115/3115 [==============================] - 2s 515us/step - loss: 0.0150 - val_loss: 0.0159\n"
          ],
          "name": "stdout"
        }
      ]
    },
    {
      "cell_type": "code",
      "metadata": {
        "id": "yHb9yC-uODet",
        "colab_type": "code",
        "outputId": "e6888810-60be-4102-feaa-de55bdd36fba",
        "colab": {
          "base_uri": "https://localhost:8080/",
          "height": 346
        }
      },
      "source": [
        "history_dict = history.history\n",
        "loss_values = history_dict['loss']\n",
        "val_loss_values = history_dict['val_loss']\n",
        "epochs = range(1, len(val_loss_values) + 1)\n",
        "plt.plot(epochs, history.history['loss'], 'r', label='Training loss')\n",
        "plt.plot(epochs, val_loss_values, 'bo', label='Test loss')\n",
        "plt.title('Training and test loss')\n",
        "plt.xlabel('Epochs')\n",
        "plt.ylabel('Loss')\n",
        "plt.legend()\n",
        "plt.grid('off')\n",
        "plt.show()\n"
      ],
      "execution_count": 0,
      "outputs": [
        {
          "output_type": "stream",
          "text": [
            "/usr/local/lib/python3.6/dist-packages/matplotlib/cbook/__init__.py:424: MatplotlibDeprecationWarning: \n",
            "Passing one of 'on', 'true', 'off', 'false' as a boolean is deprecated; use an actual boolean (True/False) instead.\n",
            "  warn_deprecated(\"2.2\", \"Passing one of 'on', 'true', 'off', 'false' as a \"\n"
          ],
          "name": "stderr"
        },
        {
          "output_type": "display_data",
          "data": {
            "image/png": "[encoded data removed]",
            "text/plain": [
              "<Figure size 432x288 with 1 Axes>"
            ]
          },
          "metadata": {
            "tags": []
          }
        }
      ]
    },
    {
      "cell_type": "code",
      "metadata": {
        "id": "I8dGUzhjHz_w",
        "colab_type": "code",
        "colab": {}
      },
      "source": [
        "pred = model_vgg16.predict(vgg16_model.predict(preprocess_input(x_img[-2].reshape(1,224,224,3)))/np.max(x))"
      ],
      "execution_count": 0,
      "outputs": []
    },
    {
      "cell_type": "code",
      "metadata": {
        "id": "1n5tFYRpIKP5",
        "colab_type": "code",
        "outputId": "b023f854-39f3-4309-b019-0f1a99733019",
        "colab": {
          "base_uri": "https://localhost:8080/",
          "height": 34
        }
      },
      "source": [
        "pred.shape"
      ],
      "execution_count": 0,
      "outputs": [
        {
          "output_type": "execute_result",
          "data": {
            "text/plain": [
              "(1, 136)"
            ]
          },
          "metadata": {
            "tags": []
          },
          "execution_count": 29
        }
      ]
    },
    {
      "cell_type": "code",
      "metadata": {
        "id": "LyiQiqFL6drX",
        "colab_type": "code",
        "outputId": "22f58f79-f2b4-48f6-8bff-a64529855e72",
        "colab": {
          "base_uri": "https://localhost:8080/",
          "height": 214
        }
      },
      "source": [
        "import matplotlib.pyplot as plt\n",
        "%matplotlib inline\n",
        "plt.subplot(221)\n",
        "plt.title('Original image')\n",
        "plt.imshow(x_img[-2])\n",
        "plt.grid('off')\n",
        "plt.subplot(222)\n",
        "plt.title('Image with facial keypoints')\n",
        "plt.imshow(x_img[-2])\n",
        "kp = pred.flatten()\n",
        "plt.scatter(kp[0:68]*224, kp[68:]*224)\n",
        "plt.grid('off')"
      ],
      "execution_count": 0,
      "outputs": [
        {
          "output_type": "stream",
          "text": [
            "/usr/local/lib/python3.6/dist-packages/matplotlib/cbook/__init__.py:424: MatplotlibDeprecationWarning: \n",
            "Passing one of 'on', 'true', 'off', 'false' as a boolean is deprecated; use an actual boolean (True/False) instead.\n",
            "  warn_deprecated(\"2.2\", \"Passing one of 'on', 'true', 'off', 'false' as a \"\n"
          ],
          "name": "stderr"
        },
        {
          "output_type": "display_data",
          "data": {
            "image/png": "[encoded data removed]",
            "text/plain": [
              "<Figure size 432x288 with 2 Axes>"
            ]
          },
          "metadata": {
            "tags": []
          }
        }
      ]
    },
    {
      "cell_type": "code",
      "metadata": {
        "id": "OE0lkjlZAwk3",
        "colab_type": "code",
        "colab": {}
      },
      "source": [
        ""
      ],
      "execution_count": 0,
      "outputs": []
    },
    {
      "cell_type": "code",
      "metadata": {
        "id": "jRvvur6q7VlE",
        "colab_type": "code",
        "colab": {}
      },
      "source": [
        ""
      ],
      "execution_count": 0,
      "outputs": []
    }
  ]
}