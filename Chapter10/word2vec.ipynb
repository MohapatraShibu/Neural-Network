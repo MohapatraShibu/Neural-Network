{
  "nbformat": 4,
  "nbformat_minor": 0,
  "metadata": {
    "colab": {
      "name": "word2vec (4).ipynb",
      "provenance": [],
      "collapsed_sections": []
    },
    "kernelspec": {
      "name": "python3",
      "display_name": "Python 3"
    }
  },
  "cells": [
    {
      "cell_type": "markdown",
      "metadata": {
        "id": "nE0LOuQLmc1y",
        "colab_type": "text"
      },
      "source": [
        "https://colab.research.google.com/drive/1nUrgVfDuL6uNeAWYiVbANttxU88nCt0Q"
      ]
    },
    {
      "cell_type": "code",
      "metadata": {
        "id": "XuDY0N7aITRk",
        "colab_type": "code",
        "outputId": "caabb7ad-8a68-4ed5-bc19-0245404eeab6",
        "colab": {
          "base_uri": "https://localhost:8080/",
          "height": 306
        }
      },
      "source": [
        "!pip install gensim"
      ],
      "execution_count": 0,
      "outputs": [
        {
          "output_type": "stream",
          "text": [
            "Requirement already satisfied: gensim in /usr/local/lib/python3.6/dist-packages (3.6.0)\n",
            "Requirement already satisfied: numpy>=1.11.3 in /usr/local/lib/python3.6/dist-packages (from gensim) (1.16.5)\n",
            "Requirement already satisfied: six>=1.5.0 in /usr/local/lib/python3.6/dist-packages (from gensim) (1.12.0)\n",
            "Requirement already satisfied: scipy>=0.18.1 in /usr/local/lib/python3.6/dist-packages (from gensim) (1.3.1)\n",
            "Requirement already satisfied: smart-open>=1.2.1 in /usr/local/lib/python3.6/dist-packages (from gensim) (1.8.4)\n",
            "Requirement already satisfied: boto3 in /usr/local/lib/python3.6/dist-packages (from smart-open>=1.2.1->gensim) (1.9.224)\n",
            "Requirement already satisfied: requests in /usr/local/lib/python3.6/dist-packages (from smart-open>=1.2.1->gensim) (2.21.0)\n",
            "Requirement already satisfied: boto>=2.32 in /usr/local/lib/python3.6/dist-packages (from smart-open>=1.2.1->gensim) (2.49.0)\n",
            "Requirement already satisfied: botocore<1.13.0,>=1.12.224 in /usr/local/lib/python3.6/dist-packages (from boto3->smart-open>=1.2.1->gensim) (1.12.224)\n",
            "Requirement already satisfied: s3transfer<0.3.0,>=0.2.0 in /usr/local/lib/python3.6/dist-packages (from boto3->smart-open>=1.2.1->gensim) (0.2.1)\n",
            "Requirement already satisfied: jmespath<1.0.0,>=0.7.1 in /usr/local/lib/python3.6/dist-packages (from boto3->smart-open>=1.2.1->gensim) (0.9.4)\n",
            "Requirement already satisfied: urllib3<1.25,>=1.21.1 in /usr/local/lib/python3.6/dist-packages (from requests->smart-open>=1.2.1->gensim) (1.24.3)\n",
            "Requirement already satisfied: idna<2.9,>=2.5 in /usr/local/lib/python3.6/dist-packages (from requests->smart-open>=1.2.1->gensim) (2.8)\n",
            "Requirement already satisfied: certifi>=2017.4.17 in /usr/local/lib/python3.6/dist-packages (from requests->smart-open>=1.2.1->gensim) (2019.6.16)\n",
            "Requirement already satisfied: chardet<3.1.0,>=3.0.2 in /usr/local/lib/python3.6/dist-packages (from requests->smart-open>=1.2.1->gensim) (3.0.4)\n",
            "Requirement already satisfied: python-dateutil<3.0.0,>=2.1; python_version >= \"2.7\" in /usr/local/lib/python3.6/dist-packages (from botocore<1.13.0,>=1.12.224->boto3->smart-open>=1.2.1->gensim) (2.5.3)\n",
            "Requirement already satisfied: docutils<0.16,>=0.10 in /usr/local/lib/python3.6/dist-packages (from botocore<1.13.0,>=1.12.224->boto3->smart-open>=1.2.1->gensim) (0.15.2)\n"
          ],
          "name": "stdout"
        }
      ]
    },
    {
      "cell_type": "code",
      "metadata": {
        "id": "DYDkLu7hIXxc",
        "colab_type": "code",
        "colab": {}
      },
      "source": [
        "import gensim"
      ],
      "execution_count": 0,
      "outputs": []
    },
    {
      "cell_type": "code",
      "metadata": {
        "id": "VW8fDsUcNXql",
        "colab_type": "code",
        "colab": {}
      },
      "source": [
        "import pandas as pd"
      ],
      "execution_count": 0,
      "outputs": []
    },
    {
      "cell_type": "code",
      "metadata": {
        "id": "75Rv2O0OV_zY",
        "colab_type": "code",
        "colab": {}
      },
      "source": [
        "data = pd.read_csv('https://www.dropbox.com/s/8yq0edd4q908xqw/airline_sentiment.csv?dl=1')"
      ],
      "execution_count": 0,
      "outputs": []
    },
    {
      "cell_type": "code",
      "metadata": {
        "id": "dTM9Q0m6WCuW",
        "colab_type": "code",
        "outputId": "0b53a0e9-bd0c-4aca-adab-348d6fc020ce",
        "colab": {
          "base_uri": "https://localhost:8080/",
          "height": 204
        }
      },
      "source": [
        "data.head()"
      ],
      "execution_count": 0,
      "outputs": [
        {
          "output_type": "execute_result",
          "data": {
            "text/html": [
              "<div>\n",
              "<style scoped>\n",
              "    .dataframe tbody tr th:only-of-type {\n",
              "        vertical-align: middle;\n",
              "    }\n",
              "\n",
              "    .dataframe tbody tr th {\n",
              "        vertical-align: top;\n",
              "    }\n",
              "\n",
              "    .dataframe thead th {\n",
              "        text-align: right;\n",
              "    }\n",
              "</style>\n",
              "<table border=\"1\" class=\"dataframe\">\n",
              "  <thead>\n",
              "    <tr style=\"text-align: right;\">\n",
              "      <th></th>\n",
              "      <th>airline_sentiment</th>\n",
              "      <th>text</th>\n",
              "    </tr>\n",
              "  </thead>\n",
              "  <tbody>\n",
              "    <tr>\n",
              "      <th>0</th>\n",
              "      <td>1</td>\n",
              "      <td>@VirginAmerica plus you've added commercials t...</td>\n",
              "    </tr>\n",
              "    <tr>\n",
              "      <th>1</th>\n",
              "      <td>0</td>\n",
              "      <td>@VirginAmerica it's really aggressive to blast...</td>\n",
              "    </tr>\n",
              "    <tr>\n",
              "      <th>2</th>\n",
              "      <td>0</td>\n",
              "      <td>@VirginAmerica and it's a really big bad thing...</td>\n",
              "    </tr>\n",
              "    <tr>\n",
              "      <th>3</th>\n",
              "      <td>0</td>\n",
              "      <td>@VirginAmerica seriously would pay $30 a fligh...</td>\n",
              "    </tr>\n",
              "    <tr>\n",
              "      <th>4</th>\n",
              "      <td>1</td>\n",
              "      <td>@VirginAmerica yes, nearly every time I fly VX...</td>\n",
              "    </tr>\n",
              "  </tbody>\n",
              "</table>\n",
              "</div>"
            ],
            "text/plain": [
              "   airline_sentiment                                               text\n",
              "0                  1  @VirginAmerica plus you've added commercials t...\n",
              "1                  0  @VirginAmerica it's really aggressive to blast...\n",
              "2                  0  @VirginAmerica and it's a really big bad thing...\n",
              "3                  0  @VirginAmerica seriously would pay $30 a fligh...\n",
              "4                  1  @VirginAmerica yes, nearly every time I fly VX..."
            ]
          },
          "metadata": {
            "tags": []
          },
          "execution_count": 5
        }
      ]
    },
    {
      "cell_type": "code",
      "metadata": {
        "id": "iaJkT0_WWp2z",
        "colab_type": "code",
        "colab": {}
      },
      "source": [
        "import nltk\n",
        "from nltk.corpus import stopwords"
      ],
      "execution_count": 0,
      "outputs": []
    },
    {
      "cell_type": "code",
      "metadata": {
        "id": "NBR5SqVOobSk",
        "colab_type": "code",
        "outputId": "9e0e96f6-4b57-475b-8088-766bb58c20d3",
        "colab": {
          "base_uri": "https://localhost:8080/",
          "height": 68
        }
      },
      "source": [
        "nltk.download('stopwords')"
      ],
      "execution_count": 0,
      "outputs": [
        {
          "output_type": "stream",
          "text": [
            "[nltk_data] Downloading package stopwords to /root/nltk_data...\n",
            "[nltk_data]   Unzipping corpora/stopwords.zip.\n"
          ],
          "name": "stdout"
        },
        {
          "output_type": "execute_result",
          "data": {
            "text/plain": [
              "True"
            ]
          },
          "metadata": {
            "tags": []
          },
          "execution_count": 7
        }
      ]
    },
    {
      "cell_type": "code",
      "metadata": {
        "id": "s78zE5dJoZex",
        "colab_type": "code",
        "colab": {}
      },
      "source": [
        "stop = set(stopwords.words('english'))"
      ],
      "execution_count": 0,
      "outputs": []
    },
    {
      "cell_type": "code",
      "metadata": {
        "id": "gEzNTwwRWOey",
        "colab_type": "code",
        "colab": {}
      },
      "source": [
        "import re\n",
        "def preprocess(text):\n",
        "    text=text.lower()\n",
        "    text=re.sub('[^0-9a-z]+',' ',text)\n",
        "    words = text.split()\n",
        "    words2 = [i for i in words if i not in stop]\n",
        "    words3=' '.join(words2)\n",
        "    return(words3)"
      ],
      "execution_count": 0,
      "outputs": []
    },
    {
      "cell_type": "code",
      "metadata": {
        "id": "Z8wVJbYZWyTO",
        "colab_type": "code",
        "colab": {}
      },
      "source": [
        "data['text'] = data['text'].apply(preprocess)"
      ],
      "execution_count": 0,
      "outputs": []
    },
    {
      "cell_type": "code",
      "metadata": {
        "id": "LbrlCc9XW1vT",
        "colab_type": "code",
        "outputId": "ecc0de9d-545d-4f37-a903-83e2bb6363c9",
        "colab": {
          "base_uri": "https://localhost:8080/",
          "height": 204
        }
      },
      "source": [
        "data.head()"
      ],
      "execution_count": 0,
      "outputs": [
        {
          "output_type": "execute_result",
          "data": {
            "text/html": [
              "<div>\n",
              "<style scoped>\n",
              "    .dataframe tbody tr th:only-of-type {\n",
              "        vertical-align: middle;\n",
              "    }\n",
              "\n",
              "    .dataframe tbody tr th {\n",
              "        vertical-align: top;\n",
              "    }\n",
              "\n",
              "    .dataframe thead th {\n",
              "        text-align: right;\n",
              "    }\n",
              "</style>\n",
              "<table border=\"1\" class=\"dataframe\">\n",
              "  <thead>\n",
              "    <tr style=\"text-align: right;\">\n",
              "      <th></th>\n",
              "      <th>airline_sentiment</th>\n",
              "      <th>text</th>\n",
              "    </tr>\n",
              "  </thead>\n",
              "  <tbody>\n",
              "    <tr>\n",
              "      <th>0</th>\n",
              "      <td>1</td>\n",
              "      <td>virginamerica plus added commercials experienc...</td>\n",
              "    </tr>\n",
              "    <tr>\n",
              "      <th>1</th>\n",
              "      <td>0</td>\n",
              "      <td>virginamerica really aggressive blast obnoxiou...</td>\n",
              "    </tr>\n",
              "    <tr>\n",
              "      <th>2</th>\n",
              "      <td>0</td>\n",
              "      <td>virginamerica really big bad thing</td>\n",
              "    </tr>\n",
              "    <tr>\n",
              "      <th>3</th>\n",
              "      <td>0</td>\n",
              "      <td>virginamerica seriously would pay 30 flight se...</td>\n",
              "    </tr>\n",
              "    <tr>\n",
              "      <th>4</th>\n",
              "      <td>1</td>\n",
              "      <td>virginamerica yes nearly every time fly vx ear...</td>\n",
              "    </tr>\n",
              "  </tbody>\n",
              "</table>\n",
              "</div>"
            ],
            "text/plain": [
              "   airline_sentiment                                               text\n",
              "0                  1  virginamerica plus added commercials experienc...\n",
              "1                  0  virginamerica really aggressive blast obnoxiou...\n",
              "2                  0                 virginamerica really big bad thing\n",
              "3                  0  virginamerica seriously would pay 30 flight se...\n",
              "4                  1  virginamerica yes nearly every time fly vx ear..."
            ]
          },
          "metadata": {
            "tags": []
          },
          "execution_count": 11
        }
      ]
    },
    {
      "cell_type": "code",
      "metadata": {
        "id": "R9_k0GDfW-Wb",
        "colab_type": "code",
        "outputId": "cee9ba95-de29-41b6-de43-fa7a112fb008",
        "colab": {
          "base_uri": "https://localhost:8080/",
          "height": 34
        }
      },
      "source": [
        "data['text'][0].split()"
      ],
      "execution_count": 0,
      "outputs": [
        {
          "output_type": "execute_result",
          "data": {
            "text/plain": [
              "['virginamerica', 'plus', 'added', 'commercials', 'experience', 'tacky']"
            ]
          },
          "metadata": {
            "tags": []
          },
          "execution_count": 12
        }
      ]
    },
    {
      "cell_type": "code",
      "metadata": {
        "id": "xYBGTI6sXPHL",
        "colab_type": "code",
        "colab": {}
      },
      "source": [
        "\n",
        "\n",
        "list_words=[]\n",
        "for i in range(len(data)):\n",
        "  list_words.append(data['text'][i].split())"
      ],
      "execution_count": 0,
      "outputs": []
    },
    {
      "cell_type": "code",
      "metadata": {
        "id": "PvbLzJ1sqoUd",
        "colab_type": "code",
        "outputId": "3ac43972-7887-4902-9021-411cecc72087",
        "colab": {
          "base_uri": "https://localhost:8080/",
          "height": 238
        }
      },
      "source": [
        "list_words[:3]"
      ],
      "execution_count": 0,
      "outputs": [
        {
          "output_type": "execute_result",
          "data": {
            "text/plain": [
              "[['virginamerica', 'plus', 'added', 'commercials', 'experience', 'tacky'],\n",
              " ['virginamerica',\n",
              "  'really',\n",
              "  'aggressive',\n",
              "  'blast',\n",
              "  'obnoxious',\n",
              "  'entertainment',\n",
              "  'guests',\n",
              "  'faces',\n",
              "  'amp',\n",
              "  'little',\n",
              "  'recourse'],\n",
              " ['virginamerica', 'really', 'big', 'bad', 'thing']]"
            ]
          },
          "metadata": {
            "tags": []
          },
          "execution_count": 14
        }
      ]
    },
    {
      "cell_type": "code",
      "metadata": {
        "id": "by-9TYnUXfkr",
        "colab_type": "code",
        "colab": {}
      },
      "source": [
        "from gensim.models import Word2Vec"
      ],
      "execution_count": 0,
      "outputs": []
    },
    {
      "cell_type": "code",
      "metadata": {
        "id": "wk1D735YqEmX",
        "colab_type": "code",
        "colab": {}
      },
      "source": [
        "model = Word2Vec(size=100,window=5,min_count=30, sg=0)\n",
        "model.build_vocab(list_words)"
      ],
      "execution_count": 0,
      "outputs": []
    },
    {
      "cell_type": "code",
      "metadata": {
        "id": "oyBPixq3r_cQ",
        "colab_type": "code",
        "outputId": "eecf2dc8-62b3-49e6-cc67-6f49816f0bc2",
        "colab": {
          "base_uri": "https://localhost:8080/",
          "height": 54
        }
      },
      "source": [
        "model.wv.vocab.keys()"
      ],
      "execution_count": 0,
      "outputs": [
        {
          "output_type": "execute_result",
          "data": {
            "text/plain": [
              "dict_keys(['virginamerica', 'plus', 'experience', 'really', 'amp', 'little', 'big', 'bad', 'thing', 'seriously', 'would', 'pay', '30', 'flight', 'seats', 'flying', 'yes', 'every', 'time', 'fly', 'go', 'away', 'well', 'amazing', 'arrived', 'hour', 'early', 'good', 'lt', '3', 'pretty', 'much', 'better', 'great', 'deal', 'already', '2nd', 'trip', 'even', '1st', 'yet', 'u', 'take', 'travel', 'http', 'co', 'thanks', 'sfo', 'still', 'mia', 'first', 'lax', 'mco', 'heard', 'nothing', 'things', 'flew', 'nyc', 'last', 'week', 'sit', 'seat', 'due', 'two', 'either', 'help', 'know', 'awesome', 'bos', 'fll', 'please', 'want', 'may', 'three', 'times', 'available', 'love', 'feel', 'guys', 'gave', 'free', 'status', 'weeks', 'called', 'response', 'happened', '2', 'ur', 'food', 'options', 'least', 'say', 'site', 'able', 'anything', 'next', '6', 'hrs', 'fail', 'get', 'air', 'hi', 'cool', 'add', 'name', 'booking', 'problems', 'left', 'iad', 'today', 'one', 'answering', 'f', 'number', 'return', 'phone', 'call', 'use', 'online', 'service', 'option', 'could', 'start', 'flights', 'end', 'year', 'via', 'way', 'best', 'ever', 'done', 'airline', 'around', 'support', 'working', 'beyond', 'hey', 'hard', 'getting', 'account', 'reason', 'rock', 'wow', 'though', 'lga', 'gt', 'trying', 'book', 'since', 'never', 'thx', 'need', '4', 'ago', 'someone', 'hold', '40', '50', 'minutes', 'earlier', 'la', 'tonight', '11', 'us', 'everything', 'fine', 'lost', 'bag', 'needs', 'new', 'plane', 'crew', 'airlines', 'like', 'sat', 'morning', 'going', 'customer', 'speak', 'human', 'asap', 'thank', 'southwestair', 'jetblue', 'member', 'team', 'im', '100', 'delayed', 'late', 'cancelled', 'four', 'business', 'wife', 'booked', 'back', 'tv', 'disappointed', 'flightled', 'went', 'jfk', 'landed', 'check', 'friendly', 'website', 'another', 'tried', 'let', 'passengers', 'leave', 'told', 'class', 'find', 'reservation', 'anyone', 'miss', 'missed', 'direct', 'vegas', 'bought', 'people', 'customerservice', 'line', 'hung', 'card', 'info', 'come', 'phl', 'horrible', 'stop', 'easy', 'change', 'helpful', 'rep', 'front', 'right', 'ticket', 'b', 'c', 'gate', 'las', 'waited', 'problem', 'min', 'delay', 'connecting', 'seems', 'long', 'moved', 'home', 'san', 'scheduled', '9', 'hours', 'wait', 'calling', 'completely', 'month', 'customers', 'process', 'link', 'tsa', 'terrible', 'hotel', 'said', 'sorry', 'assistance', 'yesterday', 'give', 'longer', 'pls', 'making', 'always', 'buy', 'frustrated', 'think', 'paying', 'extra', 'rt', 'luggage', 'might', 'world', 'provide', 'cant', 'weather', 'dallas', 'staff', 'super', 'paid', 'offer', 'fee', 'upgrade', 'sad', 'question', 'possible', 'giving', 'together', 'dc', 'work', 'understand', 'dm', 'answer', 'policy', 'mean', 'checking', 'tickets', 'happy', 'error', 'contact', 'minute', 'reschedule', 'fix', 'got', 'checked', 'email', 'tomorrow', 'unacceptable', 'flighted', 'stuck', '1', 'offered', 'look', 'agent', 'airport', 'reply', 'baggage', 'waiting', 'checkin', 'desk', 'open', 'ewr', 'united', 'follow', 'many', 'worse', 'respond', 'money', 'stranded', 'landing', '10', 'days', 'confirmation', 'claim', '8', 'rebook', 'lot', 'see', 'worst', 'wrong', 'lose', 'suck', 'issue', 'flightlation', 'w', 'kids', 'boston', 'guy', 'high', 'quick', 'apparently', 'sitting', 'keep', 'ny', 'pilots', 'job', 'snow', 'row', 'mechanical', 'handle', 'twitter', 'charged', 'refund', 'broken', 'points', 'looking', 'forward', 'rescheduled', 'cost', '800', 'show', 'wish', 'attendant', 'something', 'departure', 'fun', 'different', 'helping', 'passenger', 'flt', 'city', 'destination', 'missing', 'coming', 'entire', 'confirmed', 'treat', 'wtf', 'inconvenience', 'full', 'dfw', 'boarding', 'place', 'makes', 'pilot', 'dca', 'sent', 'past', 'club', 'came', 'monday', 'safety', 'day', 'wanted', 'newark', 'hope', 'board', 'helped', 'looks', 'https', 'less', 'half', 'price', 'taking', 'care', 'several', 'glad', 'took', 'years', 'night', 'try', 'purchase', 'hoping', 'carry', 'empty', 'spoke', 'loyal', 'received', 'southwest', 'family', 'ok', 'using', 'soon', 'car', 'sucks', 'cust', 'second', 'chance', 'joke', 'credit', 'request', 'planes', 'thought', 'computer', '15', 'cannot', 'make', 'address', 'made', 'also', 'app', 'system', 'instead', 'charge', 'houston', 'finally', 'future', 'poor', '5', 'group', 'room', 'bags', 'sure', '12', 'shit', 'stay', 'nice', 'wifi', 'saying', 'whole', 'person', 'calls', 'ask', 'flighting', 'luck', '24', 'fees', 'philly', 'point', 'says', 'update', 'reps', 'actually', 'lack', 'ord', 'connections', 'boarded', 'issues', 'oh', 'supposed', 'ridiculous', 'send', 'voucher', 'company', 'maybe', 'drive', 'talk', 'flightr', 'platinum', 'international', 'run', 'agents', 'rude', 'iah', 'charlotte', 'non', 'guess', 'form', 'ground', 'else', 'appreciate', 'tarmac', 'pass', 'enough', 'denver', 'put', 'found', 'supervisor', 'months', 'thru', 'connection', 'upset', 'employees', 'old', '7', 'miles', 'american', 'telling', 'delta', 'attendants', 'seem', 'believe', 'bc', 'asking', 'details', 'everyone', 'ua', 'despite', 'updates', 'given', 'hear', 'apology', 'rather', 'zero', 'americanair', 'asked', 'yeah', '25', 'leaving', 'message', 'complaint', 'awful', 'jet', 'atl', 'happens', 'traveling', 'communication', 'far', 'top', 'unitedairlines', 'extremely', 'real', 'without', 'clothes', 'hr', 'terminal', '20', 'mins', 'vacation', 'sleep', 'compensation', 'case', 'happen', 'delivered', 'arrive', 'employee', 'delays', 'taken', 'answers', 'clt', 'idea', 'frustrating', 'figure', 'counter', 'tell', 'fact', 'needed', 'means', 'bwi', 'pm', 'expect', 'fixed', 'unable', 'life', 'phones', 'chicago', 'den', 'fleet', 'gives', 'spent', 'situation', 'list', 'changes', '200', 'used', 'reservations', 'leg', 'reflight', '45', 'changed', 'reach', 'tweet', 'maintenance', 'friend', 'twice', 'counting', 'rebooked', 'sunday', 'sense', 'hate', 'huge', 'standby', 'hopefully', 'usairways', 'almost', 'pick', 'multiple', 'lol', 'crazy', 'gets', 'miami', 'fault', 'sending', 'losing', 'switch', 'aa', 'flightlations', 'seen', 'appreciated', 'media', 'runway', 'live', 'information', 'busy', 'dont', 'disconnected', 'water', 'kind', 'phx', 'automated', 'sw', 'holding', 'swa', 'destinationdragons', 'usair', 'blue', 'fleek', 'airways'])"
            ]
          },
          "metadata": {
            "tags": []
          },
          "execution_count": 17
        }
      ]
    },
    {
      "cell_type": "code",
      "metadata": {
        "id": "NJSTFBvqtnBP",
        "colab_type": "code",
        "outputId": "f9923005-3a87-45a8-95db-c2adb8312a62",
        "colab": {
          "base_uri": "https://localhost:8080/",
          "height": 34
        }
      },
      "source": [
        "model.corpus_count"
      ],
      "execution_count": 0,
      "outputs": [
        {
          "output_type": "execute_result",
          "data": {
            "text/plain": [
              "11541"
            ]
          },
          "metadata": {
            "tags": []
          },
          "execution_count": 18
        }
      ]
    },
    {
      "cell_type": "code",
      "metadata": {
        "id": "nsXLu45nqJKx",
        "colab_type": "code",
        "outputId": "6af59fe8-d41a-4dfa-e6a5-f49f0e72051e",
        "colab": {
          "base_uri": "https://localhost:8080/",
          "height": 34
        }
      },
      "source": [
        "model.train(list_words, total_examples=model.corpus_count, epochs=5)"
      ],
      "execution_count": 0,
      "outputs": [
        {
          "output_type": "execute_result",
          "data": {
            "text/plain": [
              "(339823, 629290)"
            ]
          },
          "metadata": {
            "tags": []
          },
          "execution_count": 19
        }
      ]
    },
    {
      "cell_type": "code",
      "metadata": {
        "id": "dBNSaCMcv_OD",
        "colab_type": "code",
        "outputId": "bd9fde74-cdc8-495f-df45-c605b7fa7735",
        "colab": {
          "base_uri": "https://localhost:8080/",
          "height": 408
        }
      },
      "source": [
        "model['month']"
      ],
      "execution_count": 0,
      "outputs": [
        {
          "output_type": "stream",
          "text": [
            "/usr/local/lib/python3.6/dist-packages/ipykernel_launcher.py:1: DeprecationWarning: Call to deprecated `__getitem__` (Method will be removed in 4.0.0, use self.wv.__getitem__() instead).\n",
            "  \"\"\"Entry point for launching an IPython kernel.\n"
          ],
          "name": "stderr"
        },
        {
          "output_type": "execute_result",
          "data": {
            "text/plain": [
              "array([-0.02030165, -0.04139965,  0.03383612,  0.1872715 , -0.01179392,\n",
              "       -0.08710336,  0.13632013,  0.2714572 ,  0.0410417 , -0.31066737,\n",
              "        0.1289849 , -0.01568363, -0.08399627,  0.0655857 ,  0.12388412,\n",
              "        0.1191685 , -0.02849709, -0.26429877, -0.11301074,  0.08611769,\n",
              "        0.10012373,  0.04442588,  0.31465396, -0.06497472,  0.13614619,\n",
              "       -0.02428887, -0.32253444,  0.34730294, -0.09382711, -0.10556857,\n",
              "        0.03514682,  0.02763689, -0.06619797,  0.16039513, -0.12051827,\n",
              "        0.29535544,  0.17874482, -0.05906249, -0.01663946,  0.0167066 ,\n",
              "       -0.09297832,  0.34743708,  0.091294  , -0.19037731,  0.17468785,\n",
              "        0.07573813, -0.34967348,  0.07266582,  0.03613848,  0.01835959,\n",
              "       -0.01697333,  0.15826723,  0.11374521,  0.25705498,  0.12039494,\n",
              "        0.10453349,  0.03182169,  0.3226791 , -0.20668817, -0.03103131,\n",
              "        0.00896181,  0.16479972, -0.01168547, -0.2748615 , -0.09212265,\n",
              "       -0.03698307,  0.00287689,  0.13294086, -0.02275955, -0.04202026,\n",
              "       -0.05140944, -0.38093102, -0.15804781,  0.1674139 , -0.17136845,\n",
              "       -0.0092829 ,  0.09668612, -0.01492832, -0.0079897 , -0.08299104,\n",
              "        0.15738204,  0.20203151,  0.16405639,  0.15613648, -0.4136414 ,\n",
              "        0.11675626, -0.23834643,  0.00236848, -0.11915234,  0.10733868,\n",
              "       -0.07930373, -0.03177434, -0.04810463,  0.34890348, -0.14588052,\n",
              "        0.1591961 , -0.27311066,  0.08812562,  0.18887345,  0.06654789],\n",
              "      dtype=float32)"
            ]
          },
          "metadata": {
            "tags": []
          },
          "execution_count": 20
        }
      ]
    },
    {
      "cell_type": "code",
      "metadata": {
        "id": "pAvPn7tewS3H",
        "colab_type": "code",
        "outputId": "77e19950-935a-47d1-d51b-f4f08527630b",
        "colab": {
          "base_uri": "https://localhost:8080/",
          "height": 102
        }
      },
      "source": [
        "model.similarity('month','year')"
      ],
      "execution_count": 0,
      "outputs": [
        {
          "output_type": "stream",
          "text": [
            "/usr/local/lib/python3.6/dist-packages/ipykernel_launcher.py:1: DeprecationWarning: Call to deprecated `similarity` (Method will be removed in 4.0.0, use self.wv.similarity() instead).\n",
            "  \"\"\"Entry point for launching an IPython kernel.\n",
            "/usr/local/lib/python3.6/dist-packages/gensim/matutils.py:737: FutureWarning: Conversion of the second argument of issubdtype from `int` to `np.signedinteger` is deprecated. In future, it will be treated as `np.int64 == np.dtype(int).type`.\n",
            "  if np.issubdtype(vec.dtype, np.int):\n"
          ],
          "name": "stderr"
        },
        {
          "output_type": "execute_result",
          "data": {
            "text/plain": [
              "0.99747455"
            ]
          },
          "metadata": {
            "tags": []
          },
          "execution_count": 21
        }
      ]
    },
    {
      "cell_type": "code",
      "metadata": {
        "id": "04h74CNVvGjM",
        "colab_type": "code",
        "outputId": "f458c383-4862-4af2-c4f8-25e657c3156f",
        "colab": {
          "base_uri": "https://localhost:8080/",
          "height": 255
        }
      },
      "source": [
        "model.most_similar('month')"
      ],
      "execution_count": 0,
      "outputs": [
        {
          "output_type": "stream",
          "text": [
            "/usr/local/lib/python3.6/dist-packages/ipykernel_launcher.py:1: DeprecationWarning: Call to deprecated `most_similar` (Method will be removed in 4.0.0, use self.wv.most_similar() instead).\n",
            "  \"\"\"Entry point for launching an IPython kernel.\n",
            "/usr/local/lib/python3.6/dist-packages/gensim/matutils.py:737: FutureWarning: Conversion of the second argument of issubdtype from `int` to `np.signedinteger` is deprecated. In future, it will be treated as `np.int64 == np.dtype(int).type`.\n",
            "  if np.issubdtype(vec.dtype, np.int):\n"
          ],
          "name": "stderr"
        },
        {
          "output_type": "execute_result",
          "data": {
            "text/plain": [
              "[('happened', 0.9996426701545715),\n",
              " ('years', 0.9995958805084229),\n",
              " ('plus', 0.9995951652526855),\n",
              " ('high', 0.9995917081832886),\n",
              " ('name', 0.9995887875556946),\n",
              " ('im', 0.9995837211608887),\n",
              " ('oh', 0.9995827674865723),\n",
              " ('respond', 0.9995766282081604),\n",
              " ('taken', 0.9995745420455933),\n",
              " ('believe', 0.9995689392089844)]"
            ]
          },
          "metadata": {
            "tags": []
          },
          "execution_count": 22
        }
      ]
    },
    {
      "cell_type": "code",
      "metadata": {
        "id": "N-GhPdMUX1YL",
        "colab_type": "code",
        "colab": {}
      },
      "source": [
        "model = Word2Vec(list_words,size=100,window=5,min_count=30, iter = 100)"
      ],
      "execution_count": 0,
      "outputs": []
    },
    {
      "cell_type": "code",
      "metadata": {
        "id": "pL02Pfx3YJKE",
        "colab_type": "code",
        "outputId": "630bd03f-6826-4a57-b4e3-0f6138d5d38d",
        "colab": {
          "base_uri": "https://localhost:8080/",
          "height": 187
        }
      },
      "source": [
        "# Had to make this into a list \n",
        "list(model.wv.vocab.keys())[:10]"
      ],
      "execution_count": 0,
      "outputs": [
        {
          "output_type": "execute_result",
          "data": {
            "text/plain": [
              "['virginamerica',\n",
              " 'plus',\n",
              " 'experience',\n",
              " 'really',\n",
              " 'amp',\n",
              " 'little',\n",
              " 'big',\n",
              " 'bad',\n",
              " 'thing',\n",
              " 'seriously']"
            ]
          },
          "metadata": {
            "tags": []
          },
          "execution_count": 28
        }
      ]
    },
    {
      "cell_type": "code",
      "metadata": {
        "id": "ch6r0vO9YcH5",
        "colab_type": "code",
        "outputId": "fa633b63-ec6e-4821-ddbd-169497fb4c49",
        "colab": {
          "base_uri": "https://localhost:8080/",
          "height": 255
        }
      },
      "source": [
        "model.most_similar('month')"
      ],
      "execution_count": 0,
      "outputs": [
        {
          "output_type": "stream",
          "text": [
            "/usr/local/lib/python3.6/dist-packages/ipykernel_launcher.py:1: DeprecationWarning: Call to deprecated `most_similar` (Method will be removed in 4.0.0, use self.wv.most_similar() instead).\n",
            "  \"\"\"Entry point for launching an IPython kernel.\n",
            "/usr/local/lib/python3.6/dist-packages/gensim/matutils.py:737: FutureWarning: Conversion of the second argument of issubdtype from `int` to `np.signedinteger` is deprecated. In future, it will be treated as `np.int64 == np.dtype(int).type`.\n",
            "  if np.issubdtype(vec.dtype, np.int):\n"
          ],
          "name": "stderr"
        },
        {
          "output_type": "execute_result",
          "data": {
            "text/plain": [
              "[('year', 0.5013150572776794),\n",
              " ('week', 0.4724319875240326),\n",
              " ('months', 0.39492982625961304),\n",
              " ('weeks', 0.3498605489730835),\n",
              " ('leg', 0.316686749458313),\n",
              " ('days', 0.3123546838760376),\n",
              " ('miles', 0.26164090633392334),\n",
              " ('purchase', 0.24620649218559265),\n",
              " ('f', 0.23918884992599487),\n",
              " ('lt', 0.2379196286201477)]"
            ]
          },
          "metadata": {
            "tags": []
          },
          "execution_count": 25
        }
      ]
    },
    {
      "cell_type": "code",
      "metadata": {
        "id": "wP5V8lLvYnCi",
        "colab_type": "code",
        "outputId": "ddc714bc-9f2f-4974-c487-d196d23b24be",
        "colab": {
          "base_uri": "https://localhost:8080/",
          "height": 34
        }
      },
      "source": [
        "!ls"
      ],
      "execution_count": 0,
      "outputs": [
        {
          "output_type": "stream",
          "text": [
            "sample_data\n"
          ],
          "name": "stdout"
        }
      ]
    },
    {
      "cell_type": "code",
      "metadata": {
        "id": "XfuGG0BhmKOP",
        "colab_type": "code",
        "colab": {}
      },
      "source": [
        "!wget http://mattmahoney.net/dc/text8.zip"
      ],
      "execution_count": 0,
      "outputs": []
    },
    {
      "cell_type": "code",
      "metadata": {
        "id": "USdstJwwYnMq",
        "colab_type": "code",
        "colab": {}
      },
      "source": [
        "filename = '/content/text8.zip'\n",
        "with zipfile.ZipFile(filename) as f:\n",
        "  data = tf.compat.as_str(f.read(f.namelist()[0])).split()"
      ],
      "execution_count": 0,
      "outputs": []
    },
    {
      "cell_type": "code",
      "metadata": {
        "id": "79E1RnG6abwS",
        "colab_type": "code",
        "colab": {}
      },
      "source": [
        "import logging\n",
        " \n",
        "logging.basicConfig(format='%(asctime)s : %(levelname)s : %(message)s', level=logging.INFO)"
      ],
      "execution_count": 0,
      "outputs": []
    },
    {
      "cell_type": "code",
      "metadata": {
        "id": "HZnjdeohbpux",
        "colab_type": "code",
        "colab": {}
      },
      "source": [
        "data[:10]"
      ],
      "execution_count": 0,
      "outputs": []
    },
    {
      "cell_type": "code",
      "metadata": {
        "id": "9lg2PrBRb69P",
        "colab_type": "code",
        "colab": {}
      },
      "source": [
        "t= []\n",
        "t.append(data)"
      ],
      "execution_count": 0,
      "outputs": []
    },
    {
      "cell_type": "code",
      "metadata": {
        "id": "mnRtUr1ZbYJ9",
        "colab_type": "code",
        "outputId": "f0804af3-cd03-4ad7-af89-91e4a70314a9",
        "colab": {
          "base_uri": "https://localhost:8080/",
          "height": 212
        }
      },
      "source": [
        "model = Word2Vec(min_count=30)\n",
        "model.build_vocab(t)"
      ],
      "execution_count": 0,
      "outputs": [
        {
          "output_type": "stream",
          "text": [
            "2018-09-01 04:41:57,545 : INFO : collecting all words and their counts\n",
            "2018-09-01 04:41:57,551 : INFO : PROGRESS: at sentence #0, processed 0 words, keeping 0 word types\n",
            "2018-09-01 04:42:00,670 : INFO : collected 253854 word types from a corpus of 17005207 raw words and 1 sentences\n",
            "2018-09-01 04:42:00,671 : INFO : Loading a fresh vocabulary\n",
            "2018-09-01 04:42:00,991 : INFO : effective_min_count=30 retains 25097 unique words (9% of original 253854, drops 228757)\n",
            "2018-09-01 04:42:00,997 : INFO : effective_min_count=30 leaves 16191060 word corpus (95% of original 17005207, drops 814147)\n",
            "2018-09-01 04:42:01,073 : INFO : deleting the raw counts dictionary of 253854 items\n",
            "2018-09-01 04:42:01,092 : INFO : sample=0.001 downsamples 38 most-common words\n",
            "2018-09-01 04:42:01,094 : INFO : downsampling leaves estimated 11928484 word corpus (73.7% of prior 16191060)\n",
            "2018-09-01 04:42:01,222 : INFO : estimated required memory for 25097 words and 100 dimensions: 32626100 bytes\n",
            "2018-09-01 04:42:01,224 : INFO : resetting layer weights\n"
          ],
          "name": "stderr"
        }
      ]
    },
    {
      "cell_type": "code",
      "metadata": {
        "id": "gG2e7M9WY-ma",
        "colab_type": "code",
        "colab": {}
      },
      "source": [
        "model.train(t, total_examples=model.corpus_count, epochs=100)"
      ],
      "execution_count": 0,
      "outputs": []
    },
    {
      "cell_type": "code",
      "metadata": {
        "id": "XL1z617IZCQi",
        "colab_type": "code",
        "outputId": "2987d26a-723e-464d-d858-da3f268817ec",
        "colab": {
          "base_uri": "https://localhost:8080/",
          "height": 267
        }
      },
      "source": [
        "model.most_similar('nine')"
      ],
      "execution_count": 0,
      "outputs": [
        {
          "output_type": "stream",
          "text": [
            "/usr/local/lib/python2.7/dist-packages/ipykernel_launcher.py:1: DeprecationWarning: Call to deprecated `most_similar` (Method will be removed in 4.0.0, use self.wv.most_similar() instead).\n",
            "  \"\"\"Entry point for launching an IPython kernel.\n",
            "2018-09-01 04:44:34,854 : INFO : precomputing L2-norms of word weight vectors\n"
          ],
          "name": "stderr"
        },
        {
          "output_type": "execute_result",
          "data": {
            "text/plain": [
              "[('six', 0.9887667894363403),\n",
              " ('four', 0.9858414530754089),\n",
              " ('five', 0.985776424407959),\n",
              " ('eight', 0.9828853011131287),\n",
              " ('seven', 0.9795465469360352),\n",
              " ('vii', 0.9767400026321411),\n",
              " ('three', 0.9752222299575806),\n",
              " ('one', 0.9697203040122986),\n",
              " ('two', 0.9664521217346191),\n",
              " ('rebellion', 0.9628607630729675)]"
            ]
          },
          "metadata": {
            "tags": []
          },
          "execution_count": 68
        }
      ]
    },
    {
      "cell_type": "code",
      "metadata": {
        "id": "OlnJccE1eoIP",
        "colab_type": "code",
        "colab": {}
      },
      "source": [
        ""
      ],
      "execution_count": 0,
      "outputs": []
    },
    {
      "cell_type": "code",
      "metadata": {
        "id": "2l8xuVHJeoK0",
        "colab_type": "code",
        "colab": {}
      },
      "source": [
        ""
      ],
      "execution_count": 0,
      "outputs": []
    },
    {
      "cell_type": "markdown",
      "metadata": {
        "id": "VH7FkSaYO-oJ",
        "colab_type": "text"
      },
      "source": [
        "# Vector arithmetic using pre-trained word vectors"
      ]
    },
    {
      "cell_type": "code",
      "metadata": {
        "id": "E3Bed-5eeod3",
        "colab_type": "code",
        "outputId": "8c7f3c14-3bc9-4206-f232-745b1ab395a8",
        "colab": {
          "base_uri": "https://localhost:8080/",
          "height": 204
        }
      },
      "source": [
        "!wget  https://s3.amazonaws.com/dl4j-distribution/GoogleNews-vectors-negative300.bin.gz"
      ],
      "execution_count": 0,
      "outputs": [
        {
          "output_type": "stream",
          "text": [
            "--2019-09-29 12:48:22--  https://s3.amazonaws.com/dl4j-distribution/GoogleNews-vectors-negative300.bin.gz\n",
            "Resolving s3.amazonaws.com (s3.amazonaws.com)... 52.216.205.197\n",
            "Connecting to s3.amazonaws.com (s3.amazonaws.com)|52.216.205.197|:443... connected.\n",
            "HTTP request sent, awaiting response... 200 OK\n",
            "Length: 1647046227 (1.5G) [application/x-gzip]\n",
            "Saving to: ‘GoogleNews-vectors-negative300.bin.gz’\n",
            "\n",
            "GoogleNews-vectors- 100%[===================>]   1.53G  97.7MB/s    in 16s     \n",
            "\n",
            "2019-09-29 12:48:39 (95.8 MB/s) - ‘GoogleNews-vectors-negative300.bin.gz’ saved [1647046227/1647046227]\n",
            "\n"
          ],
          "name": "stdout"
        }
      ]
    },
    {
      "cell_type": "code",
      "metadata": {
        "id": "I7CDYrPYfEDe",
        "colab_type": "code",
        "outputId": "db6c3e20-6e1f-44e7-c7f5-c493bdb5a05f",
        "colab": {
          "base_uri": "https://localhost:8080/",
          "height": 34
        }
      },
      "source": [
        "!ls"
      ],
      "execution_count": 0,
      "outputs": [
        {
          "output_type": "stream",
          "text": [
            "GoogleNews-vectors-negative300.bin.gz  sample_data\n"
          ],
          "name": "stdout"
        }
      ]
    },
    {
      "cell_type": "code",
      "metadata": {
        "id": "WW_j0klHfS4y",
        "colab_type": "code",
        "colab": {}
      },
      "source": [
        "!gunzip '/content/GoogleNews-vectors-negative300.bin.gz'"
      ],
      "execution_count": 0,
      "outputs": []
    },
    {
      "cell_type": "code",
      "metadata": {
        "id": "xcZ2lbTjfW8b",
        "colab_type": "code",
        "outputId": "8c19ff45-b5f5-49f2-c241-1500e9fb4889",
        "colab": {
          "base_uri": "https://localhost:8080/",
          "height": 34
        }
      },
      "source": [
        "!ls"
      ],
      "execution_count": 0,
      "outputs": [
        {
          "output_type": "stream",
          "text": [
            "GoogleNews-vectors-negative300.bin  sample_data\n"
          ],
          "name": "stdout"
        }
      ]
    },
    {
      "cell_type": "code",
      "metadata": {
        "id": "0cZALROYgb4b",
        "colab_type": "code",
        "colab": {}
      },
      "source": [
        "from gensim.models import KeyedVectors"
      ],
      "execution_count": 0,
      "outputs": []
    },
    {
      "cell_type": "code",
      "metadata": {
        "id": "gEPtVmMbgldL",
        "colab_type": "code",
        "outputId": "9bedb5f5-84f9-42fe-83e7-9b2a55c5afad",
        "colab": {
          "base_uri": "https://localhost:8080/",
          "height": 51
        }
      },
      "source": [
        "filename = '/content/GoogleNews-vectors-negative300.bin'\n",
        "model = KeyedVectors.load_word2vec_format(filename, binary=True)"
      ],
      "execution_count": 0,
      "outputs": [
        {
          "output_type": "stream",
          "text": [
            "/usr/local/lib/python3.6/dist-packages/smart_open/smart_open_lib.py:398: UserWarning: This function is deprecated, use smart_open.open instead. See the migration notes for details: https://github.com/RaRe-Technologies/smart_open/blob/master/README.rst#migrating-to-the-new-open-function\n",
            "  'See the migration notes for details: %s' % _MIGRATION_NOTES_URL\n"
          ],
          "name": "stderr"
        }
      ]
    },
    {
      "cell_type": "code",
      "metadata": {
        "id": "N4WYcAKGh6MV",
        "colab_type": "code",
        "outputId": "a394111f-f711-4388-a192-5203b48d1ba6",
        "colab": {
          "base_uri": "https://localhost:8080/",
          "height": 221
        }
      },
      "source": [
        "model.most_similar('month')"
      ],
      "execution_count": 0,
      "outputs": [
        {
          "output_type": "stream",
          "text": [
            "/usr/local/lib/python3.6/dist-packages/gensim/matutils.py:737: FutureWarning: Conversion of the second argument of issubdtype from `int` to `np.signedinteger` is deprecated. In future, it will be treated as `np.int64 == np.dtype(int).type`.\n",
            "  if np.issubdtype(vec.dtype, np.int):\n"
          ],
          "name": "stderr"
        },
        {
          "output_type": "execute_result",
          "data": {
            "text/plain": [
              "[('week', 0.8365199565887451),\n",
              " ('year', 0.7653313875198364),\n",
              " ('months', 0.681006133556366),\n",
              " ('weeks', 0.65276038646698),\n",
              " ('August', 0.6166313290596008),\n",
              " ('February', 0.6136031746864319),\n",
              " ('October', 0.6114892363548279),\n",
              " ('January', 0.6091349124908447),\n",
              " ('day', 0.600459098815918),\n",
              " ('September', 0.5990685224533081)]"
            ]
          },
          "metadata": {
            "tags": []
          },
          "execution_count": 36
        }
      ]
    },
    {
      "cell_type": "code",
      "metadata": {
        "id": "goyXaUKVgsik",
        "colab_type": "code",
        "outputId": "866f91ba-4c7a-45fc-dff2-32731d31d010",
        "colab": {
          "base_uri": "https://localhost:8080/",
          "height": 68
        }
      },
      "source": [
        "result = model.most_similar(positive=['woman', 'king'], negative=['man'], topn=1)\n",
        "print(result)"
      ],
      "execution_count": 0,
      "outputs": [
        {
          "output_type": "stream",
          "text": [
            "/usr/local/lib/python3.6/dist-packages/gensim/matutils.py:737: FutureWarning: Conversion of the second argument of issubdtype from `int` to `np.signedinteger` is deprecated. In future, it will be treated as `np.int64 == np.dtype(int).type`.\n",
            "  if np.issubdtype(vec.dtype, np.int):\n"
          ],
          "name": "stderr"
        },
        {
          "output_type": "stream",
          "text": [
            "[('queen', 0.7118192911148071)]\n"
          ],
          "name": "stdout"
        }
      ]
    },
    {
      "cell_type": "code",
      "metadata": {
        "id": "07rHMbiq0nmM",
        "colab_type": "code",
        "colab": {}
      },
      "source": [
        ""
      ],
      "execution_count": 0,
      "outputs": []
    },
    {
      "cell_type": "code",
      "metadata": {
        "id": "QIajzxCN0npB",
        "colab_type": "code",
        "colab": {}
      },
      "source": [
        ""
      ],
      "execution_count": 0,
      "outputs": []
    },
    {
      "cell_type": "markdown",
      "metadata": {
        "id": "gRW0UcepP8Gx",
        "colab_type": "text"
      },
      "source": [
        "# Building a document vector"
      ]
    },
    {
      "cell_type": "code",
      "metadata": {
        "id": "vZRFxUdx0nr3",
        "colab_type": "code",
        "colab": {}
      },
      "source": [
        "from gensim.models.doc2vec import Doc2Vec, TaggedDocument\n",
        "from nltk.tokenize import word_tokenize"
      ],
      "execution_count": 0,
      "outputs": []
    },
    {
      "cell_type": "code",
      "metadata": {
        "id": "bUYdcEGU1FPi",
        "colab_type": "code",
        "colab": {}
      },
      "source": [
        "import re\n",
        "import pandas as pd\n",
        "def preprocess(text):\n",
        "    text=text.lower()\n",
        "    text=re.sub('[^0-9a-z]+',' ',text)\n",
        "    words = text.split()\n",
        "    words2=' '.join(words)\n",
        "    return(words2)\n",
        "data = pd.read_csv('https://www.dropbox.com/s/8yq0edd4q908xqw/airline_sentiment.csv?dl=1')\t\n",
        "data['text'] = data['text'].apply(preprocess)"
      ],
      "execution_count": 0,
      "outputs": []
    },
    {
      "cell_type": "code",
      "metadata": {
        "id": "PwNXzEc41l10",
        "colab_type": "code",
        "outputId": "0ed80e32-12fd-4256-a9bf-0935a22641d9",
        "colab": {
          "base_uri": "https://localhost:8080/",
          "height": 68
        }
      },
      "source": [
        "import nltk\n",
        "nltk.download('punkt')"
      ],
      "execution_count": 0,
      "outputs": [
        {
          "output_type": "stream",
          "text": [
            "[nltk_data] Downloading package punkt to /root/nltk_data...\n",
            "[nltk_data]   Unzipping tokenizers/punkt.zip.\n"
          ],
          "name": "stdout"
        },
        {
          "output_type": "execute_result",
          "data": {
            "text/plain": [
              "True"
            ]
          },
          "metadata": {
            "tags": []
          },
          "execution_count": 40
        }
      ]
    },
    {
      "cell_type": "code",
      "metadata": {
        "id": "4lRUOdkI1Vlt",
        "colab_type": "code",
        "colab": {}
      },
      "source": [
        "tagged_data = [TaggedDocument(words=word_tokenize(_d.lower()), tags=[str(i)]) for i, _d in enumerate(data['text'])]"
      ],
      "execution_count": 0,
      "outputs": []
    },
    {
      "cell_type": "code",
      "metadata": {
        "id": "S5VZjOcQ9cVa",
        "colab_type": "code",
        "colab": {}
      },
      "source": [
        "tagged_data"
      ],
      "execution_count": 0,
      "outputs": []
    },
    {
      "cell_type": "code",
      "metadata": {
        "id": "73obodV149io",
        "colab_type": "code",
        "outputId": "9c791487-2025-4da1-9209-8c332010580f",
        "colab": {
          "base_uri": "https://localhost:8080/",
          "height": 51
        }
      },
      "source": [
        "max_epochs = 100\n",
        "vec_size = 300\n",
        "alpha = 0.025\n",
        "model = Doc2Vec(size=vec_size,\n",
        "                alpha=alpha, \n",
        "                min_alpha=0.00025,\n",
        "                min_count=30,\n",
        "                dm =1)"
      ],
      "execution_count": 0,
      "outputs": [
        {
          "output_type": "stream",
          "text": [
            "/usr/local/lib/python3.6/dist-packages/gensim/models/doc2vec.py:570: UserWarning: The parameter `size` is deprecated, will be removed in 4.0.0, use `vector_size` instead.\n",
            "  warnings.warn(\"The parameter `size` is deprecated, will be removed in 4.0.0, use `vector_size` instead.\")\n"
          ],
          "name": "stderr"
        }
      ]
    },
    {
      "cell_type": "code",
      "metadata": {
        "id": "K3SXBHz64c8f",
        "colab_type": "code",
        "colab": {}
      },
      "source": [
        "model.build_vocab(tagged_data)"
      ],
      "execution_count": 0,
      "outputs": []
    },
    {
      "cell_type": "code",
      "metadata": {
        "id": "45eQGht49nsW",
        "colab_type": "code",
        "outputId": "99aba6a9-ae69-4442-9541-d4594e0ab74a",
        "colab": {
          "base_uri": "https://localhost:8080/",
          "height": 54
        }
      },
      "source": [
        "model.wv.vocab.keys()"
      ],
      "execution_count": 0,
      "outputs": [
        {
          "output_type": "execute_result",
          "data": {
            "text/plain": [
              "dict_keys(['virginamerica', 'plus', 'you', 've', 'to', 'the', 'experience', 'it', 's', 'really', 'in', 'your', 'amp', 'they', 'have', 'little', 'and', 'a', 'big', 'bad', 'thing', 'about', 'seriously', 'would', 'pay', '30', 'flight', 'for', 'seats', 'that', 'didn', 't', 'this', 'only', 'flying', 'yes', 'every', 'time', 'i', 'fly', 'won', 'go', 'away', 'well', 'but', 'now', 'do', 'd', 'was', 'amazing', 'arrived', 'an', 'hour', 'early', 're', 'too', 'good', 'me', 'lt', '3', 'pretty', 'so', 'much', 'better', 'than', 'is', 'such', 'great', 'deal', 'already', 'my', '2nd', 'trip', 'haven', 'even', 'on', '1st', 'yet', 'm', 'again', 'u', 'take', 'all', 'from', 'travel', 'http', 'co', 'thanks', 'sfo', 'still', 'mia', 'first', 'lax', 'mco', 'heard', 'nothing', 'things', 'flew', 'nyc', 'last', 'week', 'couldn', 'sit', 'seat', 'due', 'two', 'either', 'of', 'help', 'know', 'what', 'be', 'awesome', 'bos', 'fll', 'please', 'want', 'with', 'why', 'are', 'may', 'over', 'three', 'times', 'more', 'other', 'when', 'available', 'love', 'feel', 'guys', 'up', 'gave', 'free', 'status', 'been', 'weeks', 'called', 'no', 'response', 'happened', '2', 'ur', 'food', 'options', 'at', 'least', 'say', 'site', 'able', 'anything', 'next', '6', 'hrs', 'fail', 'we', 'can', 'get', 'any', 'air', 'hi', 'just', 'cool', 'add', 'name', 'during', 'booking', 'problems', 'left', 'iad', 'today', 'one', 'answering', 'f', 'number', 'return', 'phone', 'call', 'use', 'online', 'service', 'option', 'could', 'start', 'flights', 'by', 'end', 'year', 'via', 'way', 'best', 'ever', 'done', 'airline', 'around', 'down', 'support', 'not', 'working', 'beyond', 'hey', 'having', 'hard', 'getting', 'account', 'reason', 'rock', 'wow', 'though', 'very', 'lga', 'gt', 'trying', 'book', 'since', 'never', 'thx', 'need', 'she', '4', 'ago', 'through', 'someone', 'hold', '40', '50', 'minutes', 'there', 'earlier', 'la', 'tonight', '11', 'us', 'everything', 'fine', 'until', 'lost', 'bag', 'needs', 'its', 'new', 'plane', 'crew', 'airlines', 'should', 'like', 'sat', 'morning', 'going', 'customer', 'speak', 'human', 'asap', 'thank', 'southwestair', 'jetblue', 'then', 'once', 'member', 'team', 'im', '100', 'delayed', 'late', 'after', 'will', 'cancelled', 'four', 'which', 'business', 'wife', 'booked', 'back', 'tv', 'disappointed', 'flightled', 'went', 'out', 'jfk', 'landed', 'here', 'check', 'friendly', 'or', 'website', 'isn', 'another', 'tried', 'both', 'let', 'passengers', 'leave', 'told', 'their', 'class', 'find', 'who', 'reservation', 'anyone', 'doing', 'miss', 'missed', 'how', 'direct', 'vegas', 'bought', 'am', 'people', 'had', 'same', 'customerservice', 'line', 'hung', 'card', 'info', 'has', 'come', 'phl', 'horrible', 'stop', 'easy', 'change', 'helpful', 'rep', 'front', 'right', 'ticket', 'b', 'c', 'gate', 'las', 'waited', 'doesn', 'problem', 'min', 'delay', 'connecting', 'seems', 'long', 'moved', 'home', 'san', 'scheduled', '9', 'hours', 'wait', 'calling', 'completely', 'month', 'customers', 'because', 'process', 'does', 'link', 'tsa', 'terrible', 'hotel', 'said', 'sorry', 'assistance', 'yesterday', 'our', 'give', 'longer', 'pls', 'making', 'always', 'buy', 'them', 'frustrated', 'think', 'paying', 'extra', 'rt', 'luggage', 'might', 'world', 'provide', 'cant', 'as', 'weather', 'dallas', 'staff', 'super', 'paid', 'offer', 'fee', 'upgrade', 'sad', 'question', 'possible', 'giving', 'him', 'together', 'dc', 'work', 'don', 'understand', 'dm', 'answer', 'if', 'policy', 'mean', 'checking', 'tickets', 'happy', 'error', 'contact', 'minute', 'reschedule', 'fix', 'got', 'were', 'checked', 'email', 'tomorrow', 'unacceptable', 'into', 'flighted', 'stuck', '1', 'offered', 'look', 'agent', 'airport', 'reply', 'baggage', 'waiting', 'checkin', 'desk', 'open', 'ewr', 'united', 'follow', 'many', 'worse', 'respond', 'money', 'stranded', 'landing', '10', 'days', 'confirmation', 'claim', '8', 'rebook', 'lot', 'being', 'see', 'worst', 'wrong', 'did', 'lose', 'suck', 'issue', 'flightlation', 'w', 'kids', 'boston', 'guy', 'high', 'quick', 'apparently', 'sitting', 'off', 'keep', 'ny', 'pilots', 'job', 'snow', 'row', 'mechanical', 'handle', 'twitter', 'charged', 'refund', 'broken', 'points', 'looking', 'forward', 'rescheduled', 'na', 'cost', '800', 'some', 'show', 'wish', 'attendant', 'something', 'departure', 'fun', 'different', 'helping', 'while', 'passenger', 'flt', 'shouldn', 'he', 'city', 'destination', 'missing', 'coming', 'wasn', 'entire', 'confirmed', 'treat', 'wtf', 'inconvenience', 'full', 'dfw', 'boarding', 'place', 'makes', 'pilot', 'dca', 'sent', 'past', 'club', 'came', 'monday', 'safety', 'day', 'wanted', 'newark', 'hope', 'board', 'helped', 'looks', 'https', 'less', 'half', 'price', 'taking', 'care', 'her', 'several', 'll', 'glad', 'took', 'few', 'years', 'night', 'try', 'purchase', 'most', 'hoping', 'carry', 'empty', 'spoke', 'loyal', 'before', 'received', 'southwest', 'family', 'ok', 'using', 'soon', 'car', 'sucks', 'cust', 'second', 'chance', 'joke', 'credit', 'request', 'planes', 'thought', 'computer', '15', 'make', 'those', 'address', 'made', 'also', 'app', 'system', 'instead', 'y', 'charge', 'between', 'houston', 'finally', 'future', 'poor', 'each', '5', 'group', 'room', 'bags', 'sure', '12', 'shit', 'stay', 'nice', 'wifi', 'saying', 'whole', 'person', 'calls', 'ask', 'flighting', 'luck', '24', 'fees', 'philly', 'point', 'says', 'update', 'reps', 'actually', 'lack', 'ord', 'connections', 'boarded', 'issues', 'oh', 'supposed', 'ridiculous', 'send', 'voucher', 'company', 'maybe', 'drive', 'own', 'talk', 'flightr', 'platinum', 'international', 'run', 'agents', 'rude', 'iah', 'charlotte', 'non', 'guess', 'form', 'ground', 'where', 'else', 'appreciate', 'tarmac', 'pass', 'enough', 'denver', 'put', 'found', 'supervisor', 'months', 'thru', 'connection', 'upset', 'employees', 'old', '7', 'miles', 'american', 'telling', 'delta', 'attendants', 'seem', 'believe', 'bc', 'asking', 'details', 'everyone', 'ua', 'despite', 'updates', 'given', 'hear', 'apology', 'rather', 'zero', 'americanair', 'asked', 'yeah', '25', 'leaving', 'message', 'complaint', 'awful', 'jet', 'these', 'atl', 'happens', 'traveling', 'communication', 'far', 'top', 'unitedairlines', 'extremely', 'real', 'without', 'clothes', 'hr', 'terminal', '20', 'mins', 'vacation', 'sleep', 'compensation', 'his', 'case', 'happen', 'delivered', 'arrive', 'employee', 'delays', 'taken', 'answers', 'clt', 'idea', 'frustrating', 'figure', 'counter', 'tell', 'fact', 'needed', 'means', 'bwi', 'pm', 'expect', 'fixed', 'unable', 'life', 'phones', 'chicago', 'den', 'fleet', 'gives', 'spent', 'situation', 'list', 'changes', '200', 'used', 'o', 'reservations', 'leg', 'reflight', '45', 'changed', 'reach', 'tweet', 'maintenance', 'friend', 'twice', 'counting', 'rebooked', 'sunday', 'sense', 'aren', 'hate', 'huge', 'standby', 'hopefully', 'usairways', 'almost', 'pick', 'multiple', 'lol', 'crazy', 'gets', 'miami', 'fault', 'sending', 'losing', 'switch', 'aa', 'flightlations', 'wouldn', 'seen', 'appreciated', 'media', 'runway', 'live', 'information', 'busy', 'dont', 'disconnected', 'water', 'kind', 'phx', 'automated', 'sw', 'holding', 'swa', 'destinationdragons', 'usair', 'blue', 'fleek', 'airways'])"
            ]
          },
          "metadata": {
            "tags": []
          },
          "execution_count": 45
        }
      ]
    },
    {
      "cell_type": "code",
      "metadata": {
        "id": "IL-Z3A8Q5dLb",
        "colab_type": "code",
        "outputId": "20f8e3bd-cae1-4f85-c59f-7a6ac3ee81cd",
        "colab": {
          "base_uri": "https://localhost:8080/",
          "height": 34
        }
      },
      "source": [
        "model.corpus_count"
      ],
      "execution_count": 0,
      "outputs": [
        {
          "output_type": "execute_result",
          "data": {
            "text/plain": [
              "11541"
            ]
          },
          "metadata": {
            "tags": []
          },
          "execution_count": 46
        }
      ]
    },
    {
      "cell_type": "code",
      "metadata": {
        "id": "CxirLr-A4mQD",
        "colab_type": "code",
        "colab": {}
      },
      "source": [
        "model.train(tagged_data,epochs=100,total_examples=model.corpus_count)"
      ],
      "execution_count": 0,
      "outputs": []
    },
    {
      "cell_type": "code",
      "metadata": {
        "id": "DQF1BCC2-mmK",
        "colab_type": "code",
        "outputId": "a11f64c0-3d07-4155-e5ba-da9c5c582dd0",
        "colab": {
          "base_uri": "https://localhost:8080/",
          "height": 34
        }
      },
      "source": [
        "model['wife'].shape"
      ],
      "execution_count": 0,
      "outputs": [
        {
          "output_type": "execute_result",
          "data": {
            "text/plain": [
              "(300,)"
            ]
          },
          "metadata": {
            "tags": []
          },
          "execution_count": 48
        }
      ]
    },
    {
      "cell_type": "code",
      "metadata": {
        "id": "cToXsUGs39tR",
        "colab_type": "code",
        "outputId": "08cabcd8-1eec-437c-dce2-fa875030612f",
        "colab": {
          "base_uri": "https://localhost:8080/",
          "height": 34
        }
      },
      "source": [
        "test_data = word_tokenize(data['text'][457].lower())\n",
        "test_data"
      ],
      "execution_count": 0,
      "outputs": [
        {
          "output_type": "execute_result",
          "data": {
            "text/plain": [
              "['united', 'thanks', 'just', 'sent']"
            ]
          },
          "metadata": {
            "tags": []
          },
          "execution_count": 49
        }
      ]
    },
    {
      "cell_type": "code",
      "metadata": {
        "id": "B76OmV4j5qkb",
        "colab_type": "code",
        "colab": {}
      },
      "source": [
        "v1 = model.docvecs[457]"
      ],
      "execution_count": 0,
      "outputs": []
    },
    {
      "cell_type": "code",
      "metadata": {
        "id": "LMGvv9vEQZM2",
        "colab_type": "code",
        "outputId": "b172b4e8-ce43-43b7-9998-11d1163ac71b",
        "colab": {
          "base_uri": "https://localhost:8080/",
          "height": 221
        }
      },
      "source": [
        "model.docvecs.most_similar('457')"
      ],
      "execution_count": 0,
      "outputs": [
        {
          "output_type": "stream",
          "text": [
            "/usr/local/lib/python3.6/dist-packages/gensim/matutils.py:737: FutureWarning: Conversion of the second argument of issubdtype from `int` to `np.signedinteger` is deprecated. In future, it will be treated as `np.int64 == np.dtype(int).type`.\n",
            "  if np.issubdtype(vec.dtype, np.int):\n"
          ],
          "name": "stderr"
        },
        {
          "output_type": "execute_result",
          "data": {
            "text/plain": [
              "[('827', 0.9832844138145447),\n",
              " ('5076', 0.9148313999176025),\n",
              " ('2394', 0.9035547971725464),\n",
              " ('6652', 0.9013552665710449),\n",
              " ('10191', 0.844548225402832),\n",
              " ('2088', 0.8429720401763916),\n",
              " ('2773', 0.8420182466506958),\n",
              " ('916', 0.8270453214645386),\n",
              " ('2786', 0.8192600011825562),\n",
              " ('3272', 0.8176226615905762)]"
            ]
          },
          "metadata": {
            "tags": []
          },
          "execution_count": 51
        }
      ]
    },
    {
      "cell_type": "code",
      "metadata": {
        "id": "PWKT8WkP5tIf",
        "colab_type": "code",
        "colab": {}
      },
      "source": [
        "test_data = word_tokenize(data['text'][827].lower())\n",
        "v2 = model.docvecs[827]"
      ],
      "execution_count": 0,
      "outputs": []
    },
    {
      "cell_type": "code",
      "metadata": {
        "id": "1MTyb7wLJ0Vy",
        "colab_type": "code",
        "outputId": "edc5c07e-0029-4d68-afd2-1fbcdf57cebb",
        "colab": {
          "base_uri": "https://localhost:8080/",
          "height": 34
        }
      },
      "source": [
        "import numpy as np\n",
        "np.sum(v1*v2)/(np.sqrt(np.sum(np.square(v1)))*np.sqrt(np.sum(np.square(v2))))"
      ],
      "execution_count": 0,
      "outputs": [
        {
          "output_type": "execute_result",
          "data": {
            "text/plain": [
              "0.9832845"
            ]
          },
          "metadata": {
            "tags": []
          },
          "execution_count": 53
        }
      ]
    },
    {
      "cell_type": "code",
      "metadata": {
        "id": "3qC2859G5u3q",
        "colab_type": "code",
        "outputId": "16537d32-2bb3-4d6b-8478-1ad424a19f5a",
        "colab": {
          "base_uri": "https://localhost:8080/",
          "height": 68
        }
      },
      "source": [
        "similar_doc = model.docvecs.most_similar('457')\n",
        "print(similar_doc)"
      ],
      "execution_count": 0,
      "outputs": [
        {
          "output_type": "stream",
          "text": [
            "[('827', 0.9832844138145447), ('5076', 0.9148313999176025), ('2394', 0.9035547971725464), ('6652', 0.9013552665710449), ('10191', 0.844548225402832), ('2088', 0.8429720401763916), ('2773', 0.8420182466506958), ('916', 0.8270453214645386), ('2786', 0.8192600011825562), ('3272', 0.8176226615905762)]\n"
          ],
          "name": "stdout"
        },
        {
          "output_type": "stream",
          "text": [
            "/usr/local/lib/python3.6/dist-packages/gensim/matutils.py:737: FutureWarning: Conversion of the second argument of issubdtype from `int` to `np.signedinteger` is deprecated. In future, it will be treated as `np.int64 == np.dtype(int).type`.\n",
            "  if np.issubdtype(vec.dtype, np.int):\n"
          ],
          "name": "stderr"
        }
      ]
    },
    {
      "cell_type": "code",
      "metadata": {
        "id": "ksHg5bbk50CZ",
        "colab_type": "code",
        "outputId": "4d3a500d-8a65-4e09-e8be-0c998796df17",
        "colab": {
          "base_uri": "https://localhost:8080/",
          "height": 34
        }
      },
      "source": [
        "data['text'][457]"
      ],
      "execution_count": 0,
      "outputs": [
        {
          "output_type": "execute_result",
          "data": {
            "text/plain": [
              "'united thanks just sent'"
            ]
          },
          "metadata": {
            "tags": []
          },
          "execution_count": 55
        }
      ]
    },
    {
      "cell_type": "code",
      "metadata": {
        "id": "FSgy_kaI56Qv",
        "colab_type": "code",
        "outputId": "3017b597-32f9-4f06-8a9d-1ce178578e33",
        "colab": {
          "base_uri": "https://localhost:8080/",
          "height": 34
        }
      },
      "source": [
        "data['text'][827]"
      ],
      "execution_count": 0,
      "outputs": [
        {
          "output_type": "execute_result",
          "data": {
            "text/plain": [
              "'united just sent thanks'"
            ]
          },
          "metadata": {
            "tags": []
          },
          "execution_count": 56
        }
      ]
    },
    {
      "cell_type": "code",
      "metadata": {
        "id": "S9_bu3cC6vOD",
        "colab_type": "code",
        "colab": {}
      },
      "source": [
        ""
      ],
      "execution_count": 0,
      "outputs": []
    },
    {
      "cell_type": "markdown",
      "metadata": {
        "id": "i-LkrqtVRUKR",
        "colab_type": "text"
      },
      "source": [
        "# Building word vectors using word2vec"
      ]
    },
    {
      "cell_type": "code",
      "metadata": {
        "id": "8MLXpFkEECnG",
        "colab_type": "code",
        "colab": {}
      },
      "source": [
        "list_words=[]\n",
        "for i in range(len(data)):\n",
        "  list_words.append(data['text'][i].split())"
      ],
      "execution_count": 0,
      "outputs": []
    },
    {
      "cell_type": "code",
      "metadata": {
        "id": "zRo4q-2fPYjj",
        "colab_type": "code",
        "colab": {}
      },
      "source": [
        "from gensim.models import Word2Vec"
      ],
      "execution_count": 0,
      "outputs": []
    },
    {
      "cell_type": "code",
      "metadata": {
        "id": "pHKyOt3jECqP",
        "colab_type": "code",
        "colab": {}
      },
      "source": [
        "model = Word2Vec(min_count=30)\n",
        "model.build_vocab(list_words)"
      ],
      "execution_count": 0,
      "outputs": []
    },
    {
      "cell_type": "code",
      "metadata": {
        "id": "txyzXxaFECtm",
        "colab_type": "code",
        "outputId": "29a58a57-e8b7-4e1d-c414-e084b4325fe3",
        "colab": {
          "base_uri": "https://localhost:8080/",
          "height": 34
        }
      },
      "source": [
        "model.train(list_words, total_examples=model.corpus_count, epochs=100)"
      ],
      "execution_count": 0,
      "outputs": [
        {
          "output_type": "execute_result",
          "data": {
            "text/plain": [
              "(12589660, 22142300)"
            ]
          },
          "metadata": {
            "tags": []
          },
          "execution_count": 60
        }
      ]
    },
    {
      "cell_type": "code",
      "metadata": {
        "id": "Cdu6_TDrPgWc",
        "colab_type": "code",
        "outputId": "05afb632-9706-4a19-c149-5123df520c3b",
        "colab": {
          "base_uri": "https://localhost:8080/",
          "height": 255
        }
      },
      "source": [
        "model.most_similar('virginamerica')"
      ],
      "execution_count": 0,
      "outputs": [
        {
          "output_type": "stream",
          "text": [
            "/usr/local/lib/python3.6/dist-packages/ipykernel_launcher.py:1: DeprecationWarning: Call to deprecated `most_similar` (Method will be removed in 4.0.0, use self.wv.most_similar() instead).\n",
            "  \"\"\"Entry point for launching an IPython kernel.\n",
            "/usr/local/lib/python3.6/dist-packages/gensim/matutils.py:737: FutureWarning: Conversion of the second argument of issubdtype from `int` to `np.signedinteger` is deprecated. In future, it will be treated as `np.int64 == np.dtype(int).type`.\n",
            "  if np.issubdtype(vec.dtype, np.int):\n"
          ],
          "name": "stderr"
        },
        {
          "output_type": "execute_result",
          "data": {
            "text/plain": [
              "[('southwestair', 0.6903791427612305),\n",
              " ('jetblue', 0.603947103023529),\n",
              " ('united', 0.5000858306884766),\n",
              " ('americanair', 0.4926168620586395),\n",
              " ('usairways', 0.41953080892562866),\n",
              " ('southwest', 0.3613337278366089),\n",
              " ('guys', 0.32713115215301514),\n",
              " ('wish', 0.3175077438354492),\n",
              " ('thought', 0.2702178359031677),\n",
              " ('card', 0.23920129239559174)]"
            ]
          },
          "metadata": {
            "tags": []
          },
          "execution_count": 61
        }
      ]
    },
    {
      "cell_type": "code",
      "metadata": {
        "id": "Bld_eHv4QOLB",
        "colab_type": "code",
        "outputId": "d1615a81-8f59-4c9f-850a-f143ec81b28c",
        "colab": {
          "base_uri": "https://localhost:8080/",
          "height": 136
        }
      },
      "source": [
        "import numpy as np\n",
        "np.zeros((1,100))"
      ],
      "execution_count": 0,
      "outputs": [
        {
          "output_type": "execute_result",
          "data": {
            "text/plain": [
              "array([[0., 0., 0., 0., 0., 0., 0., 0., 0., 0., 0., 0., 0., 0., 0., 0.,\n",
              "        0., 0., 0., 0., 0., 0., 0., 0., 0., 0., 0., 0., 0., 0., 0., 0.,\n",
              "        0., 0., 0., 0., 0., 0., 0., 0., 0., 0., 0., 0., 0., 0., 0., 0.,\n",
              "        0., 0., 0., 0., 0., 0., 0., 0., 0., 0., 0., 0., 0., 0., 0., 0.,\n",
              "        0., 0., 0., 0., 0., 0., 0., 0., 0., 0., 0., 0., 0., 0., 0., 0.,\n",
              "        0., 0., 0., 0., 0., 0., 0., 0., 0., 0., 0., 0., 0., 0., 0., 0.,\n",
              "        0., 0., 0., 0.]])"
            ]
          },
          "metadata": {
            "tags": []
          },
          "execution_count": 62
        }
      ]
    },
    {
      "cell_type": "markdown",
      "metadata": {
        "id": "q5SSn8v3SZQH",
        "colab_type": "text"
      },
      "source": [
        "# Sentiment classificatioon using word2vec CBOW based word vectors"
      ]
    },
    {
      "cell_type": "code",
      "metadata": {
        "id": "oezBuVKOP1CT",
        "colab_type": "code",
        "outputId": "ca4c612d-09c2-4a53-9f21-f74788a2a720",
        "colab": {
          "base_uri": "https://localhost:8080/",
          "height": 255
        }
      },
      "source": [
        "features= []\n",
        "for i in range(len(list_words)):\n",
        "  list_words2 = list_words[i]\n",
        "  z = np.zeros((1,100))\n",
        "  k=0\n",
        "  for j in range(len(list_words2)):\n",
        "    try:\n",
        "      z = z+model[list_words2[j]]\n",
        "      k= k+1\n",
        "    except KeyError:\n",
        "      continue\n",
        "  features.append(z/k)\n",
        "  if(i%1000==0):\n",
        "    print(i)"
      ],
      "execution_count": 0,
      "outputs": [
        {
          "output_type": "stream",
          "text": [
            "/usr/local/lib/python3.6/dist-packages/ipykernel_launcher.py:8: DeprecationWarning: Call to deprecated `__getitem__` (Method will be removed in 4.0.0, use self.wv.__getitem__() instead).\n",
            "  \n"
          ],
          "name": "stderr"
        },
        {
          "output_type": "stream",
          "text": [
            "0\n",
            "1000\n",
            "2000\n",
            "3000\n",
            "4000\n",
            "5000\n",
            "6000\n",
            "7000\n",
            "8000\n",
            "9000\n",
            "10000\n",
            "11000\n"
          ],
          "name": "stdout"
        }
      ]
    },
    {
      "cell_type": "code",
      "metadata": {
        "id": "mFT7LsgRQkzt",
        "colab_type": "code",
        "outputId": "4961e9dc-03f9-4b33-adef-36487830420d",
        "colab": {
          "base_uri": "https://localhost:8080/",
          "height": 34
        }
      },
      "source": [
        "features[11500].shape"
      ],
      "execution_count": 0,
      "outputs": [
        {
          "output_type": "execute_result",
          "data": {
            "text/plain": [
              "(1, 100)"
            ]
          },
          "metadata": {
            "tags": []
          },
          "execution_count": 64
        }
      ]
    },
    {
      "cell_type": "code",
      "metadata": {
        "id": "y2PwMjQLSuoP",
        "colab_type": "code",
        "colab": {}
      },
      "source": [
        "features = np.array(features)"
      ],
      "execution_count": 0,
      "outputs": []
    },
    {
      "cell_type": "code",
      "metadata": {
        "id": "EG8Fp1UZRTBW",
        "colab_type": "code",
        "colab": {}
      },
      "source": [
        "from sklearn.model_selection import train_test_split\n",
        "X_train, X_test, y_train, y_test = train_test_split(features, data['airline_sentiment'], test_size=0.30,random_state=10)"
      ],
      "execution_count": 0,
      "outputs": []
    },
    {
      "cell_type": "code",
      "metadata": {
        "id": "6TuqmcCtSq08",
        "colab_type": "code",
        "outputId": "cd0e8330-ff39-4ab0-8d62-a1ea9ddc974e",
        "colab": {
          "base_uri": "https://localhost:8080/",
          "height": 34
        }
      },
      "source": [
        "X_train.shape"
      ],
      "execution_count": 0,
      "outputs": [
        {
          "output_type": "execute_result",
          "data": {
            "text/plain": [
              "(8078, 1, 100)"
            ]
          },
          "metadata": {
            "tags": []
          },
          "execution_count": 67
        }
      ]
    },
    {
      "cell_type": "code",
      "metadata": {
        "id": "-Mb_kxvCSsQ3",
        "colab_type": "code",
        "colab": {}
      },
      "source": [
        "X_train = X_train.reshape(X_train.shape[0],100)\n",
        "X_test = X_test.reshape(X_test.shape[0],100)"
      ],
      "execution_count": 0,
      "outputs": []
    },
    {
      "cell_type": "code",
      "metadata": {
        "id": "9SgEFBjiTVcn",
        "colab_type": "code",
        "outputId": "2549efb8-ea20-4bf8-9f62-b08ffd2da3e0",
        "colab": {
          "base_uri": "https://localhost:8080/",
          "height": 34
        }
      },
      "source": [
        "#import relevant packages\n",
        "from keras.layers import Dense, Activation\n",
        "from keras.layers.recurrent import SimpleRNN\n",
        "from keras.models import Sequential\n",
        "from keras.utils import to_categorical\n",
        "from keras.layers.embeddings import Embedding"
      ],
      "execution_count": 0,
      "outputs": [
        {
          "output_type": "stream",
          "text": [
            "Using TensorFlow backend.\n"
          ],
          "name": "stderr"
        }
      ]
    },
    {
      "cell_type": "code",
      "metadata": {
        "id": "Kh6WI_E8TDoq",
        "colab_type": "code",
        "outputId": "e13a7629-ecf3-48be-f4eb-be890409d11f",
        "colab": {
          "base_uri": "https://localhost:8080/",
          "height": 476
        }
      },
      "source": [
        "model = Sequential()\n",
        "\n",
        "model.add(Dense(1000,input_dim = 100,activation='relu'))\n",
        "model.add(Dense(1))\n",
        "model.add(Activation('sigmoid'))\n",
        "\n",
        "model.compile(loss='binary_crossentropy', optimizer='adam', metrics=['accuracy'])\n",
        "model.summary()"
      ],
      "execution_count": 0,
      "outputs": [
        {
          "output_type": "stream",
          "text": [
            "WARNING:tensorflow:From /usr/local/lib/python3.6/dist-packages/keras/backend/tensorflow_backend.py:66: The name tf.get_default_graph is deprecated. Please use tf.compat.v1.get_default_graph instead.\n",
            "\n",
            "WARNING:tensorflow:From /usr/local/lib/python3.6/dist-packages/keras/backend/tensorflow_backend.py:541: The name tf.placeholder is deprecated. Please use tf.compat.v1.placeholder instead.\n",
            "\n",
            "WARNING:tensorflow:From /usr/local/lib/python3.6/dist-packages/keras/backend/tensorflow_backend.py:4432: The name tf.random_uniform is deprecated. Please use tf.random.uniform instead.\n",
            "\n",
            "WARNING:tensorflow:From /usr/local/lib/python3.6/dist-packages/keras/optimizers.py:793: The name tf.train.Optimizer is deprecated. Please use tf.compat.v1.train.Optimizer instead.\n",
            "\n",
            "WARNING:tensorflow:From /usr/local/lib/python3.6/dist-packages/keras/backend/tensorflow_backend.py:3657: The name tf.log is deprecated. Please use tf.math.log instead.\n",
            "\n",
            "WARNING:tensorflow:From /usr/local/lib/python3.6/dist-packages/tensorflow/python/ops/nn_impl.py:180: add_dispatch_support.<locals>.wrapper (from tensorflow.python.ops.array_ops) is deprecated and will be removed in a future version.\n",
            "Instructions for updating:\n",
            "Use tf.where in 2.0, which has the same broadcast rule as np.where\n",
            "Model: \"sequential_1\"\n",
            "_________________________________________________________________\n",
            "Layer (type)                 Output Shape              Param #   \n",
            "=================================================================\n",
            "dense_1 (Dense)              (None, 1000)              101000    \n",
            "_________________________________________________________________\n",
            "dense_2 (Dense)              (None, 1)                 1001      \n",
            "_________________________________________________________________\n",
            "activation_1 (Activation)    (None, 1)                 0         \n",
            "=================================================================\n",
            "Total params: 102,001\n",
            "Trainable params: 102,001\n",
            "Non-trainable params: 0\n",
            "_________________________________________________________________\n"
          ],
          "name": "stdout"
        }
      ]
    },
    {
      "cell_type": "code",
      "metadata": {
        "id": "oRtykOViTmfy",
        "colab_type": "code",
        "outputId": "d8baf447-a96b-4941-c6de-55184f53766b",
        "colab": {
          "base_uri": "https://localhost:8080/",
          "height": 289
        }
      },
      "source": [
        "# Train model\n",
        "model.fit(X_train, y_train, batch_size=128, nb_epoch=5, validation_data=(X_test, y_test),verbose = 1)"
      ],
      "execution_count": 0,
      "outputs": [
        {
          "output_type": "stream",
          "text": [
            "WARNING:tensorflow:From /usr/local/lib/python3.6/dist-packages/keras/backend/tensorflow_backend.py:1033: The name tf.assign_add is deprecated. Please use tf.compat.v1.assign_add instead.\n",
            "\n"
          ],
          "name": "stdout"
        },
        {
          "output_type": "stream",
          "text": [
            "/usr/local/lib/python3.6/dist-packages/ipykernel_launcher.py:1: UserWarning: The `nb_epoch` argument in `fit` has been renamed `epochs`.\n",
            "  \"\"\"Entry point for launching an IPython kernel.\n"
          ],
          "name": "stderr"
        },
        {
          "output_type": "stream",
          "text": [
            "Train on 8078 samples, validate on 3463 samples\n",
            "Epoch 1/5\n",
            "8078/8078 [==============================] - 3s 423us/step - loss: 0.3045 - acc: 0.8719 - val_loss: 0.2589 - val_acc: 0.8989\n",
            "Epoch 2/5\n",
            "8078/8078 [==============================] - 3s 315us/step - loss: 0.2384 - acc: 0.9026 - val_loss: 0.2523 - val_acc: 0.8989\n",
            "Epoch 3/5\n",
            "8078/8078 [==============================] - 3s 390us/step - loss: 0.2252 - acc: 0.9100 - val_loss: 0.2508 - val_acc: 0.8992\n",
            "Epoch 4/5\n",
            "8078/8078 [==============================] - 3s 376us/step - loss: 0.2154 - acc: 0.9122 - val_loss: 0.2496 - val_acc: 0.9001\n",
            "Epoch 5/5\n",
            "8078/8078 [==============================] - 3s 389us/step - loss: 0.2032 - acc: 0.9193 - val_loss: 0.2496 - val_acc: 0.8975\n"
          ],
          "name": "stdout"
        },
        {
          "output_type": "execute_result",
          "data": {
            "text/plain": [
              "<keras.callbacks.History at 0x7f791b8ffda0>"
            ]
          },
          "metadata": {
            "tags": []
          },
          "execution_count": 71
        }
      ]
    },
    {
      "cell_type": "code",
      "metadata": {
        "id": "fygtIqQHVMET",
        "colab_type": "code",
        "colab": {}
      },
      "source": [
        "pred = model.predict(X_test)"
      ],
      "execution_count": 0,
      "outputs": []
    },
    {
      "cell_type": "code",
      "metadata": {
        "id": "eQgSvUV6UOYX",
        "colab_type": "code",
        "colab": {}
      },
      "source": [
        "pred2 = np.where(pred>0.2,1,0)"
      ],
      "execution_count": 0,
      "outputs": []
    },
    {
      "cell_type": "code",
      "metadata": {
        "id": "pNoGoT3IU5Kl",
        "colab_type": "code",
        "colab": {}
      },
      "source": [
        "from sklearn.metrics import confusion_matrix"
      ],
      "execution_count": 0,
      "outputs": []
    },
    {
      "cell_type": "code",
      "metadata": {
        "id": "1XXmhr8aVsUh",
        "colab_type": "code",
        "outputId": "30d16a37-3e8a-48f7-c332-c5f0892bdf97",
        "colab": {
          "base_uri": "https://localhost:8080/",
          "height": 51
        }
      },
      "source": [
        "confusion_matrix(y_test, pred2)"
      ],
      "execution_count": 0,
      "outputs": [
        {
          "output_type": "execute_result",
          "data": {
            "text/plain": [
              "array([[2429,  340],\n",
              "       [ 114,  580]])"
            ]
          },
          "metadata": {
            "tags": []
          },
          "execution_count": 75
        }
      ]
    },
    {
      "cell_type": "code",
      "metadata": {
        "id": "pW7-MQBCWAGb",
        "colab_type": "code",
        "colab": {}
      },
      "source": [
        ""
      ],
      "execution_count": 0,
      "outputs": []
    },
    {
      "cell_type": "code",
      "metadata": {
        "id": "uV21xXfFWUZf",
        "colab_type": "code",
        "colab": {}
      },
      "source": [
        ""
      ],
      "execution_count": 0,
      "outputs": []
    },
    {
      "cell_type": "code",
      "metadata": {
        "id": "_iLXiXaBWUeE",
        "colab_type": "code",
        "colab": {}
      },
      "source": [
        ""
      ],
      "execution_count": 0,
      "outputs": []
    },
    {
      "cell_type": "code",
      "metadata": {
        "id": "8FqPRxPoWUiP",
        "colab_type": "code",
        "colab": {}
      },
      "source": [
        ""
      ],
      "execution_count": 0,
      "outputs": []
    },
    {
      "cell_type": "markdown",
      "metadata": {
        "id": "qRC3sTdYRaxX",
        "colab_type": "text"
      },
      "source": [
        "# Building word vectors using fasttext"
      ]
    },
    {
      "cell_type": "code",
      "metadata": {
        "id": "7MgCEKyFWUo3",
        "colab_type": "code",
        "colab": {}
      },
      "source": [
        "from gensim.models.fasttext import FastText"
      ],
      "execution_count": 0,
      "outputs": []
    },
    {
      "cell_type": "code",
      "metadata": {
        "id": "tL82J7Yc9bsC",
        "colab_type": "code",
        "colab": {}
      },
      "source": [
        ""
      ],
      "execution_count": 0,
      "outputs": []
    },
    {
      "cell_type": "code",
      "metadata": {
        "id": "fWjZz_1wWUmb",
        "colab_type": "code",
        "colab": {}
      },
      "source": [
        "ft_model = FastText(size=100)\n",
        "ft_model.build_vocab(list_words)"
      ],
      "execution_count": 0,
      "outputs": []
    },
    {
      "cell_type": "code",
      "metadata": {
        "id": "7zyNirQedL0S",
        "colab_type": "code",
        "outputId": "f4715136-a5ef-4b61-e301-060f342c9e49",
        "colab": {
          "base_uri": "https://localhost:8080/",
          "height": 34
        }
      },
      "source": [
        "len(ft_model.wv.vocab.keys())"
      ],
      "execution_count": 0,
      "outputs": [
        {
          "output_type": "execute_result",
          "data": {
            "text/plain": [
              "2683"
            ]
          },
          "metadata": {
            "tags": []
          },
          "execution_count": 78
        }
      ]
    },
    {
      "cell_type": "code",
      "metadata": {
        "id": "4I1bsOhdvbsl",
        "colab_type": "code",
        "colab": {}
      },
      "source": [
        "ft_model.train(list_words, total_examples=ft_model.corpus_count,epochs=100)"
      ],
      "execution_count": 0,
      "outputs": []
    },
    {
      "cell_type": "markdown",
      "metadata": {
        "id": "X7chiYpkUsW1",
        "colab_type": "text"
      },
      "source": [
        "# Spelling correction using word vectors"
      ]
    },
    {
      "cell_type": "code",
      "metadata": {
        "id": "3IgtQ7VGvl3g",
        "colab_type": "code",
        "outputId": "e0e19c7a-9832-4cb0-b870-20cb6bb5fcfc",
        "colab": {
          "base_uri": "https://localhost:8080/",
          "height": 102
        }
      },
      "source": [
        "ft_model.similarity('first','firstli')"
      ],
      "execution_count": 0,
      "outputs": [
        {
          "output_type": "stream",
          "text": [
            "/usr/local/lib/python3.6/dist-packages/ipykernel_launcher.py:1: DeprecationWarning: Call to deprecated `similarity` (Method will be removed in 4.0.0, use self.wv.similarity() instead).\n",
            "  \"\"\"Entry point for launching an IPython kernel.\n",
            "/usr/local/lib/python3.6/dist-packages/gensim/matutils.py:737: FutureWarning: Conversion of the second argument of issubdtype from `int` to `np.signedinteger` is deprecated. In future, it will be treated as `np.int64 == np.dtype(int).type`.\n",
            "  if np.issubdtype(vec.dtype, np.int):\n"
          ],
          "name": "stderr"
        },
        {
          "output_type": "execute_result",
          "data": {
            "text/plain": [
              "0.95553243"
            ]
          },
          "metadata": {
            "tags": []
          },
          "execution_count": 80
        }
      ]
    },
    {
      "cell_type": "code",
      "metadata": {
        "id": "z--LBMSJU-Kh",
        "colab_type": "code",
        "outputId": "64030bfc-8757-4318-d1b0-7b82d544abbb",
        "colab": {
          "base_uri": "https://localhost:8080/",
          "height": 102
        }
      },
      "source": [
        "ft_model.most_similar('prmse', topn=1)"
      ],
      "execution_count": 0,
      "outputs": [
        {
          "output_type": "stream",
          "text": [
            "/usr/local/lib/python3.6/dist-packages/ipykernel_launcher.py:1: DeprecationWarning: Call to deprecated `most_similar` (Method will be removed in 4.0.0, use self.wv.most_similar() instead).\n",
            "  \"\"\"Entry point for launching an IPython kernel.\n",
            "/usr/local/lib/python3.6/dist-packages/gensim/matutils.py:737: FutureWarning: Conversion of the second argument of issubdtype from `int` to `np.signedinteger` is deprecated. In future, it will be treated as `np.int64 == np.dtype(int).type`.\n",
            "  if np.issubdtype(vec.dtype, np.int):\n"
          ],
          "name": "stderr"
        },
        {
          "output_type": "execute_result",
          "data": {
            "text/plain": [
              "[('pr', 0.6917802691459656)]"
            ]
          },
          "metadata": {
            "tags": []
          },
          "execution_count": 81
        }
      ]
    },
    {
      "cell_type": "code",
      "metadata": {
        "id": "DOCZCThWUv0f",
        "colab_type": "code",
        "outputId": "83b7b8cd-e5aa-4293-cd10-dca14e7adaa4",
        "colab": {
          "base_uri": "https://localhost:8080/",
          "height": 255
        }
      },
      "source": [
        "ft_model.most_similar('exprence')"
      ],
      "execution_count": 0,
      "outputs": [
        {
          "output_type": "stream",
          "text": [
            "/usr/local/lib/python3.6/dist-packages/ipykernel_launcher.py:1: DeprecationWarning: Call to deprecated `most_similar` (Method will be removed in 4.0.0, use self.wv.most_similar() instead).\n",
            "  \"\"\"Entry point for launching an IPython kernel.\n",
            "/usr/local/lib/python3.6/dist-packages/gensim/matutils.py:737: FutureWarning: Conversion of the second argument of issubdtype from `int` to `np.signedinteger` is deprecated. In future, it will be treated as `np.int64 == np.dtype(int).type`.\n",
            "  if np.issubdtype(vec.dtype, np.int):\n"
          ],
          "name": "stderr"
        },
        {
          "output_type": "execute_result",
          "data": {
            "text/plain": [
              "[('express', 0.7245995998382568),\n",
              " ('reference', 0.5292419195175171),\n",
              " ('conference', 0.4963493347167969),\n",
              " ('inconvenience', 0.47445768117904663),\n",
              " ('hence', 0.4726046323776245),\n",
              " ('effort', 0.463529497385025),\n",
              " ('concerned', 0.45551222562789917),\n",
              " ('concern', 0.4422176480293274),\n",
              " ('operational', 0.4325319826602936),\n",
              " ('necessary', 0.43148601055145264)]"
            ]
          },
          "metadata": {
            "tags": []
          },
          "execution_count": 82
        }
      ]
    },
    {
      "cell_type": "code",
      "metadata": {
        "id": "FWp0VSIRU0wt",
        "colab_type": "code",
        "colab": {}
      },
      "source": [
        ""
      ],
      "execution_count": 0,
      "outputs": []
    },
    {
      "cell_type": "code",
      "metadata": {
        "id": "0n_3WO2v7AX8",
        "colab_type": "code",
        "outputId": "237aabe3-869d-451f-8d25-dc4faf1a847a",
        "colab": {
          "base_uri": "https://localhost:8080/",
          "height": 102
        }
      },
      "source": [
        "result = ft_model.most_similar(positive=['exprience', 'prmise'], negative=['experience'], topn=1)\n",
        "print(result)"
      ],
      "execution_count": 0,
      "outputs": [
        {
          "output_type": "stream",
          "text": [
            "[('promise', 0.5932996273040771)]\n"
          ],
          "name": "stdout"
        },
        {
          "output_type": "stream",
          "text": [
            "/usr/local/lib/python3.6/dist-packages/ipykernel_launcher.py:1: DeprecationWarning: Call to deprecated `most_similar` (Method will be removed in 4.0.0, use self.wv.most_similar() instead).\n",
            "  \"\"\"Entry point for launching an IPython kernel.\n",
            "/usr/local/lib/python3.6/dist-packages/gensim/matutils.py:737: FutureWarning: Conversion of the second argument of issubdtype from `int` to `np.signedinteger` is deprecated. In future, it will be treated as `np.int64 == np.dtype(int).type`.\n",
            "  if np.issubdtype(vec.dtype, np.int):\n"
          ],
          "name": "stderr"
        }
      ]
    },
    {
      "cell_type": "markdown",
      "metadata": {
        "id": "jy_9DHjoRkXA",
        "colab_type": "text"
      },
      "source": [
        "# Sentiment classification using fasttext based word vectors"
      ]
    },
    {
      "cell_type": "code",
      "metadata": {
        "id": "tx8bkhS6wWjR",
        "colab_type": "code",
        "colab": {}
      },
      "source": [
        "features= []\n",
        "for i in range(len(list_words)):\n",
        "  list_words2 = list_words[i]\n",
        "  z = np.zeros((1,100))\n",
        "  k=0\n",
        "  for j in range(len(list_words2)):\n",
        "    try:\n",
        "      z = z+ft_model[list_words2[j]]\n",
        "      k= k+1\n",
        "    except KeyError:\n",
        "      continue\n",
        "  features.append(z/k)\n",
        "  if(i%100==0):\n",
        "    print(i)"
      ],
      "execution_count": 0,
      "outputs": []
    },
    {
      "cell_type": "code",
      "metadata": {
        "id": "LHPWP77aw4gV",
        "colab_type": "code",
        "colab": {}
      },
      "source": [
        "features = np.array(features)"
      ],
      "execution_count": 0,
      "outputs": []
    },
    {
      "cell_type": "code",
      "metadata": {
        "id": "gEcHGE3Fw8l0",
        "colab_type": "code",
        "colab": {}
      },
      "source": [
        "from sklearn.model_selection import train_test_split\n",
        "X_train, X_test, y_train, y_test = train_test_split(features, data['airline_sentiment'], test_size=0.30,random_state=10)"
      ],
      "execution_count": 0,
      "outputs": []
    },
    {
      "cell_type": "code",
      "metadata": {
        "id": "6vAJxcr5w_1a",
        "colab_type": "code",
        "colab": {}
      },
      "source": [
        "X_train = X_train.reshape(X_train.shape[0],100)\n",
        "X_test = X_test.reshape(X_test.shape[0],100)"
      ],
      "execution_count": 0,
      "outputs": []
    },
    {
      "cell_type": "code",
      "metadata": {
        "id": "Fo8uGEJhxCZA",
        "colab_type": "code",
        "colab": {}
      },
      "source": [
        "#import relevant packages\n",
        "from keras.layers import Dense, Activation\n",
        "from keras.layers.recurrent import SimpleRNN\n",
        "from keras.models import Sequential\n",
        "from keras.utils import to_categorical\n",
        "from keras.layers.embeddings import Embedding"
      ],
      "execution_count": 0,
      "outputs": []
    },
    {
      "cell_type": "code",
      "metadata": {
        "id": "TSmSx4nYxFcx",
        "colab_type": "code",
        "outputId": "9a663b47-cec3-4c43-87a6-5077c17e8032",
        "colab": {
          "base_uri": "https://localhost:8080/",
          "height": 255
        }
      },
      "source": [
        "model = Sequential()\n",
        "\n",
        "model.add(Dense(1000,input_dim = 100,activation='relu'))\n",
        "model.add(Dense(1))\n",
        "model.add(Activation('sigmoid'))\n",
        "\n",
        "model.compile(loss='binary_crossentropy', optimizer='adam', metrics=['accuracy'])\n",
        "model.summary()"
      ],
      "execution_count": 0,
      "outputs": [
        {
          "output_type": "stream",
          "text": [
            "Model: \"sequential_2\"\n",
            "_________________________________________________________________\n",
            "Layer (type)                 Output Shape              Param #   \n",
            "=================================================================\n",
            "dense_3 (Dense)              (None, 1000)              101000    \n",
            "_________________________________________________________________\n",
            "dense_4 (Dense)              (None, 1)                 1001      \n",
            "_________________________________________________________________\n",
            "activation_2 (Activation)    (None, 1)                 0         \n",
            "=================================================================\n",
            "Total params: 102,001\n",
            "Trainable params: 102,001\n",
            "Non-trainable params: 0\n",
            "_________________________________________________________________\n"
          ],
          "name": "stdout"
        }
      ]
    },
    {
      "cell_type": "code",
      "metadata": {
        "id": "q8RRCqFsxIVA",
        "colab_type": "code",
        "outputId": "9d9b9af8-aec1-4ee6-eb1a-d100d5de2802",
        "colab": {
          "base_uri": "https://localhost:8080/",
          "height": 255
        }
      },
      "source": [
        "# Train model\n",
        "model.fit(X_train, y_train, batch_size=128, nb_epoch=5, validation_data=(X_test, y_test),verbose = 1)"
      ],
      "execution_count": 0,
      "outputs": [
        {
          "output_type": "stream",
          "text": [
            "/usr/local/lib/python3.6/dist-packages/ipykernel_launcher.py:1: UserWarning: The `nb_epoch` argument in `fit` has been renamed `epochs`.\n",
            "  \"\"\"Entry point for launching an IPython kernel.\n"
          ],
          "name": "stderr"
        },
        {
          "output_type": "stream",
          "text": [
            "Train on 8078 samples, validate on 3463 samples\n",
            "Epoch 1/5\n",
            "8078/8078 [==============================] - 1s 79us/step - loss: 0.3209 - acc: 0.8644 - val_loss: 0.2609 - val_acc: 0.8972\n",
            "Epoch 2/5\n",
            "8078/8078 [==============================] - 0s 50us/step - loss: 0.2465 - acc: 0.9023 - val_loss: 0.2502 - val_acc: 0.9038\n",
            "Epoch 3/5\n",
            "8078/8078 [==============================] - 0s 47us/step - loss: 0.2292 - acc: 0.9075 - val_loss: 0.2513 - val_acc: 0.9030\n",
            "Epoch 4/5\n",
            "8078/8078 [==============================] - 0s 47us/step - loss: 0.2239 - acc: 0.9105 - val_loss: 0.2472 - val_acc: 0.9050\n",
            "Epoch 5/5\n",
            "8078/8078 [==============================] - 0s 46us/step - loss: 0.2120 - acc: 0.9150 - val_loss: 0.2493 - val_acc: 0.9030\n"
          ],
          "name": "stdout"
        },
        {
          "output_type": "execute_result",
          "data": {
            "text/plain": [
              "<keras.callbacks.History at 0x7f791124e0f0>"
            ]
          },
          "metadata": {
            "tags": []
          },
          "execution_count": 90
        }
      ]
    },
    {
      "cell_type": "code",
      "metadata": {
        "id": "e35P0QJAxLmu",
        "colab_type": "code",
        "outputId": "224a5746-29e6-45b7-e319-de3433404fc6",
        "colab": {
          "base_uri": "https://localhost:8080/",
          "height": 51
        }
      },
      "source": [
        "pred = model.predict(X_test)\n",
        "pred2 = np.where(pred>0.5,1,0)\n",
        "from sklearn.metrics import confusion_matrix\n",
        "confusion_matrix(y_test, pred2)"
      ],
      "execution_count": 0,
      "outputs": [
        {
          "output_type": "execute_result",
          "data": {
            "text/plain": [
              "array([[2633,  136],\n",
              "       [ 200,  494]])"
            ]
          },
          "metadata": {
            "tags": []
          },
          "execution_count": 91
        }
      ]
    },
    {
      "cell_type": "code",
      "metadata": {
        "id": "huMmIwadxW99",
        "colab_type": "code",
        "outputId": "9cac921a-a4da-429d-9e9f-3cf5626b4d3b",
        "colab": {
          "base_uri": "https://localhost:8080/",
          "height": 34
        }
      },
      "source": [
        "1.0*(2644+485)/len(y_test)"
      ],
      "execution_count": 0,
      "outputs": [
        {
          "output_type": "execute_result",
          "data": {
            "text/plain": [
              "0.9035518336702282"
            ]
          },
          "metadata": {
            "tags": []
          },
          "execution_count": 92
        }
      ]
    },
    {
      "cell_type": "code",
      "metadata": {
        "id": "CF8-fvWsxc_I",
        "colab_type": "code",
        "colab": {}
      },
      "source": [
        ""
      ],
      "execution_count": 0,
      "outputs": []
    },
    {
      "cell_type": "code",
      "metadata": {
        "id": "TR8i2gG84fuj",
        "colab_type": "code",
        "colab": {}
      },
      "source": [
        ""
      ],
      "execution_count": 0,
      "outputs": []
    },
    {
      "cell_type": "code",
      "metadata": {
        "id": "StfcegD94frj",
        "colab_type": "code",
        "colab": {}
      },
      "source": [
        ""
      ],
      "execution_count": 0,
      "outputs": []
    },
    {
      "cell_type": "markdown",
      "metadata": {
        "id": "3tLdptrpSfPj",
        "colab_type": "text"
      },
      "source": [
        "# Building word vectors using Glove"
      ]
    },
    {
      "cell_type": "code",
      "metadata": {
        "id": "m4vgQS4n4fo1",
        "colab_type": "code",
        "outputId": "a9d6a43d-8217-478a-cdba-3536d3beab77",
        "colab": {
          "base_uri": "https://localhost:8080/",
          "height": 221
        }
      },
      "source": [
        "!pip install glove_python"
      ],
      "execution_count": 0,
      "outputs": [
        {
          "output_type": "stream",
          "text": [
            "Collecting glove_python\n",
            "\u001b[?25l  Downloading https://files.pythonhosted.org/packages/3e/79/7e7e548dd9dcb741935d031117f4bed133276c2a047aadad42f1552d1771/glove_python-0.1.0.tar.gz (263kB)\n",
            "\u001b[K     |████████████████████████████████| 266kB 2.7MB/s \n",
            "\u001b[?25hRequirement already satisfied: numpy in /usr/local/lib/python3.6/dist-packages (from glove_python) (1.16.5)\n",
            "Requirement already satisfied: scipy in /usr/local/lib/python3.6/dist-packages (from glove_python) (1.3.1)\n",
            "Building wheels for collected packages: glove-python\n",
            "  Building wheel for glove-python (setup.py) ... \u001b[?25l\u001b[?25hdone\n",
            "  Created wheel for glove-python: filename=glove_python-0.1.0-cp36-cp36m-linux_x86_64.whl size=700322 sha256=468c1159d444eb3a064eed0213b129a18c1fed93ca96be1f3c187d957e7f2ed4\n",
            "  Stored in directory: /root/.cache/pip/wheels/88/4b/6d/10c0d2ad32c9d9d68beec9694a6f0b6e83ab1662a90a089a4b\n",
            "Successfully built glove-python\n",
            "Installing collected packages: glove-python\n",
            "Successfully installed glove-python-0.1.0\n"
          ],
          "name": "stdout"
        }
      ]
    },
    {
      "cell_type": "code",
      "metadata": {
        "id": "wZt1kNf34fmX",
        "colab_type": "code",
        "colab": {}
      },
      "source": [
        "from glove import Corpus, Glove"
      ],
      "execution_count": 0,
      "outputs": []
    },
    {
      "cell_type": "code",
      "metadata": {
        "id": "kj_O_g685tAS",
        "colab_type": "code",
        "colab": {}
      },
      "source": [
        "corpus = Corpus() "
      ],
      "execution_count": 0,
      "outputs": []
    },
    {
      "cell_type": "code",
      "metadata": {
        "id": "Ovuplij9Df6s",
        "colab_type": "code",
        "outputId": "64895098-0e5d-4986-ffc1-9173066b4bc9",
        "colab": {
          "base_uri": "https://localhost:8080/",
          "height": 51
        }
      },
      "source": [
        "import re\n",
        "import nltk\n",
        "from nltk.corpus import stopwords\n",
        "import pandas as pd\n",
        "nltk.download('stopwords')\n",
        "stop = set(stopwords.words('english'))\n",
        "data = pd.read_csv('https://www.dropbox.com/s/8yq0edd4q908xqw/airline_sentiment.csv?dl=1')\n",
        "\n",
        "def preprocess(text):\n",
        "    text=text.lower()\n",
        "    text=re.sub('[^0-9a-zA-Z]+',' ',text)\n",
        "    words = text.split()\n",
        "    words2 = [i for i in words if i not in stop]\n",
        "    words3=' '.join(words2)\n",
        "    return(words3)\n",
        "data['text'] = data['text'].apply(preprocess)\n"
      ],
      "execution_count": 0,
      "outputs": [
        {
          "output_type": "stream",
          "text": [
            "[nltk_data] Downloading package stopwords to /root/nltk_data...\n",
            "[nltk_data]   Package stopwords is already up-to-date!\n"
          ],
          "name": "stdout"
        }
      ]
    },
    {
      "cell_type": "code",
      "metadata": {
        "id": "b48Y6hYaD94J",
        "colab_type": "code",
        "colab": {}
      },
      "source": [
        "list_words=[]\n",
        "for i in range(len(data)):\n",
        "  list_words.append(data['text'][i].split())"
      ],
      "execution_count": 0,
      "outputs": []
    },
    {
      "cell_type": "code",
      "metadata": {
        "id": "3QBudObNla-b",
        "colab_type": "code",
        "colab": {}
      },
      "source": [
        "t= [['this','is','test'],['this','is','also','a']]"
      ],
      "execution_count": 0,
      "outputs": []
    },
    {
      "cell_type": "code",
      "metadata": {
        "id": "7LGHsTs75uwy",
        "colab_type": "code",
        "colab": {}
      },
      "source": [
        "corpus.fit(list_words, window=5)"
      ],
      "execution_count": 0,
      "outputs": []
    },
    {
      "cell_type": "code",
      "metadata": {
        "id": "4LrjSym3l7UF",
        "colab_type": "code",
        "colab": {}
      },
      "source": [
        "corpus.dictionary"
      ],
      "execution_count": 0,
      "outputs": []
    },
    {
      "cell_type": "code",
      "metadata": {
        "id": "PMTgCfaE5xxJ",
        "colab_type": "code",
        "outputId": "d91e142a-b14e-4f53-fc22-b43deb8b2427",
        "colab": {
          "base_uri": "https://localhost:8080/",
          "height": 136
        }
      },
      "source": [
        "corpus.matrix.todense()"
      ],
      "execution_count": 0,
      "outputs": [
        {
          "output_type": "execute_result",
          "data": {
            "text/plain": [
              "matrix([[0.  , 1.  , 0.75, ..., 0.  , 0.  , 0.  ],\n",
              "        [0.  , 0.  , 1.  , ..., 0.  , 0.  , 0.  ],\n",
              "        [0.  , 0.  , 0.  , ..., 0.  , 0.  , 0.  ],\n",
              "        ...,\n",
              "        [0.  , 0.  , 0.  , ..., 0.  , 0.  , 0.  ],\n",
              "        [0.  , 0.  , 0.  , ..., 0.  , 0.  , 0.  ],\n",
              "        [0.  , 0.  , 0.  , ..., 0.  , 0.  , 0.  ]])"
            ]
          },
          "metadata": {
            "tags": []
          },
          "execution_count": 101
        }
      ]
    },
    {
      "cell_type": "code",
      "metadata": {
        "id": "ZAcsV_FS52qC",
        "colab_type": "code",
        "outputId": "317b2173-14bf-4d20-8e16-abcc2a8c914d",
        "colab": {
          "base_uri": "https://localhost:8080/",
          "height": 544
        }
      },
      "source": [
        "glove = Glove(no_components=100, learning_rate=0.025)\n",
        " \n",
        "glove.fit(corpus.matrix, epochs=30, no_threads=4, verbose=True)"
      ],
      "execution_count": 0,
      "outputs": [
        {
          "output_type": "stream",
          "text": [
            "Performing 30 training epochs with 4 threads\n",
            "Epoch 0\n",
            "Epoch 1\n",
            "Epoch 2\n",
            "Epoch 3\n",
            "Epoch 4\n",
            "Epoch 5\n",
            "Epoch 6\n",
            "Epoch 7\n",
            "Epoch 8\n",
            "Epoch 9\n",
            "Epoch 10\n",
            "Epoch 11\n",
            "Epoch 12\n",
            "Epoch 13\n",
            "Epoch 14\n",
            "Epoch 15\n",
            "Epoch 16\n",
            "Epoch 17\n",
            "Epoch 18\n",
            "Epoch 19\n",
            "Epoch 20\n",
            "Epoch 21\n",
            "Epoch 22\n",
            "Epoch 23\n",
            "Epoch 24\n",
            "Epoch 25\n",
            "Epoch 26\n",
            "Epoch 27\n",
            "Epoch 28\n",
            "Epoch 29\n"
          ],
          "name": "stdout"
        }
      ]
    },
    {
      "cell_type": "code",
      "metadata": {
        "id": "ZurvhIgA6NiY",
        "colab_type": "code",
        "colab": {}
      },
      "source": [
        "glove.add_dictionary(corpus.dictionary)"
      ],
      "execution_count": 0,
      "outputs": []
    },
    {
      "cell_type": "code",
      "metadata": {
        "id": "pYVkgnsKr8vZ",
        "colab_type": "code",
        "outputId": "81431770-c560-45b4-d160-8596490d62be",
        "colab": {
          "base_uri": "https://localhost:8080/",
          "height": 34
        }
      },
      "source": [
        "glove.max_count"
      ],
      "execution_count": 0,
      "outputs": [
        {
          "output_type": "execute_result",
          "data": {
            "text/plain": [
              "100.0"
            ]
          },
          "metadata": {
            "tags": []
          },
          "execution_count": 104
        }
      ]
    },
    {
      "cell_type": "code",
      "metadata": {
        "id": "8z5KWp4xm0bS",
        "colab_type": "code",
        "colab": {}
      },
      "source": [
        "glove.word_biases.tolist()"
      ],
      "execution_count": 0,
      "outputs": []
    },
    {
      "cell_type": "code",
      "metadata": {
        "id": "jkQVRBkKqF8z",
        "colab_type": "code",
        "outputId": "9c5c1e9f-6a7b-4770-8722-e35797aac6eb",
        "colab": {
          "base_uri": "https://localhost:8080/",
          "height": 34
        }
      },
      "source": [
        "glove.alpha"
      ],
      "execution_count": 0,
      "outputs": [
        {
          "output_type": "execute_result",
          "data": {
            "text/plain": [
              "0.75"
            ]
          },
          "metadata": {
            "tags": []
          },
          "execution_count": 106
        }
      ]
    },
    {
      "cell_type": "code",
      "metadata": {
        "id": "CiUrBTmFnEAI",
        "colab_type": "code",
        "colab": {}
      },
      "source": [
        "glove.word_vectors.tolist()"
      ],
      "execution_count": 0,
      "outputs": []
    },
    {
      "cell_type": "code",
      "metadata": {
        "id": "X5EzhGJW6i33",
        "colab_type": "code",
        "outputId": "00a420bf-18b0-4087-b476-5723b50c6a44",
        "colab": {
          "base_uri": "https://localhost:8080/",
          "height": 357
        }
      },
      "source": [
        "glove.word_vectors[glove.dictionary['united']]"
      ],
      "execution_count": 0,
      "outputs": [
        {
          "output_type": "execute_result",
          "data": {
            "text/plain": [
              "array([ 0.18665285,  0.09536054,  0.06780669,  0.12826921,  0.33345115,\n",
              "        0.19045234,  0.1115925 ,  0.35860983, -0.02699992, -0.10857119,\n",
              "       -0.27225107,  0.24915011,  0.21533714, -0.34660623, -0.12031748,\n",
              "       -0.03792379, -0.08479466,  0.23279652,  0.00522813, -0.29265438,\n",
              "       -0.2047693 , -0.04156375,  0.12229118,  0.07188565, -0.01247887,\n",
              "        0.09592896, -0.21196056, -0.33267735,  0.32235364, -0.12409692,\n",
              "        0.04480111, -0.2653224 , -0.19347809, -0.07285938,  0.28930871,\n",
              "       -0.21343139,  0.00769171,  0.0781492 ,  0.33365156,  0.46358852,\n",
              "       -0.06817552,  0.24612266,  0.27632604,  0.34767878,  0.23705781,\n",
              "        0.15360461, -0.17243273, -0.15698207, -0.31457117, -0.22230247,\n",
              "       -0.07480222, -0.31320547, -0.149882  , -0.05924798,  0.35421796,\n",
              "       -0.28658045,  0.02812646, -0.05262228, -0.07001302,  0.23868643,\n",
              "        0.39303149, -0.29222287, -0.3074142 , -0.32421416,  0.35140796,\n",
              "        0.20462459, -0.16133381,  0.26241758,  0.13769511, -0.04216384,\n",
              "       -0.11143524,  0.34199944,  0.37268876,  0.39911792, -0.30583289,\n",
              "        0.16390875,  0.29418447,  0.14675662, -0.3670861 , -0.13275494,\n",
              "       -0.12285224,  0.14949999,  0.0166414 ,  0.12351594, -0.29980588,\n",
              "        0.29115404, -0.32126756,  0.3443333 ,  0.17691373, -0.2230057 ,\n",
              "       -0.25829444,  0.23307369,  0.13841242,  0.06226859, -0.12576985,\n",
              "        0.15211871, -0.34507366,  0.24988395, -0.15153089,  0.29658844])"
            ]
          },
          "metadata": {
            "tags": []
          },
          "execution_count": 108
        }
      ]
    },
    {
      "cell_type": "code",
      "metadata": {
        "id": "WbEiFaQT6nGy",
        "colab_type": "code",
        "outputId": "af717aa7-9e58-4c65-dc03-65ca7968ab9b",
        "colab": {
          "base_uri": "https://localhost:8080/",
          "height": 85
        }
      },
      "source": [
        "glove.most_similar('united')"
      ],
      "execution_count": 0,
      "outputs": [
        {
          "output_type": "execute_result",
          "data": {
            "text/plain": [
              "[('sure', 0.98877673464236),\n",
              " ('also', 0.9881741524482038),\n",
              " ('sorry', 0.9872322698043231),\n",
              " ('seriously', 0.9870887733270768)]"
            ]
          },
          "metadata": {
            "tags": []
          },
          "execution_count": 109
        }
      ]
    },
    {
      "cell_type": "code",
      "metadata": {
        "id": "JJOSwBa86sNE",
        "colab_type": "code",
        "colab": {}
      },
      "source": [
        ""
      ],
      "execution_count": 0,
      "outputs": []
    },
    {
      "cell_type": "code",
      "metadata": {
        "id": "gWpNOs1D7AbR",
        "colab_type": "code",
        "colab": {}
      },
      "source": [
        ""
      ],
      "execution_count": 0,
      "outputs": []
    },
    {
      "cell_type": "code",
      "metadata": {
        "id": "qkt8qU_cGKJI",
        "colab_type": "code",
        "colab": {}
      },
      "source": [
        ""
      ],
      "execution_count": 0,
      "outputs": []
    },
    {
      "cell_type": "code",
      "metadata": {
        "id": "0WeQ2HooIhiL",
        "colab_type": "code",
        "colab": {}
      },
      "source": [
        ""
      ],
      "execution_count": 0,
      "outputs": []
    }
  ]
}