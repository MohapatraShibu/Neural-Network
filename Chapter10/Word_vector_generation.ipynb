{
  "nbformat": 4,
  "nbformat_minor": 0,
  "metadata": {
    "colab": {
      "name": "Word_vector_generation (2).ipynb",
      "provenance": [],
      "collapsed_sections": []
    },
    "kernelspec": {
      "name": "python3",
      "display_name": "Python 3"
    },
    "accelerator": "GPU"
  },
  "cells": [
    {
      "cell_type": "markdown",
      "metadata": {
        "id": "oQkfGg2PnEmj",
        "colab_type": "text"
      },
      "source": [
        "https://colab.research.google.com/drive/1e4O9gz-LS2vaZgZVgVwSxRpeZXQV_IHb"
      ]
    },
    {
      "cell_type": "code",
      "metadata": {
        "id": "FOuRpkG6g8Ff",
        "colab_type": "code",
        "colab": {}
      },
      "source": [
        "import numpy as np"
      ],
      "execution_count": 0,
      "outputs": []
    },
    {
      "cell_type": "code",
      "metadata": {
        "id": "z8x90tt0hEJn",
        "colab_type": "code",
        "colab": {}
      },
      "source": [
        "docs = [\"I enjoy playing TT\", \"I like playing TT\"]"
      ],
      "execution_count": 0,
      "outputs": []
    },
    {
      "cell_type": "code",
      "metadata": {
        "id": "SBP6nCPwhMLj",
        "colab_type": "code",
        "outputId": "c15cca8d-e3db-4fcb-c495-6ed8be4b52c4",
        "colab": {
          "base_uri": "https://localhost:8080/",
          "height": 34
        }
      },
      "source": [
        "docs[0][0].split()"
      ],
      "execution_count": 0,
      "outputs": [
        {
          "output_type": "execute_result",
          "data": {
            "text/plain": [
              "['I']"
            ]
          },
          "metadata": {
            "tags": []
          },
          "execution_count": 3
        }
      ]
    },
    {
      "cell_type": "code",
      "metadata": {
        "id": "XxGEUd8HhWeh",
        "colab_type": "code",
        "outputId": "2b8ae9e7-3708-43a1-f9be-8f9fe8f80528",
        "colab": {
          "base_uri": "https://localhost:8080/",
          "height": 102
        }
      },
      "source": [
        "from sklearn.feature_extraction.text import CountVectorizer\n",
        "vectorizer = CountVectorizer(min_df=0, token_pattern=r\"\\b\\w+\\b\")\n",
        "vectorizer.fit(docs)\n",
        "\n",
        "print(vectorizer.vocabulary_)\n",
        "# encode document\n",
        "vector = vectorizer.transform(docs)\n",
        "# summarize encoded vector\n",
        "print(vector.shape)\n",
        "print(type(vector))\n",
        "print(vector.toarray())"
      ],
      "execution_count": 0,
      "outputs": [
        {
          "output_type": "stream",
          "text": [
            "{'i': 1, 'enjoy': 0, 'playing': 3, 'tt': 4, 'like': 2}\n",
            "(2, 5)\n",
            "<class 'scipy.sparse.csr.csr_matrix'>\n",
            "[[1 1 0 1 1]\n",
            " [0 1 1 1 1]]\n"
          ],
          "name": "stdout"
        }
      ]
    },
    {
      "cell_type": "code",
      "metadata": {
        "id": "BFaSLFjevYvB",
        "colab_type": "code",
        "outputId": "3e207179-0863-43af-e5b8-89a79e4c9b0d",
        "colab": {
          "base_uri": "https://localhost:8080/",
          "height": 85
        }
      },
      "source": [
        "print(vectorizer.vocabulary_)\n",
        "print(vector.shape)\n",
        "print(vector.toarray())"
      ],
      "execution_count": 0,
      "outputs": [
        {
          "output_type": "stream",
          "text": [
            "{'i': 1, 'enjoy': 0, 'playing': 3, 'tt': 4, 'like': 2}\n",
            "(2, 5)\n",
            "[[1 1 0 1 1]\n",
            " [0 1 1 1 1]]\n"
          ],
          "name": "stdout"
        }
      ]
    },
    {
      "cell_type": "code",
      "metadata": {
        "id": "cBxM9GKQhtXM",
        "colab_type": "code",
        "colab": {}
      },
      "source": [
        "x = []\n",
        "y = []\n",
        "for i in range(len(docs)):\n",
        "  for j in range(len(docs[i].split())):\n",
        "    t_x = []\n",
        "    t_y = []\n",
        "    for k in range(4):\n",
        "      if(j==k):\n",
        "        t_y.append(docs[i].split()[k])\n",
        "        continue\n",
        "      else:\n",
        "        t_x.append(docs[i].split()[k])\n",
        "    x.append(t_x)\n",
        "    y.append(t_y)"
      ],
      "execution_count": 0,
      "outputs": []
    },
    {
      "cell_type": "code",
      "metadata": {
        "id": "GH-Ytam3lFdm",
        "colab_type": "code",
        "outputId": "1acd47f6-46dd-4f0b-f28f-f593a93e9aaf",
        "colab": {
          "base_uri": "https://localhost:8080/",
          "height": 153
        }
      },
      "source": [
        "x"
      ],
      "execution_count": 0,
      "outputs": [
        {
          "output_type": "execute_result",
          "data": {
            "text/plain": [
              "[['enjoy', 'playing', 'TT'],\n",
              " ['I', 'playing', 'TT'],\n",
              " ['I', 'enjoy', 'TT'],\n",
              " ['I', 'enjoy', 'playing'],\n",
              " ['like', 'playing', 'TT'],\n",
              " ['I', 'playing', 'TT'],\n",
              " ['I', 'like', 'TT'],\n",
              " ['I', 'like', 'playing']]"
            ]
          },
          "metadata": {
            "tags": []
          },
          "execution_count": 7
        }
      ]
    },
    {
      "cell_type": "code",
      "metadata": {
        "id": "0j_iBv39lFrH",
        "colab_type": "code",
        "outputId": "f7740a6d-faa4-4f2a-f8fb-2220fd1b1470",
        "colab": {
          "base_uri": "https://localhost:8080/",
          "height": 34
        }
      },
      "source": [
        "y"
      ],
      "execution_count": 0,
      "outputs": [
        {
          "output_type": "execute_result",
          "data": {
            "text/plain": [
              "[['I'], ['enjoy'], ['playing'], ['TT'], ['I'], ['like'], ['playing'], ['TT']]"
            ]
          },
          "metadata": {
            "tags": []
          },
          "execution_count": 8
        }
      ]
    },
    {
      "cell_type": "code",
      "metadata": {
        "id": "CuAVFB9tlz1g",
        "colab_type": "code",
        "colab": {}
      },
      "source": [
        "x2 = []\n",
        "y2 = []\n",
        "for i in range(len(x)):\n",
        "  x2.append(' '.join(x[i]))\n",
        "  y2.append(' '.join(y[i]))"
      ],
      "execution_count": 0,
      "outputs": []
    },
    {
      "cell_type": "code",
      "metadata": {
        "id": "w66RAgU2mRp6",
        "colab_type": "code",
        "outputId": "3f5797f9-8d40-471b-fe68-b1bdd0961b08",
        "colab": {
          "base_uri": "https://localhost:8080/",
          "height": 153
        }
      },
      "source": [
        "x2"
      ],
      "execution_count": 0,
      "outputs": [
        {
          "output_type": "execute_result",
          "data": {
            "text/plain": [
              "['enjoy playing TT',\n",
              " 'I playing TT',\n",
              " 'I enjoy TT',\n",
              " 'I enjoy playing',\n",
              " 'like playing TT',\n",
              " 'I playing TT',\n",
              " 'I like TT',\n",
              " 'I like playing']"
            ]
          },
          "metadata": {
            "tags": []
          },
          "execution_count": 10
        }
      ]
    },
    {
      "cell_type": "code",
      "metadata": {
        "id": "kcxOqldlmaZU",
        "colab_type": "code",
        "outputId": "c2fa15eb-dd4c-475e-bef5-c314bfd05283",
        "colab": {
          "base_uri": "https://localhost:8080/",
          "height": 34
        }
      },
      "source": [
        "y2"
      ],
      "execution_count": 0,
      "outputs": [
        {
          "output_type": "execute_result",
          "data": {
            "text/plain": [
              "['I', 'enjoy', 'playing', 'TT', 'I', 'like', 'playing', 'TT']"
            ]
          },
          "metadata": {
            "tags": []
          },
          "execution_count": 11
        }
      ]
    },
    {
      "cell_type": "code",
      "metadata": {
        "id": "LkK17u2fmbK_",
        "colab_type": "code",
        "outputId": "31994afc-4938-4ef8-feed-53f46db6f901",
        "colab": {
          "base_uri": "https://localhost:8080/",
          "height": 153
        }
      },
      "source": [
        "vector_x = vectorizer.transform(x2)\n",
        "vector_x.toarray()"
      ],
      "execution_count": 0,
      "outputs": [
        {
          "output_type": "execute_result",
          "data": {
            "text/plain": [
              "array([[1, 0, 0, 1, 1],\n",
              "       [0, 1, 0, 1, 1],\n",
              "       [1, 1, 0, 0, 1],\n",
              "       [1, 1, 0, 1, 0],\n",
              "       [0, 0, 1, 1, 1],\n",
              "       [0, 1, 0, 1, 1],\n",
              "       [0, 1, 1, 0, 1],\n",
              "       [0, 1, 1, 1, 0]])"
            ]
          },
          "metadata": {
            "tags": []
          },
          "execution_count": 12
        }
      ]
    },
    {
      "cell_type": "code",
      "metadata": {
        "id": "9UEwH1SdmhC0",
        "colab_type": "code",
        "outputId": "08040152-5602-461e-d257-707fe43ba707",
        "colab": {
          "base_uri": "https://localhost:8080/",
          "height": 153
        }
      },
      "source": [
        "vector_y = vectorizer.transform(y2)\n",
        "vector_y.toarray()"
      ],
      "execution_count": 0,
      "outputs": [
        {
          "output_type": "execute_result",
          "data": {
            "text/plain": [
              "array([[0, 1, 0, 0, 0],\n",
              "       [1, 0, 0, 0, 0],\n",
              "       [0, 0, 0, 1, 0],\n",
              "       [0, 0, 0, 0, 1],\n",
              "       [0, 1, 0, 0, 0],\n",
              "       [0, 0, 1, 0, 0],\n",
              "       [0, 0, 0, 1, 0],\n",
              "       [0, 0, 0, 0, 1]])"
            ]
          },
          "metadata": {
            "tags": []
          },
          "execution_count": 13
        }
      ]
    },
    {
      "cell_type": "code",
      "metadata": {
        "id": "yMwtfPVTmr1F",
        "colab_type": "code",
        "outputId": "46ad42a2-a2c9-4684-e46d-94584a44d5dc",
        "colab": {
          "base_uri": "https://localhost:8080/",
          "height": 34
        }
      },
      "source": [
        "from keras.models import Sequential\n",
        "from keras.layers import Dense, Embedding\n",
        "from keras.layers import LSTM , Bidirectional,Dropout\n",
        "from keras import backend as K\n",
        "from keras.layers.advanced_activations import LeakyReLU\n",
        "from keras import regularizers"
      ],
      "execution_count": 0,
      "outputs": [
        {
          "output_type": "stream",
          "text": [
            "Using TensorFlow backend.\n"
          ],
          "name": "stderr"
        }
      ]
    },
    {
      "cell_type": "code",
      "metadata": {
        "id": "KhSu10FwptUs",
        "colab_type": "code",
        "outputId": "2d6a6801-09a5-4f6f-8770-ad2fe2f880ae",
        "colab": {
          "base_uri": "https://localhost:8080/",
          "height": 323
        }
      },
      "source": [
        "model = Sequential()\n",
        "model.add(Dense(3, activation='linear', input_shape=(5,)))\n",
        "model.add(Dense(5,activation='sigmoid'))\n",
        "model.summary()"
      ],
      "execution_count": 0,
      "outputs": [
        {
          "output_type": "stream",
          "text": [
            "WARNING:tensorflow:From /usr/local/lib/python3.6/dist-packages/keras/backend/tensorflow_backend.py:66: The name tf.get_default_graph is deprecated. Please use tf.compat.v1.get_default_graph instead.\n",
            "\n",
            "WARNING:tensorflow:From /usr/local/lib/python3.6/dist-packages/keras/backend/tensorflow_backend.py:541: The name tf.placeholder is deprecated. Please use tf.compat.v1.placeholder instead.\n",
            "\n",
            "WARNING:tensorflow:From /usr/local/lib/python3.6/dist-packages/keras/backend/tensorflow_backend.py:4432: The name tf.random_uniform is deprecated. Please use tf.random.uniform instead.\n",
            "\n",
            "Model: \"sequential_1\"\n",
            "_________________________________________________________________\n",
            "Layer (type)                 Output Shape              Param #   \n",
            "=================================================================\n",
            "dense_1 (Dense)              (None, 3)                 18        \n",
            "_________________________________________________________________\n",
            "dense_2 (Dense)              (None, 5)                 20        \n",
            "=================================================================\n",
            "Total params: 38\n",
            "Trainable params: 38\n",
            "Non-trainable params: 0\n",
            "_________________________________________________________________\n"
          ],
          "name": "stdout"
        }
      ]
    },
    {
      "cell_type": "code",
      "metadata": {
        "id": "zfc2aMJQp3fJ",
        "colab_type": "code",
        "outputId": "fe5864ad-ae0b-4425-c761-287d632e54ff",
        "colab": {
          "base_uri": "https://localhost:8080/",
          "height": 136
        }
      },
      "source": [
        "model.compile(loss='binary_crossentropy',optimizer='adam')"
      ],
      "execution_count": 0,
      "outputs": [
        {
          "output_type": "stream",
          "text": [
            "WARNING:tensorflow:From /usr/local/lib/python3.6/dist-packages/keras/optimizers.py:793: The name tf.train.Optimizer is deprecated. Please use tf.compat.v1.train.Optimizer instead.\n",
            "\n",
            "WARNING:tensorflow:From /usr/local/lib/python3.6/dist-packages/keras/backend/tensorflow_backend.py:3657: The name tf.log is deprecated. Please use tf.math.log instead.\n",
            "\n",
            "WARNING:tensorflow:From /usr/local/lib/python3.6/dist-packages/tensorflow/python/ops/nn_impl.py:180: add_dispatch_support.<locals>.wrapper (from tensorflow.python.ops.array_ops) is deprecated and will be removed in a future version.\n",
            "Instructions for updating:\n",
            "Use tf.where in 2.0, which has the same broadcast rule as np.where\n"
          ],
          "name": "stdout"
        }
      ]
    },
    {
      "cell_type": "code",
      "metadata": {
        "id": "FaEkSwjKqC4t",
        "colab_type": "code",
        "colab": {}
      },
      "source": [
        "model.fit(vector_x, vector_y, epochs=1000, batch_size=4,verbose=1)"
      ],
      "execution_count": 0,
      "outputs": []
    },
    {
      "cell_type": "code",
      "metadata": {
        "id": "ODPTQc2sqSOm",
        "colab_type": "code",
        "outputId": "4ad890f5-cca1-46a0-884c-b3362617a579",
        "colab": {
          "base_uri": "https://localhost:8080/",
          "height": 170
        }
      },
      "source": [
        "model.predict(vector_x)"
      ],
      "execution_count": 0,
      "outputs": [
        {
          "output_type": "execute_result",
          "data": {
            "text/plain": [
              "array([[0.13040131, 0.8821143 , 0.07797176, 0.08923113, 0.01265067],\n",
              "       [0.153445  , 0.1215542 , 0.21058908, 0.36962688, 0.05544034],\n",
              "       [0.11409801, 0.02018452, 0.22536606, 0.48198316, 0.06446832],\n",
              "       [0.0532662 , 0.00465509, 0.01743671, 0.12412333, 0.8926726 ],\n",
              "       [0.13284272, 0.9028559 , 0.07110441, 0.07974461, 0.0143581 ],\n",
              "       [0.153445  , 0.1215542 , 0.21058908, 0.36962688, 0.05544034],\n",
              "       [0.11627504, 0.02494821, 0.20845187, 0.45143813, 0.07265505],\n",
              "       [0.05435377, 0.00577533, 0.01580954, 0.1113809 , 0.9043633 ]],\n",
              "      dtype=float32)"
            ]
          },
          "metadata": {
            "tags": []
          },
          "execution_count": 18
        }
      ]
    },
    {
      "cell_type": "code",
      "metadata": {
        "id": "DXgX2JL0qTVc",
        "colab_type": "code",
        "outputId": "3ec6c4c9-63e8-49a2-9ce8-12de9d13ede6",
        "colab": {
          "base_uri": "https://localhost:8080/",
          "height": 34
        }
      },
      "source": [
        "[list(vectorizer.vocabulary_.keys())[0]]"
      ],
      "execution_count": 0,
      "outputs": [
        {
          "output_type": "execute_result",
          "data": {
            "text/plain": [
              "['i']"
            ]
          },
          "metadata": {
            "tags": []
          },
          "execution_count": 19
        }
      ]
    },
    {
      "cell_type": "code",
      "metadata": {
        "id": "6SdTe3hKsAZK",
        "colab_type": "code",
        "outputId": "dd4a7fcc-2704-4545-f674-a57511e31d55",
        "colab": {
          "base_uri": "https://localhost:8080/",
          "height": 34
        }
      },
      "source": [
        "vectorizer.transform([list(vectorizer.vocabulary_.keys())[1]]).toarray()"
      ],
      "execution_count": 0,
      "outputs": [
        {
          "output_type": "execute_result",
          "data": {
            "text/plain": [
              "array([[1, 0, 0, 0, 0]])"
            ]
          },
          "metadata": {
            "tags": []
          },
          "execution_count": 20
        }
      ]
    },
    {
      "cell_type": "code",
      "metadata": {
        "id": "wDP0j4d7x7AN",
        "colab_type": "code",
        "outputId": "42f121e3-256f-4234-926a-7dccb7688fcc",
        "colab": {
          "base_uri": "https://localhost:8080/",
          "height": 221
        }
      },
      "source": [
        "model.summary()"
      ],
      "execution_count": 0,
      "outputs": [
        {
          "output_type": "stream",
          "text": [
            "Model: \"sequential_1\"\n",
            "_________________________________________________________________\n",
            "Layer (type)                 Output Shape              Param #   \n",
            "=================================================================\n",
            "dense_1 (Dense)              (None, 3)                 18        \n",
            "_________________________________________________________________\n",
            "dense_2 (Dense)              (None, 5)                 20        \n",
            "=================================================================\n",
            "Total params: 38\n",
            "Trainable params: 38\n",
            "Non-trainable params: 0\n",
            "_________________________________________________________________\n"
          ],
          "name": "stdout"
        }
      ]
    },
    {
      "cell_type": "code",
      "metadata": {
        "id": "rBiF3vKYx57-",
        "colab_type": "code",
        "colab": {}
      },
      "source": [
        "from keras.models import Model\n",
        "layer_name = 'dense_1'\n",
        "intermediate_layer_model = Model(inputs=model.input,\n",
        "                                 outputs=model.get_layer(layer_name).output)"
      ],
      "execution_count": 0,
      "outputs": []
    },
    {
      "cell_type": "code",
      "metadata": {
        "id": "MhDggeMdrsTU",
        "colab_type": "code",
        "outputId": "fe49a44d-0674-40e6-9923-acf27b792c34",
        "colab": {
          "base_uri": "https://localhost:8080/",
          "height": 102
        }
      },
      "source": [
        "for i in range(len(vectorizer.vocabulary_)):\n",
        "  word = list(vectorizer.vocabulary_.keys())[i]\n",
        "  word_vec = vectorizer.transform([list(vectorizer.vocabulary_.keys())[i]]).toarray()\n",
        "  print(word, '\\t', intermediate_layer_model.predict(word_vec))"
      ],
      "execution_count": 0,
      "outputs": [
        {
          "output_type": "stream",
          "text": [
            "i \t [[1.9760392 0.718137  1.5257659]]\n",
            "enjoy \t [[ 1.0395844 -0.9591169  0.5722229]]\n",
            "playing \t [[ 0.23517272 -1.3225136   0.24937609]]\n",
            "tt \t [[ 0.8973176  -0.08082079 -1.9826169 ]]\n",
            "like \t [[ 0.9075295 -1.0481944  0.5976531]]\n"
          ],
          "name": "stdout"
        }
      ]
    },
    {
      "cell_type": "markdown",
      "metadata": {
        "id": "9oQ4R7KIMGWK",
        "colab_type": "text"
      },
      "source": [
        "# Measuring similarity between word vectors"
      ]
    },
    {
      "cell_type": "code",
      "metadata": {
        "id": "8GbNi551rt7J",
        "colab_type": "code",
        "colab": {}
      },
      "source": [
        "a = word = list(vectorizer.vocabulary_.keys())[1]\n",
        "word_vec_a = intermediate_layer_model.predict(vectorizer.transform([list(vectorizer.vocabulary_.keys())[1]]).toarray())\n",
        "\n",
        "b = word = list(vectorizer.vocabulary_.keys())[4]\n",
        "word_vec_b = intermediate_layer_model.predict(vectorizer.transform([list(vectorizer.vocabulary_.keys())[4]]).toarray())"
      ],
      "execution_count": 0,
      "outputs": []
    },
    {
      "cell_type": "code",
      "metadata": {
        "id": "huSa9Ybt0TaZ",
        "colab_type": "code",
        "outputId": "11d0ef98-60e4-47cc-aa54-cec5b852f52d",
        "colab": {
          "base_uri": "https://localhost:8080/",
          "height": 34
        }
      },
      "source": [
        "word_vec_a"
      ],
      "execution_count": 0,
      "outputs": [
        {
          "output_type": "execute_result",
          "data": {
            "text/plain": [
              "array([[ 1.0395844, -0.9591169,  0.5722229]], dtype=float32)"
            ]
          },
          "metadata": {
            "tags": []
          },
          "execution_count": 25
        }
      ]
    },
    {
      "cell_type": "code",
      "metadata": {
        "id": "q4jwXMxR0WwN",
        "colab_type": "code",
        "outputId": "80b1f1fc-30e8-47e5-d88e-fcfb84b1355c",
        "colab": {
          "base_uri": "https://localhost:8080/",
          "height": 34
        }
      },
      "source": [
        "np.sum(word_vec_a*word_vec_b)/((np.sqrt(np.sum(np.square(word_vec_a))))*np.sqrt(np.sum(np.square(word_vec_b))))"
      ],
      "execution_count": 0,
      "outputs": [
        {
          "output_type": "execute_result",
          "data": {
            "text/plain": [
              "0.99440795"
            ]
          },
          "metadata": {
            "tags": []
          },
          "execution_count": 26
        }
      ]
    },
    {
      "cell_type": "code",
      "metadata": {
        "id": "Taw4scV00h2j",
        "colab_type": "code",
        "outputId": "d135c6fb-9bcf-440b-c410-47f6b2e07694",
        "colab": {
          "base_uri": "https://localhost:8080/",
          "height": 34
        }
      },
      "source": [
        "np.sum(np.square(word_vec_a - word_vec_b))"
      ],
      "execution_count": 0,
      "outputs": [
        {
          "output_type": "execute_result",
          "data": {
            "text/plain": [
              "0.026020005"
            ]
          },
          "metadata": {
            "tags": []
          },
          "execution_count": 27
        }
      ]
    },
    {
      "cell_type": "code",
      "metadata": {
        "id": "kTa9RIdg03Fd",
        "colab_type": "code",
        "colab": {}
      },
      "source": [
        ""
      ],
      "execution_count": 0,
      "outputs": []
    }
  ]
}