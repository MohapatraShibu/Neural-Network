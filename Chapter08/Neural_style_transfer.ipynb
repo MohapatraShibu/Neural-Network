{
  "nbformat": 4,
  "nbformat_minor": 0,
  "metadata": {
    "colab": {
      "name": "Neural_style_transfer (3).ipynb",
      "provenance": [],
      "collapsed_sections": []
    },
    "kernelspec": {
      "name": "python3",
      "display_name": "Python 3"
    },
    "accelerator": "GPU"
  },
  "cells": [
    {
      "cell_type": "markdown",
      "metadata": {
        "id": "_OTNC7Y6fdQc",
        "colab_type": "text"
      },
      "source": [
        "https://colab.research.google.com/drive/17IVyNAIr19dfdIog6CLtHMdVBfqj7wVs"
      ]
    },
    {
      "cell_type": "code",
      "metadata": {
        "id": "QncOCYj06BRo",
        "colab_type": "code",
        "colab": {}
      },
      "source": [
        "from keras.preprocessing.image import load_img, save_img, img_to_array\n",
        "import numpy as np\n",
        "from scipy.optimize import fmin_l_bfgs_b\n",
        "import time\n",
        "from keras.applications import vgg19\n",
        "from keras.applications.imagenet_utils import preprocess_input\n",
        "from keras import backend as K\n",
        "import tensorflow as tf\n",
        "import keras"
      ],
      "execution_count": 0,
      "outputs": []
    },
    {
      "cell_type": "code",
      "metadata": {
        "id": "1ypZIhyM9eTa",
        "colab_type": "code",
        "colab": {}
      },
      "source": [
        "!wget https://www.dropbox.com/s/aqdoilzpclo59il/style%20image.png\n",
        "!wget https://www.dropbox.com/s/h7b1hn6ck4xmeuf/cat.png "
      ],
      "execution_count": 0,
      "outputs": []
    },
    {
      "cell_type": "code",
      "metadata": {
        "id": "Xa6s-WDQ9sF7",
        "colab_type": "code",
        "colab": {}
      },
      "source": [
        "import cv2"
      ],
      "execution_count": 0,
      "outputs": []
    },
    {
      "cell_type": "code",
      "metadata": {
        "id": "R2_u_wrJ4wye",
        "colab_type": "code",
        "colab": {}
      },
      "source": [
        "import matplotlib.pyplot as plt\n",
        "%matplotlib inline"
      ],
      "execution_count": 0,
      "outputs": []
    },
    {
      "cell_type": "code",
      "metadata": {
        "id": "h2MZTxYD-cLB",
        "colab_type": "code",
        "colab": {}
      },
      "source": [
        "base_img = cv2.imread('/content/cat.png')\n",
        "base_img = cv2.cvtColor(base_img, cv2.COLOR_BGR2RGB)\n",
        "base_img = cv2.resize(base_img,(224,224))\n",
        "plt.imshow(base_img)\n",
        "plt.axis('off')"
      ],
      "execution_count": 0,
      "outputs": []
    },
    {
      "cell_type": "code",
      "metadata": {
        "id": "rTMWZDmi-n1h",
        "colab_type": "code",
        "colab": {}
      },
      "source": [
        "style_img = cv2.imread('/content/style image.png')\n",
        "style_img = cv2.cvtColor(style_img, cv2.COLOR_BGR2RGB)\n",
        "style_img = cv2.resize(style_img,(224,224))\n",
        "plt.imshow(style_img)\n",
        "plt.axis('off')"
      ],
      "execution_count": 0,
      "outputs": []
    },
    {
      "cell_type": "code",
      "metadata": {
        "id": "hvuSq_-C_x_B",
        "colab_type": "code",
        "colab": {}
      },
      "source": [
        "from keras.applications import vgg19"
      ],
      "execution_count": 0,
      "outputs": []
    },
    {
      "cell_type": "code",
      "metadata": {
        "id": "21B_W31__5Xi",
        "colab_type": "code",
        "colab": {}
      },
      "source": [
        "K.set_learning_phase(0)\n",
        "model = vgg19.VGG19(include_top=False, weights='imagenet')"
      ],
      "execution_count": 0,
      "outputs": []
    },
    {
      "cell_type": "code",
      "metadata": {
        "id": "bpoyzry4AHOz",
        "colab_type": "code",
        "colab": {}
      },
      "source": [
        "model.summary()"
      ],
      "execution_count": 0,
      "outputs": []
    },
    {
      "cell_type": "code",
      "metadata": {
        "id": "3474_XbNCaSj",
        "colab_type": "code",
        "colab": {}
      },
      "source": [
        "base_img = base_img.reshape(1,224,224,3)/255"
      ],
      "execution_count": 0,
      "outputs": []
    },
    {
      "cell_type": "code",
      "metadata": {
        "id": "VuxqdpX0B4n7",
        "colab_type": "code",
        "colab": {}
      },
      "source": [
        "from keras import backend as K\n",
        "\n",
        "# with a Sequential model\n",
        "get_3rd_layer_output = K.function([model.layers[0].input],\n",
        "                                  [model.get_layer('block3_conv4').output])\n",
        "layer_output_base = get_3rd_layer_output([base_img])[0]"
      ],
      "execution_count": 0,
      "outputs": []
    },
    {
      "cell_type": "code",
      "metadata": {
        "id": "w_DHr9o8CR8o",
        "colab_type": "code",
        "colab": {}
      },
      "source": [
        "layer_output_base.shape"
      ],
      "execution_count": 0,
      "outputs": []
    },
    {
      "cell_type": "code",
      "metadata": {
        "id": "f5CGHAI9Z4tV",
        "colab_type": "code",
        "colab": {}
      },
      "source": [
        "layer_contributions_content = {\n",
        "'block3_conv4': 0.1\n",
        "}"
      ],
      "execution_count": 0,
      "outputs": []
    },
    {
      "cell_type": "code",
      "metadata": {
        "id": "ckKRkKftgHVV",
        "colab_type": "code",
        "colab": {}
      },
      "source": [
        "layer_contributions_style = {\n",
        "    'block1_pool':1,\n",
        "   'block2_pool':1,\n",
        "'block3_conv4': 1,\n",
        "}"
      ],
      "execution_count": 0,
      "outputs": []
    },
    {
      "cell_type": "code",
      "metadata": {
        "id": "R8pcPlr9lz4s",
        "colab_type": "code",
        "colab": {}
      },
      "source": [
        "img_nrows = 224\n",
        "img_ncols = 224"
      ],
      "execution_count": 0,
      "outputs": []
    },
    {
      "cell_type": "code",
      "metadata": {
        "id": "poLok_lnhcLl",
        "colab_type": "code",
        "colab": {}
      },
      "source": [
        "def gram_matrix(x):\n",
        "    features = K.batch_flatten(K.permute_dimensions(x, (2, 0, 1)))\n",
        "    gram = K.dot(features, K.transpose(features))\n",
        "    return gram\n",
        "\n",
        "def style_loss(style, combination):\n",
        "    S = gram_matrix(style)\n",
        "    C = gram_matrix(combination)\n",
        "    channels = 3\n",
        "    size = img_nrows * img_ncols\n",
        "    return K.sum(K.square(S - C)) / (4. * (pow(channels,2)) * (pow(size,2)))"
      ],
      "execution_count": 0,
      "outputs": []
    },
    {
      "cell_type": "code",
      "metadata": {
        "id": "Zo1IQHuyZ3C0",
        "colab_type": "code",
        "colab": {}
      },
      "source": [
        "layer_dict = dict([(layer.name, layer) for layer in model.layers])\n",
        "loss = K.variable(0.)\n",
        "for layer_name in layer_contributions_content:\n",
        "  coeff = layer_contributions_content[layer_name]\n",
        "  activation = layer_dict[layer_name].output\n",
        "  scaling = K.prod(K.cast(K.shape(activation), 'float32'))\n",
        "  loss += coeff * K.sum(K.square(activation - layer_output_base)) / scaling\n",
        "  \n",
        "for layer_name in layer_contributions_style:\n",
        "  coeff = layer_contributions_style[layer_name]\n",
        "  activation = layer_dict[layer_name].output\n",
        "  scaling = K.prod(K.cast(K.shape(activation), 'float32'))\n",
        "  style_layer_output = K.function([model.layers[0].input],[model.get_layer(layer_name).output])\n",
        "  layer_output_style = style_layer_output([style_img.reshape(1,224,224,3)/255])[0][0]\n",
        "  loss += style_loss(layer_output_style, activation[0])"
      ],
      "execution_count": 0,
      "outputs": []
    },
    {
      "cell_type": "code",
      "metadata": {
        "id": "AANgDG7SaNne",
        "colab_type": "code",
        "colab": {}
      },
      "source": [
        "dream = model.input\n",
        "grads = K.gradients(loss, dream)[0]\n",
        "print(dream)\n",
        "print(grads)"
      ],
      "execution_count": 0,
      "outputs": []
    },
    {
      "cell_type": "code",
      "metadata": {
        "id": "0PFkTplHaZzt",
        "colab_type": "code",
        "colab": {}
      },
      "source": [
        "grads /= K.maximum(K.mean(K.abs(grads)), 1e-7)"
      ],
      "execution_count": 0,
      "outputs": []
    },
    {
      "cell_type": "code",
      "metadata": {
        "id": "dvBohQXBaZ21",
        "colab_type": "code",
        "colab": {}
      },
      "source": [
        "outputs = [loss, grads]\n",
        "fetch_loss_and_grads = K.function([dream], outputs)"
      ],
      "execution_count": 0,
      "outputs": []
    },
    {
      "cell_type": "code",
      "metadata": {
        "id": "bhcXgOMqacpJ",
        "colab_type": "code",
        "colab": {}
      },
      "source": [
        "def eval_loss_and_grads(x):\n",
        "  outs = fetch_loss_and_grads([x])\n",
        "  loss_value = outs[0]\n",
        "  grad_values = outs[1]\n",
        "  return loss_value, grad_values"
      ],
      "execution_count": 0,
      "outputs": []
    },
    {
      "cell_type": "code",
      "metadata": {
        "id": "kDiy7h_3acr8",
        "colab_type": "code",
        "colab": {}
      },
      "source": [
        "def gradient_ascent(x, iterations, step, max_loss=None):\n",
        "  for i in range(iterations):\n",
        "    loss_value, grad_values = eval_loss_and_grads(x)\n",
        "    print('...Loss value at', i, ':', loss_value)\n",
        "    x -= step * grad_values\n",
        "  return x"
      ],
      "execution_count": 0,
      "outputs": []
    },
    {
      "cell_type": "code",
      "metadata": {
        "id": "nJahukDQbGGA",
        "colab_type": "code",
        "colab": {}
      },
      "source": [
        "import matplotlib.pyplot as plt\n",
        "%matplotlib inline"
      ],
      "execution_count": 0,
      "outputs": []
    },
    {
      "cell_type": "code",
      "metadata": {
        "id": "lBXkarToPkEZ",
        "colab_type": "code",
        "colab": {}
      },
      "source": [
        "base_img.shape"
      ],
      "execution_count": 0,
      "outputs": []
    },
    {
      "cell_type": "code",
      "metadata": {
        "id": "taFlcsqQoqfC",
        "colab_type": "code",
        "colab": {}
      },
      "source": [
        "plt.imshow(base_img[0,:,:,:])"
      ],
      "execution_count": 0,
      "outputs": []
    },
    {
      "cell_type": "code",
      "metadata": {
        "id": "J4WC6SMetJO-",
        "colab_type": "code",
        "colab": {}
      },
      "source": [
        "img = base_img.copy().reshape(1,224,224,3).astype('float32')"
      ],
      "execution_count": 0,
      "outputs": []
    },
    {
      "cell_type": "code",
      "metadata": {
        "id": "91U5Up2Yacw6",
        "colab_type": "code",
        "colab": {}
      },
      "source": [
        "for i in range(2000):\n",
        "  #print(loss)\n",
        "  step=0.001\n",
        "  loss_value, grad_values = eval_loss_and_grads(img)\n",
        "  print('...Loss value at', i, ':', loss_value)\n",
        "  img -= step * grad_values\n",
        "  if(i%100 ==0):\n",
        "    img2 = img.copy().reshape(224,224,3)\n",
        "    img2 = np.clip(img2*255, 0, 255).astype('uint8')\n",
        "    plt.imshow(img2)\n",
        "    plt.axis('off')\n",
        "    plt.show()"
      ],
      "execution_count": 0,
      "outputs": []
    },
    {
      "cell_type": "code",
      "metadata": {
        "id": "_Ls_SyIOacvD",
        "colab_type": "code",
        "colab": {}
      },
      "source": [
        ""
      ],
      "execution_count": 0,
      "outputs": []
    },
    {
      "cell_type": "code",
      "metadata": {
        "id": "zil5Q0tDDrUs",
        "colab_type": "code",
        "colab": {}
      },
      "source": [
        ""
      ],
      "execution_count": 0,
      "outputs": []
    }
  ]
}