{
  "nbformat": 4,
  "nbformat_minor": 0,
  "metadata": {
    "colab": {
      "name": "Anchor_box_based_person_detection.ipynb",
      "provenance": [],
      "collapsed_sections": []
    },
    "kernelspec": {
      "name": "python3",
      "display_name": "Python 3"
    },
    "accelerator": "GPU"
  },
  "cells": [
    {
      "cell_type": "markdown",
      "metadata": {
        "id": "uN1vhwlzICRy",
        "colab_type": "text"
      },
      "source": [
        "https://colab.research.google.com/drive/16ibgPfF8gBeFHStc1fbyyiJfC7JK-dYL"
      ]
    },
    {
      "cell_type": "code",
      "metadata": {
        "id": "HV0-h0ywdpT7",
        "colab_type": "code",
        "outputId": "6972eaf6-2df2-4b1b-8989-6340d88bec9d",
        "colab": {
          "base_uri": "https://localhost:8080/",
          "height": 204
        }
      },
      "source": [
        "!wget http://host.robots.ox.ac.uk/pascal/VOC/voc2012/VOCtrainval_11-May-2012.tar\n",
        " "
      ],
      "execution_count": 0,
      "outputs": [
        {
          "output_type": "stream",
          "text": [
            "--2019-09-24 05:18:07--  http://host.robots.ox.ac.uk/pascal/VOC/voc2012/VOCtrainval_11-May-2012.tar\n",
            "Resolving host.robots.ox.ac.uk (host.robots.ox.ac.uk)... 129.67.94.152\n",
            "Connecting to host.robots.ox.ac.uk (host.robots.ox.ac.uk)|129.67.94.152|:80... connected.\n",
            "HTTP request sent, awaiting response... 200 OK\n",
            "Length: 1999639040 (1.9G) [application/x-tar]\n",
            "Saving to: ‘VOCtrainval_11-May-2012.tar’\n",
            "\n",
            "VOCtrainval_11-May- 100%[===================>]   1.86G  88.6MB/s    in 21s     \n",
            "\n",
            "2019-09-24 05:18:28 (91.9 MB/s) - ‘VOCtrainval_11-May-2012.tar’ saved [1999639040/1999639040]\n",
            "\n"
          ],
          "name": "stdout"
        }
      ]
    },
    {
      "cell_type": "code",
      "metadata": {
        "id": "I5Ljwk61d8Vn",
        "colab_type": "code",
        "colab": {}
      },
      "source": [
        "!tar -xvf VOCtrainval_11-May-2012.tar"
      ],
      "execution_count": 0,
      "outputs": []
    },
    {
      "cell_type": "code",
      "metadata": {
        "id": "xAJbFSKUC0NQ",
        "colab_type": "code",
        "outputId": "a0b056c2-840c-4059-b0d2-4ce3e2afa911",
        "colab": {
          "base_uri": "https://localhost:8080/",
          "height": 510
        }
      },
      "source": [
        "!pip install xmltodict\n",
        "!pip install selectivesearch"
      ],
      "execution_count": 0,
      "outputs": [
        {
          "output_type": "stream",
          "text": [
            "Collecting xmltodict\n",
            "  Downloading https://files.pythonhosted.org/packages/28/fd/30d5c1d3ac29ce229f6bdc40bbc20b28f716e8b363140c26eff19122d8a5/xmltodict-0.12.0-py2.py3-none-any.whl\n",
            "Installing collected packages: xmltodict\n",
            "Successfully installed xmltodict-0.12.0\n",
            "Collecting selectivesearch\n",
            "  Downloading https://files.pythonhosted.org/packages/ad/f8/dac81bcfc2923144626e0361446caf92b9b7a79ff27ee7b01f762c364ba5/selectivesearch-0.4.tar.gz\n",
            "Requirement already satisfied: numpy in /usr/local/lib/python3.6/dist-packages (from selectivesearch) (1.16.5)\n",
            "Requirement already satisfied: scikit-image in /usr/local/lib/python3.6/dist-packages (from selectivesearch) (0.15.0)\n",
            "Requirement already satisfied: matplotlib!=3.0.0,>=2.0.0 in /usr/local/lib/python3.6/dist-packages (from scikit-image->selectivesearch) (3.0.3)\n",
            "Requirement already satisfied: scipy>=0.17.0 in /usr/local/lib/python3.6/dist-packages (from scikit-image->selectivesearch) (1.3.1)\n",
            "Requirement already satisfied: networkx>=2.0 in /usr/local/lib/python3.6/dist-packages (from scikit-image->selectivesearch) (2.3)\n",
            "Requirement already satisfied: pillow>=4.3.0 in /usr/local/lib/python3.6/dist-packages (from scikit-image->selectivesearch) (4.3.0)\n",
            "Requirement already satisfied: imageio>=2.0.1 in /usr/local/lib/python3.6/dist-packages (from scikit-image->selectivesearch) (2.4.1)\n",
            "Requirement already satisfied: PyWavelets>=0.4.0 in /usr/local/lib/python3.6/dist-packages (from scikit-image->selectivesearch) (1.0.3)\n",
            "Requirement already satisfied: python-dateutil>=2.1 in /usr/local/lib/python3.6/dist-packages (from matplotlib!=3.0.0,>=2.0.0->scikit-image->selectivesearch) (2.5.3)\n",
            "Requirement already satisfied: pyparsing!=2.0.4,!=2.1.2,!=2.1.6,>=2.0.1 in /usr/local/lib/python3.6/dist-packages (from matplotlib!=3.0.0,>=2.0.0->scikit-image->selectivesearch) (2.4.2)\n",
            "Requirement already satisfied: kiwisolver>=1.0.1 in /usr/local/lib/python3.6/dist-packages (from matplotlib!=3.0.0,>=2.0.0->scikit-image->selectivesearch) (1.1.0)\n",
            "Requirement already satisfied: cycler>=0.10 in /usr/local/lib/python3.6/dist-packages (from matplotlib!=3.0.0,>=2.0.0->scikit-image->selectivesearch) (0.10.0)\n",
            "Requirement already satisfied: decorator>=4.3.0 in /usr/local/lib/python3.6/dist-packages (from networkx>=2.0->scikit-image->selectivesearch) (4.4.0)\n",
            "Requirement already satisfied: olefile in /usr/local/lib/python3.6/dist-packages (from pillow>=4.3.0->scikit-image->selectivesearch) (0.46)\n",
            "Requirement already satisfied: six>=1.5 in /usr/local/lib/python3.6/dist-packages (from python-dateutil>=2.1->matplotlib!=3.0.0,>=2.0.0->scikit-image->selectivesearch) (1.12.0)\n",
            "Requirement already satisfied: setuptools in /usr/local/lib/python3.6/dist-packages (from kiwisolver>=1.0.1->matplotlib!=3.0.0,>=2.0.0->scikit-image->selectivesearch) (41.2.0)\n",
            "Building wheels for collected packages: selectivesearch\n",
            "  Building wheel for selectivesearch (setup.py) ... \u001b[?25l\u001b[?25hdone\n",
            "  Created wheel for selectivesearch: filename=selectivesearch-0.4-cp36-none-any.whl size=4359 sha256=4740828c57c712248de6f9e5c7f12b0292844db5eb2debbe1b92617919fa666f\n",
            "  Stored in directory: /root/.cache/pip/wheels/ab/a0/bd/a56e017d10730401fce75f62ff9364004368b0b96f12c026ba\n",
            "Successfully built selectivesearch\n",
            "Installing collected packages: selectivesearch\n",
            "Successfully installed selectivesearch-0.4\n"
          ],
          "name": "stdout"
        }
      ]
    },
    {
      "cell_type": "code",
      "metadata": {
        "id": "Eou5LtJ9CuiG",
        "colab_type": "code",
        "colab": {}
      },
      "source": [
        "import matplotlib.pyplot as plt\n",
        "%matplotlib inline\n",
        "import tensorflow as tf\n",
        "config = tf.ConfigProto()\n",
        "config.gpu_options.allow_growth=True\n",
        "sess = tf.Session(config=config)\n",
        "import json, scipy, os\n",
        "import numpy as np, pandas as pd\n",
        "import argparse, time, sys, gc, cv2\n",
        "\n",
        "import xmltodict\n",
        "from copy import deepcopy\n",
        "import selectivesearch"
      ],
      "execution_count": 0,
      "outputs": []
    },
    {
      "cell_type": "code",
      "metadata": {
        "id": "8qZZBIYpuajV",
        "colab_type": "code",
        "outputId": "abcd3ece-b16b-4a74-8228-d0546d38ae53",
        "colab": {
          "base_uri": "https://localhost:8080/",
          "height": 34
        }
      },
      "source": [
        "!cd VOCdevkit/VOC2012/JPEGImages/"
      ],
      "execution_count": 0,
      "outputs": [
        {
          "output_type": "stream",
          "text": [
            "/bin/bash: line 0: cd: VOCdevkit/VOC2012/Annotations/2007_000027.xml: No such file or directory\n"
          ],
          "name": "stdout"
        }
      ]
    },
    {
      "cell_type": "code",
      "metadata": {
        "id": "7eV_tozuC33K",
        "colab_type": "code",
        "outputId": "486f8908-dc0f-414f-a32e-1d3419222e74",
        "colab": {
          "base_uri": "https://localhost:8080/",
          "height": 68
        }
      },
      "source": [
        "xmls_root =\"VOCdevkit/VOC2012/\"  # Path to data folder\n",
        "annotations = xmls_root + \"Annotations/\"\n",
        "jpegs = xmls_root + \"JPEGImages/\"\n",
        "XMLs = os.listdir(annotations)\n",
        "images = os.listdir(jpegs)\n",
        "print(XMLs[:10]); print(len(XMLs));print(images[:10])"
      ],
      "execution_count": 0,
      "outputs": [
        {
          "output_type": "stream",
          "text": [
            "['2008_006364.xml', '2008_004702.xml', '2010_005896.xml', '2010_004697.xml', '2011_002143.xml', '2011_006819.xml', '2008_002662.xml', '2011_003979.xml', '2007_000033.xml', '2011_001466.xml']\n",
            "17125\n",
            "['2012_002445.jpg', '2010_001784.jpg', '2008_005975.jpg', '2011_004786.jpg', '2008_004504.jpg', '2011_005191.jpg', '2008_006088.jpg', '2008_004301.jpg', '2009_004804.jpg', '2011_006612.jpg']\n"
          ],
          "name": "stdout"
        }
      ]
    },
    {
      "cell_type": "code",
      "metadata": {
        "id": "KUr8iqKZC6nn",
        "colab_type": "code",
        "colab": {}
      },
      "source": [
        "pre_xtrain = []\n",
        "y_train = []\n",
        "xml_filepath=annotations\n",
        "mylist = os.listdir(xml_filepath)"
      ],
      "execution_count": 0,
      "outputs": []
    },
    {
      "cell_type": "code",
      "metadata": {
        "id": "T-QdGmhRC7yd",
        "colab_type": "code",
        "colab": {}
      },
      "source": [
        "anchors = [[0.83612969, 0.90107317],\n",
        "       [0.16291552, 0.30092524],\n",
        "       [0.47087648, 0.86898735],\n",
        "       [0.27149698, 0.6013433 ],\n",
        "       [0.57903691, 0.59789919]]"
      ],
      "execution_count": 0,
      "outputs": []
    },
    {
      "cell_type": "code",
      "metadata": {
        "id": "hAQmOfp9C9Rc",
        "colab_type": "code",
        "colab": {}
      },
      "source": [
        "num_grids = 5"
      ],
      "execution_count": 0,
      "outputs": []
    },
    {
      "cell_type": "code",
      "metadata": {
        "id": "kCOV7xWLC-cK",
        "colab_type": "code",
        "colab": {}
      },
      "source": [
        "def find_closest_anchor(label,img_width, img_height):\n",
        "  label_width = (label[2]-label[0])/img_width\n",
        "  label_height = (label[3]-label[1])/img_height  \n",
        "  label_width_height_array = np.array([label_width, label_height])  \n",
        "  distance = np.sum(np.square(np.array(anchors) - label_width_height_array), axis=1)  \n",
        "  closest_anchor = anchors[np.argmin(distance)]  \n",
        "  return closest_anchor"
      ],
      "execution_count": 0,
      "outputs": []
    },
    {
      "cell_type": "code",
      "metadata": {
        "id": "TOG2apYfDAQn",
        "colab_type": "code",
        "colab": {}
      },
      "source": [
        "def closest_anchor_corrections(a, b, anchor, label, img_width, img_height):  \n",
        "  label_center = [(label[0]+label[2])/(2),(label[1]+label[3])/(2)]  \n",
        "  anchor_center = [a*img_width/num_grids , b*img_height/num_grids ]  \n",
        "  dx = (label_center[0] - anchor_center[0])/img_width  \n",
        "  dy = (label_center[1] - anchor_center[1])/img_height\n",
        "  dw = ((label[2] - label[0])/img_width) / (anchor[0])\n",
        "  dh = ((label[3] - label[1])/img_height) / (anchor[1])  \n",
        "  return dx, dy, dw, dh  "
      ],
      "execution_count": 0,
      "outputs": []
    },
    {
      "cell_type": "code",
      "metadata": {
        "id": "FrpZqwvgDdsc",
        "colab_type": "code",
        "colab": {}
      },
      "source": [
        "def positive_grid_cell(label,img_width = 224, img_height = 224):\n",
        "  \n",
        "  label_center = [(label[0]+label[2])/(2),(label[1]+label[3])/(2)]\n",
        "  \n",
        "  a = int(label_center[0]/(img_width/num_grids))\n",
        "  \n",
        "  b = int(label_center[1]/(img_height/num_grids))\n",
        "  \n",
        "  return a, b"
      ],
      "execution_count": 0,
      "outputs": []
    },
    {
      "cell_type": "code",
      "metadata": {
        "id": "3oIV1CiaDgXC",
        "colab_type": "code",
        "colab": {}
      },
      "source": [
        "def extract_iou(candidate, current_y,img_shape):\n",
        "  boxA = deepcopy(candidate)\n",
        "  boxB = deepcopy(current_y)\n",
        "  boxA[2] += boxA[0]\n",
        "  boxA[3] += boxA[1]\n",
        "  iou_img1 = np.zeros(img_shape)\n",
        "  iou_img1[boxA[1]:boxA[3],boxA[0]:boxA[2]]=1\n",
        "\n",
        "  iou_img2 = np.zeros(img_shape)\n",
        "  iou_img2[int(boxB[1]):int(boxB[3]),int(boxB[0]):int(boxB[2])]=1\n",
        "  iou = np.sum(iou_img1*iou_img2)/(np.sum(iou_img1)+np.sum(iou_img2)-np.sum(iou_img1*iou_img2))\n",
        "  return iou"
      ],
      "execution_count": 0,
      "outputs": []
    },
    {
      "cell_type": "code",
      "metadata": {
        "id": "tsH34RCUDhr8",
        "colab_type": "code",
        "colab": {}
      },
      "source": [
        "classes = {'person':0,\n",
        "'cat':1,\n",
        "'dog':2,\n",
        "'bird':3,\n",
        "'train':4,\n",
        "'aeroplane':5,\n",
        "'car':6,\n",
        "'bicycle':7,\n",
        "'motorbike':8,\n",
        "'horse':9,\n",
        "'cow':10,\n",
        "'tvmonitor':11,\n",
        "'chair':12,\n",
        "'boat':13,\n",
        "'bus':14,\n",
        "'sheep':15,\n",
        "'bottle':16,\n",
        "'pottedplant':17,\n",
        "'sofa':18,\n",
        "'diningtable':19}"
      ],
      "execution_count": 0,
      "outputs": []
    },
    {
      "cell_type": "code",
      "metadata": {
        "id": "Z2fw_bXdDi8W",
        "colab_type": "code",
        "outputId": "58e47e72-859c-4afd-97f4-97cb39ea6189",
        "colab": {
          "base_uri": "https://localhost:8080/",
          "height": 292
        }
      },
      "source": [
        "from keras.applications import vgg16\n",
        "from keras.utils.vis_utils import plot_model\n",
        "vgg16_model = vgg16.VGG16(include_top=False, weights='imagenet')"
      ],
      "execution_count": 0,
      "outputs": [
        {
          "output_type": "stream",
          "text": [
            "Using TensorFlow backend.\n"
          ],
          "name": "stderr"
        },
        {
          "output_type": "stream",
          "text": [
            "WARNING:tensorflow:From /usr/local/lib/python3.6/dist-packages/keras/backend/tensorflow_backend.py:66: The name tf.get_default_graph is deprecated. Please use tf.compat.v1.get_default_graph instead.\n",
            "\n",
            "WARNING:tensorflow:From /usr/local/lib/python3.6/dist-packages/keras/backend/tensorflow_backend.py:541: The name tf.placeholder is deprecated. Please use tf.compat.v1.placeholder instead.\n",
            "\n",
            "WARNING:tensorflow:From /usr/local/lib/python3.6/dist-packages/keras/backend/tensorflow_backend.py:4432: The name tf.random_uniform is deprecated. Please use tf.random.uniform instead.\n",
            "\n",
            "WARNING:tensorflow:From /usr/local/lib/python3.6/dist-packages/keras/backend/tensorflow_backend.py:4267: The name tf.nn.max_pool is deprecated. Please use tf.nn.max_pool2d instead.\n",
            "\n",
            "Downloading data from https://github.com/fchollet/deep-learning-models/releases/download/v0.1/vgg16_weights_tf_dim_ordering_tf_kernels_notop.h5\n",
            "58892288/58889256 [==============================] - 3s 0us/step\n",
            "WARNING:tensorflow:From /usr/local/lib/python3.6/dist-packages/keras/backend/tensorflow_backend.py:190: The name tf.get_default_session is deprecated. Please use tf.compat.v1.get_default_session instead.\n",
            "\n",
            "WARNING:tensorflow:From /usr/local/lib/python3.6/dist-packages/keras/backend/tensorflow_backend.py:197: The name tf.ConfigProto is deprecated. Please use tf.compat.v1.ConfigProto instead.\n",
            "\n"
          ],
          "name": "stdout"
        }
      ]
    },
    {
      "cell_type": "code",
      "metadata": {
        "id": "N_7nQpknC-_z",
        "colab_type": "code",
        "colab": {}
      },
      "source": [
        "y_train = []\n",
        "\n",
        "for i in mylist[:10000]:\n",
        "    xml_file = xml_filepath +i\n",
        "    arg1=i.split('.')[0]\n",
        "    with open(xml_file, \"rb\") as f:    # notice the \"rb\" mode\n",
        "        d = xmltodict.parse(f, xml_attribs=True)\n",
        "        l=[]\n",
        "        if type(d[\"annotation\"][\"object\"]) == type(l):\n",
        "            discard=1\n",
        "        else:            \n",
        "            x1=((float(d['annotation']['object']['bndbox']['xmin'])))/(float(d['annotation']['size']['width']))\n",
        "            x2=((float(d['annotation']['object']['bndbox']['xmax'])))/(float(d['annotation']['size']['width']))\n",
        "            y1=((float(d['annotation']['object']['bndbox']['ymin'])))/(float(d['annotation']['size']['height']))\n",
        "            y2=((float(d['annotation']['object']['bndbox']['ymax'])))/(float(d['annotation']['size']['height']))\n",
        "            cls=d['annotation']['object']['name']\n",
        "            if(cls == 'person'):\n",
        "              y_train.append([x2-x1, y2-y1])"
      ],
      "execution_count": 0,
      "outputs": []
    },
    {
      "cell_type": "code",
      "metadata": {
        "id": "6flZDxC1DTcm",
        "colab_type": "code",
        "colab": {}
      },
      "source": [
        "y_train = np.array(y_train)\n",
        "from sklearn.cluster import KMeans"
      ],
      "execution_count": 0,
      "outputs": []
    },
    {
      "cell_type": "code",
      "metadata": {
        "id": "M8qKKtcCDhXQ",
        "colab_type": "code",
        "outputId": "837713f0-ff8e-4958-f6e1-befd27cb5621",
        "colab": {
          "base_uri": "https://localhost:8080/",
          "height": 102
        }
      },
      "source": [
        "km = KMeans(n_clusters=5)\n",
        "km.fit(y_train)\n",
        "km.cluster_centers_"
      ],
      "execution_count": 0,
      "outputs": [
        {
          "output_type": "execute_result",
          "data": {
            "text/plain": [
              "array([[0.45197721, 0.86314529],\n",
              "       [0.15596004, 0.29530169],\n",
              "       [0.83369077, 0.90669686],\n",
              "       [0.60727944, 0.62702247],\n",
              "       [0.28072194, 0.58211751]])"
            ]
          },
          "metadata": {
            "tags": []
          },
          "execution_count": 23
        }
      ]
    },
    {
      "cell_type": "code",
      "metadata": {
        "id": "1XvTo215EBuK",
        "colab_type": "code",
        "colab": {}
      },
      "source": [
        "anchors = [[0.45519332, 0.86366928],\n",
        "       [0.16421121, 0.29978505],\n",
        "       [0.83407913, 0.90081061],\n",
        "       [0.27700465, 0.58052042],\n",
        "       [0.60202617, 0.62422309]]"
      ],
      "execution_count": 0,
      "outputs": []
    },
    {
      "cell_type": "code",
      "metadata": {
        "id": "rLMYz8ZuDldu",
        "colab_type": "code",
        "colab": {}
      },
      "source": [
        "k=-1\n",
        "pre_xtrain = []\n",
        "y_train = []\n",
        "cls = []\n",
        "xtrain=[]\n",
        "final_cls = []\n",
        "dx = []\n",
        "dy = []\n",
        "dw= []\n",
        "dh = []\n",
        "final_delta = []\n",
        "av = 0\n",
        "x_train = []\n",
        "img_paths = []\n",
        "label_coords = []\n",
        "y_delta = []\n",
        "anc = []\n",
        "for i in mylist[:10000]:\n",
        "    av = av+1\n",
        "    if(av%100==0):\n",
        "        print(av)\n",
        "    xml_file = xml_filepath +i\n",
        "    #print(xml_file)\n",
        "    arg1=i.split('.')[0]\n",
        "    discard=0\n",
        "    with open(xml_file, \"rb\") as f:    # notice the \"rb\" mode\n",
        "        d = xmltodict.parse(f, xml_attribs=True)\n",
        "        l=[]\n",
        "        if type(d[\"annotation\"][\"object\"]) == type(l):\n",
        "            discard=1\n",
        "        else:\n",
        "            coords={arg1:[]}\n",
        "            pre_xtrain.append(arg1)\n",
        "            m=pre_xtrain[(k+1)]\n",
        "            k = k+1\n",
        "        if(discard==0):\n",
        "            x1=((float(d['annotation']['object']['bndbox']['xmin'])))/(float(d['annotation']['size']['width']))\n",
        "            x2=((float(d['annotation']['object']['bndbox']['xmax'])))/(float(d['annotation']['size']['width']))\n",
        "            y1=((float(d['annotation']['object']['bndbox']['ymin'])))/(float(d['annotation']['size']['height']))\n",
        "            y2=((float(d['annotation']['object']['bndbox']['ymax'])))/(float(d['annotation']['size']['height']))\n",
        "            cls=d['annotation']['object']['name']\n",
        "            if(cls == 'person'):\n",
        "              coords[arg1].append(x1)\n",
        "              coords[arg1].append(y1)\n",
        "              coords[arg1].append(x2)\n",
        "              coords[arg1].append(y2)\n",
        "              coords[arg1].append(cls)\n",
        "              \n",
        "              filename = jpegs+arg1+'.jpg'  # This line was empty. Fixed that\n",
        "              img = filename\n",
        "              img_size=224\n",
        "              img = cv2.imread(filename)\n",
        "              img2 = cv2.resize(img,(img_size,img_size))\n",
        "              img2 = img2/255\n",
        "              \n",
        "              current_y = [int(x1*224), int(y1*224), int(x2*224), int(y2*224)]\n",
        "              label_center = [(current_y[0]+current_y[2])/2,(current_y[1]+current_y[3])/2]              \n",
        "              label = current_y\n",
        "              \n",
        "              current_y2 = [float(d['annotation']['object']['bndbox']['xmin']),\n",
        "                            float(d['annotation']['object']['bndbox']['ymin']),\n",
        "                            float(d['annotation']['object']['bndbox']['xmax'])-float(d['annotation']['object']['bndbox']['xmin']),\n",
        "                            float(d['annotation']['object']['bndbox']['ymax'])-float(d['annotation']['object']['bndbox']['ymin'])]\n",
        "              \n",
        "              vgg_predict = vgg16_model.predict(img2.reshape(1,img_size,img_size,3))\n",
        "              x_train.append(vgg_predict)\n",
        "\n",
        "              target_class = np.zeros((num_grids,num_grids,5))\n",
        "              target_delta = np.zeros((num_grids,num_grids,20))\n",
        "\n",
        "              a,b = positive_grid_cell(label)\n",
        "              \n",
        "              for a2 in range(num_grids):\n",
        "                for b2 in range(num_grids):\n",
        "                  for m in range(len(anchors)):\n",
        "                    dx, dy, dw, dh = closest_anchor_corrections(a2, b2, anchors[m], label, 224, 224)\n",
        "                    target_class[a2,b2,m] = 0\n",
        "                    target_delta[a2,b2,((4*m)):((4*m)+4)] = [dx, dy, dw, dh]\n",
        "                    anc.append(anchors[m])\n",
        "                    if((anchors[m] == find_closest_anchor(label,224, 224)) & (a2 == a) & (b2 == b)):\n",
        "                      target_class[a2,b2,m] = 1\n",
        "                      \n",
        "              y_train.append(target_class.flatten())\n",
        "              y_delta.append(target_delta)\n",
        "              label_coords.append(current_y)\n",
        "              img_paths.append(filename)     \n",
        "      "
      ],
      "execution_count": 0,
      "outputs": []
    },
    {
      "cell_type": "code",
      "metadata": {
        "id": "ahLo2pUuwnqw",
        "colab_type": "code",
        "outputId": "6cafe42c-a618-4e63-adc2-09cbf3513339",
        "colab": {
          "base_uri": "https://localhost:8080/",
          "height": 34
        }
      },
      "source": [
        "jpegs"
      ],
      "execution_count": 0,
      "outputs": [
        {
          "output_type": "execute_result",
          "data": {
            "text/plain": [
              "'VOCdevkit/VOC2012/JPEGImages/'"
            ]
          },
          "metadata": {
            "tags": []
          },
          "execution_count": 31
        }
      ]
    },
    {
      "cell_type": "code",
      "metadata": {
        "id": "2aXiffn2FL1R",
        "colab_type": "code",
        "colab": {}
      },
      "source": [
        "import keras\n",
        "from keras.preprocessing.text import Tokenizer\n",
        "from keras.preprocessing.sequence import pad_sequences\n",
        "from keras.utils import to_categorical,np_utils\n",
        "from keras.layers import Dense, Input, GlobalMaxPooling1D,Dropout, Activation, Flatten\n",
        "from keras.layers import Conv1D, MaxPooling1D, Embedding, Convolution2D, MaxPooling2D,Conv2D\n",
        "from keras.models import Model\n",
        "import random\n",
        "from keras.preprocessing import sequence\n",
        "from keras.models import Sequential\n",
        "from keras.layers import Dense, Embedding\n",
        "from keras.layers import LSTM , Bidirectional,Dropout\n",
        "from keras import backend as K\n",
        "from keras.layers.advanced_activations import LeakyReLU\n",
        "from keras import regularizers"
      ],
      "execution_count": 0,
      "outputs": []
    },
    {
      "cell_type": "code",
      "metadata": {
        "id": "PZuZXYfjErXt",
        "colab_type": "code",
        "outputId": "9d6d02bf-73b8-4cf3-d9ac-e3a5ac777cbb",
        "colab": {
          "base_uri": "https://localhost:8080/",
          "height": 411
        }
      },
      "source": [
        "from keras.optimizers import Adam\n",
        "optimizer = Adam(lr=0.001)\n",
        "from keras.layers import BatchNormalization\n",
        "from keras import regularizers\n",
        "model = Sequential()\n",
        "model.add(BatchNormalization(input_shape=(7,7,512)))\n",
        "model.add(Conv2D(1024, (3,3), activation='relu',padding='valid'))\n",
        "model.add(BatchNormalization())\n",
        "model.add(Conv2D(5, (1,1), activation='relu',padding='same'))\n",
        "model.add(Flatten())\n",
        "model.add(Dense(125, activation='sigmoid'))\n",
        "model.summary()"
      ],
      "execution_count": 0,
      "outputs": [
        {
          "output_type": "stream",
          "text": [
            "WARNING:tensorflow:From /usr/local/lib/python3.6/dist-packages/keras/backend/tensorflow_backend.py:2041: The name tf.nn.fused_batch_norm is deprecated. Please use tf.compat.v1.nn.fused_batch_norm instead.\n",
            "\n",
            "Model: \"sequential_1\"\n",
            "_________________________________________________________________\n",
            "Layer (type)                 Output Shape              Param #   \n",
            "=================================================================\n",
            "batch_normalization_1 (Batch (None, 7, 7, 512)         2048      \n",
            "_________________________________________________________________\n",
            "conv2d_1 (Conv2D)            (None, 5, 5, 1024)        4719616   \n",
            "_________________________________________________________________\n",
            "batch_normalization_2 (Batch (None, 5, 5, 1024)        4096      \n",
            "_________________________________________________________________\n",
            "conv2d_2 (Conv2D)            (None, 5, 5, 5)           5125      \n",
            "_________________________________________________________________\n",
            "flatten_1 (Flatten)          (None, 125)               0         \n",
            "_________________________________________________________________\n",
            "dense_1 (Dense)              (None, 125)               15750     \n",
            "=================================================================\n",
            "Total params: 4,746,635\n",
            "Trainable params: 4,743,563\n",
            "Non-trainable params: 3,072\n",
            "_________________________________________________________________\n"
          ],
          "name": "stdout"
        }
      ]
    },
    {
      "cell_type": "code",
      "metadata": {
        "id": "HEr6YPp7FEe3",
        "colab_type": "code",
        "outputId": "bbd0c169-1422-45f9-d642-1200a822e678",
        "colab": {
          "base_uri": "https://localhost:8080/",
          "height": 34
        }
      },
      "source": [
        "x_train = np.array(x_train)\n",
        "y_train = np.array(y_train)\n",
        "print(x_train.shape, y_train.shape)"
      ],
      "execution_count": 0,
      "outputs": [
        {
          "output_type": "stream",
          "text": [
            "(2514, 1, 7, 7, 512) (2514, 125)\n"
          ],
          "name": "stdout"
        }
      ]
    },
    {
      "cell_type": "code",
      "metadata": {
        "id": "U9Um186IHZBU",
        "colab_type": "code",
        "outputId": "ec935ed5-46c2-499e-a7fe-17cd4e45541a",
        "colab": {
          "base_uri": "https://localhost:8080/",
          "height": 34
        }
      },
      "source": [
        "np.max(y_train)"
      ],
      "execution_count": 0,
      "outputs": [
        {
          "output_type": "execute_result",
          "data": {
            "text/plain": [
              "1.0"
            ]
          },
          "metadata": {
            "tags": []
          },
          "execution_count": 37
        }
      ]
    },
    {
      "cell_type": "code",
      "metadata": {
        "id": "UyHaxkbJFPkZ",
        "colab_type": "code",
        "colab": {}
      },
      "source": [
        "x_train = x_train.reshape(x_train.shape[0],7,7,512)"
      ],
      "execution_count": 0,
      "outputs": []
    },
    {
      "cell_type": "code",
      "metadata": {
        "id": "WGvXUB2qFRAG",
        "colab_type": "code",
        "outputId": "24cbfd50-d900-4d57-cd1e-abafac9912eb",
        "colab": {
          "base_uri": "https://localhost:8080/",
          "height": 122
        }
      },
      "source": [
        "model.compile(loss='binary_crossentropy', optimizer=optimizer)"
      ],
      "execution_count": 0,
      "outputs": [
        {
          "output_type": "stream",
          "text": [
            "WARNING:tensorflow:From /usr/local/lib/python3.6/dist-packages/keras/optimizers.py:793: The name tf.train.Optimizer is deprecated. Please use tf.compat.v1.train.Optimizer instead.\n",
            "\n",
            "WARNING:tensorflow:From /usr/local/lib/python3.6/dist-packages/tensorflow/python/ops/nn_impl.py:180: add_dispatch_support.<locals>.wrapper (from tensorflow.python.ops.array_ops) is deprecated and will be removed in a future version.\n",
            "Instructions for updating:\n",
            "Use tf.where in 2.0, which has the same broadcast rule as np.where\n"
          ],
          "name": "stdout"
        }
      ]
    },
    {
      "cell_type": "code",
      "metadata": {
        "id": "IL2DOE5iFST7",
        "colab_type": "code",
        "outputId": "0b96a76e-a552-4297-bb05-f136334a19d1",
        "colab": {
          "base_uri": "https://localhost:8080/",
          "height": 221
        }
      },
      "source": [
        "model.fit(x_train/np.max(x_train), y_train, epochs=5, batch_size = 32, validation_split = 0.1, verbose = 1)"
      ],
      "execution_count": 0,
      "outputs": [
        {
          "output_type": "stream",
          "text": [
            "Train on 2262 samples, validate on 252 samples\n",
            "Epoch 1/5\n",
            "2262/2262 [==============================] - 5s 2ms/step - loss: 0.1931 - val_loss: 0.0471\n",
            "Epoch 2/5\n",
            "2262/2262 [==============================] - 2s 1ms/step - loss: 0.0342 - val_loss: 0.0407\n",
            "Epoch 3/5\n",
            "2262/2262 [==============================] - 2s 1ms/step - loss: 0.0250 - val_loss: 0.0390\n",
            "Epoch 4/5\n",
            "2262/2262 [==============================] - 2s 1ms/step - loss: 0.0172 - val_loss: 0.0388\n",
            "Epoch 5/5\n",
            "2262/2262 [==============================] - 2s 1ms/step - loss: 0.0101 - val_loss: 0.0400\n"
          ],
          "name": "stdout"
        },
        {
          "output_type": "execute_result",
          "data": {
            "text/plain": [
              "<keras.callbacks.History at 0x7fce711a4e80>"
            ]
          },
          "metadata": {
            "tags": []
          },
          "execution_count": 40
        }
      ]
    },
    {
      "cell_type": "code",
      "metadata": {
        "id": "CzaKQKk-FUJA",
        "colab_type": "code",
        "outputId": "765a8e53-ca46-4126-b97a-15fded1a8c43",
        "colab": {
          "base_uri": "https://localhost:8080/",
          "height": 153
        }
      },
      "source": [
        "y_train[0]"
      ],
      "execution_count": 0,
      "outputs": [
        {
          "output_type": "execute_result",
          "data": {
            "text/plain": [
              "array([0., 0., 0., 0., 0., 0., 0., 0., 0., 0., 0., 0., 0., 0., 0., 0., 0.,\n",
              "       0., 0., 0., 0., 0., 0., 0., 0., 0., 0., 0., 0., 0., 0., 0., 0., 0.,\n",
              "       0., 0., 0., 0., 1., 0., 0., 0., 0., 0., 0., 0., 0., 0., 0., 0., 0.,\n",
              "       0., 0., 0., 0., 0., 0., 0., 0., 0., 0., 0., 0., 0., 0., 0., 0., 0.,\n",
              "       0., 0., 0., 0., 0., 0., 0., 0., 0., 0., 0., 0., 0., 0., 0., 0., 0.,\n",
              "       0., 0., 0., 0., 0., 0., 0., 0., 0., 0., 0., 0., 0., 0., 0., 0., 0.,\n",
              "       0., 0., 0., 0., 0., 0., 0., 0., 0., 0., 0., 0., 0., 0., 0., 0., 0.,\n",
              "       0., 0., 0., 0., 0., 0.])"
            ]
          },
          "metadata": {
            "tags": []
          },
          "execution_count": 41
        }
      ]
    },
    {
      "cell_type": "code",
      "metadata": {
        "id": "y8KRG1khGUyc",
        "colab_type": "code",
        "outputId": "e76be9e2-1d0e-4786-ae08-cec0c1f4107c",
        "colab": {
          "base_uri": "https://localhost:8080/",
          "height": 34
        }
      },
      "source": [
        "np.argmax(model.predict(x_train[-2].reshape(1,7,7,512)/np.max(x_train)))"
      ],
      "execution_count": 0,
      "outputs": [
        {
          "output_type": "execute_result",
          "data": {
            "text/plain": [
              "60"
            ]
          },
          "metadata": {
            "tags": []
          },
          "execution_count": 42
        }
      ]
    },
    {
      "cell_type": "code",
      "metadata": {
        "id": "ILBVwrJOGU1Y",
        "colab_type": "code",
        "outputId": "e9e4339c-86b0-41fa-b6d3-6ea824a47949",
        "colab": {
          "base_uri": "https://localhost:8080/",
          "height": 34
        }
      },
      "source": [
        "np.argmax(y_train[-2])"
      ],
      "execution_count": 0,
      "outputs": [
        {
          "output_type": "execute_result",
          "data": {
            "text/plain": [
              "62"
            ]
          },
          "metadata": {
            "tags": []
          },
          "execution_count": 43
        }
      ]
    },
    {
      "cell_type": "code",
      "metadata": {
        "id": "DoxqhqiwGU4P",
        "colab_type": "code",
        "colab": {}
      },
      "source": [
        "delta_x = []\n",
        "delta_y = []\n",
        "for i in range(len(x_train)):\n",
        "  delta_x.append(x_train[i])\n",
        "  delta = y_delta[i].flatten()\n",
        "  coord = np.argmax(model.predict(x_train[i].reshape(1,7,7,512)/np.max(x_train)))\n",
        "  delta_y.append(delta[(coord*4):((coord*4)+4)])"
      ],
      "execution_count": 0,
      "outputs": []
    },
    {
      "cell_type": "code",
      "metadata": {
        "id": "UYtCjbf6OnHe",
        "colab_type": "code",
        "colab": {}
      },
      "source": [
        ""
      ],
      "execution_count": 0,
      "outputs": []
    },
    {
      "cell_type": "code",
      "metadata": {
        "id": "44mjkm9AWk2Q",
        "colab_type": "code",
        "outputId": "994abd35-95bf-4b4e-af43-81519cdb6595",
        "colab": {
          "base_uri": "https://localhost:8080/",
          "height": 34
        }
      },
      "source": [
        "x_train.shape"
      ],
      "execution_count": 0,
      "outputs": [
        {
          "output_type": "execute_result",
          "data": {
            "text/plain": [
              "(2519, 7, 7, 512)"
            ]
          },
          "metadata": {
            "tags": []
          },
          "execution_count": 33
        }
      ]
    },
    {
      "cell_type": "code",
      "metadata": {
        "id": "d5yQThmsFaX0",
        "colab_type": "code",
        "outputId": "49583860-a8d7-41da-9d59-99ee21cced91",
        "colab": {
          "base_uri": "https://localhost:8080/",
          "height": 357
        }
      },
      "source": [
        "from keras.optimizers import Adam\n",
        "optimizer = Adam(lr=0.001)\n",
        "from keras.layers import BatchNormalization\n",
        "from keras import regularizers\n",
        "model2 = Sequential()\n",
        "model2.add(BatchNormalization(input_shape=(7,7,512)))\n",
        "model2.add(Conv2D(1024, (3,3), activation='relu',padding='valid'))\n",
        "model2.add(BatchNormalization())\n",
        "model2.add(Conv2D(5, (1,1), activation='relu',padding='same'))\n",
        "model2.add(Flatten())\n",
        "model2.add(Dense(4, activation='linear'))\n",
        "model2.summary()"
      ],
      "execution_count": 0,
      "outputs": [
        {
          "output_type": "stream",
          "text": [
            "Model: \"sequential_2\"\n",
            "_________________________________________________________________\n",
            "Layer (type)                 Output Shape              Param #   \n",
            "=================================================================\n",
            "batch_normalization_3 (Batch (None, 7, 7, 512)         2048      \n",
            "_________________________________________________________________\n",
            "conv2d_3 (Conv2D)            (None, 5, 5, 1024)        4719616   \n",
            "_________________________________________________________________\n",
            "batch_normalization_4 (Batch (None, 5, 5, 1024)        4096      \n",
            "_________________________________________________________________\n",
            "conv2d_4 (Conv2D)            (None, 5, 5, 5)           5125      \n",
            "_________________________________________________________________\n",
            "flatten_2 (Flatten)          (None, 125)               0         \n",
            "_________________________________________________________________\n",
            "dense_2 (Dense)              (None, 4)                 504       \n",
            "=================================================================\n",
            "Total params: 4,731,389\n",
            "Trainable params: 4,728,317\n",
            "Non-trainable params: 3,072\n",
            "_________________________________________________________________\n"
          ],
          "name": "stdout"
        }
      ]
    },
    {
      "cell_type": "code",
      "metadata": {
        "id": "mySOAoyNGkiT",
        "colab_type": "code",
        "outputId": "e68ae5c1-7b40-4d6f-fbbd-c433ef4bcf97",
        "colab": {
          "base_uri": "https://localhost:8080/",
          "height": 34
        }
      },
      "source": [
        "delta_x = np.array(delta_x)\n",
        "delta_x.shape"
      ],
      "execution_count": 0,
      "outputs": [
        {
          "output_type": "execute_result",
          "data": {
            "text/plain": [
              "(2514, 7, 7, 512)"
            ]
          },
          "metadata": {
            "tags": []
          },
          "execution_count": 46
        }
      ]
    },
    {
      "cell_type": "code",
      "metadata": {
        "id": "dmVBP4RPHU5N",
        "colab_type": "code",
        "outputId": "049a488e-edcb-49df-a06a-126d8ffcab09",
        "colab": {
          "base_uri": "https://localhost:8080/",
          "height": 34
        }
      },
      "source": [
        "np.max(delta_x)"
      ],
      "execution_count": 0,
      "outputs": [
        {
          "output_type": "execute_result",
          "data": {
            "text/plain": [
              "11.066265"
            ]
          },
          "metadata": {
            "tags": []
          },
          "execution_count": 47
        }
      ]
    },
    {
      "cell_type": "code",
      "metadata": {
        "id": "vniTcINEGmVM",
        "colab_type": "code",
        "outputId": "f788c820-bf0f-4914-883d-fdf7deb44fb6",
        "colab": {
          "base_uri": "https://localhost:8080/",
          "height": 34
        }
      },
      "source": [
        "delta_y = np.array(delta_y)\n",
        "delta_y.shape"
      ],
      "execution_count": 0,
      "outputs": [
        {
          "output_type": "execute_result",
          "data": {
            "text/plain": [
              "(2514, 4)"
            ]
          },
          "metadata": {
            "tags": []
          },
          "execution_count": 48
        }
      ]
    },
    {
      "cell_type": "code",
      "metadata": {
        "id": "uPOVZiIRJxxQ",
        "colab_type": "code",
        "colab": {}
      },
      "source": [
        "max_y = np.max(delta_y, axis=0)"
      ],
      "execution_count": 0,
      "outputs": []
    },
    {
      "cell_type": "code",
      "metadata": {
        "id": "Eho8dbDQJ2oP",
        "colab_type": "code",
        "colab": {}
      },
      "source": [
        "delta_y2 = delta_y/max_y"
      ],
      "execution_count": 0,
      "outputs": []
    },
    {
      "cell_type": "code",
      "metadata": {
        "id": "AX3x99_bGnaX",
        "colab_type": "code",
        "colab": {}
      },
      "source": [
        "model2.compile(loss = 'mean_absolute_error', optimizer = optimizer)"
      ],
      "execution_count": 0,
      "outputs": []
    },
    {
      "cell_type": "code",
      "metadata": {
        "id": "LAMtytaaGou4",
        "colab_type": "code",
        "outputId": "d9a105d1-5a95-4e43-fd9a-28587641e7e5",
        "colab": {
          "base_uri": "https://localhost:8080/",
          "height": 391
        }
      },
      "source": [
        "model2.fit(delta_x/np.max(x_train), delta_y2, epochs = 10, batch_size = 32, verbose = 1, validation_split = 0.1)"
      ],
      "execution_count": 0,
      "outputs": [
        {
          "output_type": "stream",
          "text": [
            "Train on 2262 samples, validate on 252 samples\n",
            "Epoch 1/10\n",
            "2262/2262 [==============================] - 3s 1ms/step - loss: 1.3994 - val_loss: 0.6687\n",
            "Epoch 2/10\n",
            "2262/2262 [==============================] - 2s 987us/step - loss: 0.2980 - val_loss: 0.2103\n",
            "Epoch 3/10\n",
            "2262/2262 [==============================] - 2s 989us/step - loss: 0.1115 - val_loss: 0.1642\n",
            "Epoch 4/10\n",
            "2262/2262 [==============================] - 2s 996us/step - loss: 0.0795 - val_loss: 0.1532\n",
            "Epoch 5/10\n",
            "2262/2262 [==============================] - 2s 999us/step - loss: 0.0665 - val_loss: 0.1452\n",
            "Epoch 6/10\n",
            "2262/2262 [==============================] - 2s 993us/step - loss: 0.0629 - val_loss: 0.1449\n",
            "Epoch 7/10\n",
            "2262/2262 [==============================] - 2s 987us/step - loss: 0.0617 - val_loss: 0.1450\n",
            "Epoch 8/10\n",
            "2262/2262 [==============================] - 2s 993us/step - loss: 0.0609 - val_loss: 0.1443\n",
            "Epoch 9/10\n",
            "2262/2262 [==============================] - 2s 999us/step - loss: 0.0607 - val_loss: 0.1439\n",
            "Epoch 10/10\n",
            "2262/2262 [==============================] - 2s 1ms/step - loss: 0.0607 - val_loss: 0.1458\n"
          ],
          "name": "stdout"
        },
        {
          "output_type": "execute_result",
          "data": {
            "text/plain": [
              "<keras.callbacks.History at 0x7fce709a3f60>"
            ]
          },
          "metadata": {
            "tags": []
          },
          "execution_count": 52
        }
      ]
    },
    {
      "cell_type": "code",
      "metadata": {
        "id": "rP-vQncX0uFG",
        "colab_type": "code",
        "outputId": "057b485b-b316-4aed-f86d-51103335bfd0",
        "colab": {
          "base_uri": "https://localhost:8080/",
          "height": 377
        }
      },
      "source": [
        "!wget https://www.dropbox.com/s/qdoximctirsy1a9/Hemanvi.jpg  # Adding this here to get the image "
      ],
      "execution_count": 0,
      "outputs": [
        {
          "output_type": "stream",
          "text": [
            "--2019-09-24 05:51:23--  https://www.dropbox.com/s/qdoximctirsy1a9/Hemanvi.jpg\n",
            "Resolving www.dropbox.com (www.dropbox.com)... 162.125.65.1, 2620:100:6021:1::a27d:4101\n",
            "Connecting to www.dropbox.com (www.dropbox.com)|162.125.65.1|:443... connected.\n",
            "HTTP request sent, awaiting response... 301 Moved Permanently\n",
            "Location: /s/raw/qdoximctirsy1a9/Hemanvi.jpg [following]\n",
            "--2019-09-24 05:51:23--  https://www.dropbox.com/s/raw/qdoximctirsy1a9/Hemanvi.jpg\n",
            "Reusing existing connection to www.dropbox.com:443.\n",
            "HTTP request sent, awaiting response... 302 Found\n",
            "Location: https://uce0ccf63062050f5045a86332b3.dl.dropboxusercontent.com/cd/0/inline/ApJt90YOfJ9tEUsQ1yVchqo79_he-W9tiMYebpZLiWPMolRd8CYxvY7I_0TrL6Ac-HerFj5cQWdVS69BqNTS0KkVxs3oQr-Ma5S-dyRrcLxoTg/file# [following]\n",
            "--2019-09-24 05:51:24--  https://uce0ccf63062050f5045a86332b3.dl.dropboxusercontent.com/cd/0/inline/ApJt90YOfJ9tEUsQ1yVchqo79_he-W9tiMYebpZLiWPMolRd8CYxvY7I_0TrL6Ac-HerFj5cQWdVS69BqNTS0KkVxs3oQr-Ma5S-dyRrcLxoTg/file\n",
            "Resolving uce0ccf63062050f5045a86332b3.dl.dropboxusercontent.com (uce0ccf63062050f5045a86332b3.dl.dropboxusercontent.com)... 162.125.65.6, 2620:100:6021:6::a27d:4106\n",
            "Connecting to uce0ccf63062050f5045a86332b3.dl.dropboxusercontent.com (uce0ccf63062050f5045a86332b3.dl.dropboxusercontent.com)|162.125.65.6|:443... connected.\n",
            "HTTP request sent, awaiting response... 200 OK\n",
            "Length: 3590682 (3.4M) [image/jpeg]\n",
            "Saving to: ‘Hemanvi.jpg’\n",
            "\n",
            "\rHemanvi.jpg           0%[                    ]       0  --.-KB/s               \rHemanvi.jpg          63%[===========>        ]   2.18M  9.77MB/s               \rHemanvi.jpg         100%[===================>]   3.42M  13.3MB/s    in 0.3s    \n",
            "\n",
            "2019-09-24 05:51:24 (13.3 MB/s) - ‘Hemanvi.jpg’ saved [3590682/3590682]\n",
            "\n"
          ],
          "name": "stdout"
        }
      ]
    },
    {
      "cell_type": "code",
      "metadata": {
        "id": "ifojeECHrC7w",
        "colab_type": "code",
        "outputId": "dc28cbc3-483a-40f1-fc55-e41f8f6b7857",
        "colab": {
          "base_uri": "https://localhost:8080/",
          "height": 34
        }
      },
      "source": [
        "import cv2\n",
        "img = cv2.imread('/content/Hemanvi.jpg')\n",
        "img = cv2.resize(img,(224,224))\n",
        "img = img/255\n",
        "img2 = vgg16_model.predict(img.reshape(1,224,224,3))\n",
        "img2.shape"
      ],
      "execution_count": 0,
      "outputs": [
        {
          "output_type": "execute_result",
          "data": {
            "text/plain": [
              "(1, 7, 7, 512)"
            ]
          },
          "metadata": {
            "tags": []
          },
          "execution_count": 55
        }
      ]
    },
    {
      "cell_type": "code",
      "metadata": {
        "id": "xr0MrEQwrb-5",
        "colab_type": "code",
        "colab": {}
      },
      "source": [
        "arg = np.argmax(model.predict(img2/np.max(x_train)))\n",
        "pred = model2.predict(img2/np.max(delta_x))[0]"
      ],
      "execution_count": 0,
      "outputs": []
    },
    {
      "cell_type": "code",
      "metadata": {
        "id": "OesBrgrOruKE",
        "colab_type": "code",
        "outputId": "2de702c4-4fa6-4bfc-d1e4-7b9c04e4fdeb",
        "colab": {
          "base_uri": "https://localhost:8080/",
          "height": 34
        }
      },
      "source": [
        "count = 0\n",
        "for a in range(5):\n",
        "  for b in range(5):\n",
        "    for c in range(5):\n",
        "      if(count == arg):\n",
        "        print(a,b,c)\n",
        "        a2 = a\n",
        "        b2 = b\n",
        "        c2 = c      \n",
        "      count+=1"
      ],
      "execution_count": 0,
      "outputs": [
        {
          "output_type": "stream",
          "text": [
            "2 2 0\n"
          ],
          "name": "stdout"
        }
      ]
    },
    {
      "cell_type": "code",
      "metadata": {
        "id": "XSABTaAKruNW",
        "colab_type": "code",
        "colab": {}
      },
      "source": [
        "pred1 = pred*max_y\n",
        "xmin = pred1[0]*224+a2*224/num_grids - (anchors[c2][0]*pred1[2] * 224)/2\n",
        "ymin = pred1[1]*224+b2*224/num_grids - (anchors[c2][1]*pred1[3] * 224)/2\n",
        "\n",
        "w = anchors[c2][0]*pred1[2] * 224\n",
        "h = anchors[c2][1]*pred1[3] * 224"
      ],
      "execution_count": 0,
      "outputs": []
    },
    {
      "cell_type": "code",
      "metadata": {
        "id": "87gqm95Jr1sV",
        "colab_type": "code",
        "outputId": "bd4804c3-ee28-4d5f-825f-cd7d95bb0608",
        "colab": {
          "base_uri": "https://localhost:8080/",
          "height": 429
        }
      },
      "source": [
        "import matplotlib.patches as mpatches\n",
        "cand = [xmin, ymin, w, h]\n",
        "cand = np.clip(cand, 1, 223)\n",
        "\n",
        "fig, ax = plt.subplots(ncols=1, nrows=1, figsize=(6, 6))\n",
        "ax.imshow(img)\n",
        "\n",
        "rect = mpatches.Rectangle(\n",
        "(cand[0], cand[1]), cand[2], cand[3], fill=False, edgecolor='red', linewidth=1)\n",
        "ax.add_patch(rect)\n",
        "plt.grid('off')\n",
        "plt.show()"
      ],
      "execution_count": 0,
      "outputs": [
        {
          "output_type": "stream",
          "text": [
            "/usr/local/lib/python3.6/dist-packages/matplotlib/cbook/__init__.py:424: MatplotlibDeprecationWarning: \n",
            "Passing one of 'on', 'true', 'off', 'false' as a boolean is deprecated; use an actual boolean (True/False) instead.\n",
            "  warn_deprecated(\"2.2\", \"Passing one of 'on', 'true', 'off', 'false' as a \"\n"
          ],
          "name": "stderr"
        },
        {
          "output_type": "display_data",
          "data": {
            "image/png": "[encoded data removed]",
            "text/plain": [
              "<Figure size 432x432 with 1 Axes>"
            ]
          },
          "metadata": {
            "tags": []
          }
        }
      ]
    },
    {
      "cell_type": "code",
      "metadata": {
        "id": "kcIZMJO1r1xl",
        "colab_type": "code",
        "colab": {}
      },
      "source": [
        ""
      ],
      "execution_count": 0,
      "outputs": []
    },
    {
      "cell_type": "code",
      "metadata": {
        "id": "CC6PJCP8r1vn",
        "colab_type": "code",
        "colab": {}
      },
      "source": [
        ""
      ],
      "execution_count": 0,
      "outputs": []
    },
    {
      "cell_type": "code",
      "metadata": {
        "id": "yt_k-CHRKi1w",
        "colab_type": "code",
        "colab": {}
      },
      "source": [
        ""
      ],
      "execution_count": 0,
      "outputs": []
    }
  ]
}