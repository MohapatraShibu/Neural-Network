{
  "nbformat": 4,
  "nbformat_minor": 0,
  "metadata": {
    "colab": {
      "name": "Intent_and_entity_extraction.ipynb",
      "provenance": [],
      "collapsed_sections": []
    },
    "kernelspec": {
      "name": "python3",
      "display_name": "Python 3"
    },
    "accelerator": "GPU"
  },
  "cells": [
    {
      "cell_type": "markdown",
      "metadata": {
        "id": "dY6N9ZCma3cb",
        "colab_type": "text"
      },
      "source": [
        "https://colab.research.google.com/drive/1z0fQFkHSrACIvfEQqTR9RqByS1FCHQ6I"
      ]
    },
    {
      "cell_type": "code",
      "metadata": {
        "id": "bEfT0qK_yfBD",
        "colab_type": "code",
        "outputId": "c899e120-53c1-478e-85c5-4391cfb65eb5",
        "colab": {
          "base_uri": "https://localhost:8080/",
          "height": 445
        }
      },
      "source": [
        "!wget https://www.dropbox.com/s/qpw1wnmho8v0gi4/atis.zip"
      ],
      "execution_count": 0,
      "outputs": [
        {
          "output_type": "stream",
          "text": [
            "--2019-10-02 16:10:22--  https://www.dropbox.com/s/qpw1wnmho8v0gi4/atis.zip\n",
            "Resolving www.dropbox.com (www.dropbox.com)... 162.125.8.1, 2620:100:6018:1::a27d:301\n",
            "Connecting to www.dropbox.com (www.dropbox.com)|162.125.8.1|:443... connected.\n",
            "HTTP request sent, awaiting response... 301 Moved Permanently\n",
            "Location: /s/raw/qpw1wnmho8v0gi4/atis.zip [following]\n",
            "--2019-10-02 16:10:22--  https://www.dropbox.com/s/raw/qpw1wnmho8v0gi4/atis.zip\n",
            "Reusing existing connection to www.dropbox.com:443.\n",
            "HTTP request sent, awaiting response... 302 Found\n",
            "Location: https://uc588480bc46d693a7180801f8fe.dl.dropboxusercontent.com/cd/0/inline/ApqTtVKs8gdVyvAyGXs_UpSfCZzSVBxH4ySqInR5rtPllqhGWALW0iOM6U6nU6o48VIJ3AP4Sinzy7ngI8wpr7yl_-Q_-oF9t_BAObmSSmpPEQ/file# [following]\n",
            "--2019-10-02 16:10:23--  https://uc588480bc46d693a7180801f8fe.dl.dropboxusercontent.com/cd/0/inline/ApqTtVKs8gdVyvAyGXs_UpSfCZzSVBxH4ySqInR5rtPllqhGWALW0iOM6U6nU6o48VIJ3AP4Sinzy7ngI8wpr7yl_-Q_-oF9t_BAObmSSmpPEQ/file\n",
            "Resolving uc588480bc46d693a7180801f8fe.dl.dropboxusercontent.com (uc588480bc46d693a7180801f8fe.dl.dropboxusercontent.com)... 162.125.8.6, 2620:100:6018:6::a27d:306\n",
            "Connecting to uc588480bc46d693a7180801f8fe.dl.dropboxusercontent.com (uc588480bc46d693a7180801f8fe.dl.dropboxusercontent.com)|162.125.8.6|:443... connected.\n",
            "HTTP request sent, awaiting response... 302 FOUND\n",
            "Location: /cd/0/inline2/ApobPdYOaX03-d3LNm4CpNaRwpBbSTI9nndhMJ9_tQNAmEUCzCMQAS0Ey8BOG0Fr9IDU8EHxpPESNyHYqPMLFBek2zg5QJznsB_bGGfFF-Hb3mndKJ_JSjfPDNmNKII32pFB_AaZbK8eVvg-3-4FeYY6_xF05fLuUqUCjJTKjbnipnaWxqkqg3U5ra923zSuMxn5lxNWjKaHhmsfDxucUto1UrIUlkBjjuX3E6iZ40RXbpiuXQg4EM2n6uWVX80MAcZD8em0tcX9w0WD3SquAG8SdNdr8IhS3TmMVXDbYKV2e8uAAsUWnf2PqksSA7rY9SU7wOu90shwj57IJOdCr1An/file [following]\n",
            "--2019-10-02 16:10:23--  https://uc588480bc46d693a7180801f8fe.dl.dropboxusercontent.com/cd/0/inline2/ApobPdYOaX03-d3LNm4CpNaRwpBbSTI9nndhMJ9_tQNAmEUCzCMQAS0Ey8BOG0Fr9IDU8EHxpPESNyHYqPMLFBek2zg5QJznsB_bGGfFF-Hb3mndKJ_JSjfPDNmNKII32pFB_AaZbK8eVvg-3-4FeYY6_xF05fLuUqUCjJTKjbnipnaWxqkqg3U5ra923zSuMxn5lxNWjKaHhmsfDxucUto1UrIUlkBjjuX3E6iZ40RXbpiuXQg4EM2n6uWVX80MAcZD8em0tcX9w0WD3SquAG8SdNdr8IhS3TmMVXDbYKV2e8uAAsUWnf2PqksSA7rY9SU7wOu90shwj57IJOdCr1An/file\n",
            "Reusing existing connection to uc588480bc46d693a7180801f8fe.dl.dropboxusercontent.com:443.\n",
            "HTTP request sent, awaiting response... 200 OK\n",
            "Length: 241934 (236K) [application/zip]\n",
            "Saving to: ‘atis.zip’\n",
            "\n",
            "\ratis.zip              0%[                    ]       0  --.-KB/s               \ratis.zip            100%[===================>] 236.26K  --.-KB/s    in 0.06s   \n",
            "\n",
            "2019-10-02 16:10:23 (4.18 MB/s) - ‘atis.zip’ saved [241934/241934]\n",
            "\n"
          ],
          "name": "stdout"
        }
      ]
    },
    {
      "cell_type": "code",
      "metadata": {
        "id": "mEbb2wHpyhbq",
        "colab_type": "code",
        "outputId": "a702ae16-4e4d-467a-e0b5-19e0144be802",
        "colab": {
          "base_uri": "https://localhost:8080/",
          "height": 34
        }
      },
      "source": [
        "!ls"
      ],
      "execution_count": 0,
      "outputs": [
        {
          "output_type": "stream",
          "text": [
            "atis.zip  sample_data\n"
          ],
          "name": "stdout"
        }
      ]
    },
    {
      "cell_type": "code",
      "metadata": {
        "id": "P5JgOIObylx-",
        "colab_type": "code",
        "outputId": "25f3152d-30fc-485f-a921-9377931e5b2b",
        "colab": {
          "base_uri": "https://localhost:8080/",
          "height": 221
        }
      },
      "source": [
        "!unzip atis.zip"
      ],
      "execution_count": 0,
      "outputs": [
        {
          "output_type": "stream",
          "text": [
            "Archive:  atis.zip\n",
            "  inflating: atis.dict.intent.csv    \n",
            "  inflating: atis.dict.slots.csv     \n",
            "  inflating: atis.dict.vocab.csv     \n",
            "  inflating: atis.test.intent.csv    \n",
            "  inflating: atis.test.pkl           \n",
            "  inflating: atis.test.query.csv     \n",
            "  inflating: atis.test.slots.csv     \n",
            "  inflating: atis.train.intent.csv   \n",
            "  inflating: atis.train.pkl          \n",
            "  inflating: atis.train.query.csv    \n",
            "  inflating: atis.train.slots.csv    \n"
          ],
          "name": "stdout"
        }
      ]
    },
    {
      "cell_type": "code",
      "metadata": {
        "id": "HPi_8_ldyqVH",
        "colab_type": "code",
        "outputId": "fe3d57bb-ecdf-429c-be07-7a44d35153c8",
        "colab": {
          "base_uri": "https://localhost:8080/",
          "height": 85
        }
      },
      "source": [
        "!ls"
      ],
      "execution_count": 0,
      "outputs": [
        {
          "output_type": "stream",
          "text": [
            "atis.dict.intent.csv  atis.test.pkl\t     atis.train.pkl\t   sample_data\n",
            "atis.dict.slots.csv   atis.test.query.csv    atis.train.query.csv\n",
            "atis.dict.vocab.csv   atis.test.slots.csv    atis.train.slots.csv\n",
            "atis.test.intent.csv  atis.train.intent.csv  atis.zip\n"
          ],
          "name": "stdout"
        }
      ]
    },
    {
      "cell_type": "code",
      "metadata": {
        "id": "63V3kGbVyqvQ",
        "colab_type": "code",
        "colab": {}
      },
      "source": [
        "import numpy as np \n",
        "import pandas as pd\n"
      ],
      "execution_count": 0,
      "outputs": []
    },
    {
      "cell_type": "code",
      "metadata": {
        "id": "yNr1EQwZywaA",
        "colab_type": "code",
        "colab": {}
      },
      "source": [
        "import pickle\n",
        "\n",
        "DATA_DIR=\"/content\"\n",
        "\n",
        "def load_ds(fname='atis.train.pkl'):\n",
        "    with open(fname, 'rb') as stream:\n",
        "        ds,dicts = pickle.load(stream)\n",
        "    print('Done  loading: ', fname)\n",
        "    print('      samples: {:4d}'.format(len(ds['query'])))\n",
        "    print('   vocab_size: {:4d}'.format(len(dicts['token_ids'])))\n",
        "    print('   slot count: {:4d}'.format(len(dicts['slot_ids'])))\n",
        "    print(' intent count: {:4d}'.format(len(dicts['intent_ids'])))\n",
        "    return ds,dicts"
      ],
      "execution_count": 0,
      "outputs": []
    },
    {
      "cell_type": "code",
      "metadata": {
        "id": "fMtTYoOUy1xh",
        "colab_type": "code",
        "outputId": "c2fb2957-a732-4d3f-a81e-d397091647ff",
        "colab": {
          "base_uri": "https://localhost:8080/",
          "height": 187
        }
      },
      "source": [
        "import os\n",
        "train_ds, dicts = load_ds(os.path.join(DATA_DIR,'atis.train.pkl'))\n",
        "test_ds, dicts  = load_ds(os.path.join(DATA_DIR,'atis.test.pkl'))"
      ],
      "execution_count": 0,
      "outputs": [
        {
          "output_type": "stream",
          "text": [
            "Done  loading:  /content/atis.train.pkl\n",
            "      samples: 4978\n",
            "   vocab_size:  943\n",
            "   slot count:  129\n",
            " intent count:   26\n",
            "Done  loading:  /content/atis.test.pkl\n",
            "      samples:  893\n",
            "   vocab_size:  943\n",
            "   slot count:  129\n",
            " intent count:   26\n"
          ],
          "name": "stdout"
        }
      ]
    },
    {
      "cell_type": "code",
      "metadata": {
        "id": "JcjrQWsry_Gq",
        "colab_type": "code",
        "outputId": "05eee31b-8894-4b9c-81c0-aa7de9453a6b",
        "colab": {
          "base_uri": "https://localhost:8080/",
          "height": 1000
        }
      },
      "source": [
        "t2i, s2i, in2i = map(dicts.get, ['token_ids', 'slot_ids','intent_ids'])\n",
        "i2t, i2s, i2in = map(lambda d: {d[k]:k for k in d.keys()}, [t2i,s2i,in2i])\n",
        "query, slots, intent =  map(train_ds.get, ['query', 'slot_labels', 'intent_labels'])\n",
        "\n",
        "for i in range(10):\n",
        "    print('{:4d}:{:>15}: {}'.format(i, i2in[intent[i][0]],\n",
        "                                    ' '.join(map(i2t.get, query[i]))))\n",
        "    print('intent:', i2in[intent[i][0]])\n",
        "    for j in range(len(query[i])):\n",
        "        print('{:>33} {:>40}'.format(i2t[query[i][j]],\n",
        "                                     i2s[slots[i][j]]))\n",
        "    print('*'*74)"
      ],
      "execution_count": 0,
      "outputs": [
        {
          "output_type": "stream",
          "text": [
            "   0:         flight: BOS i want to fly from boston at 838 am and arrive in denver at 1110 in the morning EOS\n",
            "intent: flight\n",
            "                              BOS                                        O\n",
            "                                i                                        O\n",
            "                             want                                        O\n",
            "                               to                                        O\n",
            "                              fly                                        O\n",
            "                             from                                        O\n",
            "                           boston                      B-fromloc.city_name\n",
            "                               at                                        O\n",
            "                              838                       B-depart_time.time\n",
            "                               am                       I-depart_time.time\n",
            "                              and                                        O\n",
            "                           arrive                                        O\n",
            "                               in                                        O\n",
            "                           denver                        B-toloc.city_name\n",
            "                               at                                        O\n",
            "                             1110                       B-arrive_time.time\n",
            "                               in                                        O\n",
            "                              the                                        O\n",
            "                          morning              B-arrive_time.period_of_day\n",
            "                              EOS                                        O\n",
            "**************************************************************************\n",
            "   1:         flight: BOS what flights are available from pittsburgh to baltimore on thursday morning EOS\n",
            "intent: flight\n",
            "                              BOS                                        O\n",
            "                             what                                        O\n",
            "                          flights                                        O\n",
            "                              are                                        O\n",
            "                        available                                        O\n",
            "                             from                                        O\n",
            "                       pittsburgh                      B-fromloc.city_name\n",
            "                               to                                        O\n",
            "                        baltimore                        B-toloc.city_name\n",
            "                               on                                        O\n",
            "                         thursday                   B-depart_date.day_name\n",
            "                          morning              B-depart_time.period_of_day\n",
            "                              EOS                                        O\n",
            "**************************************************************************\n",
            "   2:    flight_time: BOS what is the arrival time in san francisco for the 755 am flight leaving washington EOS\n",
            "intent: flight_time\n",
            "                              BOS                                        O\n",
            "                             what                                        O\n",
            "                               is                                        O\n",
            "                              the                                        O\n",
            "                          arrival                            B-flight_time\n",
            "                             time                            I-flight_time\n",
            "                               in                                        O\n",
            "                              san                      B-fromloc.city_name\n",
            "                        francisco                      I-fromloc.city_name\n",
            "                              for                                        O\n",
            "                              the                                        O\n",
            "                              755                       B-depart_time.time\n",
            "                               am                       I-depart_time.time\n",
            "                           flight                                        O\n",
            "                          leaving                                        O\n",
            "                       washington                      B-fromloc.city_name\n",
            "                              EOS                                        O\n",
            "**************************************************************************\n",
            "   3:        airfare: BOS cheapest airfare from tacoma to orlando EOS\n",
            "intent: airfare\n",
            "                              BOS                                        O\n",
            "                         cheapest                          B-cost_relative\n",
            "                          airfare                                        O\n",
            "                             from                                        O\n",
            "                           tacoma                      B-fromloc.city_name\n",
            "                               to                                        O\n",
            "                          orlando                        B-toloc.city_name\n",
            "                              EOS                                        O\n",
            "**************************************************************************\n",
            "   4:        airfare: BOS round trip fares from pittsburgh to philadelphia under 1000 dollars EOS\n",
            "intent: airfare\n",
            "                              BOS                                        O\n",
            "                            round                             B-round_trip\n",
            "                             trip                             I-round_trip\n",
            "                            fares                                        O\n",
            "                             from                                        O\n",
            "                       pittsburgh                      B-fromloc.city_name\n",
            "                               to                                        O\n",
            "                     philadelphia                        B-toloc.city_name\n",
            "                            under                          B-cost_relative\n",
            "                             1000                            B-fare_amount\n",
            "                          dollars                            I-fare_amount\n",
            "                              EOS                                        O\n",
            "**************************************************************************\n",
            "   5:         flight: BOS i need a flight tomorrow from columbus to minneapolis EOS\n",
            "intent: flight\n",
            "                              BOS                                        O\n",
            "                                i                                        O\n",
            "                             need                                        O\n",
            "                                a                                        O\n",
            "                           flight                                        O\n",
            "                         tomorrow             B-depart_date.today_relative\n",
            "                             from                                        O\n",
            "                         columbus                      B-fromloc.city_name\n",
            "                               to                                        O\n",
            "                      minneapolis                        B-toloc.city_name\n",
            "                              EOS                                        O\n",
            "**************************************************************************\n",
            "   6:       aircraft: BOS what kind of aircraft is used on a flight from cleveland to dallas EOS\n",
            "intent: aircraft\n",
            "                              BOS                                        O\n",
            "                             what                                        O\n",
            "                             kind                                        O\n",
            "                               of                                        O\n",
            "                         aircraft                                        O\n",
            "                               is                                        O\n",
            "                             used                                        O\n",
            "                               on                                        O\n",
            "                                a                                        O\n",
            "                           flight                                        O\n",
            "                             from                                        O\n",
            "                        cleveland                      B-fromloc.city_name\n",
            "                               to                                        O\n",
            "                           dallas                        B-toloc.city_name\n",
            "                              EOS                                        O\n",
            "**************************************************************************\n",
            "   7:         flight: BOS show me the flights from pittsburgh to los angeles on thursday EOS\n",
            "intent: flight\n",
            "                              BOS                                        O\n",
            "                             show                                        O\n",
            "                               me                                        O\n",
            "                              the                                        O\n",
            "                          flights                                        O\n",
            "                             from                                        O\n",
            "                       pittsburgh                      B-fromloc.city_name\n",
            "                               to                                        O\n",
            "                              los                        B-toloc.city_name\n",
            "                          angeles                        I-toloc.city_name\n",
            "                               on                                        O\n",
            "                         thursday                   B-depart_date.day_name\n",
            "                              EOS                                        O\n",
            "**************************************************************************\n",
            "   8:         flight: BOS all flights from boston to washington EOS\n",
            "intent: flight\n",
            "                              BOS                                        O\n",
            "                              all                                        O\n",
            "                          flights                                        O\n",
            "                             from                                        O\n",
            "                           boston                      B-fromloc.city_name\n",
            "                               to                                        O\n",
            "                       washington                        B-toloc.city_name\n",
            "                              EOS                                        O\n",
            "**************************************************************************\n",
            "   9: ground_service: BOS what kind of ground transportation is available in denver EOS\n",
            "intent: ground_service\n",
            "                              BOS                                        O\n",
            "                             what                                        O\n",
            "                             kind                                        O\n",
            "                               of                                        O\n",
            "                           ground                                        O\n",
            "                   transportation                                        O\n",
            "                               is                                        O\n",
            "                        available                                        O\n",
            "                               in                                        O\n",
            "                           denver                              B-city_name\n",
            "                              EOS                                        O\n",
            "**************************************************************************\n"
          ],
          "name": "stdout"
        }
      ]
    },
    {
      "cell_type": "code",
      "metadata": {
        "id": "ICPs5Nwpa5vm",
        "colab_type": "code",
        "colab": {}
      },
      "source": [
        "t2i"
      ],
      "execution_count": 0,
      "outputs": []
    },
    {
      "cell_type": "code",
      "metadata": {
        "id": "jtg2LJ9LaolX",
        "colab_type": "code",
        "outputId": "194c74cc-ccab-4c3a-9f30-0fc489ed9cf5",
        "colab": {
          "base_uri": "https://localhost:8080/",
          "height": 459
        }
      },
      "source": [
        "in2i"
      ],
      "execution_count": 0,
      "outputs": [
        {
          "output_type": "execute_result",
          "data": {
            "text/plain": [
              "{'abbreviation': 0,\n",
              " 'aircraft': 1,\n",
              " 'aircraft+flight+flight_no': 2,\n",
              " 'airfare': 3,\n",
              " 'airfare+flight': 4,\n",
              " 'airfare+flight_time': 5,\n",
              " 'airline': 6,\n",
              " 'airline+flight_no': 7,\n",
              " 'airport': 8,\n",
              " 'capacity': 9,\n",
              " 'cheapest': 10,\n",
              " 'city': 11,\n",
              " 'day_name': 12,\n",
              " 'distance': 13,\n",
              " 'flight': 14,\n",
              " 'flight+airfare': 15,\n",
              " 'flight+airline': 16,\n",
              " 'flight_no': 17,\n",
              " 'flight_no+airline': 18,\n",
              " 'flight_time': 19,\n",
              " 'ground_fare': 20,\n",
              " 'ground_service': 21,\n",
              " 'ground_service+ground_fare': 22,\n",
              " 'meal': 23,\n",
              " 'quantity': 24,\n",
              " 'restriction': 25}"
            ]
          },
          "metadata": {
            "tags": []
          },
          "execution_count": 11
        }
      ]
    },
    {
      "cell_type": "code",
      "metadata": {
        "id": "rV2x74tRgkp2",
        "colab_type": "code",
        "outputId": "9132ede8-0f1d-4fa8-8bf1-6bd74937f3eb",
        "colab": {
          "base_uri": "https://localhost:8080/",
          "height": 51
        }
      },
      "source": [
        "query[0]"
      ],
      "execution_count": 0,
      "outputs": [
        {
          "output_type": "execute_result",
          "data": {
            "text/plain": [
              "array([178, 479, 902, 851, 431, 444, 266, 240, 168, 210, 215, 236, 482,\n",
              "       351, 240,  27, 482, 827, 606, 179])"
            ]
          },
          "metadata": {
            "tags": []
          },
          "execution_count": 12
        }
      ]
    },
    {
      "cell_type": "code",
      "metadata": {
        "id": "Yj2zpYNVdlxA",
        "colab_type": "code",
        "outputId": "626bb58c-a979-4c57-979f-7d8ebc5dc98d",
        "colab": {
          "base_uri": "https://localhost:8080/",
          "height": 51
        }
      },
      "source": [
        "slots[0]"
      ],
      "execution_count": 0,
      "outputs": [
        {
          "output_type": "execute_result",
          "data": {
            "text/plain": [
              "array([128, 128, 128, 128, 128, 128,  48, 128,  35, 100, 128, 128, 128,\n",
              "        78, 128,  14, 128, 128,  12, 128])"
            ]
          },
          "metadata": {
            "tags": []
          },
          "execution_count": 13
        }
      ]
    },
    {
      "cell_type": "code",
      "metadata": {
        "id": "bLzzV-i8d1px",
        "colab_type": "code",
        "outputId": "1dfeaeed-b587-443d-9d02-3de557a4bfb1",
        "colab": {
          "base_uri": "https://localhost:8080/",
          "height": 34
        }
      },
      "source": [
        "intent[0]"
      ],
      "execution_count": 0,
      "outputs": [
        {
          "output_type": "execute_result",
          "data": {
            "text/plain": [
              "array([14])"
            ]
          },
          "metadata": {
            "tags": []
          },
          "execution_count": 14
        }
      ]
    },
    {
      "cell_type": "code",
      "metadata": {
        "id": "VRKDljCy86Wu",
        "colab_type": "code",
        "colab": {}
      },
      "source": [
        "i2t2 = []\n",
        "i2s2 = []\n",
        "c=[]\n",
        "for i in range(4978):\n",
        "  a = []\n",
        "  b = []\n",
        "  c.append(i2in[intent[i][0]])\n",
        "  for j in range(len(query[i])):\n",
        "    a.append(i2t[query[i][j]])\n",
        "    b.append(i2s[slots[i][j]])\n",
        "  i2t2.append(a)\n",
        "  i2s2.append(b)"
      ],
      "execution_count": 0,
      "outputs": []
    },
    {
      "cell_type": "code",
      "metadata": {
        "id": "npMj_weS_sYt",
        "colab_type": "code",
        "outputId": "2e9eaf5b-66db-41bb-b202-8f5ff8d0dbb7",
        "colab": {
          "base_uri": "https://localhost:8080/",
          "height": 34
        }
      },
      "source": [
        "i2t2 = np.array(i2t2)\n",
        "i2s2 = np.array(i2s2)\n",
        "i2in2 = np.array(c)\n",
        "print(i2t2.shape, i2s2.shape,i2in2.shape)"
      ],
      "execution_count": 0,
      "outputs": [
        {
          "output_type": "stream",
          "text": [
            "(4978,) (4978,) (4978,)\n"
          ],
          "name": "stdout"
        }
      ]
    },
    {
      "cell_type": "code",
      "metadata": {
        "id": "9QaqRlZNAFdA",
        "colab_type": "code",
        "outputId": "89181eb2-b360-463f-f904-4a5236a955e6",
        "colab": {
          "base_uri": "https://localhost:8080/",
          "height": 68
        }
      },
      "source": [
        "print('tokens: ',i2t2[0])\n",
        "print('slots: ',i2s2[0])\n",
        "print('intent: ',i2in2[0])"
      ],
      "execution_count": 0,
      "outputs": [
        {
          "output_type": "stream",
          "text": [
            "tokens:  ['BOS', 'i', 'want', 'to', 'fly', 'from', 'boston', 'at', '838', 'am', 'and', 'arrive', 'in', 'denver', 'at', '1110', 'in', 'the', 'morning', 'EOS']\n",
            "slots:  ['O', 'O', 'O', 'O', 'O', 'O', 'B-fromloc.city_name', 'O', 'B-depart_time.time', 'I-depart_time.time', 'O', 'O', 'O', 'B-toloc.city_name', 'O', 'B-arrive_time.time', 'O', 'O', 'B-arrive_time.period_of_day', 'O']\n",
            "intent:  flight\n"
          ],
          "name": "stdout"
        }
      ]
    },
    {
      "cell_type": "code",
      "metadata": {
        "id": "aUjwxX7kCQqC",
        "colab_type": "code",
        "colab": {}
      },
      "source": [
        "final_sentences = []\n",
        "final_targets = []\n",
        "final_docs = []\n",
        "for i in range(len(i2t2)):\n",
        "  tokens = ''\n",
        "  entities = ''\n",
        "  intent = ''\n",
        "  for j in range(len(i2t2[i])):\n",
        "    tokens= tokens + i2t2[i][j] + ' '\n",
        "    entities = entities + i2s2[i][j] +' '\n",
        "  intent = i2in2[i]\n",
        "  final_sentences.append(tokens)\n",
        "  final_targets.append(entities)\n",
        "  final_docs.append(intent)"
      ],
      "execution_count": 0,
      "outputs": []
    },
    {
      "cell_type": "code",
      "metadata": {
        "id": "eXQX3drEsNqc",
        "colab_type": "code",
        "outputId": "9d13d615-9926-4997-d87b-3b424f0d6975",
        "colab": {
          "base_uri": "https://localhost:8080/",
          "height": 68
        }
      },
      "source": [
        "print('query: ',final_sentences[0])\n",
        "print('slots: ',final_targets[0])\n",
        "print('intent: ',final_docs[0])"
      ],
      "execution_count": 0,
      "outputs": [
        {
          "output_type": "stream",
          "text": [
            "query:  BOS i want to fly from boston at 838 am and arrive in denver at 1110 in the morning EOS \n",
            "slots:  O O O O O O B-fromloc.city_name O B-depart_time.time I-depart_time.time O O O B-toloc.city_name O B-arrive_time.time O O B-arrive_time.period_of_day O \n",
            "intent:  flight\n"
          ],
          "name": "stdout"
        }
      ]
    },
    {
      "cell_type": "code",
      "metadata": {
        "id": "UdnTGt3iihp-",
        "colab_type": "code",
        "outputId": "e1bea7a6-f65b-4072-f8f6-7f9e5395efc4",
        "colab": {
          "base_uri": "https://localhost:8080/",
          "height": 357
        }
      },
      "source": [
        "i2t2[0]"
      ],
      "execution_count": 0,
      "outputs": [
        {
          "output_type": "execute_result",
          "data": {
            "text/plain": [
              "['BOS',\n",
              " 'i',\n",
              " 'want',\n",
              " 'to',\n",
              " 'fly',\n",
              " 'from',\n",
              " 'boston',\n",
              " 'at',\n",
              " '838',\n",
              " 'am',\n",
              " 'and',\n",
              " 'arrive',\n",
              " 'in',\n",
              " 'denver',\n",
              " 'at',\n",
              " '1110',\n",
              " 'in',\n",
              " 'the',\n",
              " 'morning',\n",
              " 'EOS']"
            ]
          },
          "metadata": {
            "tags": []
          },
          "execution_count": 20
        }
      ]
    },
    {
      "cell_type": "code",
      "metadata": {
        "id": "7HI8z_GwDXlx",
        "colab_type": "code",
        "colab": {}
      },
      "source": [
        "from collections import Counter\n",
        "counts = Counter()\n",
        "for i,sentence in enumerate(final_sentences):\n",
        "    counts.update(sentence.split())"
      ],
      "execution_count": 0,
      "outputs": []
    },
    {
      "cell_type": "code",
      "metadata": {
        "id": "vI8fNEi4DZNb",
        "colab_type": "code",
        "colab": {}
      },
      "source": [
        "sentence_words = sorted(counts, key=counts.get, reverse=True)\n",
        "#sentence_words[0:50]"
      ],
      "execution_count": 0,
      "outputs": []
    },
    {
      "cell_type": "code",
      "metadata": {
        "id": "eLhC0IrADa42",
        "colab_type": "code",
        "outputId": "f48729db-9890-4abd-d26b-159859a81b52",
        "colab": {
          "base_uri": "https://localhost:8080/",
          "height": 34
        }
      },
      "source": [
        "chars = sentence_words\n",
        "nb_chars = len(chars)\n",
        "nb_chars"
      ],
      "execution_count": 0,
      "outputs": [
        {
          "output_type": "execute_result",
          "data": {
            "text/plain": [
              "891"
            ]
          },
          "metadata": {
            "tags": []
          },
          "execution_count": 23
        }
      ]
    },
    {
      "cell_type": "code",
      "metadata": {
        "id": "d25hOG9NDceJ",
        "colab_type": "code",
        "colab": {}
      },
      "source": [
        "sentence_word_to_int = {word: i for i, word in enumerate(sentence_words, 1)}\n",
        "sentence_int_to_word = {i: word for i, word in enumerate(sentence_words, 1)}"
      ],
      "execution_count": 0,
      "outputs": []
    },
    {
      "cell_type": "code",
      "metadata": {
        "id": "HRYIPuWQDdyl",
        "colab_type": "code",
        "colab": {}
      },
      "source": [
        "mapped_reviews = []\n",
        "for review in final_sentences:\n",
        "    mapped_reviews.append([sentence_word_to_int[word] for word in review.split()])"
      ],
      "execution_count": 0,
      "outputs": []
    },
    {
      "cell_type": "code",
      "metadata": {
        "id": "Nwy8QoNohUZ5",
        "colab_type": "code",
        "outputId": "b54fed6d-627a-4aa8-9620-7d73fd6ec7fc",
        "colab": {
          "base_uri": "https://localhost:8080/",
          "height": 34
        }
      },
      "source": [
        "mapped_reviews[0]"
      ],
      "execution_count": 0,
      "outputs": [
        {
          "output_type": "execute_result",
          "data": {
            "text/plain": [
              "[1, 14, 72, 3, 40, 4, 11, 70, 408, 88, 19, 81, 18, 15, 70, 532, 18, 6, 38, 2]"
            ]
          },
          "metadata": {
            "tags": []
          },
          "execution_count": 26
        }
      ]
    },
    {
      "cell_type": "markdown",
      "metadata": {
        "id": "1HWLzn-25OBs",
        "colab_type": "text"
      },
      "source": [
        "# Entity extraction"
      ]
    },
    {
      "cell_type": "code",
      "metadata": {
        "id": "ZSExgJ8MDf7z",
        "colab_type": "code",
        "colab": {}
      },
      "source": [
        "from collections import Counter\n",
        "counts = Counter()\n",
        "for i,sentence in enumerate(final_targets):\n",
        "    counts.update(sentence.split())"
      ],
      "execution_count": 0,
      "outputs": []
    },
    {
      "cell_type": "code",
      "metadata": {
        "id": "OBiM-pttDhQQ",
        "colab_type": "code",
        "outputId": "2e2a1014-34e2-487c-92ba-22b76b252fc6",
        "colab": {
          "base_uri": "https://localhost:8080/",
          "height": 187
        }
      },
      "source": [
        "target_words = sorted(counts, key=counts.get, reverse=True)\n",
        "target_words[0:10]"
      ],
      "execution_count": 0,
      "outputs": [
        {
          "output_type": "execute_result",
          "data": {
            "text/plain": [
              "['O',\n",
              " 'B-toloc.city_name',\n",
              " 'B-fromloc.city_name',\n",
              " 'I-toloc.city_name',\n",
              " 'B-depart_date.day_name',\n",
              " 'B-airline_name',\n",
              " 'I-fromloc.city_name',\n",
              " 'B-depart_time.period_of_day',\n",
              " 'I-airline_name',\n",
              " 'B-depart_date.day_number']"
            ]
          },
          "metadata": {
            "tags": []
          },
          "execution_count": 28
        }
      ]
    },
    {
      "cell_type": "code",
      "metadata": {
        "id": "jH-SnynuDiUB",
        "colab_type": "code",
        "outputId": "c2076021-a9ed-46ab-97a6-29ab1902a78b",
        "colab": {
          "base_uri": "https://localhost:8080/",
          "height": 34
        }
      },
      "source": [
        "chars = target_words\n",
        "nb_chars = len(target_words)\n",
        "nb_chars"
      ],
      "execution_count": 0,
      "outputs": [
        {
          "output_type": "execute_result",
          "data": {
            "text/plain": [
              "123"
            ]
          },
          "metadata": {
            "tags": []
          },
          "execution_count": 29
        }
      ]
    },
    {
      "cell_type": "code",
      "metadata": {
        "id": "M1sDtT76DukE",
        "colab_type": "code",
        "colab": {}
      },
      "source": [
        "target_word_to_int = {word: i for i, word in enumerate(target_words, 1)}\n",
        "target_int_to_word = {i: word for i, word in enumerate(target_words, 1)}"
      ],
      "execution_count": 0,
      "outputs": []
    },
    {
      "cell_type": "code",
      "metadata": {
        "id": "AmxRTdtqDvpG",
        "colab_type": "code",
        "colab": {}
      },
      "source": [
        "mapped_targets = []\n",
        "for review in final_targets:\n",
        "    mapped_targets.append([target_word_to_int[word] for word in review.split()])"
      ],
      "execution_count": 0,
      "outputs": []
    },
    {
      "cell_type": "code",
      "metadata": {
        "id": "gTRV8aXjDx-S",
        "colab_type": "code",
        "outputId": "ac92e9c6-132a-4e2a-d64f-becd46fbc0fc",
        "colab": {
          "base_uri": "https://localhost:8080/",
          "height": 34
        }
      },
      "source": [
        "len(target_word_to_int)"
      ],
      "execution_count": 0,
      "outputs": [
        {
          "output_type": "execute_result",
          "data": {
            "text/plain": [
              "123"
            ]
          },
          "metadata": {
            "tags": []
          },
          "execution_count": 32
        }
      ]
    },
    {
      "cell_type": "code",
      "metadata": {
        "id": "hi3cop1cD0nq",
        "colab_type": "code",
        "outputId": "30772eb1-c8bb-4a09-c47f-36c64c383f16",
        "colab": {
          "base_uri": "https://localhost:8080/",
          "height": 34
        }
      },
      "source": [
        "from keras.preprocessing.sequence import pad_sequences\n",
        "y = pad_sequences(maxlen=124, sequences=mapped_targets, padding=\"post\", value=0)"
      ],
      "execution_count": 0,
      "outputs": [
        {
          "output_type": "stream",
          "text": [
            "Using TensorFlow backend.\n"
          ],
          "name": "stderr"
        }
      ]
    },
    {
      "cell_type": "code",
      "metadata": {
        "id": "L1US3h57D6yp",
        "colab_type": "code",
        "colab": {}
      },
      "source": [
        "from keras.utils import to_categorical\n",
        "y2 = [to_categorical(i, num_classes=len(target_word_to_int)+1) for i in y]"
      ],
      "execution_count": 0,
      "outputs": []
    },
    {
      "cell_type": "code",
      "metadata": {
        "id": "FDTd7AqbD-Ic",
        "colab_type": "code",
        "colab": {}
      },
      "source": [
        "y3 = np.array(y2)"
      ],
      "execution_count": 0,
      "outputs": []
    },
    {
      "cell_type": "code",
      "metadata": {
        "id": "Vv0Wz7jfAZJ4",
        "colab_type": "code",
        "outputId": "9c601945-d323-4841-873f-33241d434336",
        "colab": {
          "base_uri": "https://localhost:8080/",
          "height": 34
        }
      },
      "source": [
        "length_sent = []\n",
        "for i in range(len(mapped_reviews)):\n",
        "  a = mapped_reviews[i]\n",
        "  b = len(a)\n",
        "  length_sent.append(b)\n",
        "np.max(length_sent)"
      ],
      "execution_count": 0,
      "outputs": [
        {
          "output_type": "execute_result",
          "data": {
            "text/plain": [
              "48"
            ]
          },
          "metadata": {
            "tags": []
          },
          "execution_count": 36
        }
      ]
    },
    {
      "cell_type": "code",
      "metadata": {
        "id": "flRAUi3OEDaA",
        "colab_type": "code",
        "colab": {}
      },
      "source": [
        "from keras.preprocessing.sequence import pad_sequences\n",
        "X = pad_sequences(maxlen=50, sequences=mapped_reviews, padding=\"post\", value=0)\n",
        "Y = pad_sequences(maxlen=50, sequences=mapped_targets, padding=\"post\", value=0)\n"
      ],
      "execution_count": 0,
      "outputs": []
    },
    {
      "cell_type": "code",
      "metadata": {
        "id": "R1dfWSW6CMDM",
        "colab_type": "code",
        "colab": {}
      },
      "source": [
        "from keras.utils import to_categorical\n",
        "y2 = [to_categorical(i, num_classes=124) for i in Y]"
      ],
      "execution_count": 0,
      "outputs": []
    },
    {
      "cell_type": "code",
      "metadata": {
        "id": "4cvmZgz7CQfj",
        "colab_type": "code",
        "colab": {}
      },
      "source": [
        "y3 = np.array(y2)"
      ],
      "execution_count": 0,
      "outputs": []
    },
    {
      "cell_type": "code",
      "metadata": {
        "id": "AZOYq6FuEF4D",
        "colab_type": "code",
        "colab": {}
      },
      "source": [
        "from sklearn.model_selection import train_test_split\n",
        "X_train, X_test, y_train, y_test = train_test_split(X,y3, test_size=0.30,random_state=10)"
      ],
      "execution_count": 0,
      "outputs": []
    },
    {
      "cell_type": "code",
      "metadata": {
        "id": "57uKmUEKBHb_",
        "colab_type": "code",
        "outputId": "a3bf4988-2e58-4855-b529-dce3bda367a3",
        "colab": {
          "base_uri": "https://localhost:8080/",
          "height": 34
        }
      },
      "source": [
        "print(X.shape,y3.shape)"
      ],
      "execution_count": 0,
      "outputs": [
        {
          "output_type": "stream",
          "text": [
            "(4978, 50) (4978, 50, 124)\n"
          ],
          "name": "stdout"
        }
      ]
    },
    {
      "cell_type": "code",
      "metadata": {
        "id": "hgeptYfwEHY6",
        "colab_type": "code",
        "colab": {}
      },
      "source": [
        "from keras.models import Model, Input\n",
        "from keras.layers import LSTM, Embedding, Dense, TimeDistributed, Dropout, Bidirectional"
      ],
      "execution_count": 0,
      "outputs": []
    },
    {
      "cell_type": "code",
      "metadata": {
        "id": "a8Siq0_9EJJ_",
        "colab_type": "code",
        "outputId": "2bc653fd-bb3a-406f-e099-e8aedbf7cac6",
        "colab": {
          "base_uri": "https://localhost:8080/",
          "height": 204
        }
      },
      "source": [
        "input = Input(shape=(50,))\n",
        "model = Embedding(input_dim=891, output_dim=32, input_length=50)(input)\n",
        "model = Dropout(0.1)(model)\n",
        "model = Bidirectional(LSTM(units=100, return_sequences=True, recurrent_dropout=0.1))(model)\n",
        "out = TimeDistributed(Dense(124, activation=\"softmax\"))(model)  # softmax output layer"
      ],
      "execution_count": 0,
      "outputs": [
        {
          "output_type": "stream",
          "text": [
            "WARNING:tensorflow:From /usr/local/lib/python3.6/dist-packages/keras/backend/tensorflow_backend.py:66: The name tf.get_default_graph is deprecated. Please use tf.compat.v1.get_default_graph instead.\n",
            "\n",
            "WARNING:tensorflow:From /usr/local/lib/python3.6/dist-packages/keras/backend/tensorflow_backend.py:541: The name tf.placeholder is deprecated. Please use tf.compat.v1.placeholder instead.\n",
            "\n",
            "WARNING:tensorflow:From /usr/local/lib/python3.6/dist-packages/keras/backend/tensorflow_backend.py:4432: The name tf.random_uniform is deprecated. Please use tf.random.uniform instead.\n",
            "\n",
            "WARNING:tensorflow:From /usr/local/lib/python3.6/dist-packages/keras/backend/tensorflow_backend.py:148: The name tf.placeholder_with_default is deprecated. Please use tf.compat.v1.placeholder_with_default instead.\n",
            "\n",
            "WARNING:tensorflow:From /usr/local/lib/python3.6/dist-packages/keras/backend/tensorflow_backend.py:3733: calling dropout (from tensorflow.python.ops.nn_ops) with keep_prob is deprecated and will be removed in a future version.\n",
            "Instructions for updating:\n",
            "Please use `rate` instead of `keep_prob`. Rate should be set to `rate = 1 - keep_prob`.\n"
          ],
          "name": "stdout"
        }
      ]
    },
    {
      "cell_type": "code",
      "metadata": {
        "id": "Au-pZtTqELb2",
        "colab_type": "code",
        "outputId": "b316ac3a-4d9c-4798-a662-92aec912b8a5",
        "colab": {
          "base_uri": "https://localhost:8080/",
          "height": 323
        }
      },
      "source": [
        "model = Model(input, out)\n",
        "model.summary()"
      ],
      "execution_count": 0,
      "outputs": [
        {
          "output_type": "stream",
          "text": [
            "Model: \"model_1\"\n",
            "_________________________________________________________________\n",
            "Layer (type)                 Output Shape              Param #   \n",
            "=================================================================\n",
            "input_1 (InputLayer)         (None, 50)                0         \n",
            "_________________________________________________________________\n",
            "embedding_1 (Embedding)      (None, 50, 32)            28512     \n",
            "_________________________________________________________________\n",
            "dropout_1 (Dropout)          (None, 50, 32)            0         \n",
            "_________________________________________________________________\n",
            "bidirectional_1 (Bidirection (None, 50, 200)           106400    \n",
            "_________________________________________________________________\n",
            "time_distributed_1 (TimeDist (None, 50, 124)           24924     \n",
            "=================================================================\n",
            "Total params: 159,836\n",
            "Trainable params: 159,836\n",
            "Non-trainable params: 0\n",
            "_________________________________________________________________\n"
          ],
          "name": "stdout"
        }
      ]
    },
    {
      "cell_type": "code",
      "metadata": {
        "id": "siyf2QZ9ENa8",
        "colab_type": "code",
        "outputId": "786f6f05-66d0-4c53-d2a4-d6d1751be835",
        "colab": {
          "base_uri": "https://localhost:8080/",
          "height": 85
        }
      },
      "source": [
        "model.compile(optimizer=\"adam\", loss=\"categorical_crossentropy\", metrics=[\"accuracy\"])"
      ],
      "execution_count": 0,
      "outputs": [
        {
          "output_type": "stream",
          "text": [
            "WARNING:tensorflow:From /usr/local/lib/python3.6/dist-packages/keras/optimizers.py:793: The name tf.train.Optimizer is deprecated. Please use tf.compat.v1.train.Optimizer instead.\n",
            "\n",
            "WARNING:tensorflow:From /usr/local/lib/python3.6/dist-packages/keras/backend/tensorflow_backend.py:3576: The name tf.log is deprecated. Please use tf.math.log instead.\n",
            "\n"
          ],
          "name": "stdout"
        }
      ]
    },
    {
      "cell_type": "code",
      "metadata": {
        "id": "N-TFvPgXEO69",
        "colab_type": "code",
        "outputId": "06028cc7-73cc-4812-a915-71e37c8c4b33",
        "colab": {
          "base_uri": "https://localhost:8080/",
          "height": 255
        }
      },
      "source": [
        "history = model.fit(X_train,y_train, batch_size=32, epochs=5, validation_data = (X_test,y_test), verbose=1)"
      ],
      "execution_count": 0,
      "outputs": [
        {
          "output_type": "stream",
          "text": [
            "WARNING:tensorflow:From /usr/local/lib/python3.6/dist-packages/tensorflow/python/ops/math_grad.py:1250: add_dispatch_support.<locals>.wrapper (from tensorflow.python.ops.array_ops) is deprecated and will be removed in a future version.\n",
            "Instructions for updating:\n",
            "Use tf.where in 2.0, which has the same broadcast rule as np.where\n",
            "Train on 3484 samples, validate on 1494 samples\n",
            "Epoch 1/5\n",
            "3484/3484 [==============================] - 35s 10ms/step - loss: 1.1849 - acc: 0.8304 - val_loss: 0.5040 - val_acc: 0.8987\n",
            "Epoch 2/5\n",
            "3484/3484 [==============================] - 29s 8ms/step - loss: 0.4703 - acc: 0.9045 - val_loss: 0.4349 - val_acc: 0.9122\n",
            "Epoch 3/5\n",
            "3484/3484 [==============================] - 29s 8ms/step - loss: 0.4099 - acc: 0.9140 - val_loss: 0.3671 - val_acc: 0.9182\n",
            "Epoch 4/5\n",
            "3484/3484 [==============================] - 29s 8ms/step - loss: 0.3144 - acc: 0.9310 - val_loss: 0.2562 - val_acc: 0.9475\n",
            "Epoch 5/5\n",
            "3484/3484 [==============================] - 29s 8ms/step - loss: 0.2243 - acc: 0.9520 - val_loss: 0.1943 - val_acc: 0.9569\n"
          ],
          "name": "stdout"
        }
      ]
    },
    {
      "cell_type": "code",
      "metadata": {
        "id": "3zk518gLsB3b",
        "colab_type": "code",
        "outputId": "16d62469-47f5-4431-8c22-4b0d4669223d",
        "colab": {
          "base_uri": "https://localhost:8080/",
          "height": 388
        }
      },
      "source": [
        "import matplotlib.ticker as mtick\n",
        "import matplotlib.pyplot as plt\n",
        "%matplotlib inline\n",
        "history_dict = history.history\n",
        "loss_values = history_dict['loss']\n",
        "val_loss_values = history_dict['val_loss']\n",
        "acc_values = history_dict['acc']\n",
        "val_acc_values = history_dict['val_acc']\n",
        "epochs = range(1, len(val_loss_values) + 1)\n",
        "plt.subplot(211)\n",
        "plt.plot(epochs, history.history['loss'], 'bo', label='Training loss')\n",
        "plt.plot(epochs, val_loss_values, 'r', label='Test loss')\n",
        "plt.title('Training and test loss')\n",
        "plt.xlabel('Epochs')\n",
        "plt.ylabel('Loss')\n",
        "plt.legend()\n",
        "plt.grid('off')\n",
        "plt.show()\n",
        "plt.subplot(212)\n",
        "plt.plot(epochs, history.history['acc'], 'bo', label='Training accuracy')\n",
        "plt.plot(epochs, val_acc_values, 'r', label='Test accuracy')\n",
        "plt.title('Training and test accuracy')\n",
        "plt.xlabel('Epochs')\n",
        "plt.ylabel('Accuracy')\n",
        "plt.gca().set_yticklabels(['{:.0f}%'.format(x*100) for x in plt.gca().get_yticks()]) \n",
        "plt.legend()\n",
        "plt.grid('off')\n",
        "plt.show()"
      ],
      "execution_count": 0,
      "outputs": [
        {
          "output_type": "stream",
          "text": [
            "/usr/local/lib/python3.6/dist-packages/matplotlib/cbook/__init__.py:424: MatplotlibDeprecationWarning: \n",
            "Passing one of 'on', 'true', 'off', 'false' as a boolean is deprecated; use an actual boolean (True/False) instead.\n",
            "  warn_deprecated(\"2.2\", \"Passing one of 'on', 'true', 'off', 'false' as a \"\n"
          ],
          "name": "stderr"
        },
        {
          "output_type": "display_data",
          "data": {
            "image/png": "[encoded data removed]",
            "text/plain": [
              "<Figure size 432x288 with 1 Axes>"
            ]
          },
          "metadata": {
            "tags": []
          }
        },
        {
          "output_type": "display_data",
          "data": {
            "image/png": "[encoded data removed]",
            "text/plain": [
              "<Figure size 432x288 with 1 Axes>"
            ]
          },
          "metadata": {
            "tags": []
          }
        }
      ]
    },
    {
      "cell_type": "code",
      "metadata": {
        "id": "JwyZOnUV1P2b",
        "colab_type": "code",
        "colab": {}
      },
      "source": [
        ""
      ],
      "execution_count": 0,
      "outputs": []
    },
    {
      "cell_type": "markdown",
      "metadata": {
        "id": "uZJb_4aj4jUh",
        "colab_type": "text"
      },
      "source": [
        "# Intent extraction"
      ]
    },
    {
      "cell_type": "code",
      "metadata": {
        "id": "4ODBAzQd1P6x",
        "colab_type": "code",
        "colab": {}
      },
      "source": [
        "from collections import Counter\n",
        "counts = Counter()\n",
        "for i,sentence in enumerate(final_docs):\n",
        "     counts.update(sentence.split())\n",
        "intent_words = sorted(counts, key=counts.get, reverse=True)\n",
        "chars = intent_words\n",
        "nb_chars = len(intent_words)\n",
        "intent_word_to_int = {word: i for i, word in enumerate(intent_words, 1)}\n",
        "intent_int_to_word = {i: word for i, word in enumerate(intent_words, 1)}\n",
        "mapped_docs = []\n",
        "for review in final_docs:\n",
        "     mapped_docs.append([intent_word_to_int[word] for word in review.split()])"
      ],
      "execution_count": 0,
      "outputs": []
    },
    {
      "cell_type": "code",
      "metadata": {
        "id": "y3zXNKaQ1QdX",
        "colab_type": "code",
        "colab": {}
      },
      "source": [
        "from keras.utils import to_categorical\n",
        "doc2 = [to_categorical(i[0], num_classes=23) for i in mapped_docs]\n",
        "doc3 = np.array(doc2)"
      ],
      "execution_count": 0,
      "outputs": []
    },
    {
      "cell_type": "code",
      "metadata": {
        "id": "qiGwRUwz1Qi1",
        "colab_type": "code",
        "colab": {}
      },
      "source": [
        "from sklearn.model_selection import train_test_split\n",
        "X_train, X_test, y_train, y_test = train_test_split(X,doc3, test_size=0.30,random_state=10)"
      ],
      "execution_count": 0,
      "outputs": []
    },
    {
      "cell_type": "code",
      "metadata": {
        "id": "Z9vgZ7iv1Vzd",
        "colab_type": "code",
        "colab": {}
      },
      "source": [
        "input = Input(shape=(50,))\n",
        "model2 = Embedding(input_dim=891, output_dim=32, input_length=50)(input)\n",
        "model2 = Dropout(0.1)(model2)\n",
        "model2 = Bidirectional(LSTM(units=100))(model2)\n",
        "out = (Dense(23, activation=\"softmax\"))(model2)\n",
        "model2 = Model(input, out)"
      ],
      "execution_count": 0,
      "outputs": []
    },
    {
      "cell_type": "code",
      "metadata": {
        "id": "Ci0LOVVa1V5O",
        "colab_type": "code",
        "colab": {}
      },
      "source": [
        "model2.compile(optimizer=\"adam\", loss=\"categorical_crossentropy\", metrics=[\"accuracy\"])"
      ],
      "execution_count": 0,
      "outputs": []
    },
    {
      "cell_type": "code",
      "metadata": {
        "id": "6o211kXA1V3K",
        "colab_type": "code",
        "outputId": "a73c401e-01a8-4720-ec0e-19ac6c92627b",
        "colab": {
          "base_uri": "https://localhost:8080/",
          "height": 221
        }
      },
      "source": [
        "model2.fit(X_train,y_train, batch_size=32, epochs=5, validation_data = (X_test,y_test), verbose=1)"
      ],
      "execution_count": 0,
      "outputs": [
        {
          "output_type": "stream",
          "text": [
            "Train on 3484 samples, validate on 1494 samples\n",
            "Epoch 1/5\n",
            "3484/3484 [==============================] - 29s 8ms/step - loss: 1.3140 - acc: 0.7388 - val_loss: 1.0111 - val_acc: 0.7149\n",
            "Epoch 2/5\n",
            "3484/3484 [==============================] - 27s 8ms/step - loss: 0.7280 - acc: 0.7956 - val_loss: 0.6613 - val_acc: 0.8293\n",
            "Epoch 3/5\n",
            "3484/3484 [==============================] - 27s 8ms/step - loss: 0.5101 - acc: 0.8559 - val_loss: 0.5063 - val_acc: 0.8722\n",
            "Epoch 4/5\n",
            "3484/3484 [==============================] - 27s 8ms/step - loss: 0.3903 - acc: 0.8958 - val_loss: 0.4834 - val_acc: 0.8775\n",
            "Epoch 5/5\n",
            "3484/3484 [==============================] - 27s 8ms/step - loss: 0.3125 - acc: 0.9182 - val_loss: 0.3801 - val_acc: 0.9070\n"
          ],
          "name": "stdout"
        },
        {
          "output_type": "execute_result",
          "data": {
            "text/plain": [
              "<keras.callbacks.History at 0x7fdc773e6240>"
            ]
          },
          "metadata": {
            "tags": []
          },
          "execution_count": 53
        }
      ]
    },
    {
      "cell_type": "code",
      "metadata": {
        "id": "dI7zm8Hy1dSm",
        "colab_type": "code",
        "outputId": "68df9103-9ef8-4d72-9a04-f206fef8edcc",
        "colab": {
          "base_uri": "https://localhost:8080/",
          "height": 388
        }
      },
      "source": [
        "import matplotlib.ticker as mtick\n",
        "import matplotlib.pyplot as plt\n",
        "%matplotlib inline\n",
        "history_dict = history.history\n",
        "loss_values = history_dict['loss']\n",
        "val_loss_values = history_dict['val_loss']\n",
        "acc_values = history_dict['acc']\n",
        "val_acc_values = history_dict['val_acc']\n",
        "epochs = range(1, len(val_loss_values) + 1)\n",
        "plt.subplot(211)\n",
        "plt.plot(epochs, history.history['loss'], 'bo', label='Training loss')\n",
        "plt.plot(epochs, val_loss_values, 'r', label='Test loss')\n",
        "plt.title('Training and test loss')\n",
        "plt.xlabel('Epochs')\n",
        "plt.ylabel('Loss')\n",
        "plt.legend()\n",
        "plt.grid('off')\n",
        "plt.show()\n",
        "plt.subplot(212)\n",
        "plt.plot(epochs, history.history['acc'], 'bo', label='Training accuracy')\n",
        "plt.plot(epochs, val_acc_values, 'r', label='Test accuracy')\n",
        "plt.title('Training and test accuracy')\n",
        "plt.xlabel('Epochs')\n",
        "plt.ylabel('Accuracy')\n",
        "plt.gca().set_yticklabels(['{:.0f}%'.format(x*100) for x in plt.gca().get_yticks()]) \n",
        "plt.legend()\n",
        "plt.grid('off')\n",
        "plt.show()"
      ],
      "execution_count": 0,
      "outputs": [
        {
          "output_type": "stream",
          "text": [
            "/usr/local/lib/python3.6/dist-packages/matplotlib/cbook/__init__.py:424: MatplotlibDeprecationWarning: \n",
            "Passing one of 'on', 'true', 'off', 'false' as a boolean is deprecated; use an actual boolean (True/False) instead.\n",
            "  warn_deprecated(\"2.2\", \"Passing one of 'on', 'true', 'off', 'false' as a \"\n"
          ],
          "name": "stderr"
        },
        {
          "output_type": "display_data",
          "data": {
            "image/png": "[encoded data removed]",
            "text/plain": [
              "<Figure size 432x288 with 1 Axes>"
            ]
          },
          "metadata": {
            "tags": []
          }
        },
        {
          "output_type": "display_data",
          "data": {
            "image/png": "[encoded data removed]",
            "text/plain": [
              "<Figure size 432x288 with 1 Axes>"
            ]
          },
          "metadata": {
            "tags": []
          }
        }
      ]
    },
    {
      "cell_type": "code",
      "metadata": {
        "id": "KY1TJEYO1dWL",
        "colab_type": "code",
        "colab": {}
      },
      "source": [
        ""
      ],
      "execution_count": 0,
      "outputs": []
    },
    {
      "cell_type": "code",
      "metadata": {
        "id": "bo38_AKs1Qg5",
        "colab_type": "code",
        "colab": {}
      },
      "source": [
        ""
      ],
      "execution_count": 0,
      "outputs": []
    },
    {
      "cell_type": "code",
      "metadata": {
        "id": "7zPKUarS25BP",
        "colab_type": "code",
        "colab": {}
      },
      "source": [
        "def preprocessing(text):\n",
        "  text2 = text.split()\n",
        "  a=[]\n",
        "  for i in range(len(text2)):\n",
        "    a.append(sentence_word_to_int[text2[i]])\n",
        "  return a"
      ],
      "execution_count": 0,
      "outputs": []
    },
    {
      "cell_type": "code",
      "metadata": {
        "id": "LsTKhiKIFeaN",
        "colab_type": "code",
        "colab": {}
      },
      "source": [
        "text = \"BOS i would fly from boston to dallas EOS\""
      ],
      "execution_count": 0,
      "outputs": []
    },
    {
      "cell_type": "code",
      "metadata": {
        "id": "zvRRXiF736Tq",
        "colab_type": "code",
        "colab": {}
      },
      "source": [
        "indexed_text = preprocessing(text)"
      ],
      "execution_count": 0,
      "outputs": []
    },
    {
      "cell_type": "code",
      "metadata": {
        "id": "7SgaLc70vWXP",
        "colab_type": "code",
        "outputId": "cb8e3f4a-1002-455c-b429-27c6605b0c0f",
        "colab": {
          "base_uri": "https://localhost:8080/",
          "height": 34
        }
      },
      "source": [
        "indexed_text"
      ],
      "execution_count": 0,
      "outputs": [
        {
          "output_type": "execute_result",
          "data": {
            "text/plain": [
              "[1, 14, 41, 40, 4, 11, 3, 23, 2]"
            ]
          },
          "metadata": {
            "tags": []
          },
          "execution_count": 58
        }
      ]
    },
    {
      "cell_type": "code",
      "metadata": {
        "id": "XOblSvxU5zy0",
        "colab_type": "code",
        "colab": {}
      },
      "source": [
        "padded_text=np.zeros(50)\n",
        "padded_text[:len(indexed_text)]=indexed_text\n",
        "padded_text=padded_text.reshape(1,50)"
      ],
      "execution_count": 0,
      "outputs": []
    },
    {
      "cell_type": "code",
      "metadata": {
        "id": "05UsPMLszLm-",
        "colab_type": "code",
        "outputId": "18d35f51-97ee-4141-f19f-9c3fc3256354",
        "colab": {
          "base_uri": "https://localhost:8080/",
          "height": 85
        }
      },
      "source": [
        "padded_text"
      ],
      "execution_count": 0,
      "outputs": [
        {
          "output_type": "execute_result",
          "data": {
            "text/plain": [
              "array([[ 1., 14., 41., 40.,  4., 11.,  3., 23.,  2.,  0.,  0.,  0.,  0.,\n",
              "         0.,  0.,  0.,  0.,  0.,  0.,  0.,  0.,  0.,  0.,  0.,  0.,  0.,\n",
              "         0.,  0.,  0.,  0.,  0.,  0.,  0.,  0.,  0.,  0.,  0.,  0.,  0.,\n",
              "         0.,  0.,  0.,  0.,  0.,  0.,  0.,  0.,  0.,  0.,  0.]])"
            ]
          },
          "metadata": {
            "tags": []
          },
          "execution_count": 60
        }
      ]
    },
    {
      "cell_type": "code",
      "metadata": {
        "id": "yyFw4_Z036fV",
        "colab_type": "code",
        "colab": {}
      },
      "source": [
        "pred_entities = np.argmax(model.predict(padded_text),axis=2)"
      ],
      "execution_count": 0,
      "outputs": []
    },
    {
      "cell_type": "code",
      "metadata": {
        "id": "BOFZq2TxvbI_",
        "colab_type": "code",
        "outputId": "85447b4e-bae7-442b-c08b-8fc15b81058b",
        "colab": {
          "base_uri": "https://localhost:8080/",
          "height": 68
        }
      },
      "source": [
        "pred_entities"
      ],
      "execution_count": 0,
      "outputs": [
        {
          "output_type": "execute_result",
          "data": {
            "text/plain": [
              "array([[1, 1, 1, 1, 1, 3, 1, 2, 1, 0, 0, 0, 0, 0, 0, 0, 0, 0, 0, 0, 0, 0,\n",
              "        0, 0, 0, 0, 0, 0, 0, 0, 0, 0, 0, 0, 0, 0, 0, 0, 0, 0, 0, 0, 0, 0,\n",
              "        0, 0, 0, 0, 0, 0]])"
            ]
          },
          "metadata": {
            "tags": []
          },
          "execution_count": 62
        }
      ]
    },
    {
      "cell_type": "code",
      "metadata": {
        "id": "JD4IdyH-1ak5",
        "colab_type": "code",
        "outputId": "051db14e-baba-42ff-9c3c-e4cdb2425830",
        "colab": {
          "base_uri": "https://localhost:8080/",
          "height": 51
        }
      },
      "source": [
        "for i in range(len(pred_entities[0])):\n",
        "  if pred_entities[0][i]>1:\n",
        "    print('word: ',text.split()[i], 'entity: ',target_int_to_word[pred_entities[0][i]])"
      ],
      "execution_count": 0,
      "outputs": [
        {
          "output_type": "stream",
          "text": [
            "word:  boston entity:  B-fromloc.city_name\n",
            "word:  dallas entity:  B-toloc.city_name\n"
          ],
          "name": "stdout"
        }
      ]
    },
    {
      "cell_type": "code",
      "metadata": {
        "id": "vhcAHq_z36YA",
        "colab_type": "code",
        "outputId": "22cbf638-2c07-4912-e90f-5bc4fade0855",
        "colab": {
          "base_uri": "https://localhost:8080/",
          "height": 34
        }
      },
      "source": [
        "target_int_to_word[3]"
      ],
      "execution_count": 0,
      "outputs": [
        {
          "output_type": "execute_result",
          "data": {
            "text/plain": [
              "'B-fromloc.city_name'"
            ]
          },
          "metadata": {
            "tags": []
          },
          "execution_count": 64
        }
      ]
    },
    {
      "cell_type": "code",
      "metadata": {
        "id": "Ip6LYI3cz_-_",
        "colab_type": "code",
        "colab": {}
      },
      "source": [
        "pred_index_intent = np.argmax(model2.predict(padded_text),axis=1)"
      ],
      "execution_count": 0,
      "outputs": []
    },
    {
      "cell_type": "code",
      "metadata": {
        "id": "uYm4ODc80Gp2",
        "colab_type": "code",
        "outputId": "dacf54a6-4c63-409a-df7f-7638e434252b",
        "colab": {
          "base_uri": "https://localhost:8080/",
          "height": 34
        }
      },
      "source": [
        "intent_int_to_word[pred_index_intent[0]]"
      ],
      "execution_count": 0,
      "outputs": [
        {
          "output_type": "execute_result",
          "data": {
            "text/plain": [
              "'flight'"
            ]
          },
          "metadata": {
            "tags": []
          },
          "execution_count": 66
        }
      ]
    },
    {
      "cell_type": "code",
      "metadata": {
        "id": "1ARhFWig4eBw",
        "colab_type": "code",
        "colab": {}
      },
      "source": [
        ""
      ],
      "execution_count": 0,
      "outputs": []
    }
  ]
}