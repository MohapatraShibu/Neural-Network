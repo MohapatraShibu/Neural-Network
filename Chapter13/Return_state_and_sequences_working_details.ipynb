{
  "nbformat": 4,
  "nbformat_minor": 0,
  "metadata": {
    "colab": {
      "name": "Return_state_and_sequences_working_details.ipynb",
      "provenance": [],
      "collapsed_sections": []
    },
    "kernelspec": {
      "name": "python3",
      "display_name": "Python 3"
    },
    "accelerator": "GPU"
  },
  "cells": [
    {
      "cell_type": "markdown",
      "metadata": {
        "id": "MPaSd85pbzhT",
        "colab_type": "text"
      },
      "source": [
        "https://colab.research.google.com/drive/1ENG9UZjOFAB6KDp78oGMfUcFd_o6bHaJ"
      ]
    },
    {
      "cell_type": "code",
      "metadata": {
        "id": "lnPfT55rwNZI",
        "colab_type": "code",
        "outputId": "8e1322ce-9415-476e-d1a7-df208612181d",
        "colab": {
          "base_uri": "https://localhost:8080/",
          "height": 34
        }
      },
      "source": [
        "from keras.preprocessing.text import one_hot\n",
        "from keras.preprocessing.sequence import pad_sequences\n",
        "from keras.models import Sequential\n",
        "from keras.layers import Dense\n",
        "from keras.layers import Flatten\n",
        "from keras.layers.recurrent import SimpleRNN\n",
        "from keras.layers.embeddings import Embedding\n",
        "from keras.layers import LSTM\n",
        "import numpy as np\n",
        "from keras.utils import to_categorical"
      ],
      "execution_count": 0,
      "outputs": [
        {
          "output_type": "stream",
          "text": [
            "Using TensorFlow backend.\n"
          ],
          "name": "stderr"
        }
      ]
    },
    {
      "cell_type": "code",
      "metadata": {
        "id": "Xy-jRML97efe",
        "colab_type": "code",
        "colab": {}
      },
      "source": [
        "from keras.layers import RepeatVector"
      ],
      "execution_count": 0,
      "outputs": []
    },
    {
      "cell_type": "code",
      "metadata": {
        "id": "ZtTg9wMDNXok",
        "colab_type": "code",
        "colab": {}
      },
      "source": [
        "input_data = np.array([[1,2],[3,4]])\n",
        "output_data = np.array([[3,4],[5,6]])"
      ],
      "execution_count": 0,
      "outputs": []
    },
    {
      "cell_type": "code",
      "metadata": {
        "id": "hGiYT9ws3MfY",
        "colab_type": "code",
        "outputId": "9e12804d-03fc-40a4-849d-d291a793bb4b",
        "colab": {
          "base_uri": "https://localhost:8080/",
          "height": 357
        }
      },
      "source": [
        "from keras.models import Model\n",
        "from keras.layers import Input\n",
        "from keras.layers import LSTM\n",
        "from numpy import array\n",
        "# define model\n",
        "inputs1 = Input(shape=(2,1))\n",
        "lstm1 = LSTM(1, activation = 'tanh', return_sequences=False,recurrent_initializer='Zeros',recurrent_activation='sigmoid')(inputs1)\n",
        "#repvec = RepeatVector(2) (lstm1)\n",
        "out= Dense(2, activation='linear')(lstm1)\n",
        "#repvec = RepeatVector(2) (state_h)\n",
        "#model = Model(inputs=inputs1, outputs=[lstm1, state_h, state_c])\n",
        "model = Model(inputs=inputs1, outputs=out)\n",
        "model.summary()"
      ],
      "execution_count": 0,
      "outputs": [
        {
          "output_type": "stream",
          "text": [
            "WARNING:tensorflow:From /usr/local/lib/python3.6/dist-packages/keras/backend/tensorflow_backend.py:66: The name tf.get_default_graph is deprecated. Please use tf.compat.v1.get_default_graph instead.\n",
            "\n",
            "WARNING:tensorflow:From /usr/local/lib/python3.6/dist-packages/keras/backend/tensorflow_backend.py:541: The name tf.placeholder is deprecated. Please use tf.compat.v1.placeholder instead.\n",
            "\n",
            "WARNING:tensorflow:From /usr/local/lib/python3.6/dist-packages/keras/backend/tensorflow_backend.py:4432: The name tf.random_uniform is deprecated. Please use tf.random.uniform instead.\n",
            "\n",
            "Model: \"model_1\"\n",
            "_________________________________________________________________\n",
            "Layer (type)                 Output Shape              Param #   \n",
            "=================================================================\n",
            "input_1 (InputLayer)         (None, 2, 1)              0         \n",
            "_________________________________________________________________\n",
            "lstm_1 (LSTM)                (None, 1)                 12        \n",
            "_________________________________________________________________\n",
            "dense_1 (Dense)              (None, 2)                 4         \n",
            "=================================================================\n",
            "Total params: 16\n",
            "Trainable params: 16\n",
            "Non-trainable params: 0\n",
            "_________________________________________________________________\n"
          ],
          "name": "stdout"
        }
      ]
    },
    {
      "cell_type": "code",
      "metadata": {
        "id": "7RLSZ-QM3d5V",
        "colab_type": "code",
        "colab": {}
      },
      "source": [
        "model.compile(optimizer='adam',loss='mean_squared_error')\n",
        "model.fit(input_data.reshape(2,2,1), output_data,epochs=1000)"
      ],
      "execution_count": 0,
      "outputs": []
    },
    {
      "cell_type": "code",
      "metadata": {
        "id": "QyuuvMCH3t70",
        "colab_type": "code",
        "outputId": "d9494c00-21d6-4cfa-bc57-3192057e31e2",
        "colab": {
          "base_uri": "https://localhost:8080/",
          "height": 34
        }
      },
      "source": [
        "print(model.predict(input_data[0].reshape(1,2,1)))"
      ],
      "execution_count": 0,
      "outputs": [
        {
          "output_type": "stream",
          "text": [
            "[[1.1696435 2.8770094]]\n"
          ],
          "name": "stdout"
        }
      ]
    },
    {
      "cell_type": "code",
      "metadata": {
        "id": "SAsLEGHv4vY0",
        "colab_type": "code",
        "colab": {}
      },
      "source": [
        "input_t0 = 1\n",
        "cell_state0 = 0\n",
        "forget0 = input_t0*model.get_weights()[0][0][1] + model.get_weights()[2][1]\n",
        "forget1 = 1/(1+np.exp(-(forget0)))\n",
        "cell_state1 = forget1 * cell_state0\n",
        "input_t0_1 = input_t0*model.get_weights()[0][0][0] + model.get_weights()[2][0]\n",
        "input_t0_2 = 1/(1+np.exp(-(input_t0_1)))\n",
        "input_t0_cell1 = input_t0*model.get_weights()[0][0][2] + model.get_weights()[2][2]\n",
        "input_t0_cell2 = np.tanh(input_t0_cell1)\n",
        "input_t0_cell3 = input_t0_cell2*input_t0_2\n",
        "input_t0_cell4 = input_t0_cell3 + cell_state1\n",
        "output_t0_1 = input_t0*model.get_weights()[0][0][3] + model.get_weights()[2][3]\n",
        "output_t0_2 = 1/(1+np.exp(-output_t0_1))\n",
        "hidden_layer_1 = np.tanh(input_t0_cell4)*output_t0_2"
      ],
      "execution_count": 0,
      "outputs": []
    },
    {
      "cell_type": "code",
      "metadata": {
        "id": "KRg7fvzw4vc_",
        "colab_type": "code",
        "colab": {}
      },
      "source": [
        "input_t1 = 2\n",
        "cell_state1 = input_t0_cell4\n",
        "forget21 = hidden_layer_1*model.get_weights()[1][0][1] + model.get_weights()[2][1] + input_t1*model.get_weights()[0][0][1]\n",
        "forget_22 = 1/(1+np.exp(-(forget21)))\n",
        "cell_state2 = cell_state1 * forget_22\n",
        "input_t1_1 = input_t1*model.get_weights()[0][0][0] + model.get_weights()[2][0] + hidden_layer_1*model.get_weights()[1][0][0]\n",
        "input_t1_2 = 1/(1+np.exp(-(input_t1_1)))\n",
        "input_t1_cell1 = input_t1*model.get_weights()[0][0][2] + model.get_weights()[2][2]+ hidden_layer_1*model.get_weights()[1][0][2]\n",
        "input_t1_cell2 = np.tanh(input_t1_cell1)\n",
        "input_t1_cell3 = input_t1_cell2*input_t1_2\n",
        "input_t1_cell4 = input_t1_cell3 + cell_state2\n",
        "output_t1_1 = input_t1*model.get_weights()[0][0][3] + model.get_weights()[2][3]+ hidden_layer_1*model.get_weights()[1][0][3]\n",
        "output_t1_2 = 1/(1+np.exp(-output_t1_1))\n",
        "hidden_layer_2 = np.tanh(input_t1_cell4)*output_t1_2\n",
        "final_output = hidden_layer_2 * model.get_weights()[3][0] + model.get_weights()[4]"
      ],
      "execution_count": 0,
      "outputs": []
    },
    {
      "cell_type": "code",
      "metadata": {
        "id": "2JrPDjEw4vhA",
        "colab_type": "code",
        "outputId": "f11b857d-78a5-42db-caf5-16e8b111fd38",
        "colab": {
          "base_uri": "https://localhost:8080/",
          "height": 34
        }
      },
      "source": [
        "final_output"
      ],
      "execution_count": 0,
      "outputs": [
        {
          "output_type": "execute_result",
          "data": {
            "text/plain": [
              "array([1.1696435, 2.8770094], dtype=float32)"
            ]
          },
          "metadata": {
            "tags": []
          },
          "execution_count": 9
        }
      ]
    },
    {
      "cell_type": "code",
      "metadata": {
        "id": "GM-paEjM_Wfj",
        "colab_type": "code",
        "colab": {}
      },
      "source": [
        ""
      ],
      "execution_count": 0,
      "outputs": []
    },
    {
      "cell_type": "code",
      "metadata": {
        "id": "3QQCGtcj_WiS",
        "colab_type": "code",
        "colab": {}
      },
      "source": [
        ""
      ],
      "execution_count": 0,
      "outputs": []
    },
    {
      "cell_type": "code",
      "metadata": {
        "id": "4PwUqE7F_WoG",
        "colab_type": "code",
        "outputId": "691a5957-659c-4314-b303-1a5983bf54fa",
        "colab": {
          "base_uri": "https://localhost:8080/",
          "height": 255
        }
      },
      "source": [
        "from keras.models import Model\n",
        "from keras.layers import Input\n",
        "from keras.layers import LSTM\n",
        "from numpy import array\n",
        "# define model\n",
        "inputs1 = Input(shape=(2,1))\n",
        "lstm1 = LSTM(1, activation = 'tanh', return_sequences=True,recurrent_initializer='Zeros',recurrent_activation='sigmoid')(inputs1)\n",
        "#repvec = RepeatVector(2) (lstm1)\n",
        "out= Dense(1, activation='linear')(lstm1)\n",
        "#repvec = RepeatVector(2) (state_h)\n",
        "#model = Model(inputs=inputs1, outputs=[lstm1, state_h, state_c])\n",
        "model = Model(inputs=inputs1, outputs=out)\n",
        "model.summary()"
      ],
      "execution_count": 0,
      "outputs": [
        {
          "output_type": "stream",
          "text": [
            "Model: \"model_2\"\n",
            "_________________________________________________________________\n",
            "Layer (type)                 Output Shape              Param #   \n",
            "=================================================================\n",
            "input_2 (InputLayer)         (None, 2, 1)              0         \n",
            "_________________________________________________________________\n",
            "lstm_2 (LSTM)                (None, 2, 1)              12        \n",
            "_________________________________________________________________\n",
            "dense_2 (Dense)              (None, 2, 1)              2         \n",
            "=================================================================\n",
            "Total params: 14\n",
            "Trainable params: 14\n",
            "Non-trainable params: 0\n",
            "_________________________________________________________________\n"
          ],
          "name": "stdout"
        }
      ]
    },
    {
      "cell_type": "code",
      "metadata": {
        "id": "qX9d_DnQ_Wra",
        "colab_type": "code",
        "colab": {}
      },
      "source": [
        "model.compile(optimizer='adam',loss='mean_squared_error')\n",
        "model.fit(input_data.reshape(2,2,1), output_data.reshape(2,2,1),epochs=1000)"
      ],
      "execution_count": 0,
      "outputs": []
    },
    {
      "cell_type": "code",
      "metadata": {
        "id": "ViElszYK_WmD",
        "colab_type": "code",
        "outputId": "e5ce85d4-3a02-4979-8348-0ef547a8017a",
        "colab": {
          "base_uri": "https://localhost:8080/",
          "height": 51
        }
      },
      "source": [
        "print(model.predict(input_data[0].reshape(1,2,1)))"
      ],
      "execution_count": 0,
      "outputs": [
        {
          "output_type": "stream",
          "text": [
            "[[[2.194375]\n",
            "  [3.097549]]]\n"
          ],
          "name": "stdout"
        }
      ]
    },
    {
      "cell_type": "code",
      "metadata": {
        "id": "pq3u0pTC5Omb",
        "colab_type": "code",
        "outputId": "6bbc5c2c-1152-4d05-f600-a4351fa505db",
        "colab": {
          "base_uri": "https://localhost:8080/",
          "height": 34
        }
      },
      "source": [
        "input_t0 = 1\n",
        "cell_state0 = 0\n",
        "forget0 = input_t0*model.get_weights()[0][0][1] + model.get_weights()[2][1]\n",
        "forget1 = 1/(1+np.exp(-(forget0)))\n",
        "cell_state1 = forget1 * cell_state0\n",
        "input_t0_1 = input_t0*model.get_weights()[0][0][0] + model.get_weights()[2][0]\n",
        "input_t0_2 = 1/(1+np.exp(-(input_t0_1)))\n",
        "input_t0_cell1 = input_t0*model.get_weights()[0][0][2] + model.get_weights()[2][2]\n",
        "input_t0_cell2 = np.tanh(input_t0_cell1)\n",
        "input_t0_cell3 = input_t0_cell2*input_t0_2\n",
        "input_t0_cell4 = input_t0_cell3 + cell_state1\n",
        "output_t0_1 = input_t0*model.get_weights()[0][0][3] + model.get_weights()[2][3]\n",
        "output_t0_2 = 1/(1+np.exp(-output_t0_1))\n",
        "hidden_layer_1 = np.tanh(input_t0_cell4)*output_t0_2\n",
        "final_output_1 = hidden_layer_1 * model.get_weights()[3][0] + model.get_weights()[4]\n",
        "final_output_1"
      ],
      "execution_count": 0,
      "outputs": [
        {
          "output_type": "execute_result",
          "data": {
            "text/plain": [
              "array([2.194375], dtype=float32)"
            ]
          },
          "metadata": {
            "tags": []
          },
          "execution_count": 13
        }
      ]
    },
    {
      "cell_type": "code",
      "metadata": {
        "id": "cktGbG4S5Ose",
        "colab_type": "code",
        "outputId": "568d6f94-6970-43be-e7d6-3fb9d74c7046",
        "colab": {
          "base_uri": "https://localhost:8080/",
          "height": 34
        }
      },
      "source": [
        "input_t1 = 2\n",
        "cell_state1 = input_t0_cell4\n",
        "forget21 = hidden_layer_1*model.get_weights()[1][0][1] + model.get_weights()[2][1] + input_t1*model.get_weights()[0][0][1]\n",
        "forget_22 = 1/(1+np.exp(-(forget21)))\n",
        "cell_state2 = cell_state1 * forget_22\n",
        "input_t1_1 = input_t1*model.get_weights()[0][0][0] + model.get_weights()[2][0] + hidden_layer_1*model.get_weights()[1][0][0]\n",
        "input_t1_2 = 1/(1+np.exp(-(input_t1_1)))\n",
        "input_t1_cell1 = input_t1*model.get_weights()[0][0][2] + model.get_weights()[2][2]+ hidden_layer_1*model.get_weights()[1][0][2]\n",
        "input_t1_cell2 = np.tanh(input_t1_cell1)\n",
        "input_t1_cell3 = input_t1_cell2*input_t1_2\n",
        "input_t1_cell4 = input_t1_cell3 + cell_state2\n",
        "output_t1_1 = input_t1*model.get_weights()[0][0][3] + model.get_weights()[2][3]+ hidden_layer_1*model.get_weights()[1][0][3]\n",
        "output_t1_2 = 1/(1+np.exp(-output_t1_1))\n",
        "hidden_layer_2 = np.tanh(input_t1_cell4)*output_t1_2\n",
        "final_output_2 = hidden_layer_2 * model.get_weights()[3][0] + model.get_weights()[4]\n",
        "final_output_2"
      ],
      "execution_count": 0,
      "outputs": [
        {
          "output_type": "execute_result",
          "data": {
            "text/plain": [
              "array([3.097549], dtype=float32)"
            ]
          },
          "metadata": {
            "tags": []
          },
          "execution_count": 14
        }
      ]
    },
    {
      "cell_type": "code",
      "metadata": {
        "id": "FDGhf8z35OwJ",
        "colab_type": "code",
        "colab": {}
      },
      "source": [
        ""
      ],
      "execution_count": 0,
      "outputs": []
    },
    {
      "cell_type": "code",
      "metadata": {
        "id": "OYgySjTUE2Mh",
        "colab_type": "code",
        "colab": {}
      },
      "source": [
        ""
      ],
      "execution_count": 0,
      "outputs": []
    },
    {
      "cell_type": "code",
      "metadata": {
        "id": "aNuu6UzqE2Te",
        "colab_type": "code",
        "colab": {}
      },
      "source": [
        ""
      ],
      "execution_count": 0,
      "outputs": []
    },
    {
      "cell_type": "code",
      "metadata": {
        "id": "-gK-f5RqE2QZ",
        "colab_type": "code",
        "colab": {}
      },
      "source": [
        ""
      ],
      "execution_count": 0,
      "outputs": []
    },
    {
      "cell_type": "code",
      "metadata": {
        "id": "5Ik_YYi05Oz8",
        "colab_type": "code",
        "colab": {}
      },
      "source": [
        ""
      ],
      "execution_count": 0,
      "outputs": []
    },
    {
      "cell_type": "code",
      "metadata": {
        "id": "zC9vOP4V5Oq_",
        "colab_type": "code",
        "colab": {}
      },
      "source": [
        ""
      ],
      "execution_count": 0,
      "outputs": []
    },
    {
      "cell_type": "code",
      "metadata": {
        "id": "hRP1qrYrESm3",
        "colab_type": "code",
        "outputId": "f7e9f482-c1c2-4e49-cf50-65fe5ed1c7cc",
        "colab": {
          "base_uri": "https://localhost:8080/",
          "height": 221
        }
      },
      "source": [
        "from keras.models import Model\n",
        "from keras.layers import Input\n",
        "from keras.layers import LSTM\n",
        "from numpy import array\n",
        "# define model\n",
        "inputs1 = Input(shape=(2,1))\n",
        "lstm1,state_h,state_c = LSTM(1, activation = 'tanh', return_sequences=True, return_state = True, recurrent_initializer='Zeros',recurrent_activation='sigmoid')(inputs1)\n",
        "#repvec = RepeatVector(2) (lstm1)\n",
        "#out= Dense(1, activation='linear')(lstm1)\n",
        "#repvec = RepeatVector(2) (state_h)\n",
        "model = Model(inputs=inputs1, outputs=[lstm1, state_h, state_c])\n",
        "#model = Model(inputs=inputs1, outputs=out)\n",
        "model.summary()"
      ],
      "execution_count": 0,
      "outputs": [
        {
          "output_type": "stream",
          "text": [
            "Model: \"model_3\"\n",
            "_________________________________________________________________\n",
            "Layer (type)                 Output Shape              Param #   \n",
            "=================================================================\n",
            "input_3 (InputLayer)         (None, 2, 1)              0         \n",
            "_________________________________________________________________\n",
            "lstm_3 (LSTM)                [(None, 2, 1), (None, 1), 12        \n",
            "=================================================================\n",
            "Total params: 12\n",
            "Trainable params: 12\n",
            "Non-trainable params: 0\n",
            "_________________________________________________________________\n"
          ],
          "name": "stdout"
        }
      ]
    },
    {
      "cell_type": "code",
      "metadata": {
        "id": "vmX662mwESqA",
        "colab_type": "code",
        "colab": {}
      },
      "source": [
        "model.compile(optimizer='adam',loss='mean_squared_error')\n",
        "#model.fit(input_data.reshape(2,2,1), output_data.reshape(2,2,1),epochs=1)"
      ],
      "execution_count": 0,
      "outputs": []
    },
    {
      "cell_type": "code",
      "metadata": {
        "id": "z6rvxL2yEStM",
        "colab_type": "code",
        "outputId": "d00b0bb7-e882-4a49-ac7d-5221142309a5",
        "colab": {
          "base_uri": "https://localhost:8080/",
          "height": 51
        }
      },
      "source": [
        "print(model.predict(input_data[0].reshape(1,2,1)))"
      ],
      "execution_count": 0,
      "outputs": [
        {
          "output_type": "stream",
          "text": [
            "[array([[[0.00945035],\n",
            "        [0.01547163]]], dtype=float32), array([[0.01547163]], dtype=float32), array([[0.09742781]], dtype=float32)]\n"
          ],
          "name": "stdout"
        }
      ]
    },
    {
      "cell_type": "code",
      "metadata": {
        "id": "Te7N0PVY5Oj8",
        "colab_type": "code",
        "outputId": "86264f2d-89a6-40f8-9da1-5a8924ca6552",
        "colab": {
          "base_uri": "https://localhost:8080/",
          "height": 34
        }
      },
      "source": [
        "input_t0 = 1\n",
        "cell_state0 = 0\n",
        "forget0 = input_t0*model.get_weights()[0][0][1] + model.get_weights()[2][1]\n",
        "forget1 = 1/(1+np.exp(-(forget0)))\n",
        "cell_state1 = forget1 * cell_state0\n",
        "input_t0_1 = input_t0*model.get_weights()[0][0][0] + model.get_weights()[2][0]\n",
        "input_t0_2 = 1/(1+np.exp(-(input_t0_1)))\n",
        "input_t0_cell1 = input_t0*model.get_weights()[0][0][2] + model.get_weights()[2][2]\n",
        "input_t0_cell2 = np.tanh(input_t0_cell1)\n",
        "input_t0_cell3 = input_t0_cell2*input_t0_2\n",
        "input_t0_cell4 = input_t0_cell3 + cell_state1\n",
        "output_t0_1 = input_t0*model.get_weights()[0][0][3] + model.get_weights()[2][3]\n",
        "output_t0_2 = 1/(1+np.exp(-output_t0_1))\n",
        "hidden_layer_1 = np.tanh(input_t0_cell4)*output_t0_2\n",
        "print(hidden_layer_1)"
      ],
      "execution_count": 0,
      "outputs": [
        {
          "output_type": "stream",
          "text": [
            "0.009450344087323944\n"
          ],
          "name": "stdout"
        }
      ]
    },
    {
      "cell_type": "code",
      "metadata": {
        "id": "2YjUWFmcEyDc",
        "colab_type": "code",
        "outputId": "4bac0f1f-6bf6-4b82-8a60-49971ad628c3",
        "colab": {
          "base_uri": "https://localhost:8080/",
          "height": 34
        }
      },
      "source": [
        "input_t1 = 2\n",
        "cell_state1 = input_t0_cell4\n",
        "forget21 = hidden_layer_1*model.get_weights()[1][0][1] + model.get_weights()[2][1] + input_t1*model.get_weights()[0][0][1]\n",
        "forget_22 = 1/(1+np.exp(-(forget21)))\n",
        "cell_state2 = cell_state1 * forget_22\n",
        "input_t1_1 = input_t1*model.get_weights()[0][0][0] + model.get_weights()[2][0] + hidden_layer_1*model.get_weights()[1][0][0]\n",
        "input_t1_2 = 1/(1+np.exp(-(input_t1_1)))\n",
        "input_t1_cell1 = input_t1*model.get_weights()[0][0][2] + model.get_weights()[2][2]+ hidden_layer_1*model.get_weights()[1][0][2]\n",
        "input_t1_cell2 = np.tanh(input_t1_cell1)\n",
        "input_t1_cell3 = input_t1_cell2*input_t1_2\n",
        "input_t1_cell4 = input_t1_cell3 + cell_state2\n",
        "output_t1_1 = input_t1*model.get_weights()[0][0][3] + model.get_weights()[2][3]+ hidden_layer_1*model.get_weights()[1][0][3]\n",
        "output_t1_2 = 1/(1+np.exp(-output_t1_1))\n",
        "hidden_layer_2 = np.tanh(input_t1_cell4)*output_t1_2\n",
        "print(hidden_layer_2, input_t1_cell4)"
      ],
      "execution_count": 0,
      "outputs": [
        {
          "output_type": "stream",
          "text": [
            "0.015471625228386236 0.09742780553403282\n"
          ],
          "name": "stdout"
        }
      ]
    },
    {
      "cell_type": "code",
      "metadata": {
        "id": "_XQfQg-jEyHZ",
        "colab_type": "code",
        "colab": {}
      },
      "source": [
        ""
      ],
      "execution_count": 0,
      "outputs": []
    },
    {
      "cell_type": "code",
      "metadata": {
        "id": "Ky4GtmfNLr1x",
        "colab_type": "code",
        "colab": {}
      },
      "source": [
        ""
      ],
      "execution_count": 0,
      "outputs": []
    },
    {
      "cell_type": "code",
      "metadata": {
        "id": "jLtLE3c9Lr5V",
        "colab_type": "code",
        "outputId": "d86e5ea4-fb78-46a5-afda-a5a0d118c971",
        "colab": {
          "base_uri": "https://localhost:8080/",
          "height": 221
        }
      },
      "source": [
        "from keras.models import Model\n",
        "from keras.layers import Input\n",
        "from keras.layers import LSTM,Bidirectional\n",
        "from numpy import array\n",
        "# define model\n",
        "inputs1 = Input(shape=(2,1))\n",
        "lstm1,state_fh,state_fc,state_bh,state_bc = Bidirectional(LSTM(1, activation = 'tanh', return_sequences=True, return_state = True, recurrent_initializer='Zeros',recurrent_activation='sigmoid'))(inputs1)\n",
        "#repvec = RepeatVector(2) (lstm1)\n",
        "#out= Dense(1, activation='linear')(lstm1)\n",
        "#repvec = RepeatVector(2) (state_h)\n",
        "model = Model(inputs=inputs1, outputs=[lstm1, state_fh,state_fc,state_bh,state_bc])\n",
        "#model = Model(inputs=inputs1, outputs=out)\n",
        "model.summary()"
      ],
      "execution_count": 0,
      "outputs": [
        {
          "output_type": "stream",
          "text": [
            "Model: \"model_4\"\n",
            "_________________________________________________________________\n",
            "Layer (type)                 Output Shape              Param #   \n",
            "=================================================================\n",
            "input_4 (InputLayer)         (None, 2, 1)              0         \n",
            "_________________________________________________________________\n",
            "bidirectional_1 (Bidirection [(None, 2, 2), (None, 1), 24        \n",
            "=================================================================\n",
            "Total params: 24\n",
            "Trainable params: 24\n",
            "Non-trainable params: 0\n",
            "_________________________________________________________________\n"
          ],
          "name": "stdout"
        }
      ]
    },
    {
      "cell_type": "code",
      "metadata": {
        "id": "uFli-M7TLsBj",
        "colab_type": "code",
        "outputId": "806383d7-54ca-4cc1-ece8-7692ee30bb85",
        "colab": {
          "base_uri": "https://localhost:8080/",
          "height": 119
        }
      },
      "source": [
        "model.weights"
      ],
      "execution_count": 0,
      "outputs": [
        {
          "output_type": "execute_result",
          "data": {
            "text/plain": [
              "[<tf.Variable 'bidirectional_1/forward_lstm_4/kernel:0' shape=(1, 4) dtype=float32_ref>,\n",
              " <tf.Variable 'bidirectional_1/forward_lstm_4/recurrent_kernel:0' shape=(1, 4) dtype=float32_ref>,\n",
              " <tf.Variable 'bidirectional_1/forward_lstm_4/bias:0' shape=(4,) dtype=float32_ref>,\n",
              " <tf.Variable 'bidirectional_1/backward_lstm_4/kernel:0' shape=(1, 4) dtype=float32_ref>,\n",
              " <tf.Variable 'bidirectional_1/backward_lstm_4/recurrent_kernel:0' shape=(1, 4) dtype=float32_ref>,\n",
              " <tf.Variable 'bidirectional_1/backward_lstm_4/bias:0' shape=(4,) dtype=float32_ref>]"
            ]
          },
          "metadata": {
            "tags": []
          },
          "execution_count": 21
        }
      ]
    },
    {
      "cell_type": "code",
      "metadata": {
        "id": "q5CCjORILr_I",
        "colab_type": "code",
        "outputId": "a2e1a87d-d626-4098-fcc3-3092fea84586",
        "colab": {
          "base_uri": "https://localhost:8080/",
          "height": 51
        }
      },
      "source": [
        "print(model.predict(input_data[0].reshape(1,2,1)))"
      ],
      "execution_count": 0,
      "outputs": [
        {
          "output_type": "stream",
          "text": [
            "[array([[[-0.20312288, -0.22649865],\n",
            "        [-0.46045443, -0.11596721]]], dtype=float32), array([[-0.46045443]], dtype=float32), array([[-0.79382503]], dtype=float32), array([[-0.22649865]], dtype=float32), array([[-0.4975689]], dtype=float32)]\n"
          ],
          "name": "stdout"
        }
      ]
    },
    {
      "cell_type": "code",
      "metadata": {
        "id": "P4jB5DOHLr8w",
        "colab_type": "code",
        "outputId": "e5ee0083-4531-4538-e29e-d93795a148b2",
        "colab": {
          "base_uri": "https://localhost:8080/",
          "height": 34
        }
      },
      "source": [
        "input_t0 = 1\n",
        "cell_state0 = 0\n",
        "forget0 = input_t0*model.get_weights()[0][0][1] + model.get_weights()[2][1]\n",
        "forget1 = 1/(1+np.exp(-(forget0)))\n",
        "cell_state1 = forget1 * cell_state0\n",
        "input_t0_1 = input_t0*model.get_weights()[0][0][0] + model.get_weights()[2][0]\n",
        "input_t0_2 = 1/(1+np.exp(-(input_t0_1)))\n",
        "input_t0_cell1 = input_t0*model.get_weights()[0][0][2] + model.get_weights()[2][2]\n",
        "input_t0_cell2 = np.tanh(input_t0_cell1)\n",
        "input_t0_cell3 = input_t0_cell2*input_t0_2\n",
        "input_t0_cell4 = input_t0_cell3 + cell_state1\n",
        "output_t0_1 = input_t0*model.get_weights()[0][0][3] + model.get_weights()[2][3]\n",
        "output_t0_2 = 1/(1+np.exp(-output_t0_1))\n",
        "hidden_layer_1 = np.tanh(input_t0_cell4)*output_t0_2\n",
        "print(hidden_layer_1)"
      ],
      "execution_count": 0,
      "outputs": [
        {
          "output_type": "stream",
          "text": [
            "-0.20312290517930642\n"
          ],
          "name": "stdout"
        }
      ]
    },
    {
      "cell_type": "code",
      "metadata": {
        "id": "w_zguWEd4vjq",
        "colab_type": "code",
        "outputId": "7a89818a-c294-480b-f465-1e0c0d28dc1c",
        "colab": {
          "base_uri": "https://localhost:8080/",
          "height": 34
        }
      },
      "source": [
        "input_t1 = 2\n",
        "cell_state1 = input_t0_cell4\n",
        "forget21 = hidden_layer_1*model.get_weights()[1][0][1] + model.get_weights()[2][1] + input_t1*model.get_weights()[0][0][1]\n",
        "forget_22 = 1/(1+np.exp(-(forget21)))\n",
        "cell_state2 = cell_state1 * forget_22\n",
        "input_t1_1 = input_t1*model.get_weights()[0][0][0] + model.get_weights()[2][0] + hidden_layer_1*model.get_weights()[1][0][0]\n",
        "input_t1_2 = 1/(1+np.exp(-(input_t1_1)))\n",
        "input_t1_cell1 = input_t1*model.get_weights()[0][0][2] + model.get_weights()[2][2]+ hidden_layer_1*model.get_weights()[1][0][2]\n",
        "input_t1_cell2 = np.tanh(input_t1_cell1)\n",
        "input_t1_cell3 = input_t1_cell2*input_t1_2\n",
        "input_t1_cell4 = input_t1_cell3 + cell_state2\n",
        "output_t1_1 = input_t1*model.get_weights()[0][0][3] + model.get_weights()[2][3]+ hidden_layer_1*model.get_weights()[1][0][3]\n",
        "output_t1_2 = 1/(1+np.exp(-output_t1_1))\n",
        "hidden_layer_2 = np.tanh(input_t1_cell4)*output_t1_2\n",
        "print(hidden_layer_2, input_t1_cell4)"
      ],
      "execution_count": 0,
      "outputs": [
        {
          "output_type": "stream",
          "text": [
            "-0.4604543785287757 -0.7938249906129276\n"
          ],
          "name": "stdout"
        }
      ]
    },
    {
      "cell_type": "code",
      "metadata": {
        "id": "SNCNmbPwNNpz",
        "colab_type": "code",
        "colab": {}
      },
      "source": [
        ""
      ],
      "execution_count": 0,
      "outputs": []
    },
    {
      "cell_type": "code",
      "metadata": {
        "id": "A3jxYBRJNv-r",
        "colab_type": "code",
        "colab": {}
      },
      "source": [
        ""
      ],
      "execution_count": 0,
      "outputs": []
    },
    {
      "cell_type": "code",
      "metadata": {
        "id": "sUFKNT4hNNta",
        "colab_type": "code",
        "outputId": "9ea86dea-b594-4473-f5ee-1b1f82ce0fb4",
        "colab": {
          "base_uri": "https://localhost:8080/",
          "height": 34
        }
      },
      "source": [
        "input_t0 = 2\n",
        "cell_state0 = 0\n",
        "forget0 = input_t0*model.get_weights()[3][0][1] + model.get_weights()[5][1]\n",
        "forget1 = 1/(1+np.exp(-(forget0)))\n",
        "cell_state1 = forget1 * cell_state0\n",
        "input_t0_1 = input_t0*model.get_weights()[3][0][0] + model.get_weights()[5][0]\n",
        "input_t0_2 = 1/(1+np.exp(-(input_t0_1)))\n",
        "input_t0_cell1 = input_t0*model.get_weights()[3][0][2] + model.get_weights()[5][2]\n",
        "input_t0_cell2 = np.tanh(input_t0_cell1)\n",
        "input_t0_cell3 = input_t0_cell2*input_t0_2\n",
        "input_t0_cell4 = input_t0_cell3 + cell_state1\n",
        "output_t0_1 = input_t0*model.get_weights()[3][0][3] + model.get_weights()[5][3]\n",
        "output_t0_2 = 1/(1+np.exp(-output_t0_1))\n",
        "hidden_layer_1 = np.tanh(input_t0_cell4)*output_t0_2\n",
        "print(hidden_layer_1)"
      ],
      "execution_count": 0,
      "outputs": [
        {
          "output_type": "stream",
          "text": [
            "-0.11596720612373813\n"
          ],
          "name": "stdout"
        }
      ]
    },
    {
      "cell_type": "code",
      "metadata": {
        "id": "yim0xRamNNzD",
        "colab_type": "code",
        "outputId": "3afc7977-4bf2-4a90-af66-cccc9808f105",
        "colab": {
          "base_uri": "https://localhost:8080/",
          "height": 34
        }
      },
      "source": [
        "input_t1 = 1\n",
        "cell_state1 = input_t0_cell4\n",
        "forget21 = hidden_layer_1*model.get_weights()[4][0][1] + model.get_weights()[5][1] + input_t1*model.get_weights()[3][0][1]\n",
        "forget_22 = 1/(1+np.exp(-(forget21)))\n",
        "cell_state2 = cell_state1 * forget_22\n",
        "input_t1_1 = input_t1*model.get_weights()[3][0][0] + model.get_weights()[5][0] + hidden_layer_1*model.get_weights()[4][0][0]\n",
        "input_t1_2 = 1/(1+np.exp(-(input_t1_1)))\n",
        "input_t1_cell1 = input_t1*model.get_weights()[3][0][2] + model.get_weights()[5][2]+ hidden_layer_1*model.get_weights()[4][0][2]\n",
        "input_t1_cell2 = np.tanh(input_t1_cell1)\n",
        "input_t1_cell3 = input_t1_cell2*input_t1_2\n",
        "input_t1_cell4 = input_t1_cell3 + cell_state2\n",
        "output_t1_1 = input_t1*model.get_weights()[3][0][3] + model.get_weights()[5][3]+ hidden_layer_1*model.get_weights()[4][0][3]\n",
        "output_t1_2 = 1/(1+np.exp(-output_t1_1))\n",
        "hidden_layer_2 = np.tanh(input_t1_cell4)*output_t1_2\n",
        "print(hidden_layer_2, input_t1_cell4)"
      ],
      "execution_count": 0,
      "outputs": [
        {
          "output_type": "stream",
          "text": [
            "-0.2264986632061247 -0.4975689297326987\n"
          ],
          "name": "stdout"
        }
      ]
    },
    {
      "cell_type": "code",
      "metadata": {
        "id": "O2ahvp60NUhH",
        "colab_type": "code",
        "colab": {}
      },
      "source": [
        ""
      ],
      "execution_count": 0,
      "outputs": []
    },
    {
      "cell_type": "code",
      "metadata": {
        "id": "6I_LOjf-NUnU",
        "colab_type": "code",
        "colab": {}
      },
      "source": [
        ""
      ],
      "execution_count": 0,
      "outputs": []
    },
    {
      "cell_type": "code",
      "metadata": {
        "id": "Hy1LR5LkNUkz",
        "colab_type": "code",
        "colab": {}
      },
      "source": [
        ""
      ],
      "execution_count": 0,
      "outputs": []
    },
    {
      "cell_type": "code",
      "metadata": {
        "id": "xizt7xvJNNw-",
        "colab_type": "code",
        "colab": {}
      },
      "source": [
        ""
      ],
      "execution_count": 0,
      "outputs": []
    },
    {
      "cell_type": "code",
      "metadata": {
        "id": "gqHxLy6ewcsU",
        "colab_type": "code",
        "outputId": "3fe97351-bc5d-4fd7-ecdd-179542764147",
        "colab": {
          "base_uri": "https://localhost:8080/",
          "height": 238
        }
      },
      "source": [
        "from numpy import array\n",
        "from keras.models import Sequential\n",
        "from keras.layers import Dense\n",
        "from keras.layers import TimeDistributed\n",
        "from keras.layers import LSTM\n",
        "# prepare sequence\n",
        "length = 2\n",
        "seq = array([(i+1)/float(length) for i in range(length)])\n",
        "X = seq.reshape(1, length, 1)\n",
        "y = seq.reshape(1, length, 1)\n",
        "# define LSTM configuration\n",
        "n_neurons = length\n",
        "n_batch = 1\n",
        "n_epoch = 1000\n",
        "# create LSTM\n",
        "model = Sequential()\n",
        "model.add(LSTM(5, activation = 'tanh',input_shape=(length, 1), return_sequences=True,recurrent_initializer='Zeros',recurrent_activation='sigmoid'))\n",
        "model.add((Dense(1, activation='linear')))\n",
        "model.compile(loss='mean_squared_error', optimizer='adam')\n",
        "print(model.summary())"
      ],
      "execution_count": 0,
      "outputs": [
        {
          "output_type": "stream",
          "text": [
            "Model: \"sequential_1\"\n",
            "_________________________________________________________________\n",
            "Layer (type)                 Output Shape              Param #   \n",
            "=================================================================\n",
            "lstm_5 (LSTM)                (None, 2, 5)              140       \n",
            "_________________________________________________________________\n",
            "dense_3 (Dense)              (None, 2, 1)              6         \n",
            "=================================================================\n",
            "Total params: 146\n",
            "Trainable params: 146\n",
            "Non-trainable params: 0\n",
            "_________________________________________________________________\n",
            "None\n"
          ],
          "name": "stdout"
        }
      ]
    },
    {
      "cell_type": "code",
      "metadata": {
        "id": "MqvAuCS1_C-n",
        "colab_type": "code",
        "outputId": "d789e936-de4a-4317-9235-3c18204089cb",
        "colab": {
          "base_uri": "https://localhost:8080/",
          "height": 374
        }
      },
      "source": [
        "# train LSTM\n",
        "model.fit(X, y, epochs=10, batch_size=n_batch, verbose=2)"
      ],
      "execution_count": 0,
      "outputs": [
        {
          "output_type": "stream",
          "text": [
            "Epoch 1/10\n",
            " - 1s - loss: 0.6160\n",
            "Epoch 2/10\n",
            " - 0s - loss: 0.6108\n",
            "Epoch 3/10\n",
            " - 0s - loss: 0.6057\n",
            "Epoch 4/10\n",
            " - 0s - loss: 0.6005\n",
            "Epoch 5/10\n",
            " - 0s - loss: 0.5955\n",
            "Epoch 6/10\n",
            " - 0s - loss: 0.5904\n",
            "Epoch 7/10\n",
            " - 0s - loss: 0.5854\n",
            "Epoch 8/10\n",
            " - 0s - loss: 0.5804\n",
            "Epoch 9/10\n",
            " - 0s - loss: 0.5754\n",
            "Epoch 10/10\n",
            " - 0s - loss: 0.5705\n"
          ],
          "name": "stdout"
        },
        {
          "output_type": "execute_result",
          "data": {
            "text/plain": [
              "<keras.callbacks.History at 0x7fa27bd2f5c0>"
            ]
          },
          "metadata": {
            "tags": []
          },
          "execution_count": 28
        }
      ]
    },
    {
      "cell_type": "code",
      "metadata": {
        "id": "q8mmMdLAA9yY",
        "colab_type": "code",
        "outputId": "38a9b7ec-50c3-4e96-d397-cdc706300583",
        "colab": {
          "base_uri": "https://localhost:8080/",
          "height": 102
        }
      },
      "source": [
        "model.weights"
      ],
      "execution_count": 0,
      "outputs": [
        {
          "output_type": "execute_result",
          "data": {
            "text/plain": [
              "[<tf.Variable 'lstm_5/kernel:0' shape=(1, 20) dtype=float32_ref>,\n",
              " <tf.Variable 'lstm_5/recurrent_kernel:0' shape=(5, 20) dtype=float32_ref>,\n",
              " <tf.Variable 'lstm_5/bias:0' shape=(20,) dtype=float32_ref>,\n",
              " <tf.Variable 'dense_3/kernel:0' shape=(5, 1) dtype=float32_ref>,\n",
              " <tf.Variable 'dense_3/bias:0' shape=(1,) dtype=float32_ref>]"
            ]
          },
          "metadata": {
            "tags": []
          },
          "execution_count": 29
        }
      ]
    },
    {
      "cell_type": "code",
      "metadata": {
        "id": "dqY5rHTTA_0E",
        "colab_type": "code",
        "outputId": "59608be9-53e6-4e85-9b35-a4736f7ed764",
        "colab": {
          "base_uri": "https://localhost:8080/",
          "height": 51
        }
      },
      "source": [
        "X[0]"
      ],
      "execution_count": 0,
      "outputs": [
        {
          "output_type": "execute_result",
          "data": {
            "text/plain": [
              "array([[0.5],\n",
              "       [1. ]])"
            ]
          },
          "metadata": {
            "tags": []
          },
          "execution_count": 30
        }
      ]
    },
    {
      "cell_type": "code",
      "metadata": {
        "id": "QOlJWnFwBYQk",
        "colab_type": "code",
        "colab": {}
      },
      "source": [
        "input_t0 = 0.5\n",
        "cell_state0 = 0\n",
        "forget0 = input_t0*model.get_weights()[0][0][1] + model.get_weights()[2][1]\n",
        "forget1 = 1/(1+np.exp(-(forget0)))\n",
        "cell_state1 = forget1 * cell_state0\n",
        "input_t0_1 = input_t0*model.get_weights()[0][0][0] + model.get_weights()[2][0]\n",
        "input_t0_2 = 1/(1+np.exp(-(input_t0_1)))\n",
        "input_t0_cell1 = input_t0*model.get_weights()[0][0][2] + model.get_weights()[2][2]\n",
        "input_t0_cell2 = np.tanh(input_t0_cell1)\n",
        "input_t0_cell3 = input_t0_cell2*input_t0_2\n",
        "input_t0_cell4 = input_t0_cell3 + cell_state1\n",
        "output_t0_1 = input_t0*model.get_weights()[0][0][3] + model.get_weights()[2][3]\n",
        "output_t0_2 = 1/(1+np.exp(-output_t0_1))\n",
        "hidden_layer_1 = np.tanh(input_t0_cell4)*output_t0_2"
      ],
      "execution_count": 0,
      "outputs": []
    },
    {
      "cell_type": "code",
      "metadata": {
        "id": "LLnq9eMAB9yi",
        "colab_type": "code",
        "colab": {}
      },
      "source": [
        "input_t1 = 1\n",
        "cell_state1 = input_t0_cell4\n",
        "forget21 = hidden_layer_1*model.get_weights()[1][0][1] + model.get_weights()[2][1] + input_t1*model.get_weights()[0][0][1]\n",
        "forget_22 = 1/(1+np.exp(-(forget21)))\n",
        "cell_state2 = cell_state1 * forget_22\n",
        "input_t1_1 = input_t1*model.get_weights()[0][0][0] + model.get_weights()[2][0] + hidden_layer_1*model.get_weights()[1][0][0]\n",
        "input_t1_2 = 1/(1+np.exp(-(input_t1_1)))\n",
        "input_t1_cell1 = input_t1*model.get_weights()[0][0][2] + model.get_weights()[2][2]+ hidden_layer_1*model.get_weights()[1][0][2]\n",
        "input_t1_cell2 = np.tanh(input_t1_cell1)\n",
        "input_t1_cell3 = input_t1_cell2*input_t1_2\n",
        "input_t1_cell4 = input_t1_cell3 + cell_state2\n",
        "output_t1_1 = input_t1*model.get_weights()[0][0][3] + model.get_weights()[2][3]+ hidden_layer_1*model.get_weights()[1][0][3]\n",
        "output_t1_2 = 1/(1+np.exp(-output_t1_1))\n",
        "hidden_layer_2 = np.tanh(input_t1_cell4)*output_t1_2\n",
        "final_output = hidden_layer_2 * model.get_weights()[3][0] + model.get_weights()[4]"
      ],
      "execution_count": 0,
      "outputs": []
    },
    {
      "cell_type": "code",
      "metadata": {
        "id": "bwRRvK7xB93Q",
        "colab_type": "code",
        "outputId": "b95f152d-c6c4-4ef9-d964-f9879c51a40a",
        "colab": {
          "base_uri": "https://localhost:8080/",
          "height": 51
        }
      },
      "source": [
        "model.predict(X[0].reshape(1,2,1))"
      ],
      "execution_count": 0,
      "outputs": [
        {
          "output_type": "execute_result",
          "data": {
            "text/plain": [
              "array([[[0.03199845],\n",
              "        [0.04497762]]], dtype=float32)"
            ]
          },
          "metadata": {
            "tags": []
          },
          "execution_count": 33
        }
      ]
    },
    {
      "cell_type": "code",
      "metadata": {
        "id": "YP2oSBQjB96P",
        "colab_type": "code",
        "outputId": "e572f4a9-c7e8-4c32-fda4-729efb30950c",
        "colab": {
          "base_uri": "https://localhost:8080/",
          "height": 34
        }
      },
      "source": [
        "final_output"
      ],
      "execution_count": 0,
      "outputs": [
        {
          "output_type": "execute_result",
          "data": {
            "text/plain": [
              "array([-0.03194453], dtype=float32)"
            ]
          },
          "metadata": {
            "tags": []
          },
          "execution_count": 34
        }
      ]
    },
    {
      "cell_type": "code",
      "metadata": {
        "id": "owVoUNOxB99D",
        "colab_type": "code",
        "outputId": "fe4a21f8-0b4c-43fc-9575-2cb0265bb1c3",
        "colab": {
          "base_uri": "https://localhost:8080/",
          "height": 34
        }
      },
      "source": [
        "hidden_layer_1 * model.get_weights()[3][0] + model.get_weights()[4]"
      ],
      "execution_count": 0,
      "outputs": [
        {
          "output_type": "execute_result",
          "data": {
            "text/plain": [
              "array([-0.00821053], dtype=float32)"
            ]
          },
          "metadata": {
            "tags": []
          },
          "execution_count": 35
        }
      ]
    },
    {
      "cell_type": "code",
      "metadata": {
        "id": "4OhH4K1PB91c",
        "colab_type": "code",
        "colab": {}
      },
      "source": [
        ""
      ],
      "execution_count": 0,
      "outputs": []
    },
    {
      "cell_type": "code",
      "metadata": {
        "id": "FC_0oo9kBYXP",
        "colab_type": "code",
        "outputId": "982f929d-bfd6-4197-e93f-0df18be0c09c",
        "colab": {
          "base_uri": "https://localhost:8080/",
          "height": 51
        }
      },
      "source": [
        "y"
      ],
      "execution_count": 0,
      "outputs": [
        {
          "output_type": "execute_result",
          "data": {
            "text/plain": [
              "array([[[0.5],\n",
              "        [1. ]]])"
            ]
          },
          "metadata": {
            "tags": []
          },
          "execution_count": 36
        }
      ]
    },
    {
      "cell_type": "code",
      "metadata": {
        "id": "l31P73RrA_8u",
        "colab_type": "code",
        "colab": {}
      },
      "source": [
        ""
      ],
      "execution_count": 0,
      "outputs": []
    },
    {
      "cell_type": "code",
      "metadata": {
        "id": "J0R9ZrhhA_xe",
        "colab_type": "code",
        "colab": {}
      },
      "source": [
        ""
      ],
      "execution_count": 0,
      "outputs": []
    },
    {
      "cell_type": "code",
      "metadata": {
        "id": "qo1Kezl7-ji_",
        "colab_type": "code",
        "outputId": "d55f133b-6a39-47bf-b8de-3a92f53fcffd",
        "colab": {
          "base_uri": "https://localhost:8080/",
          "height": 391
        }
      },
      "source": [
        "# train LSTM\n",
        "model.fit(X, y, epochs=10, batch_size=n_batch, verbose=2)\n",
        "# evaluate\n",
        "result = model.predict(X, batch_size=n_batch, verbose=0)\n",
        "for value in result[0,:,0]:\n",
        "\tprint('%.1f' % value)"
      ],
      "execution_count": 0,
      "outputs": [
        {
          "output_type": "stream",
          "text": [
            "Epoch 1/10\n",
            " - 0s - loss: 0.5655\n",
            "Epoch 2/10\n",
            " - 0s - loss: 0.5607\n",
            "Epoch 3/10\n",
            " - 0s - loss: 0.5558\n",
            "Epoch 4/10\n",
            " - 0s - loss: 0.5510\n",
            "Epoch 5/10\n",
            " - 0s - loss: 0.5462\n",
            "Epoch 6/10\n",
            " - 0s - loss: 0.5414\n",
            "Epoch 7/10\n",
            " - 0s - loss: 0.5367\n",
            "Epoch 8/10\n",
            " - 0s - loss: 0.5319\n",
            "Epoch 9/10\n",
            " - 0s - loss: 0.5272\n",
            "Epoch 10/10\n",
            " - 0s - loss: 0.5225\n",
            "0.1\n",
            "0.1\n"
          ],
          "name": "stdout"
        }
      ]
    },
    {
      "cell_type": "code",
      "metadata": {
        "id": "MiyfgNOWAEjx",
        "colab_type": "code",
        "outputId": "457faa84-5b60-49b7-efbf-998a48f8ebdb",
        "colab": {
          "base_uri": "https://localhost:8080/",
          "height": 34
        }
      },
      "source": [
        "result.shape"
      ],
      "execution_count": 0,
      "outputs": [
        {
          "output_type": "execute_result",
          "data": {
            "text/plain": [
              "(1, 2, 1)"
            ]
          },
          "metadata": {
            "tags": []
          },
          "execution_count": 39
        }
      ]
    },
    {
      "cell_type": "code",
      "metadata": {
        "id": "OONYVnKY-rTv",
        "colab_type": "code",
        "outputId": "df904cb4-7cdb-4b8b-8eff-961818211779",
        "colab": {
          "base_uri": "https://localhost:8080/",
          "height": 102
        }
      },
      "source": [
        "model.weights"
      ],
      "execution_count": 0,
      "outputs": [
        {
          "output_type": "execute_result",
          "data": {
            "text/plain": [
              "[<tf.Variable 'lstm_5/kernel:0' shape=(1, 20) dtype=float32_ref>,\n",
              " <tf.Variable 'lstm_5/recurrent_kernel:0' shape=(5, 20) dtype=float32_ref>,\n",
              " <tf.Variable 'lstm_5/bias:0' shape=(20,) dtype=float32_ref>,\n",
              " <tf.Variable 'dense_3/kernel:0' shape=(5, 1) dtype=float32_ref>,\n",
              " <tf.Variable 'dense_3/bias:0' shape=(1,) dtype=float32_ref>]"
            ]
          },
          "metadata": {
            "tags": []
          },
          "execution_count": 40
        }
      ]
    },
    {
      "cell_type": "code",
      "metadata": {
        "id": "O4fKIUBE-xot",
        "colab_type": "code",
        "outputId": "c83416ed-9eb6-4c80-e3d2-cc2618db0f6e",
        "colab": {
          "base_uri": "https://localhost:8080/",
          "height": 646
        }
      },
      "source": [
        "model.get_weights()"
      ],
      "execution_count": 0,
      "outputs": [
        {
          "output_type": "execute_result",
          "data": {
            "text/plain": [
              "[array([[-0.35308436, -0.40269458,  0.20396975,  0.06023806, -0.34106103,\n",
              "          0.4242158 ,  0.55035204,  0.32777643, -0.43805128, -0.07643447,\n",
              "          0.00675363,  0.41852856,  0.22229396,  0.0298297 , -0.17950772,\n",
              "          0.0964174 , -0.08994686,  0.16300964,  0.42272446,  0.49065945]],\n",
              "       dtype=float32),\n",
              " array([[-0.01016158,  0.00814309, -0.00854114,  0.00232737, -0.00773858,\n",
              "         -0.00539176,  0.00733179, -0.00772044,  0.00010291, -0.00493106,\n",
              "         -0.00851104,  0.00840269, -0.00849247,  0.00828977,  0.00855155,\n",
              "         -0.01091932,  0.00814796, -0.00866112,  0.00243319, -0.00766833],\n",
              "        [-0.01378287,  0.02022612, -0.01983138,  0.02049317, -0.01947042,\n",
              "         -0.0073315 ,  0.02017239, -0.01961541,  0.01908619, -0.01874042,\n",
              "         -0.02003439,  0.02011988, -0.02006152,  0.02019445,  0.0198801 ,\n",
              "         -0.01208402,  0.02025229, -0.01979498,  0.02054662, -0.01941898],\n",
              "        [-0.01361709,  0.01966412, -0.01919163,  0.02016347, -0.01875533,\n",
              "         -0.00772515,  0.01958709, -0.01892278,  0.0183764 , -0.01782155,\n",
              "         -0.01943178,  0.0195357 , -0.01946572,  0.01962608,  0.01924912,\n",
              "         -0.01222423,  0.01969696, -0.01915108,  0.02025309, -0.01869491],\n",
              "        [-0.01105142,  0.0208263 , -0.02063146,  0.01543752, -0.01879596,\n",
              "         -0.0004881 ,  0.01955517, -0.01902074,  0.01117164, -0.01368938,\n",
              "         -0.02100826,  0.02099989, -0.02101824,  0.02098548,  0.0207454 ,\n",
              "         -0.00883733,  0.0208891 , -0.02074539,  0.01573981, -0.01860429],\n",
              "        [ 0.01352428, -0.01957169,  0.01908749, -0.01990258,  0.01859994,\n",
              "          0.00751686, -0.01946145,  0.01877457, -0.01773628,  0.01745342,\n",
              "          0.01933878, -0.01944454,  0.01937375, -0.01953629, -0.01914814,\n",
              "          0.01218469, -0.01960662,  0.01904913, -0.02001549,  0.01853371]],\n",
              "       dtype=float32),\n",
              " array([-0.01183456,  0.02007972, -0.01957157,  0.02106938, -0.01925921,\n",
              "         0.99156237,  1.0200806 ,  0.98048484,  1.0209637 ,  0.98079884,\n",
              "        -0.01982223,  0.01994563, -0.01983478,  0.0200292 ,  0.0195851 ,\n",
              "        -0.01171838,  0.02008561, -0.01956506,  0.02106529, -0.01924857],\n",
              "       dtype=float32),\n",
              " array([[-0.8138155 ],\n",
              "        [ 0.980291  ],\n",
              "        [-0.784962  ],\n",
              "        [ 0.39054254],\n",
              "        [ 0.11688918]], dtype=float32),\n",
              " array([0.01989361], dtype=float32)]"
            ]
          },
          "metadata": {
            "tags": []
          },
          "execution_count": 41
        }
      ]
    },
    {
      "cell_type": "code",
      "metadata": {
        "id": "rcE-UFZm-0HZ",
        "colab_type": "code",
        "colab": {}
      },
      "source": [
        ""
      ],
      "execution_count": 0,
      "outputs": []
    }
  ]
}