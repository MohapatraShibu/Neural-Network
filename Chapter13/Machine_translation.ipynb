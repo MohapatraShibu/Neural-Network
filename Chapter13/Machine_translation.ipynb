{
  "nbformat": 4,
  "nbformat_minor": 0,
  "metadata": {
    "colab": {
      "name": "Machine_translation.ipynb",
      "provenance": [],
      "collapsed_sections": []
    },
    "kernelspec": {
      "name": "python3",
      "display_name": "Python 3"
    },
    "accelerator": "GPU"
  },
  "cells": [
    {
      "cell_type": "markdown",
      "metadata": {
        "id": "zY5gGIvwktMk",
        "colab_type": "text"
      },
      "source": [
        "https://colab.research.google.com/drive/1qPyShUxpDTEriLHdJGXMMdmkOoTVZZn0"
      ]
    },
    {
      "cell_type": "code",
      "metadata": {
        "id": "YbZpxcZfN8oE",
        "colab_type": "code",
        "outputId": "f413d42f-fca3-4a26-a2a7-457ff3092292",
        "colab": {
          "base_uri": "https://localhost:8080/",
          "height": 34
        }
      },
      "source": [
        "import pandas as pd\n",
        "import numpy as np\n",
        "import string\n",
        "from string import digits\n",
        "import matplotlib.pyplot as plt\n",
        "%matplotlib inline\n",
        "import re\n",
        "from sklearn.model_selection import train_test_split\n",
        "from keras.models import Model\n",
        "from keras.layers import Input, LSTM, Dense\n",
        "import numpy as np"
      ],
      "execution_count": 1,
      "outputs": [
        {
          "output_type": "stream",
          "text": [
            "Using TensorFlow backend.\n"
          ],
          "name": "stderr"
        }
      ]
    },
    {
      "cell_type": "code",
      "metadata": {
        "id": "YI2Oo3R0-iTV",
        "colab_type": "code",
        "outputId": "249d5a8f-2424-4c5c-9b0b-2aa9c2f61f69",
        "colab": {
          "base_uri": "https://localhost:8080/",
          "height": 377
        }
      },
      "source": [
        "!wget https://www.dropbox.com/s/2vag8w6yov9c1qz/english%20to%20french.txt"
      ],
      "execution_count": 2,
      "outputs": [
        {
          "output_type": "stream",
          "text": [
            "--2019-10-02 17:09:19--  https://www.dropbox.com/s/2vag8w6yov9c1qz/english%20to%20french.txt\n",
            "Resolving www.dropbox.com (www.dropbox.com)... 162.125.9.1, 2620:100:601f:1::a27d:901\n",
            "Connecting to www.dropbox.com (www.dropbox.com)|162.125.9.1|:443... connected.\n",
            "HTTP request sent, awaiting response... 301 Moved Permanently\n",
            "Location: /s/raw/2vag8w6yov9c1qz/english%20to%20french.txt [following]\n",
            "--2019-10-02 17:09:19--  https://www.dropbox.com/s/raw/2vag8w6yov9c1qz/english%20to%20french.txt\n",
            "Reusing existing connection to www.dropbox.com:443.\n",
            "HTTP request sent, awaiting response... 302 Found\n",
            "Location: https://ucd240699cc97c58a9e26d4856e0.dl.dropboxusercontent.com/cd/0/inline/ApqRIeichm989X0HQvGuAg3g7uhj-cQRpL_iLSOsRXuIIcz3lqjsmtaDSYKCjHm5j9GQVZM_PQH9B6LfNxFsNutfY9aAOe5e0xxBxB6DAQRHiA/file# [following]\n",
            "--2019-10-02 17:09:19--  https://ucd240699cc97c58a9e26d4856e0.dl.dropboxusercontent.com/cd/0/inline/ApqRIeichm989X0HQvGuAg3g7uhj-cQRpL_iLSOsRXuIIcz3lqjsmtaDSYKCjHm5j9GQVZM_PQH9B6LfNxFsNutfY9aAOe5e0xxBxB6DAQRHiA/file\n",
            "Resolving ucd240699cc97c58a9e26d4856e0.dl.dropboxusercontent.com (ucd240699cc97c58a9e26d4856e0.dl.dropboxusercontent.com)... 162.125.9.6, 2620:100:601f:6::a27d:906\n",
            "Connecting to ucd240699cc97c58a9e26d4856e0.dl.dropboxusercontent.com (ucd240699cc97c58a9e26d4856e0.dl.dropboxusercontent.com)|162.125.9.6|:443... connected.\n",
            "HTTP request sent, awaiting response... 200 OK\n",
            "Length: 10481325 (10.0M) [text/plain]\n",
            "Saving to: ‘english to french.txt’\n",
            "\n",
            "english to french.t 100%[===================>]  10.00M  47.4MB/s    in 0.2s    \n",
            "\n",
            "2019-10-02 17:09:20 (47.4 MB/s) - ‘english to french.txt’ saved [10481325/10481325]\n",
            "\n"
          ],
          "name": "stdout"
        }
      ]
    },
    {
      "cell_type": "code",
      "metadata": {
        "id": "OEQCTbqzYPyC",
        "colab_type": "code",
        "outputId": "b2e79b23-b192-4a48-ef96-1c3e117a2d6b",
        "colab": {
          "base_uri": "https://localhost:8080/",
          "height": 34
        }
      },
      "source": [
        "!ls"
      ],
      "execution_count": 3,
      "outputs": [
        {
          "output_type": "stream",
          "text": [
            "'english to french.txt'   sample_data\n"
          ],
          "name": "stdout"
        }
      ]
    },
    {
      "cell_type": "code",
      "metadata": {
        "id": "ATqji5eL4W4U",
        "colab_type": "code",
        "outputId": "507f45a5-22c9-4119-9100-bc0ba0780958",
        "colab": {
          "base_uri": "https://localhost:8080/",
          "height": 51
        }
      },
      "source": [
        "lines= pd.read_table('english to french.txt', names=['eng', 'fr'])"
      ],
      "execution_count": 4,
      "outputs": [
        {
          "output_type": "stream",
          "text": [
            "/usr/local/lib/python3.6/dist-packages/ipykernel_launcher.py:1: FutureWarning: read_table is deprecated, use read_csv instead, passing sep='\\t'.\n",
            "  \"\"\"Entry point for launching an IPython kernel.\n"
          ],
          "name": "stderr"
        }
      ]
    },
    {
      "cell_type": "code",
      "metadata": {
        "id": "F_qXu5VX4XIp",
        "colab_type": "code",
        "colab": {}
      },
      "source": [
        "lines = lines[0:50000]"
      ],
      "execution_count": 0,
      "outputs": []
    },
    {
      "cell_type": "code",
      "metadata": {
        "id": "NkdgGL404XGc",
        "colab_type": "code",
        "colab": {}
      },
      "source": [
        "lines.eng=lines.eng.apply(lambda x: x.lower())\n",
        "lines.fr=lines.fr.apply(lambda x: x.lower())"
      ],
      "execution_count": 0,
      "outputs": []
    },
    {
      "cell_type": "code",
      "metadata": {
        "id": "vztcSqBM4XD0",
        "colab_type": "code",
        "colab": {}
      },
      "source": [
        "# lines.eng=lines.eng.apply(lambda x: re.sub(\"'\", '', x)).apply(lambda x: re.sub(\",\", ' COMMA', x))\n",
        "# lines.fr=lines.fr.apply(lambda x: re.sub(\"'\", '', x)).apply(lambda x: re.sub(\",\", ' COMMA', x))"
      ],
      "execution_count": 0,
      "outputs": []
    },
    {
      "cell_type": "code",
      "metadata": {
        "id": "gOkzFxTe4fhL",
        "colab_type": "code",
        "colab": {}
      },
      "source": [
        "exclude = set(string.punctuation)\n",
        "lines.eng=lines.eng.apply(lambda x: ''.join(ch for ch in x if ch not in exclude))\n",
        "lines.fr=lines.fr.apply(lambda x: ''.join(ch for ch in x if ch not in exclude))"
      ],
      "execution_count": 0,
      "outputs": []
    },
    {
      "cell_type": "code",
      "metadata": {
        "id": "tzfDq12jOeZD",
        "colab_type": "code",
        "outputId": "ff9515af-b9c5-4ebe-a62d-26bab4e83e6d",
        "colab": {
          "base_uri": "https://localhost:8080/",
          "height": 204
        }
      },
      "source": [
        "lines.head()"
      ],
      "execution_count": 9,
      "outputs": [
        {
          "output_type": "execute_result",
          "data": {
            "text/html": [
              "<div>\n",
              "<style scoped>\n",
              "    .dataframe tbody tr th:only-of-type {\n",
              "        vertical-align: middle;\n",
              "    }\n",
              "\n",
              "    .dataframe tbody tr th {\n",
              "        vertical-align: top;\n",
              "    }\n",
              "\n",
              "    .dataframe thead th {\n",
              "        text-align: right;\n",
              "    }\n",
              "</style>\n",
              "<table border=\"1\" class=\"dataframe\">\n",
              "  <thead>\n",
              "    <tr style=\"text-align: right;\">\n",
              "      <th></th>\n",
              "      <th>eng</th>\n",
              "      <th>fr</th>\n",
              "    </tr>\n",
              "  </thead>\n",
              "  <tbody>\n",
              "    <tr>\n",
              "      <th>0</th>\n",
              "      <td>go</td>\n",
              "      <td>va</td>\n",
              "    </tr>\n",
              "    <tr>\n",
              "      <th>1</th>\n",
              "      <td>run</td>\n",
              "      <td>cours</td>\n",
              "    </tr>\n",
              "    <tr>\n",
              "      <th>2</th>\n",
              "      <td>run</td>\n",
              "      <td>courez</td>\n",
              "    </tr>\n",
              "    <tr>\n",
              "      <th>3</th>\n",
              "      <td>wow</td>\n",
              "      <td>ça alors</td>\n",
              "    </tr>\n",
              "    <tr>\n",
              "      <th>4</th>\n",
              "      <td>fire</td>\n",
              "      <td>au feu</td>\n",
              "    </tr>\n",
              "  </tbody>\n",
              "</table>\n",
              "</div>"
            ],
            "text/plain": [
              "    eng         fr\n",
              "0    go        va \n",
              "1   run     cours \n",
              "2   run    courez \n",
              "3   wow  ça alors \n",
              "4  fire    au feu "
            ]
          },
          "metadata": {
            "tags": []
          },
          "execution_count": 9
        }
      ]
    },
    {
      "cell_type": "code",
      "metadata": {
        "id": "8eeZERrs4fss",
        "colab_type": "code",
        "colab": {}
      },
      "source": [
        "# remove_digits = str.maketrans('', '', digits)\n",
        "# lines.eng=lines.eng.apply(lambda x: x.translate(remove_digits))\n",
        "# lines.fr=lines.fr.apply(lambda x: x.translate(remove_digits))"
      ],
      "execution_count": 0,
      "outputs": []
    },
    {
      "cell_type": "code",
      "metadata": {
        "id": "2tVHM-oR4fpm",
        "colab_type": "code",
        "colab": {}
      },
      "source": [
        "lines.fr = lines.fr.apply(lambda x : 'start '+ x + ' end')"
      ],
      "execution_count": 0,
      "outputs": []
    },
    {
      "cell_type": "code",
      "metadata": {
        "id": "2D_AMqsdndne",
        "colab_type": "code",
        "outputId": "cb4eacbf-03ca-4005-8461-9766e39b19e6",
        "colab": {
          "base_uri": "https://localhost:8080/",
          "height": 204
        }
      },
      "source": [
        "lines.head()"
      ],
      "execution_count": 12,
      "outputs": [
        {
          "output_type": "execute_result",
          "data": {
            "text/html": [
              "<div>\n",
              "<style scoped>\n",
              "    .dataframe tbody tr th:only-of-type {\n",
              "        vertical-align: middle;\n",
              "    }\n",
              "\n",
              "    .dataframe tbody tr th {\n",
              "        vertical-align: top;\n",
              "    }\n",
              "\n",
              "    .dataframe thead th {\n",
              "        text-align: right;\n",
              "    }\n",
              "</style>\n",
              "<table border=\"1\" class=\"dataframe\">\n",
              "  <thead>\n",
              "    <tr style=\"text-align: right;\">\n",
              "      <th></th>\n",
              "      <th>eng</th>\n",
              "      <th>fr</th>\n",
              "    </tr>\n",
              "  </thead>\n",
              "  <tbody>\n",
              "    <tr>\n",
              "      <th>0</th>\n",
              "      <td>go</td>\n",
              "      <td>start va  end</td>\n",
              "    </tr>\n",
              "    <tr>\n",
              "      <th>1</th>\n",
              "      <td>run</td>\n",
              "      <td>start cours  end</td>\n",
              "    </tr>\n",
              "    <tr>\n",
              "      <th>2</th>\n",
              "      <td>run</td>\n",
              "      <td>start courez  end</td>\n",
              "    </tr>\n",
              "    <tr>\n",
              "      <th>3</th>\n",
              "      <td>wow</td>\n",
              "      <td>start ça alors  end</td>\n",
              "    </tr>\n",
              "    <tr>\n",
              "      <th>4</th>\n",
              "      <td>fire</td>\n",
              "      <td>start au feu  end</td>\n",
              "    </tr>\n",
              "  </tbody>\n",
              "</table>\n",
              "</div>"
            ],
            "text/plain": [
              "    eng                   fr\n",
              "0    go        start va  end\n",
              "1   run     start cours  end\n",
              "2   run    start courez  end\n",
              "3   wow  start ça alors  end\n",
              "4  fire    start au feu  end"
            ]
          },
          "metadata": {
            "tags": []
          },
          "execution_count": 12
        }
      ]
    },
    {
      "cell_type": "code",
      "metadata": {
        "id": "BByeGbi6rx89",
        "colab_type": "code",
        "outputId": "736ce137-d57a-468b-cb3b-d8b724db8bf1",
        "colab": {
          "base_uri": "https://localhost:8080/",
          "height": 34
        }
      },
      "source": [
        "lines.shape"
      ],
      "execution_count": 13,
      "outputs": [
        {
          "output_type": "execute_result",
          "data": {
            "text/plain": [
              "(50000, 2)"
            ]
          },
          "metadata": {
            "tags": []
          },
          "execution_count": 13
        }
      ]
    },
    {
      "cell_type": "code",
      "metadata": {
        "id": "gCXv8Y7G_szR",
        "colab_type": "code",
        "colab": {}
      },
      "source": [
        "# fit a tokenizer\n",
        "from keras.preprocessing.text import Tokenizer\n",
        "import json\n",
        "from collections import OrderedDict\n",
        "def create_tokenizer(lines):\n",
        "\ttokenizer = Tokenizer()\n",
        "\ttokenizer.fit_on_texts(lines)\n",
        "\treturn tokenizer"
      ],
      "execution_count": 0,
      "outputs": []
    },
    {
      "cell_type": "code",
      "metadata": {
        "id": "4y854XLW_swc",
        "colab_type": "code",
        "colab": {}
      },
      "source": [
        "eng_tokenizer = create_tokenizer(lines.eng)\n",
        "output_dict = json.loads(json.dumps(eng_tokenizer.word_counts))\n",
        "df =pd.DataFrame([output_dict.keys(), output_dict.values()]).T\n",
        "df.columns = ['word','count']\n",
        "df = df.sort_values(by='count',ascending = False)\n",
        "df['cum_count']=df['count'].cumsum()\n",
        "df['cum_perc'] = df['cum_count']/df['cum_count'].max()\n",
        "final_eng_words = df[df['cum_perc']<0.8]['word'].values"
      ],
      "execution_count": 0,
      "outputs": []
    },
    {
      "cell_type": "code",
      "metadata": {
        "id": "I3OrR4k0AfTX",
        "colab_type": "code",
        "colab": {}
      },
      "source": [
        "fr_tokenizer = create_tokenizer(lines.fr)\n",
        "output_dict = json.loads(json.dumps(fr_tokenizer.word_counts))\n",
        "df =pd.DataFrame([output_dict.keys(), output_dict.values()]).T\n",
        "df.columns = ['word','count']\n",
        "df = df.sort_values(by='count',ascending = False)\n",
        "df['cum_count']=df['count'].cumsum()\n",
        "df['cum_perc'] = df['cum_count']/df['cum_count'].max()\n",
        "final_fr_words = df[df['cum_perc']<0.8]['word'].values"
      ],
      "execution_count": 0,
      "outputs": []
    },
    {
      "cell_type": "code",
      "metadata": {
        "id": "m4jrbgIjAfPd",
        "colab_type": "code",
        "outputId": "ecd98af9-bb9c-4a93-a864-1eeb6c086e32",
        "colab": {
          "base_uri": "https://localhost:8080/",
          "height": 34
        }
      },
      "source": [
        "print(len(final_eng_words),len(final_fr_words))"
      ],
      "execution_count": 17,
      "outputs": [
        {
          "output_type": "stream",
          "text": [
            "384 357\n"
          ],
          "name": "stdout"
        }
      ]
    },
    {
      "cell_type": "code",
      "metadata": {
        "id": "mTOesHOq_ss0",
        "colab_type": "code",
        "colab": {}
      },
      "source": [
        "def filter_eng_words(x):\n",
        "  t = []\n",
        "  x = x.split()\n",
        "  for i in range(len(x)):\n",
        "    if x[i] in final_eng_words:\n",
        "      t.append(x[i])\n",
        "    else:\n",
        "      t.append('unk')\n",
        "  x3 = ''\n",
        "  for i in range(len(t)):\n",
        "    x3 = x3+t[i]+' '\n",
        "  return x3"
      ],
      "execution_count": 0,
      "outputs": []
    },
    {
      "cell_type": "code",
      "metadata": {
        "id": "djQPLFAml-A3",
        "colab_type": "code",
        "outputId": "02237d1c-4b04-425e-c2a6-b7fba61183aa",
        "colab": {
          "base_uri": "https://localhost:8080/",
          "height": 34
        }
      },
      "source": [
        "filter_eng_words('he is extremely good')"
      ],
      "execution_count": 19,
      "outputs": [
        {
          "output_type": "execute_result",
          "data": {
            "text/plain": [
              "'he is unk good '"
            ]
          },
          "metadata": {
            "tags": []
          },
          "execution_count": 19
        }
      ]
    },
    {
      "cell_type": "code",
      "metadata": {
        "id": "e7sUkiqGBDJd",
        "colab_type": "code",
        "colab": {}
      },
      "source": [
        "def filter_fr_words(x):\n",
        "  t = []\n",
        "  x = x.split()\n",
        "  for i in range(len(x)):\n",
        "    if x[i] in final_fr_words:\n",
        "      t.append(x[i])\n",
        "    else:\n",
        "      t.append('unk')\n",
        "  x3 = ''\n",
        "  for i in range(len(t)):\n",
        "    x3 = x3+t[i]+' '\n",
        "  return x3"
      ],
      "execution_count": 0,
      "outputs": []
    },
    {
      "cell_type": "code",
      "metadata": {
        "id": "qy6K2pdXCxhb",
        "colab_type": "code",
        "colab": {}
      },
      "source": [
        "lines['fr']=lines['fr'].apply(filter_fr_words)"
      ],
      "execution_count": 0,
      "outputs": []
    },
    {
      "cell_type": "code",
      "metadata": {
        "id": "xVKqcPqvCxd-",
        "colab_type": "code",
        "colab": {}
      },
      "source": [
        "lines['eng']=lines['eng'].apply(filter_eng_words)"
      ],
      "execution_count": 0,
      "outputs": []
    },
    {
      "cell_type": "code",
      "metadata": {
        "id": "iCO5WTo84fnn",
        "colab_type": "code",
        "colab": {}
      },
      "source": [
        "all_eng_words=set()\n",
        "for eng in lines.eng:\n",
        "    for word in eng.split():\n",
        "        if word not in all_eng_words:\n",
        "            all_eng_words.add(word)\n",
        "    \n",
        "all_french_words=set()\n",
        "for fr in lines.fr:\n",
        "    for word in fr.split():\n",
        "        if word not in all_french_words:\n",
        "            all_french_words.add(word)"
      ],
      "execution_count": 0,
      "outputs": []
    },
    {
      "cell_type": "code",
      "metadata": {
        "id": "m9Z2cc5u4flQ",
        "colab_type": "code",
        "colab": {}
      },
      "source": [
        "lenght_list=[]\n",
        "for l in lines.fr:\n",
        "    lenght_list.append(len(l.split(' ')))\n",
        "fr_max_length = np.max(lenght_list)"
      ],
      "execution_count": 0,
      "outputs": []
    },
    {
      "cell_type": "code",
      "metadata": {
        "id": "rNJid1Tf4XBg",
        "colab_type": "code",
        "colab": {}
      },
      "source": [
        "lenght_list=[]\n",
        "for l in lines.eng:\n",
        "    lenght_list.append(len(l.split(' ')))\n",
        "eng_max_length = np.max(lenght_list)"
      ],
      "execution_count": 0,
      "outputs": []
    },
    {
      "cell_type": "code",
      "metadata": {
        "id": "UCaP87KP4W_S",
        "colab_type": "code",
        "colab": {}
      },
      "source": [
        "input_words = sorted(list(all_eng_words))\n",
        "target_words = sorted(list(all_french_words))\n",
        "num_encoder_tokens = len(all_eng_words)\n",
        "num_decoder_tokens = len(all_french_words)\n",
        "# del all_eng_words, all_french_words"
      ],
      "execution_count": 0,
      "outputs": []
    },
    {
      "cell_type": "code",
      "metadata": {
        "id": "B5eKtS1hnMob",
        "colab_type": "code",
        "outputId": "c5bc5dea-7f1e-4802-b8ff-55fe28eb69d6",
        "colab": {
          "base_uri": "https://localhost:8080/",
          "height": 34
        }
      },
      "source": [
        "set(all_french_words) - set(final_fr_words) "
      ],
      "execution_count": 27,
      "outputs": [
        {
          "output_type": "execute_result",
          "data": {
            "text/plain": [
              "{'unk'}"
            ]
          },
          "metadata": {
            "tags": []
          },
          "execution_count": 27
        }
      ]
    },
    {
      "cell_type": "code",
      "metadata": {
        "id": "7-S77pDvkBp1",
        "colab_type": "code",
        "outputId": "47ae17e6-8d21-43b5-ba3a-d3e04c7c7e97",
        "colab": {
          "base_uri": "https://localhost:8080/",
          "height": 34
        }
      },
      "source": [
        "len(all_eng_words)"
      ],
      "execution_count": 28,
      "outputs": [
        {
          "output_type": "execute_result",
          "data": {
            "text/plain": [
              "385"
            ]
          },
          "metadata": {
            "tags": []
          },
          "execution_count": 28
        }
      ]
    },
    {
      "cell_type": "code",
      "metadata": {
        "id": "3IUuEVNm-z6N",
        "colab_type": "code",
        "outputId": "e1581fe3-39ec-414c-b667-9fb400d821c6",
        "colab": {
          "base_uri": "https://localhost:8080/",
          "height": 34
        }
      },
      "source": [
        "len(target_words)"
      ],
      "execution_count": 29,
      "outputs": [
        {
          "output_type": "execute_result",
          "data": {
            "text/plain": [
              "358"
            ]
          },
          "metadata": {
            "tags": []
          },
          "execution_count": 29
        }
      ]
    },
    {
      "cell_type": "code",
      "metadata": {
        "id": "YZQegvje4W8w",
        "colab_type": "code",
        "colab": {}
      },
      "source": [
        "input_token_index = dict(\n",
        "    [(word, i+1) for i, word in enumerate(input_words)])\n",
        "target_token_index = dict(\n",
        "    [(word, i+1) for i, word in enumerate(target_words)])"
      ],
      "execution_count": 0,
      "outputs": []
    },
    {
      "cell_type": "code",
      "metadata": {
        "id": "haKpA4AJhDnV",
        "colab_type": "code",
        "outputId": "52dc1bfb-8806-4832-d722-ba1e4cd3f8d4",
        "colab": {
          "base_uri": "https://localhost:8080/",
          "height": 34
        }
      },
      "source": [
        "num_decoder_tokens"
      ],
      "execution_count": 31,
      "outputs": [
        {
          "output_type": "execute_result",
          "data": {
            "text/plain": [
              "358"
            ]
          },
          "metadata": {
            "tags": []
          },
          "execution_count": 31
        }
      ]
    },
    {
      "cell_type": "markdown",
      "metadata": {
        "id": "fy3wV6LtoDm2",
        "colab_type": "text"
      },
      "source": [
        "# Traditional many to many architecture"
      ]
    },
    {
      "cell_type": "code",
      "metadata": {
        "id": "r5_mrLkj45gt",
        "colab_type": "code",
        "colab": {}
      },
      "source": [
        "encoder_input_data = np.zeros(\n",
        "    (len(lines.eng), fr_max_length),\n",
        "    dtype='float32')\n",
        "decoder_input_data = np.zeros(\n",
        "    (len(lines.fr), fr_max_length),\n",
        "    dtype='float32')\n",
        "decoder_target_data = np.zeros(\n",
        "    (len(lines.fr), fr_max_length, num_decoder_tokens+1),\n",
        "    dtype='float32')"
      ],
      "execution_count": 0,
      "outputs": []
    },
    {
      "cell_type": "code",
      "metadata": {
        "id": "wrURv1JXrBDF",
        "colab_type": "code",
        "outputId": "69d72c5b-81f8-4791-e3aa-c7cda60223e7",
        "colab": {
          "base_uri": "https://localhost:8080/",
          "height": 34
        }
      },
      "source": [
        "decoder_target_data.shape"
      ],
      "execution_count": 33,
      "outputs": [
        {
          "output_type": "execute_result",
          "data": {
            "text/plain": [
              "(50000, 17, 359)"
            ]
          },
          "metadata": {
            "tags": []
          },
          "execution_count": 33
        }
      ]
    },
    {
      "cell_type": "code",
      "metadata": {
        "id": "km2HiJ0G45oB",
        "colab_type": "code",
        "colab": {}
      },
      "source": [
        "for i, (input_text, target_text) in enumerate(zip(lines.eng, lines.fr)):\n",
        "    for t, word in enumerate(input_text.split()):\n",
        "        encoder_input_data[i, t] = input_token_index[word]\n",
        "    for t, word in enumerate(target_text.split()):\n",
        "        # decoder_target_data is ahead of decoder_input_data by one timestep\n",
        "        decoder_input_data[i, t] = target_token_index[word]\n",
        "        if t>0:          \n",
        "            # decoder_target_data will be ahead by one timestep\n",
        "            # and will not include the start character.\n",
        "          decoder_target_data[i, t - 1, target_token_index[word]] = 1.\n",
        "          if t== len(target_text.split())-1:\n",
        "            decoder_target_data[i, t:, 89] = 1"
      ],
      "execution_count": 0,
      "outputs": []
    },
    {
      "cell_type": "code",
      "metadata": {
        "id": "DFwjmRUe-EC5",
        "colab_type": "code",
        "outputId": "f80ec275-439b-438d-931d-ff846a39c7ed",
        "colab": {
          "base_uri": "https://localhost:8080/",
          "height": 34
        }
      },
      "source": [
        "print(decoder_input_data.shape,encoder_input_data.shape,decoder_target_data.shape)"
      ],
      "execution_count": 35,
      "outputs": [
        {
          "output_type": "stream",
          "text": [
            "(50000, 17) (50000, 17) (50000, 17, 359)\n"
          ],
          "name": "stdout"
        }
      ]
    },
    {
      "cell_type": "code",
      "metadata": {
        "id": "bd_TzFXztDBQ",
        "colab_type": "code",
        "colab": {}
      },
      "source": [
        "for i in range(decoder_input_data.shape[0]):\n",
        "  for j in range(decoder_input_data.shape[1]):\n",
        "    if(decoder_input_data[i][j]==0):\n",
        "      decoder_input_data[i][j] = 89"
      ],
      "execution_count": 0,
      "outputs": []
    },
    {
      "cell_type": "code",
      "metadata": {
        "id": "5pSGmvQkrmyY",
        "colab_type": "code",
        "outputId": "1ae973be-30d8-4025-e76c-c429096e3d3f",
        "colab": {
          "base_uri": "https://localhost:8080/",
          "height": 51
        }
      },
      "source": [
        "decoder_input_data[0]"
      ],
      "execution_count": 37,
      "outputs": [
        {
          "output_type": "execute_result",
          "data": {
            "text/plain": [
              "array([284., 321.,  89.,  89.,  89.,  89.,  89.,  89.,  89.,  89.,  89.,\n",
              "        89.,  89.,  89.,  89.,  89.,  89.], dtype=float32)"
            ]
          },
          "metadata": {
            "tags": []
          },
          "execution_count": 37
        }
      ]
    },
    {
      "cell_type": "code",
      "metadata": {
        "id": "Rbao72URrrQs",
        "colab_type": "code",
        "outputId": "e6288988-1cd6-4b18-8743-cdcabfd0fd4d",
        "colab": {
          "base_uri": "https://localhost:8080/",
          "height": 51
        }
      },
      "source": [
        "np.argmax(decoder_target_data[0],axis=1)"
      ],
      "execution_count": 38,
      "outputs": [
        {
          "output_type": "execute_result",
          "data": {
            "text/plain": [
              "array([321,  89,  89,  89,  89,  89,  89,  89,  89,  89,  89,  89,  89,\n",
              "        89,  89,  89,  89])"
            ]
          },
          "metadata": {
            "tags": []
          },
          "execution_count": 38
        }
      ]
    },
    {
      "cell_type": "code",
      "metadata": {
        "id": "MQDbLqvZrorb",
        "colab_type": "code",
        "outputId": "9a336b60-cf4d-4247-bf8f-10a32a8baecb",
        "colab": {
          "base_uri": "https://localhost:8080/",
          "height": 51
        }
      },
      "source": [
        "decoder_input_data[1]"
      ],
      "execution_count": 39,
      "outputs": [
        {
          "output_type": "execute_result",
          "data": {
            "text/plain": [
              "array([284., 320.,  89.,  89.,  89.,  89.,  89.,  89.,  89.,  89.,  89.,\n",
              "        89.,  89.,  89.,  89.,  89.,  89.], dtype=float32)"
            ]
          },
          "metadata": {
            "tags": []
          },
          "execution_count": 39
        }
      ]
    },
    {
      "cell_type": "code",
      "metadata": {
        "id": "5PpmRM2NuMDe",
        "colab_type": "code",
        "outputId": "138fa2de-cf88-4ef3-86ce-226405a05e9c",
        "colab": {
          "base_uri": "https://localhost:8080/",
          "height": 51
        }
      },
      "source": [
        "np.argmax(decoder_target_data[1],axis=1)"
      ],
      "execution_count": 40,
      "outputs": [
        {
          "output_type": "execute_result",
          "data": {
            "text/plain": [
              "array([320,  89,  89,  89,  89,  89,  89,  89,  89,  89,  89,  89,  89,\n",
              "        89,  89,  89,  89])"
            ]
          },
          "metadata": {
            "tags": []
          },
          "execution_count": 40
        }
      ]
    },
    {
      "cell_type": "code",
      "metadata": {
        "id": "j20FKOWG-tQm",
        "colab_type": "code",
        "colab": {}
      },
      "source": [
        "import os\n",
        "import keras.backend as K\n",
        "from keras.models import Sequential, Model\n",
        "from keras.layers import Conv2D, ZeroPadding2D, BatchNormalization, Input, Dropout\n",
        "from keras.layers import Conv2DTranspose, Reshape, Activation, Cropping2D, Flatten\n",
        "from keras.layers import Concatenate\n",
        "from keras.layers.advanced_activations import LeakyReLU\n",
        "from keras.activations import relu\n",
        "from keras.initializers import RandomNormal\n",
        "from keras.layers import Embedding\n",
        "from keras.layers import LSTM, RepeatVector, TimeDistributed, Dense, Bidirectional"
      ],
      "execution_count": 0,
      "outputs": []
    },
    {
      "cell_type": "code",
      "metadata": {
        "id": "9NZharND-Ofy",
        "colab_type": "code",
        "outputId": "a2a13dd9-815c-4931-8ab2-f69d3cc54334",
        "colab": {
          "base_uri": "https://localhost:8080/",
          "height": 462
        }
      },
      "source": [
        "# define NMT model\n",
        "model = Sequential()\n",
        "model.add(Embedding(len(input_words)+1, 128, input_length=fr_max_length, mask_zero=True))\n",
        "model.add((Bidirectional(LSTM(256, return_sequences = True))))\n",
        "#model.add(RepeatVector(fr_max_length))\n",
        "model.add((LSTM(256, return_sequences=True)))\n",
        "model.add((Dense(len(target_token_index)+1, activation='softmax')))\n",
        "model.summary()"
      ],
      "execution_count": 42,
      "outputs": [
        {
          "output_type": "stream",
          "text": [
            "WARNING:tensorflow:From /usr/local/lib/python3.6/dist-packages/keras/backend/tensorflow_backend.py:66: The name tf.get_default_graph is deprecated. Please use tf.compat.v1.get_default_graph instead.\n",
            "\n",
            "WARNING:tensorflow:From /usr/local/lib/python3.6/dist-packages/keras/backend/tensorflow_backend.py:541: The name tf.placeholder is deprecated. Please use tf.compat.v1.placeholder instead.\n",
            "\n",
            "WARNING:tensorflow:From /usr/local/lib/python3.6/dist-packages/keras/backend/tensorflow_backend.py:4432: The name tf.random_uniform is deprecated. Please use tf.random.uniform instead.\n",
            "\n",
            "WARNING:tensorflow:From /usr/local/lib/python3.6/dist-packages/keras/backend/tensorflow_backend.py:3239: add_dispatch_support.<locals>.wrapper (from tensorflow.python.ops.array_ops) is deprecated and will be removed in a future version.\n",
            "Instructions for updating:\n",
            "Use tf.where in 2.0, which has the same broadcast rule as np.where\n",
            "Model: \"sequential_1\"\n",
            "_________________________________________________________________\n",
            "Layer (type)                 Output Shape              Param #   \n",
            "=================================================================\n",
            "embedding_1 (Embedding)      (None, 17, 128)           49408     \n",
            "_________________________________________________________________\n",
            "bidirectional_1 (Bidirection (None, 17, 512)           788480    \n",
            "_________________________________________________________________\n",
            "lstm_2 (LSTM)                (None, 17, 256)           787456    \n",
            "_________________________________________________________________\n",
            "dense_1 (Dense)              (None, 17, 359)           92263     \n",
            "=================================================================\n",
            "Total params: 1,717,607\n",
            "Trainable params: 1,717,607\n",
            "Non-trainable params: 0\n",
            "_________________________________________________________________\n"
          ],
          "name": "stdout"
        }
      ]
    },
    {
      "cell_type": "code",
      "metadata": {
        "id": "kgV2Dk8V--Yw",
        "colab_type": "code",
        "outputId": "214b6923-1e05-4d31-efcb-6b5b76302b62",
        "colab": {
          "base_uri": "https://localhost:8080/",
          "height": 105
        }
      },
      "source": [
        "model.compile(optimizer='adam', loss='categorical_crossentropy',metrics=['acc'])"
      ],
      "execution_count": 43,
      "outputs": [
        {
          "output_type": "stream",
          "text": [
            "WARNING:tensorflow:From /usr/local/lib/python3.6/dist-packages/keras/optimizers.py:793: The name tf.train.Optimizer is deprecated. Please use tf.compat.v1.train.Optimizer instead.\n",
            "\n",
            "WARNING:tensorflow:From /usr/local/lib/python3.6/dist-packages/keras/backend/tensorflow_backend.py:3576: The name tf.log is deprecated. Please use tf.math.log instead.\n",
            "\n"
          ],
          "name": "stdout"
        }
      ]
    },
    {
      "cell_type": "code",
      "metadata": {
        "id": "sAoM8J0v--Vw",
        "colab_type": "code",
        "outputId": "48c7356a-c07e-4ce1-b471-8eb1ef663984",
        "colab": {
          "base_uri": "https://localhost:8080/",
          "height": 258
        }
      },
      "source": [
        "history = model.fit(encoder_input_data, decoder_target_data,\n",
        "          batch_size=128,\n",
        "          epochs=5,\n",
        "          validation_split=0.05)"
      ],
      "execution_count": 44,
      "outputs": [
        {
          "output_type": "stream",
          "text": [
            "WARNING:tensorflow:From /usr/local/lib/python3.6/dist-packages/keras/backend/tensorflow_backend.py:1033: The name tf.assign_add is deprecated. Please use tf.compat.v1.assign_add instead.\n",
            "\n",
            "Train on 47500 samples, validate on 2500 samples\n",
            "Epoch 1/5\n",
            "47500/47500 [==============================] - 70s 1ms/step - loss: 3.5256 - acc: 0.3289 - val_loss: 3.1667 - val_acc: 0.3906\n",
            "Epoch 2/5\n",
            "47500/47500 [==============================] - 64s 1ms/step - loss: 2.5649 - acc: 0.4541 - val_loss: 2.6779 - val_acc: 0.4282\n",
            "Epoch 3/5\n",
            "47500/47500 [==============================] - 64s 1ms/step - loss: 2.1729 - acc: 0.5017 - val_loss: 2.4312 - val_acc: 0.4573\n",
            "Epoch 4/5\n",
            "47500/47500 [==============================] - 64s 1ms/step - loss: 1.9385 - acc: 0.5332 - val_loss: 2.2749 - val_acc: 0.4797\n",
            "Epoch 5/5\n",
            "47500/47500 [==============================] - 63s 1ms/step - loss: 1.7687 - acc: 0.5579 - val_loss: 2.1760 - val_acc: 0.4891\n"
          ],
          "name": "stdout"
        }
      ]
    },
    {
      "cell_type": "code",
      "metadata": {
        "id": "KGzRsXCi2x9p",
        "colab_type": "code",
        "outputId": "e29114e3-90f4-4e88-a1b7-17b4ba5b10f7",
        "colab": {
          "base_uri": "https://localhost:8080/",
          "height": 388
        }
      },
      "source": [
        "history_dict = history.history\n",
        "loss_values = history_dict['loss']\n",
        "val_loss_values = history_dict['val_loss']\n",
        "acc_values = history_dict['acc']\n",
        "val_acc_values = history_dict['val_acc']\n",
        "epochs = range(1, len(val_loss_values) + 1)\n",
        "import matplotlib.pyplot as plt\n",
        "%matplotlib inline \n",
        "\n",
        "plt.subplot(211)\n",
        "plt.plot(epochs, history.history['loss'], 'ro', label='Training loss')\n",
        "plt.plot(epochs, val_loss_values, 'b', label='Test loss')\n",
        "plt.title('Training and test loss')\n",
        "plt.xlabel('Epochs')\n",
        "plt.ylabel('Loss')\n",
        "plt.legend()\n",
        "plt.grid('off')\n",
        "plt.show()\n",
        "\n",
        "plt.subplot(212)\n",
        "plt.plot(epochs, history.history['acc'], 'ro', label='Training accuracy')\n",
        "plt.plot(epochs, val_acc_values, 'b', label='Test accuracy')\n",
        "plt.title('Training and test accuracy')\n",
        "plt.xlabel('Epochs')\n",
        "plt.ylabel('Accuracy')\n",
        "plt.gca().set_yticklabels(['{:.0f}%'.format(x*100) for x in plt.gca().get_yticks()]) \n",
        "plt.legend()\n",
        "plt.grid('off')\n",
        "plt.show()"
      ],
      "execution_count": 45,
      "outputs": [
        {
          "output_type": "stream",
          "text": [
            "/usr/local/lib/python3.6/dist-packages/matplotlib/cbook/__init__.py:424: MatplotlibDeprecationWarning: \n",
            "Passing one of 'on', 'true', 'off', 'false' as a boolean is deprecated; use an actual boolean (True/False) instead.\n",
            "  warn_deprecated(\"2.2\", \"Passing one of 'on', 'true', 'off', 'false' as a \"\n"
          ],
          "name": "stderr"
        },
        {
          "output_type": "display_data",
          "data": {
            "image/png": "[encoded data removed]",
            "text/plain": [
              "<Figure size 432x288 with 1 Axes>"
            ]
          },
          "metadata": {
            "tags": []
          }
        },
        {
          "output_type": "display_data",
          "data": {
            "image/png": "[encoded data removed]",
            "text/plain": [
              "<Figure size 432x288 with 1 Axes>"
            ]
          },
          "metadata": {
            "tags": []
          }
        }
      ]
    },
    {
      "cell_type": "code",
      "metadata": {
        "id": "JM5tcS1L3UFk",
        "colab_type": "code",
        "outputId": "7f74bd93-74f8-49f9-b9a5-a64117b82f91",
        "colab": {
          "base_uri": "https://localhost:8080/",
          "height": 357
        }
      },
      "source": [
        "history_dict"
      ],
      "execution_count": 46,
      "outputs": [
        {
          "output_type": "execute_result",
          "data": {
            "text/plain": [
              "{'acc': [0.32891958392168347,\n",
              "  0.45406291670799254,\n",
              "  0.501698445581135,\n",
              "  0.5331775754627428,\n",
              "  0.5579338567532991],\n",
              " 'loss': [3.525574292474044,\n",
              "  2.564870974249589,\n",
              "  2.1729253712704306,\n",
              "  1.9385418144426847,\n",
              "  1.7687312214801185],\n",
              " 'val_acc': [0.39061732892990114,\n",
              "  0.4281549946784973,\n",
              "  0.45732407546043397,\n",
              "  0.47969710121154785,\n",
              "  0.48912393450737],\n",
              " 'val_loss': [3.166674028015137,\n",
              "  2.6779187454223634,\n",
              "  2.4312324047088625,\n",
              "  2.2748755495071413,\n",
              "  2.176002446746826]}"
            ]
          },
          "metadata": {
            "tags": []
          },
          "execution_count": 46
        }
      ]
    },
    {
      "cell_type": "code",
      "metadata": {
        "id": "XGaaTlFWqRff",
        "colab_type": "code",
        "outputId": "3ee23630-cd82-49c3-9875-ca931e3d6787",
        "colab": {
          "base_uri": "https://localhost:8080/",
          "height": 51
        }
      },
      "source": [
        "encoder_input_data[0]"
      ],
      "execution_count": 47,
      "outputs": [
        {
          "output_type": "execute_result",
          "data": {
            "text/plain": [
              "array([120.,   0.,   0.,   0.,   0.,   0.,   0.,   0.,   0.,   0.,   0.,\n",
              "         0.,   0.,   0.,   0.,   0.,   0.], dtype=float32)"
            ]
          },
          "metadata": {
            "tags": []
          },
          "execution_count": 47
        }
      ]
    },
    {
      "cell_type": "code",
      "metadata": {
        "id": "98Ynr-N3Z7DD",
        "colab_type": "code",
        "outputId": "fa360f60-a715-4aa9-bed5-4df66f8b4b37",
        "colab": {
          "base_uri": "https://localhost:8080/",
          "height": 34
        }
      },
      "source": [
        "count = 0\n",
        "correct_count = 0\n",
        "pred = model.predict(encoder_input_data[47500:])\n",
        "for i in range(2500):\n",
        "  t = np.argmax(pred[i], axis=1)\n",
        "  act = np.argmax(decoder_target_data[47500],axis=1)\n",
        "  correct_count += np.sum((act==t) & (act!=89))\n",
        "  count += np.sum(act!=89)\n",
        "correct_count/count"
      ],
      "execution_count": 48,
      "outputs": [
        {
          "output_type": "execute_result",
          "data": {
            "text/plain": [
              "0.19653333333333334"
            ]
          },
          "metadata": {
            "tags": []
          },
          "execution_count": 48
        }
      ]
    },
    {
      "cell_type": "code",
      "metadata": {
        "id": "1MfoEmPCv2N8",
        "colab_type": "code",
        "outputId": "e358ce0c-b6ae-4094-8079-f58c9f882a1d",
        "colab": {
          "base_uri": "https://localhost:8080/",
          "height": 51
        }
      },
      "source": [
        "decoder_input_data[47500+i]!=89"
      ],
      "execution_count": 49,
      "outputs": [
        {
          "output_type": "execute_result",
          "data": {
            "text/plain": [
              "array([ True,  True,  True,  True,  True,  True, False, False, False,\n",
              "       False, False, False, False, False, False, False, False])"
            ]
          },
          "metadata": {
            "tags": []
          },
          "execution_count": 49
        }
      ]
    },
    {
      "cell_type": "code",
      "metadata": {
        "id": "kHXqb8sGp2Ga",
        "colab_type": "code",
        "outputId": "b76f1f44-653b-42f8-cd48-3de108796c83",
        "colab": {
          "base_uri": "https://localhost:8080/",
          "height": 51
        }
      },
      "source": [
        "t"
      ],
      "execution_count": 50,
      "outputs": [
        {
          "output_type": "execute_result",
          "data": {
            "text/plain": [
              "array([127, 320, 320,  63, 142, 142, 142, 142, 142, 142, 142, 142, 142,\n",
              "       142, 142, 142, 142])"
            ]
          },
          "metadata": {
            "tags": []
          },
          "execution_count": 50
        }
      ]
    },
    {
      "cell_type": "code",
      "metadata": {
        "id": "R0lYw6Z-JhvY",
        "colab_type": "code",
        "outputId": "c8ecf2ea-3c49-4148-bfe9-3f655cc47e50",
        "colab": {
          "base_uri": "https://localhost:8080/",
          "height": 51
        }
      },
      "source": [
        "decoder_input_data[47500+i]"
      ],
      "execution_count": 51,
      "outputs": [
        {
          "output_type": "execute_result",
          "data": {
            "text/plain": [
              "array([284.,  86., 320.,  63., 149., 307.,  89.,  89.,  89.,  89.,  89.,\n",
              "        89.,  89.,  89.,  89.,  89.,  89.], dtype=float32)"
            ]
          },
          "metadata": {
            "tags": []
          },
          "execution_count": 51
        }
      ]
    },
    {
      "cell_type": "code",
      "metadata": {
        "id": "5Vdjt4jDbY8O",
        "colab_type": "code",
        "colab": {}
      },
      "source": [
        ""
      ],
      "execution_count": 0,
      "outputs": []
    },
    {
      "cell_type": "code",
      "metadata": {
        "id": "ae8t5PlkbY4w",
        "colab_type": "code",
        "colab": {}
      },
      "source": [
        "encoder_input_data = np.zeros(\n",
        "    (len(lines.eng), eng_max_length),\n",
        "    dtype='float32')\n",
        "decoder_input_data = np.zeros(\n",
        "    (len(lines.fr), fr_max_length),\n",
        "    dtype='float32')\n",
        "decoder_target_data = np.zeros(\n",
        "    (len(lines.fr), fr_max_length, num_decoder_tokens+1),\n",
        "    dtype='float32')\n",
        "\n",
        "for i, (input_text, target_text) in enumerate(zip(lines.eng, lines.fr)):\n",
        "    for t, word in enumerate(input_text.split()):\n",
        "        encoder_input_data[i, t] = input_token_index[word]\n",
        "    for t, word in enumerate(target_text.split()):\n",
        "        # decoder_target_data is ahead of decoder_input_data by one timestep\n",
        "        decoder_input_data[i, t] = target_token_index[word]\n",
        "        if t>0:          \n",
        "            # decoder_target_data will be ahead by one timestep\n",
        "            # and will not include the start character.\n",
        "          decoder_target_data[i, t - 1, target_token_index[word]] = 1.\n",
        "          if t== len(target_text.split())-1:\n",
        "            decoder_target_data[i, t:, 89] = 1\n",
        "\t\t\t\n",
        "for i in range(decoder_input_data.shape[0]):\n",
        "  for j in range(decoder_input_data.shape[1]):\n",
        "    if(decoder_input_data[i][j]==0):\n",
        "      decoder_input_data[i][j] = 89\t\t\t"
      ],
      "execution_count": 0,
      "outputs": []
    },
    {
      "cell_type": "code",
      "metadata": {
        "id": "BiYIcEhFbY0r",
        "colab_type": "code",
        "outputId": "c34276a4-63b2-425c-90fb-a1ff2d633e53",
        "colab": {
          "base_uri": "https://localhost:8080/",
          "height": 323
        }
      },
      "source": [
        "# define NMT model\n",
        "model2 = Sequential()\n",
        "model2.add(Embedding(len(input_words)+1, 128, input_length=eng_max_length, mask_zero=True))\n",
        "model2.add((Bidirectional(LSTM(256))))\n",
        "model2.add(RepeatVector(fr_max_length))\n",
        "model2.add((LSTM(256, return_sequences=True)))\n",
        "model2.add(TimeDistributed(Dense(len(target_token_index)+1, activation='softmax')))\n",
        "model2.summary()"
      ],
      "execution_count": 53,
      "outputs": [
        {
          "output_type": "stream",
          "text": [
            "Model: \"sequential_2\"\n",
            "_________________________________________________________________\n",
            "Layer (type)                 Output Shape              Param #   \n",
            "=================================================================\n",
            "embedding_2 (Embedding)      (None, 8, 128)            49408     \n",
            "_________________________________________________________________\n",
            "bidirectional_2 (Bidirection (None, 512)               788480    \n",
            "_________________________________________________________________\n",
            "repeat_vector_1 (RepeatVecto (None, 17, 512)           0         \n",
            "_________________________________________________________________\n",
            "lstm_4 (LSTM)                (None, 17, 256)           787456    \n",
            "_________________________________________________________________\n",
            "time_distributed_1 (TimeDist (None, 17, 359)           92263     \n",
            "=================================================================\n",
            "Total params: 1,717,607\n",
            "Trainable params: 1,717,607\n",
            "Non-trainable params: 0\n",
            "_________________________________________________________________\n"
          ],
          "name": "stdout"
        }
      ]
    },
    {
      "cell_type": "code",
      "metadata": {
        "id": "Mt2cavqkbYxS",
        "colab_type": "code",
        "outputId": "648512af-1d5b-4292-ffaa-5121246d06a5",
        "colab": {
          "base_uri": "https://localhost:8080/",
          "height": 204
        }
      },
      "source": [
        "model2.compile(optimizer='adam', loss='categorical_crossentropy',metrics=['acc'])\n",
        "history1 = model2.fit(encoder_input_data, decoder_target_data,\n",
        "          batch_size=128,\n",
        "          epochs=5,\n",
        "          validation_split=0.05)\t\t\t"
      ],
      "execution_count": 54,
      "outputs": [
        {
          "output_type": "stream",
          "text": [
            "Train on 47500 samples, validate on 2500 samples\n",
            "Epoch 1/5\n",
            "47500/47500 [==============================] - 41s 867us/step - loss: 1.2316 - acc: 0.7881 - val_loss: 1.2892 - val_acc: 0.7590\n",
            "Epoch 2/5\n",
            "47500/47500 [==============================] - 38s 790us/step - loss: 0.9256 - acc: 0.8141 - val_loss: 1.1580 - val_acc: 0.7685\n",
            "Epoch 3/5\n",
            "47500/47500 [==============================] - 38s 795us/step - loss: 0.7755 - acc: 0.8351 - val_loss: 1.0033 - val_acc: 0.7880\n",
            "Epoch 4/5\n",
            "47500/47500 [==============================] - 38s 799us/step - loss: 0.6685 - acc: 0.8482 - val_loss: 0.9189 - val_acc: 0.7935\n",
            "Epoch 5/5\n",
            "47500/47500 [==============================] - 38s 800us/step - loss: 0.6022 - acc: 0.8565 - val_loss: 0.8694 - val_acc: 0.8009\n"
          ],
          "name": "stdout"
        }
      ]
    },
    {
      "cell_type": "code",
      "metadata": {
        "id": "nd6X9CWA38u7",
        "colab_type": "code",
        "outputId": "41df77d6-7653-47be-dd39-4104a4ce147e",
        "colab": {
          "base_uri": "https://localhost:8080/",
          "height": 388
        }
      },
      "source": [
        "history_dict = history1.history\n",
        "loss_values = history_dict['loss']\n",
        "val_loss_values = history_dict['val_loss']\n",
        "acc_values = history_dict['acc']\n",
        "val_acc_values = history_dict['val_acc']\n",
        "epochs = range(1, len(val_loss_values) + 1)\n",
        "import matplotlib.pyplot as plt\n",
        "%matplotlib inline \n",
        "\n",
        "plt.subplot(211)\n",
        "plt.plot(epochs, history1.history['loss'], 'ro', label='Training loss')\n",
        "plt.plot(epochs, val_loss_values, 'b', label='Test loss')\n",
        "plt.title('Training and test loss')\n",
        "plt.xlabel('Epochs')\n",
        "plt.ylabel('Loss')\n",
        "plt.legend()\n",
        "plt.grid('off')\n",
        "plt.show()\n",
        "\n",
        "plt.subplot(212)\n",
        "plt.plot(epochs, history1.history['acc'], 'ro', label='Training accuracy')\n",
        "plt.plot(epochs, val_acc_values, 'b', label='Test accuracy')\n",
        "plt.title('Training and test accuracy')\n",
        "plt.xlabel('Epochs')\n",
        "plt.ylabel('Accuracy')\n",
        "plt.gca().set_yticklabels(['{:.0f}%'.format(x*100) for x in plt.gca().get_yticks()]) \n",
        "plt.legend()\n",
        "plt.grid('off')\n",
        "plt.show()"
      ],
      "execution_count": 55,
      "outputs": [
        {
          "output_type": "stream",
          "text": [
            "/usr/local/lib/python3.6/dist-packages/matplotlib/cbook/__init__.py:424: MatplotlibDeprecationWarning: \n",
            "Passing one of 'on', 'true', 'off', 'false' as a boolean is deprecated; use an actual boolean (True/False) instead.\n",
            "  warn_deprecated(\"2.2\", \"Passing one of 'on', 'true', 'off', 'false' as a \"\n"
          ],
          "name": "stderr"
        },
        {
          "output_type": "display_data",
          "data": {
            "image/png": "[encoded data removed]",
            "text/plain": [
              "<Figure size 432x288 with 1 Axes>"
            ]
          },
          "metadata": {
            "tags": []
          }
        },
        {
          "output_type": "display_data",
          "data": {
            "image/png": "[encoded data removed]",
            "text/plain": [
              "<Figure size 432x288 with 1 Axes>"
            ]
          },
          "metadata": {
            "tags": []
          }
        }
      ]
    },
    {
      "cell_type": "code",
      "metadata": {
        "id": "vOQo3wZE1q3g",
        "colab_type": "code",
        "outputId": "13c7b577-2ccd-4b0f-98da-9532e7a06fa9",
        "colab": {
          "base_uri": "https://localhost:8080/",
          "height": 34
        }
      },
      "source": [
        "encoder_input_data.shape"
      ],
      "execution_count": 56,
      "outputs": [
        {
          "output_type": "execute_result",
          "data": {
            "text/plain": [
              "(50000, 8)"
            ]
          },
          "metadata": {
            "tags": []
          },
          "execution_count": 56
        }
      ]
    },
    {
      "cell_type": "code",
      "metadata": {
        "id": "sjBXXENZbYtC",
        "colab_type": "code",
        "outputId": "3d6b88be-7be2-4bab-fd42-0c1d4386e97d",
        "colab": {
          "base_uri": "https://localhost:8080/",
          "height": 34
        }
      },
      "source": [
        "count = 0\n",
        "correct_count = 0\n",
        "pred = model2.predict(encoder_input_data[47500:])\n",
        "for i in range(2500):\n",
        "  t = np.argmax(pred[i], axis=1)\n",
        "  act = np.argmax(decoder_target_data[47500],axis=1)\n",
        "  correct_count += np.sum((act==t) & (act!=89))\n",
        "  count += np.sum(act!=89)\n",
        "correct_count/count"
      ],
      "execution_count": 57,
      "outputs": [
        {
          "output_type": "execute_result",
          "data": {
            "text/plain": [
              "0.1946"
            ]
          },
          "metadata": {
            "tags": []
          },
          "execution_count": 57
        }
      ]
    },
    {
      "cell_type": "code",
      "metadata": {
        "id": "pbwG8tnblE9z",
        "colab_type": "code",
        "outputId": "5ed93f95-e51d-4484-c709-af4d3c987fb2",
        "colab": {
          "base_uri": "https://localhost:8080/",
          "height": 306
        }
      },
      "source": [
        "t = model2.predict(encoder_input_data[1].reshape(1,encoder_input_data.shape[1])).reshape(decoder_input_data.shape[1], num_decoder_tokens+1)\n",
        "t2 = np.argmax(t,axis=1)\n",
        "for i in range(len(t2)):\n",
        "  if int(t2[i])!=0:\n",
        "    print(list(target_token_index.keys())[int(t2[i]-1)])\n"
      ],
      "execution_count": 58,
      "outputs": [
        {
          "output_type": "stream",
          "text": [
            "unk\n",
            "end\n",
            "end\n",
            "end\n",
            "end\n",
            "end\n",
            "end\n",
            "end\n",
            "end\n",
            "end\n",
            "end\n",
            "end\n",
            "end\n",
            "end\n",
            "end\n",
            "end\n",
            "end\n"
          ],
          "name": "stdout"
        }
      ]
    },
    {
      "cell_type": "code",
      "metadata": {
        "id": "vnhbSoKwqiCP",
        "colab_type": "code",
        "outputId": "f1b9838f-4464-491b-90e1-77412e70c407",
        "colab": {
          "base_uri": "https://localhost:8080/",
          "height": 306
        }
      },
      "source": [
        "k=48000\n",
        "t2 = decoder_input_data[k+i]\n",
        "for i in range(len(t2)):\n",
        "  if int(t2[i])!=0:\n",
        "    print(list(target_token_index.keys())[int(t2[i]-1)])"
      ],
      "execution_count": 59,
      "outputs": [
        {
          "output_type": "stream",
          "text": [
            "start\n",
            "je\n",
            "fais\n",
            "unk\n",
            "des\n",
            "unk\n",
            "end\n",
            "end\n",
            "end\n",
            "end\n",
            "end\n",
            "end\n",
            "end\n",
            "end\n",
            "end\n",
            "end\n",
            "end\n"
          ],
          "name": "stdout"
        }
      ]
    },
    {
      "cell_type": "code",
      "metadata": {
        "id": "iyvNmsmrqiJk",
        "colab_type": "code",
        "colab": {}
      },
      "source": [
        ""
      ],
      "execution_count": 0,
      "outputs": []
    },
    {
      "cell_type": "code",
      "metadata": {
        "id": "D8onYCdc-OaE",
        "colab_type": "code",
        "colab": {}
      },
      "source": [
        ""
      ],
      "execution_count": 0,
      "outputs": []
    },
    {
      "cell_type": "code",
      "metadata": {
        "id": "ITL26-cj45lT",
        "colab_type": "code",
        "colab": {}
      },
      "source": [
        "embedding_size = 128\n",
        "from keras.layers import Input, LSTM, Embedding, Dense\n",
        "from keras.models import Model\n",
        "from keras.utils import plot_model"
      ],
      "execution_count": 0,
      "outputs": []
    },
    {
      "cell_type": "code",
      "metadata": {
        "id": "xoPEv6If45ec",
        "colab_type": "code",
        "colab": {}
      },
      "source": [
        "encoder_inputs = Input(shape=(None,))\n",
        "en_x=  Embedding(num_encoder_tokens+1, embedding_size)(encoder_inputs)\n",
        "encoder = LSTM(256, return_state=True)\n",
        "encoder_outputs, state_h, state_c = encoder(en_x)\n",
        "# We discard `encoder_outputs` and only keep the states.\n",
        "encoder_states = [state_h, state_c]"
      ],
      "execution_count": 0,
      "outputs": []
    },
    {
      "cell_type": "code",
      "metadata": {
        "id": "buIdjpO645bO",
        "colab_type": "code",
        "colab": {}
      },
      "source": [
        "decoder_inputs = Input(shape=(None,))\n",
        "\n",
        "dex=  Embedding(num_decoder_tokens+1, embedding_size)\n",
        "\n",
        "final_dex= dex(decoder_inputs)\n",
        "\n",
        "\n",
        "decoder_lstm = LSTM(256, return_sequences=True, return_state=True)\n",
        "\n",
        "decoder_outputs, _, _ = decoder_lstm(final_dex,\n",
        "                                     initial_state=encoder_states)\n",
        "\n",
        "decoder_outputs = Dense(2000,activation='tanh')(decoder_outputs)\n",
        "\n",
        "decoder_dense = Dense(num_decoder_tokens+1, activation='softmax')\n",
        "\n",
        "decoder_outputs = decoder_dense(decoder_outputs)\n",
        "\n",
        "model3 = Model([encoder_inputs, decoder_inputs], decoder_outputs)\n",
        "\n",
        "model3.compile(optimizer='adam', loss='categorical_crossentropy', metrics=['acc'])"
      ],
      "execution_count": 0,
      "outputs": []
    },
    {
      "cell_type": "code",
      "metadata": {
        "id": "hvaapWUrSxTj",
        "colab_type": "code",
        "outputId": "bb86ba03-05af-4731-d13c-ded89cbb2453",
        "colab": {
          "base_uri": "https://localhost:8080/",
          "height": 459
        }
      },
      "source": [
        "model3.summary()"
      ],
      "execution_count": 63,
      "outputs": [
        {
          "output_type": "stream",
          "text": [
            "Model: \"model_1\"\n",
            "__________________________________________________________________________________________________\n",
            "Layer (type)                    Output Shape         Param #     Connected to                     \n",
            "==================================================================================================\n",
            "input_1 (InputLayer)            (None, None)         0                                            \n",
            "__________________________________________________________________________________________________\n",
            "input_2 (InputLayer)            (None, None)         0                                            \n",
            "__________________________________________________________________________________________________\n",
            "embedding_3 (Embedding)         (None, None, 128)    49408       input_1[0][0]                    \n",
            "__________________________________________________________________________________________________\n",
            "embedding_4 (Embedding)         (None, None, 128)    45952       input_2[0][0]                    \n",
            "__________________________________________________________________________________________________\n",
            "lstm_5 (LSTM)                   [(None, 256), (None, 394240      embedding_3[0][0]                \n",
            "__________________________________________________________________________________________________\n",
            "lstm_6 (LSTM)                   [(None, None, 256),  394240      embedding_4[0][0]                \n",
            "                                                                 lstm_5[0][1]                     \n",
            "                                                                 lstm_5[0][2]                     \n",
            "__________________________________________________________________________________________________\n",
            "dense_3 (Dense)                 (None, None, 2000)   514000      lstm_6[0][0]                     \n",
            "__________________________________________________________________________________________________\n",
            "dense_4 (Dense)                 (None, None, 359)    718359      dense_3[0][0]                    \n",
            "==================================================================================================\n",
            "Total params: 2,116,199\n",
            "Trainable params: 2,116,199\n",
            "Non-trainable params: 0\n",
            "__________________________________________________________________________________________________\n"
          ],
          "name": "stdout"
        }
      ]
    },
    {
      "cell_type": "code",
      "metadata": {
        "id": "iKypEdHs45YD",
        "colab_type": "code",
        "outputId": "88b4f700-6c46-45ec-d739-f4b8b68a4d68",
        "colab": {
          "base_uri": "https://localhost:8080/",
          "height": 204
        }
      },
      "source": [
        "history3 = model3.fit([encoder_input_data, decoder_input_data], decoder_target_data,\n",
        "          batch_size=128,\n",
        "          epochs=5,\n",
        "          validation_split=0.05)"
      ],
      "execution_count": 64,
      "outputs": [
        {
          "output_type": "stream",
          "text": [
            "Train on 47500 samples, validate on 2500 samples\n",
            "Epoch 1/5\n",
            "47500/47500 [==============================] - 27s 573us/step - loss: 1.0415 - acc: 0.8116 - val_loss: 1.0374 - val_acc: 0.7901\n",
            "Epoch 2/5\n",
            "47500/47500 [==============================] - 24s 510us/step - loss: 0.6645 - acc: 0.8578 - val_loss: 0.8228 - val_acc: 0.8181\n",
            "Epoch 3/5\n",
            "47500/47500 [==============================] - 24s 509us/step - loss: 0.5285 - acc: 0.8751 - val_loss: 0.7105 - val_acc: 0.8299\n",
            "Epoch 4/5\n",
            "47500/47500 [==============================] - 24s 508us/step - loss: 0.4483 - acc: 0.8875 - val_loss: 0.6423 - val_acc: 0.8434\n",
            "Epoch 5/5\n",
            "47500/47500 [==============================] - 24s 511us/step - loss: 0.3965 - acc: 0.8970 - val_loss: 0.5897 - val_acc: 0.8503\n"
          ],
          "name": "stdout"
        }
      ]
    },
    {
      "cell_type": "code",
      "metadata": {
        "id": "MR6_Iy8g68kL",
        "colab_type": "code",
        "outputId": "fd19de25-539a-4416-c9ad-9d1d647c3bfb",
        "colab": {
          "base_uri": "https://localhost:8080/",
          "height": 388
        }
      },
      "source": [
        "history_dict = history3.history\n",
        "loss_values = history_dict['loss']\n",
        "val_loss_values = history_dict['val_loss']\n",
        "acc_values = history_dict['acc']\n",
        "val_acc_values = history_dict['val_acc']\n",
        "epochs = range(1, len(val_loss_values) + 1)\n",
        "import matplotlib.pyplot as plt\n",
        "%matplotlib inline \n",
        "\n",
        "plt.subplot(211)\n",
        "plt.plot(epochs, history3.history['loss'], 'ro', label='Training loss')\n",
        "plt.plot(epochs, val_loss_values, 'b', label='Test loss')\n",
        "plt.title('Training and test loss')\n",
        "plt.xlabel('Epochs')\n",
        "plt.ylabel('Loss')\n",
        "plt.legend()\n",
        "plt.grid('off')\n",
        "plt.show()\n",
        "\n",
        "plt.subplot(212)\n",
        "plt.plot(epochs, history3.history['acc'], 'ro', label='Training accuracy')\n",
        "plt.plot(epochs, val_acc_values, 'b', label='Test accuracy')\n",
        "plt.title('Training and test accuracy')\n",
        "plt.xlabel('Epochs')\n",
        "plt.ylabel('Accuracy')\n",
        "plt.gca().set_yticklabels(['{:.0f}%'.format(x*100) for x in plt.gca().get_yticks()]) \n",
        "plt.legend()\n",
        "plt.grid('off')\n",
        "plt.show()"
      ],
      "execution_count": 65,
      "outputs": [
        {
          "output_type": "stream",
          "text": [
            "/usr/local/lib/python3.6/dist-packages/matplotlib/cbook/__init__.py:424: MatplotlibDeprecationWarning: \n",
            "Passing one of 'on', 'true', 'off', 'false' as a boolean is deprecated; use an actual boolean (True/False) instead.\n",
            "  warn_deprecated(\"2.2\", \"Passing one of 'on', 'true', 'off', 'false' as a \"\n"
          ],
          "name": "stderr"
        },
        {
          "output_type": "display_data",
          "data": {
            "image/png": "[encoded data removed]",
            "text/plain": [
              "<Figure size 432x288 with 1 Axes>"
            ]
          },
          "metadata": {
            "tags": []
          }
        },
        {
          "output_type": "display_data",
          "data": {
            "image/png": "[encoded data removed]",
            "text/plain": [
              "<Figure size 432x288 with 1 Axes>"
            ]
          },
          "metadata": {
            "tags": []
          }
        }
      ]
    },
    {
      "cell_type": "code",
      "metadata": {
        "id": "d0-pL_tYrReW",
        "colab_type": "code",
        "outputId": "df7ea83e-6764-4279-9291-348870d38898",
        "colab": {
          "base_uri": "https://localhost:8080/",
          "height": 34
        }
      },
      "source": [
        "decoder_target_data.shape"
      ],
      "execution_count": 66,
      "outputs": [
        {
          "output_type": "execute_result",
          "data": {
            "text/plain": [
              "(50000, 17, 359)"
            ]
          },
          "metadata": {
            "tags": []
          },
          "execution_count": 66
        }
      ]
    },
    {
      "cell_type": "code",
      "metadata": {
        "id": "WSITLbicrVTX",
        "colab_type": "code",
        "outputId": "d60003c7-dff6-4907-cec5-3b3cbadd0c43",
        "colab": {
          "base_uri": "https://localhost:8080/",
          "height": 34
        }
      },
      "source": [
        "act = np.argmax(decoder_target_data, axis=2)\n",
        "act.shape"
      ],
      "execution_count": 67,
      "outputs": [
        {
          "output_type": "execute_result",
          "data": {
            "text/plain": [
              "(50000, 17)"
            ]
          },
          "metadata": {
            "tags": []
          },
          "execution_count": 67
        }
      ]
    },
    {
      "cell_type": "code",
      "metadata": {
        "id": "zbVuix9Z0W1n",
        "colab_type": "code",
        "outputId": "7621f5fc-05b5-4b24-9062-768f9805d4f6",
        "colab": {
          "base_uri": "https://localhost:8080/",
          "height": 51
        }
      },
      "source": [
        "act[0]"
      ],
      "execution_count": 68,
      "outputs": [
        {
          "output_type": "execute_result",
          "data": {
            "text/plain": [
              "array([321,  89,  89,  89,  89,  89,  89,  89,  89,  89,  89,  89,  89,\n",
              "        89,  89,  89,  89])"
            ]
          },
          "metadata": {
            "tags": []
          },
          "execution_count": 68
        }
      ]
    },
    {
      "cell_type": "code",
      "metadata": {
        "id": "Ypl3yBmVogKS",
        "colab_type": "code",
        "outputId": "af1b17d1-beeb-4a51-b8c0-7e4a3c293871",
        "colab": {
          "base_uri": "https://localhost:8080/",
          "height": 34
        }
      },
      "source": [
        "count = 0\n",
        "correct_count = 0\n",
        "pred = model3.predict([encoder_input_data[47500:],decoder_input_data[47500:]])\n",
        "for i in range(2500):\n",
        "  t = np.argmax(pred[i], axis=1)\n",
        "  correct_count += np.sum((act[47500+i]==t) & (act[47500+i]!=89))\n",
        "  count += np.sum(decoder_input_data[47500+i]!=89)\n",
        "correct_count/count"
      ],
      "execution_count": 69,
      "outputs": [
        {
          "output_type": "execute_result",
          "data": {
            "text/plain": [
              "0.4515258068567123"
            ]
          },
          "metadata": {
            "tags": []
          },
          "execution_count": 69
        }
      ]
    },
    {
      "cell_type": "code",
      "metadata": {
        "id": "6B-4JA0U0Dei",
        "colab_type": "code",
        "outputId": "2968f984-0d58-470b-9050-435ba068fa86",
        "colab": {
          "base_uri": "https://localhost:8080/",
          "height": 34
        }
      },
      "source": [
        "target_token_index['end']"
      ],
      "execution_count": 70,
      "outputs": [
        {
          "output_type": "execute_result",
          "data": {
            "text/plain": [
              "89"
            ]
          },
          "metadata": {
            "tags": []
          },
          "execution_count": 70
        }
      ]
    },
    {
      "cell_type": "code",
      "metadata": {
        "id": "BBlyppAJwckD",
        "colab_type": "code",
        "colab": {}
      },
      "source": [
        "decoder_input_data_pred = np.zeros(\n",
        "    (len(lines.fr), fr_max_length),\n",
        "    dtype='float32')"
      ],
      "execution_count": 0,
      "outputs": []
    },
    {
      "cell_type": "code",
      "metadata": {
        "id": "RaRL3z0CvCjx",
        "colab_type": "code",
        "colab": {}
      },
      "source": [
        "final_pred = []\n",
        "for i in range(2500):\n",
        "  if(i%10==0):\n",
        "    print(i)\n",
        "  word = 284\n",
        "  for j in range(17):\n",
        "    decoder_input_data_pred[(47500+i), j] = word\n",
        "    pred = model3.predict([encoder_input_data[(47500+i)].reshape(1,8),decoder_input_data_pred[47500+i].reshape(1,17)])\n",
        "    t = np.argmax(pred[0][j])\n",
        "    word = t\n",
        "    if word==89:\n",
        "      break\n",
        "  final_pred.append(list(decoder_input_data_pred[47500+i]))"
      ],
      "execution_count": 0,
      "outputs": []
    },
    {
      "cell_type": "code",
      "metadata": {
        "id": "_jExPEb0zOv0",
        "colab_type": "code",
        "outputId": "d52abdd5-30a3-46fa-9d45-2e4713f00215",
        "colab": {
          "base_uri": "https://localhost:8080/",
          "height": 34
        }
      },
      "source": [
        "final_pred2 = np.array(final_pred)\n",
        "final_pred2.shape"
      ],
      "execution_count": 73,
      "outputs": [
        {
          "output_type": "execute_result",
          "data": {
            "text/plain": [
              "(2500, 17)"
            ]
          },
          "metadata": {
            "tags": []
          },
          "execution_count": 73
        }
      ]
    },
    {
      "cell_type": "code",
      "metadata": {
        "id": "0laNy_IxyCTn",
        "colab_type": "code",
        "outputId": "a9fcb417-0449-4781-c609-113130dc9486",
        "colab": {
          "base_uri": "https://localhost:8080/",
          "height": 34
        }
      },
      "source": [
        "count = 0\n",
        "correct_count = 0\n",
        "\n",
        "for i in range(2500):\n",
        "  correct_count += np.sum((decoder_input_data[47500+i]==final_pred2[i]) & (decoder_input_data[47500+i]!=89))\n",
        "  count += np.sum(decoder_input_data[47500+i]!=89)\n",
        "correct_count/count"
      ],
      "execution_count": 74,
      "outputs": [
        {
          "output_type": "execute_result",
          "data": {
            "text/plain": [
              "0.47488383774959186"
            ]
          },
          "metadata": {
            "tags": []
          },
          "execution_count": 74
        }
      ]
    },
    {
      "cell_type": "code",
      "metadata": {
        "id": "2kFojc7_sjiM",
        "colab_type": "code",
        "colab": {}
      },
      "source": [
        ""
      ],
      "execution_count": 0,
      "outputs": []
    },
    {
      "cell_type": "code",
      "metadata": {
        "id": "3jzvmdJ7sjd3",
        "colab_type": "code",
        "colab": {}
      },
      "source": [
        ""
      ],
      "execution_count": 0,
      "outputs": []
    },
    {
      "cell_type": "code",
      "metadata": {
        "id": "pgJ1D1RSsjaP",
        "colab_type": "code",
        "colab": {}
      },
      "source": [
        ""
      ],
      "execution_count": 0,
      "outputs": []
    },
    {
      "cell_type": "code",
      "metadata": {
        "id": "yqnWpD840Dwx",
        "colab_type": "code",
        "colab": {}
      },
      "source": [
        ""
      ],
      "execution_count": 0,
      "outputs": []
    },
    {
      "cell_type": "code",
      "metadata": {
        "id": "ctL0YdPL0D6r",
        "colab_type": "code",
        "colab": {}
      },
      "source": [
        "# encoder_input_data = np.zeros(\n",
        "#     (len(lines.eng), eng_max_length),\n",
        "#     dtype='float32')\n",
        "# decoder_input_data = np.zeros(\n",
        "#     (len(lines.fr), fr_max_length),\n",
        "#     dtype='float32')\n",
        "# decoder_target_data = np.zeros(\n",
        "#     (len(lines.fr), fr_max_length, num_decoder_tokens+1),\n",
        "#     dtype='float32')\n",
        "\t\n",
        "# for i, (input_text, target_text) in enumerate(zip(lines.eng, lines.fr)):\n",
        "#     for t, word in enumerate(input_text.split()):\n",
        "#         encoder_input_data[i, t] = input_token_index[word]\n",
        "#     for t, word in enumerate(target_text.split()):\n",
        "#         # decoder_target_data is ahead of decoder_input_data by one timestep\n",
        "#         decoder_input_data[i, t] = target_token_index[word]\n",
        "#         if t>0:          \n",
        "#             # decoder_target_data will be ahead by one timestep\n",
        "#             # and will not include the start character.\n",
        "#           decoder_target_data[i, t - 1, target_token_index[word]] = 1.\n",
        "#           if t== len(target_text.split())-1:\n",
        "#             decoder_target_data[i, t:, 0] = 1"
      ],
      "execution_count": 0,
      "outputs": []
    },
    {
      "cell_type": "code",
      "metadata": {
        "id": "uzM4eS876i0p",
        "colab_type": "code",
        "colab": {}
      },
      "source": [
        "embedding_size = 128"
      ],
      "execution_count": 0,
      "outputs": []
    },
    {
      "cell_type": "code",
      "metadata": {
        "id": "ICjkgEpc5sAE",
        "colab_type": "code",
        "outputId": "6231b83f-0634-4ff2-de62-711b5bf4a900",
        "colab": {
          "base_uri": "https://localhost:8080/",
          "height": 122
        }
      },
      "source": [
        "encoder_inputs = Input(shape=(eng_max_length,))\n",
        "en_x=  Embedding(num_encoder_tokens+1, embedding_size)(encoder_inputs)\n",
        "en_x = Dropout(0.1)(en_x)\n",
        "encoder = LSTM(256, return_sequences=True, unroll=True)(en_x)\n",
        "encoder_last = encoder[:,-1,:]\n",
        "\n",
        "print('encoder', encoder)\n",
        "print('encoder_last', encoder_last)"
      ],
      "execution_count": 76,
      "outputs": [
        {
          "output_type": "stream",
          "text": [
            "WARNING:tensorflow:From /usr/local/lib/python3.6/dist-packages/keras/backend/tensorflow_backend.py:3733: calling dropout (from tensorflow.python.ops.nn_ops) with keep_prob is deprecated and will be removed in a future version.\n",
            "Instructions for updating:\n",
            "Please use `rate` instead of `keep_prob`. Rate should be set to `rate = 1 - keep_prob`.\n",
            "encoder Tensor(\"lstm_7/transpose_1:0\", shape=(?, 8, 256), dtype=float32)\n",
            "encoder_last Tensor(\"strided_slice:0\", shape=(?, 256), dtype=float32)\n"
          ],
          "name": "stdout"
        }
      ]
    },
    {
      "cell_type": "code",
      "metadata": {
        "id": "qN9pEsuD5r9I",
        "colab_type": "code",
        "outputId": "ad4ef369-e326-4327-ab12-dc6a58c10b17",
        "colab": {
          "base_uri": "https://localhost:8080/",
          "height": 34
        }
      },
      "source": [
        "decoder_inputs = Input(shape=(fr_max_length,))\n",
        "\n",
        "dex=  Embedding(num_decoder_tokens+1, embedding_size)\n",
        "#dex = Dropout(0.1)(dex)\n",
        "\n",
        "decoder= dex(decoder_inputs)\n",
        "decoder = Dropout(0.1)(decoder)\n",
        "\n",
        "decoder = LSTM(256, return_sequences=True, unroll=True)(decoder, initial_state=[encoder_last, encoder_last])\n",
        "print('decoder', decoder)"
      ],
      "execution_count": 77,
      "outputs": [
        {
          "output_type": "stream",
          "text": [
            "decoder Tensor(\"lstm_8/transpose_1:0\", shape=(?, 17, 256), dtype=float32)\n"
          ],
          "name": "stdout"
        }
      ]
    },
    {
      "cell_type": "code",
      "metadata": {
        "id": "Zwsxh1D0hskm",
        "colab_type": "code",
        "outputId": "49687798-1e75-43a6-b081-df6f56aedf76",
        "colab": {
          "base_uri": "https://localhost:8080/",
          "height": 34
        }
      },
      "source": [
        "t = Dense(5000, activation='tanh')(decoder)\n",
        "#t = Dense(5, activation='tanh')(t)\n",
        "t"
      ],
      "execution_count": 78,
      "outputs": [
        {
          "output_type": "execute_result",
          "data": {
            "text/plain": [
              "<tf.Tensor 'dense_5/Tanh:0' shape=(?, 17, 5000) dtype=float32>"
            ]
          },
          "metadata": {
            "tags": []
          },
          "execution_count": 78
        }
      ]
    },
    {
      "cell_type": "code",
      "metadata": {
        "id": "yatc_LKIibuQ",
        "colab_type": "code",
        "outputId": "98cd2790-109c-499a-ca37-6929b5032623",
        "colab": {
          "base_uri": "https://localhost:8080/",
          "height": 34
        }
      },
      "source": [
        "t2 = Dense(5000, activation='tanh')(encoder)\n",
        "#t2 = Dense(5, activation='tanh')(t2)\n",
        "t2"
      ],
      "execution_count": 79,
      "outputs": [
        {
          "output_type": "execute_result",
          "data": {
            "text/plain": [
              "<tf.Tensor 'dense_6/Tanh:0' shape=(?, 8, 5000) dtype=float32>"
            ]
          },
          "metadata": {
            "tags": []
          },
          "execution_count": 79
        }
      ]
    },
    {
      "cell_type": "code",
      "metadata": {
        "id": "7WzvPzpjijzq",
        "colab_type": "code",
        "outputId": "75fa9068-154a-4ef9-8804-633e24668629",
        "colab": {
          "base_uri": "https://localhost:8080/",
          "height": 34
        }
      },
      "source": [
        "from keras.layers import Activation, dot, concatenate\n",
        "\n",
        "attention = dot([t, t2], axes=[2, 2])\n",
        "attention"
      ],
      "execution_count": 80,
      "outputs": [
        {
          "output_type": "execute_result",
          "data": {
            "text/plain": [
              "<tf.Tensor 'dot_1/MatMul:0' shape=(?, 17, 8) dtype=float32>"
            ]
          },
          "metadata": {
            "tags": []
          },
          "execution_count": 80
        }
      ]
    },
    {
      "cell_type": "code",
      "metadata": {
        "id": "l93IV4Mk45Uy",
        "colab_type": "code",
        "outputId": "a5434a6a-4aa5-4a44-da93-87643502c8cf",
        "colab": {
          "base_uri": "https://localhost:8080/",
          "height": 34
        }
      },
      "source": [
        "# Equation (7) with 'dot' score from Section 3.1 in the paper.\n",
        "# Note that we reuse Softmax-activation layer instead of writing tensor calculation\n",
        "# attention = dot([decoder, encoder], axes=[2, 2])\n",
        "# print(attention)\n",
        "attention = Dense(eng_max_length, activation='tanh')(attention)\n",
        "attention = Activation('softmax')(attention)\n",
        "print('attention', attention)"
      ],
      "execution_count": 81,
      "outputs": [
        {
          "output_type": "stream",
          "text": [
            "attention Tensor(\"activation_1/truediv:0\", shape=(?, 17, 8), dtype=float32)\n"
          ],
          "name": "stdout"
        }
      ]
    },
    {
      "cell_type": "code",
      "metadata": {
        "id": "PIc0iVgfMifz",
        "colab_type": "code",
        "outputId": "4ddc8ea8-f722-4389-cd16-cb97b7dfdcb5",
        "colab": {
          "base_uri": "https://localhost:8080/",
          "height": 34
        }
      },
      "source": [
        "context = dot([attention, encoder], axes = [2,1])\n",
        "context\n"
      ],
      "execution_count": 82,
      "outputs": [
        {
          "output_type": "execute_result",
          "data": {
            "text/plain": [
              "<tf.Tensor 'dot_2/MatMul:0' shape=(?, 17, 256) dtype=float32>"
            ]
          },
          "metadata": {
            "tags": []
          },
          "execution_count": 82
        }
      ]
    },
    {
      "cell_type": "code",
      "metadata": {
        "id": "JtQqnGoCMi6M",
        "colab_type": "code",
        "outputId": "91ae09ae-7b6c-4a20-d945-bfeb7a95f6bc",
        "colab": {
          "base_uri": "https://localhost:8080/",
          "height": 34
        }
      },
      "source": [
        "decoder_combined_context = concatenate([context, decoder])\n",
        "print('decoder_combined_context', decoder_combined_context)"
      ],
      "execution_count": 83,
      "outputs": [
        {
          "output_type": "stream",
          "text": [
            "decoder_combined_context Tensor(\"concatenate_1/concat:0\", shape=(?, 17, 512), dtype=float32)\n"
          ],
          "name": "stdout"
        }
      ]
    },
    {
      "cell_type": "code",
      "metadata": {
        "id": "SIs1VlboMi3m",
        "colab_type": "code",
        "outputId": "af8ed624-b40c-43c9-a800-bc42331a50c6",
        "colab": {
          "base_uri": "https://localhost:8080/",
          "height": 34
        }
      },
      "source": [
        "output_dict_size = num_decoder_tokens+1\n",
        "#output = (Dense(100, activation=\"relu\"))(decoder_combined_context)\n",
        "#output = (Dense(output_dict_size, activation=\"softmax\"))(output)\n",
        "#decoder_combined_context = Dense(200, activation='tanh')(decoder_combined_context)\n",
        "#decoder_combined_context = Dense(2000, activation='tanh')(decoder_combined_context)\n",
        "decoder_combined_context = Dense(2000, activation='tanh')(decoder_combined_context)\n",
        "output = (Dense(output_dict_size, activation=\"softmax\"))(decoder_combined_context)\n",
        "print('output', output)"
      ],
      "execution_count": 84,
      "outputs": [
        {
          "output_type": "stream",
          "text": [
            "output Tensor(\"dense_9/truediv:0\", shape=(?, 17, 359), dtype=float32)\n"
          ],
          "name": "stdout"
        }
      ]
    },
    {
      "cell_type": "code",
      "metadata": {
        "id": "dIg-pwU6Mi03",
        "colab_type": "code",
        "colab": {}
      },
      "source": [
        "model4 = Model(inputs=[encoder_inputs, decoder_inputs], outputs=[output])\n",
        "model4.compile(optimizer='adam', loss='categorical_crossentropy',metrics = ['accuracy'])"
      ],
      "execution_count": 0,
      "outputs": []
    },
    {
      "cell_type": "code",
      "metadata": {
        "id": "q2-NyZ_PMixr",
        "colab_type": "code",
        "outputId": "a3c9fba1-09fd-46fb-b4eb-ba49fce81cd6",
        "colab": {
          "base_uri": "https://localhost:8080/",
          "height": 782
        }
      },
      "source": [
        "model4.summary()"
      ],
      "execution_count": 86,
      "outputs": [
        {
          "output_type": "stream",
          "text": [
            "Model: \"model_2\"\n",
            "__________________________________________________________________________________________________\n",
            "Layer (type)                    Output Shape         Param #     Connected to                     \n",
            "==================================================================================================\n",
            "input_4 (InputLayer)            (None, 17)           0                                            \n",
            "__________________________________________________________________________________________________\n",
            "input_3 (InputLayer)            (None, 8)            0                                            \n",
            "__________________________________________________________________________________________________\n",
            "embedding_6 (Embedding)         (None, 17, 128)      45952       input_4[0][0]                    \n",
            "__________________________________________________________________________________________________\n",
            "embedding_5 (Embedding)         (None, 8, 128)       49408       input_3[0][0]                    \n",
            "__________________________________________________________________________________________________\n",
            "dropout_2 (Dropout)             (None, 17, 128)      0           embedding_6[0][0]                \n",
            "__________________________________________________________________________________________________\n",
            "dropout_1 (Dropout)             (None, 8, 128)       0           embedding_5[0][0]                \n",
            "__________________________________________________________________________________________________\n",
            "lstm_8 (LSTM)                   (None, 17, 256)      394240      dropout_2[0][0]                  \n",
            "__________________________________________________________________________________________________\n",
            "lstm_7 (LSTM)                   (None, 8, 256)       394240      dropout_1[0][0]                  \n",
            "__________________________________________________________________________________________________\n",
            "dense_5 (Dense)                 (None, 17, 5000)     1285000     lstm_8[0][0]                     \n",
            "__________________________________________________________________________________________________\n",
            "dense_6 (Dense)                 (None, 8, 5000)      1285000     lstm_7[0][0]                     \n",
            "__________________________________________________________________________________________________\n",
            "dot_1 (Dot)                     (None, 17, 8)        0           dense_5[0][0]                    \n",
            "                                                                 dense_6[0][0]                    \n",
            "__________________________________________________________________________________________________\n",
            "dense_7 (Dense)                 (None, 17, 8)        72          dot_1[0][0]                      \n",
            "__________________________________________________________________________________________________\n",
            "activation_1 (Activation)       (None, 17, 8)        0           dense_7[0][0]                    \n",
            "__________________________________________________________________________________________________\n",
            "dot_2 (Dot)                     (None, 17, 256)      0           activation_1[0][0]               \n",
            "                                                                 lstm_7[0][0]                     \n",
            "__________________________________________________________________________________________________\n",
            "concatenate_1 (Concatenate)     (None, 17, 512)      0           dot_2[0][0]                      \n",
            "                                                                 lstm_8[0][0]                     \n",
            "__________________________________________________________________________________________________\n",
            "dense_8 (Dense)                 (None, 17, 2000)     1026000     concatenate_1[0][0]              \n",
            "__________________________________________________________________________________________________\n",
            "dense_9 (Dense)                 (None, 17, 359)      718359      dense_8[0][0]                    \n",
            "==================================================================================================\n",
            "Total params: 5,198,271\n",
            "Trainable params: 5,198,271\n",
            "Non-trainable params: 0\n",
            "__________________________________________________________________________________________________\n"
          ],
          "name": "stdout"
        }
      ]
    },
    {
      "cell_type": "code",
      "metadata": {
        "id": "zUxLaYdT_pHR",
        "colab_type": "code",
        "outputId": "88443faa-643b-48eb-8a1c-c01811a932f5",
        "colab": {
          "base_uri": "https://localhost:8080/",
          "height": 153
        }
      },
      "source": [
        "!apt install graphviz\n",
        "!pip install pydot pydot-ng"
      ],
      "execution_count": 87,
      "outputs": [
        {
          "output_type": "stream",
          "text": [
            "Reading package lists... Done\n",
            "Building dependency tree       \n",
            "Reading state information... Done\n",
            "graphviz is already the newest version (2.40.1-2).\n",
            "0 upgraded, 0 newly installed, 0 to remove and 8 not upgraded.\n",
            "Requirement already satisfied: pydot in /usr/local/lib/python3.6/dist-packages (1.3.0)\n",
            "Requirement already satisfied: pydot-ng in /usr/local/lib/python3.6/dist-packages (2.0.0)\n",
            "Requirement already satisfied: pyparsing>=2.1.4 in /usr/local/lib/python3.6/dist-packages (from pydot) (2.4.2)\n"
          ],
          "name": "stdout"
        }
      ]
    },
    {
      "cell_type": "code",
      "metadata": {
        "id": "8_xssrGU_rAv",
        "colab_type": "code",
        "colab": {}
      },
      "source": [
        "from keras.utils import plot_model"
      ],
      "execution_count": 0,
      "outputs": []
    },
    {
      "cell_type": "code",
      "metadata": {
        "id": "mjqOGtPL_tq2",
        "colab_type": "code",
        "colab": {}
      },
      "source": [
        "plot_model(model4, show_shapes=True, show_layer_names=True, to_file='model.png')\n",
        "from IPython.display import Image"
      ],
      "execution_count": 0,
      "outputs": []
    },
    {
      "cell_type": "code",
      "metadata": {
        "id": "g-ED2LdF_yvT",
        "colab_type": "code",
        "outputId": "e73d8210-fd6e-4a4d-c946-51856039dc55",
        "colab": {
          "base_uri": "https://localhost:8080/",
          "height": 662
        }
      },
      "source": [
        "Image(retina=True, filename='model.png')"
      ],
      "execution_count": 90,
      "outputs": [
        {
          "output_type": "execute_result",
          "data": {
            "image/png": "[encoded data removed]",
            "text/plain": [
              "<IPython.core.display.Image object>"
            ]
          },
          "metadata": {
            "tags": [],
            "image/png": {
              "width": 501,
              "height": 645
            }
          },
          "execution_count": 90
        }
      ]
    },
    {
      "cell_type": "code",
      "metadata": {
        "id": "YMfxNSiDMiuv",
        "colab_type": "code",
        "outputId": "f130dc78-404c-414e-89c5-00da52f4f521",
        "colab": {
          "base_uri": "https://localhost:8080/",
          "height": 204
        }
      },
      "source": [
        "history4 = model4.fit([encoder_input_data, decoder_input_data], decoder_target_data,\n",
        "          batch_size=32,\n",
        "          epochs=5,\n",
        "          validation_split=0.05)"
      ],
      "execution_count": 91,
      "outputs": [
        {
          "output_type": "stream",
          "text": [
            "Train on 47500 samples, validate on 2500 samples\n",
            "Epoch 1/5\n",
            "47500/47500 [==============================] - 94s 2ms/step - loss: 0.7458 - acc: 0.8472 - val_loss: 0.7391 - val_acc: 0.8269\n",
            "Epoch 2/5\n",
            "47500/47500 [==============================] - 86s 2ms/step - loss: 0.4569 - acc: 0.8854 - val_loss: 0.6169 - val_acc: 0.8477\n",
            "Epoch 3/5\n",
            "47500/47500 [==============================] - 86s 2ms/step - loss: 0.3828 - acc: 0.8993 - val_loss: 0.5625 - val_acc: 0.8567\n",
            "Epoch 4/5\n",
            "47500/47500 [==============================] - 86s 2ms/step - loss: 0.3428 - acc: 0.9068 - val_loss: 0.5230 - val_acc: 0.8649\n",
            "Epoch 5/5\n",
            "47500/47500 [==============================] - 86s 2ms/step - loss: 0.3179 - acc: 0.9118 - val_loss: 0.5035 - val_acc: 0.8686\n"
          ],
          "name": "stdout"
        }
      ]
    },
    {
      "cell_type": "code",
      "metadata": {
        "id": "ULG8Skfl_n09",
        "colab_type": "code",
        "outputId": "426dc987-fa89-4e91-a4c5-7ab3b09368d2",
        "colab": {
          "base_uri": "https://localhost:8080/",
          "height": 388
        }
      },
      "source": [
        "history_dict = history4.history\n",
        "loss_values = history_dict['loss']\n",
        "val_loss_values = history_dict['val_loss']\n",
        "acc_values = history_dict['acc']\n",
        "val_acc_values = history_dict['val_acc']\n",
        "epochs = range(1, len(val_loss_values) + 1)\n",
        "import matplotlib.pyplot as plt\n",
        "%matplotlib inline \n",
        "\n",
        "plt.subplot(211)\n",
        "plt.plot(epochs, history4.history['loss'], 'ro', label='Training loss')\n",
        "plt.plot(epochs, val_loss_values, 'b', label='Test loss')\n",
        "plt.title('Training and test loss')\n",
        "plt.xlabel('Epochs')\n",
        "plt.ylabel('Loss')\n",
        "plt.legend()\n",
        "plt.grid('off')\n",
        "plt.show()\n",
        "\n",
        "plt.subplot(212)\n",
        "plt.plot(epochs, history4.history['acc'], 'ro', label='Training accuracy')\n",
        "plt.plot(epochs, val_acc_values, 'b', label='Test accuracy')\n",
        "plt.title('Training and test accuracy')\n",
        "plt.xlabel('Epochs')\n",
        "plt.ylabel('Accuracy')\n",
        "plt.gca().set_yticklabels(['{:.0f}%'.format(x*100) for x in plt.gca().get_yticks()]) \n",
        "plt.legend()\n",
        "plt.grid('off')\n",
        "plt.show()"
      ],
      "execution_count": 92,
      "outputs": [
        {
          "output_type": "stream",
          "text": [
            "/usr/local/lib/python3.6/dist-packages/matplotlib/cbook/__init__.py:424: MatplotlibDeprecationWarning: \n",
            "Passing one of 'on', 'true', 'off', 'false' as a boolean is deprecated; use an actual boolean (True/False) instead.\n",
            "  warn_deprecated(\"2.2\", \"Passing one of 'on', 'true', 'off', 'false' as a \"\n"
          ],
          "name": "stderr"
        },
        {
          "output_type": "display_data",
          "data": {
            "image/png": "[encoded data removed]",
            "text/plain": [
              "<Figure size 432x288 with 1 Axes>"
            ]
          },
          "metadata": {
            "tags": []
          }
        },
        {
          "output_type": "display_data",
          "data": {
            "image/png": "[encoded data removed]",
            "text/plain": [
              "<Figure size 432x288 with 1 Axes>"
            ]
          },
          "metadata": {
            "tags": []
          }
        }
      ]
    },
    {
      "cell_type": "code",
      "metadata": {
        "id": "a4uF1VoaFS5A",
        "colab_type": "code",
        "outputId": "87ea269f-b111-4130-d464-3796fc48a5eb",
        "colab": {
          "base_uri": "https://localhost:8080/",
          "height": 1000
        }
      },
      "source": [
        "decoder_input_data_pred = np.zeros(\n",
        "    (len(lines.fr), fr_max_length),\n",
        "    dtype='float32')\n",
        "\n",
        "final_pred_att = []\n",
        "for i in range(2500):\n",
        "  if(i%10==0):\n",
        "    print(i)\n",
        "  word = 284\n",
        "  for j in range(17):\n",
        "    decoder_input_data_pred[(47500+i), j] = word\n",
        "    pred = model4.predict([encoder_input_data[(47500+i)].reshape(1,8),decoder_input_data_pred[47500+i].reshape(1,17)])\n",
        "    t = np.argmax(pred[0][j])\n",
        "    word = t\n",
        "    if word==89:\n",
        "      break\n",
        "  final_pred_att.append(list(decoder_input_data_pred[47500+i]))\t"
      ],
      "execution_count": 93,
      "outputs": [
        {
          "output_type": "stream",
          "text": [
            "0\n",
            "10\n",
            "20\n",
            "30\n",
            "40\n",
            "50\n",
            "60\n",
            "70\n",
            "80\n",
            "90\n",
            "100\n",
            "110\n",
            "120\n",
            "130\n",
            "140\n",
            "150\n",
            "160\n",
            "170\n",
            "180\n",
            "190\n",
            "200\n",
            "210\n",
            "220\n",
            "230\n",
            "240\n",
            "250\n",
            "260\n",
            "270\n",
            "280\n",
            "290\n",
            "300\n",
            "310\n",
            "320\n",
            "330\n",
            "340\n",
            "350\n",
            "360\n",
            "370\n",
            "380\n",
            "390\n",
            "400\n",
            "410\n",
            "420\n",
            "430\n",
            "440\n",
            "450\n",
            "460\n",
            "470\n",
            "480\n",
            "490\n",
            "500\n",
            "510\n",
            "520\n",
            "530\n",
            "540\n",
            "550\n",
            "560\n",
            "570\n",
            "580\n",
            "590\n",
            "600\n",
            "610\n",
            "620\n",
            "630\n",
            "640\n",
            "650\n",
            "660\n",
            "670\n",
            "680\n",
            "690\n",
            "700\n",
            "710\n",
            "720\n",
            "730\n",
            "740\n",
            "750\n",
            "760\n",
            "770\n",
            "780\n",
            "790\n",
            "800\n",
            "810\n",
            "820\n",
            "830\n",
            "840\n",
            "850\n",
            "860\n",
            "870\n",
            "880\n",
            "890\n",
            "900\n",
            "910\n",
            "920\n",
            "930\n",
            "940\n",
            "950\n",
            "960\n",
            "970\n",
            "980\n",
            "990\n",
            "1000\n",
            "1010\n",
            "1020\n",
            "1030\n",
            "1040\n",
            "1050\n",
            "1060\n",
            "1070\n",
            "1080\n",
            "1090\n",
            "1100\n",
            "1110\n",
            "1120\n",
            "1130\n",
            "1140\n",
            "1150\n",
            "1160\n",
            "1170\n",
            "1180\n",
            "1190\n",
            "1200\n",
            "1210\n",
            "1220\n",
            "1230\n",
            "1240\n",
            "1250\n",
            "1260\n",
            "1270\n",
            "1280\n",
            "1290\n",
            "1300\n",
            "1310\n",
            "1320\n",
            "1330\n",
            "1340\n",
            "1350\n",
            "1360\n",
            "1370\n",
            "1380\n",
            "1390\n",
            "1400\n",
            "1410\n",
            "1420\n",
            "1430\n",
            "1440\n",
            "1450\n",
            "1460\n",
            "1470\n",
            "1480\n",
            "1490\n",
            "1500\n",
            "1510\n",
            "1520\n",
            "1530\n",
            "1540\n",
            "1550\n",
            "1560\n",
            "1570\n",
            "1580\n",
            "1590\n",
            "1600\n",
            "1610\n",
            "1620\n",
            "1630\n",
            "1640\n",
            "1650\n",
            "1660\n",
            "1670\n",
            "1680\n",
            "1690\n",
            "1700\n",
            "1710\n",
            "1720\n",
            "1730\n",
            "1740\n",
            "1750\n",
            "1760\n",
            "1770\n",
            "1780\n",
            "1790\n",
            "1800\n",
            "1810\n",
            "1820\n",
            "1830\n",
            "1840\n",
            "1850\n",
            "1860\n",
            "1870\n",
            "1880\n",
            "1890\n",
            "1900\n",
            "1910\n",
            "1920\n",
            "1930\n",
            "1940\n",
            "1950\n",
            "1960\n",
            "1970\n",
            "1980\n",
            "1990\n",
            "2000\n",
            "2010\n",
            "2020\n",
            "2030\n",
            "2040\n",
            "2050\n",
            "2060\n",
            "2070\n",
            "2080\n",
            "2090\n",
            "2100\n",
            "2110\n",
            "2120\n",
            "2130\n",
            "2140\n",
            "2150\n",
            "2160\n",
            "2170\n",
            "2180\n",
            "2190\n",
            "2200\n",
            "2210\n",
            "2220\n",
            "2230\n",
            "2240\n",
            "2250\n",
            "2260\n",
            "2270\n",
            "2280\n",
            "2290\n",
            "2300\n",
            "2310\n",
            "2320\n",
            "2330\n",
            "2340\n",
            "2350\n",
            "2360\n",
            "2370\n",
            "2380\n",
            "2390\n",
            "2400\n",
            "2410\n",
            "2420\n",
            "2430\n",
            "2440\n",
            "2450\n",
            "2460\n",
            "2470\n",
            "2480\n",
            "2490\n"
          ],
          "name": "stdout"
        }
      ]
    },
    {
      "cell_type": "code",
      "metadata": {
        "id": "a9etONejFS0L",
        "colab_type": "code",
        "outputId": "91c7bc65-7f03-457c-eb7f-93a51d06c6fd",
        "colab": {
          "base_uri": "https://localhost:8080/",
          "height": 34
        }
      },
      "source": [
        "final_pred2_att = np.array(final_pred_att)\n",
        "count = 0\n",
        "correct_count = 0\n",
        "\n",
        "for i in range(2500):\n",
        "  correct_count += np.sum((decoder_input_data[47500+i]==final_pred2_att[i]) & (decoder_input_data[47500+i]!=89))\n",
        "  count += np.sum(decoder_input_data[47500+i]!=89)\n",
        "correct_count/count  "
      ],
      "execution_count": 94,
      "outputs": [
        {
          "output_type": "execute_result",
          "data": {
            "text/plain": [
              "0.5201557202059526"
            ]
          },
          "metadata": {
            "tags": []
          },
          "execution_count": 94
        }
      ]
    },
    {
      "cell_type": "code",
      "metadata": {
        "id": "PLXsGitg1dfx",
        "colab_type": "code",
        "colab": {}
      },
      "source": [
        "k = -2400"
      ],
      "execution_count": 0,
      "outputs": []
    },
    {
      "cell_type": "code",
      "metadata": {
        "id": "9MErX47CMic9",
        "colab_type": "code",
        "colab": {}
      },
      "source": [
        "t = model4.predict([encoder_input_data[k].reshape(1,encoder_input_data.shape[1]),decoder_input_data[k].reshape(1,decoder_input_data.shape[1])]).reshape(decoder_input_data.shape[1], num_decoder_tokens+1)"
      ],
      "execution_count": 0,
      "outputs": []
    },
    {
      "cell_type": "code",
      "metadata": {
        "id": "L-m9Oo_t1pdr",
        "colab_type": "code",
        "outputId": "a6f586c4-f5ae-43f6-bc62-c30b4cb342ab",
        "colab": {
          "base_uri": "https://localhost:8080/",
          "height": 85
        }
      },
      "source": [
        "for i in range(len(encoder_input_data[k])):\n",
        "  if int(encoder_input_data[k][i])!=0:\n",
        "    print(list(input_token_index.keys())[int(encoder_input_data[k][i]-1)])"
      ],
      "execution_count": 97,
      "outputs": [
        {
          "output_type": "stream",
          "text": [
            "i\n",
            "feel\n",
            "like\n",
            "unk\n"
          ],
          "name": "stdout"
        }
      ]
    },
    {
      "cell_type": "code",
      "metadata": {
        "id": "GolIEG_D1pnz",
        "colab_type": "code",
        "outputId": "264a6480-2ba7-4c72-fa8b-88e8baa9d7a1",
        "colab": {
          "base_uri": "https://localhost:8080/",
          "height": 306
        }
      },
      "source": [
        "t2 = np.argmax(t,axis=1)\n",
        "for i in range(len(t2)):\n",
        "  if int(t2[i])!=0:\n",
        "    print(list(target_token_index.keys())[int(t2[i]-1)])"
      ],
      "execution_count": 98,
      "outputs": [
        {
          "output_type": "stream",
          "text": [
            "jai\n",
            "unk\n",
            "unk\n",
            "unk\n",
            "des\n",
            "unk\n",
            "end\n",
            "end\n",
            "end\n",
            "end\n",
            "end\n",
            "end\n",
            "end\n",
            "end\n",
            "end\n",
            "end\n",
            "end\n"
          ],
          "name": "stdout"
        }
      ]
    },
    {
      "cell_type": "code",
      "metadata": {
        "id": "HH8mQ11E1v2Z",
        "colab_type": "code",
        "outputId": "4362cdee-d632-44e5-e053-69c34ba2c113",
        "colab": {
          "base_uri": "https://localhost:8080/",
          "height": 306
        }
      },
      "source": [
        "t2 = decoder_input_data[k]\n",
        "for i in range(len(t2)):\n",
        "  if int(t2[i])!=0:\n",
        "    print(list(target_token_index.keys())[int(t2[i]-1)])"
      ],
      "execution_count": 99,
      "outputs": [
        {
          "output_type": "stream",
          "text": [
            "start\n",
            "jai\n",
            "unk\n",
            "de\n",
            "faire\n",
            "la\n",
            "unk\n",
            "end\n",
            "end\n",
            "end\n",
            "end\n",
            "end\n",
            "end\n",
            "end\n",
            "end\n",
            "end\n",
            "end\n"
          ],
          "name": "stdout"
        }
      ]
    },
    {
      "cell_type": "code",
      "metadata": {
        "id": "srk85_SD1v_l",
        "colab_type": "code",
        "colab": {}
      },
      "source": [
        ""
      ],
      "execution_count": 0,
      "outputs": []
    },
    {
      "cell_type": "code",
      "metadata": {
        "id": "E-eXix35Qal8",
        "colab_type": "code",
        "colab": {}
      },
      "source": [
        ""
      ],
      "execution_count": 0,
      "outputs": []
    }
  ]
}