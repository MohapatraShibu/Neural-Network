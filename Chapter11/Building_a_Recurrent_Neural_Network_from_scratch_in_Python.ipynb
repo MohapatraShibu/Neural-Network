{
  "nbformat": 4,
  "nbformat_minor": 0,
  "metadata": {
    "colab": {
      "name": "Building_a_Recurrent_Neural_Network_from_scratch_in_Python (2).ipynb",
      "provenance": [],
      "collapsed_sections": []
    },
    "kernelspec": {
      "name": "python3",
      "display_name": "Python 3"
    }
  },
  "cells": [
    {
      "cell_type": "markdown",
      "metadata": {
        "id": "R5kbGLn5emR2",
        "colab_type": "text"
      },
      "source": [
        "https://colab.research.google.com/drive/1uxoiX1h44kSc3UceUfon2oxq3SYYO-H3"
      ]
    },
    {
      "cell_type": "code",
      "metadata": {
        "id": "Z1rVurXIH-8k",
        "colab_type": "code",
        "outputId": "3035068a-a3ad-418a-d3dc-996f1146bea7",
        "colab": {
          "base_uri": "https://localhost:8080/",
          "height": 34
        }
      },
      "source": [
        "from keras.preprocessing.text import one_hot\n",
        "from keras.preprocessing.sequence import pad_sequences\n",
        "from keras.models import Sequential\n",
        "from keras.layers import Dense\n",
        "from keras.layers import Flatten\n",
        "from keras.layers.recurrent import SimpleRNN\n",
        "from keras.layers.embeddings import Embedding\n",
        "from keras.layers import LSTM\n",
        "import numpy as np"
      ],
      "execution_count": 0,
      "outputs": [
        {
          "output_type": "stream",
          "text": [
            "Using TensorFlow backend.\n"
          ],
          "name": "stderr"
        }
      ]
    },
    {
      "cell_type": "code",
      "metadata": {
        "id": "vWk2skDBNiat",
        "colab_type": "code",
        "colab": {}
      },
      "source": [
        "from keras.utils import to_categorical"
      ],
      "execution_count": 0,
      "outputs": []
    },
    {
      "cell_type": "code",
      "metadata": {
        "id": "3ARkH7KqIACA",
        "colab_type": "code",
        "colab": {}
      },
      "source": [
        "#define documents\n",
        "docs = ['this is','is an']\n",
        "# define class labels\n",
        "labels = ['an','example']\n",
        "\n",
        "\n",
        "from collections import Counter\n",
        "counts = Counter()\n",
        "for i,review in enumerate(docs+labels):\n",
        "  counts.update(review.split())\n",
        "words = sorted(counts, key=counts.get, reverse=True)\n",
        "vocab_size=len(words)\n",
        "word_to_int = {word: i for i, word in enumerate(words, 1)}\n",
        "\n",
        "encoded_docs = []\n",
        "for doc in docs:\n",
        "  encoded_docs.append([word_to_int[word] for word in doc.split()])\n",
        "encoded_labels = []\n",
        "for label in labels:\n",
        "  encoded_labels.append([word_to_int[word] for word in label.split()])"
      ],
      "execution_count": 0,
      "outputs": []
    },
    {
      "cell_type": "code",
      "metadata": {
        "id": "m9jf91sPPhYa",
        "colab_type": "code",
        "outputId": "a085b1f7-9c8a-44ae-9615-117291de2a50",
        "colab": {
          "base_uri": "https://localhost:8080/",
          "height": 34
        }
      },
      "source": [
        "word_to_int"
      ],
      "execution_count": 0,
      "outputs": [
        {
          "output_type": "execute_result",
          "data": {
            "text/plain": [
              "{'an': 2, 'example': 4, 'is': 1, 'this': 3}"
            ]
          },
          "metadata": {
            "tags": []
          },
          "execution_count": 4
        }
      ]
    },
    {
      "cell_type": "code",
      "metadata": {
        "id": "YWOXLN8UQUkm",
        "colab_type": "code",
        "outputId": "f3799369-2200-4cea-ce22-a316eea88f53",
        "colab": {
          "base_uri": "https://localhost:8080/",
          "height": 51
        }
      },
      "source": [
        "print('encoded_docs: ',encoded_docs)\n",
        "print('encoded_labels: ',encoded_labels)"
      ],
      "execution_count": 0,
      "outputs": [
        {
          "output_type": "stream",
          "text": [
            "encoded_docs:  [[3, 1], [1, 2]]\n",
            "encoded_labels:  [[2], [4]]\n"
          ],
          "name": "stdout"
        }
      ]
    },
    {
      "cell_type": "code",
      "metadata": {
        "id": "VPpPFRiWIFK_",
        "colab_type": "code",
        "outputId": "09714825-a5ad-4496-81eb-339d7a30133c",
        "colab": {
          "base_uri": "https://localhost:8080/",
          "height": 51
        }
      },
      "source": [
        "# pad documents to a max length of 2 words\n",
        "max_length = 2\n",
        "padded_docs = pad_sequences(encoded_docs, maxlen=max_length, padding='pre')\n",
        "print(padded_docs)"
      ],
      "execution_count": 0,
      "outputs": [
        {
          "output_type": "stream",
          "text": [
            "[[3 1]\n",
            " [1 2]]\n"
          ],
          "name": "stdout"
        }
      ]
    },
    {
      "cell_type": "code",
      "metadata": {
        "id": "QC5QnJtxSUta",
        "colab_type": "code",
        "outputId": "fecc9314-f748-4d3d-b042-ebdb64c91fd0",
        "colab": {
          "base_uri": "https://localhost:8080/",
          "height": 51
        }
      },
      "source": [
        "# processing the output dataset\n",
        "one_hot_encoded_labels = to_categorical(encoded_labels, num_classes=5)\n",
        "print(one_hot_encoded_labels)"
      ],
      "execution_count": 0,
      "outputs": [
        {
          "output_type": "stream",
          "text": [
            "[[0. 0. 1. 0. 0.]\n",
            " [0. 0. 0. 0. 1.]]\n"
          ],
          "name": "stdout"
        }
      ]
    },
    {
      "cell_type": "code",
      "metadata": {
        "id": "TB6M-CwmIJA4",
        "colab_type": "code",
        "outputId": "56dca5c6-0bf0-4e49-8812-3bf6d54a54a4",
        "colab": {
          "base_uri": "https://localhost:8080/",
          "height": 408
        }
      },
      "source": [
        "# define the model\n",
        "embed_length=1\n",
        "max_length=2\n",
        "model = Sequential()\n",
        "model.add(SimpleRNN(1,activation='tanh', return_sequences=False,recurrent_initializer='Zeros',input_shape=(max_length,embed_length),unroll=True))\n",
        "model.add(Dense(5, activation='softmax'))\n",
        "# compile the model\n",
        "model.compile(optimizer='adam', loss='categorical_crossentropy', metrics=['acc'])\n",
        "# summarize the model\n",
        "print(model.summary())"
      ],
      "execution_count": 0,
      "outputs": [
        {
          "output_type": "stream",
          "text": [
            "WARNING:tensorflow:From /usr/local/lib/python3.6/dist-packages/keras/backend/tensorflow_backend.py:66: The name tf.get_default_graph is deprecated. Please use tf.compat.v1.get_default_graph instead.\n",
            "\n",
            "WARNING:tensorflow:From /usr/local/lib/python3.6/dist-packages/keras/backend/tensorflow_backend.py:541: The name tf.placeholder is deprecated. Please use tf.compat.v1.placeholder instead.\n",
            "\n",
            "WARNING:tensorflow:From /usr/local/lib/python3.6/dist-packages/keras/backend/tensorflow_backend.py:4432: The name tf.random_uniform is deprecated. Please use tf.random.uniform instead.\n",
            "\n",
            "WARNING:tensorflow:From /usr/local/lib/python3.6/dist-packages/keras/optimizers.py:793: The name tf.train.Optimizer is deprecated. Please use tf.compat.v1.train.Optimizer instead.\n",
            "\n",
            "WARNING:tensorflow:From /usr/local/lib/python3.6/dist-packages/keras/backend/tensorflow_backend.py:3576: The name tf.log is deprecated. Please use tf.math.log instead.\n",
            "\n",
            "Model: \"sequential_1\"\n",
            "_________________________________________________________________\n",
            "Layer (type)                 Output Shape              Param #   \n",
            "=================================================================\n",
            "simple_rnn_1 (SimpleRNN)     (None, 1)                 3         \n",
            "_________________________________________________________________\n",
            "dense_1 (Dense)              (None, 5)                 10        \n",
            "=================================================================\n",
            "Total params: 13\n",
            "Trainable params: 13\n",
            "Non-trainable params: 0\n",
            "_________________________________________________________________\n",
            "None\n"
          ],
          "name": "stdout"
        }
      ]
    },
    {
      "cell_type": "code",
      "metadata": {
        "id": "nb0TC3BTINjA",
        "colab_type": "code",
        "colab": {}
      },
      "source": [
        "model.fit(padded_docs.reshape(2,2,1),np.array(one_hot_encoded_labels),epochs=500)"
      ],
      "execution_count": 0,
      "outputs": []
    },
    {
      "cell_type": "code",
      "metadata": {
        "id": "i-U_R92kIQya",
        "colab_type": "code",
        "outputId": "dc4f976d-f4b3-49ef-94e1-4ecb05b92288",
        "colab": {
          "base_uri": "https://localhost:8080/",
          "height": 102
        }
      },
      "source": [
        "model.weights"
      ],
      "execution_count": 0,
      "outputs": [
        {
          "output_type": "execute_result",
          "data": {
            "text/plain": [
              "[<tf.Variable 'simple_rnn_1/kernel:0' shape=(1, 1) dtype=float32_ref>,\n",
              " <tf.Variable 'simple_rnn_1/recurrent_kernel:0' shape=(1, 1) dtype=float32_ref>,\n",
              " <tf.Variable 'simple_rnn_1/bias:0' shape=(1,) dtype=float32_ref>,\n",
              " <tf.Variable 'dense_1/kernel:0' shape=(1, 5) dtype=float32_ref>,\n",
              " <tf.Variable 'dense_1/bias:0' shape=(5,) dtype=float32_ref>]"
            ]
          },
          "metadata": {
            "tags": []
          },
          "execution_count": 10
        }
      ]
    },
    {
      "cell_type": "code",
      "metadata": {
        "id": "d-R-YHTTIaHh",
        "colab_type": "code",
        "outputId": "156b697a-c192-4c10-c03a-c77485ca84c3",
        "colab": {
          "base_uri": "https://localhost:8080/",
          "height": 136
        }
      },
      "source": [
        "model.get_weights()"
      ],
      "execution_count": 0,
      "outputs": [
        {
          "output_type": "execute_result",
          "data": {
            "text/plain": [
              "[array([[-0.46506366]], dtype=float32),\n",
              " array([[-0.3498325]], dtype=float32),\n",
              " array([0.3742378], dtype=float32),\n",
              " array([[-0.07940943,  1.0316525 ,  0.82078505,  0.69793195,  0.5232159 ]],\n",
              "       dtype=float32),\n",
              " array([-0.40055057, -0.4714679 ,  0.43754113, -0.44841036,  0.4264429 ],\n",
              "       dtype=float32)]"
            ]
          },
          "metadata": {
            "tags": []
          },
          "execution_count": 11
        }
      ]
    },
    {
      "cell_type": "code",
      "metadata": {
        "id": "L2EIKOB6Iuk_",
        "colab_type": "code",
        "outputId": "5ffc4b99-62da-444a-d537-4d0d3a570507",
        "colab": {
          "base_uri": "https://localhost:8080/",
          "height": 34
        }
      },
      "source": [
        "model.get_weights()[0]"
      ],
      "execution_count": 0,
      "outputs": [
        {
          "output_type": "execute_result",
          "data": {
            "text/plain": [
              "array([[-0.46506366]], dtype=float32)"
            ]
          },
          "metadata": {
            "tags": []
          },
          "execution_count": 12
        }
      ]
    },
    {
      "cell_type": "code",
      "metadata": {
        "id": "fwyfczAYIbsh",
        "colab_type": "code",
        "outputId": "c4bfb4b0-0daf-4497-a8bd-44929177bb90",
        "colab": {
          "base_uri": "https://localhost:8080/",
          "height": 51
        }
      },
      "source": [
        "model.predict(padded_docs[0].reshape(1,2,1))"
      ],
      "execution_count": 0,
      "outputs": [
        {
          "output_type": "execute_result",
          "data": {
            "text/plain": [
              "array([[0.11790387, 0.13366564, 0.31960246, 0.12894824, 0.29987988]],\n",
              "      dtype=float32)"
            ]
          },
          "metadata": {
            "tags": []
          },
          "execution_count": 13
        }
      ]
    },
    {
      "cell_type": "code",
      "metadata": {
        "id": "PnI34PY3K3Av",
        "colab_type": "code",
        "outputId": "c4a0b827-9fa4-4451-fe4f-39bfbb051954",
        "colab": {
          "base_uri": "https://localhost:8080/",
          "height": 34
        }
      },
      "source": [
        "padded_docs[0]"
      ],
      "execution_count": 0,
      "outputs": [
        {
          "output_type": "execute_result",
          "data": {
            "text/plain": [
              "array([3, 1], dtype=int32)"
            ]
          },
          "metadata": {
            "tags": []
          },
          "execution_count": 14
        }
      ]
    },
    {
      "cell_type": "code",
      "metadata": {
        "id": "BFV5F3QRIf_a",
        "colab_type": "code",
        "colab": {}
      },
      "source": [
        "input_t0 = 3\n",
        "input_t0_kernel_bias = input_t0*model.get_weights()[0] + model.get_weights()[2]"
      ],
      "execution_count": 0,
      "outputs": []
    },
    {
      "cell_type": "code",
      "metadata": {
        "id": "GMvs-AoNI10G",
        "colab_type": "code",
        "colab": {}
      },
      "source": [
        "hidden_layer0_value = np.tanh(input_t0_kernel_bias)"
      ],
      "execution_count": 0,
      "outputs": []
    },
    {
      "cell_type": "code",
      "metadata": {
        "id": "AGjDGn7TI9sr",
        "colab_type": "code",
        "colab": {}
      },
      "source": [
        "input_t1 = 1\n",
        "input_t1_kernel_bias = input_t1*model.get_weights()[0] + model.get_weights()[2]"
      ],
      "execution_count": 0,
      "outputs": []
    },
    {
      "cell_type": "code",
      "metadata": {
        "id": "N6E18qa4JscI",
        "colab_type": "code",
        "colab": {}
      },
      "source": [
        "input_t1_recurrent = hidden_layer0_value*model.get_weights()[1]"
      ],
      "execution_count": 0,
      "outputs": []
    },
    {
      "cell_type": "code",
      "metadata": {
        "id": "fR4aYSWsKChL",
        "colab_type": "code",
        "colab": {}
      },
      "source": [
        "total_input_t1 = input_t1_kernel_bias + input_t1_recurrent"
      ],
      "execution_count": 0,
      "outputs": []
    },
    {
      "cell_type": "code",
      "metadata": {
        "id": "LP2XzgCVKGCx",
        "colab_type": "code",
        "colab": {}
      },
      "source": [
        "output_t1 = np.tanh(total_input_t1)"
      ],
      "execution_count": 0,
      "outputs": []
    },
    {
      "cell_type": "code",
      "metadata": {
        "id": "yeWTORhqKKFN",
        "colab_type": "code",
        "outputId": "875f6560-060a-45d4-f817-e6d743995b37",
        "colab": {
          "base_uri": "https://localhost:8080/",
          "height": 51
        }
      },
      "source": [
        "final_output = output_t1*model.get_weights()[3] + model.get_weights()[4]\n",
        "final_output"
      ],
      "execution_count": 0,
      "outputs": [
        {
          "output_type": "execute_result",
          "data": {
            "text/plain": [
              "array([[-0.41458684, -0.28911504,  0.58262146, -0.3250453 ,  0.5189255 ]],\n",
              "      dtype=float32)"
            ]
          },
          "metadata": {
            "tags": []
          },
          "execution_count": 21
        }
      ]
    },
    {
      "cell_type": "code",
      "metadata": {
        "id": "WratbnoMKRHG",
        "colab_type": "code",
        "outputId": "e7b54141-a320-4ca4-8ed7-6151ab965f30",
        "colab": {
          "base_uri": "https://localhost:8080/",
          "height": 51
        }
      },
      "source": [
        "np.exp(final_output)/np.sum(np.exp(final_output))"
      ],
      "execution_count": 0,
      "outputs": [
        {
          "output_type": "execute_result",
          "data": {
            "text/plain": [
              "array([[0.11790387, 0.13366562, 0.31960243, 0.12894824, 0.29987985]],\n",
              "      dtype=float32)"
            ]
          },
          "metadata": {
            "tags": []
          },
          "execution_count": 22
        }
      ]
    },
    {
      "cell_type": "code",
      "metadata": {
        "id": "bZPmNJGYKb1z",
        "colab_type": "code",
        "colab": {}
      },
      "source": [
        ""
      ],
      "execution_count": 0,
      "outputs": []
    }
  ]
}