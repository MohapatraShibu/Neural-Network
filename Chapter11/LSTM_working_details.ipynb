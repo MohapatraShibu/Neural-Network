{
  "nbformat": 4,
  "nbformat_minor": 0,
  "metadata": {
    "colab": {
      "name": "LSTM_working_details.ipynb",
      "provenance": [],
      "collapsed_sections": []
    },
    "kernelspec": {
      "name": "python3",
      "display_name": "Python 3"
    }
  },
  "cells": [
    {
      "cell_type": "markdown",
      "metadata": {
        "id": "m13sEc1jhniy",
        "colab_type": "text"
      },
      "source": [
        "https://colab.research.google.com/drive/1McyZC6yB1mbUqfpUQXccvTTReSwAm04e"
      ]
    },
    {
      "cell_type": "code",
      "metadata": {
        "id": "yyMxGbMQrROO",
        "colab_type": "code",
        "outputId": "6d2e90ac-401f-4ee8-8cf2-c7c5a03a47a2",
        "colab": {
          "base_uri": "https://localhost:8080/",
          "height": 34
        }
      },
      "source": [
        "from keras.preprocessing.text import one_hot\n",
        "from keras.preprocessing.sequence import pad_sequences\n",
        "from keras.models import Sequential\n",
        "from keras.layers import Dense\n",
        "from keras.layers import Flatten\n",
        "from keras.layers.recurrent import SimpleRNN\n",
        "from keras.layers.embeddings import Embedding\n",
        "from keras.layers import LSTM\n",
        "import numpy as np\n",
        "from keras.utils import to_categorical"
      ],
      "execution_count": 0,
      "outputs": [
        {
          "output_type": "stream",
          "text": [
            "Using TensorFlow backend.\n"
          ],
          "name": "stderr"
        }
      ]
    },
    {
      "cell_type": "code",
      "metadata": {
        "id": "NaCFIgnArR_M",
        "colab_type": "code",
        "colab": {}
      },
      "source": [
        "#define documents\n",
        "docs = ['this is','is an']\n",
        "# define class labels\n",
        "labels = ['an','example']\n",
        "\n",
        "\n",
        "from collections import Counter\n",
        "counts = Counter()\n",
        "for i,review in enumerate(docs+labels):\n",
        "  counts.update(review.split())\n",
        "words = sorted(counts, key=counts.get, reverse=True)\n",
        "vocab_size=len(words)\n",
        "word_to_int = {word: i for i, word in enumerate(words, 1)}\n",
        "\n",
        "encoded_docs = []\n",
        "for doc in docs:\n",
        "  encoded_docs.append([word_to_int[word] for word in doc.split()])\n",
        "encoded_labels = []\n",
        "for label in labels:\n",
        "  encoded_labels.append([word_to_int[word] for word in label.split()])"
      ],
      "execution_count": 0,
      "outputs": []
    },
    {
      "cell_type": "code",
      "metadata": {
        "id": "nf_KL_zzrWVp",
        "colab_type": "code",
        "outputId": "fe7dd379-fd2b-4ee8-91a0-944a7032f844",
        "colab": {
          "base_uri": "https://localhost:8080/",
          "height": 51
        }
      },
      "source": [
        "# pad documents to a max length of 2 words\n",
        "max_length = 2\n",
        "padded_docs = pad_sequences(encoded_docs, maxlen=max_length, padding='pre')\n",
        "print(padded_docs)"
      ],
      "execution_count": 0,
      "outputs": [
        {
          "output_type": "stream",
          "text": [
            "[[3 1]\n",
            " [1 2]]\n"
          ],
          "name": "stdout"
        }
      ]
    },
    {
      "cell_type": "code",
      "metadata": {
        "id": "6fjcE6nQrYZv",
        "colab_type": "code",
        "outputId": "b5abcb14-c463-445f-9b99-8156bdd42fc0",
        "colab": {
          "base_uri": "https://localhost:8080/",
          "height": 51
        }
      },
      "source": [
        "# processing the output dataset\n",
        "one_hot_encoded_labels = to_categorical(encoded_labels, num_classes=5)\n",
        "print(one_hot_encoded_labels)"
      ],
      "execution_count": 0,
      "outputs": [
        {
          "output_type": "stream",
          "text": [
            "[[0. 0. 1. 0. 0.]\n",
            " [0. 0. 0. 0. 1.]]\n"
          ],
          "name": "stdout"
        }
      ]
    },
    {
      "cell_type": "code",
      "metadata": {
        "id": "v6ik-maX5_9m",
        "colab_type": "code",
        "colab": {}
      },
      "source": [
        ""
      ],
      "execution_count": 0,
      "outputs": []
    },
    {
      "cell_type": "code",
      "metadata": {
        "id": "nB8SxrEmraBs",
        "colab_type": "code",
        "outputId": "14986540-6f62-41dd-bb58-90751f229c49",
        "colab": {
          "base_uri": "https://localhost:8080/",
          "height": 238
        }
      },
      "source": [
        "# define the model\n",
        "embed_length=1\n",
        "max_length=2\n",
        "model = Sequential()\n",
        "model.add(LSTM(1,activation='tanh', return_sequences=False,recurrent_initializer='Zeros',recurrent_activation='sigmoid',\n",
        "               input_shape=(max_length,embed_length),unroll=True))\n",
        "model.add(Dense(5, activation='softmax'))\n",
        "# compile the model\n",
        "model.compile(optimizer='adam', loss='binary_crossentropy', metrics=['acc'])\n",
        "# summarize the model\n",
        "print(model.summary())"
      ],
      "execution_count": 0,
      "outputs": [
        {
          "output_type": "stream",
          "text": [
            "Model: \"sequential_2\"\n",
            "_________________________________________________________________\n",
            "Layer (type)                 Output Shape              Param #   \n",
            "=================================================================\n",
            "lstm_2 (LSTM)                (None, 1)                 12        \n",
            "_________________________________________________________________\n",
            "dense_2 (Dense)              (None, 5)                 10        \n",
            "=================================================================\n",
            "Total params: 22\n",
            "Trainable params: 22\n",
            "Non-trainable params: 0\n",
            "_________________________________________________________________\n",
            "None\n"
          ],
          "name": "stdout"
        }
      ]
    },
    {
      "cell_type": "code",
      "metadata": {
        "id": "HTXy_upsr0PZ",
        "colab_type": "code",
        "colab": {}
      },
      "source": [
        "model.fit(padded_docs.reshape(2,2,1),np.array(one_hot_encoded_labels),epochs=500)"
      ],
      "execution_count": 0,
      "outputs": []
    },
    {
      "cell_type": "code",
      "metadata": {
        "id": "JGbiSZO1sAeq",
        "colab_type": "code",
        "outputId": "8febb9f8-3915-4f36-82fd-00cc11e42732",
        "colab": {
          "base_uri": "https://localhost:8080/",
          "height": 102
        }
      },
      "source": [
        "model.weights"
      ],
      "execution_count": 0,
      "outputs": [
        {
          "output_type": "execute_result",
          "data": {
            "text/plain": [
              "[<tf.Variable 'lstm_2/kernel:0' shape=(1, 4) dtype=float32_ref>,\n",
              " <tf.Variable 'lstm_2/recurrent_kernel:0' shape=(1, 4) dtype=float32_ref>,\n",
              " <tf.Variable 'lstm_2/bias:0' shape=(4,) dtype=float32_ref>,\n",
              " <tf.Variable 'dense_2/kernel:0' shape=(1, 5) dtype=float32_ref>,\n",
              " <tf.Variable 'dense_2/bias:0' shape=(5,) dtype=float32_ref>]"
            ]
          },
          "metadata": {
            "tags": []
          },
          "execution_count": 11
        }
      ]
    },
    {
      "cell_type": "code",
      "metadata": {
        "id": "mtQv7o4osSUw",
        "colab_type": "code",
        "outputId": "d01786c9-337b-4fc4-9d03-a29ae9aed686",
        "colab": {
          "base_uri": "https://localhost:8080/",
          "height": 153
        }
      },
      "source": [
        "model.get_weights()"
      ],
      "execution_count": 0,
      "outputs": [
        {
          "output_type": "execute_result",
          "data": {
            "text/plain": [
              "[array([[ 0.01893798, -0.01265655,  0.45142433, -0.2514151 ]],\n",
              "       dtype=float32),\n",
              " array([[0.19410396, 0.72569233, 0.79784596, 0.54982764]], dtype=float32),\n",
              " array([0.31918937, 1.5844553 , 0.15022673, 0.31409034], dtype=float32),\n",
              " array([[-0.38649145, -0.13294883,  0.969494  , -0.8276547 , -0.32456025]],\n",
              "       dtype=float32),\n",
              " array([-0.44486812, -0.4477383 ,  0.42624277, -0.4402125 ,  0.46074733],\n",
              "       dtype=float32)]"
            ]
          },
          "metadata": {
            "tags": []
          },
          "execution_count": 12
        }
      ]
    },
    {
      "cell_type": "code",
      "metadata": {
        "id": "79Ui6JrY0SbC",
        "colab_type": "code",
        "outputId": "19ef7960-375d-4654-807a-d193fc1479e2",
        "colab": {
          "base_uri": "https://localhost:8080/",
          "height": 34
        }
      },
      "source": [
        "padded_docs[0]"
      ],
      "execution_count": 0,
      "outputs": [
        {
          "output_type": "execute_result",
          "data": {
            "text/plain": [
              "array([3, 1], dtype=int32)"
            ]
          },
          "metadata": {
            "tags": []
          },
          "execution_count": 13
        }
      ]
    },
    {
      "cell_type": "code",
      "metadata": {
        "id": "3y9pS9eWsUiu",
        "colab_type": "code",
        "outputId": "908261ce-bf59-44a9-ec42-1aff90b36860",
        "colab": {
          "base_uri": "https://localhost:8080/",
          "height": 51
        }
      },
      "source": [
        "model.predict(padded_docs[0].reshape(1,2,1))"
      ],
      "execution_count": 0,
      "outputs": [
        {
          "output_type": "execute_result",
          "data": {
            "text/plain": [
              "array([[0.10610605, 0.11620068, 0.41860935, 0.09055618, 0.26852772]],\n",
              "      dtype=float32)"
            ]
          },
          "metadata": {
            "tags": []
          },
          "execution_count": 14
        }
      ]
    },
    {
      "cell_type": "code",
      "metadata": {
        "id": "gSDYggsNvxhn",
        "colab_type": "code",
        "outputId": "e14bafc7-6bcc-42c2-c877-600477882e24",
        "colab": {
          "base_uri": "https://localhost:8080/",
          "height": 51
        }
      },
      "source": [
        "model.get_weights()[0]"
      ],
      "execution_count": 0,
      "outputs": [
        {
          "output_type": "execute_result",
          "data": {
            "text/plain": [
              "array([[ 0.01893798, -0.01265655,  0.45142433, -0.2514151 ]],\n",
              "      dtype=float32)"
            ]
          },
          "metadata": {
            "tags": []
          },
          "execution_count": 15
        }
      ]
    },
    {
      "cell_type": "code",
      "metadata": {
        "id": "9aPyJDewsWwk",
        "colab_type": "code",
        "colab": {}
      },
      "source": [
        "input_t0 = 3\n",
        "cell_state0 = 0\n",
        "forget0 = input_t0*model.get_weights()[0][0][1] + model.get_weights()[2][1]\n",
        "forget1 = 1/(1+np.exp(-(forget0)))"
      ],
      "execution_count": 0,
      "outputs": []
    },
    {
      "cell_type": "code",
      "metadata": {
        "id": "IHCP4mKsvOH3",
        "colab_type": "code",
        "colab": {}
      },
      "source": [
        "cell_state1 = forget1 * cell_state0"
      ],
      "execution_count": 0,
      "outputs": []
    },
    {
      "cell_type": "code",
      "metadata": {
        "id": "f0f-goPLvVf5",
        "colab_type": "code",
        "colab": {}
      },
      "source": [
        "input_t0_1 = input_t0*model.get_weights()[0][0][0] + model.get_weights()[2][0]\n",
        "input_t0_2 = 1/(1+np.exp(-(input_t0_1)))"
      ],
      "execution_count": 0,
      "outputs": []
    },
    {
      "cell_type": "code",
      "metadata": {
        "id": "zwZzPDdkvtpU",
        "colab_type": "code",
        "colab": {}
      },
      "source": [
        "input_t0_cell1 = input_t0*model.get_weights()[0][0][2] + model.get_weights()[2][2]\n",
        "input_t0_cell2 = np.tanh(input_t0_cell1)"
      ],
      "execution_count": 0,
      "outputs": []
    },
    {
      "cell_type": "code",
      "metadata": {
        "id": "ESeZaSQVwQzk",
        "colab_type": "code",
        "colab": {}
      },
      "source": [
        "input_t0_cell3 = input_t0_cell2*input_t0_2"
      ],
      "execution_count": 0,
      "outputs": []
    },
    {
      "cell_type": "code",
      "metadata": {
        "id": "AafgY8CdwbR7",
        "colab_type": "code",
        "colab": {}
      },
      "source": [
        "input_t0_cell4 = input_t0_cell3 + cell_state1"
      ],
      "execution_count": 0,
      "outputs": []
    },
    {
      "cell_type": "code",
      "metadata": {
        "id": "QfBi0J-rwg9C",
        "colab_type": "code",
        "colab": {}
      },
      "source": [
        "output_t0_1 = input_t0*model.get_weights()[0][0][3] + model.get_weights()[2][3]\n",
        "output_t0_2 = 1/(1+np.exp(-output_t0_1))"
      ],
      "execution_count": 0,
      "outputs": []
    },
    {
      "cell_type": "code",
      "metadata": {
        "id": "LMmGk79xwvHB",
        "colab_type": "code",
        "colab": {}
      },
      "source": [
        "hidden_layer_1 = np.tanh(input_t0_cell4)*output_t0_2"
      ],
      "execution_count": 0,
      "outputs": []
    },
    {
      "cell_type": "code",
      "metadata": {
        "id": "yGzDsuS0w7T4",
        "colab_type": "code",
        "colab": {}
      },
      "source": [
        ""
      ],
      "execution_count": 0,
      "outputs": []
    },
    {
      "cell_type": "code",
      "metadata": {
        "id": "xyqn6siYxgu_",
        "colab_type": "code",
        "colab": {}
      },
      "source": [
        "input_t1 = 1\n",
        "cell_state1 = input_t0_cell4"
      ],
      "execution_count": 0,
      "outputs": []
    },
    {
      "cell_type": "code",
      "metadata": {
        "id": "70zAOnhaxpZ3",
        "colab_type": "code",
        "colab": {}
      },
      "source": [
        "forget21 = hidden_layer_1*model.get_weights()[1][0][1] + model.get_weights()[2][1] + input_t1*model.get_weights()[0][0][1]\n",
        "forget_22 = 1/(1+np.exp(-(forget21)))"
      ],
      "execution_count": 0,
      "outputs": []
    },
    {
      "cell_type": "code",
      "metadata": {
        "id": "oGHN32DcyDre",
        "colab_type": "code",
        "colab": {}
      },
      "source": [
        "cell_state2 = cell_state1 * forget_22"
      ],
      "execution_count": 0,
      "outputs": []
    },
    {
      "cell_type": "code",
      "metadata": {
        "id": "XU2ubHTuyJ3s",
        "colab_type": "code",
        "colab": {}
      },
      "source": [
        "input_t1_1 = input_t1*model.get_weights()[0][0][0] + model.get_weights()[2][0] + hidden_layer_1*model.get_weights()[1][0][0]\n",
        "input_t1_2 = 1/(1+np.exp(-(input_t1_1)))"
      ],
      "execution_count": 0,
      "outputs": []
    },
    {
      "cell_type": "code",
      "metadata": {
        "id": "7F-T4xnLzAQO",
        "colab_type": "code",
        "colab": {}
      },
      "source": [
        "input_t1_cell1 = input_t1*model.get_weights()[0][0][2] + model.get_weights()[2][2]+ hidden_layer_1*model.get_weights()[1][0][2]\n",
        "input_t1_cell2 = np.tanh(input_t1_cell1)"
      ],
      "execution_count": 0,
      "outputs": []
    },
    {
      "cell_type": "code",
      "metadata": {
        "id": "aNam-m9BzKbs",
        "colab_type": "code",
        "colab": {}
      },
      "source": [
        "input_t1_cell3 = input_t1_cell2*input_t1_2"
      ],
      "execution_count": 0,
      "outputs": []
    },
    {
      "cell_type": "code",
      "metadata": {
        "id": "24hMufUKzRuy",
        "colab_type": "code",
        "colab": {}
      },
      "source": [
        "input_t1_cell4 = input_t1_cell3 + cell_state2"
      ],
      "execution_count": 0,
      "outputs": []
    },
    {
      "cell_type": "code",
      "metadata": {
        "id": "VVIX7vWAzYBq",
        "colab_type": "code",
        "colab": {}
      },
      "source": [
        "output_t1_1 = input_t1*model.get_weights()[0][0][3] + model.get_weights()[2][3]+ hidden_layer_1*model.get_weights()[1][0][3]\n",
        "output_t1_2 = 1/(1+np.exp(-output_t1_1))"
      ],
      "execution_count": 0,
      "outputs": []
    },
    {
      "cell_type": "code",
      "metadata": {
        "id": "ZvSEnxxFzmAk",
        "colab_type": "code",
        "colab": {}
      },
      "source": [
        "hidden_layer_2 = np.tanh(input_t1_cell4)*output_t1_2"
      ],
      "execution_count": 0,
      "outputs": []
    },
    {
      "cell_type": "code",
      "metadata": {
        "id": "y4K2JsoezruE",
        "colab_type": "code",
        "colab": {}
      },
      "source": [
        "final_output = hidden_layer_2 * model.get_weights()[3][0] + model.get_weights()[4]"
      ],
      "execution_count": 0,
      "outputs": []
    },
    {
      "cell_type": "code",
      "metadata": {
        "id": "lLarxVDXz_Kv",
        "colab_type": "code",
        "outputId": "b5712689-55c1-4fab-e82b-f1b1af40cc35",
        "colab": {
          "base_uri": "https://localhost:8080/",
          "height": 51
        }
      },
      "source": [
        "np.exp(final_output)/np.sum(np.exp(final_output))"
      ],
      "execution_count": 0,
      "outputs": [
        {
          "output_type": "execute_result",
          "data": {
            "text/plain": [
              "array([0.10610606, 0.11620067, 0.41860938, 0.09055619, 0.26852775],\n",
              "      dtype=float32)"
            ]
          },
          "metadata": {
            "tags": []
          },
          "execution_count": 34
        }
      ]
    },
    {
      "cell_type": "code",
      "metadata": {
        "id": "VuI4l52rlJTe",
        "colab_type": "code",
        "colab": {}
      },
      "source": [
        ""
      ],
      "execution_count": 0,
      "outputs": []
    }
  ]
}