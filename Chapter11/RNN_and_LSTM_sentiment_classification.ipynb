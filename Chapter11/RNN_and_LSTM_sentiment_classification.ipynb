{
  "nbformat": 4,
  "nbformat_minor": 0,
  "metadata": {
    "colab": {
      "name": "RNN_and_LSTM_sentiment_classification.ipynb",
      "provenance": [],
      "collapsed_sections": []
    },
    "kernelspec": {
      "display_name": "Python [Root]",
      "language": "python",
      "name": "Python [Root]"
    }
  },
  "cells": [
    {
      "cell_type": "markdown",
      "metadata": {
        "id": "TrHc2WK-iS_u",
        "colab_type": "text"
      },
      "source": [
        "https://colab.research.google.com/drive/1GZyy6PCtvA5BMGYOrJBEfCFT4uFF2nA8"
      ]
    },
    {
      "cell_type": "code",
      "metadata": {
        "id": "gxe7ZnfzWgkf",
        "colab_type": "code",
        "outputId": "af50403d-1ce8-4032-d932-3c5881e86717",
        "colab": {
          "base_uri": "https://localhost:8080/",
          "height": 34
        }
      },
      "source": [
        "#import relevant packages\n",
        "from keras.layers import Dense, Activation\n",
        "from keras.layers.recurrent import SimpleRNN\n",
        "from keras.models import Sequential\n",
        "from keras.utils import to_categorical\n",
        "from keras.layers.embeddings import Embedding\n",
        "from sklearn.model_selection import train_test_split\n",
        "import numpy as np\n",
        "import nltk\n",
        "from nltk.corpus import stopwords\n",
        "import re\n",
        "import pandas as pd"
      ],
      "execution_count": 0,
      "outputs": [
        {
          "output_type": "stream",
          "text": [
            "Using TensorFlow backend.\n"
          ],
          "name": "stderr"
        }
      ]
    },
    {
      "cell_type": "code",
      "metadata": {
        "id": "KN4HuZTy9oW1",
        "colab_type": "code",
        "outputId": "98ee994b-e1c9-4794-f2e5-7e4e3de2a599",
        "colab": {
          "base_uri": "https://localhost:8080/",
          "height": 357
        }
      },
      "source": [
        "!wget https://www.dropbox.com/s/8yq0edd4q908xqw/airline_sentiment.csv?dl=1"
      ],
      "execution_count": 0,
      "outputs": [
        {
          "output_type": "stream",
          "text": [
            "--2019-10-02 08:28:00--  https://www.dropbox.com/s/8yq0edd4q908xqw/airline_sentiment.csv?dl=1\n",
            "Resolving www.dropbox.com (www.dropbox.com)... 162.125.8.1, 2620:100:6016:1::a27d:101\n",
            "Connecting to www.dropbox.com (www.dropbox.com)|162.125.8.1|:443... connected.\n",
            "HTTP request sent, awaiting response... 301 Moved Permanently\n",
            "Location: /s/dl/8yq0edd4q908xqw/airline_sentiment.csv [following]\n",
            "--2019-10-02 08:28:00--  https://www.dropbox.com/s/dl/8yq0edd4q908xqw/airline_sentiment.csv\n",
            "Reusing existing connection to www.dropbox.com:443.\n",
            "HTTP request sent, awaiting response... 302 Found\n",
            "Location: https://uc131c30d94f2961d8f7d5911da4.dl.dropboxusercontent.com/cd/0/get/AppDiLlKjiD8VQGEUkXYU1DCthvvMfzVaMzMUqXU8ZofvZ_wRKk9-2qjZrvkz4jU3g8WrdRRnj2AYegzc5FBPhyNdkqVsAVdwFlRHxpIighr8A/file?dl=1# [following]\n",
            "--2019-10-02 08:28:00--  https://uc131c30d94f2961d8f7d5911da4.dl.dropboxusercontent.com/cd/0/get/AppDiLlKjiD8VQGEUkXYU1DCthvvMfzVaMzMUqXU8ZofvZ_wRKk9-2qjZrvkz4jU3g8WrdRRnj2AYegzc5FBPhyNdkqVsAVdwFlRHxpIighr8A/file?dl=1\n",
            "Resolving uc131c30d94f2961d8f7d5911da4.dl.dropboxusercontent.com (uc131c30d94f2961d8f7d5911da4.dl.dropboxusercontent.com)... 162.125.1.6, 2620:100:6016:6::a27d:106\n",
            "Connecting to uc131c30d94f2961d8f7d5911da4.dl.dropboxusercontent.com (uc131c30d94f2961d8f7d5911da4.dl.dropboxusercontent.com)|162.125.1.6|:443... connected.\n",
            "HTTP request sent, awaiting response... 200 OK\n",
            "Length: 1305250 (1.2M) [application/binary]\n",
            "Saving to: ‘airline_sentiment.csv?dl=1’\n",
            "\n",
            "airline_sentiment.c 100%[===================>]   1.24M  --.-KB/s    in 0.05s   \n",
            "\n",
            "2019-10-02 08:28:01 (27.2 MB/s) - ‘airline_sentiment.csv?dl=1’ saved [1305250/1305250]\n",
            "\n"
          ],
          "name": "stdout"
        }
      ]
    },
    {
      "cell_type": "code",
      "metadata": {
        "id": "b-obchM192WH",
        "colab_type": "code",
        "outputId": "8df359b6-fab1-47b1-fb8e-550a0f670628",
        "colab": {
          "base_uri": "https://localhost:8080/",
          "height": 34
        }
      },
      "source": [
        "!ls"
      ],
      "execution_count": 0,
      "outputs": [
        {
          "output_type": "stream",
          "text": [
            "'airline_sentiment.csv?dl=1'   sample_data\n"
          ],
          "name": "stdout"
        }
      ]
    },
    {
      "cell_type": "code",
      "metadata": {
        "id": "WY4zhjQpWgkr",
        "colab_type": "code",
        "outputId": "23e34735-df00-4749-d980-a9489a98cb94",
        "colab": {
          "base_uri": "https://localhost:8080/",
          "height": 204
        }
      },
      "source": [
        "t=pd.read_csv('/content/airline_sentiment.csv?dl=1')\n",
        "t.head()"
      ],
      "execution_count": 0,
      "outputs": [
        {
          "output_type": "execute_result",
          "data": {
            "text/html": [
              "<div>\n",
              "<style scoped>\n",
              "    .dataframe tbody tr th:only-of-type {\n",
              "        vertical-align: middle;\n",
              "    }\n",
              "\n",
              "    .dataframe tbody tr th {\n",
              "        vertical-align: top;\n",
              "    }\n",
              "\n",
              "    .dataframe thead th {\n",
              "        text-align: right;\n",
              "    }\n",
              "</style>\n",
              "<table border=\"1\" class=\"dataframe\">\n",
              "  <thead>\n",
              "    <tr style=\"text-align: right;\">\n",
              "      <th></th>\n",
              "      <th>airline_sentiment</th>\n",
              "      <th>text</th>\n",
              "    </tr>\n",
              "  </thead>\n",
              "  <tbody>\n",
              "    <tr>\n",
              "      <th>0</th>\n",
              "      <td>1</td>\n",
              "      <td>@VirginAmerica plus you've added commercials t...</td>\n",
              "    </tr>\n",
              "    <tr>\n",
              "      <th>1</th>\n",
              "      <td>0</td>\n",
              "      <td>@VirginAmerica it's really aggressive to blast...</td>\n",
              "    </tr>\n",
              "    <tr>\n",
              "      <th>2</th>\n",
              "      <td>0</td>\n",
              "      <td>@VirginAmerica and it's a really big bad thing...</td>\n",
              "    </tr>\n",
              "    <tr>\n",
              "      <th>3</th>\n",
              "      <td>0</td>\n",
              "      <td>@VirginAmerica seriously would pay $30 a fligh...</td>\n",
              "    </tr>\n",
              "    <tr>\n",
              "      <th>4</th>\n",
              "      <td>1</td>\n",
              "      <td>@VirginAmerica yes, nearly every time I fly VX...</td>\n",
              "    </tr>\n",
              "  </tbody>\n",
              "</table>\n",
              "</div>"
            ],
            "text/plain": [
              "   airline_sentiment                                               text\n",
              "0                  1  @VirginAmerica plus you've added commercials t...\n",
              "1                  0  @VirginAmerica it's really aggressive to blast...\n",
              "2                  0  @VirginAmerica and it's a really big bad thing...\n",
              "3                  0  @VirginAmerica seriously would pay $30 a fligh...\n",
              "4                  1  @VirginAmerica yes, nearly every time I fly VX..."
            ]
          },
          "metadata": {
            "tags": []
          },
          "execution_count": 4
        }
      ]
    },
    {
      "cell_type": "code",
      "metadata": {
        "id": "L3MHa68uWgkz",
        "colab_type": "code",
        "outputId": "955de000-daa2-4d4c-d3d1-84e8b2229a45",
        "colab": {
          "base_uri": "https://localhost:8080/",
          "height": 51
        }
      },
      "source": [
        "import nltk\n",
        "nltk.download('stopwords')\n",
        "stop = nltk.corpus.stopwords.words('english')"
      ],
      "execution_count": 0,
      "outputs": [
        {
          "output_type": "stream",
          "text": [
            "[nltk_data] Downloading package stopwords to /root/nltk_data...\n",
            "[nltk_data]   Unzipping corpora/stopwords.zip.\n"
          ],
          "name": "stdout"
        }
      ]
    },
    {
      "cell_type": "code",
      "metadata": {
        "id": "9Wb3M6jIWgk2",
        "colab_type": "code",
        "colab": {}
      },
      "source": [
        "def preprocess(text):\n",
        "    text=text.lower()\n",
        "    text=re.sub('[^0-9a-zA-Z]+',' ',text)\n",
        "    words = text.split()\n",
        "    words2=[w for w in words if (w not in stop)]\n",
        "    #words3=[ps.stem(w) for w in words]\n",
        "    words4=' '.join(words2)\n",
        "    return(words4)"
      ],
      "execution_count": 0,
      "outputs": []
    },
    {
      "cell_type": "code",
      "metadata": {
        "id": "t2gXWeDTWgk4",
        "colab_type": "code",
        "colab": {}
      },
      "source": [
        "t['text'] = t['text'].apply(preprocess)"
      ],
      "execution_count": 0,
      "outputs": []
    },
    {
      "cell_type": "code",
      "metadata": {
        "id": "Jq2mz7dMWgk6",
        "colab_type": "code",
        "colab": {}
      },
      "source": [
        "from collections import Counter\n",
        "counts = Counter()\n",
        "for i,review in enumerate(t['text']):\n",
        "    counts.update(review.split())"
      ],
      "execution_count": 0,
      "outputs": []
    },
    {
      "cell_type": "code",
      "metadata": {
        "id": "vUoKXQksWgk9",
        "colab_type": "code",
        "outputId": "2e7c84d1-7bed-4d16-eb77-ab618cba8dee",
        "colab": {
          "base_uri": "https://localhost:8080/",
          "height": 187
        }
      },
      "source": [
        "words = sorted(counts, key=counts.get, reverse=True)\n",
        "words[0:10]"
      ],
      "execution_count": 0,
      "outputs": [
        {
          "output_type": "execute_result",
          "data": {
            "text/plain": [
              "['united',\n",
              " 'flight',\n",
              " 'usairways',\n",
              " 'americanair',\n",
              " 'southwestair',\n",
              " 'jetblue',\n",
              " 'get',\n",
              " 'cancelled',\n",
              " 'thanks',\n",
              " 'service']"
            ]
          },
          "metadata": {
            "tags": []
          },
          "execution_count": 9
        }
      ]
    },
    {
      "cell_type": "code",
      "metadata": {
        "id": "003q10B4WglA",
        "colab_type": "code",
        "outputId": "c30f2623-e3f2-456c-d840-d717bb715acf",
        "colab": {
          "base_uri": "https://localhost:8080/",
          "height": 34
        }
      },
      "source": [
        "chars = words\n",
        "nb_chars = len(words)\n",
        "nb_chars"
      ],
      "execution_count": 0,
      "outputs": [
        {
          "output_type": "execute_result",
          "data": {
            "text/plain": [
              "12532"
            ]
          },
          "metadata": {
            "tags": []
          },
          "execution_count": 10
        }
      ]
    },
    {
      "cell_type": "code",
      "metadata": {
        "id": "LobcZ4HEWglE",
        "colab_type": "code",
        "colab": {}
      },
      "source": [
        "word_to_int = {word: i for i, word in enumerate(words, 1)}\n",
        "int_to_word = {i: word for i, word in enumerate(words, 1)}"
      ],
      "execution_count": 0,
      "outputs": []
    },
    {
      "cell_type": "code",
      "metadata": {
        "id": "SewigN-_l0FF",
        "colab_type": "code",
        "colab": {}
      },
      "source": [
        "int_to_word"
      ],
      "execution_count": 0,
      "outputs": []
    },
    {
      "cell_type": "code",
      "metadata": {
        "id": "5hM8Ka3IWglP",
        "colab_type": "code",
        "colab": {}
      },
      "source": [
        "mapped_reviews = []\n",
        "for review in t['text']:\n",
        "    mapped_reviews.append([word_to_int[word] for word in review.split()])"
      ],
      "execution_count": 0,
      "outputs": []
    },
    {
      "cell_type": "code",
      "metadata": {
        "id": "ZMVkpTt2mIRq",
        "colab_type": "code",
        "outputId": "3ae5b554-4ecb-4760-88b2-3fad7f19629c",
        "colab": {
          "base_uri": "https://localhost:8080/",
          "height": 51
        }
      },
      "source": [
        "print('Original text:',t.loc[0]['text'])\n",
        "print('Mapped text:',mapped_reviews[0])"
      ],
      "execution_count": 0,
      "outputs": [
        {
          "output_type": "stream",
          "text": [
            "Original text: virginamerica plus added commercials experience tacky\n",
            "Mapped text: [44, 450, 1142, 2233, 100, 5429]\n"
          ],
          "name": "stdout"
        }
      ]
    },
    {
      "cell_type": "code",
      "metadata": {
        "id": "bewMIqLVWglT",
        "colab_type": "code",
        "outputId": "b6c8e37a-74bc-4abc-8504-ebe2cd7eef7c",
        "colab": {
          "base_uri": "https://localhost:8080/",
          "height": 68
        }
      },
      "source": [
        "t.loc[0:1]['text']"
      ],
      "execution_count": 0,
      "outputs": [
        {
          "output_type": "execute_result",
          "data": {
            "text/plain": [
              "0    virginamerica plus added commercials experienc...\n",
              "1    virginamerica really aggressive blast obnoxiou...\n",
              "Name: text, dtype: object"
            ]
          },
          "metadata": {
            "tags": []
          },
          "execution_count": 15
        }
      ]
    },
    {
      "cell_type": "code",
      "metadata": {
        "id": "Zn_nkiQWWglX",
        "colab_type": "code",
        "outputId": "0a6675c3-3f0d-41a4-e045-23f097da3b41",
        "colab": {
          "base_uri": "https://localhost:8080/",
          "height": 51
        }
      },
      "source": [
        "mapped_reviews[0:2]"
      ],
      "execution_count": 0,
      "outputs": [
        {
          "output_type": "execute_result",
          "data": {
            "text/plain": [
              "[[44, 450, 1142, 2233, 100, 5429],\n",
              " [44, 57, 3036, 3845, 3846, 815, 3037, 3847, 19, 366, 2234]]"
            ]
          },
          "metadata": {
            "tags": []
          },
          "execution_count": 16
        }
      ]
    },
    {
      "cell_type": "code",
      "metadata": {
        "id": "3Cd32eGeCz9K",
        "colab_type": "code",
        "outputId": "213951ae-8c75-43a5-cde1-0fac36c94c6a",
        "colab": {
          "base_uri": "https://localhost:8080/",
          "height": 34
        }
      },
      "source": [
        "length_sent = []\n",
        "for i in range(len(mapped_reviews)):\n",
        "  length_sent.append(len(mapped_reviews[i]))\n",
        "max(length_sent)"
      ],
      "execution_count": 0,
      "outputs": [
        {
          "output_type": "execute_result",
          "data": {
            "text/plain": [
              "26"
            ]
          },
          "metadata": {
            "tags": []
          },
          "execution_count": 17
        }
      ]
    },
    {
      "cell_type": "code",
      "metadata": {
        "id": "hHCBcPejWglb",
        "colab_type": "code",
        "colab": {}
      },
      "source": [
        "sequence_length = max(length_sent)\n",
        "from keras.preprocessing.sequence import pad_sequences\n",
        "X = pad_sequences(maxlen=sequence_length, sequences=mapped_reviews, padding=\"post\", value=0)"
      ],
      "execution_count": 0,
      "outputs": []
    },
    {
      "cell_type": "code",
      "metadata": {
        "id": "EpDc9SCaWgld",
        "colab_type": "code",
        "outputId": "82e98523-fd7a-45d1-8eca-ac83c53f996b",
        "colab": {
          "base_uri": "https://localhost:8080/",
          "height": 34
        }
      },
      "source": [
        "X.shape"
      ],
      "execution_count": 0,
      "outputs": [
        {
          "output_type": "execute_result",
          "data": {
            "text/plain": [
              "(11541, 26)"
            ]
          },
          "metadata": {
            "tags": []
          },
          "execution_count": 19
        }
      ]
    },
    {
      "cell_type": "code",
      "metadata": {
        "id": "rZXXQr5OWglh",
        "colab_type": "code",
        "colab": {}
      },
      "source": [
        "y=t['airline_sentiment'].values"
      ],
      "execution_count": 0,
      "outputs": []
    },
    {
      "cell_type": "code",
      "metadata": {
        "id": "NZVO0ey8Wglj",
        "colab_type": "code",
        "colab": {}
      },
      "source": [
        "X_train, X_test, y_train, y_test = train_test_split(X, y, test_size=0.30,random_state=10)\n",
        "y_train2 = to_categorical(y_train)\n",
        "y_test2 = to_categorical(y_test)"
      ],
      "execution_count": 0,
      "outputs": []
    },
    {
      "cell_type": "code",
      "metadata": {
        "id": "8e-ylS_HDemx",
        "colab_type": "code",
        "outputId": "81bc347b-d59d-4979-d4e8-6554b0d0aa80",
        "colab": {
          "base_uri": "https://localhost:8080/",
          "height": 442
        }
      },
      "source": [
        "embedding_vecor_length=32\n",
        "max_review_length=26\n",
        "model = Sequential()\n",
        "model.add(Embedding(input_dim=12533, output_dim=32, input_length = 26))\n",
        "model.add(SimpleRNN(40, return_sequences=False))\n",
        "model.add(Dense(2, activation='softmax'))\n",
        "model.compile(loss='categorical_crossentropy', optimizer='adam', metrics=['accuracy'])\n",
        "print(model.summary())"
      ],
      "execution_count": 0,
      "outputs": [
        {
          "output_type": "stream",
          "text": [
            "WARNING:tensorflow:From /usr/local/lib/python3.6/dist-packages/keras/backend/tensorflow_backend.py:66: The name tf.get_default_graph is deprecated. Please use tf.compat.v1.get_default_graph instead.\n",
            "\n",
            "WARNING:tensorflow:From /usr/local/lib/python3.6/dist-packages/keras/backend/tensorflow_backend.py:541: The name tf.placeholder is deprecated. Please use tf.compat.v1.placeholder instead.\n",
            "\n",
            "WARNING:tensorflow:From /usr/local/lib/python3.6/dist-packages/keras/backend/tensorflow_backend.py:4432: The name tf.random_uniform is deprecated. Please use tf.random.uniform instead.\n",
            "\n",
            "WARNING:tensorflow:From /usr/local/lib/python3.6/dist-packages/keras/optimizers.py:793: The name tf.train.Optimizer is deprecated. Please use tf.compat.v1.train.Optimizer instead.\n",
            "\n",
            "WARNING:tensorflow:From /usr/local/lib/python3.6/dist-packages/keras/backend/tensorflow_backend.py:3576: The name tf.log is deprecated. Please use tf.math.log instead.\n",
            "\n",
            "Model: \"sequential_1\"\n",
            "_________________________________________________________________\n",
            "Layer (type)                 Output Shape              Param #   \n",
            "=================================================================\n",
            "embedding_1 (Embedding)      (None, 26, 32)            401056    \n",
            "_________________________________________________________________\n",
            "simple_rnn_1 (SimpleRNN)     (None, 40)                2920      \n",
            "_________________________________________________________________\n",
            "dense_1 (Dense)              (None, 2)                 82        \n",
            "=================================================================\n",
            "Total params: 404,058\n",
            "Trainable params: 404,058\n",
            "Non-trainable params: 0\n",
            "_________________________________________________________________\n",
            "None\n"
          ],
          "name": "stdout"
        }
      ]
    },
    {
      "cell_type": "code",
      "metadata": {
        "id": "rGEL7t71LX4k",
        "colab_type": "code",
        "outputId": "f61d7469-cb9e-41d4-aea8-f0bb727f0e1f",
        "colab": {
          "base_uri": "https://localhost:8080/",
          "height": 34
        }
      },
      "source": [
        "12533*32"
      ],
      "execution_count": 0,
      "outputs": [
        {
          "output_type": "execute_result",
          "data": {
            "text/plain": [
              "401056"
            ]
          },
          "metadata": {
            "tags": []
          },
          "execution_count": 23
        }
      ]
    },
    {
      "cell_type": "code",
      "metadata": {
        "id": "yLUYOUubLZpB",
        "colab_type": "code",
        "outputId": "8cf38f24-8194-461e-b492-f78048f4d10e",
        "colab": {
          "base_uri": "https://localhost:8080/",
          "height": 34
        }
      },
      "source": [
        "(32+40)*40+40"
      ],
      "execution_count": 0,
      "outputs": [
        {
          "output_type": "execute_result",
          "data": {
            "text/plain": [
              "2920"
            ]
          },
          "metadata": {
            "tags": []
          },
          "execution_count": 24
        }
      ]
    },
    {
      "cell_type": "code",
      "metadata": {
        "id": "v5avYiY8Wgll",
        "colab_type": "code",
        "outputId": "87585956-ad24-4200-bdb1-9b6f4b340fb8",
        "colab": {
          "base_uri": "https://localhost:8080/",
          "height": 459
        }
      },
      "source": [
        "history = model.fit(X_train, y_train2, validation_data=(X_test, y_test2), epochs=10, batch_size=32)"
      ],
      "execution_count": 0,
      "outputs": [
        {
          "output_type": "stream",
          "text": [
            "WARNING:tensorflow:From /usr/local/lib/python3.6/dist-packages/tensorflow/python/ops/math_grad.py:1250: add_dispatch_support.<locals>.wrapper (from tensorflow.python.ops.array_ops) is deprecated and will be removed in a future version.\n",
            "Instructions for updating:\n",
            "Use tf.where in 2.0, which has the same broadcast rule as np.where\n",
            "WARNING:tensorflow:From /usr/local/lib/python3.6/dist-packages/keras/backend/tensorflow_backend.py:1033: The name tf.assign_add is deprecated. Please use tf.compat.v1.assign_add instead.\n",
            "\n",
            "Train on 8078 samples, validate on 3463 samples\n",
            "Epoch 1/10\n",
            "8078/8078 [==============================] - 4s 441us/step - loss: 0.3369 - acc: 0.8644 - val_loss: 0.2496 - val_acc: 0.9012\n",
            "Epoch 2/10\n",
            "8078/8078 [==============================] - 3s 318us/step - loss: 0.1463 - acc: 0.9497 - val_loss: 0.2665 - val_acc: 0.8969\n",
            "Epoch 3/10\n",
            "8078/8078 [==============================] - 3s 326us/step - loss: 0.0709 - acc: 0.9761 - val_loss: 0.2947 - val_acc: 0.8937\n",
            "Epoch 4/10\n",
            "8078/8078 [==============================] - 3s 340us/step - loss: 0.0355 - acc: 0.9890 - val_loss: 0.3805 - val_acc: 0.8851\n",
            "Epoch 5/10\n",
            "8078/8078 [==============================] - 3s 340us/step - loss: 0.0190 - acc: 0.9936 - val_loss: 0.4219 - val_acc: 0.8943\n",
            "Epoch 6/10\n",
            "8078/8078 [==============================] - 3s 325us/step - loss: 0.0137 - acc: 0.9957 - val_loss: 0.4305 - val_acc: 0.8770\n",
            "Epoch 7/10\n",
            "8078/8078 [==============================] - 3s 325us/step - loss: 0.0076 - acc: 0.9984 - val_loss: 0.5359 - val_acc: 0.8943\n",
            "Epoch 8/10\n",
            "8078/8078 [==============================] - 3s 330us/step - loss: 0.0075 - acc: 0.9979 - val_loss: 0.5265 - val_acc: 0.8880\n",
            "Epoch 9/10\n",
            "8078/8078 [==============================] - 3s 332us/step - loss: 0.0075 - acc: 0.9979 - val_loss: 0.5041 - val_acc: 0.9001\n",
            "Epoch 10/10\n",
            "8078/8078 [==============================] - 3s 328us/step - loss: 0.0080 - acc: 0.9975 - val_loss: 0.5127 - val_acc: 0.8897\n"
          ],
          "name": "stdout"
        }
      ]
    },
    {
      "cell_type": "code",
      "metadata": {
        "id": "Fhd0ZOIlpU6B",
        "colab_type": "code",
        "outputId": "2cd918b1-eb17-4ca0-9132-6d1ec7e86229",
        "colab": {
          "base_uri": "https://localhost:8080/",
          "height": 388
        }
      },
      "source": [
        "import matplotlib.pyplot as plt\n",
        "%matplotlib inline\n",
        "history_dict = history.history\n",
        "loss_values = history_dict['loss']\n",
        "val_loss_values = history_dict['val_loss']\n",
        "acc_values = history_dict['acc']\n",
        "val_acc_values = history_dict['val_acc']\n",
        "epochs = range(1, len(val_loss_values) + 1)\n",
        "import matplotlib.ticker as mtick\n",
        "plt.subplot(211)\n",
        "plt.plot(epochs, history.history['loss'], 'bo', label='Training loss')\n",
        "plt.plot(epochs, val_loss_values, 'r', label='Test loss')\n",
        "plt.title('Training and test loss')\n",
        "plt.xlabel('Epochs')\n",
        "plt.ylabel('Loss')\n",
        "plt.legend()\n",
        "plt.grid('off')\n",
        "plt.show()\n",
        "plt.subplot(212)\n",
        "plt.plot(epochs, history.history['acc'], 'bo', label='Training accuracy')\n",
        "plt.plot(epochs, val_acc_values, 'r', label='Test accuracy')\n",
        "plt.title('Training and test accuracy')\n",
        "plt.xlabel('Epochs')\n",
        "plt.ylabel('Accuracy')\n",
        "plt.gca().set_yticklabels(['{:.0f}%'.format(x*100) for x in plt.gca().get_yticks()]) \n",
        "plt.legend()\n",
        "plt.grid('off')\n",
        "plt.show()"
      ],
      "execution_count": 0,
      "outputs": [
        {
          "output_type": "stream",
          "text": [
            "/usr/local/lib/python3.6/dist-packages/matplotlib/cbook/__init__.py:424: MatplotlibDeprecationWarning: \n",
            "Passing one of 'on', 'true', 'off', 'false' as a boolean is deprecated; use an actual boolean (True/False) instead.\n",
            "  warn_deprecated(\"2.2\", \"Passing one of 'on', 'true', 'off', 'false' as a \"\n"
          ],
          "name": "stderr"
        },
        {
          "output_type": "display_data",
          "data": {
            "image/png": "[encoded data removed]",
            "text/plain": [
              "<Figure size 432x288 with 1 Axes>"
            ]
          },
          "metadata": {
            "tags": []
          }
        },
        {
          "output_type": "display_data",
          "data": {
            "image/png": "[encoded data removed]",
            "text/plain": [
              "<Figure size 432x288 with 1 Axes>"
            ]
          },
          "metadata": {
            "tags": []
          }
        }
      ]
    },
    {
      "cell_type": "markdown",
      "metadata": {
        "id": "3q4DmF3S4Yt_",
        "colab_type": "text"
      },
      "source": [
        "# Sentiment classification using LSTM"
      ]
    },
    {
      "cell_type": "code",
      "metadata": {
        "id": "x6WQWjDWUHXG",
        "colab_type": "code",
        "colab": {}
      },
      "source": [
        "from keras.layers import LSTM"
      ],
      "execution_count": 0,
      "outputs": []
    },
    {
      "cell_type": "code",
      "metadata": {
        "id": "InBmUQ_7UHa5",
        "colab_type": "code",
        "outputId": "73cd4c7d-1699-4cc0-e1c4-84b61ec35a96",
        "colab": {
          "base_uri": "https://localhost:8080/",
          "height": 272
        }
      },
      "source": [
        "embedding_vecor_length=32\n",
        "max_review_length=26\n",
        "model = Sequential()\n",
        "model.add(Embedding(input_dim=12533, output_dim=32, input_length = 26))\n",
        "model.add(LSTM(40, return_sequences=False))\n",
        "model.add(Dense(2, activation='softmax'))\n",
        "model.compile(loss='categorical_crossentropy', optimizer='adam', metrics=['accuracy'])\n",
        "print(model.summary())"
      ],
      "execution_count": 0,
      "outputs": [
        {
          "output_type": "stream",
          "text": [
            "Model: \"sequential_2\"\n",
            "_________________________________________________________________\n",
            "Layer (type)                 Output Shape              Param #   \n",
            "=================================================================\n",
            "embedding_2 (Embedding)      (None, 26, 32)            401056    \n",
            "_________________________________________________________________\n",
            "lstm_1 (LSTM)                (None, 40)                11680     \n",
            "_________________________________________________________________\n",
            "dense_2 (Dense)              (None, 2)                 82        \n",
            "=================================================================\n",
            "Total params: 412,818\n",
            "Trainable params: 412,818\n",
            "Non-trainable params: 0\n",
            "_________________________________________________________________\n",
            "None\n"
          ],
          "name": "stdout"
        }
      ]
    },
    {
      "cell_type": "code",
      "metadata": {
        "id": "2O-MJwWZUHd6",
        "colab_type": "code",
        "outputId": "7e603600-aeae-4478-df58-572698577c70",
        "colab": {
          "base_uri": "https://localhost:8080/",
          "height": 34
        }
      },
      "source": [
        "W = model.layers[1].get_weights()[0]\n",
        "U = model.layers[1].get_weights()[1]\n",
        "b = model.layers[1].get_weights()[2]\n",
        "print(W.shape,U.shape,b.shape)"
      ],
      "execution_count": 0,
      "outputs": [
        {
          "output_type": "stream",
          "text": [
            "(32, 160) (40, 160) (160,)\n"
          ],
          "name": "stdout"
        }
      ]
    },
    {
      "cell_type": "code",
      "metadata": {
        "id": "2SyoKOB8c_8-",
        "colab_type": "code",
        "colab": {}
      },
      "source": [
        "units = 40\n",
        "W_i = W[:, :units]\n",
        "W_f = W[:, units: units * 2]\n",
        "W_c = W[:, units * 2: units * 3]\n",
        "W_o = W[:, units * 3:]\n",
        "\n",
        "U_i = U[:, :units]\n",
        "U_f = U[:, units: units * 2]\n",
        "U_c = U[:, units * 2: units * 3]\n",
        "U_o = U[:, units * 3:]\n",
        "\n",
        "b_i = b[:units]\n",
        "b_f = b[units: units * 2]\n",
        "b_c = b[units * 2: units * 3]\n",
        "b_o = b[units * 3:]"
      ],
      "execution_count": 0,
      "outputs": []
    },
    {
      "cell_type": "code",
      "metadata": {
        "id": "lZRG6VMbdITu",
        "colab_type": "code",
        "outputId": "ae7afbc1-5e14-4258-abbd-7b5e59a76304",
        "colab": {
          "base_uri": "https://localhost:8080/",
          "height": 34
        }
      },
      "source": [
        "W.shape"
      ],
      "execution_count": 0,
      "outputs": [
        {
          "output_type": "execute_result",
          "data": {
            "text/plain": [
              "(32, 160)"
            ]
          },
          "metadata": {
            "tags": []
          },
          "execution_count": 31
        }
      ]
    },
    {
      "cell_type": "code",
      "metadata": {
        "id": "E9yZtdGqWnpQ",
        "colab_type": "code",
        "outputId": "3b763e31-3d85-4b34-a655-9ac071ad8cb7",
        "colab": {
          "base_uri": "https://localhost:8080/",
          "height": 34
        }
      },
      "source": [
        "73*160"
      ],
      "execution_count": 0,
      "outputs": [
        {
          "output_type": "execute_result",
          "data": {
            "text/plain": [
              "11680"
            ]
          },
          "metadata": {
            "tags": []
          },
          "execution_count": 32
        }
      ]
    },
    {
      "cell_type": "code",
      "metadata": {
        "id": "hVD0t2Y5V7Cz",
        "colab_type": "code",
        "outputId": "2483a9a4-779f-4ede-c85f-af9f286b7ffd",
        "colab": {
          "base_uri": "https://localhost:8080/",
          "height": 374
        }
      },
      "source": [
        "history = model.fit(X_train, y_train2, validation_data=(X_test, y_test2), epochs=10, batch_size=32)"
      ],
      "execution_count": 0,
      "outputs": [
        {
          "output_type": "stream",
          "text": [
            "Train on 8078 samples, validate on 3463 samples\n",
            "Epoch 1/10\n",
            "8078/8078 [==============================] - 7s 816us/step - loss: 0.3653 - acc: 0.8522 - val_loss: 0.2282 - val_acc: 0.9111\n",
            "Epoch 2/10\n",
            "8078/8078 [==============================] - 6s 735us/step - loss: 0.1495 - acc: 0.9479 - val_loss: 0.2075 - val_acc: 0.9165\n",
            "Epoch 3/10\n",
            "8078/8078 [==============================] - 6s 735us/step - loss: 0.0808 - acc: 0.9743 - val_loss: 0.2470 - val_acc: 0.9165\n",
            "Epoch 4/10\n",
            "8078/8078 [==============================] - 6s 735us/step - loss: 0.0501 - acc: 0.9840 - val_loss: 0.3232 - val_acc: 0.9160\n",
            "Epoch 5/10\n",
            "8078/8078 [==============================] - 6s 726us/step - loss: 0.0330 - acc: 0.9892 - val_loss: 0.4026 - val_acc: 0.9125\n",
            "Epoch 6/10\n",
            "8078/8078 [==============================] - 6s 732us/step - loss: 0.0215 - acc: 0.9948 - val_loss: 0.3884 - val_acc: 0.9093\n",
            "Epoch 7/10\n",
            "8078/8078 [==============================] - 6s 731us/step - loss: 0.0235 - acc: 0.9941 - val_loss: 0.3654 - val_acc: 0.9082\n",
            "Epoch 8/10\n",
            "8078/8078 [==============================] - 6s 738us/step - loss: 0.0164 - acc: 0.9963 - val_loss: 0.3990 - val_acc: 0.9062\n",
            "Epoch 9/10\n",
            "8078/8078 [==============================] - 6s 745us/step - loss: 0.0185 - acc: 0.9958 - val_loss: 0.4676 - val_acc: 0.9021\n",
            "Epoch 10/10\n",
            "8078/8078 [==============================] - 6s 737us/step - loss: 0.0132 - acc: 0.9967 - val_loss: 0.5574 - val_acc: 0.9012\n"
          ],
          "name": "stdout"
        }
      ]
    },
    {
      "cell_type": "code",
      "metadata": {
        "id": "a3di0orBd8_9",
        "colab_type": "code",
        "outputId": "533a99c5-e8eb-4441-9d41-3f1fb66b9bf9",
        "colab": {
          "base_uri": "https://localhost:8080/",
          "height": 388
        }
      },
      "source": [
        "import matplotlib.pyplot as plt\n",
        "%matplotlib inline\n",
        "history_dict = history.history\n",
        "loss_values = history_dict['loss']\n",
        "val_loss_values = history_dict['val_loss']\n",
        "acc_values = history_dict['acc']\n",
        "val_acc_values = history_dict['val_acc']\n",
        "epochs = range(1, len(val_loss_values) + 1)\n",
        "import matplotlib.ticker as mtick\n",
        "plt.subplot(211)\n",
        "plt.plot(epochs, history.history['loss'], 'bo', label='Training loss')\n",
        "plt.plot(epochs, val_loss_values, 'r', label='Test loss')\n",
        "plt.title('Training and test loss')\n",
        "plt.xlabel('Epochs')\n",
        "plt.ylabel('Loss')\n",
        "plt.legend()\n",
        "plt.grid('off')\n",
        "plt.show()\n",
        "plt.subplot(212)\n",
        "plt.plot(epochs, history.history['acc'], 'bo', label='Training accuracy')\n",
        "plt.plot(epochs, val_acc_values, 'r', label='Test accuracy')\n",
        "plt.title('Training and test accuracy')\n",
        "plt.xlabel('Epochs')\n",
        "plt.ylabel('Accuracy')\n",
        "plt.gca().set_yticklabels(['{:.0f}%'.format(x*100) for x in plt.gca().get_yticks()]) \n",
        "plt.legend()\n",
        "plt.grid('off')\n",
        "plt.show()"
      ],
      "execution_count": 0,
      "outputs": [
        {
          "output_type": "stream",
          "text": [
            "/usr/local/lib/python3.6/dist-packages/matplotlib/cbook/__init__.py:424: MatplotlibDeprecationWarning: \n",
            "Passing one of 'on', 'true', 'off', 'false' as a boolean is deprecated; use an actual boolean (True/False) instead.\n",
            "  warn_deprecated(\"2.2\", \"Passing one of 'on', 'true', 'off', 'false' as a \"\n"
          ],
          "name": "stderr"
        },
        {
          "output_type": "display_data",
          "data": {
            "image/png": "[encoded data removed]",
            "text/plain": [
              "<Figure size 432x288 with 1 Axes>"
            ]
          },
          "metadata": {
            "tags": []
          }
        },
        {
          "output_type": "display_data",
          "data": {
            "image/png": "[encoded data removed]",
            "text/plain": [
              "<Figure size 432x288 with 1 Axes>"
            ]
          },
          "metadata": {
            "tags": []
          }
        }
      ]
    },
    {
      "cell_type": "markdown",
      "metadata": {
        "id": "8weruo6U4bzv",
        "colab_type": "text"
      },
      "source": [
        "# Sentiment classification using stacked LSTM"
      ]
    },
    {
      "cell_type": "code",
      "metadata": {
        "id": "7tJE43vLd_Ng",
        "colab_type": "code",
        "outputId": "560e6ef4-138b-4d38-f23d-b7d87a0ce1a7",
        "colab": {
          "base_uri": "https://localhost:8080/",
          "height": 306
        }
      },
      "source": [
        "embedding_vecor_length=32\n",
        "max_review_length=26\n",
        "model = Sequential()\n",
        "model.add(Embedding(input_dim=12533, output_dim=32, input_length = 26))\n",
        "model.add(LSTM(40, return_sequences=True,name='lstm1'))\n",
        "model.add(LSTM(40, return_sequences=False,name='lstm2'))\n",
        "model.add(Dense(2, activation='softmax'))\n",
        "model.compile(loss='categorical_crossentropy', optimizer='adam', metrics=['accuracy'])\n",
        "print(model.summary())"
      ],
      "execution_count": 0,
      "outputs": [
        {
          "output_type": "stream",
          "text": [
            "Model: \"sequential_3\"\n",
            "_________________________________________________________________\n",
            "Layer (type)                 Output Shape              Param #   \n",
            "=================================================================\n",
            "embedding_3 (Embedding)      (None, 26, 32)            401056    \n",
            "_________________________________________________________________\n",
            "lstm1 (LSTM)                 (None, 26, 40)            11680     \n",
            "_________________________________________________________________\n",
            "lstm2 (LSTM)                 (None, 40)                12960     \n",
            "_________________________________________________________________\n",
            "dense_3 (Dense)              (None, 2)                 82        \n",
            "=================================================================\n",
            "Total params: 425,778\n",
            "Trainable params: 425,778\n",
            "Non-trainable params: 0\n",
            "_________________________________________________________________\n",
            "None\n"
          ],
          "name": "stdout"
        }
      ]
    },
    {
      "cell_type": "code",
      "metadata": {
        "id": "TCDn0s8GkRKo",
        "colab_type": "code",
        "outputId": "f3b2c582-1667-463c-d7c7-a2782c03052e",
        "colab": {
          "base_uri": "https://localhost:8080/",
          "height": 34
        }
      },
      "source": [
        "X_train[0].shape"
      ],
      "execution_count": 0,
      "outputs": [
        {
          "output_type": "execute_result",
          "data": {
            "text/plain": [
              "(26,)"
            ]
          },
          "metadata": {
            "tags": []
          },
          "execution_count": 36
        }
      ]
    },
    {
      "cell_type": "code",
      "metadata": {
        "id": "z2Xj0eamkH1z",
        "colab_type": "code",
        "outputId": "0d54ec72-3343-4700-8206-0dd030997543",
        "colab": {
          "base_uri": "https://localhost:8080/",
          "height": 34
        }
      },
      "source": [
        "from keras.models import Model\n",
        "\n",
        "XX = model.input \n",
        "YY = model.layers[1].output\n",
        "new_model = Model(XX, YY)\n",
        "Xresult = new_model.predict(X_train[0].reshape(1,26))\n",
        "Xresult.shape"
      ],
      "execution_count": 0,
      "outputs": [
        {
          "output_type": "execute_result",
          "data": {
            "text/plain": [
              "(1, 26, 40)"
            ]
          },
          "metadata": {
            "tags": []
          },
          "execution_count": 37
        }
      ]
    },
    {
      "cell_type": "code",
      "metadata": {
        "id": "1d3tEUKOi4Dm",
        "colab_type": "code",
        "outputId": "10c35106-2b56-4164-a616-582f60ed575e",
        "colab": {
          "base_uri": "https://localhost:8080/",
          "height": 34
        }
      },
      "source": [
        "model.get_layer(\"lstm1\").output"
      ],
      "execution_count": 0,
      "outputs": [
        {
          "output_type": "execute_result",
          "data": {
            "text/plain": [
              "<tf.Tensor 'lstm1/transpose_1:0' shape=(?, ?, 40) dtype=float32>"
            ]
          },
          "metadata": {
            "tags": []
          },
          "execution_count": 38
        }
      ]
    },
    {
      "cell_type": "code",
      "metadata": {
        "id": "MhXYrpmWgAel",
        "colab_type": "code",
        "outputId": "ba309982-517d-4d84-c01f-01d1a2893a22",
        "colab": {
          "base_uri": "https://localhost:8080/",
          "height": 34
        }
      },
      "source": [
        "W = model.layers[2].get_weights()[0]\n",
        "U = model.layers[2].get_weights()[1]\n",
        "b = model.layers[2].get_weights()[2]\n",
        "print(W.shape,U.shape,b.shape)"
      ],
      "execution_count": 0,
      "outputs": [
        {
          "output_type": "stream",
          "text": [
            "(40, 160) (40, 160) (160,)\n"
          ],
          "name": "stdout"
        }
      ]
    },
    {
      "cell_type": "code",
      "metadata": {
        "id": "_N9kQBP3d_TN",
        "colab_type": "code",
        "outputId": "685a322c-bb0d-4c2b-d87c-1b59542a6558",
        "colab": {
          "base_uri": "https://localhost:8080/",
          "height": 374
        }
      },
      "source": [
        "history = model.fit(X_train, y_train2, validation_data=(X_test, y_test2), epochs=10, batch_size=32)"
      ],
      "execution_count": 0,
      "outputs": [
        {
          "output_type": "stream",
          "text": [
            "Train on 8078 samples, validate on 3463 samples\n",
            "Epoch 1/10\n",
            "8078/8078 [==============================] - 12s 1ms/step - loss: 0.3820 - acc: 0.8537 - val_loss: 0.2353 - val_acc: 0.9033\n",
            "Epoch 2/10\n",
            "8078/8078 [==============================] - 10s 1ms/step - loss: 0.1565 - acc: 0.9468 - val_loss: 0.2012 - val_acc: 0.9171\n",
            "Epoch 3/10\n",
            "8078/8078 [==============================] - 10s 1ms/step - loss: 0.0835 - acc: 0.9735 - val_loss: 0.2361 - val_acc: 0.9145\n",
            "Epoch 4/10\n",
            "8078/8078 [==============================] - 10s 1ms/step - loss: 0.0507 - acc: 0.9842 - val_loss: 0.2905 - val_acc: 0.9093\n",
            "Epoch 5/10\n",
            "8078/8078 [==============================] - 10s 1ms/step - loss: 0.0340 - acc: 0.9891 - val_loss: 0.3082 - val_acc: 0.9056\n",
            "Epoch 6/10\n",
            "8078/8078 [==============================] - 10s 1ms/step - loss: 0.0240 - acc: 0.9937 - val_loss: 0.4477 - val_acc: 0.9033\n",
            "Epoch 7/10\n",
            "8078/8078 [==============================] - 10s 1ms/step - loss: 0.0210 - acc: 0.9941 - val_loss: 0.3969 - val_acc: 0.9012\n",
            "Epoch 8/10\n",
            "8078/8078 [==============================] - 10s 1ms/step - loss: 0.0181 - acc: 0.9949 - val_loss: 0.3871 - val_acc: 0.9067\n",
            "Epoch 9/10\n",
            "8078/8078 [==============================] - 10s 1ms/step - loss: 0.0104 - acc: 0.9979 - val_loss: 0.4349 - val_acc: 0.8995\n",
            "Epoch 10/10\n",
            "8078/8078 [==============================] - 10s 1ms/step - loss: 0.0123 - acc: 0.9970 - val_loss: 0.5394 - val_acc: 0.9001\n"
          ],
          "name": "stdout"
        }
      ]
    },
    {
      "cell_type": "code",
      "metadata": {
        "id": "UgpFeoOmssdv",
        "colab_type": "code",
        "outputId": "bbed37b9-2b64-47fa-a769-8b938ce03ac8",
        "colab": {
          "base_uri": "https://localhost:8080/",
          "height": 388
        }
      },
      "source": [
        "import matplotlib.pyplot as plt\n",
        "%matplotlib inline\n",
        "history_dict = history.history\n",
        "loss_values = history_dict['loss']\n",
        "val_loss_values = history_dict['val_loss']\n",
        "acc_values = history_dict['acc']\n",
        "val_acc_values = history_dict['val_acc']\n",
        "epochs = range(1, len(val_loss_values) + 1)\n",
        "import matplotlib.ticker as mtick\n",
        "plt.subplot(211)\n",
        "plt.plot(epochs, history.history['loss'], 'bo', label='Training loss')\n",
        "plt.plot(epochs, val_loss_values, 'r', label='Test loss')\n",
        "plt.title('Training and test loss')\n",
        "plt.xlabel('Epochs')\n",
        "plt.ylabel('Loss')\n",
        "plt.legend()\n",
        "plt.grid('off')\n",
        "plt.show()\n",
        "plt.subplot(212)\n",
        "plt.plot(epochs, history.history['acc'], 'bo', label='Training accuracy')\n",
        "plt.plot(epochs, val_acc_values, 'r', label='Test accuracy')\n",
        "plt.title('Training and test accuracy')\n",
        "plt.xlabel('Epochs')\n",
        "plt.ylabel('Accuracy')\n",
        "plt.gca().set_yticklabels(['{:.0f}%'.format(x*100) for x in plt.gca().get_yticks()]) \n",
        "plt.legend()\n",
        "plt.grid('off')\n",
        "plt.show()"
      ],
      "execution_count": 0,
      "outputs": [
        {
          "output_type": "stream",
          "text": [
            "/usr/local/lib/python3.6/dist-packages/matplotlib/cbook/__init__.py:424: MatplotlibDeprecationWarning: \n",
            "Passing one of 'on', 'true', 'off', 'false' as a boolean is deprecated; use an actual boolean (True/False) instead.\n",
            "  warn_deprecated(\"2.2\", \"Passing one of 'on', 'true', 'off', 'false' as a \"\n"
          ],
          "name": "stderr"
        },
        {
          "output_type": "display_data",
          "data": {
            "image/png": "[encoded data removed]",
            "text/plain": [
              "<Figure size 432x288 with 1 Axes>"
            ]
          },
          "metadata": {
            "tags": []
          }
        },
        {
          "output_type": "display_data",
          "data": {
            "image/png": "[encoded data removed]",
            "text/plain": [
              "<Figure size 432x288 with 1 Axes>"
            ]
          },
          "metadata": {
            "tags": []
          }
        }
      ]
    }
  ]
}