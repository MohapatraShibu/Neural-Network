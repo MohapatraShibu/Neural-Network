{
  "nbformat": 4,
  "nbformat_minor": 0,
  "metadata": {
    "colab": {
      "name": "Autoencoder.ipynb",
      "provenance": [],
      "collapsed_sections": []
    },
    "kernelspec": {
      "name": "python3",
      "display_name": "Python 3"
    },
    "accelerator": "GPU"
  },
  "cells": [
    {
      "cell_type": "markdown",
      "metadata": {
        "id": "vRcNekg_jzcm",
        "colab_type": "text"
      },
      "source": [
        "https://colab.research.google.com/drive/119TBoB4PmxHPv1bmqqMmP9crHTkNz7bl"
      ]
    },
    {
      "cell_type": "code",
      "metadata": {
        "id": "hMXkg9VJmhoo",
        "colab_type": "code",
        "outputId": "97e17963-2e45-4c55-eccf-3f118a24e1ac",
        "colab": {
          "base_uri": "https://localhost:8080/",
          "height": 34
        }
      },
      "source": [
        "import tensorflow as tf\n",
        "import keras\n",
        "import numpy as np\n",
        "from keras.datasets import mnist\n",
        "from keras.models import Sequential\n",
        "from keras.layers import Dense\n",
        "from keras.layers import Dropout\n",
        "from keras.layers import Flatten\n",
        "from keras.layers.convolutional import Conv2D\n",
        "from keras.layers.convolutional import MaxPooling2D\n",
        "from keras.utils import np_utils\n",
        "from keras.layers import Reshape\n",
        "from keras.layers import Conv2DTranspose"
      ],
      "execution_count": 2,
      "outputs": [
        {
          "output_type": "stream",
          "text": [
            "Using TensorFlow backend.\n"
          ],
          "name": "stderr"
        }
      ]
    },
    {
      "cell_type": "code",
      "metadata": {
        "id": "JOdSCu0QmpzB",
        "colab_type": "code",
        "outputId": "375cf545-64d2-475a-978d-69f7a9a9f7b3",
        "colab": {
          "base_uri": "https://localhost:8080/",
          "height": 51
        }
      },
      "source": [
        "(X_train, y_train), (X_test, y_test) = keras.datasets.mnist.load_data()"
      ],
      "execution_count": 3,
      "outputs": [
        {
          "output_type": "stream",
          "text": [
            "Downloading data from https://s3.amazonaws.com/img-datasets/mnist.npz\n",
            "11493376/11490434 [==============================] - 2s 0us/step\n"
          ],
          "name": "stdout"
        }
      ]
    },
    {
      "cell_type": "code",
      "metadata": {
        "id": "7z9U8sxgmtSE",
        "colab_type": "code",
        "colab": {}
      },
      "source": [
        "X_train = X_train.reshape(X_train.shape[0],X_train.shape[1]*X_train.shape[2])\n",
        "X_test = X_test.reshape(X_test.shape[0],X_test.shape[1]*X_test.shape[2])\n",
        "X_train = X_train/255\n",
        "X_test = X_test/255"
      ],
      "execution_count": 0,
      "outputs": []
    },
    {
      "cell_type": "code",
      "metadata": {
        "id": "T0C7g8aEznu3",
        "colab_type": "code",
        "outputId": "ccd22fe0-ca62-44e9-b0ed-e732607ddc8e",
        "colab": {
          "base_uri": "https://localhost:8080/",
          "height": 343
        }
      },
      "source": [
        "model = Sequential()\n",
        "model.add(Dense(32, input_dim=784, activation='relu'))\n",
        "model.add(Dense(784, activation='relu'))\n",
        "model.summary()"
      ],
      "execution_count": 5,
      "outputs": [
        {
          "output_type": "stream",
          "text": [
            "WARNING:tensorflow:From /usr/local/lib/python3.6/dist-packages/keras/backend/tensorflow_backend.py:66: The name tf.get_default_graph is deprecated. Please use tf.compat.v1.get_default_graph instead.\n",
            "\n",
            "WARNING:tensorflow:From /usr/local/lib/python3.6/dist-packages/keras/backend/tensorflow_backend.py:541: The name tf.placeholder is deprecated. Please use tf.compat.v1.placeholder instead.\n",
            "\n",
            "WARNING:tensorflow:From /usr/local/lib/python3.6/dist-packages/keras/backend/tensorflow_backend.py:4432: The name tf.random_uniform is deprecated. Please use tf.random.uniform instead.\n",
            "\n",
            "Model: \"sequential_1\"\n",
            "_________________________________________________________________\n",
            "Layer (type)                 Output Shape              Param #   \n",
            "=================================================================\n",
            "dense_1 (Dense)              (None, 32)                25120     \n",
            "_________________________________________________________________\n",
            "dense_2 (Dense)              (None, 784)               25872     \n",
            "=================================================================\n",
            "Total params: 50,992\n",
            "Trainable params: 50,992\n",
            "Non-trainable params: 0\n",
            "_________________________________________________________________\n"
          ],
          "name": "stdout"
        }
      ]
    },
    {
      "cell_type": "code",
      "metadata": {
        "id": "Mv31ZYWIznxh",
        "colab_type": "code",
        "outputId": "1103805a-5014-4ca0-8578-500755d74ea0",
        "colab": {
          "base_uri": "https://localhost:8080/",
          "height": 513
        }
      },
      "source": [
        "model.compile(loss='mean_squared_error', optimizer='adam',metrics=['accuracy'])\n",
        "model.fit(X_train, X_train, validation_data=(X_test, X_test),epochs=10, batch_size=1024, verbose=1)"
      ],
      "execution_count": 6,
      "outputs": [
        {
          "output_type": "stream",
          "text": [
            "WARNING:tensorflow:From /usr/local/lib/python3.6/dist-packages/keras/optimizers.py:793: The name tf.train.Optimizer is deprecated. Please use tf.compat.v1.train.Optimizer instead.\n",
            "\n",
            "WARNING:tensorflow:From /usr/local/lib/python3.6/dist-packages/keras/backend/tensorflow_backend.py:1033: The name tf.assign_add is deprecated. Please use tf.compat.v1.assign_add instead.\n",
            "\n",
            "WARNING:tensorflow:From /usr/local/lib/python3.6/dist-packages/keras/backend/tensorflow_backend.py:1020: The name tf.assign is deprecated. Please use tf.compat.v1.assign instead.\n",
            "\n",
            "Train on 60000 samples, validate on 10000 samples\n",
            "Epoch 1/10\n",
            "60000/60000 [==============================] - 5s 85us/step - loss: 0.0679 - acc: 0.0080 - val_loss: 0.0477 - val_acc: 0.0112\n",
            "Epoch 2/10\n",
            "60000/60000 [==============================] - 1s 16us/step - loss: 0.0381 - acc: 0.0118 - val_loss: 0.0306 - val_acc: 0.0106\n",
            "Epoch 3/10\n",
            "60000/60000 [==============================] - 1s 16us/step - loss: 0.0274 - acc: 0.0104 - val_loss: 0.0238 - val_acc: 0.0123\n",
            "Epoch 4/10\n",
            "60000/60000 [==============================] - 1s 16us/step - loss: 0.0223 - acc: 0.0103 - val_loss: 0.0203 - val_acc: 0.0130\n",
            "Epoch 5/10\n",
            "60000/60000 [==============================] - 1s 16us/step - loss: 0.0196 - acc: 0.0110 - val_loss: 0.0182 - val_acc: 0.0121\n",
            "Epoch 6/10\n",
            "60000/60000 [==============================] - 1s 16us/step - loss: 0.0179 - acc: 0.0115 - val_loss: 0.0169 - val_acc: 0.0119\n",
            "Epoch 7/10\n",
            "60000/60000 [==============================] - 1s 16us/step - loss: 0.0170 - acc: 0.0116 - val_loss: 0.0162 - val_acc: 0.0130\n",
            "Epoch 8/10\n",
            "60000/60000 [==============================] - 1s 16us/step - loss: 0.0163 - acc: 0.0119 - val_loss: 0.0157 - val_acc: 0.0130\n",
            "Epoch 9/10\n",
            "60000/60000 [==============================] - 1s 16us/step - loss: 0.0159 - acc: 0.0116 - val_loss: 0.0153 - val_acc: 0.0135\n",
            "Epoch 10/10\n",
            "60000/60000 [==============================] - 1s 16us/step - loss: 0.0156 - acc: 0.0114 - val_loss: 0.0151 - val_acc: 0.0137\n"
          ],
          "name": "stdout"
        },
        {
          "output_type": "execute_result",
          "data": {
            "text/plain": [
              "<keras.callbacks.History at 0x7f2ae4c09860>"
            ]
          },
          "metadata": {
            "tags": []
          },
          "execution_count": 6
        }
      ]
    },
    {
      "cell_type": "code",
      "metadata": {
        "id": "LRxla69y0DXV",
        "colab_type": "code",
        "outputId": "2a342069-8bc4-44dd-f175-f9f861c9a473",
        "colab": {
          "base_uri": "https://localhost:8080/",
          "height": 268
        }
      },
      "source": [
        "import matplotlib.pyplot as plt\n",
        "%matplotlib inline\n",
        "plt.subplot(221)\n",
        "plt.imshow(model.predict(X_test[0,:].reshape(1,784)).reshape(28,28), cmap=plt.get_cmap('gray'))\n",
        "plt.axis('off')\n",
        "plt.subplot(222)\n",
        "plt.imshow(model.predict(X_test[1,:].reshape(1,784)).reshape(28,28), cmap=plt.get_cmap('gray'))\n",
        "plt.axis('off')\n",
        "plt.subplot(223)\n",
        "plt.imshow(model.predict(X_test[2,:].reshape(1,784)).reshape(28,28), cmap=plt.get_cmap('gray'))\n",
        "plt.axis('off')\n",
        "plt.subplot(224)\n",
        "plt.imshow(model.predict(X_test[3,:].reshape(1,784)).reshape(28,28), cmap=plt.get_cmap('gray'))\n",
        "plt.axis('off')\n",
        "plt.show()"
      ],
      "execution_count": 0,
      "outputs": [
        {
          "output_type": "display_data",
          "data": {
            "image/png": "[encoded data removed]",
            "text/plain": [
              "<Figure size 432x288 with 4 Axes>"
            ]
          },
          "metadata": {
            "tags": []
          }
        }
      ]
    },
    {
      "cell_type": "code",
      "metadata": {
        "id": "sGNUbmNZ0DaP",
        "colab_type": "code",
        "colab": {}
      },
      "source": [
        ""
      ],
      "execution_count": 0,
      "outputs": []
    },
    {
      "cell_type": "code",
      "metadata": {
        "id": "AxYvx1DE0G-m",
        "colab_type": "code",
        "colab": {}
      },
      "source": [
        ""
      ],
      "execution_count": 0,
      "outputs": []
    },
    {
      "cell_type": "code",
      "metadata": {
        "id": "7IqZJosf0HBW",
        "colab_type": "code",
        "colab": {}
      },
      "source": [
        ""
      ],
      "execution_count": 0,
      "outputs": []
    },
    {
      "cell_type": "markdown",
      "metadata": {
        "id": "WM0IgrgW0HK7",
        "colab_type": "text"
      },
      "source": [
        "# Multi-layer auto encoder"
      ]
    },
    {
      "cell_type": "code",
      "metadata": {
        "id": "h-ayrU3A0JkJ",
        "colab_type": "code",
        "outputId": "fca446a4-b1f1-427f-d754-370349f5703d",
        "colab": {
          "base_uri": "https://localhost:8080/",
          "height": 289
        }
      },
      "source": [
        "model = Sequential()\n",
        "model.add(Dense(100, input_dim=784, activation='relu'))\n",
        "model.add(Dense(32,activation='relu'))\n",
        "model.add(Dense(100,activation='relu'))\n",
        "model.add(Dense(784, activation='relu'))\n",
        "model.summary()"
      ],
      "execution_count": 0,
      "outputs": [
        {
          "output_type": "stream",
          "text": [
            "Model: \"sequential_2\"\n",
            "_________________________________________________________________\n",
            "Layer (type)                 Output Shape              Param #   \n",
            "=================================================================\n",
            "dense_3 (Dense)              (None, 100)               78500     \n",
            "_________________________________________________________________\n",
            "dense_4 (Dense)              (None, 32)                3232      \n",
            "_________________________________________________________________\n",
            "dense_5 (Dense)              (None, 100)               3300      \n",
            "_________________________________________________________________\n",
            "dense_6 (Dense)              (None, 784)               79184     \n",
            "=================================================================\n",
            "Total params: 164,216\n",
            "Trainable params: 164,216\n",
            "Non-trainable params: 0\n",
            "_________________________________________________________________\n"
          ],
          "name": "stdout"
        }
      ]
    },
    {
      "cell_type": "code",
      "metadata": {
        "id": "gFcEzhAq0JoT",
        "colab_type": "code",
        "outputId": "4db0327d-1043-4cac-b291-f05541d7920a",
        "colab": {
          "base_uri": "https://localhost:8080/",
          "height": 901
        }
      },
      "source": [
        "model.compile(loss='mean_squared_error', optimizer='adam')\n",
        "model.fit(X_train, X_train, validation_data=(X_test, X_test),epochs=25, batch_size=1024, verbose=1)"
      ],
      "execution_count": 0,
      "outputs": [
        {
          "output_type": "stream",
          "text": [
            "Train on 60000 samples, validate on 10000 samples\n",
            "Epoch 1/25\n",
            "60000/60000 [==============================] - 1s 20us/step - loss: 0.0664 - val_loss: 0.0439\n",
            "Epoch 2/25\n",
            "60000/60000 [==============================] - 1s 15us/step - loss: 0.0334 - val_loss: 0.0262\n",
            "Epoch 3/25\n",
            "60000/60000 [==============================] - 1s 15us/step - loss: 0.0238 - val_loss: 0.0214\n",
            "Epoch 4/25\n",
            "60000/60000 [==============================] - 1s 15us/step - loss: 0.0207 - val_loss: 0.0195\n",
            "Epoch 5/25\n",
            "60000/60000 [==============================] - 1s 15us/step - loss: 0.0189 - val_loss: 0.0180\n",
            "Epoch 6/25\n",
            "60000/60000 [==============================] - 1s 14us/step - loss: 0.0179 - val_loss: 0.0173\n",
            "Epoch 7/25\n",
            "60000/60000 [==============================] - 1s 14us/step - loss: 0.0174 - val_loss: 0.0168\n",
            "Epoch 8/25\n",
            "60000/60000 [==============================] - 1s 14us/step - loss: 0.0170 - val_loss: 0.0165\n",
            "Epoch 9/25\n",
            "60000/60000 [==============================] - 1s 14us/step - loss: 0.0166 - val_loss: 0.0162\n",
            "Epoch 10/25\n",
            "60000/60000 [==============================] - 1s 15us/step - loss: 0.0164 - val_loss: 0.0159\n",
            "Epoch 11/25\n",
            "60000/60000 [==============================] - 1s 15us/step - loss: 0.0161 - val_loss: 0.0158\n",
            "Epoch 12/25\n",
            "60000/60000 [==============================] - 1s 15us/step - loss: 0.0159 - val_loss: 0.0155\n",
            "Epoch 13/25\n",
            "60000/60000 [==============================] - 1s 15us/step - loss: 0.0157 - val_loss: 0.0153\n",
            "Epoch 14/25\n",
            "60000/60000 [==============================] - 1s 15us/step - loss: 0.0155 - val_loss: 0.0151\n",
            "Epoch 15/25\n",
            "60000/60000 [==============================] - 1s 15us/step - loss: 0.0154 - val_loss: 0.0150\n",
            "Epoch 16/25\n",
            "60000/60000 [==============================] - 1s 15us/step - loss: 0.0152 - val_loss: 0.0149\n",
            "Epoch 17/25\n",
            "60000/60000 [==============================] - 1s 15us/step - loss: 0.0151 - val_loss: 0.0147\n",
            "Epoch 18/25\n",
            "60000/60000 [==============================] - 1s 15us/step - loss: 0.0149 - val_loss: 0.0145\n",
            "Epoch 19/25\n",
            "60000/60000 [==============================] - 1s 15us/step - loss: 0.0147 - val_loss: 0.0144\n",
            "Epoch 20/25\n",
            "60000/60000 [==============================] - 1s 14us/step - loss: 0.0146 - val_loss: 0.0142\n",
            "Epoch 21/25\n",
            "60000/60000 [==============================] - 1s 15us/step - loss: 0.0144 - val_loss: 0.0140\n",
            "Epoch 22/25\n",
            "60000/60000 [==============================] - 1s 15us/step - loss: 0.0143 - val_loss: 0.0139\n",
            "Epoch 23/25\n",
            "60000/60000 [==============================] - 1s 14us/step - loss: 0.0142 - val_loss: 0.0138\n",
            "Epoch 24/25\n",
            "60000/60000 [==============================] - 1s 14us/step - loss: 0.0141 - val_loss: 0.0139\n",
            "Epoch 25/25\n",
            "60000/60000 [==============================] - 1s 15us/step - loss: 0.0140 - val_loss: 0.0137\n"
          ],
          "name": "stdout"
        },
        {
          "output_type": "execute_result",
          "data": {
            "text/plain": [
              "<keras.callbacks.History at 0x7f6d65d93208>"
            ]
          },
          "metadata": {
            "tags": []
          },
          "execution_count": 8
        }
      ]
    },
    {
      "cell_type": "code",
      "metadata": {
        "id": "JHD8L9gg0Np-",
        "colab_type": "code",
        "outputId": "b4810719-a8d5-4ec7-e052-b7a9f8daa0a3",
        "colab": {
          "base_uri": "https://localhost:8080/",
          "height": 268
        }
      },
      "source": [
        "import matplotlib.pyplot as plt\n",
        "%matplotlib inline\n",
        "plt.subplot(221)\n",
        "plt.imshow(model.predict(X_test[0,:].reshape(1,784)).reshape(28,28), cmap=plt.get_cmap('gray'))\n",
        "plt.axis('off')\n",
        "plt.subplot(222)\n",
        "plt.imshow(model.predict(X_test[1,:].reshape(1,784)).reshape(28,28), cmap=plt.get_cmap('gray'))\n",
        "plt.axis('off')\n",
        "plt.subplot(223)\n",
        "plt.imshow(model.predict(X_test[2,:].reshape(1,784)).reshape(28,28), cmap=plt.get_cmap('gray'))\n",
        "plt.axis('off')\n",
        "plt.subplot(224)\n",
        "plt.imshow(model.predict(X_test[3,:].reshape(1,784)).reshape(28,28), cmap=plt.get_cmap('gray'))\n",
        "plt.axis('off')\n",
        "plt.show()"
      ],
      "execution_count": 0,
      "outputs": [
        {
          "output_type": "display_data",
          "data": {
            "image/png": "[encoded data removed]",
            "text/plain": [
              "<Figure size 432x288 with 4 Axes>"
            ]
          },
          "metadata": {
            "tags": []
          }
        }
      ]
    },
    {
      "cell_type": "code",
      "metadata": {
        "id": "cZvStzkk0Ns2",
        "colab_type": "code",
        "colab": {}
      },
      "source": [
        ""
      ],
      "execution_count": 0,
      "outputs": []
    },
    {
      "cell_type": "markdown",
      "metadata": {
        "id": "ex0sa8eD0OAb",
        "colab_type": "text"
      },
      "source": [
        "# Convolutional auto-encoder"
      ]
    },
    {
      "cell_type": "code",
      "metadata": {
        "id": "wQOPYk0D0YWF",
        "colab_type": "code",
        "colab": {}
      },
      "source": [
        "(X_train, y_train), (X_test, y_test) = keras.datasets.mnist.load_data()"
      ],
      "execution_count": 0,
      "outputs": []
    },
    {
      "cell_type": "code",
      "metadata": {
        "id": "HyStBiQt0bwN",
        "colab_type": "code",
        "colab": {}
      },
      "source": [
        "X_train = X_train.reshape(X_train.shape[0],X_train.shape[1],X_train.shape[2],1)\n",
        "X_test = X_test.reshape(X_test.shape[0],X_test.shape[1],X_test.shape[2],1)\n",
        "X_train = X_train/255\n",
        "X_test = X_test/255"
      ],
      "execution_count": 0,
      "outputs": []
    },
    {
      "cell_type": "code",
      "metadata": {
        "id": "GGTftoyfmzk1",
        "colab_type": "code",
        "colab": {}
      },
      "source": [
        "from keras.layers.convolutional import UpSampling2D\n",
        "from keras.layers import Reshape"
      ],
      "execution_count": 0,
      "outputs": []
    },
    {
      "cell_type": "code",
      "metadata": {
        "id": "RY4ds0j4qkOV",
        "colab_type": "code",
        "colab": {}
      },
      "source": [
        "from keras.layers import Conv2DTranspose"
      ],
      "execution_count": 0,
      "outputs": []
    },
    {
      "cell_type": "code",
      "metadata": {
        "id": "9-8RSr6im1pf",
        "colab_type": "code",
        "outputId": "639649e2-be06-46d9-821b-cd7570a27830",
        "colab": {
          "base_uri": "https://localhost:8080/",
          "height": 697
        }
      },
      "source": [
        "model = Sequential()\n",
        "model.add(Conv2D(32, (3,3), input_shape=(28, 28,1), activation='relu',padding='same',name='conv1'))\n",
        "model.add(MaxPooling2D(pool_size=(2, 2),name='pool1'))\n",
        "model.add(Conv2D(16, (3,3), activation='relu',padding='same',name='conv2'))\n",
        "model.add(MaxPooling2D(pool_size=(2, 2),name='pool2'))\n",
        "model.add(Conv2D(8, (3,3), activation='relu',padding='same',name='conv3'))\n",
        "model.add(MaxPooling2D(pool_size=(2, 2),name='pool3'))\n",
        "model.add(Conv2D(32, (3,3), activation='relu',padding='same',name='conv4'))\n",
        "model.add(MaxPooling2D(pool_size=(2, 2),name='pool4'))\n",
        "model.add(Flatten(name='flatten'))\n",
        "model.add(Reshape((1,1,32)))\n",
        "model.add(Conv2DTranspose(8, kernel_size = (3,3), activation='relu'))\n",
        "model.add(Conv2DTranspose(16, kernel_size = (5,5), activation='relu'))\n",
        "model.add(Conv2DTranspose(32, kernel_size = (8,8), activation='relu'))\n",
        "model.add(Conv2DTranspose(32, kernel_size = (15,15), activation='relu'))\n",
        "model.add(Conv2D(1, (3, 3), activation='relu',padding='same'))\n",
        "model.summary()"
      ],
      "execution_count": 0,
      "outputs": [
        {
          "output_type": "stream",
          "text": [
            "WARNING:tensorflow:From /usr/local/lib/python3.6/dist-packages/keras/backend/tensorflow_backend.py:4267: The name tf.nn.max_pool is deprecated. Please use tf.nn.max_pool2d instead.\n",
            "\n",
            "Model: \"sequential_3\"\n",
            "_________________________________________________________________\n",
            "Layer (type)                 Output Shape              Param #   \n",
            "=================================================================\n",
            "conv1 (Conv2D)               (None, 28, 28, 32)        320       \n",
            "_________________________________________________________________\n",
            "pool1 (MaxPooling2D)         (None, 14, 14, 32)        0         \n",
            "_________________________________________________________________\n",
            "conv2 (Conv2D)               (None, 14, 14, 16)        4624      \n",
            "_________________________________________________________________\n",
            "pool2 (MaxPooling2D)         (None, 7, 7, 16)          0         \n",
            "_________________________________________________________________\n",
            "conv3 (Conv2D)               (None, 7, 7, 8)           1160      \n",
            "_________________________________________________________________\n",
            "pool3 (MaxPooling2D)         (None, 3, 3, 8)           0         \n",
            "_________________________________________________________________\n",
            "conv4 (Conv2D)               (None, 3, 3, 32)          2336      \n",
            "_________________________________________________________________\n",
            "pool4 (MaxPooling2D)         (None, 1, 1, 32)          0         \n",
            "_________________________________________________________________\n",
            "flatten (Flatten)            (None, 32)                0         \n",
            "_________________________________________________________________\n",
            "reshape_1 (Reshape)          (None, 1, 1, 32)          0         \n",
            "_________________________________________________________________\n",
            "conv2d_transpose_1 (Conv2DTr (None, 3, 3, 8)           2312      \n",
            "_________________________________________________________________\n",
            "conv2d_transpose_2 (Conv2DTr (None, 7, 7, 16)          3216      \n",
            "_________________________________________________________________\n",
            "conv2d_transpose_3 (Conv2DTr (None, 14, 14, 32)        32800     \n",
            "_________________________________________________________________\n",
            "conv2d_transpose_4 (Conv2DTr (None, 28, 28, 32)        230432    \n",
            "_________________________________________________________________\n",
            "conv2d_1 (Conv2D)            (None, 28, 28, 1)         289       \n",
            "=================================================================\n",
            "Total params: 277,489\n",
            "Trainable params: 277,489\n",
            "Non-trainable params: 0\n",
            "_________________________________________________________________\n"
          ],
          "name": "stdout"
        }
      ]
    },
    {
      "cell_type": "code",
      "metadata": {
        "id": "vzpNkjlCm4Ki",
        "colab_type": "code",
        "outputId": "d925a7d2-4c5a-4dbb-cb05-5e62ca2b915e",
        "colab": {
          "base_uri": "https://localhost:8080/",
          "height": 391
        }
      },
      "source": [
        "from keras.optimizers import Adam\n",
        "adam = Adam(lr=0.001)\n",
        "model.compile(loss='mean_squared_error', optimizer='adam')\n",
        "model.fit(X_train, X_train, validation_data=(X_test, X_test),epochs=10, batch_size=1024, verbose=1)"
      ],
      "execution_count": 0,
      "outputs": [
        {
          "output_type": "stream",
          "text": [
            "Train on 60000 samples, validate on 10000 samples\n",
            "Epoch 1/10\n",
            "60000/60000 [==============================] - 13s 222us/step - loss: 0.0698 - val_loss: 0.0638\n",
            "Epoch 2/10\n",
            "60000/60000 [==============================] - 7s 121us/step - loss: 0.0629 - val_loss: 0.0609\n",
            "Epoch 3/10\n",
            "60000/60000 [==============================] - 7s 122us/step - loss: 0.0533 - val_loss: 0.0459\n",
            "Epoch 4/10\n",
            "60000/60000 [==============================] - 7s 122us/step - loss: 0.0413 - val_loss: 0.0357\n",
            "Epoch 5/10\n",
            "60000/60000 [==============================] - 7s 122us/step - loss: 0.0338 - val_loss: 0.0314\n",
            "Epoch 6/10\n",
            "60000/60000 [==============================] - 7s 122us/step - loss: 0.0296 - val_loss: 0.0279\n",
            "Epoch 7/10\n",
            "60000/60000 [==============================] - 7s 122us/step - loss: 0.0273 - val_loss: 0.0252\n",
            "Epoch 8/10\n",
            "60000/60000 [==============================] - 7s 123us/step - loss: 0.0247 - val_loss: 0.0237\n",
            "Epoch 9/10\n",
            "60000/60000 [==============================] - 7s 122us/step - loss: 0.0232 - val_loss: 0.0221\n",
            "Epoch 10/10\n",
            "60000/60000 [==============================] - 7s 123us/step - loss: 0.0220 - val_loss: 0.0208\n"
          ],
          "name": "stdout"
        },
        {
          "output_type": "execute_result",
          "data": {
            "text/plain": [
              "<keras.callbacks.History at 0x7f6d17bae8d0>"
            ]
          },
          "metadata": {
            "tags": []
          },
          "execution_count": 15
        }
      ]
    },
    {
      "cell_type": "code",
      "metadata": {
        "id": "ykmkAQA9xPDh",
        "colab_type": "code",
        "outputId": "f5987bb5-db4d-49ec-b9ca-be1b47bd3d22",
        "colab": {
          "base_uri": "https://localhost:8080/",
          "height": 268
        }
      },
      "source": [
        "import matplotlib.pyplot as plt\n",
        "%matplotlib inline\n",
        "plt.subplot(221)\n",
        "plt.axis('off')\n",
        "plt.imshow(model.predict(X_test[0,:,:,:].reshape(1,28,28,1)).reshape(28,28), cmap=plt.get_cmap('gray'))\n",
        "plt.subplot(222)\n",
        "plt.axis('off')\n",
        "plt.imshow(model.predict(X_test[1,:,:,:].reshape(1,28,28,1)).reshape(28,28), cmap=plt.get_cmap('gray'))\n",
        "plt.subplot(223)\n",
        "plt.axis('off')\n",
        "plt.imshow(model.predict(X_test[2,:,:,:].reshape(1,28,28,1)).reshape(28,28), cmap=plt.get_cmap('gray'))\n",
        "plt.subplot(224)\n",
        "plt.axis('off')\n",
        "plt.imshow(model.predict(X_test[3,:,:,:].reshape(1,28,28,1)).reshape(28,28), cmap=plt.get_cmap('gray'))\n",
        "plt.show()"
      ],
      "execution_count": 0,
      "outputs": [
        {
          "output_type": "display_data",
          "data": {
            "image/png": "[encoded data removed]",
            "text/plain": [
              "<Figure size 432x288 with 4 Axes>"
            ]
          },
          "metadata": {
            "tags": []
          }
        }
      ]
    },
    {
      "cell_type": "markdown",
      "metadata": {
        "id": "VxaWRzUe1bAp",
        "colab_type": "text"
      },
      "source": [
        "# Grouping similar images"
      ]
    },
    {
      "cell_type": "code",
      "metadata": {
        "id": "5e_GWzEctunk",
        "colab_type": "code",
        "colab": {}
      },
      "source": [
        "(X_train, y_train), (X_test, y_test) = keras.datasets.mnist.load_data()\n",
        "X_train = X_train.reshape(X_train.shape[0],X_train.shape[1]*X_train.shape[2])\n",
        "X_test = X_test.reshape(X_test.shape[0],X_test.shape[1]*X_test.shape[2])\n",
        "X_train = X_train/255\n",
        "X_test = X_test/255"
      ],
      "execution_count": 0,
      "outputs": []
    },
    {
      "cell_type": "code",
      "metadata": {
        "id": "I-UrbWaMuxfh",
        "colab_type": "code",
        "outputId": "f482f325-3317-481b-c57d-c430427f12da",
        "colab": {
          "base_uri": "https://localhost:8080/",
          "height": 221
        }
      },
      "source": [
        "model = Sequential()\n",
        "model.add(Dense(32, input_dim=784, activation='relu'))\n",
        "#model.add(Dense(32,activation='relu'))\n",
        "model.add(Dense(784, activation='relu'))\n",
        "model.summary()"
      ],
      "execution_count": 0,
      "outputs": [
        {
          "output_type": "stream",
          "text": [
            "Model: \"sequential_4\"\n",
            "_________________________________________________________________\n",
            "Layer (type)                 Output Shape              Param #   \n",
            "=================================================================\n",
            "dense_7 (Dense)              (None, 32)                25120     \n",
            "_________________________________________________________________\n",
            "dense_8 (Dense)              (None, 784)               25872     \n",
            "=================================================================\n",
            "Total params: 50,992\n",
            "Trainable params: 50,992\n",
            "Non-trainable params: 0\n",
            "_________________________________________________________________\n"
          ],
          "name": "stdout"
        }
      ]
    },
    {
      "cell_type": "code",
      "metadata": {
        "id": "5jCnroR7up1_",
        "colab_type": "code",
        "outputId": "22b0c3a6-1b2f-40e1-fb9a-a38755eb495a",
        "colab": {
          "base_uri": "https://localhost:8080/",
          "height": 391
        }
      },
      "source": [
        "model.compile(loss='mean_squared_error', optimizer='adam',metrics=['accuracy'])\n",
        "model.fit(X_train, X_train, validation_data=(X_test, X_test),epochs=10, batch_size=1024, verbose=1)"
      ],
      "execution_count": 0,
      "outputs": [
        {
          "output_type": "stream",
          "text": [
            "Train on 60000 samples, validate on 10000 samples\n",
            "Epoch 1/10\n",
            "60000/60000 [==============================] - 1s 18us/step - loss: 0.0672 - acc: 0.0092 - val_loss: 0.0476 - val_acc: 0.0101\n",
            "Epoch 2/10\n",
            "60000/60000 [==============================] - 1s 13us/step - loss: 0.0387 - acc: 0.0106 - val_loss: 0.0313 - val_acc: 0.0083\n",
            "Epoch 3/10\n",
            "60000/60000 [==============================] - 1s 13us/step - loss: 0.0278 - acc: 0.0108 - val_loss: 0.0242 - val_acc: 0.0099\n",
            "Epoch 4/10\n",
            "60000/60000 [==============================] - 1s 13us/step - loss: 0.0225 - acc: 0.0107 - val_loss: 0.0202 - val_acc: 0.0088\n",
            "Epoch 5/10\n",
            "60000/60000 [==============================] - 1s 13us/step - loss: 0.0194 - acc: 0.0108 - val_loss: 0.0180 - val_acc: 0.0100\n",
            "Epoch 6/10\n",
            "60000/60000 [==============================] - 1s 13us/step - loss: 0.0177 - acc: 0.0111 - val_loss: 0.0168 - val_acc: 0.0100\n",
            "Epoch 7/10\n",
            "60000/60000 [==============================] - 1s 13us/step - loss: 0.0168 - acc: 0.0111 - val_loss: 0.0161 - val_acc: 0.0110\n",
            "Epoch 8/10\n",
            "60000/60000 [==============================] - 1s 13us/step - loss: 0.0161 - acc: 0.0116 - val_loss: 0.0156 - val_acc: 0.0109\n",
            "Epoch 9/10\n",
            "60000/60000 [==============================] - 1s 13us/step - loss: 0.0157 - acc: 0.0118 - val_loss: 0.0152 - val_acc: 0.0108\n",
            "Epoch 10/10\n",
            "60000/60000 [==============================] - 1s 13us/step - loss: 0.0154 - acc: 0.0120 - val_loss: 0.0150 - val_acc: 0.0119\n"
          ],
          "name": "stdout"
        },
        {
          "output_type": "execute_result",
          "data": {
            "text/plain": [
              "<keras.callbacks.History at 0x7f6d172f96d8>"
            ]
          },
          "metadata": {
            "tags": []
          },
          "execution_count": 19
        }
      ]
    },
    {
      "cell_type": "code",
      "metadata": {
        "id": "qlQXwdopvBO5",
        "colab_type": "code",
        "outputId": "e3dc44e4-aef3-4acc-a32f-58e2dfa932de",
        "colab": {
          "base_uri": "https://localhost:8080/",
          "height": 268
        }
      },
      "source": [
        "import matplotlib.pyplot as plt\n",
        "%matplotlib inline\n",
        "plt.subplot(221)\n",
        "plt.imshow(model.predict(X_test[0,:].reshape(1,784)).reshape(28,28), cmap=plt.get_cmap('gray'))\n",
        "plt.axis('off')\n",
        "plt.subplot(222)\n",
        "plt.imshow(model.predict(X_test[1,:].reshape(1,784)).reshape(28,28), cmap=plt.get_cmap('gray'))\n",
        "plt.axis('off')\n",
        "plt.subplot(223)\n",
        "plt.imshow(model.predict(X_test[2,:].reshape(1,784)).reshape(28,28), cmap=plt.get_cmap('gray'))\n",
        "plt.axis('off')\n",
        "plt.subplot(224)\n",
        "plt.imshow(model.predict(X_test[3,:].reshape(1,784)).reshape(28,28), cmap=plt.get_cmap('gray'))\n",
        "plt.axis('off')\n",
        "plt.show()"
      ],
      "execution_count": 0,
      "outputs": [
        {
          "output_type": "display_data",
          "data": {
            "image/png": "[encoded data removed]",
            "text/plain": [
              "<Figure size 432x288 with 4 Axes>"
            ]
          },
          "metadata": {
            "tags": []
          }
        }
      ]
    },
    {
      "cell_type": "code",
      "metadata": {
        "id": "b-Bolmdo3q1b",
        "colab_type": "code",
        "outputId": "a506938b-62ee-47a5-d229-d0e3b12e3b51",
        "colab": {
          "base_uri": "https://localhost:8080/",
          "height": 268
        }
      },
      "source": [
        "import matplotlib.pyplot as plt\n",
        "%matplotlib inline\n",
        "plt.subplot(221)\n",
        "plt.imshow((X_test[0,:].reshape(1,784)).reshape(28,28), cmap=plt.get_cmap('gray'))\n",
        "plt.axis('off')\n",
        "plt.subplot(222)\n",
        "plt.imshow((X_test[1,:].reshape(1,784)).reshape(28,28), cmap=plt.get_cmap('gray'))\n",
        "plt.axis('off')\n",
        "plt.subplot(223)\n",
        "plt.imshow((X_test[2,:].reshape(1,784)).reshape(28,28), cmap=plt.get_cmap('gray'))\n",
        "plt.axis('off')\n",
        "plt.subplot(224)\n",
        "plt.imshow((X_test[3,:].reshape(1,784)).reshape(28,28), cmap=plt.get_cmap('gray'))\n",
        "plt.axis('off')\n",
        "plt.show()"
      ],
      "execution_count": 0,
      "outputs": [
        {
          "output_type": "display_data",
          "data": {
            "image/png": "[encoded data removed]",
            "text/plain": [
              "<Figure size 432x288 with 4 Axes>"
            ]
          },
          "metadata": {
            "tags": []
          }
        }
      ]
    },
    {
      "cell_type": "code",
      "metadata": {
        "id": "yMgMIU2Qu1IW",
        "colab_type": "code",
        "outputId": "8a796282-29c8-4891-825e-2f76ba549ea2",
        "colab": {
          "base_uri": "https://localhost:8080/",
          "height": 286
        }
      },
      "source": [
        "img=model.predict(X_test[1,:].reshape(1,784)).reshape(28,28)\n",
        "import matplotlib.pyplot as plt\n",
        "%matplotlib inline\n",
        "plt.imshow(img)"
      ],
      "execution_count": 0,
      "outputs": [
        {
          "output_type": "execute_result",
          "data": {
            "text/plain": [
              "<matplotlib.image.AxesImage at 0x7f6d16e41048>"
            ]
          },
          "metadata": {
            "tags": []
          },
          "execution_count": 22
        },
        {
          "output_type": "display_data",
          "data": {
            "image/png": "[encoded data removed]",
            "text/plain": [
              "<Figure size 432x288 with 1 Axes>"
            ]
          },
          "metadata": {
            "tags": []
          }
        }
      ]
    },
    {
      "cell_type": "code",
      "metadata": {
        "id": "Wjmzz6-rELCY",
        "colab_type": "code",
        "outputId": "805ca8f9-36cf-45e7-8bcf-979045e98e6c",
        "colab": {
          "base_uri": "https://localhost:8080/",
          "height": 238
        }
      },
      "source": [
        "!pip install bokeh"
      ],
      "execution_count": 0,
      "outputs": [
        {
          "output_type": "stream",
          "text": [
            "Requirement already satisfied: bokeh in /usr/local/lib/python3.6/dist-packages (1.0.4)\n",
            "Requirement already satisfied: pillow>=4.0 in /usr/local/lib/python3.6/dist-packages (from bokeh) (4.3.0)\n",
            "Requirement already satisfied: packaging>=16.8 in /usr/local/lib/python3.6/dist-packages (from bokeh) (19.1)\n",
            "Requirement already satisfied: python-dateutil>=2.1 in /usr/local/lib/python3.6/dist-packages (from bokeh) (2.5.3)\n",
            "Requirement already satisfied: tornado>=4.3 in /usr/local/lib/python3.6/dist-packages (from bokeh) (4.5.3)\n",
            "Requirement already satisfied: numpy>=1.7.1 in /usr/local/lib/python3.6/dist-packages (from bokeh) (1.16.5)\n",
            "Requirement already satisfied: six>=1.5.2 in /usr/local/lib/python3.6/dist-packages (from bokeh) (1.12.0)\n",
            "Requirement already satisfied: Jinja2>=2.7 in /usr/local/lib/python3.6/dist-packages (from bokeh) (2.10.1)\n",
            "Requirement already satisfied: PyYAML>=3.10 in /usr/local/lib/python3.6/dist-packages (from bokeh) (3.13)\n",
            "Requirement already satisfied: olefile in /usr/local/lib/python3.6/dist-packages (from pillow>=4.0->bokeh) (0.46)\n",
            "Requirement already satisfied: attrs in /usr/local/lib/python3.6/dist-packages (from packaging>=16.8->bokeh) (19.1.0)\n",
            "Requirement already satisfied: pyparsing>=2.0.2 in /usr/local/lib/python3.6/dist-packages (from packaging>=16.8->bokeh) (2.4.2)\n",
            "Requirement already satisfied: MarkupSafe>=0.23 in /usr/local/lib/python3.6/dist-packages (from Jinja2>=2.7->bokeh) (1.1.1)\n"
          ],
          "name": "stdout"
        }
      ]
    },
    {
      "cell_type": "code",
      "metadata": {
        "id": "5qcVsBT7A7qG",
        "colab_type": "code",
        "outputId": "c21d2323-ef4c-43fb-d2bf-b540748bac33",
        "colab": {
          "base_uri": "https://localhost:8080/",
          "height": 221
        }
      },
      "source": [
        "model.summary()"
      ],
      "execution_count": 0,
      "outputs": [
        {
          "output_type": "stream",
          "text": [
            "Model: \"sequential_4\"\n",
            "_________________________________________________________________\n",
            "Layer (type)                 Output Shape              Param #   \n",
            "=================================================================\n",
            "dense_7 (Dense)              (None, 32)                25120     \n",
            "_________________________________________________________________\n",
            "dense_8 (Dense)              (None, 784)               25872     \n",
            "=================================================================\n",
            "Total params: 50,992\n",
            "Trainable params: 50,992\n",
            "Non-trainable params: 0\n",
            "_________________________________________________________________\n"
          ],
          "name": "stdout"
        }
      ]
    },
    {
      "cell_type": "code",
      "metadata": {
        "id": "V2XWZma5Gagt",
        "colab_type": "code",
        "colab": {}
      },
      "source": [
        "from keras.models import Model\n",
        "layer_name = 'dense_1'\n",
        "intermediate_layer_model = Model(inputs=model.input,outputs=model.get_layer(layer_name).output)"
      ],
      "execution_count": 0,
      "outputs": []
    },
    {
      "cell_type": "code",
      "metadata": {
        "id": "AJC5HYmsGgOJ",
        "colab_type": "code",
        "colab": {}
      },
      "source": [
        "intermediate_output = intermediate_layer_model.predict(X_test)"
      ],
      "execution_count": 0,
      "outputs": []
    },
    {
      "cell_type": "code",
      "metadata": {
        "id": "fitYrMsJGj8I",
        "colab_type": "code",
        "outputId": "37eadaff-9ad0-4239-f646-df807899b903",
        "colab": {
          "base_uri": "https://localhost:8080/",
          "height": 34
        }
      },
      "source": [
        "intermediate_output.shape"
      ],
      "execution_count": 9,
      "outputs": [
        {
          "output_type": "execute_result",
          "data": {
            "text/plain": [
              "(10000, 32)"
            ]
          },
          "metadata": {
            "tags": []
          },
          "execution_count": 9
        }
      ]
    },
    {
      "cell_type": "code",
      "metadata": {
        "id": "tSnKG5oMu8kS",
        "colab_type": "code",
        "colab": {}
      },
      "source": [
        "import bokeh.plotting as bp\n",
        "from bokeh.models import HoverTool, BoxSelectTool\n",
        "from bokeh.plotting import figure, show, output_notebook"
      ],
      "execution_count": 0,
      "outputs": []
    },
    {
      "cell_type": "code",
      "metadata": {
        "id": "SbIPwCsBEGjf",
        "colab_type": "code",
        "colab": {}
      },
      "source": [
        "output_notebook()\n",
        "plot_tfidf = bp.figure(plot_width=700, plot_height=600, title=\"A map of 10000 word vectors\",\n",
        "    tools=\"pan,wheel_zoom,box_zoom,reset,hover,previewsave\",\n",
        "    x_axis_type=None, y_axis_type=None, min_border=1)"
      ],
      "execution_count": 0,
      "outputs": []
    },
    {
      "cell_type": "code",
      "metadata": {
        "id": "Tr5Q15g2FEno",
        "colab_type": "code",
        "outputId": "207391c0-cf08-4c1f-985a-6dadee281604",
        "colab": {
          "base_uri": "https://localhost:8080/",
          "height": 289
        }
      },
      "source": [
        "from sklearn.manifold import TSNE\n",
        "tsne_model = TSNE(n_components=2, verbose=1, random_state=0)\n",
        "tsne_img_label = tsne_model.fit_transform(intermediate_output)"
      ],
      "execution_count": 12,
      "outputs": [
        {
          "output_type": "stream",
          "text": [
            "[t-SNE] Computing 91 nearest neighbors...\n",
            "[t-SNE] Indexed 10000 samples in 0.015s...\n",
            "[t-SNE] Computed neighbors for 10000 samples in 6.194s...\n",
            "[t-SNE] Computed conditional probabilities for sample 1000 / 10000\n",
            "[t-SNE] Computed conditional probabilities for sample 2000 / 10000\n",
            "[t-SNE] Computed conditional probabilities for sample 3000 / 10000\n",
            "[t-SNE] Computed conditional probabilities for sample 4000 / 10000\n",
            "[t-SNE] Computed conditional probabilities for sample 5000 / 10000\n",
            "[t-SNE] Computed conditional probabilities for sample 6000 / 10000\n",
            "[t-SNE] Computed conditional probabilities for sample 7000 / 10000\n",
            "[t-SNE] Computed conditional probabilities for sample 8000 / 10000\n",
            "[t-SNE] Computed conditional probabilities for sample 9000 / 10000\n",
            "[t-SNE] Computed conditional probabilities for sample 10000 / 10000\n",
            "[t-SNE] Mean sigma: 2.021173\n",
            "[t-SNE] KL divergence after 250 iterations with early exaggeration: 88.053978\n",
            "[t-SNE] KL divergence after 1000 iterations: 1.791864\n"
          ],
          "name": "stdout"
        }
      ]
    },
    {
      "cell_type": "code",
      "metadata": {
        "id": "o0o7_76eFMhz",
        "colab_type": "code",
        "colab": {}
      },
      "source": [
        "import pandas as pd\n",
        "import numpy as np\n",
        "tsne_df = pd.DataFrame(tsne_img_label, columns=['x', 'y'])\n",
        "tsne_df['image_label'] = y_test"
      ],
      "execution_count": 0,
      "outputs": []
    },
    {
      "cell_type": "code",
      "metadata": {
        "id": "85UpF748_8PV",
        "colab_type": "code",
        "colab": {
          "base_uri": "https://localhost:8080/",
          "height": 286
        },
        "outputId": "9aa5e90b-5b34-40a5-e3e4-5d14dcf13bcc"
      },
      "source": [
        "import matplotlib.pyplot as plt\n",
        "%matplotlib inline\n",
        "plt.figure(figsize=(12,4))\n",
        "plt.subplot(1,2,1)\n",
        "cmap = plt.cm.get_cmap('jet')\n",
        "plt.scatter(tsne_df['x'], tsne_df['y'], \n",
        "            alpha=0.5, c=y_test, cmap=cmap, s=10)\n",
        "plt.colorbar()"
      ],
      "execution_count": 16,
      "outputs": [
        {
          "output_type": "execute_result",
          "data": {
            "text/plain": [
              "<matplotlib.colorbar.Colorbar at 0x7f2abc032978>"
            ]
          },
          "metadata": {
            "tags": []
          },
          "execution_count": 16
        },
        {
          "output_type": "display_data",
          "data": {
            "image/png": "[encoded data removed]",
            "text/plain": [
              "<Figure size 864x288 with 2 Axes>"
            ]
          },
          "metadata": {
            "tags": []
          }
        }
      ]
    },
    {
      "cell_type": "code",
      "metadata": {
        "id": "EdGIIMjvIPzS",
        "colab_type": "code",
        "colab": {}
      },
      "source": [
        ""
      ],
      "execution_count": 0,
      "outputs": []
    }
  ]
}